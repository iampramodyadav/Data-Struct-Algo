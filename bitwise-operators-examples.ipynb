{
 "cells": [
  {
   "cell_type": "markdown",
   "id": "40a033b5",
   "metadata": {},
   "source": [
    "# Common mathematical uses of bitwise operators in Python"
   ]
  },
  {
   "cell_type": "markdown",
   "id": "344bfda0",
   "metadata": {},
   "source": [
    "Bitwise operators are useful in mathematics for performing bitwise operations on binary numbers. Here are some common mathematical uses of bitwise operators in Python:"
   ]
  },
  {
   "cell_type": "markdown",
   "id": "aa33eed2",
   "metadata": {},
   "source": [
    "| Operator | Name                 | Description                                                                                             | Example |\n",
    "|----------|----------------------|---------------------------------------------------------------------------------------------------------|---------|\n",
    "| &        | AND                  | Sets each bit to 1 if both bits are 1                                                                   | x & y   |\n",
    "| \\|       | OR                   | Sets each bit to 1 if one of two bits is 1                                                              | x \\| y  |\n",
    "| ^        | XOR                  | Sets each bit to 1 if only one of two bits is 1  otherwise 0                                                       | x ^ y   |\n",
    "| ~        | NOT                  | Inverts all the bits                                                                                    | ~x      |\n",
    "| <<       | Zero fill left shift | Shift left by pushing zeros in from the right and let the leftmost bits fall off                        | x << 2  |\n",
    "| >>       | Signed right shift   | Shift right by pushing copies of the leftmost bit in from the left, and let the rightmost bits fall off | x >> 2  |"
   ]
  },
  {
   "cell_type": "markdown",
   "id": "e550777f",
   "metadata": {},
   "source": [
    "## Finding the parity of a number: \n",
    "The parity of a number refers to whether it has an odd or even number of set bits (bits set to 1). \n",
    "You can use the XOR (^) operator to find the parity of a number.\n",
    "\n",
    "\n",
    "The parity of a binary word is:\n",
    "\n",
    "- 1 if the word contains an *odd number of 1s* and,\n",
    "- 0 if it contains an *even number of ones*."
   ]
  },
  {
   "cell_type": "code",
   "execution_count": 25,
   "id": "e91cd70a",
   "metadata": {
    "ExecuteTime": {
     "end_time": "2023-05-11T17:10:00.804353Z",
     "start_time": "2023-05-11T17:10:00.788486Z"
    }
   },
   "outputs": [],
   "source": [
    "# num = 15\n",
    "def parit(num):\n",
    "    parity = 0\n",
    "    \n",
    "    while num:\n",
    "        parity ^= num & 1 \n",
    "    #     parity = parity ^ num & 1\n",
    "        num >>= 1\n",
    "    if parity:\n",
    "        print(\"Number has odd parity\")\n",
    "    else:\n",
    "        print(\"Number has even parity\")"
   ]
  },
  {
   "cell_type": "code",
   "execution_count": 26,
   "id": "fdb84cb3",
   "metadata": {
    "ExecuteTime": {
     "end_time": "2023-05-11T17:10:01.379201Z",
     "start_time": "2023-05-11T17:10:01.370896Z"
    }
   },
   "outputs": [
    {
     "name": "stdout",
     "output_type": "stream",
     "text": [
      "Number has even parity\n"
     ]
    }
   ],
   "source": [
    "parit(15)"
   ]
  },
  {
   "cell_type": "code",
   "execution_count": 27,
   "id": "63de1a6a",
   "metadata": {
    "ExecuteTime": {
     "end_time": "2023-05-11T17:10:02.728145Z",
     "start_time": "2023-05-11T17:10:02.713481Z"
    }
   },
   "outputs": [
    {
     "name": "stdout",
     "output_type": "stream",
     "text": [
      "Number has odd parity\n"
     ]
    }
   ],
   "source": [
    "parit(14)"
   ]
  },
  {
   "cell_type": "markdown",
   "id": "358cda0e",
   "metadata": {},
   "source": [
    "## Finding the maximum and minimum of two numbers:\n",
    "\n",
    "You can use the bitwise operators to find the maximum and minimum of two numbers without using conditional statements."
   ]
  },
  {
   "cell_type": "markdown",
   "id": "da7fbb98",
   "metadata": {},
   "source": [
    "**Methode-1**"
   ]
  },
  {
   "cell_type": "code",
   "execution_count": 91,
   "id": "3f4050a7",
   "metadata": {
    "ExecuteTime": {
     "end_time": "2023-05-11T17:33:09.321649Z",
     "start_time": "2023-05-11T17:33:09.305290Z"
    }
   },
   "outputs": [],
   "source": [
    "def max_num(a, b):\n",
    "    return a ^ ((a ^ b) & -(a < b))\n",
    "\n",
    "def min_num(a, b):\n",
    "    return b ^ ((a ^ b) & -(a < b))"
   ]
  },
  {
   "cell_type": "code",
   "execution_count": 92,
   "id": "63a0ae71",
   "metadata": {
    "ExecuteTime": {
     "end_time": "2023-05-11T17:33:09.877892Z",
     "start_time": "2023-05-11T17:33:09.865156Z"
    }
   },
   "outputs": [
    {
     "name": "stdout",
     "output_type": "stream",
     "text": [
      "15\n",
      "10\n"
     ]
    }
   ],
   "source": [
    "print(max_num(0, 15))  # Output: 10\n",
    "print(min_num(10, 20))  # Output: 5"
   ]
  },
  {
   "cell_type": "code",
   "execution_count": 139,
   "id": "f0a67dd2",
   "metadata": {
    "ExecuteTime": {
     "end_time": "2023-05-11T18:14:56.750525Z",
     "start_time": "2023-05-11T18:14:56.735393Z"
    }
   },
   "outputs": [
    {
     "data": {
      "text/plain": [
       "8"
      ]
     },
     "execution_count": 139,
     "metadata": {},
     "output_type": "execute_result"
    }
   ],
   "source": [
    "a=5   # 10\n",
    "\n",
    "b=8   # 01\n",
    "\n",
    "a ^ (a ^ b)"
   ]
  },
  {
   "cell_type": "code",
   "execution_count": 134,
   "id": "39957064",
   "metadata": {
    "ExecuteTime": {
     "end_time": "2023-05-11T18:10:29.141008Z",
     "start_time": "2023-05-11T18:10:29.126336Z"
    }
   },
   "outputs": [
    {
     "data": {
      "text/plain": [
       "0"
      ]
     },
     "execution_count": 134,
     "metadata": {},
     "output_type": "execute_result"
    }
   ],
   "source": [
    "4^4"
   ]
  },
  {
   "cell_type": "code",
   "execution_count": 94,
   "id": "e33d58e6",
   "metadata": {
    "ExecuteTime": {
     "end_time": "2023-05-11T17:38:43.295866Z",
     "start_time": "2023-05-11T17:38:43.286671Z"
    }
   },
   "outputs": [
    {
     "name": "stdout",
     "output_type": "stream",
     "text": [
      "-1\n"
     ]
    }
   ],
   "source": [
    "'''\n",
    "    Inverted 0 becomes -1:\n",
    "     0 = 0000000000000000   :False\n",
    "    -1 = 1111111111111111   :-True\n",
    "'''\n",
    "print(~0)"
   ]
  },
  {
   "cell_type": "markdown",
   "id": "fbabd428",
   "metadata": {},
   "source": [
    "**Methode-2**"
   ]
  },
  {
   "cell_type": "markdown",
   "id": "fad178a8",
   "metadata": {},
   "source": [
    "Finding the maximum and minimum of two numbers: The bitwise AND and OR operators can be used to find the maximum and minimum of two numbers. To find the maximum, we perform a bitwise AND operation with the difference between the numbers and add it to the smaller number. To find the minimum, we perform a bitwise OR operation with the difference and subtract it from the larger number."
   ]
  },
  {
   "cell_type": "code",
   "execution_count": 154,
   "id": "1c8aaf7b",
   "metadata": {
    "ExecuteTime": {
     "end_time": "2023-05-11T18:52:39.175018Z",
     "start_time": "2023-05-11T18:52:39.162438Z"
    }
   },
   "outputs": [
    {
     "name": "stdout",
     "output_type": "stream",
     "text": [
      "150\n",
      "15\n"
     ]
    }
   ],
   "source": [
    "def find_max(num1, num2):\n",
    "#     print((num1 - num2) >> 31)\n",
    "#     print((num1 - num2) & ((num1 - num2) >> 31))\n",
    "    return num1 - ((num1 - num2) & ((num1 - num2) >> 31))\n",
    "\n",
    "def find_min(num1, num2):\n",
    "#     print((num1 - num2) >> 31)\n",
    "    return num2 + ((num1 - num2) & ((num1 - num2) >> 31))\n",
    "\n",
    "print(find_max(20, 150))  # Output: 10\n",
    "print(find_min(100, 15))  # Output: 5\n"
   ]
  },
  {
   "cell_type": "markdown",
   "id": "d2d93b61",
   "metadata": {},
   "source": [
    "**Methode-3**"
   ]
  },
  {
   "cell_type": "markdown",
   "id": "29c5bb6e",
   "metadata": {},
   "source": [
    "Finding the maximum and minimum of two numbers: Bitwise AND and OR can be used to find the maximum and minimum of two numbers. To find the maximum, we XOR the numbers, AND the result with the negation of their difference, and then XOR the result with the larger number. To find the minimum, we do the same thing but XOR with the smaller number."
   ]
  },
  {
   "cell_type": "code",
   "execution_count": 159,
   "id": "5af41a7d",
   "metadata": {
    "ExecuteTime": {
     "end_time": "2023-05-11T18:53:53.923421Z",
     "start_time": "2023-05-11T18:53:53.911399Z"
    }
   },
   "outputs": [
    {
     "name": "stdout",
     "output_type": "stream",
     "text": [
      "20 10\n"
     ]
    }
   ],
   "source": [
    "# finding the maximum and minimum of two numbers using AND, OR and XOR\n",
    "a = 10\n",
    "b = 20\n",
    "max_val = b ^ ((a ^ b) & -(a > b))\n",
    "min_val = a ^ ((a ^ b) & -(a > b))\n",
    "print(max_val, min_val)  # Output: 20, 10"
   ]
  },
  {
   "cell_type": "markdown",
   "id": "b9cd4733",
   "metadata": {},
   "source": [
    "**Methode-4**"
   ]
  },
  {
   "cell_type": "markdown",
   "id": "14b37f09",
   "metadata": {},
   "source": [
    "Finding the maximum and minimum of two numbers using bitwise operators:"
   ]
  },
  {
   "cell_type": "code",
   "execution_count": 161,
   "id": "058f54dc",
   "metadata": {
    "ExecuteTime": {
     "end_time": "2023-05-11T18:56:15.662717Z",
     "start_time": "2023-05-11T18:56:15.653574Z"
    }
   },
   "outputs": [
    {
     "name": "stdout",
     "output_type": "stream",
     "text": [
      "Maximum of 10 and 20 is:  20\n",
      "Minimum of 10 and 20 is:  10\n"
     ]
    }
   ],
   "source": [
    "# Finding the maximum and minimum of two numbers\n",
    "x = 10\n",
    "y = 20\n",
    "max_num = y ^ ((x ^ y) & (x < y))\n",
    "min_num = x ^ ((x ^ y) & (x < y))\n",
    "print(\"Maximum of\", x, \"and\", y, \"is: \", max_num)\n",
    "print(\"Minimum of\", x, \"and\", y, \"is: \", min_num)"
   ]
  },
  {
   "cell_type": "markdown",
   "id": "e92baf40",
   "metadata": {},
   "source": [
    "## Swapping two numbers: \n",
    "\n",
    "You can use the XOR (^) operator to swap two numbers without using a temporary variable."
   ]
  },
  {
   "cell_type": "code",
   "execution_count": 163,
   "id": "7518a805",
   "metadata": {
    "ExecuteTime": {
     "end_time": "2023-05-11T19:00:19.124723Z",
     "start_time": "2023-05-11T19:00:19.114204Z"
    }
   },
   "outputs": [],
   "source": [
    "def swap(a,b):\n",
    "    a ^= b\n",
    "    b ^= a\n",
    "    a ^= b\n",
    "    print(\"a =\", a)  # Output: a = 5\n",
    "    print(\"b =\", b)  # Output: b = 10\n"
   ]
  },
  {
   "cell_type": "code",
   "execution_count": 164,
   "id": "784eaf7f",
   "metadata": {
    "ExecuteTime": {
     "end_time": "2023-05-11T19:00:46.623898Z",
     "start_time": "2023-05-11T19:00:46.607525Z"
    }
   },
   "outputs": [
    {
     "name": "stdout",
     "output_type": "stream",
     "text": [
      "a = 5\n",
      "b = 10\n"
     ]
    }
   ],
   "source": [
    "a, b = 10, 5\n",
    "swap(a, b)"
   ]
  },
  {
   "cell_type": "markdown",
   "id": "0e34d7d8",
   "metadata": {},
   "source": [
    "Swapping two variables: Bitwise XOR can be used to swap two variables without using a temporary variable. This is done by XOR-ing one variable with the other and then XOR-ing the result with the original value of the other variable."
   ]
  },
  {
   "cell_type": "code",
   "execution_count": 165,
   "id": "5ec534b3",
   "metadata": {
    "ExecuteTime": {
     "end_time": "2023-05-11T19:02:52.500349Z",
     "start_time": "2023-05-11T19:02:52.491799Z"
    }
   },
   "outputs": [],
   "source": [
    "# swapping two variables using XOR\n",
    "def swap(a,b):\n",
    "    a = a ^ b\n",
    "    b = a ^ b\n",
    "    a = a ^ b\n",
    "    return(a, b)  # Output: 20, 10\n"
   ]
  },
  {
   "cell_type": "code",
   "execution_count": 166,
   "id": "a76be6d3",
   "metadata": {
    "ExecuteTime": {
     "end_time": "2023-05-11T19:02:53.384751Z",
     "start_time": "2023-05-11T19:02:53.373304Z"
    }
   },
   "outputs": [
    {
     "data": {
      "text/plain": [
       "(20, 10)"
      ]
     },
     "execution_count": 166,
     "metadata": {},
     "output_type": "execute_result"
    }
   ],
   "source": [
    "a = 10\n",
    "b = 20\n",
    "swap(a,b)"
   ]
  },
  {
   "cell_type": "markdown",
   "id": "32d7151e",
   "metadata": {},
   "source": [
    "## Finding the power of 2: \n",
    "\n",
    "You can use the left shift (<<) operator to find the power of 2."
   ]
  },
  {
   "cell_type": "code",
   "execution_count": 176,
   "id": "3ab2676f",
   "metadata": {
    "ExecuteTime": {
     "end_time": "2023-05-11T19:10:14.974581Z",
     "start_time": "2023-05-11T19:10:14.964266Z"
    }
   },
   "outputs": [],
   "source": [
    "def twopower(n):\n",
    "    return 1 << n"
   ]
  },
  {
   "cell_type": "code",
   "execution_count": 171,
   "id": "25571b12",
   "metadata": {
    "ExecuteTime": {
     "end_time": "2023-05-11T19:09:04.187821Z",
     "start_time": "2023-05-11T19:09:04.168220Z"
    }
   },
   "outputs": [
    {
     "data": {
      "text/plain": [
       "4"
      ]
     },
     "execution_count": 171,
     "metadata": {},
     "output_type": "execute_result"
    }
   ],
   "source": [
    "twopower(2)"
   ]
  },
  {
   "cell_type": "code",
   "execution_count": 172,
   "id": "18052ff0",
   "metadata": {
    "ExecuteTime": {
     "end_time": "2023-05-11T19:09:20.536237Z",
     "start_time": "2023-05-11T19:09:20.531186Z"
    }
   },
   "outputs": [
    {
     "data": {
      "text/plain": [
       "8"
      ]
     },
     "execution_count": 172,
     "metadata": {},
     "output_type": "execute_result"
    }
   ],
   "source": [
    "twopower(3)"
   ]
  },
  {
   "cell_type": "code",
   "execution_count": 173,
   "id": "8c7d13db",
   "metadata": {
    "ExecuteTime": {
     "end_time": "2023-05-11T19:09:29.135038Z",
     "start_time": "2023-05-11T19:09:29.122473Z"
    }
   },
   "outputs": [
    {
     "data": {
      "text/plain": [
       "16"
      ]
     },
     "execution_count": 173,
     "metadata": {},
     "output_type": "execute_result"
    }
   ],
   "source": [
    "twopower(4)"
   ]
  },
  {
   "cell_type": "code",
   "execution_count": 174,
   "id": "7797b910",
   "metadata": {
    "ExecuteTime": {
     "end_time": "2023-05-11T19:09:49.251758Z",
     "start_time": "2023-05-11T19:09:49.246759Z"
    }
   },
   "outputs": [
    {
     "data": {
      "text/plain": [
       "32"
      ]
     },
     "execution_count": 174,
     "metadata": {},
     "output_type": "execute_result"
    }
   ],
   "source": [
    "twopower(5)"
   ]
  },
  {
   "cell_type": "code",
   "execution_count": 175,
   "id": "9019f340",
   "metadata": {
    "ExecuteTime": {
     "end_time": "2023-05-11T19:09:58.094018Z",
     "start_time": "2023-05-11T19:09:58.077455Z"
    }
   },
   "outputs": [
    {
     "data": {
      "text/plain": [
       "64"
      ]
     },
     "execution_count": 175,
     "metadata": {},
     "output_type": "execute_result"
    }
   ],
   "source": [
    "twopower(6)"
   ]
  },
  {
   "cell_type": "markdown",
   "id": "ff935c9e",
   "metadata": {},
   "source": [
    "## Finding the number of set bits: \n",
    "\n",
    "You can use the bitwise AND (&) and right shift (>>) operators to count the number of set bits in a number."
   ]
  },
  {
   "cell_type": "markdown",
   "id": "c8b66d84",
   "metadata": {},
   "source": [
    "number of 1s in the binary representation of an integer.\n",
    "\n",
    "![](https://media.geeksforgeeks.org/wp-content/cdn-uploads/setbit.png)"
   ]
  },
  {
   "cell_type": "code",
   "execution_count": 181,
   "id": "96ed43bf",
   "metadata": {
    "ExecuteTime": {
     "end_time": "2023-05-11T19:14:29.487432Z",
     "start_time": "2023-05-11T19:14:29.475789Z"
    }
   },
   "outputs": [],
   "source": [
    "def count_set_bits(num):\n",
    "    count = 0\n",
    "    \n",
    "    while num:\n",
    "        count += num & 1\n",
    "        num >>= 1\n",
    "        \n",
    "    return count\n"
   ]
  },
  {
   "cell_type": "code",
   "execution_count": 182,
   "id": "0961b5c3",
   "metadata": {
    "ExecuteTime": {
     "end_time": "2023-05-11T19:14:30.077447Z",
     "start_time": "2023-05-11T19:14:30.070384Z"
    }
   },
   "outputs": [
    {
     "name": "stdout",
     "output_type": "stream",
     "text": [
      "3\n"
     ]
    }
   ],
   "source": [
    "print(count_set_bits(13))  "
   ]
  },
  {
   "cell_type": "code",
   "execution_count": 183,
   "id": "77e093aa",
   "metadata": {
    "ExecuteTime": {
     "end_time": "2023-05-11T19:14:31.658805Z",
     "start_time": "2023-05-11T19:14:31.645123Z"
    }
   },
   "outputs": [
    {
     "name": "stdout",
     "output_type": "stream",
     "text": [
      "4\n"
     ]
    }
   ],
   "source": [
    "print(count_set_bits(15)) "
   ]
  },
  {
   "cell_type": "markdown",
   "id": "a7c6ba36",
   "metadata": {},
   "source": [
    "## Checking if a number is a power of 2: \n",
    "\n",
    "You can use the bitwise AND (&) operator to check if a number is a power of 2."
   ]
  },
  {
   "cell_type": "code",
   "execution_count": 185,
   "id": "31f349d1",
   "metadata": {
    "ExecuteTime": {
     "end_time": "2023-05-11T19:15:19.803297Z",
     "start_time": "2023-05-11T19:15:19.792848Z"
    }
   },
   "outputs": [],
   "source": [
    "def is_power_of_2(num):\n",
    "    return num != 0 and (num & (num - 1)) == 0"
   ]
  },
  {
   "cell_type": "code",
   "execution_count": 186,
   "id": "e2a80772",
   "metadata": {
    "ExecuteTime": {
     "end_time": "2023-05-11T19:15:20.636456Z",
     "start_time": "2023-05-11T19:15:20.625400Z"
    },
    "run_control": {
     "marked": false
    }
   },
   "outputs": [
    {
     "name": "stdout",
     "output_type": "stream",
     "text": [
      "True\n"
     ]
    }
   ],
   "source": [
    "print(is_power_of_2(8))  "
   ]
  },
  {
   "cell_type": "code",
   "execution_count": 189,
   "id": "e1ea9b40",
   "metadata": {
    "ExecuteTime": {
     "end_time": "2023-05-11T19:15:52.028603Z",
     "start_time": "2023-05-11T19:15:52.019453Z"
    }
   },
   "outputs": [
    {
     "name": "stdout",
     "output_type": "stream",
     "text": [
      "False\n"
     ]
    }
   ],
   "source": [
    "print(is_power_of_2(18))  "
   ]
  },
  {
   "cell_type": "code",
   "execution_count": 188,
   "id": "51e9877c",
   "metadata": {
    "ExecuteTime": {
     "end_time": "2023-05-11T19:15:46.534466Z",
     "start_time": "2023-05-11T19:15:46.516727Z"
    }
   },
   "outputs": [
    {
     "name": "stdout",
     "output_type": "stream",
     "text": [
      "True\n"
     ]
    }
   ],
   "source": [
    "\n",
    "print(is_power_of_2(64))  "
   ]
  },
  {
   "cell_type": "markdown",
   "id": "764a1507",
   "metadata": {},
   "source": [
    "## Checking for odd and even numbers:\n",
    "\n",
    "The bitwise AND operator can be used to check if a number is odd or even. For instance, a number is odd if its least significant bit is set to 1 and even if it is set to 0. Therefore, performing a bitwise AND operation with 1 will return 1 for odd numbers and 0 for even numbers."
   ]
  },
  {
   "cell_type": "code",
   "execution_count": 193,
   "id": "53e26c77",
   "metadata": {
    "ExecuteTime": {
     "end_time": "2023-05-11T19:17:53.208236Z",
     "start_time": "2023-05-11T19:17:53.203397Z"
    }
   },
   "outputs": [],
   "source": [
    "def is_odd(number):\n",
    "    return number & 1 == 1"
   ]
  },
  {
   "cell_type": "code",
   "execution_count": 194,
   "id": "38397771",
   "metadata": {
    "ExecuteTime": {
     "end_time": "2023-05-11T19:17:53.813301Z",
     "start_time": "2023-05-11T19:17:53.795569Z"
    }
   },
   "outputs": [
    {
     "name": "stdout",
     "output_type": "stream",
     "text": [
      "True\n"
     ]
    }
   ],
   "source": [
    "print(is_odd(3)) "
   ]
  },
  {
   "cell_type": "code",
   "execution_count": 195,
   "id": "472d724b",
   "metadata": {
    "ExecuteTime": {
     "end_time": "2023-05-11T19:17:54.089413Z",
     "start_time": "2023-05-11T19:17:54.073111Z"
    }
   },
   "outputs": [
    {
     "name": "stdout",
     "output_type": "stream",
     "text": [
      "False\n"
     ]
    }
   ],
   "source": [
    "print(is_odd(4))  "
   ]
  },
  {
   "cell_type": "markdown",
   "id": "0016f871",
   "metadata": {},
   "source": [
    "Checking if a number is even or odd using the bitwise AND operator:"
   ]
  },
  {
   "cell_type": "code",
   "execution_count": 201,
   "id": "f9eede54",
   "metadata": {
    "ExecuteTime": {
     "end_time": "2023-05-11T19:19:18.162504Z",
     "start_time": "2023-05-11T19:19:18.150308Z"
    }
   },
   "outputs": [],
   "source": [
    "   \n",
    "def is_odd(num):    \n",
    "    if num & 1:\n",
    "        print(\"The number is odd\")\n",
    "    else:\n",
    "        print(\"The number is even\")"
   ]
  },
  {
   "cell_type": "code",
   "execution_count": 203,
   "id": "d1f8acef",
   "metadata": {
    "ExecuteTime": {
     "end_time": "2023-05-11T19:19:33.569751Z",
     "start_time": "2023-05-11T19:19:33.554794Z"
    }
   },
   "outputs": [
    {
     "name": "stdout",
     "output_type": "stream",
     "text": [
      "The number is odd\n"
     ]
    }
   ],
   "source": [
    "is_odd(5) "
   ]
  },
  {
   "cell_type": "code",
   "execution_count": 204,
   "id": "238cade8",
   "metadata": {
    "ExecuteTime": {
     "end_time": "2023-05-11T19:19:49.667892Z",
     "start_time": "2023-05-11T19:19:49.650565Z"
    }
   },
   "outputs": [
    {
     "name": "stdout",
     "output_type": "stream",
     "text": [
      "The number is even\n"
     ]
    }
   ],
   "source": [
    "is_odd(6)"
   ]
  },
  {
   "cell_type": "markdown",
   "id": "901854dd",
   "metadata": {},
   "source": [
    "## Binary addition: \n",
    "\n",
    "The bitwise XOR operator can be used to add two binary numbers without carrying. This is because XORing two bits will give 1 if and only if exactly one of the bits is 1."
   ]
  },
  {
   "cell_type": "code",
   "execution_count": null,
   "id": "329ff5ca",
   "metadata": {},
   "outputs": [],
   "source": [
    "def binary_addition(num1, num2):\n",
    "    while num2 != 0:\n",
    "        # Perform XOR to get the sum without carrying\n",
    "        sum = num1 ^ num2\n",
    "\n",
    "        # Perform AND to get the carry\n",
    "        carry = (num1 & num2) << 1\n",
    "\n",
    "        num1 = sum\n",
    "        num2 = carry\n",
    "\n",
    "    return num1\n",
    "\n",
    "print(binary_addition(5, 6))  # Output: 11\n"
   ]
  },
  {
   "cell_type": "markdown",
   "id": "c6b63c86",
   "metadata": {},
   "source": [
    "## Converting a number to its binary representation:\n",
    "\n",
    "The bitwise right shift operator can be used to convert a number to its binary representation. We shift the number to the right by 1 and check if the least significant bit is set to 1. If it is, we add 1 to the binary representation, else we add 0. We repeat this process until the number becomes 0."
   ]
  },
  {
   "cell_type": "code",
   "execution_count": 205,
   "id": "7c38033b",
   "metadata": {
    "ExecuteTime": {
     "end_time": "2023-05-11T19:20:51.671709Z",
     "start_time": "2023-05-11T19:20:51.655614Z"
    }
   },
   "outputs": [],
   "source": [
    "def decimal_to_binary(number):\n",
    "    binary = ''\n",
    "    while number != 0:\n",
    "        binary = str(number & 1) + binary\n",
    "        number >>= 1\n",
    "    return binary"
   ]
  },
  {
   "cell_type": "code",
   "execution_count": 206,
   "id": "bbbb440b",
   "metadata": {
    "ExecuteTime": {
     "end_time": "2023-05-11T19:21:02.535838Z",
     "start_time": "2023-05-11T19:21:02.530429Z"
    }
   },
   "outputs": [
    {
     "name": "stdout",
     "output_type": "stream",
     "text": [
      "1010\n"
     ]
    }
   ],
   "source": [
    "print(decimal_to_binary(10))"
   ]
  },
  {
   "cell_type": "code",
   "execution_count": 207,
   "id": "43e69311",
   "metadata": {
    "ExecuteTime": {
     "end_time": "2023-05-11T19:21:03.263236Z",
     "start_time": "2023-05-11T19:21:03.259123Z"
    }
   },
   "outputs": [
    {
     "name": "stdout",
     "output_type": "stream",
     "text": [
      "1111\n"
     ]
    }
   ],
   "source": [
    "print(decimal_to_binary(15))"
   ]
  },
  {
   "cell_type": "code",
   "execution_count": 208,
   "id": "eb2491d6",
   "metadata": {
    "ExecuteTime": {
     "end_time": "2023-05-11T19:21:14.222364Z",
     "start_time": "2023-05-11T19:21:14.213238Z"
    }
   },
   "outputs": [
    {
     "name": "stdout",
     "output_type": "stream",
     "text": [
      "1101\n"
     ]
    }
   ],
   "source": [
    "print(decimal_to_binary(13))"
   ]
  },
  {
   "cell_type": "markdown",
   "id": "15f4900a",
   "metadata": {},
   "source": [
    "**Method-2:** Converting a decimal number to binary using bitwise operators:"
   ]
  },
  {
   "cell_type": "code",
   "execution_count": 210,
   "id": "5c73af36",
   "metadata": {
    "ExecuteTime": {
     "end_time": "2023-05-11T19:22:44.114903Z",
     "start_time": "2023-05-11T19:22:44.103856Z"
    }
   },
   "outputs": [],
   "source": [
    "def dec2bin(num):\n",
    "    bits = []\n",
    "    while num > 0:\n",
    "        bits.append(num & 1)\n",
    "        num >>= 1\n",
    "    bits.reverse()\n",
    "    print(bits)"
   ]
  },
  {
   "cell_type": "code",
   "execution_count": 211,
   "id": "d5ad8ea2",
   "metadata": {
    "ExecuteTime": {
     "end_time": "2023-05-11T19:22:44.871021Z",
     "start_time": "2023-05-11T19:22:44.865968Z"
    }
   },
   "outputs": [
    {
     "name": "stdout",
     "output_type": "stream",
     "text": [
      "[1, 1, 1]\n"
     ]
    }
   ],
   "source": [
    "# Converting a decimal number to binary\n",
    "dec2bin(num = 7)"
   ]
  },
  {
   "cell_type": "code",
   "execution_count": 212,
   "id": "5e9cc592",
   "metadata": {
    "ExecuteTime": {
     "end_time": "2023-05-11T19:23:55.963718Z",
     "start_time": "2023-05-11T19:23:55.956603Z"
    }
   },
   "outputs": [
    {
     "name": "stdout",
     "output_type": "stream",
     "text": [
      "[1, 0, 1, 0]\n"
     ]
    }
   ],
   "source": [
    "dec2bin(10)"
   ]
  },
  {
   "cell_type": "code",
   "execution_count": 213,
   "id": "0bf8c9e8",
   "metadata": {
    "ExecuteTime": {
     "end_time": "2023-05-11T19:23:57.406552Z",
     "start_time": "2023-05-11T19:23:57.389652Z"
    }
   },
   "outputs": [
    {
     "name": "stdout",
     "output_type": "stream",
     "text": [
      "[1, 1, 1, 1]\n"
     ]
    }
   ],
   "source": [
    "dec2bin(15)"
   ]
  },
  {
   "cell_type": "code",
   "execution_count": 214,
   "id": "f6c307ac",
   "metadata": {
    "ExecuteTime": {
     "end_time": "2023-05-11T19:23:58.610248Z",
     "start_time": "2023-05-11T19:23:58.593644Z"
    }
   },
   "outputs": [
    {
     "name": "stdout",
     "output_type": "stream",
     "text": [
      "[1, 1, 0, 1]\n"
     ]
    }
   ],
   "source": [
    "dec2bin(13)"
   ]
  },
  {
   "cell_type": "markdown",
   "id": "89be0fdc",
   "metadata": {},
   "source": [
    "## Finding the sign of a number:\n",
    "\n",
    "Bitwise AND can be used to check the sign of a number. If the sign bit is 1, the number is negative, and if it is 0, the number is positive.\n",
    "\n",
    "[Negative Binary Numbers](https://www.tutorialspoint.com/negative-binary-numbers#:~:text=If%20the%20number%20is%20negative,1%27s%20complement%20of%20that%20number.&text=(ii)%20Take%201%27s%20complement%20of,indicates%20that%20number%20is%20negative)"
   ]
  },
  {
   "cell_type": "code",
   "execution_count": 216,
   "id": "934ae3e2",
   "metadata": {
    "ExecuteTime": {
     "end_time": "2023-05-11T19:39:25.542898Z",
     "start_time": "2023-05-11T19:39:25.531647Z"
    }
   },
   "outputs": [],
   "source": [
    "# finding the sign of a number using AND\n",
    "def sign(num):\n",
    "    if num & (1 << 31):\n",
    "        print(\"The number is negative\")\n",
    "    else:\n",
    "        print(\"The number is positive\")\n"
   ]
  },
  {
   "cell_type": "code",
   "execution_count": 228,
   "id": "93079d44",
   "metadata": {
    "ExecuteTime": {
     "end_time": "2023-05-11T19:47:07.707628Z",
     "start_time": "2023-05-11T19:47:07.692270Z"
    }
   },
   "outputs": [
    {
     "data": {
      "text/plain": [
       "0"
      ]
     },
     "execution_count": 228,
     "metadata": {},
     "output_type": "execute_result"
    }
   ],
   "source": [
    "10 & (1 << 31)"
   ]
  },
  {
   "cell_type": "code",
   "execution_count": 227,
   "id": "3fdf5b77",
   "metadata": {
    "ExecuteTime": {
     "end_time": "2023-05-11T19:46:56.441396Z",
     "start_time": "2023-05-11T19:46:56.424323Z"
    }
   },
   "outputs": [
    {
     "data": {
      "text/plain": [
       "2147483648"
      ]
     },
     "execution_count": 227,
     "metadata": {},
     "output_type": "execute_result"
    }
   ],
   "source": [
    "1 << 31"
   ]
  },
  {
   "cell_type": "code",
   "execution_count": 218,
   "id": "d4e52c67",
   "metadata": {
    "ExecuteTime": {
     "end_time": "2023-05-11T19:39:46.453627Z",
     "start_time": "2023-05-11T19:39:46.442724Z"
    }
   },
   "outputs": [
    {
     "name": "stdout",
     "output_type": "stream",
     "text": [
      "The number is negative\n"
     ]
    }
   ],
   "source": [
    "sign(-10)"
   ]
  },
  {
   "cell_type": "code",
   "execution_count": 219,
   "id": "76d3c369",
   "metadata": {
    "ExecuteTime": {
     "end_time": "2023-05-11T19:40:03.152676Z",
     "start_time": "2023-05-11T19:40:03.143141Z"
    }
   },
   "outputs": [
    {
     "name": "stdout",
     "output_type": "stream",
     "text": [
      "The number is positive\n"
     ]
    }
   ],
   "source": [
    "sign(15)"
   ]
  },
  {
   "cell_type": "code",
   "execution_count": 220,
   "id": "9519baa2",
   "metadata": {
    "ExecuteTime": {
     "end_time": "2023-05-11T19:40:09.719303Z",
     "start_time": "2023-05-11T19:40:09.711697Z"
    }
   },
   "outputs": [
    {
     "name": "stdout",
     "output_type": "stream",
     "text": [
      "The number is negative\n"
     ]
    }
   ],
   "source": [
    "sign(-15)"
   ]
  },
  {
   "cell_type": "markdown",
   "id": "8a7b5ede",
   "metadata": {},
   "source": [
    "## Finding the absolute value of a number:\n",
    "\n",
    "Bitwise XOR can be used to find the absolute value of a number. This is done by XOR-ing the number with its sign bit (which is 1 for negative numbers and 0 for positive numbers) and then subtracting the sign bit from the result."
   ]
  },
  {
   "cell_type": "code",
   "execution_count": 229,
   "id": "c35f11f7",
   "metadata": {
    "ExecuteTime": {
     "end_time": "2023-05-11T19:55:41.951254Z",
     "start_time": "2023-05-11T19:55:41.942488Z"
    }
   },
   "outputs": [],
   "source": [
    "# finding the absolute value of a number using XOR\n",
    "\n",
    "def abs_v(num):\n",
    "    sign_bit = num >> 31\n",
    "    abs_val = (num ^ sign_bit) - sign_bit\n",
    "    print(abs_val)  # Output: 10\n"
   ]
  },
  {
   "cell_type": "code",
   "execution_count": 230,
   "id": "e75d3f45",
   "metadata": {
    "ExecuteTime": {
     "end_time": "2023-05-11T19:55:42.602734Z",
     "start_time": "2023-05-11T19:55:42.587817Z"
    }
   },
   "outputs": [
    {
     "name": "stdout",
     "output_type": "stream",
     "text": [
      "10\n"
     ]
    }
   ],
   "source": [
    "abs_v(-10)"
   ]
  },
  {
   "cell_type": "code",
   "execution_count": 231,
   "id": "f2d596e1",
   "metadata": {
    "ExecuteTime": {
     "end_time": "2023-05-11T19:57:35.863628Z",
     "start_time": "2023-05-11T19:57:35.852151Z"
    }
   },
   "outputs": [
    {
     "name": "stdout",
     "output_type": "stream",
     "text": [
      "10\n"
     ]
    }
   ],
   "source": [
    "abs_v(10)"
   ]
  },
  {
   "cell_type": "markdown",
   "id": "09073ad4",
   "metadata": {},
   "source": [
    "## Finding the greatest power of 2 that divides a number:"
   ]
  },
  {
   "cell_type": "code",
   "execution_count": 232,
   "id": "e49bb844",
   "metadata": {
    "ExecuteTime": {
     "end_time": "2023-05-11T19:57:48.052014Z",
     "start_time": "2023-05-11T19:57:48.048549Z"
    }
   },
   "outputs": [],
   "source": [
    "def greatest_power_of_2(n):\n",
    "    # Initialize result\n",
    "    res = 0\n",
    " \n",
    "    # Keep dividing n by 2 while\n",
    "    # it is even and update res\n",
    "    while (n % 2 == 0):\n",
    "        res += 1\n",
    "        n //= 2\n",
    " \n",
    "    return res\n"
   ]
  },
  {
   "cell_type": "code",
   "execution_count": 235,
   "id": "d8ce2254",
   "metadata": {
    "ExecuteTime": {
     "end_time": "2023-05-11T19:58:35.186714Z",
     "start_time": "2023-05-11T19:58:35.178835Z"
    }
   },
   "outputs": [
    {
     "data": {
      "text/plain": [
       "6"
      ]
     },
     "execution_count": 235,
     "metadata": {},
     "output_type": "execute_result"
    }
   ],
   "source": [
    "greatest_power_of_2(64)"
   ]
  },
  {
   "cell_type": "markdown",
   "id": "0f6c4837",
   "metadata": {},
   "source": [
    "## Finding the complement of a binary number:"
   ]
  },
  {
   "cell_type": "code",
   "execution_count": 243,
   "id": "fc1cc52c",
   "metadata": {
    "ExecuteTime": {
     "end_time": "2023-05-11T20:03:54.890315Z",
     "start_time": "2023-05-11T20:03:54.878456Z"
    }
   },
   "outputs": [],
   "source": [
    "import math\n",
    "def complement(n):\n",
    "    # Find number of bits in the given integer\n",
    "    number_of_bits = (int)(math.floor(math.log(n) / math.log(2))) + 1\n",
    "\n",
    "    # XOR the given integer with maximum value\n",
    "    # of integer that has number of bits same as\n",
    "    # the given integer\n",
    "    return ((1 << number_of_bits) - 1) ^ n\n"
   ]
  },
  {
   "cell_type": "code",
   "execution_count": 245,
   "id": "b043e8a4",
   "metadata": {
    "ExecuteTime": {
     "end_time": "2023-05-11T20:04:12.697442Z",
     "start_time": "2023-05-11T20:04:12.679763Z"
    }
   },
   "outputs": [
    {
     "data": {
      "text/plain": [
       "0"
      ]
     },
     "execution_count": 245,
     "metadata": {},
     "output_type": "execute_result"
    }
   ],
   "source": [
    "complement(3)"
   ]
  },
  {
   "cell_type": "code",
   "execution_count": 246,
   "id": "7523155e",
   "metadata": {
    "ExecuteTime": {
     "end_time": "2023-05-11T20:04:42.375243Z",
     "start_time": "2023-05-11T20:04:42.356682Z"
    }
   },
   "outputs": [
    {
     "data": {
      "text/plain": [
       "1"
      ]
     },
     "execution_count": 246,
     "metadata": {},
     "output_type": "execute_result"
    }
   ],
   "source": [
    "complement(2)"
   ]
  },
  {
   "cell_type": "code",
   "execution_count": 248,
   "id": "cc7f24a2",
   "metadata": {
    "ExecuteTime": {
     "end_time": "2023-05-11T20:04:53.497762Z",
     "start_time": "2023-05-11T20:04:53.486584Z"
    }
   },
   "outputs": [
    {
     "data": {
      "text/plain": [
       "3"
      ]
     },
     "execution_count": 248,
     "metadata": {},
     "output_type": "execute_result"
    }
   ],
   "source": [
    "complement(4)"
   ]
  },
  {
   "cell_type": "code",
   "execution_count": 249,
   "id": "af5d6e9c",
   "metadata": {
    "ExecuteTime": {
     "end_time": "2023-05-11T20:05:01.746274Z",
     "start_time": "2023-05-11T20:05:01.727614Z"
    }
   },
   "outputs": [
    {
     "data": {
      "text/plain": [
       "0"
      ]
     },
     "execution_count": 249,
     "metadata": {},
     "output_type": "execute_result"
    }
   ],
   "source": [
    "complement(15)"
   ]
  },
  {
   "cell_type": "markdown",
   "id": "5e5b96db",
   "metadata": {},
   "source": [
    "## Generating all possible subsets of a set using bitwise operators:"
   ]
  },
  {
   "cell_type": "code",
   "execution_count": 250,
   "id": "49f15eda",
   "metadata": {
    "ExecuteTime": {
     "end_time": "2023-05-11T20:05:29.827986Z",
     "start_time": "2023-05-11T20:05:29.816012Z"
    }
   },
   "outputs": [],
   "source": [
    "def generate_subsets(nums):\n",
    "    n = len(nums)\n",
    "    output = []\n",
    "    for i in range(2 ** n):\n",
    "        subset = []\n",
    "        for j in range(n):\n",
    "            if i & (1 << j):\n",
    "                subset.append(nums[j])\n",
    "        output.append(subset)\n",
    "    return output\n"
   ]
  },
  {
   "cell_type": "code",
   "execution_count": 253,
   "id": "61172c01",
   "metadata": {
    "ExecuteTime": {
     "end_time": "2023-05-11T20:06:51.585885Z",
     "start_time": "2023-05-11T20:06:51.573453Z"
    }
   },
   "outputs": [
    {
     "data": {
      "text/plain": [
       "[[],\n",
       " [1],\n",
       " [2],\n",
       " [1, 2],\n",
       " [3],\n",
       " [1, 3],\n",
       " [2, 3],\n",
       " [1, 2, 3],\n",
       " [4],\n",
       " [1, 4],\n",
       " [2, 4],\n",
       " [1, 2, 4],\n",
       " [3, 4],\n",
       " [1, 3, 4],\n",
       " [2, 3, 4],\n",
       " [1, 2, 3, 4]]"
      ]
     },
     "execution_count": 253,
     "metadata": {},
     "output_type": "execute_result"
    }
   ],
   "source": [
    "generate_subsets([1,2,3,4])"
   ]
  },
  {
   "cell_type": "markdown",
   "id": "fde9fa32",
   "metadata": {},
   "source": [
    "## Reversing the bits of a number using the bitwise shift and AND operators:"
   ]
  },
  {
   "cell_type": "code",
   "execution_count": 260,
   "id": "466abc57",
   "metadata": {
    "ExecuteTime": {
     "end_time": "2023-05-11T20:12:07.386299Z",
     "start_time": "2023-05-11T20:12:07.380303Z"
    }
   },
   "outputs": [],
   "source": [
    "# Reversing the bits of a number\n",
    "\n",
    "def revbit(num):\n",
    "    rev=0\n",
    "    for i in range(32):\n",
    "        rev <<= 1\n",
    "        rev |= (num & 1)\n",
    "        num >>= 1\n",
    "    print(rev)\n"
   ]
  },
  {
   "cell_type": "code",
   "execution_count": 261,
   "id": "8490513b",
   "metadata": {
    "ExecuteTime": {
     "end_time": "2023-05-11T20:12:32.876148Z",
     "start_time": "2023-05-11T20:12:32.864028Z"
    }
   },
   "outputs": [
    {
     "name": "stdout",
     "output_type": "stream",
     "text": [
      "2147483648\n"
     ]
    }
   ],
   "source": [
    "revbit(1)"
   ]
  },
  {
   "cell_type": "markdown",
   "id": "906b35e1",
   "metadata": {},
   "source": [
    "## Checking if two numbers have opposite signs using the bitwise XOR operator:"
   ]
  },
  {
   "cell_type": "code",
   "execution_count": 257,
   "id": "ef120324",
   "metadata": {
    "ExecuteTime": {
     "end_time": "2023-05-11T20:11:06.824177Z",
     "start_time": "2023-05-11T20:11:06.814686Z"
    }
   },
   "outputs": [],
   "source": [
    "# Checking if two numbers have opposite signs\n",
    "\n",
    "def signof(x,y):\n",
    "    if (x ^ y) < 0:\n",
    "        print(\"The numbers have opposite signs\")\n",
    "    else:\n",
    "        print(\"The numbers have the same sign\")\n"
   ]
  },
  {
   "cell_type": "code",
   "execution_count": 259,
   "id": "e5accba6",
   "metadata": {
    "ExecuteTime": {
     "end_time": "2023-05-11T20:11:13.617361Z",
     "start_time": "2023-05-11T20:11:13.608457Z"
    }
   },
   "outputs": [
    {
     "name": "stdout",
     "output_type": "stream",
     "text": [
      "The numbers have the same sign\n"
     ]
    }
   ],
   "source": [
    "x = -5\n",
    "y = -10\n",
    "signof(x,y)"
   ]
  },
  {
   "cell_type": "markdown",
   "id": "ea494edb",
   "metadata": {},
   "source": [
    "---"
   ]
  }
 ],
 "metadata": {
  "kernelspec": {
   "display_name": "Python 3 (ipykernel)",
   "language": "python",
   "name": "python3"
  },
  "language_info": {
   "codemirror_mode": {
    "name": "ipython",
    "version": 3
   },
   "file_extension": ".py",
   "mimetype": "text/x-python",
   "name": "python",
   "nbconvert_exporter": "python",
   "pygments_lexer": "ipython3",
   "version": "3.9.1"
  },
  "toc": {
   "base_numbering": 1,
   "nav_menu": {},
   "number_sections": true,
   "sideBar": true,
   "skip_h1_title": false,
   "title_cell": "Table of Contents",
   "title_sidebar": "Contents",
   "toc_cell": false,
   "toc_position": {
    "height": "calc(100% - 180px)",
    "left": "10px",
    "top": "150px",
    "width": "374.391px"
   },
   "toc_section_display": true,
   "toc_window_display": true
  },
  "varInspector": {
   "cols": {
    "lenName": 16,
    "lenType": 16,
    "lenVar": 40
   },
   "kernels_config": {
    "python": {
     "delete_cmd_postfix": "",
     "delete_cmd_prefix": "del ",
     "library": "var_list.py",
     "varRefreshCmd": "print(var_dic_list())"
    },
    "r": {
     "delete_cmd_postfix": ") ",
     "delete_cmd_prefix": "rm(",
     "library": "var_list.r",
     "varRefreshCmd": "cat(var_dic_list()) "
    }
   },
   "types_to_exclude": [
    "module",
    "function",
    "builtin_function_or_method",
    "instance",
    "_Feature"
   ],
   "window_display": false
  }
 },
 "nbformat": 4,
 "nbformat_minor": 5
}
