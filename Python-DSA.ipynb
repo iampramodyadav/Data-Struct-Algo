{
 "cells": [
  {
   "cell_type": "markdown",
   "id": "2593928e",
   "metadata": {
    "toc": true
   },
   "source": [
    "<h1>Table of Contents<span class=\"tocSkip\"></span></h1>\n",
    "<div class=\"toc\"><ul class=\"toc-item\"><li><span><a href=\"#Algorithm-Analysis\" data-toc-modified-id=\"Algorithm-Analysis-1\"><span class=\"toc-item-num\">1&nbsp;&nbsp;</span>Algorithm Analysis</a></span><ul class=\"toc-item\"><li><span><a href=\"#Introduction-to-Algorithm-Analysis-and-Big-O\" data-toc-modified-id=\"Introduction-to-Algorithm-Analysis-and-Big-O-1.1\"><span class=\"toc-item-num\">1.1&nbsp;&nbsp;</span>Introduction to Algorithm Analysis and Big O</a></span><ul class=\"toc-item\"><li><span><a href=\"#Why-analyze-algorithms?\" data-toc-modified-id=\"Why-analyze-algorithms?-1.1.1\"><span class=\"toc-item-num\">1.1.1&nbsp;&nbsp;</span>Why analyze algorithms?</a></span></li></ul></li><li><span><a href=\"#Big-O-Notation\" data-toc-modified-id=\"Big-O-Notation-1.2\"><span class=\"toc-item-num\">1.2&nbsp;&nbsp;</span>Big O Notation</a></span><ul class=\"toc-item\"><li><span><a href=\"#Runtimes-of-Common-Big-O-Functions\" data-toc-modified-id=\"Runtimes-of-Common-Big-O-Functions-1.2.1\"><span class=\"toc-item-num\">1.2.1&nbsp;&nbsp;</span>Runtimes of Common Big-O Functions</a></span></li></ul></li><li><span><a href=\"#Big-O-Examples\" data-toc-modified-id=\"Big-O-Examples-1.3\"><span class=\"toc-item-num\">1.3&nbsp;&nbsp;</span>Big O Examples</a></span><ul class=\"toc-item\"><li><span><a href=\"#O(1)-Constant\" data-toc-modified-id=\"O(1)-Constant-1.3.1\"><span class=\"toc-item-num\">1.3.1&nbsp;&nbsp;</span>O(1) Constant</a></span></li><li><span><a href=\"#O(n)-Linear\" data-toc-modified-id=\"O(n)-Linear-1.3.2\"><span class=\"toc-item-num\">1.3.2&nbsp;&nbsp;</span>O(n) Linear</a></span></li><li><span><a href=\"#O($n^2$)-Quadratic\" data-toc-modified-id=\"O($n^2$)-Quadratic-1.3.3\"><span class=\"toc-item-num\">1.3.3&nbsp;&nbsp;</span>O($n^2$) Quadratic</a></span></li><li><span><a href=\"#Calculating-Scale-of-Big-O\" data-toc-modified-id=\"Calculating-Scale-of-Big-O-1.3.4\"><span class=\"toc-item-num\">1.3.4&nbsp;&nbsp;</span>Calculating Scale of Big-O</a></span></li><li><span><a href=\"#Worst-Case-vs-Best-Case\" data-toc-modified-id=\"Worst-Case-vs-Best-Case-1.3.5\"><span class=\"toc-item-num\">1.3.5&nbsp;&nbsp;</span>Worst Case vs Best Case</a></span></li></ul></li><li><span><a href=\"#Space-Complexity\" data-toc-modified-id=\"Space-Complexity-1.4\"><span class=\"toc-item-num\">1.4&nbsp;&nbsp;</span>Space Complexity</a></span><ul class=\"toc-item\"><li><span><a href=\"#Homework-Assignment\" data-toc-modified-id=\"Homework-Assignment-1.4.1\"><span class=\"toc-item-num\">1.4.1&nbsp;&nbsp;</span>Homework Assignment</a></span></li></ul></li><li><span><a href=\"#Summary\" data-toc-modified-id=\"Summary-1.5\"><span class=\"toc-item-num\">1.5&nbsp;&nbsp;</span>Summary</a></span></li><li><span><a href=\"#Big-O-for-Python-Data-Structures\" data-toc-modified-id=\"Big-O-for-Python-Data-Structures-1.6\"><span class=\"toc-item-num\">1.6&nbsp;&nbsp;</span>Big O for Python Data Structures</a></span><ul class=\"toc-item\"><li><span><a href=\"#Lists\" data-toc-modified-id=\"Lists-1.6.1\"><span class=\"toc-item-num\">1.6.1&nbsp;&nbsp;</span>Lists</a></span><ul class=\"toc-item\"><li><span><a href=\"#Table-of-Big-O-for-common-list-operations\" data-toc-modified-id=\"Table-of-Big-O-for-common-list-operations-1.6.1.1\"><span class=\"toc-item-num\">1.6.1.1&nbsp;&nbsp;</span>Table of Big-O for common list operations</a></span></li></ul></li><li><span><a href=\"#Dictionaries\" data-toc-modified-id=\"Dictionaries-1.6.2\"><span class=\"toc-item-num\">1.6.2&nbsp;&nbsp;</span>Dictionaries</a></span></li></ul></li><li><span><a href=\"#Conclusion\" data-toc-modified-id=\"Conclusion-1.7\"><span class=\"toc-item-num\">1.7&nbsp;&nbsp;</span>Conclusion</a></span></li><li><span><a href=\"#Examples\" data-toc-modified-id=\"Examples-1.8\"><span class=\"toc-item-num\">1.8&nbsp;&nbsp;</span>Examples</a></span></li></ul></li><li><span><a href=\"#Array\" data-toc-modified-id=\"Array-2\"><span class=\"toc-item-num\">2&nbsp;&nbsp;</span>Array</a></span><ul class=\"toc-item\"><li><span><a href=\"#Difference-between-Python-Lists-and-Python-Array\" data-toc-modified-id=\"Difference-between-Python-Lists-and-Python-Array-2.1\"><span class=\"toc-item-num\">2.1&nbsp;&nbsp;</span>Difference between Python Lists and Python Array</a></span></li><li><span><a href=\"#Introduction-to-Array-Based-Sequences\" data-toc-modified-id=\"Introduction-to-Array-Based-Sequences-2.2\"><span class=\"toc-item-num\">2.2&nbsp;&nbsp;</span>Introduction to Array Based Sequences</a></span></li><li><span><a href=\"#When-to-Use-Python-Arrays\" data-toc-modified-id=\"When-to-Use-Python-Arrays-2.3\"><span class=\"toc-item-num\">2.3&nbsp;&nbsp;</span>When to Use Python Arrays</a></span></li><li><span><a href=\"#creating-an-array-of-different-data-types\" data-toc-modified-id=\"creating-an-array-of-different-data-types-2.4\"><span class=\"toc-item-num\">2.4&nbsp;&nbsp;</span>creating an array of different data types</a></span></li><li><span><a href=\"#Adding-elements-in-array\" data-toc-modified-id=\"Adding-elements-in-array-2.5\"><span class=\"toc-item-num\">2.5&nbsp;&nbsp;</span>Adding elements in array</a></span></li><li><span><a href=\"#Removing-Elements-from-array\" data-toc-modified-id=\"Removing-Elements-from-array-2.6\"><span class=\"toc-item-num\">2.6&nbsp;&nbsp;</span>Removing Elements from array</a></span></li><li><span><a href=\"#Slicing-of-a-Array\" data-toc-modified-id=\"Slicing-of-a-Array-2.7\"><span class=\"toc-item-num\">2.7&nbsp;&nbsp;</span>Slicing of a Array</a></span></li><li><span><a href=\"#Searching-element-in-a-Array\" data-toc-modified-id=\"Searching-element-in-a-Array-2.8\"><span class=\"toc-item-num\">2.8&nbsp;&nbsp;</span>Searching element in a Array</a></span><ul class=\"toc-item\"><li><span><a href=\"#Note:-How-does-carriage-return-“\\r”-work-in-python\" data-toc-modified-id=\"Note:-How-does-carriage-return-“\\r”-work-in-python-2.8.1\"><span class=\"toc-item-num\">2.8.1&nbsp;&nbsp;</span>Note: <strong>How does carriage return “\\r” work in python</strong></a></span></li></ul></li><li><span><a href=\"#Updating-Elements-in-a-Array\" data-toc-modified-id=\"Updating-Elements-in-a-Array-2.9\"><span class=\"toc-item-num\">2.9&nbsp;&nbsp;</span>Updating Elements in a Array</a></span></li><li><span><a href=\"#Low-level-array\" data-toc-modified-id=\"Low-level-array-2.10\"><span class=\"toc-item-num\">2.10&nbsp;&nbsp;</span>Low level array</a></span></li><li><span><a href=\"#Dynamic-array\" data-toc-modified-id=\"Dynamic-array-2.11\"><span class=\"toc-item-num\">2.11&nbsp;&nbsp;</span>Dynamic array</a></span></li><li><span><a href=\"#Problems-solution\" data-toc-modified-id=\"Problems-solution-2.12\"><span class=\"toc-item-num\">2.12&nbsp;&nbsp;</span>Problems solution</a></span></li></ul></li><li><span><a href=\"#Stacks,-Queues,-and-Deques\" data-toc-modified-id=\"Stacks,-Queues,-and-Deques-3\"><span class=\"toc-item-num\">3&nbsp;&nbsp;</span>Stacks, Queues, and Deques</a></span></li><li><span><a href=\"#Linked-List\" data-toc-modified-id=\"Linked-List-4\"><span class=\"toc-item-num\">4&nbsp;&nbsp;</span>Linked List</a></span></li></ul></div>"
   ]
  },
  {
   "cell_type": "markdown",
   "id": "be89dd4d",
   "metadata": {},
   "source": [
    "---"
   ]
  },
  {
   "cell_type": "markdown",
   "id": "3c54e780",
   "metadata": {},
   "source": [
    "# Algorithm Analysis"
   ]
  },
  {
   "cell_type": "markdown",
   "id": "188b5c8a",
   "metadata": {},
   "source": [
    "## Introduction to Algorithm Analysis and Big O\n",
    "\n",
    "In this lecture we will discuss how to analyze Algorithms and why it is important to do so!\n",
    "\n",
    "### Why analyze algorithms?\n",
    "\n",
    "Before we begin, let's clarify what an algorthim is. In this course, an **algorithm** is simply a procedure or formula for solving a problem. Some problems are famous enough that the algorithms have names, as well as some procdures being common enough that the algorithm associated with it also has a name. So now we have a good question we need to answer:\n",
    "\n",
    "** *How do analyze algorithms and how can we compare algorithms against each other?* **\n",
    "\n",
    "Imagine if you and a friend both came up with functions to sum the numbers from 0 to N. How would you compare the functions and algorithms within the functions? Let's say you both cam up with these two seperate functions:"
   ]
  },
  {
   "cell_type": "code",
   "execution_count": 1,
   "id": "d79ad126",
   "metadata": {
    "ExecuteTime": {
     "end_time": "2023-04-29T22:10:47.806135Z",
     "start_time": "2023-04-29T22:10:47.791372Z"
    }
   },
   "outputs": [],
   "source": [
    "# First function (Note the use of xrange since this is in Python 2)\n",
    "def sum1(n):\n",
    "    '''\n",
    "    Take an input of n and return the sum of the numbers from 0 to n\n",
    "    '''\n",
    "    final_sum = 0\n",
    "    for x in range(n+1): \n",
    "        final_sum += x\n",
    "    \n",
    "    return final_sum"
   ]
  },
  {
   "cell_type": "code",
   "execution_count": 2,
   "id": "46bbce3d",
   "metadata": {
    "ExecuteTime": {
     "end_time": "2023-04-29T22:10:47.821171Z",
     "start_time": "2023-04-29T22:10:47.808129Z"
    }
   },
   "outputs": [
    {
     "data": {
      "text/plain": [
       "55"
      ]
     },
     "execution_count": 2,
     "metadata": {},
     "output_type": "execute_result"
    }
   ],
   "source": [
    "sum1(10)"
   ]
  },
  {
   "cell_type": "code",
   "execution_count": 3,
   "id": "50b32f63",
   "metadata": {
    "ExecuteTime": {
     "end_time": "2023-04-29T22:10:47.837042Z",
     "start_time": "2023-04-29T22:10:47.824076Z"
    }
   },
   "outputs": [],
   "source": [
    "def sum2(n):\n",
    "    \"\"\"\n",
    "    Take an input of n and return the sum of the numbers from 0 to n\n",
    "    \"\"\"\n",
    "    return (n*(n+1))/2"
   ]
  },
  {
   "cell_type": "code",
   "execution_count": 4,
   "id": "3985b5d3",
   "metadata": {
    "ExecuteTime": {
     "end_time": "2023-04-29T22:10:47.852706Z",
     "start_time": "2023-04-29T22:10:47.838742Z"
    }
   },
   "outputs": [
    {
     "data": {
      "text/plain": [
       "55.0"
      ]
     },
     "execution_count": 4,
     "metadata": {},
     "output_type": "execute_result"
    }
   ],
   "source": [
    "sum2(10)"
   ]
  },
  {
   "cell_type": "markdown",
   "id": "060a77bf",
   "metadata": {
    "ExecuteTime": {
     "end_time": "2023-04-29T06:46:49.303735Z",
     "start_time": "2023-04-29T06:46:49.289030Z"
    }
   },
   "source": [
    "You'll notice both functions have the same result, but completely different algorithms. You'll note that the first function iteratively adds the numbers, while the second function makes use of:\n",
    "$$ \\sum_{i=0}^{n} {i} = \\frac{n(n+1)}{2} $$\n",
    "\n",
    "So how can we objectively compare the algorithms? We could compare the amount of space they take in memory or we could also compare how much time it takes each function to run. We can use the built in **%timeit** magic function in jupyter to compare the time of the functions. The [**%timeit**](https://ipython.org/ipython-doc/3/interactive/magics.html#magic-timeit) magic in Jupyter Notebooks will repeat the loop iteration a certain number of times and take the best result. Check out the link for the documentation. \n",
    "\n",
    "Let's go ahead and compare the time it took to run the functions:"
   ]
  },
  {
   "cell_type": "code",
   "execution_count": 5,
   "id": "b8007684",
   "metadata": {
    "ExecuteTime": {
     "end_time": "2023-04-29T22:10:49.844940Z",
     "start_time": "2023-04-29T22:10:47.854688Z"
    }
   },
   "outputs": [
    {
     "name": "stdout",
     "output_type": "stream",
     "text": [
      "2.44 µs ± 224 ns per loop (mean ± std. dev. of 7 runs, 100,000 loops each)\n"
     ]
    }
   ],
   "source": [
    "%timeit sum1(100)"
   ]
  },
  {
   "cell_type": "code",
   "execution_count": 6,
   "id": "5f8d5f3d",
   "metadata": {
    "ExecuteTime": {
     "end_time": "2023-04-29T22:10:56.661989Z",
     "start_time": "2023-04-29T22:10:49.846934Z"
    }
   },
   "outputs": [
    {
     "name": "stdout",
     "output_type": "stream",
     "text": [
      "85.5 ns ± 17.9 ns per loop (mean ± std. dev. of 7 runs, 10,000,000 loops each)\n"
     ]
    }
   ],
   "source": [
    "%timeit sum2(100)"
   ]
  },
  {
   "cell_type": "markdown",
   "id": "d9db5bd4",
   "metadata": {},
   "source": [
    "We can see that the second function is much more efficient! Running at a much faster rate than the first. However, we can not use \"time to run\" as an objective measurement, because that will depend on the speed of the computer itself and hardware capabilities. So we will need to use another method, **Big-O**!"
   ]
  },
  {
   "cell_type": "markdown",
   "id": "101a6ee2",
   "metadata": {},
   "source": [
    "## Big O Notation\n",
    "In this lecture we will go over how the syntax of Big-O Notation works and how we can describe algorithms using Big-O Notation!\n",
    "\n",
    "We previously discussed the functions below:"
   ]
  },
  {
   "cell_type": "code",
   "execution_count": 7,
   "id": "c9ed87e9",
   "metadata": {
    "ExecuteTime": {
     "end_time": "2023-04-29T22:10:56.677935Z",
     "start_time": "2023-04-29T22:10:56.663912Z"
    }
   },
   "outputs": [],
   "source": [
    "# First function (Note the use of xrange since this is in Python 2)\n",
    "def sum1(n):\n",
    "    '''\n",
    "    Take an input of n and return the sum of the numbers from 0 to n\n",
    "    '''\n",
    "    final_sum = 0\n",
    "    for x in range(n+1): \n",
    "        final_sum += x\n",
    "    \n",
    "    return final_sum"
   ]
  },
  {
   "cell_type": "code",
   "execution_count": 8,
   "id": "75d56997",
   "metadata": {
    "ExecuteTime": {
     "end_time": "2023-04-29T22:10:56.693951Z",
     "start_time": "2023-04-29T22:10:56.680854Z"
    }
   },
   "outputs": [],
   "source": [
    "def sum2(n):\n",
    "    \"\"\"\n",
    "    Take an input of n and return the sum of the numbers from 0 to n\n",
    "    \"\"\"\n",
    "    return (n*(n+1))/2"
   ]
  },
  {
   "cell_type": "markdown",
   "id": "1e26d359",
   "metadata": {},
   "source": [
    "Now we want to develop a notation to objectively compare the efficiency of these two algorithms. A good place to start would be to compare the number of assignments each algorithm makes.\n",
    "\n",
    "The original **sum1** function will create an assignment **n+1** times, we can see this from the range based function. This means it will assign the final_sum variable n+1 times. We can then say that for a problem of n size (in this case just a number n) this function will take 1+n steps.\n",
    "\n",
    "This **n** notation allows us to compare solutions and algorithms relative to the size of the problem, since sum1(10) and sum1(100000) would take very different times to run but be using the same algorithm. We can also note that as n grows very large, the **+1** won't have much effect. So let's begin discussing how to build a syntax for this notation.\n",
    "________\n",
    "\n",
    "Now we will discuss how we can formalize this notation and idea.\n",
    "\n",
    "Big-O notation describes *how quickly runtime will grow relative to the input as the input get arbitrarily large*.\n",
    "\n",
    "Let's examine some of these points more closely:\n",
    "\n",
    "* Remember, we want to compare how quickly runtime will grows, not compare exact runtimes, since those can vary depending on hardware.\n",
    "\n",
    "* Since we want to compare for a variety of input sizes, we are only concerned with runtime grow *relative* to the input. This is why we use **n** for notation.\n",
    "\n",
    "* As n gets arbitrarily large we only worry about terms that will grow the fastest as n gets large, to this point, Big-O analysis is also known as **asymptotic analysis**\n",
    "\n",
    "\n",
    "As for syntax sum1() can be said to be **O(n)** since its runtime grows linearly with the input size. In the next lecture we will go over more specific examples of various O() types and examples. To conclude this lecture we will show the potential for vast difference in runtimes of Big-O functions.\n",
    "\n"
   ]
  },
  {
   "cell_type": "markdown",
   "id": "4e0b9910",
   "metadata": {},
   "source": [
    "### Runtimes of Common Big-O Functions\n",
    "\n",
    "Here is a table of common Big-O functions:"
   ]
  },
  {
   "cell_type": "markdown",
   "id": "2cc4c875",
   "metadata": {},
   "source": [
    "| Big-O   | Name        |\n",
    "|---------|-------------|\n",
    "| 1       | Constant    |\n",
    "| log(n)  | Logarithmic |\n",
    "| n       | Linear      |\n",
    "| nlog(n) | Log Linear  |\n",
    "| n^2     | Quadratic   |\n",
    "| n^3     | Cubic       |\n",
    "| 2^n     | Exponential |"
   ]
  },
  {
   "cell_type": "markdown",
   "id": "5fe5d2ae",
   "metadata": {
    "ExecuteTime": {
     "end_time": "2023-04-29T06:49:49.595342Z",
     "start_time": "2023-04-29T06:49:49.580639Z"
    }
   },
   "source": [
    "Now let's plot the runtime versus the Big-O to compare the runtimes. We'll use a simple [matplotlib](http://matplotlib.org/) for the plot below. (Don't be concerned with how to use matplotlib, that is irrelevant for this part)."
   ]
  },
  {
   "cell_type": "code",
   "execution_count": 9,
   "id": "d002b906",
   "metadata": {
    "ExecuteTime": {
     "end_time": "2023-04-29T22:10:57.894937Z",
     "start_time": "2023-04-29T22:10:56.698691Z"
    }
   },
   "outputs": [
    {
     "data": {
      "text/plain": [
       "Text(0.5, 0, 'n')"
      ]
     },
     "execution_count": 9,
     "metadata": {},
     "output_type": "execute_result"
    },
    {
     "data": {
      "image/png": "[encoded data removed]",
      "text/plain": [
       "<Figure size 1200x1000 with 1 Axes>"
      ]
     },
     "metadata": {},
     "output_type": "display_data"
    }
   ],
   "source": [
    "from math import log\n",
    "import numpy as np\n",
    "import matplotlib.pyplot as plt\n",
    "%matplotlib inline\n",
    "plt.style.use('bmh')\n",
    "\n",
    "# Set up runtime comparisons\n",
    "n = np.linspace(1,10,1000)\n",
    "labels = ['Constant','Logarithmic','Linear','Log Linear','Quadratic','Cubic','Exponential']\n",
    "big_o = [np.ones(n.shape),np.log(n),n,n*np.log(n),n**2,n**3,2**n]\n",
    "\n",
    "# Plot setup\n",
    "plt.figure(figsize=(12,10))\n",
    "plt.ylim(0,50)\n",
    "\n",
    "for i in range(len(big_o)):\n",
    "    plt.plot(n,big_o[i],label = labels[i])\n",
    "\n",
    "\n",
    "plt.legend(loc=0)\n",
    "plt.ylabel('Relative Runtime')\n",
    "plt.xlabel('n')"
   ]
  },
  {
   "cell_type": "markdown",
   "id": "eca3e319",
   "metadata": {},
   "source": [
    "Note how much of a difference a Big-O efficiency can make for the same n value against the projected runtime! Clearly we want to choose algorithms that stay away from any exponential, quadratic, or cubic behavior!\n",
    "\n",
    "In the next lecture we will learn how to properly denote Big-O and look at examples of various problems and calculate the Big-O of them!"
   ]
  },
  {
   "cell_type": "markdown",
   "id": "bd33cef0",
   "metadata": {},
   "source": [
    "## Big O Examples\n",
    "\n",
    "In the first part of the Big-O example section we will go through various iterations of the various Big-O functions. Make sure to complete the reading assignment!\n",
    "\n",
    "Let's begin with some simple examples and explore what their Big-O is.\n",
    "\n",
    "### O(1) Constant"
   ]
  },
  {
   "cell_type": "code",
   "execution_count": 10,
   "id": "9e532534",
   "metadata": {
    "ExecuteTime": {
     "end_time": "2023-04-29T22:10:57.910984Z",
     "start_time": "2023-04-29T22:10:57.897933Z"
    }
   },
   "outputs": [
    {
     "name": "stdout",
     "output_type": "stream",
     "text": [
      "1\n"
     ]
    }
   ],
   "source": [
    "def func_constant(values):\n",
    "    '''\n",
    "    Prints first item in a list of values.\n",
    "    '''\n",
    "    print(values[0])\n",
    "    \n",
    "func_constant([1,2,3])"
   ]
  },
  {
   "cell_type": "markdown",
   "id": "964af3ac",
   "metadata": {},
   "source": [
    "Note how this function is constant because regardless of the list size, the function will only ever take a constant step size, in this case 1, printing the first value from a list. so we can see here that an input list of 100 values will print just 1 item, a list of 10,000 values will print just 1 item, and a list of **n** values will print just 1 item!"
   ]
  },
  {
   "cell_type": "markdown",
   "id": "c1540884",
   "metadata": {},
   "source": [
    "### O(n) Linear"
   ]
  },
  {
   "cell_type": "code",
   "execution_count": 11,
   "id": "0919535d",
   "metadata": {
    "ExecuteTime": {
     "end_time": "2023-04-29T22:10:57.926967Z",
     "start_time": "2023-04-29T22:10:57.912976Z"
    }
   },
   "outputs": [
    {
     "name": "stdout",
     "output_type": "stream",
     "text": [
      "1\n",
      "2\n",
      "3\n"
     ]
    }
   ],
   "source": [
    "def func_lin(lst):\n",
    "    '''\n",
    "    Takes in list and prints out all values\n",
    "    '''\n",
    "    for val in lst:\n",
    "        print(val)\n",
    "        \n",
    "func_lin([1,2,3])"
   ]
  },
  {
   "cell_type": "markdown",
   "id": "e11f05d1",
   "metadata": {},
   "source": [
    "This function runs in O(n) (linear time). This means that the number of operations taking place scales linearly with n, so we can see here that an input list of 100 values will print 100 times, a list of 10,000 values will print 10,000 times, and a list of **n** values will print **n** times."
   ]
  },
  {
   "cell_type": "markdown",
   "id": "ab5d1c8d",
   "metadata": {},
   "source": [
    "### O($n^2$) Quadratic"
   ]
  },
  {
   "cell_type": "code",
   "execution_count": 12,
   "id": "30260a47",
   "metadata": {
    "ExecuteTime": {
     "end_time": "2023-04-29T22:10:57.942535Z",
     "start_time": "2023-04-29T22:10:57.932554Z"
    }
   },
   "outputs": [
    {
     "name": "stdout",
     "output_type": "stream",
     "text": [
      "0 0\n",
      "0 1\n",
      "0 2\n",
      "0 3\n",
      "1 0\n",
      "1 1\n",
      "1 2\n",
      "1 3\n",
      "2 0\n",
      "2 1\n",
      "2 2\n",
      "2 3\n",
      "3 0\n",
      "3 1\n",
      "3 2\n",
      "3 3\n"
     ]
    }
   ],
   "source": [
    "def func_quad(lst):\n",
    "    '''\n",
    "    Prints pairs for every item in list.\n",
    "    '''\n",
    "    for item_1 in lst:\n",
    "        for item_2 in lst:\n",
    "            print(item_1,item_2)\n",
    "            \n",
    "lst = [0, 1, 2, 3]\n",
    "\n",
    "func_quad(lst)"
   ]
  },
  {
   "cell_type": "markdown",
   "id": "e316fee1",
   "metadata": {},
   "source": [
    "Note how we now have two loops, one nested inside another. This means that for a list of n items, we will have to perform n operations for *every item in the list!* This means in total, we will perform n times n assignments, or n^2. So a list of 10 items will have 10^2, or 100 operations. You can see how dangerous this can get for very large inputs! This is why Big-O is so important to be aware of!"
   ]
  },
  {
   "cell_type": "markdown",
   "id": "04fa546b",
   "metadata": {},
   "source": [
    "______\n",
    "### Calculating Scale of Big-O\n",
    "\n",
    "In this section we will discuss how insignificant terms drop out of Big-O notation.\n",
    "\n",
    "When it comes to Big O notation we only care about the most significant terms, remember as the input grows larger only the fastest growing terms will matter. If you've taken a calculus class before, this will reminf you of taking limits towards infinity. Let's see an example of how to drop constants:"
   ]
  },
  {
   "cell_type": "code",
   "execution_count": 13,
   "id": "5fec42aa",
   "metadata": {
    "ExecuteTime": {
     "end_time": "2023-04-29T22:10:57.957982Z",
     "start_time": "2023-04-29T22:10:57.944971Z"
    }
   },
   "outputs": [],
   "source": [
    "def print_once(lst):\n",
    "    '''\n",
    "    Prints all items once\n",
    "    '''\n",
    "    for val in lst:\n",
    "        print(val)"
   ]
  },
  {
   "cell_type": "code",
   "execution_count": 14,
   "id": "b5210980",
   "metadata": {
    "ExecuteTime": {
     "end_time": "2023-04-29T22:10:57.973133Z",
     "start_time": "2023-04-29T22:10:57.959227Z"
    }
   },
   "outputs": [
    {
     "name": "stdout",
     "output_type": "stream",
     "text": [
      "0\n",
      "1\n",
      "2\n",
      "3\n"
     ]
    }
   ],
   "source": [
    "print_once(lst)"
   ]
  },
  {
   "cell_type": "markdown",
   "id": "4600bcdd",
   "metadata": {},
   "source": [
    "The print_once() function is O(n) since it will scale linearly with the input. What about the next example?"
   ]
  },
  {
   "cell_type": "code",
   "execution_count": 15,
   "id": "6a4ee9cc",
   "metadata": {
    "ExecuteTime": {
     "end_time": "2023-04-29T22:10:57.988903Z",
     "start_time": "2023-04-29T22:10:57.975485Z"
    }
   },
   "outputs": [],
   "source": [
    "def print_3(lst):\n",
    "    '''\n",
    "    Prints all items three times\n",
    "    '''\n",
    "    for val in lst:\n",
    "        print(val)\n",
    "        \n",
    "    for val in lst:\n",
    "        print (val)\n",
    "        \n",
    "    for val in lst:\n",
    "        print (val)"
   ]
  },
  {
   "cell_type": "code",
   "execution_count": 16,
   "id": "6d2a62ea",
   "metadata": {
    "ExecuteTime": {
     "end_time": "2023-04-29T22:10:58.004052Z",
     "start_time": "2023-04-29T22:10:57.990104Z"
    }
   },
   "outputs": [
    {
     "name": "stdout",
     "output_type": "stream",
     "text": [
      "0\n",
      "1\n",
      "2\n",
      "3\n",
      "0\n",
      "1\n",
      "2\n",
      "3\n",
      "0\n",
      "1\n",
      "2\n",
      "3\n"
     ]
    }
   ],
   "source": [
    "print_3(lst)"
   ]
  },
  {
   "cell_type": "markdown",
   "id": "51d13f8a",
   "metadata": {},
   "source": [
    "We can see that the first function will print O(n) items and the second will print O(3n) items. However for n going to inifinity the constant can be dropped, since it will not have a large effect, so both functions are O(n).\n",
    "\n",
    "Let's see a more complex example of this:"
   ]
  },
  {
   "cell_type": "code",
   "execution_count": 17,
   "id": "bbb7622a",
   "metadata": {
    "ExecuteTime": {
     "end_time": "2023-04-29T22:10:58.019719Z",
     "start_time": "2023-04-29T22:10:58.007525Z"
    }
   },
   "outputs": [],
   "source": [
    "def comp(lst):\n",
    "    '''\n",
    "    This function prints the first item O(1)\n",
    "    Then is prints the first 1/2 of the list O(n/2)\n",
    "    Then prints a string 10 times O(10)\n",
    "    '''\n",
    "    print(lst[0])\n",
    "    \n",
    "    midpoint = len(lst) // 2\n",
    "    \n",
    "    for val in lst[:midpoint]:\n",
    "        print(val)\n",
    "        \n",
    "    for x in range(10):\n",
    "        print('number')"
   ]
  },
  {
   "cell_type": "code",
   "execution_count": 18,
   "id": "47cd615f",
   "metadata": {
    "ExecuteTime": {
     "end_time": "2023-04-29T22:10:58.035221Z",
     "start_time": "2023-04-29T22:10:58.024172Z"
    }
   },
   "outputs": [
    {
     "name": "stdout",
     "output_type": "stream",
     "text": [
      "1\n",
      "1\n",
      "2\n",
      "3\n",
      "4\n",
      "5\n",
      "number\n",
      "number\n",
      "number\n",
      "number\n",
      "number\n",
      "number\n",
      "number\n",
      "number\n",
      "number\n",
      "number\n"
     ]
    }
   ],
   "source": [
    "lst = [1,2,3,4,5,6,7,8,9,10]\n",
    "\n",
    "comp(lst)"
   ]
  },
  {
   "cell_type": "markdown",
   "id": "f39ecf03",
   "metadata": {},
   "source": [
    "So let's break down the operations here. We can combine each operation to get the total Big-O of the function:\n",
    "\n",
    "$$O(1 + n/2 + 10)$$\n",
    "\n",
    "We can see that as n grows larger the 1 and 10 terms become insignificant and the 1/2 term multiplied against n will also not have much of an effect as n goes towards infinity. This means the function is simply O(n)!"
   ]
  },
  {
   "cell_type": "markdown",
   "id": "a0c61b1b",
   "metadata": {},
   "source": [
    "### Worst Case vs Best Case\n",
    "\n",
    "Many times we are only concerned with the worst possible case of an algorithm, but in an interview setting its important to keep in mind that worst case and best case scenarios may be completely different Big-O times. For example, consider the following function:"
   ]
  },
  {
   "cell_type": "code",
   "execution_count": 19,
   "id": "61cd5171",
   "metadata": {
    "ExecuteTime": {
     "end_time": "2023-04-29T22:10:58.050817Z",
     "start_time": "2023-04-29T22:10:58.036721Z"
    }
   },
   "outputs": [],
   "source": [
    "def matcher(lst,match):\n",
    "    '''\n",
    "    Given a list lst, return a boolean indicating if match item is in the list\n",
    "    '''\n",
    "    for item in lst:\n",
    "        if item == match:\n",
    "            return True\n",
    "    return False"
   ]
  },
  {
   "cell_type": "code",
   "execution_count": 20,
   "id": "943aa6e2",
   "metadata": {
    "ExecuteTime": {
     "end_time": "2023-04-29T22:10:58.066096Z",
     "start_time": "2023-04-29T22:10:58.054135Z"
    }
   },
   "outputs": [
    {
     "data": {
      "text/plain": [
       "[1, 2, 3, 4, 5, 6, 7, 8, 9, 10]"
      ]
     },
     "execution_count": 20,
     "metadata": {},
     "output_type": "execute_result"
    }
   ],
   "source": [
    "lst"
   ]
  },
  {
   "cell_type": "code",
   "execution_count": 21,
   "id": "7a091fd7",
   "metadata": {
    "ExecuteTime": {
     "end_time": "2023-04-29T22:10:58.081814Z",
     "start_time": "2023-04-29T22:10:58.068815Z"
    }
   },
   "outputs": [
    {
     "data": {
      "text/plain": [
       "True"
      ]
     },
     "execution_count": 21,
     "metadata": {},
     "output_type": "execute_result"
    }
   ],
   "source": [
    "matcher(lst,1)"
   ]
  },
  {
   "cell_type": "code",
   "execution_count": 22,
   "id": "86e0156c",
   "metadata": {
    "ExecuteTime": {
     "end_time": "2023-04-29T22:10:58.097150Z",
     "start_time": "2023-04-29T22:10:58.083923Z"
    }
   },
   "outputs": [
    {
     "data": {
      "text/plain": [
       "False"
      ]
     },
     "execution_count": 22,
     "metadata": {},
     "output_type": "execute_result"
    }
   ],
   "source": [
    "matcher(lst,11)"
   ]
  },
  {
   "cell_type": "markdown",
   "id": "942837ea",
   "metadata": {},
   "source": [
    "Note that in the first scenario, the best case was actually O(1), since the match was found at the first element. In the case where there is no match, every element must be checked, this results in a worst case time of O(n). Later on we will also discuss average case time.\n",
    "\n",
    "Finally let's introduce the concept of space complexity.\n",
    "\n",
    "## Space Complexity\n",
    "\n",
    "Many times we are also concerned with how much memory/space an algorithm uses. The notation of space complexity is the same, but instead of checking the time of operations, we check the size of the allocation of memory.\n",
    "\n",
    "Let's see a few examples:"
   ]
  },
  {
   "cell_type": "code",
   "execution_count": 23,
   "id": "d93cb174",
   "metadata": {
    "ExecuteTime": {
     "end_time": "2023-04-29T22:10:58.112512Z",
     "start_time": "2023-04-29T22:10:58.101549Z"
    }
   },
   "outputs": [],
   "source": [
    "def printer(n=10):\n",
    "    '''\n",
    "    Prints \"hello world!\" n times\n",
    "    '''\n",
    "    for x in range(n):\n",
    "        print('Hello World!')"
   ]
  },
  {
   "cell_type": "code",
   "execution_count": 24,
   "id": "79141d4b",
   "metadata": {
    "ExecuteTime": {
     "end_time": "2023-04-29T22:10:58.128454Z",
     "start_time": "2023-04-29T22:10:58.114501Z"
    }
   },
   "outputs": [
    {
     "name": "stdout",
     "output_type": "stream",
     "text": [
      "Hello World!\n",
      "Hello World!\n",
      "Hello World!\n",
      "Hello World!\n",
      "Hello World!\n",
      "Hello World!\n",
      "Hello World!\n",
      "Hello World!\n",
      "Hello World!\n",
      "Hello World!\n"
     ]
    }
   ],
   "source": [
    "printer()"
   ]
  },
  {
   "cell_type": "markdown",
   "id": "47a1e04e",
   "metadata": {},
   "source": [
    "Note how we only assign the 'hello world!' variable once, not every time we print. So the algorithm has O(1) **space** complexity and an O(n) **time** complexity. \n",
    "\n",
    "Let's see an example of O(n) **space** complexity:"
   ]
  },
  {
   "cell_type": "code",
   "execution_count": 25,
   "id": "05fd7260",
   "metadata": {
    "ExecuteTime": {
     "end_time": "2023-04-29T22:10:58.144502Z",
     "start_time": "2023-04-29T22:10:58.131444Z"
    }
   },
   "outputs": [],
   "source": [
    "def create_list(n):\n",
    "    new_list = []\n",
    "    \n",
    "    for num in range(n):\n",
    "        new_list.append('new')\n",
    "    \n",
    "    return new_list"
   ]
  },
  {
   "cell_type": "code",
   "execution_count": 26,
   "id": "ff7f051e",
   "metadata": {
    "ExecuteTime": {
     "end_time": "2023-04-29T22:10:58.159981Z",
     "start_time": "2023-04-29T22:10:58.147019Z"
    }
   },
   "outputs": [
    {
     "name": "stdout",
     "output_type": "stream",
     "text": [
      "['new', 'new', 'new', 'new', 'new']\n"
     ]
    }
   ],
   "source": [
    "print(create_list(5))"
   ]
  },
  {
   "cell_type": "markdown",
   "id": "9f858d52",
   "metadata": {},
   "source": [
    "Note how the size of the new_list object scales with the input **n**, this shows that it is an O(n) algorithm with regards to **space** complexity.\n",
    "_____\n",
    "\n",
    "Thats it for this lecture, before continuing on, make sure to complete the homework assignment below:"
   ]
  },
  {
   "cell_type": "markdown",
   "id": "d54dcb81",
   "metadata": {},
   "source": [
    "### Homework Assignment\n",
    "\n",
    "Your homework assignment after this lecture is to read the fantastic explanations of Big-O at these two sources:\n",
    "\n",
    "* [Big-O Notation Explained](http://stackoverflow.com/questions/487258/plain-english-explanation-of-big-o/487278#487278)\n",
    "\n",
    "* [Big-O Examples Explained](http://stackoverflow.com/questions/2307283/what-does-olog-n-mean-exactly)\n",
    "\n",
    "* [Big-O Reference Cheat Sheet](https://www.bigocheatsheet.com/)"
   ]
  },
  {
   "cell_type": "markdown",
   "id": "14434045",
   "metadata": {},
   "source": [
    "## Summary \n",
    "\n",
    "It shows how an algorithm scales based on input size.\n",
    "\n",
    "**O(n^2^)**: known as **Quadratic complexity**\n",
    "\n",
    "-   1 item: 1 operations\n",
    "-   10 items: 100 operations\n",
    "-   100 items: 10,000 operations\n",
    "\n",
    "Notice that the number of items increases by a factor of 10, but the time increases by a factor of 10^2^. Basically, n=10 and so O(n^2^) gives us the scaling factor n^2^ which is 10^2^.\n",
    "\n",
    "**O(n)**: known as **Linear complexity**\n",
    "\n",
    "-   1 item: 1 operation\n",
    "-   10 items: 10 operations\n",
    "-   100 items: 100 operations\n",
    "\n",
    "This time the number of items increases by a factor of 10, and so does the time. n=10 and so O(n)'s scaling factor is 10.\n",
    "\n",
    "**O(1)**: known as **Constant complexity**\n",
    "\n",
    "-   1 item: 1 operations\n",
    "-   10 items: 1 operations\n",
    "-   100 items: 1 operations\n",
    "\n",
    "The number of items is still increasing by a factor of 10, but the scaling factor of O(1) is always 1.\n",
    "\n",
    "**O(log n)**: known as **Logarithmic complexity**\n",
    "\n",
    "-   1 item: 1 operations\n",
    "-   10 items: 2 operations\n",
    "-   100 items: 3 operations\n",
    "-   1000 items: 4 operations\n",
    "-   10,000 items: 5 operations\n",
    "\n",
    "The number of computations is only increased by a log of the input value. So in this case, assuming each computation takes 1 second, the log of the input `n` is the time required, hence `log n`.\n",
    "\n",
    "That's the gist of it. They reduce the maths down so it might not be exactly n^2^ or whatever they say it is, but that'll be the dominating factor in the scaling."
   ]
  },
  {
   "cell_type": "markdown",
   "id": "6c062bb2",
   "metadata": {},
   "source": [
    "## Big O for Python Data Structures\n",
    "In this lecture we will go over the Big O of built-in data structures in Python: Lists and Dictionaries."
   ]
  },
  {
   "cell_type": "markdown",
   "id": "59cf47c3",
   "metadata": {},
   "source": [
    "### Lists\n",
    "\n",
    "In Python lists act as dynamic arrays and support a number of common operations through methods called on them. The two most common operations performed on a list are indexing and assigning to an index position. These operations are both designed to be run in constant time, O(1).\n",
    "\n",
    "Let's imagine you wanted to test different methods to construct a list that is [0,1,2...10000]. Let go ahead and compare various methods, such as appending to the end of a list, concatenating a list, or using tools such as casting and list comprehension.\n",
    "\n",
    "For example:"
   ]
  },
  {
   "cell_type": "code",
   "execution_count": 27,
   "id": "364772ee",
   "metadata": {
    "ExecuteTime": {
     "end_time": "2023-04-29T22:10:58.175949Z",
     "start_time": "2023-04-29T22:10:58.168950Z"
    }
   },
   "outputs": [],
   "source": [
    "def method1():\n",
    "    l = []\n",
    "    for n in range(10000):\n",
    "        l = l + [n]\n",
    "\n",
    "def method2():\n",
    "    l = []\n",
    "    for n in range(10000):\n",
    "        l.append(n)\n",
    "\n",
    "def method3():\n",
    "    l = [n for n in range(10000)]\n",
    "\n",
    "def method4():\n",
    "    l = list(range(10000))"
   ]
  },
  {
   "cell_type": "markdown",
   "id": "ecafd170",
   "metadata": {
    "ExecuteTime": {
     "end_time": "2023-04-29T07:07:14.136648Z",
     "start_time": "2023-04-29T07:07:14.118424Z"
    }
   },
   "source": [
    "Let's now test these methods using the timeit magic function:"
   ]
  },
  {
   "cell_type": "code",
   "execution_count": 28,
   "id": "740399a5",
   "metadata": {
    "ExecuteTime": {
     "end_time": "2023-04-29T22:11:14.482241Z",
     "start_time": "2023-04-29T22:10:58.179297Z"
    }
   },
   "outputs": [
    {
     "name": "stdout",
     "output_type": "stream",
     "text": [
      "153 ms ± 30.6 ms per loop (mean ± std. dev. of 7 runs, 1 loop each)\n",
      "530 µs ± 36.2 µs per loop (mean ± std. dev. of 7 runs, 1,000 loops each)\n",
      "266 µs ± 57.3 µs per loop (mean ± std. dev. of 7 runs, 1,000 loops each)\n",
      "101 µs ± 10.2 µs per loop (mean ± std. dev. of 7 runs, 10,000 loops each)\n"
     ]
    }
   ],
   "source": [
    "%timeit method1()\n",
    "%timeit method2()\n",
    "%timeit method3()\n",
    "%timeit method4()"
   ]
  },
  {
   "cell_type": "markdown",
   "id": "41a718d7",
   "metadata": {},
   "source": [
    "We can clearly see that the most effective method is the built-in range() function in Python!\n",
    "\n",
    "It is important to keep these factors in mind when writing efficient code. More importantly begin thinking about how we are able to index with O(1). We will discuss this in more detail when we cover arrays general. For now, take a look at the table below for an overview of Big-O efficiencies."
   ]
  },
  {
   "cell_type": "markdown",
   "id": "84799325",
   "metadata": {},
   "source": [
    "#### Table of Big-O for common list operations\n",
    "\n",
    "** Please note, in order to see this table, you may need to download this .ipynb file and view it locally, sometimes GitHub or nbveiwer have trouble showing the HTML for it... **"
   ]
  },
  {
   "cell_type": "markdown",
   "id": "56a5acc7",
   "metadata": {},
   "source": [
    "| Operation        | Big-O Efficiency |\n",
    "|------------------|-----------------|\n",
    "| index []         | O(1)            |\n",
    "| index assignment | O(1)            |\n",
    "| append           | O(1)            |\n",
    "| pop()            | O(1)            |\n",
    "| pop(i)           | O(n)            |\n",
    "| insert(i, item)  | O(n)            |\n",
    "| del operator     | O(n)            |\n",
    "| iteration        | O(n)            |\n",
    "| contains (in)    | O(n)            |\n",
    "| get slice [x:y]  | O(k)            |\n",
    "| del slice        | O(n)            |\n",
    "| set slice        | O(n+k)          |\n",
    "| reverse          | O(n)            |\n",
    "| concatenate      | O(k)            |\n",
    "| sort             | O(n log n)      |\n",
    "| multiply         | O(nk)           |"
   ]
  },
  {
   "cell_type": "markdown",
   "id": "3f5e55ca",
   "metadata": {},
   "source": [
    "| Data Structures    | Space Complexity | Access   | Search   | Insertion | Deletion |\n",
    "|--------------------|------------------|----------|----------|-----------|----------|\n",
    "| Array              | O(n)             | O(1)     | O(n)     | O(n)      | O(n)     |\n",
    "| Stack              | O(n)             | O(n)     | O(n)     | O(1)      | O(1)     |\n",
    "| Queue              | O(n)             | O(n)     | O(n)     | O(1)      | O(1)     |\n",
    "| Singly Linked List | O(n)             | O(n)     | O(n)     | O(1)      | O(1)     |\n",
    "| Doubly Linked List | O(n)             | O(n)     | O(n)     | O(1)      | O(1)     |\n",
    "| Hash Table         | O(n)             | N/A      | O(1)     | O(1)      | O(1)     |\n",
    "| Binary Search Tree | O(n)             | O(log n) | O(log n) | O(log n)  | O(log n) |"
   ]
  },
  {
   "cell_type": "markdown",
   "id": "07165f5e",
   "metadata": {},
   "source": [
    "### Dictionaries\n",
    "\n",
    "Dictionaries in Python are an implementation of a hash table. They operate with keys and values, for example:"
   ]
  },
  {
   "cell_type": "code",
   "execution_count": 29,
   "id": "72c2020e",
   "metadata": {
    "ExecuteTime": {
     "end_time": "2023-04-29T22:11:14.498433Z",
     "start_time": "2023-04-29T22:11:14.484247Z"
    }
   },
   "outputs": [],
   "source": [
    "d = {'k1':1,'k2':2}"
   ]
  },
  {
   "cell_type": "code",
   "execution_count": 30,
   "id": "829f0f27",
   "metadata": {
    "ExecuteTime": {
     "end_time": "2023-04-29T22:11:14.513626Z",
     "start_time": "2023-04-29T22:11:14.500695Z"
    }
   },
   "outputs": [
    {
     "data": {
      "text/plain": [
       "1"
      ]
     },
     "execution_count": 30,
     "metadata": {},
     "output_type": "execute_result"
    }
   ],
   "source": [
    "d['k1']"
   ]
  },
  {
   "cell_type": "markdown",
   "id": "2eebfdec",
   "metadata": {},
   "source": [
    "Something that is pretty amazing is that getting and setting items in a dictionary are O(1)! Hash tables are designed with efficiency in mind, and we will explore them in much more detail later on in the course as one of the most important data structures to undestand. In the meantime, refer to the table below for Big-O efficiencies of common dictionary operations:"
   ]
  },
  {
   "cell_type": "markdown",
   "id": "c6b607c0",
   "metadata": {},
   "source": [
    "\n",
    "<table border=\"1\">\n",
    "<thead valign=\"bottom\">\n",
    "<tr class=\"row-odd\"><th class=\"head\">Operation</th>\n",
    "<th class=\"head\">Big-O Efficiency</th>\n",
    "</tr>\n",
    "</thead>\n",
    "<tbody valign=\"top\">\n",
    "<tr class=\"row-even\"><td>copy</td>\n",
    "<td>O(n)</td>\n",
    "</tr>\n",
    "<tr class=\"row-odd\"><td>get item</td>\n",
    "<td>O(1)</td>\n",
    "</tr>\n",
    "<tr class=\"row-even\"><td>set item</td>\n",
    "<td>O(1)</td>\n",
    "</tr>\n",
    "<tr class=\"row-odd\"><td>delete item</td>\n",
    "<td>O(1)</td>\n",
    "</tr>\n",
    "<tr class=\"row-even\"><td>contains (in)</td>\n",
    "<td>O(1)</td>\n",
    "</tr>\n",
    "<tr class=\"row-odd\"><td>iteration</td>\n",
    "<td>O(n)</td>\n",
    "</tr>\n",
    "</tbody>\n",
    "</table>"
   ]
  },
  {
   "cell_type": "markdown",
   "id": "91777991",
   "metadata": {},
   "source": [
    "## Conclusion\n",
    "\n",
    "By the end of this section you should have an understanding of how Big-O is used in Algorithm analysis and be able to work out the Big-O of an algorithm you've developed. Get ready, there's a quiz up next!"
   ]
  },
  {
   "cell_type": "markdown",
   "id": "9ab47c4b",
   "metadata": {},
   "source": [
    "## Examples"
   ]
  },
  {
   "cell_type": "code",
   "execution_count": null,
   "id": "54aea0ff",
   "metadata": {},
   "outputs": [],
   "source": []
  },
  {
   "cell_type": "code",
   "execution_count": null,
   "id": "5feb9d2a",
   "metadata": {},
   "outputs": [],
   "source": []
  },
  {
   "cell_type": "code",
   "execution_count": null,
   "id": "a8960ed6",
   "metadata": {},
   "outputs": [],
   "source": []
  },
  {
   "cell_type": "code",
   "execution_count": null,
   "id": "89c1e06f",
   "metadata": {},
   "outputs": [],
   "source": []
  },
  {
   "cell_type": "code",
   "execution_count": null,
   "id": "9560ba25",
   "metadata": {},
   "outputs": [],
   "source": []
  },
  {
   "cell_type": "code",
   "execution_count": null,
   "id": "af12223c",
   "metadata": {},
   "outputs": [],
   "source": []
  },
  {
   "cell_type": "markdown",
   "id": "8b6d729b",
   "metadata": {},
   "source": [
    "---"
   ]
  },
  {
   "cell_type": "markdown",
   "id": "627393a0",
   "metadata": {},
   "source": [
    "# Array "
   ]
  },
  {
   "cell_type": "markdown",
   "id": "0e38c00c",
   "metadata": {},
   "source": [
    "[Python Array Tutorial – Define, Index, Methods](https://www.freecodecamp.org/news/python-array-tutorial-define-index-methods/#differences)"
   ]
  },
  {
   "cell_type": "markdown",
   "id": "833479ba",
   "metadata": {},
   "source": [
    " ## Difference between Python Lists and Python Array\n",
    " \n",
    "- Lists are one of the most common data structures in Python, and a core part of the language.\n",
    "\n",
    "- Lists and arrays behave similarly.\n",
    "\n",
    "- Just like arrays, lists are an ordered sequence of elements.\n",
    "\n",
    "- They are also mutable and not fixed in size, which means they can grow and shrink throughout the life of the program. Items can be added and removed, making them very flexible to work with.\n",
    "\n",
    "However, lists and arrays are not the same thing.\n",
    "\n",
    "- **Lists** store items that are of **various data types**. This means that a list can contain integers, floating point numbers, strings, or any other Python data type, at the same time. That is not the case with arrays.\n",
    "\n",
    "- As mentioned in the section above, **arrays** store only items that are of the **same single data type**. There are arrays that contain only integers, or only floating point numbers, or only any other Python data type you want to use."
   ]
  },
  {
   "cell_type": "markdown",
   "id": "ca1e2ac3",
   "metadata": {
    "ExecuteTime": {
     "end_time": "2023-04-29T08:50:49.765212Z",
     "start_time": "2023-04-29T08:50:49.754922Z"
    }
   },
   "source": [
    "## Introduction to Array Based Sequences\n",
    "\n",
    "In this lecture, we will get a brief overview of the \"sequence\" type object classes available in Python. These are mainly the **list**,**tuple**, and **string** objects. The main commonaility between these object types is the ability to index to access individual elements in the sequence. For example:"
   ]
  },
  {
   "cell_type": "code",
   "execution_count": 31,
   "id": "88ed4b5d",
   "metadata": {
    "ExecuteTime": {
     "end_time": "2023-04-29T22:11:14.529337Z",
     "start_time": "2023-04-29T22:11:14.516424Z"
    }
   },
   "outputs": [
    {
     "data": {
      "text/plain": [
       "1"
      ]
     },
     "execution_count": 31,
     "metadata": {},
     "output_type": "execute_result"
    }
   ],
   "source": [
    "l = [1,2,3]\n",
    "l[0]"
   ]
  },
  {
   "cell_type": "code",
   "execution_count": 32,
   "id": "9550ffad",
   "metadata": {
    "ExecuteTime": {
     "end_time": "2023-04-29T22:11:14.544712Z",
     "start_time": "2023-04-29T22:11:14.531407Z"
    }
   },
   "outputs": [
    {
     "data": {
      "text/plain": [
       "1"
      ]
     },
     "execution_count": 32,
     "metadata": {},
     "output_type": "execute_result"
    }
   ],
   "source": [
    "t = (1,2,3)\n",
    "t[0]"
   ]
  },
  {
   "cell_type": "code",
   "execution_count": 33,
   "id": "58fe9bc3",
   "metadata": {
    "ExecuteTime": {
     "end_time": "2023-04-29T22:11:14.559828Z",
     "start_time": "2023-04-29T22:11:14.546871Z"
    }
   },
   "outputs": [
    {
     "data": {
      "text/plain": [
       "'1'"
      ]
     },
     "execution_count": 33,
     "metadata": {},
     "output_type": "execute_result"
    }
   ],
   "source": [
    "s = '123'\n",
    "s[0]"
   ]
  },
  {
   "cell_type": "markdown",
   "id": "bdbbd304",
   "metadata": {},
   "source": [
    "- An array is a collection of items stored at contiguous memory locations. The idea is to store multiple items of the same type together. This makes it easier to calculate the position of each element by simply adding an offset to a base value, i.e., the memory location of the first element of the array (generally denoted by the name of the array).\n",
    "\n",
    "- or simplicity, we can think of an array a fleet of stairs where on each step is placed a value (let’s say one of your friends). Here, you can identify the location of any of your friends by simply knowing the count of the step they are on. Array can be handled in Python by a module named array. They can be useful when we have to manipulate only a specific data type values. A user can treat lists as arrays. However, user cannot constraint the type of elements stored in a list. If you create arrays using the array module, all elements of the array must be of the same type.\n",
    "![title](https://media.geeksforgeeks.org/wp-content/uploads/CommonArticleDesign1-min.png)\n",
    "\n",
    "- Array in Python can be created by importing `array module`. `array(data_type, value_list)` is used to create an array with data type and value list specified in its arguments."
   ]
  },
  {
   "cell_type": "markdown",
   "id": "5f5513b7",
   "metadata": {},
   "source": [
    "## When to Use Python Arrays\n",
    "\n",
    "- Arrays of the array module are a thin wrapper over C arrays, and are **useful when you want to work with homogeneous data.**\n",
    "\n",
    "- They are also more *compact* and take up *less memory and space* which makes them **more size efficient compared to lists**.\n",
    "\n",
    "- If you want to perform mathematical calculations, then you should use NumPy arrays by importing the NumPy package. Besides that, you should just use Python arrays when you really need to, as lists work in a similar way and are more flexible to work with."
   ]
  },
  {
   "cell_type": "code",
   "execution_count": 8,
   "id": "cf68b88b",
   "metadata": {
    "ExecuteTime": {
     "end_time": "2023-05-07T16:00:03.854152Z",
     "start_time": "2023-05-07T16:00:03.834383Z"
    }
   },
   "outputs": [
    {
     "name": "stdout",
     "output_type": "stream",
     "text": [
      "The new created array is :  1 2 3 \n"
     ]
    }
   ],
   "source": [
    "# Python program to demonstrate\n",
    "# Creation of Array\n",
    "\n",
    "# importing \"array\" for array creations\n",
    "import array as arr\n",
    "\n",
    "# creating an array with integer type\n",
    "a = arr.array('i', [1, 2, 3])\n",
    "\n",
    "# printing original array\n",
    "print(\"The new created array is : \", end=\" \")\n",
    "for i in range(0, 3):\n",
    "    print(a[i], end=\" \")\n",
    "print()"
   ]
  },
  {
   "cell_type": "code",
   "execution_count": 9,
   "id": "6f4da3c7",
   "metadata": {
    "ExecuteTime": {
     "end_time": "2023-05-07T16:00:04.985139Z",
     "start_time": "2023-05-07T16:00:04.973860Z"
    }
   },
   "outputs": [
    {
     "name": "stdout",
     "output_type": "stream",
     "text": [
      "The new created array is :  2.5 3.2 3.3 "
     ]
    }
   ],
   "source": [
    "# creating an array with float type\n",
    "b = arr.array('d', [2.5, 3.2, 3.3])\n",
    "\n",
    "# printing original array\n",
    "print(\"The new created array is : \", end=\" \")\n",
    "for i in range(0, 3):\n",
    "    print(b[i], end=\" \")"
   ]
  },
  {
   "cell_type": "markdown",
   "id": "2ccf3e12",
   "metadata": {},
   "source": [
    "## creating an array of different data types\n",
    "\n",
    "- `variable_name = array(typecode,[elements])`\n",
    "\n",
    "- In order to create Python arrays, you'll first have to import the array module which contains all the necessary functions. `import array as arr`\n",
    "\n",
    "\n",
    "\n",
    "- **typecode: Some of the data types are mentioned below which will help in creating an array of different data types**"
   ]
  },
  {
   "cell_type": "markdown",
   "id": "7b224faf",
   "metadata": {},
   "source": [
    "| TYPECODE | C TYPE             | PYTHON TYPE       | SIZE |\n",
    "|----------|--------------------|-------------------|------|\n",
    "| 'b'      | signed char        | int               | 1    |\n",
    "| 'B'      | unsigned char      | int               | 1    |\n",
    "| 'u'      | wchar_t            | Unicode character | 2    |\n",
    "| 'h'      | signed short       | int               | 2    |\n",
    "| 'H'      | unsigned short     | int               | 2    |\n",
    "| 'i'      | signed int         | int               | 2    |\n",
    "| 'I'      | unsigned int       | int               | 2    |\n",
    "| 'l'      | signed long        | int               | 4    |\n",
    "| 'L'      | unsigned long      | int               | 4    |\n",
    "| 'q'      | signed long long   | int               | 8    |\n",
    "| 'Q'      | unsigned long long | int               | 8    |\n",
    "| 'f'      | float              | float             | 4    |\n",
    "| 'd'      | double             | float             | 8    |"
   ]
  },
  {
   "cell_type": "markdown",
   "id": "f9ad4481",
   "metadata": {},
   "source": [
    "**`variable_name = array(typecode,[elements])`**\n",
    "\n",
    "- `variable_name` would be the name of the array.\n",
    "\n",
    "- The `typecode` specifies what kind of elements would be stored in the array. Whether it would be an array of integers, an array of floats or an array of any other Python data type. *Remember that all elements should be of the same data type.*\n",
    "\n",
    "- Inside square brackets you mention the elements that would be stored in the array, with each element being separated by a comma. You can also create an *empty array by just writing* `variable_name = array(typecode)` alone, without any elements.\n"
   ]
  },
  {
   "cell_type": "code",
   "execution_count": 3,
   "id": "949554ee",
   "metadata": {
    "ExecuteTime": {
     "end_time": "2023-05-08T13:05:29.896101Z",
     "start_time": "2023-05-08T13:05:29.883231Z"
    }
   },
   "outputs": [
    {
     "name": "stdout",
     "output_type": "stream",
     "text": [
      "array('i', [10, 20, 30])\n"
     ]
    }
   ],
   "source": [
    "import array as arr \n",
    "\n",
    "numbers = arr.array('i',[10,20,30])\n",
    "\n",
    "\n",
    "print(numbers)\n",
    "\n",
    "#output\n",
    "\n",
    "#array('i', [10, 20, 30])"
   ]
  },
  {
   "cell_type": "code",
   "execution_count": 5,
   "id": "ab3db425",
   "metadata": {
    "ExecuteTime": {
     "end_time": "2023-05-08T13:05:38.543142Z",
     "start_time": "2023-05-08T13:05:38.519436Z"
    }
   },
   "outputs": [
    {
     "data": {
      "text/plain": [
       "3"
      ]
     },
     "execution_count": 5,
     "metadata": {},
     "output_type": "execute_result"
    }
   ],
   "source": [
    "len(numbers)"
   ]
  },
  {
   "cell_type": "code",
   "execution_count": 49,
   "id": "68280cb1",
   "metadata": {
    "ExecuteTime": {
     "end_time": "2023-05-09T07:57:52.461484Z",
     "start_time": "2023-05-09T07:57:52.409020Z"
    }
   },
   "outputs": [
    {
     "ename": "TypeError",
     "evalue": "integer argument expected, got float",
     "output_type": "error",
     "traceback": [
      "\u001b[1;31m---------------------------------------------------------------------------\u001b[0m",
      "\u001b[1;31mTypeError\u001b[0m                                 Traceback (most recent call last)",
      "Cell \u001b[1;32mIn[49], line 3\u001b[0m\n\u001b[0;32m      1\u001b[0m \u001b[38;5;28;01mimport\u001b[39;00m \u001b[38;5;21;01marray\u001b[39;00m \u001b[38;5;28;01mas\u001b[39;00m \u001b[38;5;21;01marr\u001b[39;00m \n\u001b[1;32m----> 3\u001b[0m numbers \u001b[38;5;241m=\u001b[39m \u001b[43marr\u001b[49m\u001b[38;5;241;43m.\u001b[39;49m\u001b[43marray\u001b[49m\u001b[43m(\u001b[49m\u001b[38;5;124;43m'\u001b[39;49m\u001b[38;5;124;43mi\u001b[39;49m\u001b[38;5;124;43m'\u001b[39;49m\u001b[43m,\u001b[49m\u001b[43m[\u001b[49m\u001b[38;5;241;43m10.0\u001b[39;49m\u001b[43m,\u001b[49m\u001b[38;5;241;43m20\u001b[39;49m\u001b[43m,\u001b[49m\u001b[38;5;241;43m30\u001b[39;49m\u001b[43m]\u001b[49m\u001b[43m)\u001b[49m\n\u001b[0;32m      6\u001b[0m \u001b[38;5;28mprint\u001b[39m(numbers)\n",
      "\u001b[1;31mTypeError\u001b[0m: integer argument expected, got float"
     ]
    }
   ],
   "source": [
    "import array as arr \n",
    "\n",
    "numbers = arr.array('i',[10.0,20,30])\n",
    "\n",
    "\n",
    "print(numbers)\n"
   ]
  },
  {
   "cell_type": "markdown",
   "id": "3a9ef2a2",
   "metadata": {},
   "source": [
    "In the example above, I tried to include a floating point number in the array. I got an error because this is meant to be an integer array only."
   ]
  },
  {
   "cell_type": "markdown",
   "id": "8192d6ce",
   "metadata": {},
   "source": [
    "**To find out the exact number of elements contained in an array, use the built-in `len()` method.**"
   ]
  },
  {
   "cell_type": "code",
   "execution_count": 6,
   "id": "1d1cb119",
   "metadata": {
    "ExecuteTime": {
     "end_time": "2023-05-08T13:09:43.844350Z",
     "start_time": "2023-05-08T13:09:43.835269Z"
    }
   },
   "outputs": [
    {
     "name": "stdout",
     "output_type": "stream",
     "text": [
      "3\n"
     ]
    }
   ],
   "source": [
    "import array as arr \n",
    "\n",
    "numbers = arr.array('i',[10,20,30])\n",
    "\n",
    "\n",
    "print(len(numbers))"
   ]
  },
  {
   "cell_type": "markdown",
   "id": "62794632",
   "metadata": {},
   "source": [
    "To access an element, you first write the name of the array followed by square brackets. Inside the square brackets you include the item's index number.\n",
    "\n",
    "The general syntax would look something like this:\n",
    "\n",
    "`array_name[index_value_of_item ]`"
   ]
  },
  {
   "cell_type": "code",
   "execution_count": 7,
   "id": "a511e6a3",
   "metadata": {
    "ExecuteTime": {
     "end_time": "2023-05-08T13:09:56.262225Z",
     "start_time": "2023-05-08T13:09:56.246319Z"
    }
   },
   "outputs": [
    {
     "name": "stdout",
     "output_type": "stream",
     "text": [
      "10\n",
      "20\n",
      "30\n"
     ]
    }
   ],
   "source": [
    "import array as arr \n",
    "\n",
    "numbers = arr.array('i',[10,20,30])\n",
    "\n",
    "print(numbers[0]) # gets the 1st element\n",
    "print(numbers[1]) # gets the 2nd element\n",
    "print(numbers[2]) # gets the 3rd element"
   ]
  },
  {
   "cell_type": "code",
   "execution_count": 8,
   "id": "5ced8808",
   "metadata": {
    "ExecuteTime": {
     "end_time": "2023-05-08T13:10:13.852753Z",
     "start_time": "2023-05-08T13:10:13.828218Z"
    }
   },
   "outputs": [
    {
     "name": "stdout",
     "output_type": "stream",
     "text": [
      "30\n",
      "20\n",
      "10\n"
     ]
    }
   ],
   "source": [
    "import array as arr \n",
    "\n",
    "numbers = arr.array('i',[10,20,30])\n",
    "\n",
    "print(numbers[-1]) #gets last item\n",
    "print(numbers[-2]) #gets second to last item\n",
    "print(numbers[-3]) #gets first item"
   ]
  },
  {
   "cell_type": "markdown",
   "id": "41b7d362",
   "metadata": {},
   "source": [
    "You can find out an element's index number by using the `index()` method."
   ]
  },
  {
   "cell_type": "code",
   "execution_count": 10,
   "id": "2b96851f",
   "metadata": {
    "ExecuteTime": {
     "end_time": "2023-05-08T13:11:02.409754Z",
     "start_time": "2023-05-08T13:11:02.385981Z"
    }
   },
   "outputs": [
    {
     "name": "stdout",
     "output_type": "stream",
     "text": [
      "0\n",
      "2\n"
     ]
    }
   ],
   "source": [
    "import array as arr \n",
    "\n",
    "numbers = arr.array('i',[10,20,30])\n",
    "\n",
    "#search for the index of the value 10\n",
    "print(numbers.index(10))\n",
    "print(numbers.index(30))"
   ]
  },
  {
   "cell_type": "markdown",
   "id": "ce401e62",
   "metadata": {},
   "source": [
    "If there is more than one element with the same value, the index of the first instance of the value will be returned:"
   ]
  },
  {
   "cell_type": "code",
   "execution_count": 11,
   "id": "05c7bac8",
   "metadata": {
    "ExecuteTime": {
     "end_time": "2023-05-08T13:11:29.972139Z",
     "start_time": "2023-05-08T13:11:29.949122Z"
    }
   },
   "outputs": [
    {
     "name": "stdout",
     "output_type": "stream",
     "text": [
      "0\n"
     ]
    }
   ],
   "source": [
    "import array as arr \n",
    "\n",
    "\n",
    "numbers = arr.array('i',[10,20,30,10,20,30])\n",
    "\n",
    "#search for the index of the value 10\n",
    "#will return the index number of the first instance of the value 10\n",
    "print(numbers.index(10))"
   ]
  },
  {
   "cell_type": "markdown",
   "id": "16857c8a",
   "metadata": {},
   "source": [
    "**How to Loop through an Array in Python**"
   ]
  },
  {
   "cell_type": "code",
   "execution_count": 12,
   "id": "b3faf0d2",
   "metadata": {
    "ExecuteTime": {
     "end_time": "2023-05-08T13:11:59.788999Z",
     "start_time": "2023-05-08T13:11:59.769069Z"
    }
   },
   "outputs": [
    {
     "name": "stdout",
     "output_type": "stream",
     "text": [
      "10\n",
      "20\n",
      "30\n"
     ]
    }
   ],
   "source": [
    "import array as arr \n",
    "\n",
    "numbers = arr.array('i',[10,20,30])\n",
    "\n",
    "for number in numbers:\n",
    "    print(number)"
   ]
  },
  {
   "cell_type": "code",
   "execution_count": 13,
   "id": "baeb1513",
   "metadata": {
    "ExecuteTime": {
     "end_time": "2023-05-08T13:17:54.624102Z",
     "start_time": "2023-05-08T13:17:54.599335Z"
    }
   },
   "outputs": [
    {
     "name": "stdout",
     "output_type": "stream",
     "text": [
      "10\n",
      "20\n",
      "30\n"
     ]
    }
   ],
   "source": [
    "import array as arr  \n",
    "\n",
    "values = arr.array('i',[10,20,30])\n",
    "\n",
    "#prints each individual value in the array\n",
    "for value in range(len(values)):\n",
    "    print(values[value])"
   ]
  },
  {
   "cell_type": "code",
   "execution_count": null,
   "id": "b88204fa",
   "metadata": {},
   "outputs": [],
   "source": []
  },
  {
   "cell_type": "code",
   "execution_count": null,
   "id": "a1ca9c88",
   "metadata": {},
   "outputs": [],
   "source": []
  },
  {
   "cell_type": "markdown",
   "id": "a75c73ce",
   "metadata": {},
   "source": [
    "## Adding elements in array"
   ]
  },
  {
   "cell_type": "markdown",
   "id": "09997236",
   "metadata": {},
   "source": [
    "**adding an element using `insert()`**\n",
    "\n",
    "`insert()` method, to add an item at a specific position."
   ]
  },
  {
   "cell_type": "code",
   "execution_count": 22,
   "id": "ff3b8a0b",
   "metadata": {
    "ExecuteTime": {
     "end_time": "2023-05-08T13:26:55.078491Z",
     "start_time": "2023-05-08T13:26:55.064135Z"
    }
   },
   "outputs": [
    {
     "name": "stdout",
     "output_type": "stream",
     "text": [
      "array('i', [1, 2, 3])\n",
      "Array after insertion :  array('i', [1, 4, 2, 3])\n"
     ]
    }
   ],
   "source": [
    "import array as arr\n",
    "a = arr.array('i', [1, 2, 3])\n",
    "print(a)\n",
    "\n",
    "a.insert(1, 4)\n",
    "print(\"Array after insertion : \", end=\" \")\n",
    "print(a)\n"
   ]
  },
  {
   "cell_type": "markdown",
   "id": "64dee623",
   "metadata": {
    "ExecuteTime": {
     "end_time": "2023-05-08T13:28:29.524965Z",
     "start_time": "2023-05-08T13:28:29.499874Z"
    }
   },
   "source": [
    "**adding an element using `append()`**\n",
    "\n",
    "To add one single value at the end of an array, use the `append()` method"
   ]
  },
  {
   "cell_type": "code",
   "execution_count": 24,
   "id": "28f20712",
   "metadata": {
    "ExecuteTime": {
     "end_time": "2023-05-08T13:28:51.461261Z",
     "start_time": "2023-05-08T13:28:51.440476Z"
    }
   },
   "outputs": [
    {
     "name": "stdout",
     "output_type": "stream",
     "text": [
      "Array before insertion :  array('d', [2.5, 3.2, 3.3])\n",
      "Array after insertion :  array('d', [2.5, 3.2, 3.3, 4.4])\n"
     ]
    }
   ],
   "source": [
    "b = arr.array('d', [2.5, 3.2, 3.3])\n",
    "print(\"Array before insertion : \", end=\" \")\n",
    "print(b)\n",
    "\n",
    "\n",
    "b.append(4.4)\n",
    "\n",
    "print(\"Array after insertion : \", end=\" \")\n",
    "print(b)"
   ]
  },
  {
   "cell_type": "markdown",
   "id": "e13f0baa",
   "metadata": {},
   "source": [
    "**adding an element using `extend()`**\n",
    "\n",
    "Use the extend() method, which takes an iterable (such as a list of items) as an argument. Again, make sure that the new items are all the same data type."
   ]
  },
  {
   "cell_type": "code",
   "execution_count": 26,
   "id": "2908f7bf",
   "metadata": {
    "ExecuteTime": {
     "end_time": "2023-05-08T13:35:25.988292Z",
     "start_time": "2023-05-08T13:35:25.971386Z"
    }
   },
   "outputs": [
    {
     "name": "stdout",
     "output_type": "stream",
     "text": [
      "array('i', [10, 20, 30])\n",
      "array('i', [10, 20, 30, 40, 50, 60])\n"
     ]
    }
   ],
   "source": [
    "import array as arr \n",
    "\n",
    "#original array\n",
    "numbers = arr.array('i',[10,20,30])\n",
    "print(numbers)\n",
    "\n",
    "#add the integers 40,50,60 to the end of numbers\n",
    "#The numbers need to be enclosed in square brackets\n",
    "\n",
    "numbers.extend([40,50,60])\n",
    "\n",
    "print(numbers)"
   ]
  },
  {
   "cell_type": "markdown",
   "id": "5a597ca3",
   "metadata": {},
   "source": [
    "## Removing Elements from array\n",
    "\n",
    "- elements can be removed from the array by using built-in **`remove()`** function but an **Error arises if element doesn’t exist in the set**. **`remove()` method only removes one element at a time,** to **remove range of elements, iterator is used.**\n",
    "\n",
    "- `pop()` function can also be used to **remove and return an element from the array**, but by default it removes only the last element of the array, to remove element from a specific position of the array, index of the element is passed as an argument to the pop() method.\n",
    "\n"
   ]
  },
  {
   "cell_type": "markdown",
   "id": "2704bfc3",
   "metadata": {},
   "source": [
    "To remove an element from an array, use the `remove()` method and include the **value as an argument to the method.**"
   ]
  },
  {
   "cell_type": "code",
   "execution_count": 36,
   "id": "60a77d9b",
   "metadata": {
    "ExecuteTime": {
     "end_time": "2023-05-08T13:46:28.638319Z",
     "start_time": "2023-05-08T13:46:28.630909Z"
    }
   },
   "outputs": [
    {
     "name": "stdout",
     "output_type": "stream",
     "text": [
      "array('i', [10, 20, 30])\n",
      "array('i', [20, 30])\n"
     ]
    }
   ],
   "source": [
    "import array as arr \n",
    "\n",
    "#original array\n",
    "numbers = arr.array('i',[10,20,30])\n",
    "print(numbers)\n",
    "\n",
    "numbers.remove(10)\n",
    "print(numbers)"
   ]
  },
  {
   "cell_type": "markdown",
   "id": "67a80c2b",
   "metadata": {},
   "source": [
    "**Note– Remove method in List will only remove the first occurrence of the searched element.**"
   ]
  },
  {
   "cell_type": "code",
   "execution_count": 37,
   "id": "d3d5693e",
   "metadata": {
    "ExecuteTime": {
     "end_time": "2023-05-08T13:47:20.637870Z",
     "start_time": "2023-05-08T13:47:20.629864Z"
    }
   },
   "outputs": [
    {
     "name": "stdout",
     "output_type": "stream",
     "text": [
      "array('i', [10, 20, 30, 10, 20])\n",
      "array('i', [20, 30, 10, 20])\n"
     ]
    }
   ],
   "source": [
    "import array as arr \n",
    "\n",
    "#original array\n",
    "numbers = arr.array('i',[10,20,30,10,20])\n",
    "print(numbers)\n",
    "\n",
    "numbers.remove(10)\n",
    "print(numbers)"
   ]
  },
  {
   "cell_type": "code",
   "execution_count": 33,
   "id": "7556dd14",
   "metadata": {
    "ExecuteTime": {
     "end_time": "2023-05-08T13:43:49.139263Z",
     "start_time": "2023-05-08T13:43:49.120899Z"
    }
   },
   "outputs": [
    {
     "name": "stdout",
     "output_type": "stream",
     "text": [
      "The new created array is : array('i', [1, 2, 3, 1, 5])\n"
     ]
    }
   ],
   "source": [
    "import array as arr\n",
    "num = arr.array('i', [1, 2, 3, 1, 5])\n",
    "print(\"The new created array is : \", end=\"\")\n",
    "print(num)"
   ]
  },
  {
   "cell_type": "markdown",
   "id": "f27df6df",
   "metadata": {
    "ExecuteTime": {
     "end_time": "2023-05-08T13:41:36.284443Z",
     "start_time": "2023-05-08T13:41:36.260422Z"
    }
   },
   "source": [
    "**using `pop()` to remove element at 2nd position**"
   ]
  },
  {
   "cell_type": "code",
   "execution_count": 34,
   "id": "b1906837",
   "metadata": {
    "ExecuteTime": {
     "end_time": "2023-05-08T13:43:50.504605Z",
     "start_time": "2023-05-08T13:43:50.488276Z"
    }
   },
   "outputs": [
    {
     "name": "stdout",
     "output_type": "stream",
     "text": [
      "The popped element is : 3\n",
      "The array after popping is : array('i', [1, 2, 1, 5])\n"
     ]
    }
   ],
   "source": [
    "print(\"The popped element is : \", end=\"\")\n",
    "print(num.pop(2))\n",
    "\n",
    "print(\"The array after popping is : \", end=\"\")\n",
    "print(num)"
   ]
  },
  {
   "cell_type": "code",
   "execution_count": 40,
   "id": "7780baa2",
   "metadata": {
    "ExecuteTime": {
     "end_time": "2023-05-08T13:49:30.128404Z",
     "start_time": "2023-05-08T13:49:30.113312Z"
    },
    "run_control": {
     "marked": false
    }
   },
   "outputs": [
    {
     "name": "stdout",
     "output_type": "stream",
     "text": [
      "array('i', [10, 20, 30, 10, 20])\n",
      "array('i', [20, 30, 10, 20])\n"
     ]
    }
   ],
   "source": [
    "import array as arr \n",
    "\n",
    "#original array\n",
    "numbers = arr.array('i',[10,20,30,10,20])\n",
    "print(numbers)\n",
    "\n",
    "#remove the first instance of 10\n",
    "numbers.pop(0)\n",
    "print(numbers)\n"
   ]
  },
  {
   "cell_type": "markdown",
   "id": "e58e62f4",
   "metadata": {},
   "source": [
    "**by default it removes only the last element of the array**"
   ]
  },
  {
   "cell_type": "code",
   "execution_count": 41,
   "id": "75d21321",
   "metadata": {
    "ExecuteTime": {
     "end_time": "2023-05-08T13:50:01.344226Z",
     "start_time": "2023-05-08T13:50:01.320628Z"
    }
   },
   "outputs": [
    {
     "name": "stdout",
     "output_type": "stream",
     "text": [
      "array('i', [10, 20, 30, 10, 20])\n",
      "array('i', [10, 20, 30, 10])\n"
     ]
    }
   ],
   "source": [
    "import array as arr \n",
    "\n",
    "#original array\n",
    "numbers = arr.array('i',[10,20,30,10,20])\n",
    "print(numbers)\n",
    "\n",
    "#remove the first instance of 10\n",
    "numbers.pop()\n",
    "print(numbers)"
   ]
  },
  {
   "cell_type": "markdown",
   "id": "f709d5ab",
   "metadata": {},
   "source": [
    "## Slicing of a Array\n",
    "we use Slice operation. Slice operation is performed on array with the use of colon(:). To print elements from beginning to a range use [:Index], to print elements from end use [:-Index], to print elements from specific Index till the end use [Index:], to print elements within a range, use [Start Index:End Index] and to print whole List with the use of slicing operation, use [:]. Further, to print whole array in reverse order, use [::-1].\n",
    "\n",
    "![title](https://media.geeksforgeeks.org/wp-content/uploads/CommonArticleDesign3-min.png)"
   ]
  },
  {
   "cell_type": "code",
   "execution_count": 17,
   "id": "4025adf4",
   "metadata": {
    "ExecuteTime": {
     "end_time": "2023-05-08T13:21:25.512898Z",
     "start_time": "2023-05-08T13:21:25.502121Z"
    }
   },
   "outputs": [
    {
     "name": "stdout",
     "output_type": "stream",
     "text": [
      "array('i', [1, 2, 3, 4, 5, 6, 7, 8, 9, 10])\n",
      "\n",
      "Slicing elements in a range 3-8: \n",
      "array('i', [4, 5, 6, 7, 8])\n",
      "\n",
      "Elements sliced from 5th element till the end: \n",
      "array('i', [6, 7, 8, 9, 10])\n",
      "\n",
      "Printing all elements using slice operation: \n",
      "array('i', [1, 2, 3, 4, 5, 6, 7, 8, 9, 10])\n"
     ]
    }
   ],
   "source": [
    "import array as arr\n",
    "l = [1, 2, 3, 4, 5, 6, 7, 8, 9, 10]\n",
    "a = arr.array('i', l)\n",
    "print(a)\n",
    "\n",
    "Sliced_array = a[3:8]\n",
    "print(\"\\nSlicing elements in a range 3-8: \")\n",
    "print(Sliced_array)\n",
    "\n",
    "Sliced_array = a[5:]\n",
    "print(\"\\nElements sliced from 5th \" \"element till the end: \")\n",
    "print(Sliced_array)\n",
    "\n",
    "Sliced_array = a[:]\n",
    "print(\"\\nPrinting all elements using slice operation: \")\n",
    "print(Sliced_array)"
   ]
  },
  {
   "cell_type": "code",
   "execution_count": 14,
   "id": "2c707817",
   "metadata": {
    "ExecuteTime": {
     "end_time": "2023-05-08T13:19:35.184782Z",
     "start_time": "2023-05-08T13:19:35.160881Z"
    }
   },
   "outputs": [
    {
     "name": "stdout",
     "output_type": "stream",
     "text": [
      "array('i', [10, 20])\n"
     ]
    }
   ],
   "source": [
    "import array as arr \n",
    "\n",
    "#original array\n",
    "numbers = arr.array('i',[10,20,30])\n",
    "\n",
    "#get the values 10 and 20 only\n",
    "print(numbers[:2])  #first to second position"
   ]
  },
  {
   "cell_type": "markdown",
   "id": "630bbbed",
   "metadata": {},
   "source": [
    "## Searching element in a Array\n",
    "In order to search an element in the array we use a python in-built **index()** method. This function returns the index of the first occurrence of value mentioned in arguments."
   ]
  },
  {
   "cell_type": "code",
   "execution_count": 48,
   "id": "630c57a2",
   "metadata": {
    "ExecuteTime": {
     "end_time": "2023-05-08T14:02:39.131298Z",
     "start_time": "2023-05-08T14:02:39.115045Z"
    }
   },
   "outputs": [
    {
     "name": "stdout",
     "output_type": "stream",
     "text": [
      "The new created array is : array('i', [1, 2, 3, 1, 2, 5])\n",
      "The index of 1st occurrence of 2 is : 1\n",
      "The index of 1st occurrence of 1 is : 0\n"
     ]
    }
   ],
   "source": [
    "import array as arr\n",
    "num = arr.array('i', [1, 2, 3, 1, 2, 5])\n",
    "\n",
    "# printing original array\n",
    "print(\"The new created array is : \", end=\"\")\n",
    "print(num)\n",
    "\n",
    "print(\"The index of 1st occurrence of 2 is : \", end=\"\")\n",
    "print(num.index(2))\n",
    "\n",
    "print(\"The index of 1st occurrence of 1 is : \", end=\"\")\n",
    "print(num.index(1))"
   ]
  },
  {
   "cell_type": "code",
   "execution_count": 3,
   "id": "81da0bfb",
   "metadata": {
    "ExecuteTime": {
     "end_time": "2023-05-07T10:50:11.184862Z",
     "start_time": "2023-05-07T10:50:11.165701Z"
    }
   },
   "outputs": [
    {
     "name": "stdout",
     "output_type": "stream",
     "text": [
      "The new created array is : 1 2 3 1 2 5 \r\n",
      "The index of 1st occurrence of 2 is : 1\n",
      "The index of 1st occurrence of 1 is : 0\n"
     ]
    }
   ],
   "source": [
    "# Python code to demonstrate\n",
    "# searching an element in array\n",
    "\n",
    "# importing array module\n",
    "import array\n",
    "\n",
    "# initializing array with array values\n",
    "# initializes array with signed integers\n",
    "arr = array.array('i', [1, 2, 3, 1, 2, 5])\n",
    "\n",
    "# printing original array\n",
    "print(\"The new created array is : \", end=\"\")\n",
    "for i in range(0, 6):\n",
    "    print(arr[i], end=\" \")\n",
    "\n",
    "print(\"\\r\")\n",
    "# print(\"\\n\")\n",
    "\n",
    "# using index() to print index of 1st occurrenece of 2\n",
    "print(\"The index of 1st occurrence of 2 is : \", end=\"\")\n",
    "print(arr.index(2))\n",
    "\n",
    "# using index() to print index of 1st occurrenece of 1\n",
    "print(\"The index of 1st occurrence of 1 is : \", end=\"\")\n",
    "print(arr.index(1))"
   ]
  },
  {
   "cell_type": "markdown",
   "id": "8686169a",
   "metadata": {},
   "source": [
    "### Note: **How does carriage return “\\r” work in python**\n",
    "\n",
    "- A carriage return is nothing but a simple escape character. `\\n` is also an escape character which creates a new line.\n",
    "\n",
    "- Carriage return or `\\r` is a very unique feature of Python. `\\r` will just work as you have shifted your cursor to the beginning of the string or line.\n",
    "\n",
    "- Whenever you will use this special escape character `\\r`, the rest of the content after the `\\r` will come at the front of your line and will keep replacing your characters one by one until it takes all the contents left after the `\\r` in that string.\n",
    "\n"
   ]
  },
  {
   "cell_type": "code",
   "execution_count": 4,
   "id": "786d69f6",
   "metadata": {
    "ExecuteTime": {
     "end_time": "2023-05-07T10:53:00.489612Z",
     "start_time": "2023-05-07T10:53:00.481267Z"
    }
   },
   "outputs": [
    {
     "name": "stdout",
     "output_type": "stream",
     "text": [
      "Python is included in CodeSpeedy\n"
     ]
    }
   ],
   "source": [
    "print('Python is included in CodeSpeedy')"
   ]
  },
  {
   "cell_type": "code",
   "execution_count": 5,
   "id": "79bc889f",
   "metadata": {
    "ExecuteTime": {
     "end_time": "2023-05-07T10:53:20.789494Z",
     "start_time": "2023-05-07T10:53:20.779245Z"
    }
   },
   "outputs": [
    {
     "name": "stdout",
     "output_type": "stream",
     "text": [
      "Python is included in CodeSpeedy\r",
      "123456\n"
     ]
    }
   ],
   "source": [
    "print('Python is included in CodeSpeedy\\r123456')"
   ]
  },
  {
   "cell_type": "code",
   "execution_count": 6,
   "id": "ea32fd47",
   "metadata": {
    "ExecuteTime": {
     "end_time": "2023-05-07T10:54:04.393869Z",
     "start_time": "2023-05-07T10:54:04.378317Z"
    }
   },
   "outputs": [
    {
     "name": "stdout",
     "output_type": "stream",
     "text": [
      "Python is included in CodeSpeedy\r",
      "123456789\n"
     ]
    }
   ],
   "source": [
    "print('Python is included in CodeSpeedy\\r123456789')"
   ]
  },
  {
   "cell_type": "code",
   "execution_count": 7,
   "id": "cb28ea84",
   "metadata": {
    "ExecuteTime": {
     "end_time": "2023-05-07T10:57:19.451534Z",
     "start_time": "2023-05-07T10:57:19.443600Z"
    }
   },
   "outputs": [
    {
     "name": "stdout",
     "output_type": "stream",
     "text": [
      "Hey there I am busy in learning Carriage Return in Python\r",
      "this is going to be added\n"
     ]
    }
   ],
   "source": [
    "print('Hey there I am busy in learning Carriage Return in Python\\rthis is going to be added')"
   ]
  },
  {
   "cell_type": "markdown",
   "id": "d98227c5",
   "metadata": {},
   "source": [
    "## Updating Elements in a Array\n",
    "In order to update an element in the array we simply reassign a new value to the desired index we want to update."
   ]
  },
  {
   "cell_type": "code",
   "execution_count": 44,
   "id": "978e5450",
   "metadata": {
    "ExecuteTime": {
     "end_time": "2023-05-08T13:55:41.138774Z",
     "start_time": "2023-05-08T13:55:41.120467Z"
    }
   },
   "outputs": [
    {
     "name": "stdout",
     "output_type": "stream",
     "text": [
      "Array before updation : array('i', [1, 2, 3, 1, 2, 5])\n",
      "Array after updation  : array('i', [1, 2, 6, 1, 2, 5])\n"
     ]
    }
   ],
   "source": [
    "import array as arr\n",
    "num = arr.array('i', [1, 2, 3, 1, 2, 5])\n",
    "\n",
    "print(\"Array before updation : \", end=\"\")\n",
    "print(num)\n",
    "\n",
    "num[2] = 6\n",
    "print(\"Array after updation  : \", end=\"\")\n",
    "print(num)\n"
   ]
  },
  {
   "cell_type": "code",
   "execution_count": 45,
   "id": "c42e960c",
   "metadata": {
    "ExecuteTime": {
     "end_time": "2023-05-08T13:56:41.374766Z",
     "start_time": "2023-05-08T13:56:41.362494Z"
    }
   },
   "outputs": [
    {
     "name": "stdout",
     "output_type": "stream",
     "text": [
      "Array after updation : array('i', [1, 2, 6, 1, 8, 5])\n"
     ]
    }
   ],
   "source": [
    "num[4] = 8\n",
    "print(\"Array after updation : \", end=\"\")\n",
    "print(num)"
   ]
  },
  {
   "cell_type": "markdown",
   "id": "b3fece07",
   "metadata": {},
   "source": [
    "## Low level array"
   ]
  },
  {
   "cell_type": "code",
   "execution_count": null,
   "id": "e051a2f9",
   "metadata": {},
   "outputs": [],
   "source": []
  },
  {
   "cell_type": "code",
   "execution_count": null,
   "id": "1314b286",
   "metadata": {},
   "outputs": [],
   "source": []
  },
  {
   "cell_type": "code",
   "execution_count": null,
   "id": "525d33b9",
   "metadata": {},
   "outputs": [],
   "source": []
  },
  {
   "cell_type": "markdown",
   "id": "dcefe817",
   "metadata": {},
   "source": [
    "## Dynamic array"
   ]
  },
  {
   "cell_type": "code",
   "execution_count": null,
   "id": "342fdbf0",
   "metadata": {},
   "outputs": [],
   "source": []
  },
  {
   "cell_type": "code",
   "execution_count": null,
   "id": "8cc70289",
   "metadata": {},
   "outputs": [],
   "source": []
  },
  {
   "cell_type": "code",
   "execution_count": null,
   "id": "60d20b80",
   "metadata": {},
   "outputs": [],
   "source": []
  },
  {
   "cell_type": "markdown",
   "id": "33b0193d",
   "metadata": {},
   "source": [
    "## Problems solution"
   ]
  },
  {
   "cell_type": "code",
   "execution_count": null,
   "id": "80d85a5a",
   "metadata": {},
   "outputs": [],
   "source": []
  },
  {
   "cell_type": "code",
   "execution_count": null,
   "id": "2f2c235b",
   "metadata": {},
   "outputs": [],
   "source": []
  },
  {
   "cell_type": "code",
   "execution_count": null,
   "id": "de4493ce",
   "metadata": {},
   "outputs": [],
   "source": []
  },
  {
   "cell_type": "code",
   "execution_count": null,
   "id": "11c5ad4c",
   "metadata": {},
   "outputs": [],
   "source": []
  },
  {
   "cell_type": "code",
   "execution_count": null,
   "id": "e59bde73",
   "metadata": {},
   "outputs": [],
   "source": []
  },
  {
   "cell_type": "code",
   "execution_count": null,
   "id": "7cbf17b6",
   "metadata": {},
   "outputs": [],
   "source": []
  },
  {
   "cell_type": "code",
   "execution_count": null,
   "id": "ae5e8558",
   "metadata": {},
   "outputs": [],
   "source": []
  },
  {
   "cell_type": "markdown",
   "id": "4ab5e8cb",
   "metadata": {},
   "source": [
    "# Stacks, Queues, and Deques"
   ]
  },
  {
   "cell_type": "markdown",
   "id": "f6d5cbdf",
   "metadata": {},
   "source": []
  },
  {
   "cell_type": "code",
   "execution_count": null,
   "id": "0736d7d1",
   "metadata": {},
   "outputs": [],
   "source": []
  },
  {
   "cell_type": "code",
   "execution_count": null,
   "id": "235d7466",
   "metadata": {},
   "outputs": [],
   "source": []
  },
  {
   "cell_type": "code",
   "execution_count": null,
   "id": "d01d634d",
   "metadata": {},
   "outputs": [],
   "source": []
  },
  {
   "cell_type": "code",
   "execution_count": null,
   "id": "882193c2",
   "metadata": {},
   "outputs": [],
   "source": []
  },
  {
   "cell_type": "code",
   "execution_count": null,
   "id": "daa64c7d",
   "metadata": {},
   "outputs": [],
   "source": []
  },
  {
   "cell_type": "markdown",
   "id": "33fa4b3a",
   "metadata": {},
   "source": [
    "---"
   ]
  },
  {
   "cell_type": "markdown",
   "id": "effa3c3f",
   "metadata": {},
   "source": [
    "# Linked List"
   ]
  },
  {
   "cell_type": "markdown",
   "id": "3c674498",
   "metadata": {},
   "source": [
    "- Some of the data structures you can use are collections such as arrays, lists, maps, sets, and so on.\n",
    "\n",
    "- These all do an awesome job storing and accessing data, but sometimes you might need something different. Another data structure commonly used is called a Linked List."
   ]
  },
  {
   "cell_type": "markdown",
   "id": "cc9057c5",
   "metadata": {},
   "source": [
    "- **Linked Lists are a data structure that store data in the form of a chain. The structure of a linked list is such that each piece of data has a connection to the next one (and sometimes the previous data as well). Each element in a linked list is called a node.**\n",
    "\n",
    "- You can think of it as an actual chain, where each ring or node is connected.\n"
   ]
  },
  {
   "cell_type": "markdown",
   "id": "932259da",
   "metadata": {},
   "source": [
    "**Advantages of Linked Lists:**\n",
    "\n",
    "- Because of the chain-like system of linked lists, you can add and remove elements quickly. This also doesn't require reorganizing the data structure unlike arrays or lists. Linear data structures are often easier to implement using linked lists.\n",
    "\n",
    "- Linked lists also don't require a fixed size or initial size due to their chainlike structure.\n",
    "\n",
    "\n",
    "**Disadvantages of a Linked Lists:**\n",
    "\n",
    "- More memory is required when compared to an array. This is because you need a pointer (which takes up its own memory) to point you to the next element.\n",
    "\n",
    "- Search operations on a linked list are very slow. Unlike an array, you don't have the option of random access."
   ]
  },
  {
   "cell_type": "markdown",
   "id": "459b72c0",
   "metadata": {},
   "source": [
    "**When Should You Use a Linked List?**\n",
    "\n",
    "You should use a linked list over an array when:\n",
    "\n",
    "- You don't know how many items will be in the list (that is one of the advantages - ease of adding items).\n",
    "\n",
    "- You don't need random access to any elements (unlike an array, you cannot access an element at a particular index in a linked list).\n",
    "\n",
    "- You want to be able to insert items in the middle of the list.\n",
    "\n",
    "- You need constant time insertion/deletion from the list (unlike an array, you don't have to shift every other item in the list first)."
   ]
  },
  {
   "cell_type": "code",
   "execution_count": null,
   "id": "450ccaa4",
   "metadata": {},
   "outputs": [],
   "source": []
  },
  {
   "cell_type": "code",
   "execution_count": null,
   "id": "dbb32a1e",
   "metadata": {},
   "outputs": [],
   "source": []
  },
  {
   "cell_type": "code",
   "execution_count": null,
   "id": "f9b51418",
   "metadata": {},
   "outputs": [],
   "source": []
  },
  {
   "cell_type": "code",
   "execution_count": null,
   "id": "e45b0cb2",
   "metadata": {},
   "outputs": [],
   "source": []
  },
  {
   "cell_type": "code",
   "execution_count": null,
   "id": "3fe78902",
   "metadata": {},
   "outputs": [],
   "source": []
  },
  {
   "cell_type": "code",
   "execution_count": null,
   "id": "2c486167",
   "metadata": {},
   "outputs": [],
   "source": []
  },
  {
   "cell_type": "code",
   "execution_count": null,
   "id": "4fd4c3a8",
   "metadata": {},
   "outputs": [],
   "source": []
  },
  {
   "cell_type": "code",
   "execution_count": null,
   "id": "fd836f88",
   "metadata": {},
   "outputs": [],
   "source": []
  },
  {
   "cell_type": "code",
   "execution_count": null,
   "id": "a0b55ce0",
   "metadata": {},
   "outputs": [],
   "source": []
  },
  {
   "cell_type": "code",
   "execution_count": null,
   "id": "d1bbf9c5",
   "metadata": {},
   "outputs": [],
   "source": []
  },
  {
   "cell_type": "code",
   "execution_count": null,
   "id": "e9d38fd4",
   "metadata": {},
   "outputs": [],
   "source": []
  },
  {
   "cell_type": "code",
   "execution_count": null,
   "id": "fce8a17b",
   "metadata": {},
   "outputs": [],
   "source": []
  },
  {
   "cell_type": "code",
   "execution_count": null,
   "id": "a4ccab27",
   "metadata": {},
   "outputs": [],
   "source": []
  },
  {
   "cell_type": "code",
   "execution_count": null,
   "id": "663c1c94",
   "metadata": {},
   "outputs": [],
   "source": []
  },
  {
   "cell_type": "code",
   "execution_count": null,
   "id": "298f5485",
   "metadata": {},
   "outputs": [],
   "source": []
  },
  {
   "cell_type": "code",
   "execution_count": null,
   "id": "a667804f",
   "metadata": {},
   "outputs": [],
   "source": []
  },
  {
   "cell_type": "code",
   "execution_count": null,
   "id": "57c1c7dc",
   "metadata": {},
   "outputs": [],
   "source": []
  },
  {
   "cell_type": "code",
   "execution_count": null,
   "id": "2fcd447a",
   "metadata": {},
   "outputs": [],
   "source": []
  },
  {
   "cell_type": "code",
   "execution_count": null,
   "id": "efd4a20e",
   "metadata": {},
   "outputs": [],
   "source": []
  },
  {
   "cell_type": "code",
   "execution_count": null,
   "id": "a8b201de",
   "metadata": {},
   "outputs": [],
   "source": []
  }
 ],
 "metadata": {
  "kernelspec": {
   "display_name": "Python 3 (ipykernel)",
   "language": "python",
   "name": "python3"
  },
  "language_info": {
   "codemirror_mode": {
    "name": "ipython",
    "version": 3
   },
   "file_extension": ".py",
   "mimetype": "text/x-python",
   "name": "python",
   "nbconvert_exporter": "python",
   "pygments_lexer": "ipython3",
   "version": "3.9.1"
  },
  "toc": {
   "base_numbering": 1,
   "nav_menu": {},
   "number_sections": true,
   "sideBar": true,
   "skip_h1_title": false,
   "title_cell": "Table of Contents",
   "title_sidebar": "Contents",
   "toc_cell": true,
   "toc_position": {
    "height": "calc(100% - 180px)",
    "left": "10px",
    "top": "150px",
    "width": "374.388px"
   },
   "toc_section_display": true,
   "toc_window_display": false
  },
  "varInspector": {
   "cols": {
    "lenName": 16,
    "lenType": 16,
    "lenVar": 40
   },
   "kernels_config": {
    "python": {
     "delete_cmd_postfix": "",
     "delete_cmd_prefix": "del ",
     "library": "var_list.py",
     "varRefreshCmd": "print(var_dic_list())"
    },
    "r": {
     "delete_cmd_postfix": ") ",
     "delete_cmd_prefix": "rm(",
     "library": "var_list.r",
     "varRefreshCmd": "cat(var_dic_list()) "
    }
   },
   "types_to_exclude": [
    "module",
    "function",
    "builtin_function_or_method",
    "instance",
    "_Feature"
   ],
   "window_display": false
  }
 },
 "nbformat": 4,
 "nbformat_minor": 5
}
