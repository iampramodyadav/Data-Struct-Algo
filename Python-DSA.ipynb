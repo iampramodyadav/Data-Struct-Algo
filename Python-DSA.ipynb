{
 "cells": [
  {
   "cell_type": "markdown",
   "id": "bd85abfc",
   "metadata": {
    "toc": true
   },
   "source": [
    "<h1>Table of Contents<span class=\"tocSkip\"></span></h1>\n",
    "<div class=\"toc\"><ul class=\"toc-item\"><li><span><a href=\"#Algorithm-Analysis\" data-toc-modified-id=\"Algorithm-Analysis-1\"><span class=\"toc-item-num\">1&nbsp;&nbsp;</span>Algorithm Analysis</a></span><ul class=\"toc-item\"><li><span><a href=\"#Introduction-to-Algorithm-Analysis-and-Big-O\" data-toc-modified-id=\"Introduction-to-Algorithm-Analysis-and-Big-O-1.1\"><span class=\"toc-item-num\">1.1&nbsp;&nbsp;</span>Introduction to Algorithm Analysis and Big O</a></span><ul class=\"toc-item\"><li><span><a href=\"#Why-analyze-algorithms?\" data-toc-modified-id=\"Why-analyze-algorithms?-1.1.1\"><span class=\"toc-item-num\">1.1.1&nbsp;&nbsp;</span>Why analyze algorithms?</a></span></li></ul></li><li><span><a href=\"#Big-O-Notation\" data-toc-modified-id=\"Big-O-Notation-1.2\"><span class=\"toc-item-num\">1.2&nbsp;&nbsp;</span>Big O Notation</a></span><ul class=\"toc-item\"><li><span><a href=\"#Runtimes-of-Common-Big-O-Functions\" data-toc-modified-id=\"Runtimes-of-Common-Big-O-Functions-1.2.1\"><span class=\"toc-item-num\">1.2.1&nbsp;&nbsp;</span>Runtimes of Common Big-O Functions</a></span></li></ul></li><li><span><a href=\"#Big-O-Examples\" data-toc-modified-id=\"Big-O-Examples-1.3\"><span class=\"toc-item-num\">1.3&nbsp;&nbsp;</span>Big O Examples</a></span><ul class=\"toc-item\"><li><span><a href=\"#O(1)-Constant\" data-toc-modified-id=\"O(1)-Constant-1.3.1\"><span class=\"toc-item-num\">1.3.1&nbsp;&nbsp;</span>O(1) Constant</a></span></li><li><span><a href=\"#O(n)-Linear\" data-toc-modified-id=\"O(n)-Linear-1.3.2\"><span class=\"toc-item-num\">1.3.2&nbsp;&nbsp;</span>O(n) Linear</a></span></li><li><span><a href=\"#O($n^2$)-Quadratic\" data-toc-modified-id=\"O($n^2$)-Quadratic-1.3.3\"><span class=\"toc-item-num\">1.3.3&nbsp;&nbsp;</span>O($n^2$) Quadratic</a></span></li><li><span><a href=\"#Calculating-Scale-of-Big-O\" data-toc-modified-id=\"Calculating-Scale-of-Big-O-1.3.4\"><span class=\"toc-item-num\">1.3.4&nbsp;&nbsp;</span>Calculating Scale of Big-O</a></span></li><li><span><a href=\"#Worst-Case-vs-Best-Case\" data-toc-modified-id=\"Worst-Case-vs-Best-Case-1.3.5\"><span class=\"toc-item-num\">1.3.5&nbsp;&nbsp;</span>Worst Case vs Best Case</a></span></li></ul></li><li><span><a href=\"#Space-Complexity\" data-toc-modified-id=\"Space-Complexity-1.4\"><span class=\"toc-item-num\">1.4&nbsp;&nbsp;</span>Space Complexity</a></span><ul class=\"toc-item\"><li><span><a href=\"#Homework-Assignment\" data-toc-modified-id=\"Homework-Assignment-1.4.1\"><span class=\"toc-item-num\">1.4.1&nbsp;&nbsp;</span>Homework Assignment</a></span></li></ul></li><li><span><a href=\"#Summary\" data-toc-modified-id=\"Summary-1.5\"><span class=\"toc-item-num\">1.5&nbsp;&nbsp;</span>Summary</a></span></li><li><span><a href=\"#Big-O-for-Python-Data-Structures\" data-toc-modified-id=\"Big-O-for-Python-Data-Structures-1.6\"><span class=\"toc-item-num\">1.6&nbsp;&nbsp;</span>Big O for Python Data Structures</a></span><ul class=\"toc-item\"><li><span><a href=\"#Lists\" data-toc-modified-id=\"Lists-1.6.1\"><span class=\"toc-item-num\">1.6.1&nbsp;&nbsp;</span>Lists</a></span><ul class=\"toc-item\"><li><span><a href=\"#Table-of-Big-O-for-common-list-operations\" data-toc-modified-id=\"Table-of-Big-O-for-common-list-operations-1.6.1.1\"><span class=\"toc-item-num\">1.6.1.1&nbsp;&nbsp;</span>Table of Big-O for common list operations</a></span></li></ul></li><li><span><a href=\"#Dictionaries\" data-toc-modified-id=\"Dictionaries-1.6.2\"><span class=\"toc-item-num\">1.6.2&nbsp;&nbsp;</span>Dictionaries</a></span></li></ul></li><li><span><a href=\"#Conclusion\" data-toc-modified-id=\"Conclusion-1.7\"><span class=\"toc-item-num\">1.7&nbsp;&nbsp;</span>Conclusion</a></span></li><li><span><a href=\"#Examples\" data-toc-modified-id=\"Examples-1.8\"><span class=\"toc-item-num\">1.8&nbsp;&nbsp;</span>Examples</a></span></li></ul></li><li><span><a href=\"#Array\" data-toc-modified-id=\"Array-2\"><span class=\"toc-item-num\">2&nbsp;&nbsp;</span>Array</a></span><ul class=\"toc-item\"><li><span><a href=\"#Difference-between-Python-Lists-and-Python-Array\" data-toc-modified-id=\"Difference-between-Python-Lists-and-Python-Array-2.1\"><span class=\"toc-item-num\">2.1&nbsp;&nbsp;</span>Difference between Python Lists and Python Array</a></span></li><li><span><a href=\"#Introduction-to-Array-Based-Sequences\" data-toc-modified-id=\"Introduction-to-Array-Based-Sequences-2.2\"><span class=\"toc-item-num\">2.2&nbsp;&nbsp;</span>Introduction to Array Based Sequences</a></span></li><li><span><a href=\"#When-to-Use-Python-Arrays\" data-toc-modified-id=\"When-to-Use-Python-Arrays-2.3\"><span class=\"toc-item-num\">2.3&nbsp;&nbsp;</span>When to Use Python Arrays</a></span></li><li><span><a href=\"#creating-an-array-of-different-data-types\" data-toc-modified-id=\"creating-an-array-of-different-data-types-2.4\"><span class=\"toc-item-num\">2.4&nbsp;&nbsp;</span>creating an array of different data types</a></span></li><li><span><a href=\"#Adding-elements-in-array\" data-toc-modified-id=\"Adding-elements-in-array-2.5\"><span class=\"toc-item-num\">2.5&nbsp;&nbsp;</span>Adding elements in array</a></span></li><li><span><a href=\"#Removing-Elements-from-array\" data-toc-modified-id=\"Removing-Elements-from-array-2.6\"><span class=\"toc-item-num\">2.6&nbsp;&nbsp;</span>Removing Elements from array</a></span></li><li><span><a href=\"#Slicing-of-a-Array\" data-toc-modified-id=\"Slicing-of-a-Array-2.7\"><span class=\"toc-item-num\">2.7&nbsp;&nbsp;</span>Slicing of a Array</a></span></li><li><span><a href=\"#Searching-element-in-a-Array\" data-toc-modified-id=\"Searching-element-in-a-Array-2.8\"><span class=\"toc-item-num\">2.8&nbsp;&nbsp;</span>Searching element in a Array</a></span><ul class=\"toc-item\"><li><span><a href=\"#Note:-How-does-carriage-return-“\\r”-work-in-python\" data-toc-modified-id=\"Note:-How-does-carriage-return-“\\r”-work-in-python-2.8.1\"><span class=\"toc-item-num\">2.8.1&nbsp;&nbsp;</span>Note: <strong>How does carriage return “\\r” work in python</strong></a></span></li></ul></li><li><span><a href=\"#Updating-Elements-in-a-Array\" data-toc-modified-id=\"Updating-Elements-in-a-Array-2.9\"><span class=\"toc-item-num\">2.9&nbsp;&nbsp;</span>Updating Elements in a Array</a></span></li><li><span><a href=\"#Low-level-array\" data-toc-modified-id=\"Low-level-array-2.10\"><span class=\"toc-item-num\">2.10&nbsp;&nbsp;</span>Low level array</a></span><ul class=\"toc-item\"><li><span><a href=\"#Referential-Arrays\" data-toc-modified-id=\"Referential-Arrays-2.10.1\"><span class=\"toc-item-num\">2.10.1&nbsp;&nbsp;</span>Referential Arrays</a></span></li><li><span><a href=\"#Compact-Arrays-in-Python\" data-toc-modified-id=\"Compact-Arrays-in-Python-2.10.2\"><span class=\"toc-item-num\">2.10.2&nbsp;&nbsp;</span>Compact Arrays in Python</a></span></li></ul></li><li><span><a href=\"#Dynamic-array\" data-toc-modified-id=\"Dynamic-array-2.11\"><span class=\"toc-item-num\">2.11&nbsp;&nbsp;</span>Dynamic array</a></span><ul class=\"toc-item\"><li><span><a href=\"#Implementing-a-Dynamic-Array\" data-toc-modified-id=\"Implementing-a-Dynamic-Array-2.11.1\"><span class=\"toc-item-num\">2.11.1&nbsp;&nbsp;</span>Implementing a Dynamic Array</a></span></li></ul></li><li><span><a href=\"#Efficiency-of-Python’s-Sequence-Types\" data-toc-modified-id=\"Efficiency-of-Python’s-Sequence-Types-2.12\"><span class=\"toc-item-num\">2.12&nbsp;&nbsp;</span>Efficiency of Python’s Sequence Types</a></span></li><li><span><a href=\"#Using-Array-Based-Sequence\" data-toc-modified-id=\"Using-Array-Based-Sequence-2.13\"><span class=\"toc-item-num\">2.13&nbsp;&nbsp;</span>Using Array-Based Sequence</a></span><ul class=\"toc-item\"><li><span><a href=\"#Storing-High-Scores-for-a-Game\" data-toc-modified-id=\"Storing-High-Scores-for-a-Game-2.13.1\"><span class=\"toc-item-num\">2.13.1&nbsp;&nbsp;</span>Storing High Scores for a Game</a></span></li><li><span><a href=\"#Sorting-a-Sequence\" data-toc-modified-id=\"Sorting-a-Sequence-2.13.2\"><span class=\"toc-item-num\">2.13.2&nbsp;&nbsp;</span>Sorting a Sequence</a></span><ul class=\"toc-item\"><li><span><a href=\"#Insert-Sorting\" data-toc-modified-id=\"Insert-Sorting-2.13.2.1\"><span class=\"toc-item-num\">2.13.2.1&nbsp;&nbsp;</span>Insert-Sorting</a></span></li></ul></li></ul></li><li><span><a href=\"#Amortization\" data-toc-modified-id=\"Amortization-2.14\"><span class=\"toc-item-num\">2.14&nbsp;&nbsp;</span>Amortization</a></span></li><li><span><a href=\"#Problems-solution\" data-toc-modified-id=\"Problems-solution-2.15\"><span class=\"toc-item-num\">2.15&nbsp;&nbsp;</span>Problems solution</a></span></li></ul></li><li><span><a href=\"#Stacks,-Queues,-and-Deques\" data-toc-modified-id=\"Stacks,-Queues,-and-Deques-3\"><span class=\"toc-item-num\">3&nbsp;&nbsp;</span>Stacks, Queues, and Deques</a></span><ul class=\"toc-item\"><li><span><a href=\"#Stack\" data-toc-modified-id=\"Stack-3.1\"><span class=\"toc-item-num\">3.1&nbsp;&nbsp;</span>Stack</a></span><ul class=\"toc-item\"><li><span><a href=\"#Create-a-Stack\" data-toc-modified-id=\"Create-a-Stack-3.1.1\"><span class=\"toc-item-num\">3.1.1&nbsp;&nbsp;</span>Create a Stack</a></span></li><li><span><a href=\"#Methods-of-Python-Stack\" data-toc-modified-id=\"Methods-of-Python-Stack-3.1.2\"><span class=\"toc-item-num\">3.1.2&nbsp;&nbsp;</span>Methods of Python Stack</a></span></li><li><span><a href=\"#Implementation-Using-Collections-Deque-Methods\" data-toc-modified-id=\"Implementation-Using-Collections-Deque-Methods-3.1.3\"><span class=\"toc-item-num\">3.1.3&nbsp;&nbsp;</span>Implementation Using Collections Deque Methods</a></span></li><li><span><a href=\"#Implementation-Using-Queue-Module\" data-toc-modified-id=\"Implementation-Using-Queue-Module-3.1.4\"><span class=\"toc-item-num\">3.1.4&nbsp;&nbsp;</span>Implementation Using Queue Module</a></span></li><li><span><a href=\"#Implementation-Using-Singly-Linked-List\" data-toc-modified-id=\"Implementation-Using-Singly-Linked-List-3.1.5\"><span class=\"toc-item-num\">3.1.5&nbsp;&nbsp;</span>Implementation Using Singly Linked List</a></span></li><li><span><a href=\"#Benefits-of-Stack-in-Python\" data-toc-modified-id=\"Benefits-of-Stack-in-Python-3.1.6\"><span class=\"toc-item-num\">3.1.6&nbsp;&nbsp;</span>Benefits of Stack in Python</a></span></li></ul></li><li><span><a href=\"#Queue\" data-toc-modified-id=\"Queue-3.2\"><span class=\"toc-item-num\">3.2&nbsp;&nbsp;</span>Queue</a></span><ul class=\"toc-item\"><li><span><a href=\"#Queue-Methods-and-Attributes\" data-toc-modified-id=\"Queue-Methods-and-Attributes-3.2.1\"><span class=\"toc-item-num\">3.2.1&nbsp;&nbsp;</span>Queue Methods and Attributes</a></span></li></ul></li><li><span><a href=\"#Deques-Overview\" data-toc-modified-id=\"Deques-Overview-3.3\"><span class=\"toc-item-num\">3.3&nbsp;&nbsp;</span>Deques Overview</a></span><ul class=\"toc-item\"><li><span><a href=\"#Methods-and-Attributes\" data-toc-modified-id=\"Methods-and-Attributes-3.3.1\"><span class=\"toc-item-num\">3.3.1&nbsp;&nbsp;</span>Methods and Attributes</a></span></li><li><span><a href=\"#Deque-Implementation\" data-toc-modified-id=\"Deque-Implementation-3.3.2\"><span class=\"toc-item-num\">3.3.2&nbsp;&nbsp;</span>Deque Implementation</a></span></li></ul></li><li><span><a href=\"#Problem\" data-toc-modified-id=\"Problem-3.4\"><span class=\"toc-item-num\">3.4&nbsp;&nbsp;</span>Problem</a></span><ul class=\"toc-item\"><li><span><a href=\"#Balanced-Parentheses-Check\" data-toc-modified-id=\"Balanced-Parentheses-Check-3.4.1\"><span class=\"toc-item-num\">3.4.1&nbsp;&nbsp;</span>Balanced Parentheses Check</a></span></li><li><span><a href=\"#Implement-a-Queue---Using-Two-Stacks\" data-toc-modified-id=\"Implement-a-Queue---Using-Two-Stacks-3.4.2\"><span class=\"toc-item-num\">3.4.2&nbsp;&nbsp;</span>Implement a Queue - Using Two Stacks</a></span></li></ul></li></ul></li><li><span><a href=\"#Linked-List\" data-toc-modified-id=\"Linked-List-4\"><span class=\"toc-item-num\">4&nbsp;&nbsp;</span>Linked List</a></span><ul class=\"toc-item\"><li><span><a href=\"#Main-concept\" data-toc-modified-id=\"Main-concept-4.1\"><span class=\"toc-item-num\">4.1&nbsp;&nbsp;</span>Main concept</a></span></li><li><span><a href=\"#Singly-Linked-Lists\" data-toc-modified-id=\"Singly-Linked-Lists-4.2\"><span class=\"toc-item-num\">4.2&nbsp;&nbsp;</span>Singly Linked Lists</a></span></li><li><span><a href=\"#Doubly-Linked-Lists\" data-toc-modified-id=\"Doubly-Linked-Lists-4.3\"><span class=\"toc-item-num\">4.3&nbsp;&nbsp;</span>Doubly Linked Lists</a></span></li><li><span><a href=\"#Problem\" data-toc-modified-id=\"Problem-4.4\"><span class=\"toc-item-num\">4.4&nbsp;&nbsp;</span>Problem</a></span><ul class=\"toc-item\"><li><span><a href=\"#Singly-Linked-List-Cycle-Check\" data-toc-modified-id=\"Singly-Linked-List-Cycle-Check-4.4.1\"><span class=\"toc-item-num\">4.4.1&nbsp;&nbsp;</span>Singly Linked List Cycle Check</a></span></li><li><span><a href=\"#Linked-List-Reversal\" data-toc-modified-id=\"Linked-List-Reversal-4.4.2\"><span class=\"toc-item-num\">4.4.2&nbsp;&nbsp;</span>Linked List Reversal</a></span></li><li><span><a href=\"#Linked-List-Nth-to-Last-Node\" data-toc-modified-id=\"Linked-List-Nth-to-Last-Node-4.4.3\"><span class=\"toc-item-num\">4.4.3&nbsp;&nbsp;</span>Linked List Nth to Last Node</a></span></li></ul></li></ul></li></ul></div>"
   ]
  },
  {
   "cell_type": "markdown",
   "id": "3c54e780",
   "metadata": {},
   "source": [
    "# Algorithm Analysis"
   ]
  },
  {
   "cell_type": "markdown",
   "id": "188b5c8a",
   "metadata": {},
   "source": [
    "## Introduction to Algorithm Analysis and Big O\n",
    "\n",
    "In this lecture we will discuss how to analyze Algorithms and why it is important to do so!\n",
    "\n",
    "### Why analyze algorithms?\n",
    "\n",
    "Before we begin, let's clarify what an algorthim is. In this course, an **algorithm** is simply a procedure or formula for solving a problem. Some problems are famous enough that the algorithms have names, as well as some procdures being common enough that the algorithm associated with it also has a name. So now we have a good question we need to answer:\n",
    "\n",
    "** *How do analyze algorithms and how can we compare algorithms against each other?* **\n",
    "\n",
    "Imagine if you and a friend both came up with functions to sum the numbers from 0 to N. How would you compare the functions and algorithms within the functions? Let's say you both cam up with these two seperate functions:"
   ]
  },
  {
   "cell_type": "code",
   "execution_count": 1,
   "id": "d79ad126",
   "metadata": {
    "ExecuteTime": {
     "end_time": "2023-04-29T22:10:47.806135Z",
     "start_time": "2023-04-29T22:10:47.791372Z"
    }
   },
   "outputs": [],
   "source": [
    "# First function (Note the use of xrange since this is in Python 2)\n",
    "def sum1(n):\n",
    "    \"\"\"\n",
    "    Take an input of n and return the sum of the numbers from 0 to n\n",
    "    \"\"\"\n",
    "    final_sum = 0\n",
    "    for x in range(n + 1):\n",
    "        final_sum += x\n",
    "\n",
    "    return final_sum"
   ]
  },
  {
   "cell_type": "code",
   "execution_count": 2,
   "id": "46bbce3d",
   "metadata": {
    "ExecuteTime": {
     "end_time": "2023-04-29T22:10:47.821171Z",
     "start_time": "2023-04-29T22:10:47.808129Z"
    }
   },
   "outputs": [
    {
     "data": {
      "text/plain": [
       "55"
      ]
     },
     "execution_count": 2,
     "metadata": {},
     "output_type": "execute_result"
    }
   ],
   "source": [
    "sum1(10)"
   ]
  },
  {
   "cell_type": "code",
   "execution_count": 3,
   "id": "50b32f63",
   "metadata": {
    "ExecuteTime": {
     "end_time": "2023-04-29T22:10:47.837042Z",
     "start_time": "2023-04-29T22:10:47.824076Z"
    }
   },
   "outputs": [],
   "source": [
    "def sum2(n):\n",
    "    \"\"\"\n",
    "    Take an input of n and return the sum of the numbers from 0 to n\n",
    "    \"\"\"\n",
    "    return (n * (n + 1)) / 2"
   ]
  },
  {
   "cell_type": "code",
   "execution_count": 4,
   "id": "3985b5d3",
   "metadata": {
    "ExecuteTime": {
     "end_time": "2023-04-29T22:10:47.852706Z",
     "start_time": "2023-04-29T22:10:47.838742Z"
    }
   },
   "outputs": [
    {
     "data": {
      "text/plain": [
       "55.0"
      ]
     },
     "execution_count": 4,
     "metadata": {},
     "output_type": "execute_result"
    }
   ],
   "source": [
    "sum2(10)"
   ]
  },
  {
   "cell_type": "markdown",
   "id": "060a77bf",
   "metadata": {
    "ExecuteTime": {
     "end_time": "2023-04-29T06:46:49.303735Z",
     "start_time": "2023-04-29T06:46:49.289030Z"
    }
   },
   "source": [
    "You'll notice both functions have the same result, but completely different algorithms. You'll note that the first function iteratively adds the numbers, while the second function makes use of:\n",
    "$$ \\sum_{i=0}^{n} {i} = \\frac{n(n+1)}{2} $$\n",
    "\n",
    "So how can we objectively compare the algorithms? We could compare the amount of space they take in memory or we could also compare how much time it takes each function to run. We can use the built in **%timeit** magic function in jupyter to compare the time of the functions. The [**%timeit**](https://ipython.org/ipython-doc/3/interactive/magics.html#magic-timeit) magic in Jupyter Notebooks will repeat the loop iteration a certain number of times and take the best result. Check out the link for the documentation. \n",
    "\n",
    "Let's go ahead and compare the time it took to run the functions:"
   ]
  },
  {
   "cell_type": "code",
   "execution_count": 5,
   "id": "b8007684",
   "metadata": {
    "ExecuteTime": {
     "end_time": "2023-04-29T22:10:49.844940Z",
     "start_time": "2023-04-29T22:10:47.854688Z"
    }
   },
   "outputs": [
    {
     "name": "stdout",
     "output_type": "stream",
     "text": [
      "2.44 µs ± 224 ns per loop (mean ± std. dev. of 7 runs, 100,000 loops each)\n"
     ]
    }
   ],
   "source": [
    "%timeit sum1(100)"
   ]
  },
  {
   "cell_type": "code",
   "execution_count": 6,
   "id": "5f8d5f3d",
   "metadata": {
    "ExecuteTime": {
     "end_time": "2023-04-29T22:10:56.661989Z",
     "start_time": "2023-04-29T22:10:49.846934Z"
    }
   },
   "outputs": [
    {
     "name": "stdout",
     "output_type": "stream",
     "text": [
      "85.5 ns ± 17.9 ns per loop (mean ± std. dev. of 7 runs, 10,000,000 loops each)\n"
     ]
    }
   ],
   "source": [
    "%timeit sum2(100)"
   ]
  },
  {
   "cell_type": "markdown",
   "id": "d9db5bd4",
   "metadata": {},
   "source": [
    "We can see that the second function is much more efficient! Running at a much faster rate than the first. However, we can not use \"time to run\" as an objective measurement, because that will depend on the speed of the computer itself and hardware capabilities. So we will need to use another method, **Big-O**!"
   ]
  },
  {
   "cell_type": "markdown",
   "id": "101a6ee2",
   "metadata": {},
   "source": [
    "## Big O Notation\n",
    "In this lecture we will go over how the syntax of Big-O Notation works and how we can describe algorithms using Big-O Notation!\n",
    "\n",
    "We previously discussed the functions below:"
   ]
  },
  {
   "cell_type": "code",
   "execution_count": 7,
   "id": "c9ed87e9",
   "metadata": {
    "ExecuteTime": {
     "end_time": "2023-04-29T22:10:56.677935Z",
     "start_time": "2023-04-29T22:10:56.663912Z"
    }
   },
   "outputs": [],
   "source": [
    "# First function (Note the use of xrange since this is in Python 2)\n",
    "def sum1(n):\n",
    "    \"\"\"\n",
    "    Take an input of n and return the sum of the numbers from 0 to n\n",
    "    \"\"\"\n",
    "    final_sum = 0\n",
    "    for x in range(n + 1):\n",
    "        final_sum += x\n",
    "\n",
    "    return final_sum"
   ]
  },
  {
   "cell_type": "code",
   "execution_count": 8,
   "id": "75d56997",
   "metadata": {
    "ExecuteTime": {
     "end_time": "2023-04-29T22:10:56.693951Z",
     "start_time": "2023-04-29T22:10:56.680854Z"
    }
   },
   "outputs": [],
   "source": [
    "def sum2(n):\n",
    "    \"\"\"\n",
    "    Take an input of n and return the sum of the numbers from 0 to n\n",
    "    \"\"\"\n",
    "    return (n * (n + 1)) / 2"
   ]
  },
  {
   "cell_type": "markdown",
   "id": "1e26d359",
   "metadata": {},
   "source": [
    "Now we want to develop a notation to objectively compare the efficiency of these two algorithms. A good place to start would be to compare the number of assignments each algorithm makes.\n",
    "\n",
    "The original **sum1** function will create an assignment **n+1** times, we can see this from the range based function. This means it will assign the final_sum variable n+1 times. We can then say that for a problem of n size (in this case just a number n) this function will take 1+n steps.\n",
    "\n",
    "This **n** notation allows us to compare solutions and algorithms relative to the size of the problem, since sum1(10) and sum1(100000) would take very different times to run but be using the same algorithm. We can also note that as n grows very large, the **+1** won't have much effect. So let's begin discussing how to build a syntax for this notation.\n",
    "________\n",
    "\n",
    "Now we will discuss how we can formalize this notation and idea.\n",
    "\n",
    "Big-O notation describes *how quickly runtime will grow relative to the input as the input get arbitrarily large*.\n",
    "\n",
    "Let's examine some of these points more closely:\n",
    "\n",
    "* Remember, we want to compare how quickly runtime will grows, not compare exact runtimes, since those can vary depending on hardware.\n",
    "\n",
    "* Since we want to compare for a variety of input sizes, we are only concerned with runtime grow *relative* to the input. This is why we use **n** for notation.\n",
    "\n",
    "* As n gets arbitrarily large we only worry about terms that will grow the fastest as n gets large, to this point, Big-O analysis is also known as **asymptotic analysis**\n",
    "\n",
    "\n",
    "As for syntax sum1() can be said to be **O(n)** since its runtime grows linearly with the input size. In the next lecture we will go over more specific examples of various O() types and examples. To conclude this lecture we will show the potential for vast difference in runtimes of Big-O functions.\n",
    "\n"
   ]
  },
  {
   "cell_type": "markdown",
   "id": "4e0b9910",
   "metadata": {},
   "source": [
    "### Runtimes of Common Big-O Functions\n",
    "\n",
    "Here is a table of common Big-O functions:"
   ]
  },
  {
   "cell_type": "markdown",
   "id": "2cc4c875",
   "metadata": {},
   "source": [
    "| Big-O   | Name        |\n",
    "|---------|-------------|\n",
    "| 1       | Constant    |\n",
    "| log(n)  | Logarithmic |\n",
    "| n       | Linear      |\n",
    "| nlog(n) | Log Linear  |\n",
    "| n^2     | Quadratic   |\n",
    "| n^3     | Cubic       |\n",
    "| 2^n     | Exponential |"
   ]
  },
  {
   "cell_type": "markdown",
   "id": "5fe5d2ae",
   "metadata": {
    "ExecuteTime": {
     "end_time": "2023-04-29T06:49:49.595342Z",
     "start_time": "2023-04-29T06:49:49.580639Z"
    }
   },
   "source": [
    "Now let's plot the runtime versus the Big-O to compare the runtimes. We'll use a simple [matplotlib](http://matplotlib.org/) for the plot below. (Don't be concerned with how to use matplotlib, that is irrelevant for this part)."
   ]
  },
  {
   "cell_type": "code",
   "execution_count": 1,
   "id": "d002b906",
   "metadata": {
    "ExecuteTime": {
     "end_time": "2023-04-29T22:10:57.894937Z",
     "start_time": "2023-04-29T22:10:56.698691Z"
    },
    "execution": {
     "iopub.execute_input": "2023-08-19T08:01:22.444356Z",
     "iopub.status.busy": "2023-08-19T08:01:22.443316Z",
     "iopub.status.idle": "2023-08-19T08:01:23.420294Z",
     "shell.execute_reply": "2023-08-19T08:01:23.419196Z",
     "shell.execute_reply.started": "2023-08-19T08:01:22.444356Z"
    }
   },
   "outputs": [
    {
     "data": {
      "text/plain": [
       "Text(0.5, 0, 'n')"
      ]
     },
     "execution_count": 1,
     "metadata": {},
     "output_type": "execute_result"
    },
    {
     "data": {
      "image/png": "[encoded data removed]",
      "text/plain": [
       "<Figure size 600x500 with 1 Axes>"
      ]
     },
     "metadata": {},
     "output_type": "display_data"
    }
   ],
   "source": [
    "from math import log\n",
    "\n",
    "import matplotlib.pyplot as plt\n",
    "import numpy as np\n",
    "\n",
    "%matplotlib inline\n",
    "plt.style.use(\"bmh\")\n",
    "\n",
    "# Set up runtime comparisons\n",
    "n = np.linspace(1, 10, 1000)\n",
    "labels = [\n",
    "    \"Constant\",\n",
    "    \"Logarithmic\",\n",
    "    \"Linear\",\n",
    "    \"Log Linear\",\n",
    "    \"Quadratic\",\n",
    "    \"Cubic\",\n",
    "    \"Exponential\",\n",
    "]\n",
    "big_o = [np.ones(n.shape), np.log(n), n, n * np.log(n), n**2, n**3, 2**n]\n",
    "\n",
    "# Plot setup\n",
    "plt.figure(figsize=(6, 5))\n",
    "plt.ylim(0, 50)\n",
    "\n",
    "for i in range(len(big_o)):\n",
    "    plt.plot(n, big_o[i], label=labels[i])\n",
    "\n",
    "\n",
    "plt.legend(loc=0)\n",
    "plt.ylabel(\"Relative Runtime\")\n",
    "plt.xlabel(\"n\")"
   ]
  },
  {
   "cell_type": "markdown",
   "id": "eca3e319",
   "metadata": {},
   "source": [
    "Note how much of a difference a Big-O efficiency can make for the same n value against the projected runtime! Clearly we want to choose algorithms that stay away from any exponential, quadratic, or cubic behavior!\n",
    "\n",
    "In the next lecture we will learn how to properly denote Big-O and look at examples of various problems and calculate the Big-O of them!"
   ]
  },
  {
   "cell_type": "markdown",
   "id": "bd33cef0",
   "metadata": {},
   "source": [
    "## Big O Examples\n",
    "\n",
    "In the first part of the Big-O example section we will go through various iterations of the various Big-O functions. Make sure to complete the reading assignment!\n",
    "\n",
    "Let's begin with some simple examples and explore what their Big-O is.\n",
    "\n",
    "### O(1) Constant"
   ]
  },
  {
   "cell_type": "code",
   "execution_count": 10,
   "id": "9e532534",
   "metadata": {
    "ExecuteTime": {
     "end_time": "2023-04-29T22:10:57.910984Z",
     "start_time": "2023-04-29T22:10:57.897933Z"
    }
   },
   "outputs": [
    {
     "name": "stdout",
     "output_type": "stream",
     "text": [
      "1\n"
     ]
    }
   ],
   "source": [
    "def func_constant(values):\n",
    "    \"\"\"\n",
    "    Prints first item in a list of values.\n",
    "    \"\"\"\n",
    "    print(values[0])\n",
    "\n",
    "\n",
    "func_constant([1, 2, 3])"
   ]
  },
  {
   "cell_type": "markdown",
   "id": "964af3ac",
   "metadata": {},
   "source": [
    "Note how this function is constant because regardless of the list size, the function will only ever take a constant step size, in this case 1, printing the first value from a list. so we can see here that an input list of 100 values will print just 1 item, a list of 10,000 values will print just 1 item, and a list of **n** values will print just 1 item!"
   ]
  },
  {
   "cell_type": "markdown",
   "id": "c1540884",
   "metadata": {},
   "source": [
    "### O(n) Linear"
   ]
  },
  {
   "cell_type": "code",
   "execution_count": 11,
   "id": "0919535d",
   "metadata": {
    "ExecuteTime": {
     "end_time": "2023-04-29T22:10:57.926967Z",
     "start_time": "2023-04-29T22:10:57.912976Z"
    }
   },
   "outputs": [
    {
     "name": "stdout",
     "output_type": "stream",
     "text": [
      "1\n",
      "2\n",
      "3\n"
     ]
    }
   ],
   "source": [
    "def func_lin(lst):\n",
    "    \"\"\"\n",
    "    Takes in list and prints out all values\n",
    "    \"\"\"\n",
    "    for val in lst:\n",
    "        print(val)\n",
    "\n",
    "\n",
    "func_lin([1, 2, 3])"
   ]
  },
  {
   "cell_type": "markdown",
   "id": "e11f05d1",
   "metadata": {},
   "source": [
    "This function runs in O(n) (linear time). This means that the number of operations taking place scales linearly with n, so we can see here that an input list of 100 values will print 100 times, a list of 10,000 values will print 10,000 times, and a list of **n** values will print **n** times."
   ]
  },
  {
   "cell_type": "markdown",
   "id": "ab5d1c8d",
   "metadata": {},
   "source": [
    "### O($n^2$) Quadratic"
   ]
  },
  {
   "cell_type": "code",
   "execution_count": 12,
   "id": "30260a47",
   "metadata": {
    "ExecuteTime": {
     "end_time": "2023-04-29T22:10:57.942535Z",
     "start_time": "2023-04-29T22:10:57.932554Z"
    }
   },
   "outputs": [
    {
     "name": "stdout",
     "output_type": "stream",
     "text": [
      "0 0\n",
      "0 1\n",
      "0 2\n",
      "0 3\n",
      "1 0\n",
      "1 1\n",
      "1 2\n",
      "1 3\n",
      "2 0\n",
      "2 1\n",
      "2 2\n",
      "2 3\n",
      "3 0\n",
      "3 1\n",
      "3 2\n",
      "3 3\n"
     ]
    }
   ],
   "source": [
    "def func_quad(lst):\n",
    "    \"\"\"\n",
    "    Prints pairs for every item in list.\n",
    "    \"\"\"\n",
    "    for item_1 in lst:\n",
    "        for item_2 in lst:\n",
    "            print(item_1, item_2)\n",
    "\n",
    "\n",
    "lst = [0, 1, 2, 3]\n",
    "\n",
    "func_quad(lst)"
   ]
  },
  {
   "cell_type": "markdown",
   "id": "e316fee1",
   "metadata": {},
   "source": [
    "Note how we now have two loops, one nested inside another. This means that for a list of n items, we will have to perform n operations for *every item in the list!* This means in total, we will perform n times n assignments, or n^2. So a list of 10 items will have 10^2, or 100 operations. You can see how dangerous this can get for very large inputs! This is why Big-O is so important to be aware of!"
   ]
  },
  {
   "cell_type": "markdown",
   "id": "04fa546b",
   "metadata": {},
   "source": [
    "______\n",
    "### Calculating Scale of Big-O\n",
    "\n",
    "In this section we will discuss how insignificant terms drop out of Big-O notation.\n",
    "\n",
    "When it comes to Big O notation we only care about the most significant terms, remember as the input grows larger only the fastest growing terms will matter. If you've taken a calculus class before, this will reminf you of taking limits towards infinity. Let's see an example of how to drop constants:"
   ]
  },
  {
   "cell_type": "code",
   "execution_count": 13,
   "id": "5fec42aa",
   "metadata": {
    "ExecuteTime": {
     "end_time": "2023-04-29T22:10:57.957982Z",
     "start_time": "2023-04-29T22:10:57.944971Z"
    }
   },
   "outputs": [],
   "source": [
    "def print_once(lst):\n",
    "    \"\"\"\n",
    "    Prints all items once\n",
    "    \"\"\"\n",
    "    for val in lst:\n",
    "        print(val)"
   ]
  },
  {
   "cell_type": "code",
   "execution_count": 14,
   "id": "b5210980",
   "metadata": {
    "ExecuteTime": {
     "end_time": "2023-04-29T22:10:57.973133Z",
     "start_time": "2023-04-29T22:10:57.959227Z"
    }
   },
   "outputs": [
    {
     "name": "stdout",
     "output_type": "stream",
     "text": [
      "0\n",
      "1\n",
      "2\n",
      "3\n"
     ]
    }
   ],
   "source": [
    "print_once(lst)"
   ]
  },
  {
   "cell_type": "markdown",
   "id": "4600bcdd",
   "metadata": {},
   "source": [
    "The print_once() function is O(n) since it will scale linearly with the input. What about the next example?"
   ]
  },
  {
   "cell_type": "code",
   "execution_count": 15,
   "id": "6a4ee9cc",
   "metadata": {
    "ExecuteTime": {
     "end_time": "2023-04-29T22:10:57.988903Z",
     "start_time": "2023-04-29T22:10:57.975485Z"
    }
   },
   "outputs": [],
   "source": [
    "def print_3(lst):\n",
    "    \"\"\"\n",
    "    Prints all items three times\n",
    "    \"\"\"\n",
    "    for val in lst:\n",
    "        print(val)\n",
    "\n",
    "    for val in lst:\n",
    "        print(val)\n",
    "\n",
    "    for val in lst:\n",
    "        print(val)"
   ]
  },
  {
   "cell_type": "code",
   "execution_count": 16,
   "id": "6d2a62ea",
   "metadata": {
    "ExecuteTime": {
     "end_time": "2023-04-29T22:10:58.004052Z",
     "start_time": "2023-04-29T22:10:57.990104Z"
    }
   },
   "outputs": [
    {
     "name": "stdout",
     "output_type": "stream",
     "text": [
      "0\n",
      "1\n",
      "2\n",
      "3\n",
      "0\n",
      "1\n",
      "2\n",
      "3\n",
      "0\n",
      "1\n",
      "2\n",
      "3\n"
     ]
    }
   ],
   "source": [
    "print_3(lst)"
   ]
  },
  {
   "cell_type": "markdown",
   "id": "51d13f8a",
   "metadata": {},
   "source": [
    "We can see that the first function will print O(n) items and the second will print O(3n) items. However for n going to inifinity the constant can be dropped, since it will not have a large effect, so both functions are O(n).\n",
    "\n",
    "Let's see a more complex example of this:"
   ]
  },
  {
   "cell_type": "code",
   "execution_count": 17,
   "id": "bbb7622a",
   "metadata": {
    "ExecuteTime": {
     "end_time": "2023-04-29T22:10:58.019719Z",
     "start_time": "2023-04-29T22:10:58.007525Z"
    }
   },
   "outputs": [],
   "source": [
    "def comp(lst):\n",
    "    \"\"\"\n",
    "    This function prints the first item O(1)\n",
    "    Then is prints the first 1/2 of the list O(n/2)\n",
    "    Then prints a string 10 times O(10)\n",
    "    \"\"\"\n",
    "    print(lst[0])\n",
    "\n",
    "    midpoint = len(lst) // 2\n",
    "\n",
    "    for val in lst[:midpoint]:\n",
    "        print(val)\n",
    "\n",
    "    for x in range(10):\n",
    "        print(\"number\")"
   ]
  },
  {
   "cell_type": "code",
   "execution_count": 18,
   "id": "47cd615f",
   "metadata": {
    "ExecuteTime": {
     "end_time": "2023-04-29T22:10:58.035221Z",
     "start_time": "2023-04-29T22:10:58.024172Z"
    }
   },
   "outputs": [
    {
     "name": "stdout",
     "output_type": "stream",
     "text": [
      "1\n",
      "1\n",
      "2\n",
      "3\n",
      "4\n",
      "5\n",
      "number\n",
      "number\n",
      "number\n",
      "number\n",
      "number\n",
      "number\n",
      "number\n",
      "number\n",
      "number\n",
      "number\n"
     ]
    }
   ],
   "source": [
    "lst = [1, 2, 3, 4, 5, 6, 7, 8, 9, 10]\n",
    "\n",
    "comp(lst)"
   ]
  },
  {
   "cell_type": "markdown",
   "id": "f39ecf03",
   "metadata": {},
   "source": [
    "So let's break down the operations here. We can combine each operation to get the total Big-O of the function:\n",
    "\n",
    "$$O(1 + n/2 + 10)$$\n",
    "\n",
    "We can see that as n grows larger the 1 and 10 terms become insignificant and the 1/2 term multiplied against n will also not have much of an effect as n goes towards infinity. This means the function is simply O(n)!"
   ]
  },
  {
   "cell_type": "markdown",
   "id": "a0c61b1b",
   "metadata": {},
   "source": [
    "### Worst Case vs Best Case\n",
    "\n",
    "Many times we are only concerned with the worst possible case of an algorithm, but in an interview setting its important to keep in mind that worst case and best case scenarios may be completely different Big-O times. For example, consider the following function:"
   ]
  },
  {
   "cell_type": "code",
   "execution_count": 19,
   "id": "61cd5171",
   "metadata": {
    "ExecuteTime": {
     "end_time": "2023-04-29T22:10:58.050817Z",
     "start_time": "2023-04-29T22:10:58.036721Z"
    }
   },
   "outputs": [],
   "source": [
    "def matcher(lst, match):\n",
    "    \"\"\"\n",
    "    Given a list lst, return a boolean indicating if match item is in the list\n",
    "    \"\"\"\n",
    "    for item in lst:\n",
    "        if item == match:\n",
    "            return True\n",
    "    return False"
   ]
  },
  {
   "cell_type": "code",
   "execution_count": 20,
   "id": "943aa6e2",
   "metadata": {
    "ExecuteTime": {
     "end_time": "2023-04-29T22:10:58.066096Z",
     "start_time": "2023-04-29T22:10:58.054135Z"
    }
   },
   "outputs": [
    {
     "data": {
      "text/plain": [
       "[1, 2, 3, 4, 5, 6, 7, 8, 9, 10]"
      ]
     },
     "execution_count": 20,
     "metadata": {},
     "output_type": "execute_result"
    }
   ],
   "source": [
    "lst"
   ]
  },
  {
   "cell_type": "code",
   "execution_count": 21,
   "id": "7a091fd7",
   "metadata": {
    "ExecuteTime": {
     "end_time": "2023-04-29T22:10:58.081814Z",
     "start_time": "2023-04-29T22:10:58.068815Z"
    }
   },
   "outputs": [
    {
     "data": {
      "text/plain": [
       "True"
      ]
     },
     "execution_count": 21,
     "metadata": {},
     "output_type": "execute_result"
    }
   ],
   "source": [
    "matcher(lst, 1)"
   ]
  },
  {
   "cell_type": "code",
   "execution_count": 22,
   "id": "86e0156c",
   "metadata": {
    "ExecuteTime": {
     "end_time": "2023-04-29T22:10:58.097150Z",
     "start_time": "2023-04-29T22:10:58.083923Z"
    }
   },
   "outputs": [
    {
     "data": {
      "text/plain": [
       "False"
      ]
     },
     "execution_count": 22,
     "metadata": {},
     "output_type": "execute_result"
    }
   ],
   "source": [
    "matcher(lst, 11)"
   ]
  },
  {
   "cell_type": "markdown",
   "id": "942837ea",
   "metadata": {},
   "source": [
    "Note that in the first scenario, the best case was actually O(1), since the match was found at the first element. In the case where there is no match, every element must be checked, this results in a worst case time of O(n). Later on we will also discuss average case time.\n",
    "\n",
    "Finally let's introduce the concept of space complexity.\n",
    "\n",
    "## Space Complexity\n",
    "\n",
    "Many times we are also concerned with how much memory/space an algorithm uses. The notation of space complexity is the same, but instead of checking the time of operations, we check the size of the allocation of memory.\n",
    "\n",
    "Let's see a few examples:"
   ]
  },
  {
   "cell_type": "code",
   "execution_count": 23,
   "id": "d93cb174",
   "metadata": {
    "ExecuteTime": {
     "end_time": "2023-04-29T22:10:58.112512Z",
     "start_time": "2023-04-29T22:10:58.101549Z"
    }
   },
   "outputs": [],
   "source": [
    "def printer(n=10):\n",
    "    \"\"\"\n",
    "    Prints \"hello world!\" n times\n",
    "    \"\"\"\n",
    "    for x in range(n):\n",
    "        print(\"Hello World!\")"
   ]
  },
  {
   "cell_type": "code",
   "execution_count": 24,
   "id": "79141d4b",
   "metadata": {
    "ExecuteTime": {
     "end_time": "2023-04-29T22:10:58.128454Z",
     "start_time": "2023-04-29T22:10:58.114501Z"
    }
   },
   "outputs": [
    {
     "name": "stdout",
     "output_type": "stream",
     "text": [
      "Hello World!\n",
      "Hello World!\n",
      "Hello World!\n",
      "Hello World!\n",
      "Hello World!\n",
      "Hello World!\n",
      "Hello World!\n",
      "Hello World!\n",
      "Hello World!\n",
      "Hello World!\n"
     ]
    }
   ],
   "source": [
    "printer()"
   ]
  },
  {
   "cell_type": "markdown",
   "id": "47a1e04e",
   "metadata": {},
   "source": [
    "Note how we only assign the 'hello world!' variable once, not every time we print. So the algorithm has O(1) **space** complexity and an O(n) **time** complexity. \n",
    "\n",
    "Let's see an example of O(n) **space** complexity:"
   ]
  },
  {
   "cell_type": "code",
   "execution_count": 25,
   "id": "05fd7260",
   "metadata": {
    "ExecuteTime": {
     "end_time": "2023-04-29T22:10:58.144502Z",
     "start_time": "2023-04-29T22:10:58.131444Z"
    }
   },
   "outputs": [],
   "source": [
    "def create_list(n):\n",
    "    new_list = []\n",
    "\n",
    "    for num in range(n):\n",
    "        new_list.append(\"new\")\n",
    "\n",
    "    return new_list"
   ]
  },
  {
   "cell_type": "code",
   "execution_count": 26,
   "id": "ff7f051e",
   "metadata": {
    "ExecuteTime": {
     "end_time": "2023-04-29T22:10:58.159981Z",
     "start_time": "2023-04-29T22:10:58.147019Z"
    }
   },
   "outputs": [
    {
     "name": "stdout",
     "output_type": "stream",
     "text": [
      "['new', 'new', 'new', 'new', 'new']\n"
     ]
    }
   ],
   "source": [
    "print(create_list(5))"
   ]
  },
  {
   "cell_type": "markdown",
   "id": "9f858d52",
   "metadata": {},
   "source": [
    "Note how the size of the new_list object scales with the input **n**, this shows that it is an O(n) algorithm with regards to **space** complexity.\n",
    "_____\n",
    "\n",
    "Thats it for this lecture, before continuing on, make sure to complete the homework assignment below:"
   ]
  },
  {
   "cell_type": "markdown",
   "id": "d54dcb81",
   "metadata": {},
   "source": [
    "### Homework Assignment\n",
    "\n",
    "Your homework assignment after this lecture is to read the fantastic explanations of Big-O at these two sources:\n",
    "\n",
    "* [Big-O Notation Explained](http://stackoverflow.com/questions/487258/plain-english-explanation-of-big-o/487278#487278)\n",
    "\n",
    "* [Big-O Examples Explained](http://stackoverflow.com/questions/2307283/what-does-olog-n-mean-exactly)\n",
    "\n",
    "* [Big-O Reference Cheat Sheet](https://www.bigocheatsheet.com/)"
   ]
  },
  {
   "cell_type": "markdown",
   "id": "14434045",
   "metadata": {},
   "source": [
    "## Summary \n",
    "\n",
    "It shows how an algorithm scales based on input size.\n",
    "\n",
    "**O(n^2^)**: known as **Quadratic complexity**\n",
    "\n",
    "-   1 item: 1 operations\n",
    "-   10 items: 100 operations\n",
    "-   100 items: 10,000 operations\n",
    "\n",
    "Notice that the number of items increases by a factor of 10, but the time increases by a factor of 10^2^. Basically, n=10 and so O(n^2^) gives us the scaling factor n^2^ which is 10^2^.\n",
    "\n",
    "**O(n)**: known as **Linear complexity**\n",
    "\n",
    "-   1 item: 1 operation\n",
    "-   10 items: 10 operations\n",
    "-   100 items: 100 operations\n",
    "\n",
    "This time the number of items increases by a factor of 10, and so does the time. n=10 and so O(n)'s scaling factor is 10.\n",
    "\n",
    "**O(1)**: known as **Constant complexity**\n",
    "\n",
    "-   1 item: 1 operations\n",
    "-   10 items: 1 operations\n",
    "-   100 items: 1 operations\n",
    "\n",
    "The number of items is still increasing by a factor of 10, but the scaling factor of O(1) is always 1.\n",
    "\n",
    "**O(log n)**: known as **Logarithmic complexity**\n",
    "\n",
    "-   1 item: 1 operations\n",
    "-   10 items: 2 operations\n",
    "-   100 items: 3 operations\n",
    "-   1000 items: 4 operations\n",
    "-   10,000 items: 5 operations\n",
    "\n",
    "The number of computations is only increased by a log of the input value. So in this case, assuming each computation takes 1 second, the log of the input `n` is the time required, hence `log n`.\n",
    "\n",
    "That's the gist of it. They reduce the maths down so it might not be exactly n^2^ or whatever they say it is, but that'll be the dominating factor in the scaling."
   ]
  },
  {
   "cell_type": "markdown",
   "id": "6c062bb2",
   "metadata": {},
   "source": [
    "## Big O for Python Data Structures\n",
    "In this lecture we will go over the Big O of built-in data structures in Python: Lists and Dictionaries."
   ]
  },
  {
   "cell_type": "markdown",
   "id": "59cf47c3",
   "metadata": {},
   "source": [
    "### Lists\n",
    "\n",
    "In Python lists act as dynamic arrays and support a number of common operations through methods called on them. The two most common operations performed on a list are indexing and assigning to an index position. These operations are both designed to be run in constant time, O(1).\n",
    "\n",
    "Let's imagine you wanted to test different methods to construct a list that is [0,1,2...10000]. Let go ahead and compare various methods, such as appending to the end of a list, concatenating a list, or using tools such as casting and list comprehension.\n",
    "\n",
    "For example:"
   ]
  },
  {
   "cell_type": "code",
   "execution_count": 27,
   "id": "364772ee",
   "metadata": {
    "ExecuteTime": {
     "end_time": "2023-04-29T22:10:58.175949Z",
     "start_time": "2023-04-29T22:10:58.168950Z"
    }
   },
   "outputs": [],
   "source": [
    "def method1():\n",
    "    l = []\n",
    "    for n in range(10000):\n",
    "        l = l + [n]\n",
    "\n",
    "\n",
    "def method2():\n",
    "    l = []\n",
    "    for n in range(10000):\n",
    "        l.append(n)\n",
    "\n",
    "\n",
    "def method3():\n",
    "    l = [n for n in range(10000)]\n",
    "\n",
    "\n",
    "def method4():\n",
    "    l = list(range(10000))"
   ]
  },
  {
   "cell_type": "markdown",
   "id": "ecafd170",
   "metadata": {
    "ExecuteTime": {
     "end_time": "2023-04-29T07:07:14.136648Z",
     "start_time": "2023-04-29T07:07:14.118424Z"
    }
   },
   "source": [
    "Let's now test these methods using the timeit magic function:"
   ]
  },
  {
   "cell_type": "code",
   "execution_count": 28,
   "id": "740399a5",
   "metadata": {
    "ExecuteTime": {
     "end_time": "2023-04-29T22:11:14.482241Z",
     "start_time": "2023-04-29T22:10:58.179297Z"
    }
   },
   "outputs": [
    {
     "name": "stdout",
     "output_type": "stream",
     "text": [
      "153 ms ± 30.6 ms per loop (mean ± std. dev. of 7 runs, 1 loop each)\n",
      "530 µs ± 36.2 µs per loop (mean ± std. dev. of 7 runs, 1,000 loops each)\n",
      "266 µs ± 57.3 µs per loop (mean ± std. dev. of 7 runs, 1,000 loops each)\n",
      "101 µs ± 10.2 µs per loop (mean ± std. dev. of 7 runs, 10,000 loops each)\n"
     ]
    }
   ],
   "source": [
    "%timeit method1()\n",
    "%timeit method2()\n",
    "%timeit method3()\n",
    "%timeit method4()"
   ]
  },
  {
   "cell_type": "markdown",
   "id": "41a718d7",
   "metadata": {},
   "source": [
    "We can clearly see that the most effective method is the built-in range() function in Python!\n",
    "\n",
    "It is important to keep these factors in mind when writing efficient code. More importantly begin thinking about how we are able to index with O(1). We will discuss this in more detail when we cover arrays general. For now, take a look at the table below for an overview of Big-O efficiencies."
   ]
  },
  {
   "cell_type": "markdown",
   "id": "84799325",
   "metadata": {},
   "source": [
    "#### Table of Big-O for common list operations\n",
    "\n",
    "** Please note, in order to see this table, you may need to download this .ipynb file and view it locally, sometimes GitHub or nbveiwer have trouble showing the HTML for it... **"
   ]
  },
  {
   "cell_type": "markdown",
   "id": "56a5acc7",
   "metadata": {},
   "source": [
    "| Operation        | Big-O Efficiency |\n",
    "|------------------|-----------------|\n",
    "| index []         | O(1)            |\n",
    "| index assignment | O(1)            |\n",
    "| append           | O(1)            |\n",
    "| pop()            | O(1)            |\n",
    "| pop(i)           | O(n)            |\n",
    "| insert(i, item)  | O(n)            |\n",
    "| del operator     | O(n)            |\n",
    "| iteration        | O(n)            |\n",
    "| contains (in)    | O(n)            |\n",
    "| get slice [x:y]  | O(k)            |\n",
    "| del slice        | O(n)            |\n",
    "| set slice        | O(n+k)          |\n",
    "| reverse          | O(n)            |\n",
    "| concatenate      | O(k)            |\n",
    "| sort             | O(n log n)      |\n",
    "| multiply         | O(nk)           |"
   ]
  },
  {
   "cell_type": "markdown",
   "id": "3f5e55ca",
   "metadata": {},
   "source": [
    "| Data Structures    | Space Complexity | Access   | Search   | Insertion | Deletion |\n",
    "|--------------------|------------------|----------|----------|-----------|----------|\n",
    "| Array              | O(n)             | O(1)     | O(n)     | O(n)      | O(n)     |\n",
    "| Stack              | O(n)             | O(n)     | O(n)     | O(1)      | O(1)     |\n",
    "| Queue              | O(n)             | O(n)     | O(n)     | O(1)      | O(1)     |\n",
    "| Singly Linked List | O(n)             | O(n)     | O(n)     | O(1)      | O(1)     |\n",
    "| Doubly Linked List | O(n)             | O(n)     | O(n)     | O(1)      | O(1)     |\n",
    "| Hash Table         | O(n)             | N/A      | O(1)     | O(1)      | O(1)     |\n",
    "| Binary Search Tree | O(n)             | O(log n) | O(log n) | O(log n)  | O(log n) |"
   ]
  },
  {
   "cell_type": "markdown",
   "id": "07165f5e",
   "metadata": {},
   "source": [
    "### Dictionaries\n",
    "\n",
    "Dictionaries in Python are an implementation of a hash table. They operate with keys and values, for example:"
   ]
  },
  {
   "cell_type": "code",
   "execution_count": 29,
   "id": "72c2020e",
   "metadata": {
    "ExecuteTime": {
     "end_time": "2023-04-29T22:11:14.498433Z",
     "start_time": "2023-04-29T22:11:14.484247Z"
    }
   },
   "outputs": [],
   "source": [
    "d = {\"k1\": 1, \"k2\": 2}"
   ]
  },
  {
   "cell_type": "code",
   "execution_count": 30,
   "id": "829f0f27",
   "metadata": {
    "ExecuteTime": {
     "end_time": "2023-04-29T22:11:14.513626Z",
     "start_time": "2023-04-29T22:11:14.500695Z"
    }
   },
   "outputs": [
    {
     "data": {
      "text/plain": [
       "1"
      ]
     },
     "execution_count": 30,
     "metadata": {},
     "output_type": "execute_result"
    }
   ],
   "source": [
    "d[\"k1\"]"
   ]
  },
  {
   "cell_type": "markdown",
   "id": "2eebfdec",
   "metadata": {},
   "source": [
    "Something that is pretty amazing is that getting and setting items in a dictionary are O(1)! Hash tables are designed with efficiency in mind, and we will explore them in much more detail later on in the course as one of the most important data structures to undestand. In the meantime, refer to the table below for Big-O efficiencies of common dictionary operations:"
   ]
  },
  {
   "cell_type": "markdown",
   "id": "c6b607c0",
   "metadata": {},
   "source": [
    "\n",
    "<table border=\"1\">\n",
    "<thead valign=\"bottom\">\n",
    "<tr class=\"row-odd\"><th class=\"head\">Operation</th>\n",
    "<th class=\"head\">Big-O Efficiency</th>\n",
    "</tr>\n",
    "</thead>\n",
    "<tbody valign=\"top\">\n",
    "<tr class=\"row-even\"><td>copy</td>\n",
    "<td>O(n)</td>\n",
    "</tr>\n",
    "<tr class=\"row-odd\"><td>get item</td>\n",
    "<td>O(1)</td>\n",
    "</tr>\n",
    "<tr class=\"row-even\"><td>set item</td>\n",
    "<td>O(1)</td>\n",
    "</tr>\n",
    "<tr class=\"row-odd\"><td>delete item</td>\n",
    "<td>O(1)</td>\n",
    "</tr>\n",
    "<tr class=\"row-even\"><td>contains (in)</td>\n",
    "<td>O(1)</td>\n",
    "</tr>\n",
    "<tr class=\"row-odd\"><td>iteration</td>\n",
    "<td>O(n)</td>\n",
    "</tr>\n",
    "</tbody>\n",
    "</table>"
   ]
  },
  {
   "cell_type": "markdown",
   "id": "91777991",
   "metadata": {},
   "source": [
    "## Conclusion\n",
    "\n",
    "By the end of this section you should have an understanding of how Big-O is used in Algorithm analysis and be able to work out the Big-O of an algorithm you've developed. Get ready, there's a quiz up next!"
   ]
  },
  {
   "cell_type": "markdown",
   "id": "9ab47c4b",
   "metadata": {},
   "source": [
    "## Examples"
   ]
  },
  {
   "cell_type": "code",
   "execution_count": null,
   "id": "54aea0ff",
   "metadata": {},
   "outputs": [],
   "source": []
  },
  {
   "cell_type": "code",
   "execution_count": null,
   "id": "5feb9d2a",
   "metadata": {},
   "outputs": [],
   "source": []
  },
  {
   "cell_type": "code",
   "execution_count": null,
   "id": "a8960ed6",
   "metadata": {},
   "outputs": [],
   "source": []
  },
  {
   "cell_type": "code",
   "execution_count": null,
   "id": "89c1e06f",
   "metadata": {},
   "outputs": [],
   "source": []
  },
  {
   "cell_type": "code",
   "execution_count": null,
   "id": "9560ba25",
   "metadata": {},
   "outputs": [],
   "source": []
  },
  {
   "cell_type": "code",
   "execution_count": null,
   "id": "af12223c",
   "metadata": {},
   "outputs": [],
   "source": []
  },
  {
   "cell_type": "markdown",
   "id": "8b6d729b",
   "metadata": {},
   "source": [
    "---"
   ]
  },
  {
   "cell_type": "markdown",
   "id": "627393a0",
   "metadata": {},
   "source": [
    "# Array "
   ]
  },
  {
   "cell_type": "markdown",
   "id": "974db547-ed0e-4d30-9b0f-8aced2e02996",
   "metadata": {},
   "source": [
    "[Source: Array- Based Sequences pdf](http://xpzhang.me/teach/DS18_Fall/slide05.pdf)"
   ]
  },
  {
   "cell_type": "markdown",
   "id": "0e38c00c",
   "metadata": {},
   "source": [
    "[Python Array Tutorial – Define, Index, Methods](https://www.freecodecamp.org/news/python-array-tutorial-define-index-methods/#differences)"
   ]
  },
  {
   "cell_type": "markdown",
   "id": "833479ba",
   "metadata": {},
   "source": [
    " ## Difference between Python Lists and Python Array\n",
    " \n",
    "- Lists are one of the most common data structures in Python, and a core part of the language.\n",
    "\n",
    "- Lists and arrays behave similarly.\n",
    "\n",
    "- Just like arrays, lists are an ordered sequence of elements.\n",
    "\n",
    "- They are also mutable and not fixed in size, which means they can grow and shrink throughout the life of the program. Items can be added and removed, making them very flexible to work with.\n",
    "\n",
    "However, lists and arrays are not the same thing.\n",
    "\n",
    "- **Lists** store items that are of **various data types**. This means that a list can contain integers, floating point numbers, strings, or any other Python data type, at the same time. That is not the case with arrays.\n",
    "\n",
    "- As mentioned in the section above, **arrays** store only items that are of the **same single data type**. There are arrays that contain only integers, or only floating point numbers, or only any other Python data type you want to use."
   ]
  },
  {
   "cell_type": "markdown",
   "id": "ca1e2ac3",
   "metadata": {
    "ExecuteTime": {
     "end_time": "2023-04-29T08:50:49.765212Z",
     "start_time": "2023-04-29T08:50:49.754922Z"
    }
   },
   "source": [
    "## Introduction to Array Based Sequences\n",
    "\n",
    "In this lecture, we will get a brief overview of the \"sequence\" type object classes available in Python. These are mainly the **list**,**tuple**, and **string** objects. The main commonaility between these object types is the ability to index to access individual elements in the sequence. For example:"
   ]
  },
  {
   "cell_type": "code",
   "execution_count": 31,
   "id": "88ed4b5d",
   "metadata": {
    "ExecuteTime": {
     "end_time": "2023-04-29T22:11:14.529337Z",
     "start_time": "2023-04-29T22:11:14.516424Z"
    }
   },
   "outputs": [
    {
     "data": {
      "text/plain": [
       "1"
      ]
     },
     "execution_count": 31,
     "metadata": {},
     "output_type": "execute_result"
    }
   ],
   "source": [
    "l = [1, 2, 3]\n",
    "l[0]"
   ]
  },
  {
   "cell_type": "code",
   "execution_count": 32,
   "id": "9550ffad",
   "metadata": {
    "ExecuteTime": {
     "end_time": "2023-04-29T22:11:14.544712Z",
     "start_time": "2023-04-29T22:11:14.531407Z"
    }
   },
   "outputs": [
    {
     "data": {
      "text/plain": [
       "1"
      ]
     },
     "execution_count": 32,
     "metadata": {},
     "output_type": "execute_result"
    }
   ],
   "source": [
    "t = (1, 2, 3)\n",
    "t[0]"
   ]
  },
  {
   "cell_type": "code",
   "execution_count": 33,
   "id": "58fe9bc3",
   "metadata": {
    "ExecuteTime": {
     "end_time": "2023-04-29T22:11:14.559828Z",
     "start_time": "2023-04-29T22:11:14.546871Z"
    }
   },
   "outputs": [
    {
     "data": {
      "text/plain": [
       "'1'"
      ]
     },
     "execution_count": 33,
     "metadata": {},
     "output_type": "execute_result"
    }
   ],
   "source": [
    "s = \"123\"\n",
    "s[0]"
   ]
  },
  {
   "cell_type": "markdown",
   "id": "bdbbd304",
   "metadata": {},
   "source": [
    "- An array is a collection of items stored at contiguous memory locations. The idea is to store multiple items of the same type together. This makes it easier to calculate the position of each element by simply adding an offset to a base value, i.e., the memory location of the first element of the array (generally denoted by the name of the array).\n",
    "\n",
    "- or simplicity, we can think of an array a fleet of stairs where on each step is placed a value (let’s say one of your friends). Here, you can identify the location of any of your friends by simply knowing the count of the step they are on. Array can be handled in Python by a module named array. They can be useful when we have to manipulate only a specific data type values. A user can treat lists as arrays. However, user cannot constraint the type of elements stored in a list. If you create arrays using the array module, all elements of the array must be of the same type.\n",
    "![title](https://media.geeksforgeeks.org/wp-content/uploads/CommonArticleDesign1-min.png)\n",
    "\n",
    "- Array in Python can be created by importing `array module`. `array(data_type, value_list)` is used to create an array with data type and value list specified in its arguments."
   ]
  },
  {
   "cell_type": "markdown",
   "id": "5f5513b7",
   "metadata": {},
   "source": [
    "## When to Use Python Arrays\n",
    "\n",
    "- Arrays of the array module are a thin wrapper over C arrays, and are **useful when you want to work with homogeneous data.**\n",
    "\n",
    "- They are also more *compact* and take up *less memory and space* which makes them **more size efficient compared to lists**.\n",
    "\n",
    "- If you want to perform mathematical calculations, then you should use NumPy arrays by importing the NumPy package. Besides that, you should just use Python arrays when you really need to, as lists work in a similar way and are more flexible to work with."
   ]
  },
  {
   "cell_type": "code",
   "execution_count": 8,
   "id": "cf68b88b",
   "metadata": {
    "ExecuteTime": {
     "end_time": "2023-05-07T16:00:03.854152Z",
     "start_time": "2023-05-07T16:00:03.834383Z"
    }
   },
   "outputs": [
    {
     "name": "stdout",
     "output_type": "stream",
     "text": [
      "The new created array is :  1 2 3 \n"
     ]
    }
   ],
   "source": [
    "# Python program to demonstrate\n",
    "# Creation of Array\n",
    "\n",
    "# importing \"array\" for array creations\n",
    "import array as arr\n",
    "\n",
    "# creating an array with integer type\n",
    "a = arr.array(\"i\", [1, 2, 3])\n",
    "\n",
    "# printing original array\n",
    "print(\"The new created array is : \", end=\" \")\n",
    "for i in range(0, 3):\n",
    "    print(a[i], end=\" \")\n",
    "print()"
   ]
  },
  {
   "cell_type": "code",
   "execution_count": 9,
   "id": "6f4da3c7",
   "metadata": {
    "ExecuteTime": {
     "end_time": "2023-05-07T16:00:04.985139Z",
     "start_time": "2023-05-07T16:00:04.973860Z"
    }
   },
   "outputs": [
    {
     "name": "stdout",
     "output_type": "stream",
     "text": [
      "The new created array is :  2.5 3.2 3.3 "
     ]
    }
   ],
   "source": [
    "# creating an array with float type\n",
    "b = arr.array(\"d\", [2.5, 3.2, 3.3])\n",
    "\n",
    "# printing original array\n",
    "print(\"The new created array is : \", end=\" \")\n",
    "for i in range(0, 3):\n",
    "    print(b[i], end=\" \")"
   ]
  },
  {
   "cell_type": "markdown",
   "id": "2ccf3e12",
   "metadata": {},
   "source": [
    "## creating an array of different data types\n",
    "\n",
    "- `variable_name = array(typecode,[elements])`\n",
    "\n",
    "- In order to create Python arrays, you'll first have to import the array module which contains all the necessary functions. `import array as arr`\n",
    "\n",
    "\n",
    "\n",
    "- **typecode: Some of the data types are mentioned below which will help in creating an array of different data types**"
   ]
  },
  {
   "cell_type": "markdown",
   "id": "7b224faf",
   "metadata": {},
   "source": [
    "| TYPECODE | C TYPE             | PYTHON TYPE       | SIZE |\n",
    "|----------|--------------------|-------------------|------|\n",
    "| 'b'      | signed char        | int               | 1    |\n",
    "| 'B'      | unsigned char      | int               | 1    |\n",
    "| 'u'      | wchar_t            | Unicode character | 2    |\n",
    "| 'h'      | signed short       | int               | 2    |\n",
    "| 'H'      | unsigned short     | int               | 2    |\n",
    "| 'i'      | signed int         | int               | 2    |\n",
    "| 'I'      | unsigned int       | int               | 2    |\n",
    "| 'l'      | signed long        | int               | 4    |\n",
    "| 'L'      | unsigned long      | int               | 4    |\n",
    "| 'q'      | signed long long   | int               | 8    |\n",
    "| 'Q'      | unsigned long long | int               | 8    |\n",
    "| 'f'      | float              | float             | 4    |\n",
    "| 'd'      | double             | float             | 8    |"
   ]
  },
  {
   "cell_type": "markdown",
   "id": "f9ad4481",
   "metadata": {},
   "source": [
    "**`variable_name = array(typecode,[elements])`**\n",
    "\n",
    "- `variable_name` would be the name of the array.\n",
    "\n",
    "- The `typecode` specifies what kind of elements would be stored in the array. Whether it would be an array of integers, an array of floats or an array of any other Python data type. *Remember that all elements should be of the same data type.*\n",
    "\n",
    "- Inside square brackets you mention the elements that would be stored in the array, with each element being separated by a comma. You can also create an *empty array by just writing* `variable_name = array(typecode)` alone, without any elements.\n"
   ]
  },
  {
   "cell_type": "code",
   "execution_count": 3,
   "id": "949554ee",
   "metadata": {
    "ExecuteTime": {
     "end_time": "2023-05-08T13:05:29.896101Z",
     "start_time": "2023-05-08T13:05:29.883231Z"
    }
   },
   "outputs": [
    {
     "name": "stdout",
     "output_type": "stream",
     "text": [
      "array('i', [10, 20, 30])\n"
     ]
    }
   ],
   "source": [
    "import array as arr\n",
    "\n",
    "numbers = arr.array(\"i\", [10, 20, 30])\n",
    "\n",
    "\n",
    "print(numbers)\n",
    "\n",
    "# output\n",
    "\n",
    "# array('i', [10, 20, 30])"
   ]
  },
  {
   "cell_type": "code",
   "execution_count": 5,
   "id": "ab3db425",
   "metadata": {
    "ExecuteTime": {
     "end_time": "2023-05-08T13:05:38.543142Z",
     "start_time": "2023-05-08T13:05:38.519436Z"
    }
   },
   "outputs": [
    {
     "data": {
      "text/plain": [
       "3"
      ]
     },
     "execution_count": 5,
     "metadata": {},
     "output_type": "execute_result"
    }
   ],
   "source": [
    "len(numbers)"
   ]
  },
  {
   "cell_type": "code",
   "execution_count": 49,
   "id": "68280cb1",
   "metadata": {
    "ExecuteTime": {
     "end_time": "2023-05-09T07:57:52.461484Z",
     "start_time": "2023-05-09T07:57:52.409020Z"
    }
   },
   "outputs": [
    {
     "ename": "TypeError",
     "evalue": "integer argument expected, got float",
     "output_type": "error",
     "traceback": [
      "\u001b[1;31m---------------------------------------------------------------------------\u001b[0m",
      "\u001b[1;31mTypeError\u001b[0m                                 Traceback (most recent call last)",
      "Cell \u001b[1;32mIn[49], line 3\u001b[0m\n\u001b[0;32m      1\u001b[0m \u001b[38;5;28;01mimport\u001b[39;00m \u001b[38;5;21;01marray\u001b[39;00m \u001b[38;5;28;01mas\u001b[39;00m \u001b[38;5;21;01marr\u001b[39;00m \n\u001b[1;32m----> 3\u001b[0m numbers \u001b[38;5;241m=\u001b[39m \u001b[43marr\u001b[49m\u001b[38;5;241;43m.\u001b[39;49m\u001b[43marray\u001b[49m\u001b[43m(\u001b[49m\u001b[38;5;124;43m'\u001b[39;49m\u001b[38;5;124;43mi\u001b[39;49m\u001b[38;5;124;43m'\u001b[39;49m\u001b[43m,\u001b[49m\u001b[43m[\u001b[49m\u001b[38;5;241;43m10.0\u001b[39;49m\u001b[43m,\u001b[49m\u001b[38;5;241;43m20\u001b[39;49m\u001b[43m,\u001b[49m\u001b[38;5;241;43m30\u001b[39;49m\u001b[43m]\u001b[49m\u001b[43m)\u001b[49m\n\u001b[0;32m      6\u001b[0m \u001b[38;5;28mprint\u001b[39m(numbers)\n",
      "\u001b[1;31mTypeError\u001b[0m: integer argument expected, got float"
     ]
    }
   ],
   "source": [
    "import array as arr\n",
    "\n",
    "numbers = arr.array(\"i\", [10.0, 20, 30])\n",
    "\n",
    "\n",
    "print(numbers)"
   ]
  },
  {
   "cell_type": "markdown",
   "id": "3a9ef2a2",
   "metadata": {},
   "source": [
    "In the example above, I tried to include a floating point number in the array. I got an error because this is meant to be an integer array only."
   ]
  },
  {
   "cell_type": "markdown",
   "id": "8192d6ce",
   "metadata": {},
   "source": [
    "**To find out the exact number of elements contained in an array, use the built-in `len()` method.**"
   ]
  },
  {
   "cell_type": "code",
   "execution_count": 6,
   "id": "1d1cb119",
   "metadata": {
    "ExecuteTime": {
     "end_time": "2023-05-08T13:09:43.844350Z",
     "start_time": "2023-05-08T13:09:43.835269Z"
    }
   },
   "outputs": [
    {
     "name": "stdout",
     "output_type": "stream",
     "text": [
      "3\n"
     ]
    }
   ],
   "source": [
    "import array as arr\n",
    "\n",
    "numbers = arr.array(\"i\", [10, 20, 30])\n",
    "\n",
    "\n",
    "print(len(numbers))"
   ]
  },
  {
   "cell_type": "markdown",
   "id": "62794632",
   "metadata": {},
   "source": [
    "To access an element, you first write the name of the array followed by square brackets. Inside the square brackets you include the item's index number.\n",
    "\n",
    "The general syntax would look something like this:\n",
    "\n",
    "`array_name[index_value_of_item ]`"
   ]
  },
  {
   "cell_type": "code",
   "execution_count": 7,
   "id": "a511e6a3",
   "metadata": {
    "ExecuteTime": {
     "end_time": "2023-05-08T13:09:56.262225Z",
     "start_time": "2023-05-08T13:09:56.246319Z"
    }
   },
   "outputs": [
    {
     "name": "stdout",
     "output_type": "stream",
     "text": [
      "10\n",
      "20\n",
      "30\n"
     ]
    }
   ],
   "source": [
    "import array as arr\n",
    "\n",
    "numbers = arr.array(\"i\", [10, 20, 30])\n",
    "\n",
    "print(numbers[0])  # gets the 1st element\n",
    "print(numbers[1])  # gets the 2nd element\n",
    "print(numbers[2])  # gets the 3rd element"
   ]
  },
  {
   "cell_type": "code",
   "execution_count": 8,
   "id": "5ced8808",
   "metadata": {
    "ExecuteTime": {
     "end_time": "2023-05-08T13:10:13.852753Z",
     "start_time": "2023-05-08T13:10:13.828218Z"
    }
   },
   "outputs": [
    {
     "name": "stdout",
     "output_type": "stream",
     "text": [
      "30\n",
      "20\n",
      "10\n"
     ]
    }
   ],
   "source": [
    "import array as arr\n",
    "\n",
    "numbers = arr.array(\"i\", [10, 20, 30])\n",
    "\n",
    "print(numbers[-1])  # gets last item\n",
    "print(numbers[-2])  # gets second to last item\n",
    "print(numbers[-3])  # gets first item"
   ]
  },
  {
   "cell_type": "markdown",
   "id": "41b7d362",
   "metadata": {},
   "source": [
    "You can find out an element's index number by using the `index()` method."
   ]
  },
  {
   "cell_type": "code",
   "execution_count": 10,
   "id": "2b96851f",
   "metadata": {
    "ExecuteTime": {
     "end_time": "2023-05-08T13:11:02.409754Z",
     "start_time": "2023-05-08T13:11:02.385981Z"
    }
   },
   "outputs": [
    {
     "name": "stdout",
     "output_type": "stream",
     "text": [
      "0\n",
      "2\n"
     ]
    }
   ],
   "source": [
    "import array as arr\n",
    "\n",
    "numbers = arr.array(\"i\", [10, 20, 30])\n",
    "\n",
    "# search for the index of the value 10\n",
    "print(numbers.index(10))\n",
    "print(numbers.index(30))"
   ]
  },
  {
   "cell_type": "markdown",
   "id": "ce401e62",
   "metadata": {},
   "source": [
    "If there is more than one element with the same value, the index of the first instance of the value will be returned:"
   ]
  },
  {
   "cell_type": "code",
   "execution_count": 11,
   "id": "05c7bac8",
   "metadata": {
    "ExecuteTime": {
     "end_time": "2023-05-08T13:11:29.972139Z",
     "start_time": "2023-05-08T13:11:29.949122Z"
    }
   },
   "outputs": [
    {
     "name": "stdout",
     "output_type": "stream",
     "text": [
      "0\n"
     ]
    }
   ],
   "source": [
    "import array as arr\n",
    "\n",
    "numbers = arr.array(\"i\", [10, 20, 30, 10, 20, 30])\n",
    "\n",
    "# search for the index of the value 10\n",
    "# will return the index number of the first instance of the value 10\n",
    "print(numbers.index(10))"
   ]
  },
  {
   "cell_type": "markdown",
   "id": "16857c8a",
   "metadata": {},
   "source": [
    "**How to Loop through an Array in Python**"
   ]
  },
  {
   "cell_type": "code",
   "execution_count": 12,
   "id": "b3faf0d2",
   "metadata": {
    "ExecuteTime": {
     "end_time": "2023-05-08T13:11:59.788999Z",
     "start_time": "2023-05-08T13:11:59.769069Z"
    }
   },
   "outputs": [
    {
     "name": "stdout",
     "output_type": "stream",
     "text": [
      "10\n",
      "20\n",
      "30\n"
     ]
    }
   ],
   "source": [
    "import array as arr\n",
    "\n",
    "numbers = arr.array(\"i\", [10, 20, 30])\n",
    "\n",
    "for number in numbers:\n",
    "    print(number)"
   ]
  },
  {
   "cell_type": "code",
   "execution_count": 13,
   "id": "baeb1513",
   "metadata": {
    "ExecuteTime": {
     "end_time": "2023-05-08T13:17:54.624102Z",
     "start_time": "2023-05-08T13:17:54.599335Z"
    }
   },
   "outputs": [
    {
     "name": "stdout",
     "output_type": "stream",
     "text": [
      "10\n",
      "20\n",
      "30\n"
     ]
    }
   ],
   "source": [
    "import array as arr\n",
    "\n",
    "values = arr.array(\"i\", [10, 20, 30])\n",
    "\n",
    "# prints each individual value in the array\n",
    "for value in range(len(values)):\n",
    "    print(values[value])"
   ]
  },
  {
   "cell_type": "markdown",
   "id": "a75c73ce",
   "metadata": {},
   "source": [
    "## Adding elements in array"
   ]
  },
  {
   "cell_type": "markdown",
   "id": "09997236",
   "metadata": {},
   "source": [
    "**adding an element using `insert()`**\n",
    "\n",
    "`insert()` method, to add an item at a specific position."
   ]
  },
  {
   "cell_type": "code",
   "execution_count": 22,
   "id": "ff3b8a0b",
   "metadata": {
    "ExecuteTime": {
     "end_time": "2023-05-08T13:26:55.078491Z",
     "start_time": "2023-05-08T13:26:55.064135Z"
    }
   },
   "outputs": [
    {
     "name": "stdout",
     "output_type": "stream",
     "text": [
      "array('i', [1, 2, 3])\n",
      "Array after insertion :  array('i', [1, 4, 2, 3])\n"
     ]
    }
   ],
   "source": [
    "import array as arr\n",
    "\n",
    "a = arr.array(\"i\", [1, 2, 3])\n",
    "print(a)\n",
    "\n",
    "a.insert(1, 4)\n",
    "print(\"Array after insertion : \", end=\" \")\n",
    "print(a)"
   ]
  },
  {
   "cell_type": "markdown",
   "id": "64dee623",
   "metadata": {
    "ExecuteTime": {
     "end_time": "2023-05-08T13:28:29.524965Z",
     "start_time": "2023-05-08T13:28:29.499874Z"
    }
   },
   "source": [
    "**adding an element using `append()`**\n",
    "\n",
    "To add one single value at the end of an array, use the `append()` method"
   ]
  },
  {
   "cell_type": "code",
   "execution_count": 24,
   "id": "28f20712",
   "metadata": {
    "ExecuteTime": {
     "end_time": "2023-05-08T13:28:51.461261Z",
     "start_time": "2023-05-08T13:28:51.440476Z"
    }
   },
   "outputs": [
    {
     "name": "stdout",
     "output_type": "stream",
     "text": [
      "Array before insertion :  array('d', [2.5, 3.2, 3.3])\n",
      "Array after insertion :  array('d', [2.5, 3.2, 3.3, 4.4])\n"
     ]
    }
   ],
   "source": [
    "b = arr.array(\"d\", [2.5, 3.2, 3.3])\n",
    "print(\"Array before insertion : \", end=\" \")\n",
    "print(b)\n",
    "\n",
    "\n",
    "b.append(4.4)\n",
    "\n",
    "print(\"Array after insertion : \", end=\" \")\n",
    "print(b)"
   ]
  },
  {
   "cell_type": "markdown",
   "id": "e13f0baa",
   "metadata": {},
   "source": [
    "**adding an element using `extend()`**\n",
    "\n",
    "Use the extend() method, which takes an iterable (such as a list of items) as an argument. Again, make sure that the new items are all the same data type."
   ]
  },
  {
   "cell_type": "code",
   "execution_count": 26,
   "id": "2908f7bf",
   "metadata": {
    "ExecuteTime": {
     "end_time": "2023-05-08T13:35:25.988292Z",
     "start_time": "2023-05-08T13:35:25.971386Z"
    }
   },
   "outputs": [
    {
     "name": "stdout",
     "output_type": "stream",
     "text": [
      "array('i', [10, 20, 30])\n",
      "array('i', [10, 20, 30, 40, 50, 60])\n"
     ]
    }
   ],
   "source": [
    "import array as arr\n",
    "\n",
    "# original array\n",
    "numbers = arr.array(\"i\", [10, 20, 30])\n",
    "print(numbers)\n",
    "\n",
    "# add the integers 40,50,60 to the end of numbers\n",
    "# The numbers need to be enclosed in square brackets\n",
    "\n",
    "numbers.extend([40, 50, 60])\n",
    "\n",
    "print(numbers)"
   ]
  },
  {
   "cell_type": "markdown",
   "id": "5a597ca3",
   "metadata": {},
   "source": [
    "## Removing Elements from array\n",
    "\n",
    "- elements can be removed from the array by using built-in **`remove()`** function but an **Error arises if element doesn’t exist in the set**. **`remove()` method only removes one element at a time,** to **remove range of elements, iterator is used.**\n",
    "\n",
    "- `pop()` function can also be used to **remove and return an element from the array**, but by default it removes only the last element of the array, to remove element from a specific position of the array, index of the element is passed as an argument to the pop() method.\n",
    "\n"
   ]
  },
  {
   "cell_type": "markdown",
   "id": "2704bfc3",
   "metadata": {},
   "source": [
    "To remove an element from an array, use the `remove()` method and include the **value as an argument to the method.**"
   ]
  },
  {
   "cell_type": "code",
   "execution_count": 36,
   "id": "60a77d9b",
   "metadata": {
    "ExecuteTime": {
     "end_time": "2023-05-08T13:46:28.638319Z",
     "start_time": "2023-05-08T13:46:28.630909Z"
    }
   },
   "outputs": [
    {
     "name": "stdout",
     "output_type": "stream",
     "text": [
      "array('i', [10, 20, 30])\n",
      "array('i', [20, 30])\n"
     ]
    }
   ],
   "source": [
    "import array as arr\n",
    "\n",
    "# original array\n",
    "numbers = arr.array(\"i\", [10, 20, 30])\n",
    "print(numbers)\n",
    "\n",
    "numbers.remove(10)\n",
    "print(numbers)"
   ]
  },
  {
   "cell_type": "markdown",
   "id": "67a80c2b",
   "metadata": {},
   "source": [
    "**Note– Remove method in List will only remove the first occurrence of the searched element.**"
   ]
  },
  {
   "cell_type": "code",
   "execution_count": 37,
   "id": "d3d5693e",
   "metadata": {
    "ExecuteTime": {
     "end_time": "2023-05-08T13:47:20.637870Z",
     "start_time": "2023-05-08T13:47:20.629864Z"
    }
   },
   "outputs": [
    {
     "name": "stdout",
     "output_type": "stream",
     "text": [
      "array('i', [10, 20, 30, 10, 20])\n",
      "array('i', [20, 30, 10, 20])\n"
     ]
    }
   ],
   "source": [
    "import array as arr\n",
    "\n",
    "# original array\n",
    "numbers = arr.array(\"i\", [10, 20, 30, 10, 20])\n",
    "print(numbers)\n",
    "\n",
    "numbers.remove(10)\n",
    "print(numbers)"
   ]
  },
  {
   "cell_type": "code",
   "execution_count": 33,
   "id": "7556dd14",
   "metadata": {
    "ExecuteTime": {
     "end_time": "2023-05-08T13:43:49.139263Z",
     "start_time": "2023-05-08T13:43:49.120899Z"
    }
   },
   "outputs": [
    {
     "name": "stdout",
     "output_type": "stream",
     "text": [
      "The new created array is : array('i', [1, 2, 3, 1, 5])\n"
     ]
    }
   ],
   "source": [
    "import array as arr\n",
    "\n",
    "num = arr.array(\"i\", [1, 2, 3, 1, 5])\n",
    "print(\"The new created array is : \", end=\"\")\n",
    "print(num)"
   ]
  },
  {
   "cell_type": "markdown",
   "id": "f27df6df",
   "metadata": {
    "ExecuteTime": {
     "end_time": "2023-05-08T13:41:36.284443Z",
     "start_time": "2023-05-08T13:41:36.260422Z"
    }
   },
   "source": [
    "**using `pop()` to remove element at 2nd position**"
   ]
  },
  {
   "cell_type": "code",
   "execution_count": 34,
   "id": "b1906837",
   "metadata": {
    "ExecuteTime": {
     "end_time": "2023-05-08T13:43:50.504605Z",
     "start_time": "2023-05-08T13:43:50.488276Z"
    }
   },
   "outputs": [
    {
     "name": "stdout",
     "output_type": "stream",
     "text": [
      "The popped element is : 3\n",
      "The array after popping is : array('i', [1, 2, 1, 5])\n"
     ]
    }
   ],
   "source": [
    "print(\"The popped element is : \", end=\"\")\n",
    "print(num.pop(2))\n",
    "\n",
    "print(\"The array after popping is : \", end=\"\")\n",
    "print(num)"
   ]
  },
  {
   "cell_type": "code",
   "execution_count": 40,
   "id": "7780baa2",
   "metadata": {
    "ExecuteTime": {
     "end_time": "2023-05-08T13:49:30.128404Z",
     "start_time": "2023-05-08T13:49:30.113312Z"
    },
    "run_control": {
     "marked": false
    }
   },
   "outputs": [
    {
     "name": "stdout",
     "output_type": "stream",
     "text": [
      "array('i', [10, 20, 30, 10, 20])\n",
      "array('i', [20, 30, 10, 20])\n"
     ]
    }
   ],
   "source": [
    "import array as arr\n",
    "\n",
    "# original array\n",
    "numbers = arr.array(\"i\", [10, 20, 30, 10, 20])\n",
    "print(numbers)\n",
    "\n",
    "# remove the first instance of 10\n",
    "numbers.pop(0)\n",
    "print(numbers)"
   ]
  },
  {
   "cell_type": "markdown",
   "id": "e58e62f4",
   "metadata": {},
   "source": [
    "**by default it removes only the last element of the array**"
   ]
  },
  {
   "cell_type": "code",
   "execution_count": 41,
   "id": "75d21321",
   "metadata": {
    "ExecuteTime": {
     "end_time": "2023-05-08T13:50:01.344226Z",
     "start_time": "2023-05-08T13:50:01.320628Z"
    }
   },
   "outputs": [
    {
     "name": "stdout",
     "output_type": "stream",
     "text": [
      "array('i', [10, 20, 30, 10, 20])\n",
      "array('i', [10, 20, 30, 10])\n"
     ]
    }
   ],
   "source": [
    "import array as arr\n",
    "\n",
    "# original array\n",
    "numbers = arr.array(\"i\", [10, 20, 30, 10, 20])\n",
    "print(numbers)\n",
    "\n",
    "# remove the first instance of 10\n",
    "numbers.pop()\n",
    "print(numbers)"
   ]
  },
  {
   "cell_type": "markdown",
   "id": "f709d5ab",
   "metadata": {},
   "source": [
    "## Slicing of a Array\n",
    "we use Slice operation. Slice operation is performed on array with the use of colon(:). To print elements from beginning to a range use [:Index], to print elements from end use [:-Index], to print elements from specific Index till the end use [Index:], to print elements within a range, use [Start Index:End Index] and to print whole List with the use of slicing operation, use [:]. Further, to print whole array in reverse order, use [::-1].\n",
    "\n",
    "![title](https://media.geeksforgeeks.org/wp-content/uploads/CommonArticleDesign3-min.png)"
   ]
  },
  {
   "cell_type": "code",
   "execution_count": 17,
   "id": "4025adf4",
   "metadata": {
    "ExecuteTime": {
     "end_time": "2023-05-08T13:21:25.512898Z",
     "start_time": "2023-05-08T13:21:25.502121Z"
    }
   },
   "outputs": [
    {
     "name": "stdout",
     "output_type": "stream",
     "text": [
      "array('i', [1, 2, 3, 4, 5, 6, 7, 8, 9, 10])\n",
      "\n",
      "Slicing elements in a range 3-8: \n",
      "array('i', [4, 5, 6, 7, 8])\n",
      "\n",
      "Elements sliced from 5th element till the end: \n",
      "array('i', [6, 7, 8, 9, 10])\n",
      "\n",
      "Printing all elements using slice operation: \n",
      "array('i', [1, 2, 3, 4, 5, 6, 7, 8, 9, 10])\n"
     ]
    }
   ],
   "source": [
    "import array as arr\n",
    "\n",
    "l = [1, 2, 3, 4, 5, 6, 7, 8, 9, 10]\n",
    "a = arr.array(\"i\", l)\n",
    "print(a)\n",
    "\n",
    "Sliced_array = a[3:8]\n",
    "print(\"\\nSlicing elements in a range 3-8: \")\n",
    "print(Sliced_array)\n",
    "\n",
    "Sliced_array = a[5:]\n",
    "print(\"\\nElements sliced from 5th \" \"element till the end: \")\n",
    "print(Sliced_array)\n",
    "\n",
    "Sliced_array = a[:]\n",
    "print(\"\\nPrinting all elements using slice operation: \")\n",
    "print(Sliced_array)"
   ]
  },
  {
   "cell_type": "code",
   "execution_count": 14,
   "id": "2c707817",
   "metadata": {
    "ExecuteTime": {
     "end_time": "2023-05-08T13:19:35.184782Z",
     "start_time": "2023-05-08T13:19:35.160881Z"
    }
   },
   "outputs": [
    {
     "name": "stdout",
     "output_type": "stream",
     "text": [
      "array('i', [10, 20])\n"
     ]
    }
   ],
   "source": [
    "import array as arr\n",
    "\n",
    "# original array\n",
    "numbers = arr.array(\"i\", [10, 20, 30])\n",
    "\n",
    "# get the values 10 and 20 only\n",
    "print(numbers[:2])  # first to second position"
   ]
  },
  {
   "cell_type": "markdown",
   "id": "630bbbed",
   "metadata": {},
   "source": [
    "## Searching element in a Array\n",
    "In order to search an element in the array we use a python in-built **index()** method. This function returns the index of the first occurrence of value mentioned in arguments."
   ]
  },
  {
   "cell_type": "code",
   "execution_count": 48,
   "id": "630c57a2",
   "metadata": {
    "ExecuteTime": {
     "end_time": "2023-05-08T14:02:39.131298Z",
     "start_time": "2023-05-08T14:02:39.115045Z"
    }
   },
   "outputs": [
    {
     "name": "stdout",
     "output_type": "stream",
     "text": [
      "The new created array is : array('i', [1, 2, 3, 1, 2, 5])\n",
      "The index of 1st occurrence of 2 is : 1\n",
      "The index of 1st occurrence of 1 is : 0\n"
     ]
    }
   ],
   "source": [
    "import array as arr\n",
    "\n",
    "num = arr.array(\"i\", [1, 2, 3, 1, 2, 5])\n",
    "\n",
    "# printing original array\n",
    "print(\"The new created array is : \", end=\"\")\n",
    "print(num)\n",
    "\n",
    "print(\"The index of 1st occurrence of 2 is : \", end=\"\")\n",
    "print(num.index(2))\n",
    "\n",
    "print(\"The index of 1st occurrence of 1 is : \", end=\"\")\n",
    "print(num.index(1))"
   ]
  },
  {
   "cell_type": "code",
   "execution_count": 3,
   "id": "81da0bfb",
   "metadata": {
    "ExecuteTime": {
     "end_time": "2023-05-07T10:50:11.184862Z",
     "start_time": "2023-05-07T10:50:11.165701Z"
    }
   },
   "outputs": [
    {
     "name": "stdout",
     "output_type": "stream",
     "text": [
      "The new created array is : 1 2 3 1 2 5 \r\n",
      "The index of 1st occurrence of 2 is : 1\n",
      "The index of 1st occurrence of 1 is : 0\n"
     ]
    }
   ],
   "source": [
    "# Python code to demonstrate\n",
    "# searching an element in array\n",
    "\n",
    "# importing array module\n",
    "import array\n",
    "\n",
    "# initializing array with array values\n",
    "# initializes array with signed integers\n",
    "arr = array.array(\"i\", [1, 2, 3, 1, 2, 5])\n",
    "\n",
    "# printing original array\n",
    "print(\"The new created array is : \", end=\"\")\n",
    "for i in range(0, 6):\n",
    "    print(arr[i], end=\" \")\n",
    "\n",
    "print(\"\\r\")\n",
    "# print(\"\\n\")\n",
    "\n",
    "# using index() to print index of 1st occurrenece of 2\n",
    "print(\"The index of 1st occurrence of 2 is : \", end=\"\")\n",
    "print(arr.index(2))\n",
    "\n",
    "# using index() to print index of 1st occurrenece of 1\n",
    "print(\"The index of 1st occurrence of 1 is : \", end=\"\")\n",
    "print(arr.index(1))"
   ]
  },
  {
   "cell_type": "markdown",
   "id": "8686169a",
   "metadata": {},
   "source": [
    "### Note: **How does carriage return “\\r” work in python**\n",
    "\n",
    "- A carriage return is nothing but a simple escape character. `\\n` is also an escape character which creates a new line.\n",
    "\n",
    "- Carriage return or `\\r` is a very unique feature of Python. `\\r` will just work as you have shifted your cursor to the beginning of the string or line.\n",
    "\n",
    "- Whenever you will use this special escape character `\\r`, the rest of the content after the `\\r` will come at the front of your line and will keep replacing your characters one by one until it takes all the contents left after the `\\r` in that string.\n",
    "\n"
   ]
  },
  {
   "cell_type": "code",
   "execution_count": 4,
   "id": "786d69f6",
   "metadata": {
    "ExecuteTime": {
     "end_time": "2023-05-07T10:53:00.489612Z",
     "start_time": "2023-05-07T10:53:00.481267Z"
    }
   },
   "outputs": [
    {
     "name": "stdout",
     "output_type": "stream",
     "text": [
      "Python is included in CodeSpeedy\n"
     ]
    }
   ],
   "source": [
    "print(\"Python is included in CodeSpeedy\")"
   ]
  },
  {
   "cell_type": "code",
   "execution_count": 5,
   "id": "79bc889f",
   "metadata": {
    "ExecuteTime": {
     "end_time": "2023-05-07T10:53:20.789494Z",
     "start_time": "2023-05-07T10:53:20.779245Z"
    }
   },
   "outputs": [
    {
     "name": "stdout",
     "output_type": "stream",
     "text": [
      "Python is included in CodeSpeedy\r",
      "123456\n"
     ]
    }
   ],
   "source": [
    "print(\"Python is included in CodeSpeedy\\r123456\")"
   ]
  },
  {
   "cell_type": "code",
   "execution_count": 6,
   "id": "ea32fd47",
   "metadata": {
    "ExecuteTime": {
     "end_time": "2023-05-07T10:54:04.393869Z",
     "start_time": "2023-05-07T10:54:04.378317Z"
    }
   },
   "outputs": [
    {
     "name": "stdout",
     "output_type": "stream",
     "text": [
      "Python is included in CodeSpeedy\r",
      "123456789\n"
     ]
    }
   ],
   "source": [
    "print(\"Python is included in CodeSpeedy\\r123456789\")"
   ]
  },
  {
   "cell_type": "code",
   "execution_count": 7,
   "id": "cb28ea84",
   "metadata": {
    "ExecuteTime": {
     "end_time": "2023-05-07T10:57:19.451534Z",
     "start_time": "2023-05-07T10:57:19.443600Z"
    }
   },
   "outputs": [
    {
     "name": "stdout",
     "output_type": "stream",
     "text": [
      "Hey there I am busy in learning Carriage Return in Python\r",
      "this is going to be added\n"
     ]
    }
   ],
   "source": [
    "print(\n",
    "    \"Hey there I am busy in learning Carriage Return in Python\\rthis is going to be added\"\n",
    ")"
   ]
  },
  {
   "cell_type": "markdown",
   "id": "d98227c5",
   "metadata": {},
   "source": [
    "## Updating Elements in a Array\n",
    "In order to update an element in the array we simply reassign a new value to the desired index we want to update."
   ]
  },
  {
   "cell_type": "code",
   "execution_count": 44,
   "id": "978e5450",
   "metadata": {
    "ExecuteTime": {
     "end_time": "2023-05-08T13:55:41.138774Z",
     "start_time": "2023-05-08T13:55:41.120467Z"
    }
   },
   "outputs": [
    {
     "name": "stdout",
     "output_type": "stream",
     "text": [
      "Array before updation : array('i', [1, 2, 3, 1, 2, 5])\n",
      "Array after updation  : array('i', [1, 2, 6, 1, 2, 5])\n"
     ]
    }
   ],
   "source": [
    "import array as arr\n",
    "\n",
    "num = arr.array(\"i\", [1, 2, 3, 1, 2, 5])\n",
    "\n",
    "print(\"Array before updation : \", end=\"\")\n",
    "print(num)\n",
    "\n",
    "num[2] = 6\n",
    "print(\"Array after updation  : \", end=\"\")\n",
    "print(num)"
   ]
  },
  {
   "cell_type": "code",
   "execution_count": 45,
   "id": "c42e960c",
   "metadata": {
    "ExecuteTime": {
     "end_time": "2023-05-08T13:56:41.374766Z",
     "start_time": "2023-05-08T13:56:41.362494Z"
    }
   },
   "outputs": [
    {
     "name": "stdout",
     "output_type": "stream",
     "text": [
      "Array after updation : array('i', [1, 2, 6, 1, 8, 5])\n"
     ]
    }
   ],
   "source": [
    "num[4] = 8\n",
    "print(\"Array after updation : \", end=\"\")\n",
    "print(num)"
   ]
  },
  {
   "cell_type": "markdown",
   "id": "b3fece07",
   "metadata": {},
   "source": [
    "## Low level array\n",
    "\n",
    "Each byte of memory is associated with a unique number that serves as \n",
    "its address\n",
    ".![](https://i.pinimg.com/564x/94/9e/a7/949ea74063a2ace98d899a59039d5296.jpg)\n",
    "\n",
    "Memory addresses are typically coordinated with the physical layout of \n",
    "the memory system, and so we often portray the numbers in sequentia \n",
    "fashion.\n"
   ]
  },
  {
   "cell_type": "markdown",
   "id": "f90d9552-c903-4268-b938-12425b81047b",
   "metadata": {},
   "source": [
    "**Example**\n",
    "\n",
    "A text string is stored as an ordered sequence of individual characters \n",
    "We describe this as an array of six characters, even though it requir s\n",
    "12 bytes of memory. We will refer to each location within an ar ay\n",
    "as a cell, and will use an integer index to describe its location wi hin\n",
    "the array, with cells numbered starting with 0, 1, 2, and so on"
   ]
  },
  {
   "cell_type": "markdown",
   "id": "f3469a42-1b9a-423d-a79e-74b5e57c301e",
   "metadata": {},
   "source": [
    "![](https://i.pinimg.com/564x/62/d9/65/62d965a28fb1a4ebe7d5a249c8e1448a.jpg)"
   ]
  },
  {
   "cell_type": "markdown",
   "id": "738b1227-c1e0-40f9-b175-48065abf9ef0",
   "metadata": {},
   "source": [
    "Each cell of an array must use the same number of bytes. This \n",
    "requirement is what allows an arbitrary cell of the array to be accessed i \n",
    "constant time based on its index."
   ]
  },
  {
   "cell_type": "markdown",
   "id": "89bec90d-1783-487d-ab2d-23d9c8751764",
   "metadata": {},
   "source": [
    "**Example**\n",
    "\n",
    "Given the memory address at which an array starts, the number of bytes per element, and a disired index within the array, the appropri\u0002ate memory address can be computed using `start + cellsize * index`"
   ]
  },
  {
   "cell_type": "markdown",
   "id": "82ce1c9f-55d7-4b8f-8a00-026db8a6d6ec",
   "metadata": {},
   "source": [
    "### Referential Arrays\n"
   ]
  },
  {
   "cell_type": "markdown",
   "id": "3d34286f-ea0f-4f92-b0f9-db439498908e",
   "metadata": {},
   "source": [
    "In Python, each cell of the array must use the same number of bytes.\n"
   ]
  },
  {
   "cell_type": "markdown",
   "id": "245c80a0-8fc4-4a74-bdce-858980cd50b2",
   "metadata": {},
   "source": [
    "Given a list of names:\n",
    "\n",
    "`[ ’ Rene ’ , ’ Joseph ’ , ’ Janet ’ , ’ Jonas ’ , ’ Helen ’ , ’ Virginia ’]`\n",
    "\n",
    "**How to represent such a list within an array?**\n",
    "\n",
    "**Way 1**: Reserve enough space for each cell to hold the maximum length \n",
    "string, but that would be wastfull\n",
    ".\n",
    ".\n"
   ]
  },
  {
   "cell_type": "markdown",
   "id": "977843d4-279c-4212-a030-f3fcfa847bfe",
   "metadata": {},
   "source": [
    "\n",
    "**Way 2** Python represents a list or tuple instance using an internal storage mechanism of an array of object references. At the lowest level, what is stored is a consecutive sequence of memory addresses at which the elements of the sequence reside.\n",
    "\n",
    "![](https://i.pinimg.com/564x/41/db/2c/41db2ccdc4ff847af33aa18e43146044.jpg)"
   ]
  },
  {
   "cell_type": "markdown",
   "id": "e10617dd-4e4e-4d47-8c6a-19529d1b8dd4",
   "metadata": {},
   "source": [
    "Although the relative size of the individual elements may vary, the \n",
    "number of bits used to store the memory address of each element i \n",
    "fixed. In this way, Python can support constant-time access to a list  r\n",
    "tuple element based on its index.\n"
   ]
  },
  {
   "cell_type": "markdown",
   "id": "adafd79e-1948-4c9b-8541-d4ddd4fc99ad",
   "metadata": {},
   "source": [
    "A single list instance may include multiple references to the same object \n",
    "as elements of the list, and it is possible for a single object to be a \n",
    "element of two or more lists, as those lists simply store references back  o\n",
    "that object."
   ]
  },
  {
   "cell_type": "markdown",
   "id": "933ef801-a941-4004-98db-b63df427e12c",
   "metadata": {},
   "source": [
    "**Example**\n",
    "\n",
    "- \n",
    "When you compute a slice of a list, the result is a new list instance \n",
    "but that new list has references to the same elements that are in t e\n",
    "original lit.\n"
   ]
  },
  {
   "cell_type": "markdown",
   "id": "acca6b67-76b8-43a1-a1ca-d41588692d1f",
   "metadata": {},
   "source": [
    " ![](https://i.pinimg.com/564x/33/27/5c/33275caac321054bb04b1236d5a821ea.jpg)"
   ]
  },
  {
   "cell_type": "markdown",
   "id": "a492dc3a-5914-4fd3-8e71-54ab5861580b",
   "metadata": {},
   "source": [
    "![](https://i.pinimg.com/736x/46/7b/67/467b67eaf69336b0fdb2cf71bbec01a9.jpg)"
   ]
  },
  {
   "cell_type": "code",
   "execution_count": 2,
   "id": "b5c3c1fa-a303-4190-aef8-4db4bd3db878",
   "metadata": {
    "execution": {
     "iopub.execute_input": "2023-08-13T08:53:15.904446Z",
     "iopub.status.busy": "2023-08-13T08:53:15.903459Z",
     "iopub.status.idle": "2023-08-13T08:53:15.925375Z",
     "shell.execute_reply": "2023-08-13T08:53:15.922878Z",
     "shell.execute_reply.started": "2023-08-13T08:53:15.904446Z"
    }
   },
   "outputs": [
    {
     "data": {
      "text/plain": [
       "[0, 0, 0, 0, 0, 0, 0, 0]"
      ]
     },
     "execution_count": 2,
     "metadata": {},
     "output_type": "execute_result"
    }
   ],
   "source": [
    "data = [0] * 8\n",
    "data"
   ]
  },
  {
   "cell_type": "markdown",
   "id": "bc926d99-19ba-4334-99f5-20f4f4639393",
   "metadata": {},
   "source": [
    "produces a list of length 8, with all 8 elements being the value 0. Technically, *all 8 cells of the list reference the same object.*"
   ]
  },
  {
   "cell_type": "markdown",
   "id": "3e8e76c4-689e-4ee6-a3a1-7982130b350a",
   "metadata": {},
   "source": [
    "![](https://i.pinimg.com/564x/c6/6d/50/c66d50ba80eb7148934eb6e6105dc709.jpg)"
   ]
  },
  {
   "cell_type": "code",
   "execution_count": 3,
   "id": "deae7e5b-7fd2-49f9-8b79-fd2d56d822f9",
   "metadata": {
    "execution": {
     "iopub.execute_input": "2023-08-13T08:55:19.346044Z",
     "iopub.status.busy": "2023-08-13T08:55:19.346044Z",
     "iopub.status.idle": "2023-08-13T08:55:19.364681Z",
     "shell.execute_reply": "2023-08-13T08:55:19.363489Z",
     "shell.execute_reply.started": "2023-08-13T08:55:19.346044Z"
    }
   },
   "outputs": [
    {
     "data": {
      "text/plain": [
       "[0, 0, 1, 0, 0, 0, 0, 0]"
      ]
     },
     "execution_count": 3,
     "metadata": {},
     "output_type": "execute_result"
    }
   ],
   "source": [
    "data[2] += 1\n",
    "data"
   ]
  },
  {
   "cell_type": "markdown",
   "id": "866e705b-08c0-40c3-89f0-abc1925d23e6",
   "metadata": {},
   "source": [
    "Due to the fact that the referenced integer is immutable, the above command does not change the value of the existing integer instance."
   ]
  },
  {
   "cell_type": "markdown",
   "id": "857b4c87-b463-4e3d-9f08-53c3e8aebf06",
   "metadata": {},
   "source": [
    "![](https://i.pinimg.com/564x/27/56/e9/2756e991444a3ed5feb68f748bb32eb6.jpg)"
   ]
  },
  {
   "cell_type": "code",
   "execution_count": 4,
   "id": "03d0bf33-aac8-495d-a979-c12444836eae",
   "metadata": {
    "execution": {
     "iopub.execute_input": "2023-08-13T08:57:15.958171Z",
     "iopub.status.busy": "2023-08-13T08:57:15.957173Z",
     "iopub.status.idle": "2023-08-13T08:57:15.984268Z",
     "shell.execute_reply": "2023-08-13T08:57:15.982306Z",
     "shell.execute_reply.started": "2023-08-13T08:57:15.958171Z"
    }
   },
   "outputs": [
    {
     "data": {
      "text/plain": [
       "[2, 3, 5, 7, 11, 13, 17, 19, 23, 29, 31]"
      ]
     },
     "execution_count": 4,
     "metadata": {},
     "output_type": "execute_result"
    }
   ],
   "source": [
    "primes = [2, 3, 5, 7, 11, 13, 17, 19]\n",
    "extras = [23, 29, 31]\n",
    "primes.extend(extras)\n",
    "primes"
   ]
  },
  {
   "cell_type": "markdown",
   "id": "0ae9671a-68e4-47f7-9b37-b961e9306723",
   "metadata": {},
   "source": [
    "The extend command is used to add all elements from one list to the end of another list."
   ]
  },
  {
   "cell_type": "markdown",
   "id": "53716608-4ee8-44ae-a152-e7d200038722",
   "metadata": {},
   "source": [
    "![](https://i.pinimg.com/564x/18/a3/5c/18a35ca5b668bfec91bf7c63b645bf64.jpg)"
   ]
  },
  {
   "cell_type": "markdown",
   "id": "9b8051e2-3496-4015-9fda-ba20524ffef1",
   "metadata": {},
   "source": [
    "The extended list does not receive copies of those elements, it receives \n",
    "references to those elements."
   ]
  },
  {
   "cell_type": "markdown",
   "id": "6480e7e2-f7ca-4f4b-93a5-3d5141762007",
   "metadata": {},
   "source": [
    "### Compact Arrays in Python\n",
    "\n",
    "- Strings are represented using an array of characters (NOT an array of \n",
    "references)\n",
    "- \n",
    "We will refer to this more direct representation as a compact arr y\n",
    "because the array is storing the bits that represent the primary d ta\n",
    "(characters, in the case of strings)."
   ]
  },
  {
   "cell_type": "markdown",
   "id": "842c7f2c-6eb0-4a3f-853b-57c370b1fb4a",
   "metadata": {},
   "source": [
    "![](https://i.pinimg.com/564x/ea/49/bf/ea49bf66930f7ddaa957f3f7769dfd5e.jpg)"
   ]
  },
  {
   "cell_type": "markdown",
   "id": "ceac8799-f264-40f6-b0e0-a865c98fafa5",
   "metadata": {},
   "source": [
    "- Compact arrays have several advantages over referential structures in \n",
    "terms of computing performane\n",
    "- • overall memory usage will be much low\n",
    "- \n",
    "• the primary data are stored consecutively in memory"
   ]
  },
  {
   "cell_type": "markdown",
   "id": "0cf73082-a8ab-4487-874d-d4f91fec220f",
   "metadata": {},
   "source": [
    "Primary support for compact arrays is in a module named array. That \n",
    "module defines a class, also named array, providing compact storage fo \n",
    "arrays of primitive data type.\n"
   ]
  },
  {
   "cell_type": "markdown",
   "id": "c6a6dd9c-545b-4337-aacf-0399889df272",
   "metadata": {},
   "source": [
    "![](https://i.pinimg.com/564x/d3/13/d4/d313d4b43000ff3814044ac1345d98ba.jpg)"
   ]
  },
  {
   "cell_type": "code",
   "execution_count": 6,
   "id": "633b1edd-c017-4c1a-938c-767b2826bc2b",
   "metadata": {
    "execution": {
     "iopub.execute_input": "2023-08-13T09:11:03.202822Z",
     "iopub.status.busy": "2023-08-13T09:11:03.201302Z",
     "iopub.status.idle": "2023-08-13T09:11:03.223016Z",
     "shell.execute_reply": "2023-08-13T09:11:03.221017Z",
     "shell.execute_reply.started": "2023-08-13T09:11:03.202822Z"
    }
   },
   "outputs": [
    {
     "name": "stdout",
     "output_type": "stream",
     "text": [
      "array('i', [1, 2, 3, 4, 5])\n"
     ]
    }
   ],
   "source": [
    "from array import array\n",
    "\n",
    "print(array(\"i\", [1, 2, 3, 4, 5]))"
   ]
  },
  {
   "cell_type": "code",
   "execution_count": 7,
   "id": "dee6dad3-d92c-42cc-8f19-858fcecb67e4",
   "metadata": {
    "execution": {
     "iopub.execute_input": "2023-08-13T09:11:25.686961Z",
     "iopub.status.busy": "2023-08-13T09:11:25.686961Z",
     "iopub.status.idle": "2023-08-13T09:11:25.703730Z",
     "shell.execute_reply": "2023-08-13T09:11:25.702437Z",
     "shell.execute_reply.started": "2023-08-13T09:11:25.686961Z"
    }
   },
   "outputs": [
    {
     "name": "stdout",
     "output_type": "stream",
     "text": [
      "array('f', [1.0, 2.0, 3.0, 4.0, 5.0])\n"
     ]
    }
   ],
   "source": [
    "print(array(\"f\", [1, 2, 3, 4, 5]))"
   ]
  },
  {
   "cell_type": "code",
   "execution_count": 8,
   "id": "d25beff1-75d4-4497-b81f-7a30737229b1",
   "metadata": {
    "execution": {
     "iopub.execute_input": "2023-08-13T09:11:49.402537Z",
     "iopub.status.busy": "2023-08-13T09:11:49.401399Z",
     "iopub.status.idle": "2023-08-13T09:11:49.414960Z",
     "shell.execute_reply": "2023-08-13T09:11:49.413477Z",
     "shell.execute_reply.started": "2023-08-13T09:11:49.402537Z"
    }
   },
   "outputs": [
    {
     "name": "stdout",
     "output_type": "stream",
     "text": [
      "array('d', [1.0, 2.0, 3.0, 4.0, 5.0])\n"
     ]
    }
   ],
   "source": [
    "print(array(\"d\", [1, 2, 3, 4, 5]))"
   ]
  },
  {
   "cell_type": "markdown",
   "id": "a20b2ef0-d045-4afe-bd2c-f6e4d4927b36",
   "metadata": {},
   "source": [
    "![](https://i.pinimg.com/564x/5f/a5/cc/5fa5ccd3f5317d80b594a82cd58c7263.jpg)"
   ]
  },
  {
   "cell_type": "code",
   "execution_count": null,
   "id": "2799f7d4-acd5-4d9f-bfae-f01613662f61",
   "metadata": {},
   "outputs": [],
   "source": []
  },
  {
   "cell_type": "markdown",
   "id": "dcefe817",
   "metadata": {},
   "source": [
    "## Dynamic array"
   ]
  },
  {
   "cell_type": "markdown",
   "id": "e57f36ce-4768-4dc9-9a90-0b0d733cf7cf",
   "metadata": {
    "execution": {
     "iopub.execute_input": "2023-08-13T09:14:44.889417Z",
     "iopub.status.busy": "2023-08-13T09:14:44.889417Z",
     "iopub.status.idle": "2023-08-13T09:14:44.913817Z",
     "shell.execute_reply": "2023-08-13T09:14:44.912150Z",
     "shell.execute_reply.started": "2023-08-13T09:14:44.889417Z"
    }
   },
   "source": [
    "When creating a low-level array in a computer system, the precise size of that array must be explicitly declared in order for the system to properly allocate a consecutive piece of memory for its storage.\n"
   ]
  },
  {
   "cell_type": "markdown",
   "id": "52455e93-69de-42c1-bacb-c373d5f921d7",
   "metadata": {},
   "source": [
    "![](https://i.pinimg.com/564x/b8/31/48/b8314882356462252352818c5b5c2ca1.jpg)"
   ]
  },
  {
   "cell_type": "markdown",
   "id": "da89d839-bb74-46b0-b3b1-5162643fae71",
   "metadata": {},
   "source": [
    "Because the system might dedicate neighboring memory locations to \n",
    "store other data, the capacity of an array cannot trivially be increased b \n",
    "expanding into subsequent cells. In the context of representing a Pyth n\n",
    "tuple or str instance, this constraint is no problem."
   ]
  },
  {
   "cell_type": "markdown",
   "id": "39aac08a-e199-40bd-80ea-9c90a7a7acbe",
   "metadata": {},
   "source": [
    "Python’s list class presents a more interesting abstractionray.\n"
   ]
  },
  {
   "cell_type": "markdown",
   "id": "8a8d62ba-e15f-4285-b6b7-3d49aaa4260c",
   "metadata": {},
   "source": [
    "Although a list has a particular length when constructed, the class allows us to add elements to the list, with no apparent limit on the overall capacity of the list"
   ]
  },
  {
   "cell_type": "markdown",
   "id": "b7e9f608-d16c-4062-87f2-92d8d26ec402",
   "metadata": {},
   "source": [
    "To provide this abstraction, Python relies on an algorithmic sleight of hand known as a **dynamic array.**"
   ]
  },
  {
   "cell_type": "markdown",
   "id": "d847f1f2-e610-46a9-9d7d-1daa910ee0da",
   "metadata": {},
   "source": [
    "- A list instance maintains an underlying array that often has greater \n",
    "capacity than the current length of the lis\n",
    "- \n",
    "This extra capacity makes it easy to append a new element to the list  y\n",
    "using the next available cell of the array."
   ]
  },
  {
   "cell_type": "markdown",
   "id": "a4b4e348-64c8-4ea8-81fd-f9b3164a4c07",
   "metadata": {},
   "source": [
    "If a user continues to append elements to a list, any reserved capacity\n",
    "will eventually be exhauste\n",
    ".\n",
    "- In that case, the class requests a new, larger array from the syste ,\n",
    "and initializes the new array so that its prefix matches that of  he\n",
    "existing smaller array\n",
    "- At that point in time, the old array is no longer needed, so  t is\n",
    "reclaimed by the \n",
    "system"
   ]
  },
  {
   "cell_type": "markdown",
   "id": "7b8891a4-503f-4494-bd40-1db39fa15d36",
   "metadata": {},
   "source": [
    "\n",
    "**Like hermit crab**"
   ]
  },
  {
   "cell_type": "code",
   "execution_count": 18,
   "id": "334be8df-8dd3-4051-acbb-6ed18d4cdb4b",
   "metadata": {
    "execution": {
     "iopub.execute_input": "2023-08-13T09:29:45.845705Z",
     "iopub.status.busy": "2023-08-13T09:29:45.844512Z",
     "iopub.status.idle": "2023-08-13T09:29:45.860603Z",
     "shell.execute_reply": "2023-08-13T09:29:45.859603Z",
     "shell.execute_reply.started": "2023-08-13T09:29:45.844512Z"
    }
   },
   "outputs": [
    {
     "name": "stdout",
     "output_type": "stream",
     "text": [
      "Length :  0;  Size in bytes:  56\n",
      "[None]\n",
      "Length :  1;  Size in bytes:  88\n",
      "[None, None]\n",
      "Length :  2;  Size in bytes:  88\n",
      "[None, None, None]\n",
      "Length :  3;  Size in bytes:  88\n",
      "[None, None, None, None]\n",
      "Length :  4;  Size in bytes:  88\n",
      "[None, None, None, None, None]\n",
      "Length :  5;  Size in bytes: 120\n",
      "[None, None, None, None, None, None]\n"
     ]
    }
   ],
   "source": [
    "import sys\n",
    "\n",
    "try:\n",
    "    n = int(sys.argv[1])\n",
    "except:\n",
    "    n = 6  # 100\n",
    "data = []\n",
    "for k in range(n):  # NOTE : must fix choice of n\n",
    "    a = len(data)  # number of elements\n",
    "    b = sys.getsizeof(data)  # actual size in bytes\n",
    "    print(\"Length :{0:3d};  Size in bytes:{1:4d}\".format(a, b))\n",
    "    data.append(None)  # increase length by one\n",
    "    print(data)"
   ]
  },
  {
   "cell_type": "markdown",
   "id": "e5992d1a-5273-48c1-a96c-ecd54f4afe0d",
   "metadata": {},
   "source": [
    "### Implementing a Dynamic Array"
   ]
  },
  {
   "cell_type": "markdown",
   "id": "8ce788aa-6da2-4965-baaa-72a7e2f03352",
   "metadata": {},
   "source": [
    "Although the Python list class provides a highly optimized \n",
    "implementation of dynamic arrays, upon which we rely for the remainde \n",
    "of this book, it is instructive to see how such a class might  e\n",
    "implement\n",
    "\n",
    "The key is to provide means to grow the array A that stores the elements \n",
    "of a list. Of course, we cannot actually grow that array, as its capacity i \n",
    "fixed\n",
    "\n",
    "If an element is appended to a list at a time when the underlying array is \n",
    "full, we perform the following steps:\n",
    "\n",
    "- Allocate a new array B with larger capacity\n",
    "- Set `B[i] = A[i]`, for `i = 0,...,n1,` where n denotes current number of items\n",
    "- Set A = B, that is, we henceforth use B as the array supporting the list\n",
    "- Insert the new element in the new array array.ed.\n"
   ]
  },
  {
   "cell_type": "markdown",
   "id": "c856a69c-ed0a-4d8a-b15d-0c971038884c",
   "metadata": {},
   "source": [
    "![](https://i.pinimg.com/564x/76/12/c7/7612c7b99908387db13cb0260096bda9.jpg)"
   ]
  },
  {
   "cell_type": "markdown",
   "id": "69db0531-1eaa-44b8-b815-dd47346a9ce1",
   "metadata": {},
   "source": [
    "The remaining issue to consider is how large of a new array to create. A commonly used rule is for the new array to have twice the capacity of the existing array that has been filled."
   ]
  },
  {
   "cell_type": "markdown",
   "id": "7b652d1e-e9c2-46e1-b544-7d6b72fdabf5",
   "metadata": {},
   "source": [
    "**A quick note on public vs private methods, we can use an underscore _ before the method name to keep it non-public. For example:**"
   ]
  },
  {
   "cell_type": "code",
   "execution_count": 19,
   "id": "5f956121-dcce-4098-a9b4-ee8c85c3c463",
   "metadata": {
    "execution": {
     "iopub.execute_input": "2023-08-13T09:46:01.859339Z",
     "iopub.status.busy": "2023-08-13T09:46:01.859339Z",
     "iopub.status.idle": "2023-08-13T09:46:01.872019Z",
     "shell.execute_reply": "2023-08-13T09:46:01.869776Z",
     "shell.execute_reply.started": "2023-08-13T09:46:01.859339Z"
    }
   },
   "outputs": [],
   "source": [
    "class M(object):\n",
    "    def public(self):\n",
    "        print(\"Use Tab to see me!\")\n",
    "\n",
    "    def _private(self):\n",
    "        print(\"You won't be able to Tab to see me!\")"
   ]
  },
  {
   "cell_type": "code",
   "execution_count": 20,
   "id": "a6d1502a-5240-4104-84bb-f62befddca0d",
   "metadata": {
    "execution": {
     "iopub.execute_input": "2023-08-13T09:46:17.741359Z",
     "iopub.status.busy": "2023-08-13T09:46:17.740360Z",
     "iopub.status.idle": "2023-08-13T09:46:17.751281Z",
     "shell.execute_reply": "2023-08-13T09:46:17.750245Z",
     "shell.execute_reply.started": "2023-08-13T09:46:17.741359Z"
    }
   },
   "outputs": [],
   "source": [
    "m = M()"
   ]
  },
  {
   "cell_type": "code",
   "execution_count": 21,
   "id": "e5331414-c2af-40c8-8329-643827350c62",
   "metadata": {
    "execution": {
     "iopub.execute_input": "2023-08-13T09:46:27.836268Z",
     "iopub.status.busy": "2023-08-13T09:46:27.835269Z",
     "iopub.status.idle": "2023-08-13T09:46:27.851423Z",
     "shell.execute_reply": "2023-08-13T09:46:27.850424Z",
     "shell.execute_reply.started": "2023-08-13T09:46:27.836268Z"
    }
   },
   "outputs": [
    {
     "name": "stdout",
     "output_type": "stream",
     "text": [
      "Use Tab to see me!\n"
     ]
    }
   ],
   "source": [
    "m.public()"
   ]
  },
  {
   "cell_type": "code",
   "execution_count": 22,
   "id": "27fdf811-f199-4045-81f3-d12935e30d53",
   "metadata": {
    "execution": {
     "iopub.execute_input": "2023-08-13T09:46:40.963835Z",
     "iopub.status.busy": "2023-08-13T09:46:40.963835Z",
     "iopub.status.idle": "2023-08-13T09:46:40.970513Z",
     "shell.execute_reply": "2023-08-13T09:46:40.969014Z",
     "shell.execute_reply.started": "2023-08-13T09:46:40.963835Z"
    }
   },
   "outputs": [
    {
     "name": "stdout",
     "output_type": "stream",
     "text": [
      "You won't be able to Tab to see me!\n"
     ]
    }
   ],
   "source": [
    "m._private()"
   ]
  },
  {
   "cell_type": "markdown",
   "id": "416c430b-19cb-4639-bf73-604048bcd680",
   "metadata": {},
   "source": [
    "**Dynamic Array Implementation**"
   ]
  },
  {
   "cell_type": "code",
   "execution_count": 23,
   "id": "8c25c491-bb8a-4ded-9cb8-01c17a328579",
   "metadata": {
    "execution": {
     "iopub.execute_input": "2023-08-13T09:47:47.699204Z",
     "iopub.status.busy": "2023-08-13T09:47:47.698551Z",
     "iopub.status.idle": "2023-08-13T09:47:47.717601Z",
     "shell.execute_reply": "2023-08-13T09:47:47.717102Z",
     "shell.execute_reply.started": "2023-08-13T09:47:47.699204Z"
    }
   },
   "outputs": [],
   "source": [
    "import ctypes\n",
    "\n",
    "\n",
    "class DynamicArray(object):\n",
    "    \"\"\"\n",
    "    DYNAMIC ARRAY CLASS (Similar to Python List)\n",
    "    \"\"\"\n",
    "\n",
    "    def __init__(self):\n",
    "        self.n = 0  # Count actual elements (Default is 0)\n",
    "        self.capacity = 1  # Default Capacity\n",
    "        self.A = self.make_array(self.capacity)\n",
    "\n",
    "    def __len__(self):\n",
    "        \"\"\"\n",
    "        Return number of elements sorted in array\n",
    "        \"\"\"\n",
    "        return self.n\n",
    "\n",
    "    def __getitem__(self, k):\n",
    "        \"\"\"\n",
    "        Return element at index k\n",
    "        \"\"\"\n",
    "        if not 0 <= k < self.n:\n",
    "            return IndexError(\n",
    "                \"K is out of bounds!\"\n",
    "            )  # Check it k index is in bounds of array\n",
    "\n",
    "        return self.A[k]  # Retrieve from array at index k\n",
    "\n",
    "    def append(self, ele):\n",
    "        \"\"\"\n",
    "        Add element to end of the array\n",
    "        \"\"\"\n",
    "        if self.n == self.capacity:\n",
    "            self._resize(2 * self.capacity)  # Double capacity if not enough room\n",
    "\n",
    "        self.A[self.n] = ele  # Set self.n index to element\n",
    "        self.n += 1\n",
    "\n",
    "    def _resize(self, new_cap):\n",
    "        \"\"\"\n",
    "        Resize internal array to capacity new_cap\n",
    "        \"\"\"\n",
    "\n",
    "        B = self.make_array(new_cap)  # New bigger array\n",
    "\n",
    "        for k in range(self.n):  # Reference all existing values\n",
    "            B[k] = self.A[k]\n",
    "\n",
    "        self.A = B  # Call A the new bigger array\n",
    "        self.capacity = new_cap  # Reset the capacity\n",
    "\n",
    "    def make_array(self, new_cap):\n",
    "        \"\"\"\n",
    "        Returns a new array with new_cap capacity\n",
    "        \"\"\"\n",
    "        return (new_cap * ctypes.py_object)()"
   ]
  },
  {
   "cell_type": "code",
   "execution_count": 27,
   "id": "b456acee-6cf4-4c0e-8a92-65a64284ece4",
   "metadata": {
    "execution": {
     "iopub.execute_input": "2023-08-13T09:49:08.693934Z",
     "iopub.status.busy": "2023-08-13T09:49:08.692942Z",
     "iopub.status.idle": "2023-08-13T09:49:08.712211Z",
     "shell.execute_reply": "2023-08-13T09:49:08.711380Z",
     "shell.execute_reply.started": "2023-08-13T09:49:08.693934Z"
    }
   },
   "outputs": [],
   "source": [
    "# Instantiate\n",
    "arr = DynamicArray()"
   ]
  },
  {
   "cell_type": "code",
   "execution_count": 28,
   "id": "993f4156-e85b-4f3b-84f5-e699fb6128f2",
   "metadata": {
    "execution": {
     "iopub.execute_input": "2023-08-13T09:49:08.879007Z",
     "iopub.status.busy": "2023-08-13T09:49:08.879007Z",
     "iopub.status.idle": "2023-08-13T09:49:08.903965Z",
     "shell.execute_reply": "2023-08-13T09:49:08.896967Z",
     "shell.execute_reply.started": "2023-08-13T09:49:08.879007Z"
    }
   },
   "outputs": [],
   "source": [
    "arr.append(1)"
   ]
  },
  {
   "cell_type": "code",
   "execution_count": 29,
   "id": "9f04882a-0a9e-41ea-86df-c1e416540f79",
   "metadata": {
    "execution": {
     "iopub.execute_input": "2023-08-13T09:49:08.979570Z",
     "iopub.status.busy": "2023-08-13T09:49:08.979570Z",
     "iopub.status.idle": "2023-08-13T09:49:08.995448Z",
     "shell.execute_reply": "2023-08-13T09:49:08.990430Z",
     "shell.execute_reply.started": "2023-08-13T09:49:08.979570Z"
    }
   },
   "outputs": [
    {
     "data": {
      "text/plain": [
       "1"
      ]
     },
     "execution_count": 29,
     "metadata": {},
     "output_type": "execute_result"
    }
   ],
   "source": [
    "len(arr)"
   ]
  },
  {
   "cell_type": "code",
   "execution_count": 30,
   "id": "4c2b43f7-53a8-4c59-af7f-0455be5fd22e",
   "metadata": {
    "execution": {
     "iopub.execute_input": "2023-08-13T09:49:09.168638Z",
     "iopub.status.busy": "2023-08-13T09:49:09.168638Z",
     "iopub.status.idle": "2023-08-13T09:49:09.175698Z",
     "shell.execute_reply": "2023-08-13T09:49:09.174187Z",
     "shell.execute_reply.started": "2023-08-13T09:49:09.168638Z"
    }
   },
   "outputs": [],
   "source": [
    "# Append new element\n",
    "arr.append(2)"
   ]
  },
  {
   "cell_type": "code",
   "execution_count": 31,
   "id": "3da8e088-c228-42c9-8a10-f7e87a72e479",
   "metadata": {
    "execution": {
     "iopub.execute_input": "2023-08-13T09:49:10.664295Z",
     "iopub.status.busy": "2023-08-13T09:49:10.662465Z",
     "iopub.status.idle": "2023-08-13T09:49:10.679962Z",
     "shell.execute_reply": "2023-08-13T09:49:10.677717Z",
     "shell.execute_reply.started": "2023-08-13T09:49:10.664295Z"
    }
   },
   "outputs": [
    {
     "data": {
      "text/plain": [
       "2"
      ]
     },
     "execution_count": 31,
     "metadata": {},
     "output_type": "execute_result"
    }
   ],
   "source": [
    "len(arr)"
   ]
  },
  {
   "cell_type": "code",
   "execution_count": 32,
   "id": "255b0615-341e-4625-9f9a-b8bc82c2d6fd",
   "metadata": {
    "execution": {
     "iopub.execute_input": "2023-08-13T09:49:28.284124Z",
     "iopub.status.busy": "2023-08-13T09:49:28.283119Z",
     "iopub.status.idle": "2023-08-13T09:49:28.299398Z",
     "shell.execute_reply": "2023-08-13T09:49:28.298277Z",
     "shell.execute_reply.started": "2023-08-13T09:49:28.284124Z"
    }
   },
   "outputs": [
    {
     "data": {
      "text/plain": [
       "1"
      ]
     },
     "execution_count": 32,
     "metadata": {},
     "output_type": "execute_result"
    }
   ],
   "source": [
    "# Index\n",
    "arr[0]"
   ]
  },
  {
   "cell_type": "code",
   "execution_count": 33,
   "id": "38e0aafb-bf2f-4a91-9e8e-c90c75162cf4",
   "metadata": {
    "execution": {
     "iopub.execute_input": "2023-08-13T09:49:28.539262Z",
     "iopub.status.busy": "2023-08-13T09:49:28.539262Z",
     "iopub.status.idle": "2023-08-13T09:49:28.546833Z",
     "shell.execute_reply": "2023-08-13T09:49:28.546333Z",
     "shell.execute_reply.started": "2023-08-13T09:49:28.539262Z"
    }
   },
   "outputs": [
    {
     "data": {
      "text/plain": [
       "2"
      ]
     },
     "execution_count": 33,
     "metadata": {},
     "output_type": "execute_result"
    }
   ],
   "source": [
    "# Index\n",
    "arr[1]"
   ]
  },
  {
   "cell_type": "markdown",
   "id": "75b37e8b-846e-44e7-9240-5f67d715d69f",
   "metadata": {},
   "source": [
    "## Efficiency of Python’s Sequence Types"
   ]
  },
  {
   "cell_type": "code",
   "execution_count": null,
   "id": "a5725448-517c-44ad-9956-47164a7cced9",
   "metadata": {},
   "outputs": [],
   "source": []
  },
  {
   "cell_type": "markdown",
   "id": "7c2ea6fe-d048-4583-a6b6-5babefa2d4c0",
   "metadata": {},
   "source": [
    "![](https://i.pinimg.com/564x/85/01/f9/8501f98724140175f81855f1b06d6a3e.jpg)in(ni"
   ]
  },
  {
   "cell_type": "markdown",
   "id": "fe828e64-53f8-449f-a0f9-3488ca4d45c8",
   "metadata": {},
   "source": [
    "Asymptotic performance of the nonmutating behaviors of the list and tuple classes. Identifiers data, datal, and data2 designate instances of the list or tuple class, and n, n1 , and n2 their respective lengths. For the containment check and index method, k represents the index of the leftmost occurrence (with k = n if there is no occurrence). For comparisons between two sequences, we let k denote the leftmost index at which they disagree or else k = min(n1,n2)"
   ]
  },
  {
   "cell_type": "markdown",
   "id": "49863b73-6361-41cf-bec2-282fa0159c7e",
   "metadata": {},
   "source": [
    "**Constant Operation**\n",
    "\n",
    "- `len(data)`\n",
    "- ` data[j`]"
   ]
  },
  {
   "cell_type": "markdown",
   "id": "ca94f4c6-099f-4683-968c-241a48b5f102",
   "metadata": {},
   "source": [
    "**Searching for Occurrences of a Value**\n",
    "- `count`\n",
    "- - the loop for computing the count must proceed through the entire\n",
    "sequence,\n",
    "- `index`, `__contains__`\n",
    "- - the loops for checking containment of an element or determining the\n",
    "index of an element immediately exit once they ﬁnd the leftmost\n",
    "occurrence of the desired value, if one e\n",
    "\n",
    "**Example:**\n",
    "`\n",
    "data = list(range(10000000`))\n",
    "\n",
    "- 5 in data: Best\n",
    "- 9999995 in data: Middle\n",
    "- -5 in data: Worstxists."
   ]
  },
  {
   "cell_type": "markdown",
   "id": "ea400525-c2a9-4aad-8ddb-31065a8c6415",
   "metadata": {
    "execution": {
     "iopub.execute_input": "2023-08-13T13:39:25.622566Z",
     "iopub.status.busy": "2023-08-13T13:39:25.621578Z",
     "iopub.status.idle": "2023-08-13T13:39:25.636527Z",
     "shell.execute_reply": "2023-08-13T13:39:25.636423Z",
     "shell.execute_reply.started": "2023-08-13T13:39:25.622566Z"
    }
   },
   "source": [
    "**Creating New Instances**\n",
    "\n",
    "The asymptotic behavior is proportional to the length of the result.\n",
    "**Example**\n",
    "- The slice `data[6000000:6000008]` can be constructed almost\n",
    "immediately because it has only eight elements;\n",
    "- the slice `data[6000000:7000000]` has one million elements,\n",
    "and thus is more time-consuming to create"
   ]
  },
  {
   "cell_type": "markdown",
   "id": "d8b4bfc8-bf00-4399-935f-49c62262fe42",
   "metadata": {},
   "source": [
    "**Mutating Behaviors**"
   ]
  },
  {
   "cell_type": "markdown",
   "id": "bc5a2d1a-3b22-4735-9388-32823db95898",
   "metadata": {},
   "source": [
    "![](https://i.pinimg.com/564x/f4/fe/47/f4fe470030115ce4c3ab16edd3e56b9b.jpg)"
   ]
  },
  {
   "cell_type": "markdown",
   "id": "a63803b0-093e-405f-b934-d713530c7447",
   "metadata": {},
   "source": [
    "Asymptotic performance of the mutating behaviors of the list class. Identifiers data, datal, and data2 designate instances of the list class, and n, n1, and n2 their respective lengths."
   ]
  },
  {
   "cell_type": "markdown",
   "id": "b3261a43-694a-4c82-bdb5-089d71122e54",
   "metadata": {},
   "source": [
    "- The simplest of those behaviors has syntax `data[j] = val`, and is supported by the special `__setitem__` method. This operation has worst-case $O(1)$ running time because\n",
    "\n",
    "  - it simply replaces one element of a list with a new value;\n",
    "  - no other elements are aﬀected and the size of the underlying array does not change."
   ]
  },
  {
   "cell_type": "markdown",
   "id": "e829fa28-be02-41f8-8a10-1f83a1ef87ba",
   "metadata": {},
   "source": [
    "- The **append** method: \n",
    "requires $O(n)$ time because the underlying array is resized, but uses $O(1)$ time in the amortized sense."
   ]
  },
  {
   "cell_type": "markdown",
   "id": "397c8e88-196f-4bc2-8385-2815583324e2",
   "metadata": {},
   "source": [
    "- The **insert** method:\n",
    "`insert(k, value)` inserts a given value into the list at index $0 ≤k ≤n$ while shifting all subsequent elements back one slot to make room."
   ]
  },
  {
   "cell_type": "code",
   "execution_count": 37,
   "id": "891d3b4f-c453-4f36-896e-09386bd1ff6f",
   "metadata": {
    "execution": {
     "iopub.execute_input": "2023-08-13T13:50:15.955881Z",
     "iopub.status.busy": "2023-08-13T13:50:15.955881Z",
     "iopub.status.idle": "2023-08-13T13:50:15.963435Z",
     "shell.execute_reply": "2023-08-13T13:50:15.962936Z",
     "shell.execute_reply.started": "2023-08-13T13:50:15.955881Z"
    }
   },
   "outputs": [],
   "source": [
    "def insert(self, k, value):\n",
    "    \"\"\"Insert value at index k, shifting\n",
    "    subsequent values rightward.\"\"\"\n",
    "    # (for simplicity, we assume 0 <= k <= n in this verion)\n",
    "    if self._n == self._capacity:\n",
    "        self._resize(2 * self._capacity)\n",
    "    for j in range(self._n, k, -1):\n",
    "        self._A[j] = self._A[j - 1]\n",
    "        self._A[k] = value\n",
    "        self._n += 1"
   ]
  },
  {
   "cell_type": "markdown",
   "id": "e4337ba6-59a2-4335-86a9-542058574418",
   "metadata": {},
   "source": [
    "![](https://i.pinimg.com/564x/f5/7d/6e/f57d6e4cdc5a0760990b29d3db52c6cd.jpg)\n",
    "\n",
    "Average running time of `insert(k, val)`, measured in microseconds, as observed over a sequence of N calls, starting with an empty list. We let n denote the size of the current list (as opposed to the final list)."
   ]
  },
  {
   "cell_type": "markdown",
   "id": "21a806e2-0723-4426-a5c8-8b58c8988c93",
   "metadata": {},
   "source": [
    "- Inserting at the beginning of a list is most expensive, requiring linear time per operation;\n",
    "- Inserting at the middle requires about half the time as inserting at the beginning, yet is still O(n) time;\n",
    "- Inserting at the end displays O(1) behavior, akin to append."
   ]
  },
  {
   "cell_type": "markdown",
   "id": "582af044-ef39-47eb-8939-ccbda7dbea16",
   "metadata": {},
   "source": [
    "- **`pop()`**: removes the last element from a list. This is most eﬃcient, because all other elements remain in their original location. This is eﬀectively an O(1) operation, but the bound is amortized because Python will occasionally shrink the underlying dynamic array to conserve memory."
   ]
  },
  {
   "cell_type": "markdown",
   "id": "22a9216c-2acb-42db-b90e-6398afb13cc8",
   "metadata": {},
   "source": [
    "- **`pop(k)`**: removes the element that is at index k <n of a list, shifting all subsequent elements leftward to ﬁll the gap that results from the removal.\n",
    "- \n",
    "The eﬃciency of this operation is O(nk), as the amount of shifting depends upon the choice of index k."
   ]
  },
  {
   "cell_type": "markdown",
   "id": "1c922924-9cf6-4f8b-8826-de0905ce58d1",
   "metadata": {},
   "source": [
    "![](https://i.pinimg.com/564x/ba/e8/43/bae8431fb6aa7ab0c7865a8947387cdd.jpg)"
   ]
  },
  {
   "cell_type": "markdown",
   "id": "96bdf65b-e295-4a26-b1ec-db8823f4d971",
   "metadata": {},
   "source": [
    "- The **`remove`** method\n",
    "  - `remove(value)` allows the caller to specify the value that should be removed.\n",
    "  - The efficiency of this operation is O(n). One part of the process searches from the beginning until finding the value at index k, while the rest iterates from k to the end in order to shift elements leftward."
   ]
  },
  {
   "cell_type": "code",
   "execution_count": 39,
   "id": "56f84b7a-4eb5-47cb-aae3-61872bc9cf46",
   "metadata": {
    "execution": {
     "iopub.execute_input": "2023-08-13T14:01:23.533645Z",
     "iopub.status.busy": "2023-08-13T14:01:23.533645Z",
     "iopub.status.idle": "2023-08-13T14:01:23.551053Z",
     "shell.execute_reply": "2023-08-13T14:01:23.549921Z",
     "shell.execute_reply.started": "2023-08-13T14:01:23.533645Z"
    }
   },
   "outputs": [],
   "source": [
    "def remove(self, value):\n",
    "    \"\"\"Remove first occurrence of value (or\n",
    "    raise ValueError ).\"\"\"\n",
    "    # note : we do not consider shrinking the dynamic array in this version\n",
    "    for k in range(self._n):\n",
    "        if self._A[k] == value:\n",
    "            for j in range(k, self._n - 1):\n",
    "                self._A[j] = self._A[j + 1]\n",
    "        self._A[self._n - 1] = None\n",
    "        self._n -= 1  # we have one less item\n",
    "        return  # exit immediately\n",
    "    raise ValueError(\" value not found \")"
   ]
  },
  {
   "cell_type": "markdown",
   "id": "770e6f05-25a7-4b0f-b526-a909477f47ce",
   "metadata": {},
   "source": [
    "- The `extend` method\n",
    "- add all elements of one list to the end of a second list\n",
    "- A call to `data.extend(other)` produces the same outcome as the code,\n",
    "```\n",
    "for element in other:\n",
    "    data.append(element)\n",
    "```\n",
    "In either case, the running time is proportional to the length of the other list, and amortized because the underlying array for the first list may be resized to accommodate the additional elements."
   ]
  },
  {
   "cell_type": "markdown",
   "id": "fea3e3de-6ea5-4fbe-83f4-247f713c850d",
   "metadata": {},
   "source": [
    "In practice, the `extend` method is preferable to repeated calls to `append` because *the constant factors* hidden in the asymptotic analysis are significantly smaller."
   ]
  },
  {
   "cell_type": "markdown",
   "id": "20ce4c3c-6411-4db8-a1b1-3f943ba80c73",
   "metadata": {},
   "source": [
    "[Source: Array-Based Sequences](http://xpzhang.me/teach/DS18_Fall/slide05.pdf)"
   ]
  },
  {
   "cell_type": "code",
   "execution_count": null,
   "id": "62e08c30-3366-4c92-a007-c9db27ed849b",
   "metadata": {},
   "outputs": [],
   "source": []
  },
  {
   "cell_type": "markdown",
   "id": "c1685641-9388-430a-b7db-cdd1fcd82f52",
   "metadata": {},
   "source": [
    "## Using Array-Based Sequence"
   ]
  },
  {
   "cell_type": "markdown",
   "id": "01532278-61d5-47c5-a4f1-dbffbdc54b8b",
   "metadata": {},
   "source": [
    "### Storing High Scores for a Game"
   ]
  },
  {
   "cell_type": "code",
   "execution_count": null,
   "id": "e767a632-eb2f-41c3-9be1-7de1c01dcd10",
   "metadata": {},
   "outputs": [],
   "source": []
  },
  {
   "cell_type": "markdown",
   "id": "e5bb4abf-576e-4cf7-9d51-6cb5c1c953a3",
   "metadata": {},
   "source": [
    "### Sorting a Sequence"
   ]
  },
  {
   "cell_type": "raw",
   "id": "58e9cd09-6332-4f41-b2da-0ecabd5cc412",
   "metadata": {},
   "source": [
    "Starting with an unordered sequence of elements and rearranging them intom nondecreasing order."
   ]
  },
  {
   "cell_type": "markdown",
   "id": "c5c13840-2c6a-4548-8acb-06735f4867bb",
   "metadata": {},
   "source": [
    "#### Insert-Sorting"
   ]
  },
  {
   "cell_type": "markdown",
   "id": "536ab041-0021-4fe8-ab05-93b8546eb099",
   "metadata": {},
   "source": [
    "- First start with the first element in the array. One element by itself is already sorted.\n",
    "- Then consider the next element in the array. If it is smaller than the first, we swap them.\n",
    "- Next consider the third element in the array. Swap it leftward until it is in its proper order with the first two elements.\n",
    "- Then consider the fourth element, and swap it leftward until it is in the proper order with the first three.\n",
    "- Continue in this manner with the fifth element, the sixth, and so on, until the whole array is sorted."
   ]
  },
  {
   "cell_type": "markdown",
   "id": "60c0deb3-8550-4c45-8b2b-42a94d89d757",
   "metadata": {},
   "source": [
    "![](https://i.pinimg.com/564x/a8/92/29/a892292b99e31915a8e770776aa5ad8d.jpg)\n",
    "![](https://i.pinimg.com/564x/9f/5b/b5/9f5bb5d8ae38158d19edca132f4ed451.jpg)"
   ]
  },
  {
   "cell_type": "code",
   "execution_count": 40,
   "id": "76011f0a-6016-4c1b-99ed-ab7ae221837f",
   "metadata": {
    "execution": {
     "iopub.execute_input": "2023-08-13T14:22:16.086919Z",
     "iopub.status.busy": "2023-08-13T14:22:16.086919Z",
     "iopub.status.idle": "2023-08-13T14:22:16.100560Z",
     "shell.execute_reply": "2023-08-13T14:22:16.099544Z",
     "shell.execute_reply.started": "2023-08-13T14:22:16.086919Z"
    }
   },
   "outputs": [],
   "source": [
    "def insertion_sort(A):\n",
    "    \"\"\"Sort list of comparable elements into\n",
    "    nondecreasing order .\"\"\"\n",
    "    for k in range(1, len(A)):  # from 1 to n -1\n",
    "        cur = A[k]  # currentelement to be inserted\n",
    "        j = k  # find correct index j for current\n",
    "        while j > 0 and A[j - 1] > cur:  # element A [j -1] must be after current\n",
    "            A[j] = A[j - 1]\n",
    "            j -= 1\n",
    "        A[j] = cur  # cur is now in the right place"
   ]
  },
  {
   "cell_type": "markdown",
   "id": "4781486c-a2f2-477a-820b-37c5d578a59a",
   "metadata": {},
   "source": [
    "## Amortization\n",
    "\n",
    "- [Dynamic Array Amortized Analysis](https://www.interviewcake.com/concept/java/dynamic-array-amortized-analysis)\n",
    "- [Amortized Analysis](http://www.cs.cmu.edu/afs/cs/academic/class/15451-s10/www/lectures/lect0203.pdf)"
   ]
  },
  {
   "cell_type": "markdown",
   "id": "33b0193d",
   "metadata": {},
   "source": [
    "## Problems solution"
   ]
  },
  {
   "cell_type": "code",
   "execution_count": null,
   "id": "80d85a5a",
   "metadata": {},
   "outputs": [],
   "source": []
  },
  {
   "cell_type": "code",
   "execution_count": null,
   "id": "2f2c235b",
   "metadata": {},
   "outputs": [],
   "source": []
  },
  {
   "cell_type": "code",
   "execution_count": null,
   "id": "de4493ce",
   "metadata": {},
   "outputs": [],
   "source": []
  },
  {
   "cell_type": "code",
   "execution_count": null,
   "id": "11c5ad4c",
   "metadata": {},
   "outputs": [],
   "source": []
  },
  {
   "cell_type": "code",
   "execution_count": null,
   "id": "e59bde73",
   "metadata": {},
   "outputs": [],
   "source": []
  },
  {
   "cell_type": "code",
   "execution_count": null,
   "id": "7cbf17b6",
   "metadata": {},
   "outputs": [],
   "source": []
  },
  {
   "cell_type": "markdown",
   "id": "4ab5e8cb",
   "metadata": {},
   "source": [
    "# Stacks, Queues, and Deques"
   ]
  },
  {
   "cell_type": "markdown",
   "id": "d3bb0029",
   "metadata": {},
   "source": [
    "## Stack"
   ]
  },
  {
   "cell_type": "markdown",
   "id": "646a7db9",
   "metadata": {},
   "source": [
    "- A stack is a linear data structure that stores items in a Last In First Out way. \n",
    "- In stack, elements are added at one end and an element is deleted from that end only. \n",
    "- The *`insert`* and **`delete`** operations are called *`push`* and **`pop`** operations. \n",
    "- As an example, the data in the stack is stored in a similar order as dish plates are stacked one above another on the dining table.\n",
    "\n",
    "- Stack in Python Programming can be implemented by using List, collections class deque, queue module, or linked-list."
   ]
  },
  {
   "cell_type": "markdown",
   "id": "85a6a6ac",
   "metadata": {},
   "source": [
    "- Stack is an abstract data type that can be defined as a linear collection of data items that supports **last in and first out (LIFO)** semantics for insertion and deletion of data elements."
   ]
  },
  {
   "cell_type": "markdown",
   "id": "36672d6b",
   "metadata": {},
   "source": [
    "### Create a Stack\n",
    "\n",
    "- We can create a stack in python using the built-in List data structure which comes with methods to simulate stack and queue operations. \n",
    "- The stack can also be created using the deque library in python which efficiently provides stack and queue operations in one object. \n",
    "- Lastly, a stack in python can also be created by using the LifoQueue class."
   ]
  },
  {
   "cell_type": "markdown",
   "id": "b282db97",
   "metadata": {},
   "source": [
    "### Methods of Python Stack\n",
    "\n",
    "The functions/methods associated with stacks are listed below:\n",
    "\n",
    "- `empty()` – Returns a boolean (True/False) value as True if the stack is empty\n",
    "- `size()` – Returns size of the stack or number of items/elements stored in the stack\n",
    "- `top()` – Returns a reference to the topmost available element stored in the stack\n",
    "- `push(a)` – Inserts an element at the top of the stack\n",
    "- `pop()` – Deletes the topmost element from the last occupied memory location of the stack"
   ]
  },
  {
   "cell_type": "markdown",
   "id": "f311501a",
   "metadata": {},
   "source": [
    "**Program 1 - Python program to demonstrate stack implementation using the list**"
   ]
  },
  {
   "cell_type": "code",
   "execution_count": 17,
   "id": "d01d634d",
   "metadata": {
    "ExecuteTime": {
     "end_time": "2023-05-14T20:17:29.175313Z",
     "start_time": "2023-05-14T20:17:29.164169Z"
    }
   },
   "outputs": [],
   "source": [
    "stack_example = []\n",
    "\n",
    "# append() function to push element in the stack\n",
    "stack_example.append(\"one\")\n",
    "stack_example.append(\"two\")\n",
    "stack_example.append(\"three\")\n",
    "stack_example.append(\"four\")"
   ]
  },
  {
   "cell_type": "code",
   "execution_count": 18,
   "id": "2ddb25b3",
   "metadata": {
    "ExecuteTime": {
     "end_time": "2023-05-14T20:17:29.734510Z",
     "start_time": "2023-05-14T20:17:29.725140Z"
    }
   },
   "outputs": [
    {
     "name": "stdout",
     "output_type": "stream",
     "text": [
      "Initial stack with 4 elements one, two, three, four loaded in sequence\n",
      "['one', 'two', 'three', 'four']\n"
     ]
    }
   ],
   "source": [
    "print(\"Initial stack with 4 elements one, two, three, four loaded in sequence\")\n",
    "print(stack_example)"
   ]
  },
  {
   "cell_type": "code",
   "execution_count": 19,
   "id": "d9996537",
   "metadata": {
    "ExecuteTime": {
     "end_time": "2023-05-14T20:17:30.466795Z",
     "start_time": "2023-05-14T20:17:30.455687Z"
    }
   },
   "outputs": [
    {
     "name": "stdout",
     "output_type": "stream",
     "text": [
      "3 Elements popped from stack in LIFO order:\n",
      "four\n",
      "three\n",
      "two\n",
      "\n",
      "Stack after 3 elements are popped:\n"
     ]
    }
   ],
   "source": [
    "# pop() function to pop element from stack in LIFO order\n",
    "print(\"3 Elements popped from stack in LIFO order:\")\n",
    "print(stack_example.pop())\n",
    "print(stack_example.pop())\n",
    "print(stack_example.pop())\n",
    "print(\"\\nStack after 3 elements are popped:\")"
   ]
  },
  {
   "cell_type": "code",
   "execution_count": 20,
   "id": "899ef407",
   "metadata": {
    "ExecuteTime": {
     "end_time": "2023-05-14T20:17:31.228231Z",
     "start_time": "2023-05-14T20:17:31.208211Z"
    }
   },
   "outputs": [
    {
     "name": "stdout",
     "output_type": "stream",
     "text": [
      "['one']\n"
     ]
    }
   ],
   "source": [
    "print(stack_example)\n",
    "# stack is left with one element only"
   ]
  },
  {
   "cell_type": "code",
   "execution_count": 21,
   "id": "3857e308",
   "metadata": {
    "ExecuteTime": {
     "end_time": "2023-05-14T20:17:32.778043Z",
     "start_time": "2023-05-14T20:17:32.748428Z"
    }
   },
   "outputs": [
    {
     "name": "stdout",
     "output_type": "stream",
     "text": [
      "\n",
      "Stack is left with one element only\n",
      "one\n"
     ]
    },
    {
     "ename": "IndexError",
     "evalue": "pop from empty list",
     "output_type": "error",
     "traceback": [
      "\u001b[1;31m---------------------------------------------------------------------------\u001b[0m",
      "\u001b[1;31mIndexError\u001b[0m                                Traceback (most recent call last)",
      "Cell \u001b[1;32mIn[21], line 3\u001b[0m\n\u001b[0;32m      1\u001b[0m \u001b[38;5;28mprint\u001b[39m(\u001b[38;5;124m'\u001b[39m\u001b[38;5;130;01m\\n\u001b[39;00m\u001b[38;5;124mStack is left with one element only\u001b[39m\u001b[38;5;124m'\u001b[39m)\n\u001b[0;32m      2\u001b[0m \u001b[38;5;28mprint\u001b[39m(stack_example\u001b[38;5;241m.\u001b[39mpop())\n\u001b[1;32m----> 3\u001b[0m \u001b[38;5;28mprint\u001b[39m(\u001b[43mstack_example\u001b[49m\u001b[38;5;241;43m.\u001b[39;49m\u001b[43mpop\u001b[49m\u001b[43m(\u001b[49m\u001b[43m)\u001b[49m)\n",
      "\u001b[1;31mIndexError\u001b[0m: pop from empty list"
     ]
    }
   ],
   "source": [
    "print(\"\\nStack is left with one element only\")\n",
    "print(stack_example.pop())\n",
    "print(stack_example.pop())"
   ]
  },
  {
   "cell_type": "markdown",
   "id": "ad64ba0a",
   "metadata": {},
   "source": [
    "### Implementation Using Collections Deque Methods"
   ]
  },
  {
   "cell_type": "markdown",
   "id": "4a4b37c5",
   "metadata": {},
   "source": [
    "- n alternate way to implement stack using Python coding is by using the deque class from the collections module. \n",
    "- The deque class in the Python library can be used to implement a double-ended queue which supports the addition push() and removal pop() of elements from either end in O(1) time complexity."
   ]
  },
  {
   "cell_type": "markdown",
   "id": "e4051627",
   "metadata": {},
   "source": [
    "- The below stack implementation in Python (attached below Program) uses the deque class from the collection module. \n",
    "- Used append operation to add new items in stack and used `pop()` function to take out the items from the same end to follow **LIFO** sequence."
   ]
  },
  {
   "cell_type": "markdown",
   "id": "b4a0dfb5",
   "metadata": {},
   "source": [
    "**Program 2 - Python program to demonstrate stack implementation using collections.deque**"
   ]
  },
  {
   "cell_type": "code",
   "execution_count": 13,
   "id": "b03026d5",
   "metadata": {
    "ExecuteTime": {
     "end_time": "2023-05-14T20:14:38.139387Z",
     "start_time": "2023-05-14T20:14:38.131427Z"
    }
   },
   "outputs": [],
   "source": [
    "from collections import deque\n",
    "\n",
    "stack_example2 = deque()\n",
    "\n",
    "# append() function to push elements in the stack\n",
    "stack_example2.append(\"one\")\n",
    "stack_example2.append(\"two\")\n",
    "stack_example2.append(\"three\")\n",
    "stack_example2.append(\"four\")"
   ]
  },
  {
   "cell_type": "code",
   "execution_count": 14,
   "id": "8aea81f9",
   "metadata": {
    "ExecuteTime": {
     "end_time": "2023-05-14T20:14:38.871509Z",
     "start_time": "2023-05-14T20:14:38.862886Z"
    }
   },
   "outputs": [
    {
     "name": "stdout",
     "output_type": "stream",
     "text": [
      "Initial stack:\n",
      "deque(['one', 'two', 'three', 'four'])\n"
     ]
    }
   ],
   "source": [
    "print(\"Initial stack:\")\n",
    "print(stack_example2)"
   ]
  },
  {
   "cell_type": "code",
   "execution_count": 15,
   "id": "edc49364",
   "metadata": {
    "ExecuteTime": {
     "end_time": "2023-05-14T20:14:39.658298Z",
     "start_time": "2023-05-14T20:14:39.650823Z"
    }
   },
   "outputs": [
    {
     "name": "stdout",
     "output_type": "stream",
     "text": [
      "4 Elements popped from stack:\n",
      "four\n",
      "three\n",
      "two\n",
      "one\n"
     ]
    }
   ],
   "source": [
    "# pop() function to pop\n",
    "# element from stack in\n",
    "# LIFO order\n",
    "print(\"4 Elements popped from stack:\")\n",
    "print(stack_example2.pop())\n",
    "print(stack_example2.pop())\n",
    "print(stack_example2.pop())\n",
    "print(stack_example2.pop())"
   ]
  },
  {
   "cell_type": "code",
   "execution_count": 16,
   "id": "063eda52",
   "metadata": {
    "ExecuteTime": {
     "end_time": "2023-05-14T20:14:56.322221Z",
     "start_time": "2023-05-14T20:14:56.302860Z"
    }
   },
   "outputs": [
    {
     "name": "stdout",
     "output_type": "stream",
     "text": [
      "\n",
      " Empty Stack after elements are popped:\n",
      "deque([])\n"
     ]
    }
   ],
   "source": [
    "print(\"\\n Empty Stack after elements are popped:\")\n",
    "print(stack_example2)\n",
    "\n",
    "# further print(stack.pop()) will cause an IndexError as the stack is now empty"
   ]
  },
  {
   "cell_type": "markdown",
   "id": "dfb9ea63",
   "metadata": {},
   "source": [
    "### Implementation Using Queue Module"
   ]
  },
  {
   "cell_type": "markdown",
   "id": "e4c4c3ef",
   "metadata": {},
   "source": [
    "The queue module has a Last-In-First-Out Queue feature, which is a Stack. Data or elements are inserted into Queue using the put() function (alternatively called as push) and get() takes data out from the Queue.\n",
    "\n",
    "Various functions are available and can be used as per the explanation below:\n",
    "\n",
    "- `maxsize` – Number of items/objects allowed to be stored in the queue.\n",
    "- `empty()` – Return a boolean value as True if the queue is empty else False.\n",
    "- `full()` – Return True if queue contains maxsize items. If queue gets initialized with maxsize=0, then full() never returns True.\n",
    "- `get()` – This function removes and returns an item from the queue to the calling function. In case the queue is empty or NULL, the get() function will wait until a new element is available.\n",
    "- `get_nowait()` – Return an item if item is immediately available, else raise QueueEmpty flag.\n",
    "- `put(item)` – Put/Push an item/object into the queue. If the queue is full, the put() function will wait till the time a free memory slot is available before adding a new element.\n",
    "- `qsize()` – Return the number of items/objects in the queue.\n",
    "\n",
    "Python program below demonstrates stack implementation (attached below Program) uses queue module using Python library and operates basic stack operations using in-built functions of queue module like `put('element')`, `full()`, `get()`, etc."
   ]
  },
  {
   "cell_type": "code",
   "execution_count": 22,
   "id": "8e6bfae1",
   "metadata": {
    "ExecuteTime": {
     "end_time": "2023-05-14T20:30:21.805477Z",
     "start_time": "2023-05-14T20:30:21.797656Z"
    }
   },
   "outputs": [
    {
     "name": "stdout",
     "output_type": "stream",
     "text": [
      "Number of elements at start =  0\n",
      "Stack Full flag:  True\n",
      "Size after placing 4 elements:  4\n",
      "\n",
      "3 Elements popped from the stack in LIFO order\n",
      "four\n",
      "three\n",
      "two\n",
      "\n",
      "Empty:  False\n"
     ]
    }
   ],
   "source": [
    "# Program 3 - Python program to demonstrate stack implementation using queue module\n",
    "\n",
    "from queue import LifoQueue\n",
    "\n",
    "# Initializing a stack\n",
    "stack_example3 = LifoQueue(maxsize=4)\n",
    "\n",
    "# qsize() show the number of elements in the stack\n",
    "print(\"Number of elements at start = \", stack_example3.qsize())\n",
    "\n",
    "# put() function to push element in the stack\n",
    "stack_example3.put(\"one\")\n",
    "stack_example3.put(\"two\")\n",
    "stack_example3.put(\"three\")\n",
    "stack_example3.put(\"four\")\n",
    "\n",
    "print(\"Stack Full flag: \", stack_example3.full())\n",
    "print(\"Size after placing 4 elements: \", stack_example3.qsize())\n",
    "\n",
    "# get() function to pop element from stack in LIFO order\n",
    "print(\"\\n3 Elements popped from the stack in LIFO order\")\n",
    "print(stack_example3.get())\n",
    "print(stack_example3.get())\n",
    "print(stack_example3.get())\n",
    "\n",
    "print(\"\\nEmpty: \", stack_example3.empty())\n",
    "# further print(stack.pop()) will cause an IndexError as the stack is now empty"
   ]
  },
  {
   "cell_type": "markdown",
   "id": "6649931f",
   "metadata": {},
   "source": [
    "### Implementation Using Singly Linked List"
   ]
  },
  {
   "cell_type": "markdown",
   "id": "f7112656",
   "metadata": {},
   "source": [
    "To implement stack in Python, a linked list can be used and basic stack operations can be mimicked by methods addHead (item) and removeHead(). These methods get executed in constant time.\n",
    "\n",
    "- `getSize()`– Return the total size of the stack i.e number of items/elements stored in the stack.\n",
    "- `peek()` – Function would return the top item/element in the stack. In the case of an empty stack, the peek function would raise an exception alert.\n",
    "- `pop()` – Function would take out (remove) and return a value of the last entered element of the stack. In the case of an empty stack, the pop() function would raise an exception alert.\n",
    "- `isEmpty()` – Return a boolean value True if the stack is empty and false otherwise.\n",
    "- `push(value)` – A new element/object is entered into the head of the stack."
   ]
  },
  {
   "cell_type": "code",
   "execution_count": 1,
   "id": "cd4052e8",
   "metadata": {
    "ExecuteTime": {
     "end_time": "2023-05-14T20:32:22.021179Z",
     "start_time": "2023-05-14T20:32:21.999186Z"
    },
    "execution": {
     "iopub.execute_input": "2023-08-13T16:25:27.607841Z",
     "iopub.status.busy": "2023-08-13T16:25:27.607841Z",
     "iopub.status.idle": "2023-08-13T16:25:27.620460Z",
     "shell.execute_reply": "2023-08-13T16:25:27.619458Z",
     "shell.execute_reply.started": "2023-08-13T16:25:27.607841Z"
    }
   },
   "outputs": [
    {
     "name": "stdout",
     "output_type": "stream",
     "text": [
      "Stack: 15->14->13->12->11->10->9->8->7->6->5->4->3->2->1\n",
      "Pop: 15\n",
      "Pop: 14\n",
      "Pop: 13\n",
      "Pop: 12\n",
      "Pop: 11\n",
      "Pop: 10\n",
      "Pop: 9\n",
      "Pop: 8\n",
      "Pop: 7\n",
      "Pop: 6\n",
      "Stack: 5->4->3->2->1\n"
     ]
    }
   ],
   "source": [
    "# Program 4 - Python program to demonstrate stack implementation using linked list\n",
    "# node class\n",
    "\n",
    "\n",
    "class Node:\n",
    "    def __init__(self, value):\n",
    "        self.value = value\n",
    "        self.next = None\n",
    "\n",
    "\n",
    "class Stack:\n",
    "    # Initializing a stack.\n",
    "    def __init__(self):\n",
    "        self.head = Node(\"head\")\n",
    "        self.size = 0\n",
    "\n",
    "    # String representation of the stack in Linked List form by appending \"->\"\n",
    "    def __str__(self):\n",
    "        cur = self.head.next\n",
    "        out = \"\"\n",
    "        while cur:\n",
    "            out += str(cur.value) + \"->\"\n",
    "            cur = cur.next\n",
    "        return out[:-2]\n",
    "\n",
    "    # Check if the stack is empty\n",
    "    def isEmpty(self):\n",
    "        return self.size == 0\n",
    "\n",
    "    # Push a value into the stack.\n",
    "    def push(self, value):\n",
    "        node = Node(value)\n",
    "        node.next = self.head.next\n",
    "        self.head.next = node\n",
    "        self.size += 1\n",
    "\n",
    "    # Popping a value from stack and return.\n",
    "    def pop(self):\n",
    "        if self.isEmpty():\n",
    "            raise Exception(\"Popping from an empty stack\")\n",
    "        remove = self.head.next\n",
    "        self.head.next = self.head.next.next\n",
    "        self.size -= 1\n",
    "        return remove.value\n",
    "\n",
    "\n",
    "# main Code\n",
    "if __name__ == \"__main__\":\n",
    "    stack = Stack()\n",
    "    for i in range(1, 16):\n",
    "        stack.push(i)\n",
    "    print(f\"Stack: {stack}\")\n",
    "    for _ in range(1, 11):\n",
    "        remove = stack.pop()\n",
    "        print(f\"Pop: {remove}\")\n",
    "    print(f\"Stack: {stack}\")"
   ]
  },
  {
   "cell_type": "markdown",
   "id": "4143a297-3973-4e39-93fc-401e0f0efedc",
   "metadata": {},
   "source": [
    "**Stack Attributes and Methods**\n",
    "\n",
    "Before we implement our own Stack class, let's review the properties and methods of a Stack.\n",
    "\n",
    "The stack abstract data type is defined by the following structure and operations. A stack is structured, as described above, as an ordered collection of items where items are added to and removed from the end called the “top.” Stacks are ordered LIFO. The stack operations are given below.\n",
    "\n",
    "* Stack() creates a new stack that is empty. It needs no parameters and returns an empty stack.\n",
    "* push(item) adds a new item to the top of the stack. It needs the item and returns nothing.\n",
    "* pop() removes the top item from the stack. It needs no parameters and returns the item. The stack is modified.\n",
    "* peek() returns the top item from the stack but does not remove it. It needs no parameters. The stack is not modified.\n",
    "* isEmpty() tests to see whether the stack is empty. It needs no parameters and returns a boolean value.\n",
    "* size() returns the number of items on the stack. It needs no parameters and returns an integer."
   ]
  },
  {
   "cell_type": "code",
   "execution_count": 32,
   "id": "5d1e13c9-dc77-4192-accf-f23045b75a18",
   "metadata": {
    "execution": {
     "iopub.execute_input": "2023-08-13T16:54:14.703165Z",
     "iopub.status.busy": "2023-08-13T16:54:14.703165Z",
     "iopub.status.idle": "2023-08-13T16:54:14.713190Z",
     "shell.execute_reply": "2023-08-13T16:54:14.713190Z",
     "shell.execute_reply.started": "2023-08-13T16:54:14.703165Z"
    }
   },
   "outputs": [],
   "source": [
    "class Stack:\n",
    "    def __init__(self):\n",
    "        self.items = []\n",
    "\n",
    "    def isEmpty(self):\n",
    "        return self.items == []\n",
    "\n",
    "    def push(self, item):\n",
    "        self.items.append(item)\n",
    "\n",
    "    def pop(self):\n",
    "        return self.items.pop()\n",
    "\n",
    "    def peek(self):\n",
    "        return self.items[len(self.items) - 1]\n",
    "\n",
    "    def size(self):\n",
    "        return len(self.items)"
   ]
  },
  {
   "cell_type": "code",
   "execution_count": 3,
   "id": "a28a7fbe-f9f7-47bd-97ea-8fbcf8bf89ab",
   "metadata": {
    "execution": {
     "iopub.execute_input": "2023-08-13T16:27:37.055753Z",
     "iopub.status.busy": "2023-08-13T16:27:37.053897Z",
     "iopub.status.idle": "2023-08-13T16:27:37.069361Z",
     "shell.execute_reply": "2023-08-13T16:27:37.067443Z",
     "shell.execute_reply.started": "2023-08-13T16:27:37.055753Z"
    }
   },
   "outputs": [],
   "source": [
    "s = Stack()"
   ]
  },
  {
   "cell_type": "code",
   "execution_count": 4,
   "id": "ccc39020-5ceb-43b9-bd40-222d37b6ce4b",
   "metadata": {
    "execution": {
     "iopub.execute_input": "2023-08-13T16:27:37.672143Z",
     "iopub.status.busy": "2023-08-13T16:27:37.672143Z",
     "iopub.status.idle": "2023-08-13T16:27:37.684297Z",
     "shell.execute_reply": "2023-08-13T16:27:37.684052Z",
     "shell.execute_reply.started": "2023-08-13T16:27:37.672143Z"
    }
   },
   "outputs": [
    {
     "name": "stdout",
     "output_type": "stream",
     "text": [
      "True\n"
     ]
    }
   ],
   "source": [
    "print(s.isEmpty())"
   ]
  },
  {
   "cell_type": "code",
   "execution_count": 5,
   "id": "049c38b9-25f6-43ef-898a-5876b5e261dc",
   "metadata": {
    "execution": {
     "iopub.execute_input": "2023-08-13T16:27:38.163979Z",
     "iopub.status.busy": "2023-08-13T16:27:38.162979Z",
     "iopub.status.idle": "2023-08-13T16:27:38.180431Z",
     "shell.execute_reply": "2023-08-13T16:27:38.179930Z",
     "shell.execute_reply.started": "2023-08-13T16:27:38.163979Z"
    }
   },
   "outputs": [],
   "source": [
    "s.push(1)"
   ]
  },
  {
   "cell_type": "code",
   "execution_count": 6,
   "id": "398097a0-de9f-4d4c-b0f0-a87ba3aa8536",
   "metadata": {
    "execution": {
     "iopub.execute_input": "2023-08-13T16:27:38.655737Z",
     "iopub.status.busy": "2023-08-13T16:27:38.655737Z",
     "iopub.status.idle": "2023-08-13T16:27:38.676367Z",
     "shell.execute_reply": "2023-08-13T16:27:38.673409Z",
     "shell.execute_reply.started": "2023-08-13T16:27:38.655737Z"
    }
   },
   "outputs": [],
   "source": [
    "s.push(\"two\")"
   ]
  },
  {
   "cell_type": "code",
   "execution_count": 7,
   "id": "6f8b78a9-3c11-4045-b329-1f700687481e",
   "metadata": {
    "execution": {
     "iopub.execute_input": "2023-08-13T16:27:39.110233Z",
     "iopub.status.busy": "2023-08-13T16:27:39.110233Z",
     "iopub.status.idle": "2023-08-13T16:27:39.123046Z",
     "shell.execute_reply": "2023-08-13T16:27:39.122684Z",
     "shell.execute_reply.started": "2023-08-13T16:27:39.110233Z"
    }
   },
   "outputs": [
    {
     "data": {
      "text/plain": [
       "'two'"
      ]
     },
     "execution_count": 7,
     "metadata": {},
     "output_type": "execute_result"
    }
   ],
   "source": [
    "s.peek()"
   ]
  },
  {
   "cell_type": "code",
   "execution_count": 8,
   "id": "3893efec-f835-4427-9d6a-d3e2092eca85",
   "metadata": {
    "execution": {
     "iopub.execute_input": "2023-08-13T16:27:39.564158Z",
     "iopub.status.busy": "2023-08-13T16:27:39.564158Z",
     "iopub.status.idle": "2023-08-13T16:27:39.571915Z",
     "shell.execute_reply": "2023-08-13T16:27:39.570919Z",
     "shell.execute_reply.started": "2023-08-13T16:27:39.564158Z"
    }
   },
   "outputs": [],
   "source": [
    "s.push(True)"
   ]
  },
  {
   "cell_type": "code",
   "execution_count": 9,
   "id": "a4e685f8-fbb4-4434-91bf-698d4b086e61",
   "metadata": {
    "execution": {
     "iopub.execute_input": "2023-08-13T16:27:39.988763Z",
     "iopub.status.busy": "2023-08-13T16:27:39.987995Z",
     "iopub.status.idle": "2023-08-13T16:27:40.001781Z",
     "shell.execute_reply": "2023-08-13T16:27:40.000351Z",
     "shell.execute_reply.started": "2023-08-13T16:27:39.988763Z"
    }
   },
   "outputs": [
    {
     "data": {
      "text/plain": [
       "False"
      ]
     },
     "execution_count": 9,
     "metadata": {},
     "output_type": "execute_result"
    }
   ],
   "source": [
    "s.isEmpty()"
   ]
  },
  {
   "cell_type": "code",
   "execution_count": 10,
   "id": "f158a6a9-6cfb-4e6e-8659-ec39ea0032da",
   "metadata": {
    "execution": {
     "iopub.execute_input": "2023-08-13T16:27:50.639341Z",
     "iopub.status.busy": "2023-08-13T16:27:50.638301Z",
     "iopub.status.idle": "2023-08-13T16:27:50.650506Z",
     "shell.execute_reply": "2023-08-13T16:27:50.649959Z",
     "shell.execute_reply.started": "2023-08-13T16:27:50.639341Z"
    }
   },
   "outputs": [
    {
     "data": {
      "text/plain": [
       "True"
      ]
     },
     "execution_count": 10,
     "metadata": {},
     "output_type": "execute_result"
    }
   ],
   "source": [
    "s.pop()"
   ]
  },
  {
   "cell_type": "code",
   "execution_count": 11,
   "id": "22e91667-fcfe-49b8-a994-10644df73e50",
   "metadata": {
    "execution": {
     "iopub.execute_input": "2023-08-13T16:28:19.378722Z",
     "iopub.status.busy": "2023-08-13T16:28:19.377706Z",
     "iopub.status.idle": "2023-08-13T16:28:19.387884Z",
     "shell.execute_reply": "2023-08-13T16:28:19.386717Z",
     "shell.execute_reply.started": "2023-08-13T16:28:19.378722Z"
    }
   },
   "outputs": [
    {
     "data": {
      "text/plain": [
       "'two'"
      ]
     },
     "execution_count": 11,
     "metadata": {},
     "output_type": "execute_result"
    }
   ],
   "source": [
    "s.pop()"
   ]
  },
  {
   "cell_type": "code",
   "execution_count": 12,
   "id": "f5df9b72-61bd-4112-8c86-0e6b3524b68a",
   "metadata": {
    "execution": {
     "iopub.execute_input": "2023-08-13T16:28:52.307242Z",
     "iopub.status.busy": "2023-08-13T16:28:52.306239Z",
     "iopub.status.idle": "2023-08-13T16:28:52.321296Z",
     "shell.execute_reply": "2023-08-13T16:28:52.320294Z",
     "shell.execute_reply.started": "2023-08-13T16:28:52.307242Z"
    }
   },
   "outputs": [
    {
     "data": {
      "text/plain": [
       "1"
      ]
     },
     "execution_count": 12,
     "metadata": {},
     "output_type": "execute_result"
    }
   ],
   "source": [
    "s.size()"
   ]
  },
  {
   "cell_type": "code",
   "execution_count": 13,
   "id": "9daf8b89-c8e1-4c9e-82e0-4e13dd63e96f",
   "metadata": {
    "execution": {
     "iopub.execute_input": "2023-08-13T16:28:52.928749Z",
     "iopub.status.busy": "2023-08-13T16:28:52.928749Z",
     "iopub.status.idle": "2023-08-13T16:28:52.939821Z",
     "shell.execute_reply": "2023-08-13T16:28:52.939821Z",
     "shell.execute_reply.started": "2023-08-13T16:28:52.928749Z"
    }
   },
   "outputs": [
    {
     "data": {
      "text/plain": [
       "1"
      ]
     },
     "execution_count": 13,
     "metadata": {},
     "output_type": "execute_result"
    }
   ],
   "source": [
    "s.pop()"
   ]
  },
  {
   "cell_type": "code",
   "execution_count": 14,
   "id": "fd92de62-3cea-4373-9035-ad9406e9bd21",
   "metadata": {
    "execution": {
     "iopub.execute_input": "2023-08-13T16:29:03.893547Z",
     "iopub.status.busy": "2023-08-13T16:29:03.892546Z",
     "iopub.status.idle": "2023-08-13T16:29:03.912281Z",
     "shell.execute_reply": "2023-08-13T16:29:03.911018Z",
     "shell.execute_reply.started": "2023-08-13T16:29:03.893547Z"
    }
   },
   "outputs": [
    {
     "data": {
      "text/plain": [
       "True"
      ]
     },
     "execution_count": 14,
     "metadata": {},
     "output_type": "execute_result"
    }
   ],
   "source": [
    "s.isEmpty()"
   ]
  },
  {
   "cell_type": "markdown",
   "id": "874b6917",
   "metadata": {},
   "source": [
    "### Benefits of Stack in Python\n",
    "\n",
    "- Stack in Python can allocate memory dynamically which cannot be done in the list.\n",
    "- list in Python takes a lot of effort to add a new element or remove an element whereas stack in Python can easily manage the addition or removal of elements."
   ]
  },
  {
   "cell_type": "markdown",
   "id": "268ea080",
   "metadata": {},
   "source": [
    "## Queue"
   ]
  },
  {
   "cell_type": "markdown",
   "id": "28e8892f",
   "metadata": {},
   "source": [
    "- The queue is a linear data structure that stores data sequentially based on the **First In First Out (FIFO)** manner and is also known as the First Come First Served data structure. \n",
    "- A queue has two ends, namely- rear and front. The data or an element is inserted from the rear end, on the other hand, elements are removed from the front end."
   ]
  },
  {
   "cell_type": "markdown",
   "id": "2038615b",
   "metadata": {},
   "source": [
    "![](queue.png)"
   ]
  },
  {
   "cell_type": "markdown",
   "id": "297e237e-2130-4487-a257-df8fea17f455",
   "metadata": {},
   "source": [
    "### Queue Methods and Attributes\n",
    "\n",
    "\n",
    "Before we begin implementing our own queue, let's review the attribute and methods it will have:\n",
    "\n",
    "* `Queue()`: creates a new queue that is empty. It needs no parameters and returns an empty queue.\n",
    "* `enqueue(item)`: adds a new item to the rear of the queue. It needs the item and returns nothing.\n",
    "* `dequeue()`: removes the front item from the queue. It needs no parameters and returns the item. The queue is modified.\n",
    "* `isEmpty()`: tests to see whether the queue is empty. It needs no parameters and returns a boolean value.\n",
    "* `size()`: returns the number of items in the queue. It needs no parameters and returns an integer."
   ]
  },
  {
   "cell_type": "code",
   "execution_count": 17,
   "id": "a4f72118",
   "metadata": {
    "execution": {
     "iopub.execute_input": "2023-08-13T16:33:44.586034Z",
     "iopub.status.busy": "2023-08-13T16:33:44.586034Z",
     "iopub.status.idle": "2023-08-13T16:33:44.597648Z",
     "shell.execute_reply": "2023-08-13T16:33:44.597149Z",
     "shell.execute_reply.started": "2023-08-13T16:33:44.586034Z"
    }
   },
   "outputs": [],
   "source": [
    "class Queue:\n",
    "    def __init__(self):\n",
    "        self.items = []\n",
    "\n",
    "    def isEmpty(self):\n",
    "        return self.items == []\n",
    "\n",
    "    def enqueue(self, item):\n",
    "        self.items.insert(0, item)\n",
    "\n",
    "    def dequeue(self):\n",
    "        return self.items.pop()\n",
    "\n",
    "    def size(self):\n",
    "        return len(self.items)"
   ]
  },
  {
   "cell_type": "code",
   "execution_count": 18,
   "id": "4d67afb0",
   "metadata": {
    "execution": {
     "iopub.execute_input": "2023-08-13T16:33:44.884338Z",
     "iopub.status.busy": "2023-08-13T16:33:44.884338Z",
     "iopub.status.idle": "2023-08-13T16:33:44.894568Z",
     "shell.execute_reply": "2023-08-13T16:33:44.893337Z",
     "shell.execute_reply.started": "2023-08-13T16:33:44.884338Z"
    }
   },
   "outputs": [],
   "source": [
    "q = Queue()"
   ]
  },
  {
   "cell_type": "code",
   "execution_count": 19,
   "id": "3ef37982",
   "metadata": {
    "execution": {
     "iopub.execute_input": "2023-08-13T16:33:45.452262Z",
     "iopub.status.busy": "2023-08-13T16:33:45.452262Z",
     "iopub.status.idle": "2023-08-13T16:33:45.467359Z",
     "shell.execute_reply": "2023-08-13T16:33:45.467359Z",
     "shell.execute_reply.started": "2023-08-13T16:33:45.452262Z"
    }
   },
   "outputs": [
    {
     "data": {
      "text/plain": [
       "0"
      ]
     },
     "execution_count": 19,
     "metadata": {},
     "output_type": "execute_result"
    }
   ],
   "source": [
    "q.size()"
   ]
  },
  {
   "cell_type": "code",
   "execution_count": null,
   "id": "480d3404-cbd0-4b17-bb9b-941995d6b385",
   "metadata": {
    "execution": {
     "iopub.execute_input": "2023-08-13T16:33:45.860899Z",
     "iopub.status.busy": "2023-08-13T16:33:45.860899Z",
     "iopub.status.idle": "2023-08-13T16:33:45.870559Z",
     "shell.execute_reply": "2023-08-13T16:33:45.869411Z",
     "shell.execute_reply.started": "2023-08-13T16:33:45.860899Z"
    }
   },
   "outputs": [],
   "source": [
    "q.isEmpty()"
   ]
  },
  {
   "cell_type": "code",
   "execution_count": 21,
   "id": "25f8072e",
   "metadata": {
    "execution": {
     "iopub.execute_input": "2023-08-13T16:33:46.135204Z",
     "iopub.status.busy": "2023-08-13T16:33:46.134198Z",
     "iopub.status.idle": "2023-08-13T16:33:46.149845Z",
     "shell.execute_reply": "2023-08-13T16:33:46.148351Z",
     "shell.execute_reply.started": "2023-08-13T16:33:46.135204Z"
    }
   },
   "outputs": [],
   "source": [
    "q.enqueue(1)"
   ]
  },
  {
   "cell_type": "code",
   "execution_count": 22,
   "id": "6b42b7b4",
   "metadata": {
    "execution": {
     "iopub.execute_input": "2023-08-13T16:33:46.367639Z",
     "iopub.status.busy": "2023-08-13T16:33:46.367639Z",
     "iopub.status.idle": "2023-08-13T16:33:46.382015Z",
     "shell.execute_reply": "2023-08-13T16:33:46.380775Z",
     "shell.execute_reply.started": "2023-08-13T16:33:46.367639Z"
    }
   },
   "outputs": [
    {
     "data": {
      "text/plain": [
       "1"
      ]
     },
     "execution_count": 22,
     "metadata": {},
     "output_type": "execute_result"
    }
   ],
   "source": [
    "q.dequeue()"
   ]
  },
  {
   "cell_type": "markdown",
   "id": "db29ae99-5e5f-423d-860a-814194218579",
   "metadata": {},
   "source": [
    "## Deques Overview\n",
    "\n",
    "A deque, also known as a double-ended queue, is an ordered collection of items similar to the queue. It has two ends, a front and a rear, and the items remain positioned in the collection. What makes a deque different is the unrestrictive nature of adding and removing items. New items can be added at either the front or the rear. Likewise, existing items can be removed from either end. In a sense, this hybrid linear structure provides all the capabilities of stacks and queues in a single data structure. \n",
    "\n",
    "It is important to note that even though the deque can assume many of the characteristics of stacks and queues, it does not require the LIFO and FIFO orderings that are enforced by those data structures. It is up to you to make consistent use of the addition and removal operations.\n",
    "\n",
    "Let's see an Image to visualize the Deque Data Structure:"
   ]
  },
  {
   "cell_type": "code",
   "execution_count": 23,
   "id": "54b16ee1-0878-4f06-b51f-6af5310fbfec",
   "metadata": {
    "execution": {
     "iopub.execute_input": "2023-08-13T16:49:17.322344Z",
     "iopub.status.busy": "2023-08-13T16:49:17.322344Z",
     "iopub.status.idle": "2023-08-13T16:49:17.947845Z",
     "shell.execute_reply": "2023-08-13T16:49:17.946598Z",
     "shell.execute_reply.started": "2023-08-13T16:49:17.322344Z"
    }
   },
   "outputs": [
    {
     "data": {
      "image/png": "[encoded data removed]",
      "text/plain": [
       "<IPython.core.display.Image object>"
      ]
     },
     "execution_count": 23,
     "metadata": {},
     "output_type": "execute_result"
    }
   ],
   "source": [
    "from IPython.display import Image\n",
    "\n",
    "Image(\"http://www.codeproject.com/KB/recipes/669131/deque.png\")"
   ]
  },
  {
   "cell_type": "markdown",
   "id": "33e6d973-3e93-45a2-b546-fbf94df2775e",
   "metadata": {},
   "source": [
    "Note how we can both add and remove from the front and the back of the Deque. In the next lecture, we will implement our own Deque class!"
   ]
  },
  {
   "cell_type": "markdown",
   "id": "37d331a3-25ab-4469-9058-ad5c1294bd80",
   "metadata": {
    "execution": {
     "iopub.execute_input": "2023-08-13T16:50:48.679165Z",
     "iopub.status.busy": "2023-08-13T16:50:48.678166Z",
     "iopub.status.idle": "2023-08-13T16:50:48.701361Z",
     "shell.execute_reply": "2023-08-13T16:50:48.700003Z",
     "shell.execute_reply.started": "2023-08-13T16:50:48.679165Z"
    }
   },
   "source": [
    "### Methods and Attributes\n",
    "\n",
    "* `Deque()`: creates a new deque that is empty. It needs no parameters and returns an empty deque.\n",
    "* `addFront(item)`: adds a new item to the front of the deque. It needs the item and returns nothing.\n",
    "* `addRear(item)`: adds a new item to the rear of the deque. It needs the item and returns nothing.\n",
    "* `removeFront()`: removes the front item from the deque. It needs no parameters and returns the item. The deque is modified.\n",
    "* `removeRear()`: removes the rear item from the deque. It needs no parameters and returns the item. The deque is modified.\n",
    "* `isEmpty()`: tests to see whether the deque is empty. It needs no parameters and returns a boolean value.\n",
    "* `size()`: returns the number of items in the deque. It needs no parameters and returns an integer.\n",
    "\n",
    "### Deque Implementation"
   ]
  },
  {
   "cell_type": "code",
   "execution_count": 26,
   "id": "3266b187-2b3d-489f-9c0d-82af0a0ad166",
   "metadata": {
    "execution": {
     "iopub.execute_input": "2023-08-13T16:52:20.067094Z",
     "iopub.status.busy": "2023-08-13T16:52:20.067094Z",
     "iopub.status.idle": "2023-08-13T16:52:20.085387Z",
     "shell.execute_reply": "2023-08-13T16:52:20.085387Z",
     "shell.execute_reply.started": "2023-08-13T16:52:20.067094Z"
    }
   },
   "outputs": [],
   "source": [
    "class Deque:\n",
    "    def __init__(self):\n",
    "        self.items = []\n",
    "\n",
    "    def isEmpty(self):\n",
    "        return self.items == []\n",
    "\n",
    "    def addFront(self, item):\n",
    "        self.items.append(item)\n",
    "\n",
    "    def addRear(self, item):\n",
    "        self.items.insert(0, item)\n",
    "\n",
    "    def removeFront(self):\n",
    "        return self.items.pop()\n",
    "\n",
    "    def removeRear(self):\n",
    "        return self.items.pop(0)\n",
    "\n",
    "    def size(self):\n",
    "        return len(self.items)"
   ]
  },
  {
   "cell_type": "code",
   "execution_count": 27,
   "id": "bd58a364-0fbc-4925-8031-43320c416490",
   "metadata": {
    "execution": {
     "iopub.execute_input": "2023-08-13T16:52:20.635889Z",
     "iopub.status.busy": "2023-08-13T16:52:20.634893Z",
     "iopub.status.idle": "2023-08-13T16:52:20.644986Z",
     "shell.execute_reply": "2023-08-13T16:52:20.644986Z",
     "shell.execute_reply.started": "2023-08-13T16:52:20.635889Z"
    }
   },
   "outputs": [],
   "source": [
    "d = Deque()"
   ]
  },
  {
   "cell_type": "code",
   "execution_count": 28,
   "id": "8deab8b6-1b5f-4839-9a4b-d7ee0615fff4",
   "metadata": {
    "execution": {
     "iopub.execute_input": "2023-08-13T16:52:21.024116Z",
     "iopub.status.busy": "2023-08-13T16:52:21.023093Z",
     "iopub.status.idle": "2023-08-13T16:52:21.034483Z",
     "shell.execute_reply": "2023-08-13T16:52:21.033328Z",
     "shell.execute_reply.started": "2023-08-13T16:52:21.024116Z"
    }
   },
   "outputs": [],
   "source": [
    "d.addFront(\"hello\")"
   ]
  },
  {
   "cell_type": "code",
   "execution_count": 29,
   "id": "16656838-7406-400a-b3be-75357885d54a",
   "metadata": {
    "execution": {
     "iopub.execute_input": "2023-08-13T16:52:21.357375Z",
     "iopub.status.busy": "2023-08-13T16:52:21.357375Z",
     "iopub.status.idle": "2023-08-13T16:52:21.376221Z",
     "shell.execute_reply": "2023-08-13T16:52:21.374800Z",
     "shell.execute_reply.started": "2023-08-13T16:52:21.357375Z"
    }
   },
   "outputs": [],
   "source": [
    "d.addRear(\"world\")"
   ]
  },
  {
   "cell_type": "code",
   "execution_count": 30,
   "id": "655417b6-9a37-4791-8ba3-8590f1b13c79",
   "metadata": {
    "execution": {
     "iopub.execute_input": "2023-08-13T16:52:21.674122Z",
     "iopub.status.busy": "2023-08-13T16:52:21.673122Z",
     "iopub.status.idle": "2023-08-13T16:52:21.684160Z",
     "shell.execute_reply": "2023-08-13T16:52:21.684160Z",
     "shell.execute_reply.started": "2023-08-13T16:52:21.674122Z"
    }
   },
   "outputs": [
    {
     "name": "stdout",
     "output_type": "stream",
     "text": [
      "hello world\n"
     ]
    }
   ],
   "source": [
    "print(d.removeFront() + \" \" + d.removeRear())"
   ]
  },
  {
   "cell_type": "code",
   "execution_count": 31,
   "id": "098f8da1-7a9a-4ee5-a20f-dc5aabaf3187",
   "metadata": {
    "execution": {
     "iopub.execute_input": "2023-08-13T16:52:22.370056Z",
     "iopub.status.busy": "2023-08-13T16:52:22.370056Z",
     "iopub.status.idle": "2023-08-13T16:52:22.384285Z",
     "shell.execute_reply": "2023-08-13T16:52:22.384038Z",
     "shell.execute_reply.started": "2023-08-13T16:52:22.370056Z"
    }
   },
   "outputs": [
    {
     "data": {
      "text/plain": [
       "0"
      ]
     },
     "execution_count": 31,
     "metadata": {},
     "output_type": "execute_result"
    }
   ],
   "source": [
    "d.size()"
   ]
  },
  {
   "cell_type": "markdown",
   "id": "c796adba-a2af-44ef-8ad3-c27d15b1bf45",
   "metadata": {},
   "source": [
    "## Problem"
   ]
  },
  {
   "cell_type": "markdown",
   "id": "6f9bf4f2-7da7-48c8-8c92-c7fb6eb4c43e",
   "metadata": {},
   "source": [
    "### Balanced Parentheses Check\n",
    "\n",
    "Given a string of opening and closing parentheses, check whether it’s balanced. We have 3 types of parentheses: round brackets: (), square brackets: [], and curly brackets: {}. Assume that the string doesn’t contain any other character than these, no spaces words or numbers. As a reminder, balanced parentheses require every opening parenthesis to be closed in the reverse order opened. For example ‘([])’ is balanced but ‘([)]’ is not. \n",
    "\n",
    "\n",
    "You can assume the input string has no spaces.\n",
    "\n",
    "**Solution**\n",
    "\n",
    "This is a very common interview question and is one of the main ways to check your knowledge of using Stacks! We will start our solution logic as such:\n",
    "\n",
    "First we will scan the string from left to right, and every time we see an opening parenthesis we push it to a stack, because we want the last opening parenthesis to be closed first. (Remember the FILO structure of a stack!)\n",
    "\n",
    "Then, when we see a closing parenthesis we check whether the last opened one is the corresponding closing match, by popping an element from the stack. If it’s a valid match, then we proceed forward, if not return false. \n",
    "\n",
    "Or if the stack is empty we also return false, because there’s no opening parenthesis associated with this closing one. In the end, we also check whether the stack is empty. If so, we return true, otherwise return false because there were some opened parenthesis that were not closed. \n",
    "\n",
    "Here's an example solution:\n"
   ]
  },
  {
   "cell_type": "code",
   "execution_count": 33,
   "id": "8f80d34d-3e01-41bb-9879-c60dfe70ba0a",
   "metadata": {
    "execution": {
     "iopub.execute_input": "2023-08-13T17:01:23.830581Z",
     "iopub.status.busy": "2023-08-13T17:01:23.829584Z",
     "iopub.status.idle": "2023-08-13T17:01:23.849859Z",
     "shell.execute_reply": "2023-08-13T17:01:23.849528Z",
     "shell.execute_reply.started": "2023-08-13T17:01:23.830581Z"
    }
   },
   "outputs": [],
   "source": [
    "def balance_check(s):\n",
    "    # Check is even number of brackets\n",
    "    if len(s) % 2 != 0:\n",
    "        return False\n",
    "\n",
    "    # Set of opening brackets\n",
    "    opening = set(\"([{\")\n",
    "\n",
    "    # Matching Pairs\n",
    "    matches = set([(\"(\", \")\"), (\"[\", \"]\"), (\"{\", \"}\")])\n",
    "\n",
    "    # Use a list as a \"Stack\"\n",
    "    stack = []\n",
    "\n",
    "    # Check every parenthesis in string\n",
    "    for paren in s:\n",
    "        # If its an opening, append it to list\n",
    "        if paren in opening:\n",
    "            stack.append(paren)\n",
    "\n",
    "        else:\n",
    "            # Check that there are parentheses in Stack\n",
    "            if len(stack) == 0:\n",
    "                return False\n",
    "\n",
    "            # Check the last open parenthesis\n",
    "            last_open = stack.pop()\n",
    "\n",
    "            # Check if it has a closing match\n",
    "            if (last_open, paren) not in matches:\n",
    "                return False\n",
    "\n",
    "    return len(stack) == 0"
   ]
  },
  {
   "cell_type": "code",
   "execution_count": 39,
   "id": "15c45a9c-3fd5-4651-82cc-3c3960cb0815",
   "metadata": {
    "execution": {
     "iopub.execute_input": "2023-08-13T17:13:56.167461Z",
     "iopub.status.busy": "2023-08-13T17:13:56.167461Z",
     "iopub.status.idle": "2023-08-13T17:13:56.188393Z",
     "shell.execute_reply": "2023-08-13T17:13:56.187893Z",
     "shell.execute_reply.started": "2023-08-13T17:13:56.167461Z"
    }
   },
   "outputs": [
    {
     "data": {
      "text/plain": [
       "True"
      ]
     },
     "execution_count": 39,
     "metadata": {},
     "output_type": "execute_result"
    }
   ],
   "source": [
    "balance_check(\"[][]\")"
   ]
  },
  {
   "cell_type": "code",
   "execution_count": 35,
   "id": "befeae7c-133c-4421-86a4-07795499839d",
   "metadata": {
    "execution": {
     "iopub.execute_input": "2023-08-13T17:02:04.669889Z",
     "iopub.status.busy": "2023-08-13T17:02:04.669889Z",
     "iopub.status.idle": "2023-08-13T17:02:04.679016Z",
     "shell.execute_reply": "2023-08-13T17:02:04.677027Z",
     "shell.execute_reply.started": "2023-08-13T17:02:04.669889Z"
    }
   },
   "outputs": [
    {
     "data": {
      "text/plain": [
       "True"
      ]
     },
     "execution_count": 35,
     "metadata": {},
     "output_type": "execute_result"
    }
   ],
   "source": [
    "balance_check(\"[](){([[[]]])}\")"
   ]
  },
  {
   "cell_type": "code",
   "execution_count": 36,
   "id": "91726260-6f2c-45cc-9907-25a086c7685f",
   "metadata": {
    "execution": {
     "iopub.execute_input": "2023-08-13T17:02:15.273022Z",
     "iopub.status.busy": "2023-08-13T17:02:15.271969Z",
     "iopub.status.idle": "2023-08-13T17:02:15.285757Z",
     "shell.execute_reply": "2023-08-13T17:02:15.285679Z",
     "shell.execute_reply.started": "2023-08-13T17:02:15.273022Z"
    }
   },
   "outputs": [
    {
     "data": {
      "text/plain": [
       "False"
      ]
     },
     "execution_count": 36,
     "metadata": {},
     "output_type": "execute_result"
    }
   ],
   "source": [
    "balance_check(\"()(){]}\")"
   ]
  },
  {
   "cell_type": "markdown",
   "id": "b9ccd3af-e7eb-436a-a29d-5156060fa3af",
   "metadata": {},
   "source": [
    "### Implement a Queue - Using Two Stacks\n",
    "\n",
    "Given the Stack class below, implement a Queue class using two stacks! Note, this is a \"classic\" interview problem. Use a Python list data structure as your Stack.\n"
   ]
  },
  {
   "cell_type": "code",
   "execution_count": 40,
   "id": "d330063e-ca63-473c-a72b-2a172e74a957",
   "metadata": {
    "execution": {
     "iopub.execute_input": "2023-08-13T17:35:42.948288Z",
     "iopub.status.busy": "2023-08-13T17:35:42.948288Z",
     "iopub.status.idle": "2023-08-13T17:35:42.967911Z",
     "shell.execute_reply": "2023-08-13T17:35:42.966129Z",
     "shell.execute_reply.started": "2023-08-13T17:35:42.948288Z"
    }
   },
   "outputs": [],
   "source": [
    "# Uses lists instead of your own Stack class.\n",
    "stack1 = []\n",
    "stack2 = []"
   ]
  },
  {
   "cell_type": "markdown",
   "id": "302c8389-df2f-4c84-8691-0a2730379198",
   "metadata": {},
   "source": [
    "**Solution**\n",
    "\n",
    "- Stack reverses the order but queue doesn't"
   ]
  },
  {
   "cell_type": "code",
   "execution_count": 41,
   "id": "06f2ed41-39cd-4740-97d7-06e2ac3e93db",
   "metadata": {
    "execution": {
     "iopub.execute_input": "2023-08-13T17:42:40.371835Z",
     "iopub.status.busy": "2023-08-13T17:42:40.370756Z",
     "iopub.status.idle": "2023-08-13T17:42:40.381794Z",
     "shell.execute_reply": "2023-08-13T17:42:40.380783Z",
     "shell.execute_reply.started": "2023-08-13T17:42:40.371835Z"
    }
   },
   "outputs": [],
   "source": [
    "class Queue2Stacks(object):\n",
    "    def __init__(self):\n",
    "        # Two Stacks\n",
    "        self.instack = []\n",
    "        self.outstack = []\n",
    "\n",
    "    def enqueue(self, element):\n",
    "        self.instack.append(element)\n",
    "\n",
    "    def dequeue(self):\n",
    "        if not self.outstack:\n",
    "            while self.instack:\n",
    "                self.outstack.append(self.instack.pop())\n",
    "\n",
    "        return self.outstack.pop()"
   ]
  },
  {
   "cell_type": "markdown",
   "id": "16c901d2-e0b5-4129-a3a4-d95a81eedcd0",
   "metadata": {},
   "source": [
    "**Test Your Solution**"
   ]
  },
  {
   "cell_type": "code",
   "execution_count": 42,
   "id": "23f1b65c-4a80-498f-9de7-fd915dd8bd09",
   "metadata": {
    "execution": {
     "iopub.execute_input": "2023-08-13T17:42:41.646605Z",
     "iopub.status.busy": "2023-08-13T17:42:41.643272Z",
     "iopub.status.idle": "2023-08-13T17:42:41.668540Z",
     "shell.execute_reply": "2023-08-13T17:42:41.667621Z",
     "shell.execute_reply.started": "2023-08-13T17:42:41.646104Z"
    }
   },
   "outputs": [
    {
     "name": "stdout",
     "output_type": "stream",
     "text": [
      "0\n",
      "1\n",
      "2\n",
      "3\n",
      "4\n"
     ]
    }
   ],
   "source": [
    "\"\"\"\n",
    "RUN THIS CELL TO CHECK THAT YOUR SOLUTION OUTPUT MAKES SENSE AND BEHAVES AS A QUEUE\n",
    "\"\"\"\n",
    "q = Queue2Stacks()\n",
    "\n",
    "for i in range(5):\n",
    "    q.enqueue(i)\n",
    "\n",
    "\n",
    "for i in range(5):\n",
    "    print(q.dequeue())"
   ]
  },
  {
   "cell_type": "markdown",
   "id": "33fa4b3a",
   "metadata": {},
   "source": [
    "---"
   ]
  },
  {
   "cell_type": "markdown",
   "id": "effa3c3f",
   "metadata": {},
   "source": [
    "# Linked List"
   ]
  },
  {
   "cell_type": "markdown",
   "id": "3c674498",
   "metadata": {},
   "source": [
    "- Some of the data structures you can use are collections such as arrays, lists, maps, sets, and so on.\n",
    "\n",
    "- These all do an awesome job storing and accessing data, but sometimes you might need something different. Another data structure commonly used is called a Linked List."
   ]
  },
  {
   "cell_type": "markdown",
   "id": "cc9057c5",
   "metadata": {},
   "source": [
    "- **Linked Lists are a data structure that store data in the form of a chain. The structure of a linked list is such that each piece of data has a connection to the next one (and sometimes the previous data as well). Each element in a linked list is called a node.**\n",
    "\n",
    "- You can think of it as an actual chain, where each ring or node is connected.\n"
   ]
  },
  {
   "cell_type": "markdown",
   "id": "932259da",
   "metadata": {},
   "source": [
    "**Advantages of Linked Lists:**\n",
    "\n",
    "- Because of the chain-like system of linked lists, you can add and remove elements quickly. This also doesn't require reorganizing the data structure unlike arrays or lists. Linear data structures are often easier to implement using linked lists.\n",
    "\n",
    "- Linked lists also don't require a fixed size or initial size due to their chainlike structure.\n",
    "\n",
    "\n",
    "**Disadvantages of a Linked Lists:**\n",
    "\n",
    "- More memory is required when compared to an array. This is because you need a pointer (which takes up its own memory) to point you to the next element.\n",
    "\n",
    "- Search operations on a linked list are very slow. Unlike an array, you don't have the option of random access."
   ]
  },
  {
   "cell_type": "markdown",
   "id": "459b72c0",
   "metadata": {},
   "source": [
    "**When Should You Use a Linked List?**\n",
    "\n",
    "You should use a linked list over an array when:\n",
    "\n",
    "- You don't know how many items will be in the list (that is one of the advantages - ease of adding items).\n",
    "\n",
    "- You don't need random access to any elements (unlike an array, you cannot access an element at a particular index in a linked list).\n",
    "\n",
    "- You want to be able to insert items in the middle of the list.\n",
    "\n",
    "- You need constant time insertion/deletion from the list (unlike an array, you don't have to shift every other item in the list first)."
   ]
  },
  {
   "cell_type": "markdown",
   "id": "2a0131c9",
   "metadata": {},
   "source": [
    "[source: Linkedlist in Python](https://www.scaler.com/topics/linked-list-in-python/)\n",
    "\n",
    "Like Arrays, LinkedList is the linear data structure(i.e data elements are arranged in sequential manner and each member element is connected to its next element). It consists of data objects in form of nodes which are connected by links or pointers. Each node of LinkedList has 2 field:\n",
    "\n",
    "- Data: Stores the value of node in this field.\n",
    "- Next: Stores the address of the next linked node.\n",
    "\n",
    "In LinkedList, the first most nodes is considered as the **Head** of the LinkedList which stores the address of the LinkedList and the last node is considered by using the **NONE** value into the next field of the node."
   ]
  },
  {
   "cell_type": "markdown",
   "id": "85045911-ae29-478b-9154-3e380e058162",
   "metadata": {},
   "source": [
    "## Main concept"
   ]
  },
  {
   "cell_type": "markdown",
   "id": "2dd9feae-da8b-444e-8bb6-7d04481d3a0e",
   "metadata": {},
   "source": [
    "Each element of a linked list is called a node, and every node has two different fields:\n",
    "\n",
    "1. *Data* contains the value to be stored in the node\n",
    "2. *Next* contains a reference to the next node on the list."
   ]
  },
  {
   "cell_type": "markdown",
   "id": "0648bc65-821e-44f8-a8cd-7f08640393c4",
   "metadata": {},
   "source": [
    "![](https://files.realpython.com/media/Group_12_2.0ded5fffe97a.png)"
   ]
  },
  {
   "cell_type": "markdown",
   "id": "feacafd3-0cf7-43c5-8b38-5ecabb95f1b9",
   "metadata": {},
   "source": [
    "A linked list is a collection of nodes. The first node is called the head, and it’s used as the starting point for any iteration through the list. The last node must have its next reference pointing to None to determine the end of the list. Here’s how it looks:\n",
    "\n",
    "![](https://files.realpython.com/media/Group_14.27f7c4c6ec02.png)"
   ]
  },
  {
   "cell_type": "code",
   "execution_count": null,
   "id": "97d91460-0d72-47f5-8ffa-87dc8d16fd7d",
   "metadata": {},
   "outputs": [],
   "source": []
  },
  {
   "cell_type": "code",
   "execution_count": null,
   "id": "f49dc6ea-3624-4a99-a2f9-0b5eea4929b2",
   "metadata": {},
   "outputs": [],
   "source": []
  },
  {
   "cell_type": "markdown",
   "id": "b12f1f7c-cfce-4556-9d49-4f8c00995949",
   "metadata": {},
   "source": [
    "## Singly Linked Lists"
   ]
  },
  {
   "cell_type": "markdown",
   "id": "b19a313f-fb09-44a4-9fcd-5540c1a3f477",
   "metadata": {},
   "source": [
    "- A singly linked list can be simply called a linked list.\n",
    "- A singly linked list is a list that consists of a collection of nodes, and each node has two parts;\n",
    "    - one part is the data part,\n",
    "    - and another part is the address.\n",
    "- The singly linked can also be called a chain as each node refers to another node through its address part.\n",
    "- We can perform various operations on a singly linked list like insertion, deletion, and traversing."
   ]
  },
  {
   "cell_type": "markdown",
   "id": "6411849f-67fb-448f-8e8f-34afced9b27f",
   "metadata": {},
   "source": [
    "![](https://static.javatpoint.com/ds/images/singly-linked-list-vs-doubly-linked-list.png)"
   ]
  },
  {
   "cell_type": "code",
   "execution_count": 65,
   "id": "c1749cea-5025-44f5-8a32-aebe1485268b",
   "metadata": {
    "execution": {
     "iopub.execute_input": "2023-08-19T18:45:20.416075Z",
     "iopub.status.busy": "2023-08-19T18:45:20.415152Z",
     "iopub.status.idle": "2023-08-19T18:45:20.428856Z",
     "shell.execute_reply": "2023-08-19T18:45:20.427208Z",
     "shell.execute_reply.started": "2023-08-19T18:45:20.415152Z"
    }
   },
   "outputs": [],
   "source": [
    "class Node(object):\n",
    "    \n",
    "    def __init__(self,value):\n",
    "        \n",
    "        self.value = value\n",
    "        self.nextnode = None"
   ]
  },
  {
   "cell_type": "markdown",
   "id": "81dcf916-add5-4e1d-b4c9-3472da58b19b",
   "metadata": {},
   "source": [
    "Now we can build out Linked List with the collection of nodes:"
   ]
  },
  {
   "cell_type": "code",
   "execution_count": 66,
   "id": "73a4dcbc-4ac5-445e-99b9-a98f25aa2130",
   "metadata": {
    "execution": {
     "iopub.execute_input": "2023-08-19T18:45:23.048372Z",
     "iopub.status.busy": "2023-08-19T18:45:23.048372Z",
     "iopub.status.idle": "2023-08-19T18:45:23.056405Z",
     "shell.execute_reply": "2023-08-19T18:45:23.055898Z",
     "shell.execute_reply.started": "2023-08-19T18:45:23.048372Z"
    }
   },
   "outputs": [],
   "source": [
    "a = Node(1)\n",
    "b = Node(2)\n",
    "c = Node(3)"
   ]
  },
  {
   "cell_type": "code",
   "execution_count": 67,
   "id": "3597d052-8037-4c66-ba44-3eaa0a1914ed",
   "metadata": {
    "execution": {
     "iopub.execute_input": "2023-08-19T18:45:24.356546Z",
     "iopub.status.busy": "2023-08-19T18:45:24.356546Z",
     "iopub.status.idle": "2023-08-19T18:45:24.378129Z",
     "shell.execute_reply": "2023-08-19T18:45:24.377135Z",
     "shell.execute_reply.started": "2023-08-19T18:45:24.356546Z"
    }
   },
   "outputs": [],
   "source": [
    "a.nextnode = b"
   ]
  },
  {
   "cell_type": "code",
   "execution_count": 68,
   "id": "79d176ec-7856-461c-8f52-5325980d0dbb",
   "metadata": {
    "execution": {
     "iopub.execute_input": "2023-08-19T18:45:25.264199Z",
     "iopub.status.busy": "2023-08-19T18:45:25.263202Z",
     "iopub.status.idle": "2023-08-19T18:45:25.273758Z",
     "shell.execute_reply": "2023-08-19T18:45:25.273262Z",
     "shell.execute_reply.started": "2023-08-19T18:45:25.264199Z"
    }
   },
   "outputs": [],
   "source": [
    "b.nextnode = c"
   ]
  },
  {
   "cell_type": "code",
   "execution_count": 69,
   "id": "2acc94d4-bc34-4e60-8e07-a08ca9d69b22",
   "metadata": {
    "execution": {
     "iopub.execute_input": "2023-08-19T18:45:25.779624Z",
     "iopub.status.busy": "2023-08-19T18:45:25.778626Z",
     "iopub.status.idle": "2023-08-19T18:45:25.787726Z",
     "shell.execute_reply": "2023-08-19T18:45:25.786713Z",
     "shell.execute_reply.started": "2023-08-19T18:45:25.779624Z"
    }
   },
   "outputs": [
    {
     "data": {
      "text/plain": [
       "1"
      ]
     },
     "execution_count": 69,
     "metadata": {},
     "output_type": "execute_result"
    }
   ],
   "source": [
    "a.value"
   ]
  },
  {
   "cell_type": "code",
   "execution_count": 71,
   "id": "9a504f1e-9401-4de6-b9bc-77fa98eef02e",
   "metadata": {
    "execution": {
     "iopub.execute_input": "2023-08-19T18:45:55.629669Z",
     "iopub.status.busy": "2023-08-19T18:45:55.628672Z",
     "iopub.status.idle": "2023-08-19T18:45:55.647342Z",
     "shell.execute_reply": "2023-08-19T18:45:55.646389Z",
     "shell.execute_reply.started": "2023-08-19T18:45:55.629669Z"
    }
   },
   "outputs": [
    {
     "data": {
      "text/plain": [
       "<__main__.Node at 0x1d4357795e0>"
      ]
     },
     "execution_count": 71,
     "metadata": {},
     "output_type": "execute_result"
    }
   ],
   "source": [
    "a.nextnode"
   ]
  },
  {
   "cell_type": "code",
   "execution_count": 70,
   "id": "7344808c-6806-4b68-943c-d7a6682daf1c",
   "metadata": {
    "execution": {
     "iopub.execute_input": "2023-08-19T18:45:26.454517Z",
     "iopub.status.busy": "2023-08-19T18:45:26.452998Z",
     "iopub.status.idle": "2023-08-19T18:45:26.469467Z",
     "shell.execute_reply": "2023-08-19T18:45:26.468299Z",
     "shell.execute_reply.started": "2023-08-19T18:45:26.454517Z"
    }
   },
   "outputs": [
    {
     "data": {
      "text/plain": [
       "2"
      ]
     },
     "execution_count": 70,
     "metadata": {},
     "output_type": "execute_result"
    }
   ],
   "source": [
    "a.nextnode.value"
   ]
  },
  {
   "cell_type": "code",
   "execution_count": 73,
   "id": "bbca816a-fd4a-4b13-8f85-0f831f61b6a0",
   "metadata": {
    "execution": {
     "iopub.execute_input": "2023-08-19T18:46:23.299104Z",
     "iopub.status.busy": "2023-08-19T18:46:23.299104Z",
     "iopub.status.idle": "2023-08-19T18:46:23.309862Z",
     "shell.execute_reply": "2023-08-19T18:46:23.309365Z",
     "shell.execute_reply.started": "2023-08-19T18:46:23.299104Z"
    }
   },
   "outputs": [
    {
     "data": {
      "text/plain": [
       "2"
      ]
     },
     "execution_count": 73,
     "metadata": {},
     "output_type": "execute_result"
    }
   ],
   "source": [
    "b.value"
   ]
  },
  {
   "cell_type": "code",
   "execution_count": 72,
   "id": "5a9c6ef6-beef-434d-8900-c94d67890e77",
   "metadata": {
    "execution": {
     "iopub.execute_input": "2023-08-19T18:46:13.843654Z",
     "iopub.status.busy": "2023-08-19T18:46:13.843654Z",
     "iopub.status.idle": "2023-08-19T18:46:13.855515Z",
     "shell.execute_reply": "2023-08-19T18:46:13.854867Z",
     "shell.execute_reply.started": "2023-08-19T18:46:13.843654Z"
    }
   },
   "outputs": [
    {
     "data": {
      "text/plain": [
       "3"
      ]
     },
     "execution_count": 72,
     "metadata": {},
     "output_type": "execute_result"
    }
   ],
   "source": [
    "b.nextnode.value"
   ]
  },
  {
   "cell_type": "code",
   "execution_count": 74,
   "id": "34dd77f5-3079-4e3e-85ca-904958c66893",
   "metadata": {
    "execution": {
     "iopub.execute_input": "2023-08-19T18:46:34.526392Z",
     "iopub.status.busy": "2023-08-19T18:46:34.526392Z",
     "iopub.status.idle": "2023-08-19T18:46:34.551154Z",
     "shell.execute_reply": "2023-08-19T18:46:34.550503Z",
     "shell.execute_reply.started": "2023-08-19T18:46:34.526392Z"
    }
   },
   "outputs": [
    {
     "data": {
      "text/plain": [
       "3"
      ]
     },
     "execution_count": 74,
     "metadata": {},
     "output_type": "execute_result"
    }
   ],
   "source": [
    "c.value"
   ]
  },
  {
   "cell_type": "markdown",
   "id": "649c6bc8-3d84-474b-9f6b-51cd4298639f",
   "metadata": {},
   "source": [
    "In a Linked List the first node is called the **head** and the last node is called the **tail**. Let's discuss the pros and cons of Linked Lists:\n",
    "\n",
    "**Pros**\n",
    "\n",
    "* Linked Lists have constant-time insertions and deletions in any position, in comparison, arrays require O(n) time to do the same thing.\n",
    "\n",
    "* Linked lists can continue to expand without having to specify their size ahead of time (remember our lectures on Array sizing form the Array Sequence section of the course!)\n",
    "\n",
    "**Cons**\n",
    "\n",
    "* To access an element in a linked list, you need to take O(k) time to go from the head of the list to the kth element. In contrast, arrays have constant time operations to access elements in an array."
   ]
  },
  {
   "cell_type": "markdown",
   "id": "40cad8ce-7ee9-4d1b-a2fc-4e37666a6a76",
   "metadata": {},
   "source": [
    "## Doubly Linked Lists"
   ]
  },
  {
   "cell_type": "markdown",
   "id": "c103f84e-0e1a-4dee-ac63-73a8d635cc6d",
   "metadata": {},
   "source": [
    "- A doubly linked list is another type of the linked list.\n",
    "- It is called a doubly linked list because it contains two addresses while a singly linked list contains a single address.\n",
    "- It is a list that has total three parts, one is a data part, and others two are the pointers, i.e., previous and next.\n",
    "- The previous pointer holds the address of the previous node, and the next pointer holds the address of the next node.\n",
    "-  Therefore, we can say that list has two references, i.e., forward and backward reference to traverse in either direction."
   ]
  },
  {
   "cell_type": "markdown",
   "id": "78fe9e3c-1899-43c4-9050-a5a833c2a806",
   "metadata": {},
   "source": [
    "![](https://static.javatpoint.com/ds/images/singly-linked-list-vs-doubly-linked-list2.png)"
   ]
  },
  {
   "cell_type": "code",
   "execution_count": 75,
   "id": "31793262-ac08-4633-8de0-7fb3e994eea0",
   "metadata": {
    "execution": {
     "iopub.execute_input": "2023-08-19T18:53:16.250108Z",
     "iopub.status.busy": "2023-08-19T18:53:16.249112Z",
     "iopub.status.idle": "2023-08-19T18:53:16.259047Z",
     "shell.execute_reply": "2023-08-19T18:53:16.256892Z",
     "shell.execute_reply.started": "2023-08-19T18:53:16.250108Z"
    }
   },
   "outputs": [],
   "source": [
    "class DoublyLinkedListNode(object):\n",
    "    \n",
    "    def __init__(self,value):\n",
    "        \n",
    "        self.value = value\n",
    "        self.next_node = None\n",
    "        self.prev_node = None"
   ]
  },
  {
   "cell_type": "markdown",
   "id": "75255e56-c7f5-49e7-a8e2-b222f6bc7ebb",
   "metadata": {},
   "source": [
    "Now that we have our node that can reference next and previous values, let's begin to build out our linked list!"
   ]
  },
  {
   "cell_type": "code",
   "execution_count": 76,
   "id": "01b1ed4b-f2a1-4ec8-8c9b-fe2790090d5b",
   "metadata": {
    "execution": {
     "iopub.execute_input": "2023-08-19T18:53:18.565618Z",
     "iopub.status.busy": "2023-08-19T18:53:18.564776Z",
     "iopub.status.idle": "2023-08-19T18:53:18.575626Z",
     "shell.execute_reply": "2023-08-19T18:53:18.573640Z",
     "shell.execute_reply.started": "2023-08-19T18:53:18.565618Z"
    }
   },
   "outputs": [],
   "source": [
    "a = DoublyLinkedListNode(1)\n",
    "b = DoublyLinkedListNode(2)\n",
    "c = DoublyLinkedListNode(3)"
   ]
  },
  {
   "cell_type": "code",
   "execution_count": 77,
   "id": "604c3d73-ef68-4327-ad51-66520af7dc31",
   "metadata": {
    "execution": {
     "iopub.execute_input": "2023-08-19T18:53:19.414025Z",
     "iopub.status.busy": "2023-08-19T18:53:19.414025Z",
     "iopub.status.idle": "2023-08-19T18:53:19.421206Z",
     "shell.execute_reply": "2023-08-19T18:53:19.420237Z",
     "shell.execute_reply.started": "2023-08-19T18:53:19.414025Z"
    }
   },
   "outputs": [],
   "source": [
    "# Setting b after a\n",
    "b.prev_node = a\n",
    "a.next_node = b"
   ]
  },
  {
   "cell_type": "code",
   "execution_count": 78,
   "id": "6d4687b1-db4d-468e-9ed7-fc46e93e65db",
   "metadata": {
    "execution": {
     "iopub.execute_input": "2023-08-19T18:53:19.851981Z",
     "iopub.status.busy": "2023-08-19T18:53:19.850996Z",
     "iopub.status.idle": "2023-08-19T18:53:19.868586Z",
     "shell.execute_reply": "2023-08-19T18:53:19.867854Z",
     "shell.execute_reply.started": "2023-08-19T18:53:19.851981Z"
    }
   },
   "outputs": [],
   "source": [
    "# Setting c after a\n",
    "b.next_node = c\n",
    "c.prev_node = b"
   ]
  },
  {
   "cell_type": "code",
   "execution_count": null,
   "id": "77cef8a1-08e8-452f-b02b-a5745bef46cc",
   "metadata": {},
   "outputs": [],
   "source": []
  },
  {
   "cell_type": "code",
   "execution_count": 79,
   "id": "b8be4977-8be7-4c90-81e9-e09f663e4c3d",
   "metadata": {
    "execution": {
     "iopub.execute_input": "2023-08-19T18:53:42.431280Z",
     "iopub.status.busy": "2023-08-19T18:53:42.430764Z",
     "iopub.status.idle": "2023-08-19T18:53:42.448633Z",
     "shell.execute_reply": "2023-08-19T18:53:42.446752Z",
     "shell.execute_reply.started": "2023-08-19T18:53:42.431280Z"
    }
   },
   "outputs": [
    {
     "data": {
      "text/plain": [
       "1"
      ]
     },
     "execution_count": 79,
     "metadata": {},
     "output_type": "execute_result"
    }
   ],
   "source": [
    "a.value"
   ]
  },
  {
   "cell_type": "code",
   "execution_count": 80,
   "id": "beadf304-f39f-4711-ab1d-2c99bc34487b",
   "metadata": {
    "execution": {
     "iopub.execute_input": "2023-08-19T18:53:55.800725Z",
     "iopub.status.busy": "2023-08-19T18:53:55.799658Z",
     "iopub.status.idle": "2023-08-19T18:53:55.810730Z",
     "shell.execute_reply": "2023-08-19T18:53:55.807700Z",
     "shell.execute_reply.started": "2023-08-19T18:53:55.800725Z"
    }
   },
   "outputs": [
    {
     "data": {
      "text/plain": [
       "2"
      ]
     },
     "execution_count": 80,
     "metadata": {},
     "output_type": "execute_result"
    }
   ],
   "source": [
    "a.next_node.value"
   ]
  },
  {
   "cell_type": "code",
   "execution_count": 81,
   "id": "493b8d04-946a-4bfa-ab41-48502f8b7e19",
   "metadata": {
    "execution": {
     "iopub.execute_input": "2023-08-19T18:54:10.896913Z",
     "iopub.status.busy": "2023-08-19T18:54:10.895917Z",
     "iopub.status.idle": "2023-08-19T18:54:10.917868Z",
     "shell.execute_reply": "2023-08-19T18:54:10.917725Z",
     "shell.execute_reply.started": "2023-08-19T18:54:10.896913Z"
    }
   },
   "outputs": [
    {
     "data": {
      "text/plain": [
       "1"
      ]
     },
     "execution_count": 81,
     "metadata": {},
     "output_type": "execute_result"
    }
   ],
   "source": [
    "b.prev_node.value"
   ]
  },
  {
   "cell_type": "code",
   "execution_count": 82,
   "id": "74f404c4-67ed-43e8-bb29-0f15e8347935",
   "metadata": {
    "execution": {
     "iopub.execute_input": "2023-08-19T18:54:22.330053Z",
     "iopub.status.busy": "2023-08-19T18:54:22.326328Z",
     "iopub.status.idle": "2023-08-19T18:54:22.343706Z",
     "shell.execute_reply": "2023-08-19T18:54:22.341557Z",
     "shell.execute_reply.started": "2023-08-19T18:54:22.330053Z"
    }
   },
   "outputs": [
    {
     "data": {
      "text/plain": [
       "3"
      ]
     },
     "execution_count": 82,
     "metadata": {},
     "output_type": "execute_result"
    }
   ],
   "source": [
    "b.next_node.value"
   ]
  },
  {
   "cell_type": "markdown",
   "id": "998a74bf-67bf-4f55-8a25-1ac590f378f0",
   "metadata": {},
   "source": [
    "## Problem"
   ]
  },
  {
   "cell_type": "markdown",
   "id": "c3f46f4b-cd31-41f2-a313-9edf08720e3a",
   "metadata": {},
   "source": [
    "### Singly Linked List Cycle Check\n",
    "\n",
    "Given a singly linked list, write a function which takes in the first node in a singly linked list and returns a boolean indicating if the linked list contains a \"cycle\".\n",
    "\n",
    "A cycle is when a node's next point actually points back to a previous node in the list. This is also sometimes known as a circularly linked list.\n"
   ]
  },
  {
   "cell_type": "code",
   "execution_count": 83,
   "id": "2965107e-c06a-40b5-97da-a05f1d86e7b6",
   "metadata": {
    "execution": {
     "iopub.execute_input": "2023-08-19T18:56:10.835114Z",
     "iopub.status.busy": "2023-08-19T18:56:10.834616Z",
     "iopub.status.idle": "2023-08-19T18:56:10.845225Z",
     "shell.execute_reply": "2023-08-19T18:56:10.844267Z",
     "shell.execute_reply.started": "2023-08-19T18:56:10.835114Z"
    }
   },
   "outputs": [],
   "source": [
    "class Node(object):\n",
    "    \n",
    "    def __init__(self,value):\n",
    "        \n",
    "        self.value = value\n",
    "        self.nextnode = None"
   ]
  },
  {
   "cell_type": "markdown",
   "id": "27e45074-35a9-426b-b907-8da35fcc558f",
   "metadata": {},
   "source": [
    "**Solution**\n",
    "\n",
    "To solve this problem we will have two markers traversing through the list. **marker1** and **marker2**. We will have both makers begin at the first node of the list and traverse through the linked list. However the second marker, marker2, will move two nodes ahead for every one node that marker1 moves.\n",
    "\n",
    "By this logic we can imagine that the markers are \"racing\" through the linked list, with marker2 moving faster. If the linked list has a cylce and is circularly connected we will have the analogy of a track, in this case the marker2 will eventually be \"lapping\" the marker1 and they will equal each other. \n",
    "\n",
    "If the linked list has no cycle, then marker2 should be able to continue on until the very end, never equaling the first marker.\n",
    "\n",
    "Let's see this logic coded out:"
   ]
  },
  {
   "cell_type": "code",
   "execution_count": 84,
   "id": "33e1023c-76cf-43e6-a6b1-bb55ae50243b",
   "metadata": {
    "execution": {
     "iopub.execute_input": "2023-08-19T18:56:53.113995Z",
     "iopub.status.busy": "2023-08-19T18:56:53.113054Z",
     "iopub.status.idle": "2023-08-19T18:56:53.121229Z",
     "shell.execute_reply": "2023-08-19T18:56:53.120791Z",
     "shell.execute_reply.started": "2023-08-19T18:56:53.113995Z"
    }
   },
   "outputs": [],
   "source": [
    "def cycle_check(node):\n",
    "\n",
    "    # Begin both markers at the first node\n",
    "    marker1 = node\n",
    "    marker2 = node\n",
    "\n",
    "    # Go until end of list\n",
    "    while marker2 != None and marker2.nextnode != None:\n",
    "        \n",
    "        # Note\n",
    "        marker1 = marker1.nextnode\n",
    "        marker2 = marker2.nextnode.nextnode\n",
    "\n",
    "        # Check if the markers have matched\n",
    "        if marker2 == marker1:\n",
    "            return True\n",
    "\n",
    "    # Case where marker ahead reaches the end of the list\n",
    "    return False"
   ]
  },
  {
   "cell_type": "code",
   "execution_count": 89,
   "id": "b670ea49-32e4-4865-a592-7d52b8b925c2",
   "metadata": {
    "execution": {
     "iopub.execute_input": "2023-08-19T19:01:01.531444Z",
     "iopub.status.busy": "2023-08-19T19:01:01.531444Z",
     "iopub.status.idle": "2023-08-19T19:01:01.542494Z",
     "shell.execute_reply": "2023-08-19T19:01:01.542494Z",
     "shell.execute_reply.started": "2023-08-19T19:01:01.531444Z"
    }
   },
   "outputs": [],
   "source": [
    "\n",
    "# CREATE CYCLE LIST\n",
    "a = Node(1)\n",
    "b = Node(2)\n",
    "c = Node(3)\n",
    "\n",
    "a.nextnode = b\n",
    "b.nextnode = c\n",
    "c.nextnode = a # Cycle Here!\n"
   ]
  },
  {
   "cell_type": "code",
   "execution_count": 90,
   "id": "6955ffb4-eb3e-4755-b77b-88a455bbbd10",
   "metadata": {
    "execution": {
     "iopub.execute_input": "2023-08-19T19:01:02.704049Z",
     "iopub.status.busy": "2023-08-19T19:01:02.703039Z",
     "iopub.status.idle": "2023-08-19T19:01:02.723129Z",
     "shell.execute_reply": "2023-08-19T19:01:02.722631Z",
     "shell.execute_reply.started": "2023-08-19T19:01:02.704049Z"
    }
   },
   "outputs": [
    {
     "data": {
      "text/plain": [
       "True"
      ]
     },
     "execution_count": 90,
     "metadata": {},
     "output_type": "execute_result"
    }
   ],
   "source": [
    "cycle_check(a)"
   ]
  },
  {
   "cell_type": "code",
   "execution_count": 91,
   "id": "6667b2be-bfe4-4229-98bc-0368eb23e85b",
   "metadata": {
    "execution": {
     "iopub.execute_input": "2023-08-19T19:01:08.633282Z",
     "iopub.status.busy": "2023-08-19T19:01:08.632274Z",
     "iopub.status.idle": "2023-08-19T19:01:08.643178Z",
     "shell.execute_reply": "2023-08-19T19:01:08.642695Z",
     "shell.execute_reply.started": "2023-08-19T19:01:08.633282Z"
    }
   },
   "outputs": [],
   "source": [
    "\n",
    "# CREATE NON CYCLE LIST\n",
    "x = Node(1)\n",
    "y = Node(2)\n",
    "z = Node(3)\n",
    "\n",
    "x.nextnode = y\n",
    "y.nextnode = z"
   ]
  },
  {
   "cell_type": "code",
   "execution_count": 92,
   "id": "b69eb358-6add-4183-a4f7-e9eb2df0f46a",
   "metadata": {
    "execution": {
     "iopub.execute_input": "2023-08-19T19:01:21.499210Z",
     "iopub.status.busy": "2023-08-19T19:01:21.499210Z",
     "iopub.status.idle": "2023-08-19T19:01:21.518762Z",
     "shell.execute_reply": "2023-08-19T19:01:21.518267Z",
     "shell.execute_reply.started": "2023-08-19T19:01:21.499210Z"
    }
   },
   "outputs": [
    {
     "data": {
      "text/plain": [
       "False"
      ]
     },
     "execution_count": 92,
     "metadata": {},
     "output_type": "execute_result"
    }
   ],
   "source": [
    "cycle_check(x)"
   ]
  },
  {
   "cell_type": "markdown",
   "id": "885c70ef-fa7f-4f32-8aa0-cad4597b7413",
   "metadata": {},
   "source": [
    "### Linked List Reversal"
   ]
  },
  {
   "cell_type": "markdown",
   "id": "a6682466-7ef3-44f9-8ccf-eebd47ec4745",
   "metadata": {},
   "source": [
    "Write a function to reverse a Linked List in place. The function will take in the head of the list as input and return the new head of the list."
   ]
  },
  {
   "cell_type": "code",
   "execution_count": 93,
   "id": "0f374178-5349-405a-be70-c20010d7c9f8",
   "metadata": {
    "execution": {
     "iopub.execute_input": "2023-08-19T19:03:15.021576Z",
     "iopub.status.busy": "2023-08-19T19:03:15.021576Z",
     "iopub.status.idle": "2023-08-19T19:03:15.030747Z",
     "shell.execute_reply": "2023-08-19T19:03:15.029922Z",
     "shell.execute_reply.started": "2023-08-19T19:03:15.021576Z"
    }
   },
   "outputs": [],
   "source": [
    "class Node(object):\n",
    "    \n",
    "    def __init__(self,value):\n",
    "        \n",
    "        self.value = value\n",
    "        self.nextnode = None"
   ]
  },
  {
   "cell_type": "markdown",
   "id": "54396a89-96cf-4b55-962d-b0ff94ea056a",
   "metadata": {},
   "source": [
    "**Solution**\n",
    "\n",
    "Since we want to do this in place we want to make the funciton operate in O(1) space, meaning we don't want to create a new list, so we will simply use the current nodes! Time wise, we can perform the reversal in O(n) time.\n",
    "\n",
    "We can reverse the list by changing the next pointer of each node. Each node's next pointer should point to the previous node.\n",
    "\n",
    "In one pass from head to tail of our input list, we will point each node's next pointer to the previous element.\n",
    "\n",
    "Make sure to copy current.next_node into next_node **before** setting current.next_node to previous. Let's see this solution coded out:"
   ]
  },
  {
   "cell_type": "code",
   "execution_count": 94,
   "id": "3b785b1f-55f4-46bf-8650-f9681f7dc249",
   "metadata": {
    "execution": {
     "iopub.execute_input": "2023-08-19T19:04:42.929853Z",
     "iopub.status.busy": "2023-08-19T19:04:42.929853Z",
     "iopub.status.idle": "2023-08-19T19:04:42.939935Z",
     "shell.execute_reply": "2023-08-19T19:04:42.937842Z",
     "shell.execute_reply.started": "2023-08-19T19:04:42.929853Z"
    }
   },
   "outputs": [],
   "source": [
    "def reverse(head):\n",
    "    \n",
    "    # Set up current,previous, and next nodes\n",
    "    current = head\n",
    "    previous = None\n",
    "    nextnode = None\n",
    "\n",
    "    # until we have gone through to the end of the list\n",
    "    while current:\n",
    "        \n",
    "        # Make sure to copy the current nodes next node to a variable next_node\n",
    "        # Before overwriting as the previous node for reversal\n",
    "        nextnode = current.nextnode\n",
    "\n",
    "        # Reverse the pointer ot the next_node\n",
    "        current.nextnode = previous\n",
    "\n",
    "        # Go one forward in the list\n",
    "        previous = current\n",
    "        current = nextnode\n",
    "\n",
    "    return previous"
   ]
  },
  {
   "cell_type": "code",
   "execution_count": 95,
   "id": "d74fb099-e3bf-433f-8102-265686596aab",
   "metadata": {
    "execution": {
     "iopub.execute_input": "2023-08-19T19:05:52.510202Z",
     "iopub.status.busy": "2023-08-19T19:05:52.509860Z",
     "iopub.status.idle": "2023-08-19T19:05:52.526259Z",
     "shell.execute_reply": "2023-08-19T19:05:52.524748Z",
     "shell.execute_reply.started": "2023-08-19T19:05:52.510202Z"
    }
   },
   "outputs": [],
   "source": [
    "# Create a list of 4 nodes\n",
    "a = Node(1)\n",
    "b = Node(2)\n",
    "c = Node(3)\n",
    "d = Node(4)\n",
    "\n",
    "# Set up order a,b,c,d with values 1,2,3,4\n",
    "a.nextnode = b\n",
    "b.nextnode = c\n",
    "c.nextnode = d"
   ]
  },
  {
   "cell_type": "code",
   "execution_count": 96,
   "id": "1663f1cd-b8f4-45b3-8795-5fd2ab97b4a6",
   "metadata": {
    "execution": {
     "iopub.execute_input": "2023-08-19T19:05:52.885417Z",
     "iopub.status.busy": "2023-08-19T19:05:52.884724Z",
     "iopub.status.idle": "2023-08-19T19:05:52.897385Z",
     "shell.execute_reply": "2023-08-19T19:05:52.896196Z",
     "shell.execute_reply.started": "2023-08-19T19:05:52.885417Z"
    }
   },
   "outputs": [
    {
     "name": "stdout",
     "output_type": "stream",
     "text": [
      "2\n",
      "3\n",
      "4\n"
     ]
    }
   ],
   "source": [
    "print(a.nextnode.value)\n",
    "print(b.nextnode.value)\n",
    "print(c.nextnode.value)"
   ]
  },
  {
   "cell_type": "code",
   "execution_count": 97,
   "id": "e70931f5-e0a0-4cbb-8db1-ec660a2ff41f",
   "metadata": {
    "execution": {
     "iopub.execute_input": "2023-08-19T19:06:01.992203Z",
     "iopub.status.busy": "2023-08-19T19:06:01.992203Z",
     "iopub.status.idle": "2023-08-19T19:06:02.027652Z",
     "shell.execute_reply": "2023-08-19T19:06:02.026168Z",
     "shell.execute_reply.started": "2023-08-19T19:06:01.992203Z"
    }
   },
   "outputs": [
    {
     "ename": "AttributeError",
     "evalue": "'NoneType' object has no attribute 'value'",
     "output_type": "error",
     "traceback": [
      "\u001b[1;31m---------------------------------------------------------------------------\u001b[0m",
      "\u001b[1;31mAttributeError\u001b[0m                            Traceback (most recent call last)",
      "Cell \u001b[1;32mIn[97], line 1\u001b[0m\n\u001b[1;32m----> 1\u001b[0m \u001b[43md\u001b[49m\u001b[38;5;241;43m.\u001b[39;49m\u001b[43mnextnode\u001b[49m\u001b[38;5;241;43m.\u001b[39;49m\u001b[43mvalue\u001b[49m\n",
      "\u001b[1;31mAttributeError\u001b[0m: 'NoneType' object has no attribute 'value'"
     ]
    }
   ],
   "source": [
    "d.nextnode.value"
   ]
  },
  {
   "cell_type": "code",
   "execution_count": 98,
   "id": "4ba92530-7e7c-4b3c-b353-b00605bd0849",
   "metadata": {
    "execution": {
     "iopub.execute_input": "2023-08-19T19:06:10.673855Z",
     "iopub.status.busy": "2023-08-19T19:06:10.672799Z",
     "iopub.status.idle": "2023-08-19T19:06:10.692896Z",
     "shell.execute_reply": "2023-08-19T19:06:10.689280Z",
     "shell.execute_reply.started": "2023-08-19T19:06:10.673855Z"
    }
   },
   "outputs": [
    {
     "data": {
      "text/plain": [
       "<__main__.Node at 0x1d43b7c9220>"
      ]
     },
     "execution_count": 98,
     "metadata": {},
     "output_type": "execute_result"
    }
   ],
   "source": [
    "reverse(a)"
   ]
  },
  {
   "cell_type": "code",
   "execution_count": 99,
   "id": "5a649608-7cf4-4915-b52b-1a12ad547dbe",
   "metadata": {
    "execution": {
     "iopub.execute_input": "2023-08-19T19:06:19.218473Z",
     "iopub.status.busy": "2023-08-19T19:06:19.217038Z",
     "iopub.status.idle": "2023-08-19T19:06:19.230460Z",
     "shell.execute_reply": "2023-08-19T19:06:19.229467Z",
     "shell.execute_reply.started": "2023-08-19T19:06:19.218473Z"
    }
   },
   "outputs": [
    {
     "name": "stdout",
     "output_type": "stream",
     "text": [
      "3\n",
      "2\n",
      "1\n"
     ]
    }
   ],
   "source": [
    "print(d.nextnode.value)\n",
    "print(c.nextnode.value)\n",
    "print(b.nextnode.value)"
   ]
  },
  {
   "cell_type": "code",
   "execution_count": 100,
   "id": "e85f6ab0-538d-42f9-95b7-ed1e22d7cc4d",
   "metadata": {
    "execution": {
     "iopub.execute_input": "2023-08-19T19:06:52.731887Z",
     "iopub.status.busy": "2023-08-19T19:06:52.730890Z",
     "iopub.status.idle": "2023-08-19T19:06:52.769266Z",
     "shell.execute_reply": "2023-08-19T19:06:52.767280Z",
     "shell.execute_reply.started": "2023-08-19T19:06:52.731887Z"
    }
   },
   "outputs": [
    {
     "ename": "AttributeError",
     "evalue": "'NoneType' object has no attribute 'value'",
     "output_type": "error",
     "traceback": [
      "\u001b[1;31m---------------------------------------------------------------------------\u001b[0m",
      "\u001b[1;31mAttributeError\u001b[0m                            Traceback (most recent call last)",
      "Cell \u001b[1;32mIn[100], line 1\u001b[0m\n\u001b[1;32m----> 1\u001b[0m \u001b[38;5;28mprint\u001b[39m(\u001b[43ma\u001b[49m\u001b[38;5;241;43m.\u001b[39;49m\u001b[43mnextnode\u001b[49m\u001b[38;5;241;43m.\u001b[39;49m\u001b[43mvalue\u001b[49m)\n",
      "\u001b[1;31mAttributeError\u001b[0m: 'NoneType' object has no attribute 'value'"
     ]
    }
   ],
   "source": [
    "print(a.nextnode.value)"
   ]
  },
  {
   "cell_type": "markdown",
   "id": "0cd85248-3e52-4906-a1db-46d3c8536d17",
   "metadata": {},
   "source": [
    "Now we can see that each of the values points to its previous value (although now that the linked list is reversed we can see the ordering has also reversed)"
   ]
  },
  {
   "cell_type": "markdown",
   "id": "0735c842-0ccb-4299-9630-23e42e0efa1e",
   "metadata": {},
   "source": [
    "### Linked List Nth to Last Node"
   ]
  },
  {
   "cell_type": "markdown",
   "id": "fec788ec-d96e-4191-89fc-ced9025b9f65",
   "metadata": {},
   "source": [
    "Write a function that takes a head node and an integer value **n** and then returns the nth to last node in the linked list. For example, given:"
   ]
  },
  {
   "cell_type": "code",
   "execution_count": 103,
   "id": "93eada1c-5235-49db-a5b6-b2ddeb3e5c4c",
   "metadata": {
    "execution": {
     "iopub.execute_input": "2023-08-19T19:09:32.709971Z",
     "iopub.status.busy": "2023-08-19T19:09:32.709140Z",
     "iopub.status.idle": "2023-08-19T19:09:32.730311Z",
     "shell.execute_reply": "2023-08-19T19:09:32.729318Z",
     "shell.execute_reply.started": "2023-08-19T19:09:32.709971Z"
    }
   },
   "outputs": [],
   "source": [
    "class Node:\n",
    "\n",
    "    def __init__(self, value):\n",
    "        self.value = value\n",
    "        self.nextnode  = None"
   ]
  },
  {
   "cell_type": "code",
   "execution_count": 104,
   "id": "188b3a72-c3b4-4f70-b977-4fe66a5ecd4d",
   "metadata": {
    "execution": {
     "iopub.execute_input": "2023-08-19T19:09:33.014397Z",
     "iopub.status.busy": "2023-08-19T19:09:33.014397Z",
     "iopub.status.idle": "2023-08-19T19:09:33.038951Z",
     "shell.execute_reply": "2023-08-19T19:09:33.037461Z",
     "shell.execute_reply.started": "2023-08-19T19:09:33.014397Z"
    }
   },
   "outputs": [
    {
     "ename": "NameError",
     "evalue": "name 'nth_to_last_node' is not defined",
     "output_type": "error",
     "traceback": [
      "\u001b[1;31m---------------------------------------------------------------------------\u001b[0m",
      "\u001b[1;31mNameError\u001b[0m                                 Traceback (most recent call last)",
      "Cell \u001b[1;32mIn[104], line 13\u001b[0m\n\u001b[0;32m     10\u001b[0m d\u001b[38;5;241m.\u001b[39mnextnode \u001b[38;5;241m=\u001b[39m e\n\u001b[0;32m     12\u001b[0m \u001b[38;5;66;03m# This would return the node d with a value of 4, because its the 2nd to last node.\u001b[39;00m\n\u001b[1;32m---> 13\u001b[0m target_node \u001b[38;5;241m=\u001b[39m \u001b[43mnth_to_last_node\u001b[49m(\u001b[38;5;241m2\u001b[39m, a) \n",
      "\u001b[1;31mNameError\u001b[0m: name 'nth_to_last_node' is not defined"
     ]
    }
   ],
   "source": [
    "a = Node(1)\n",
    "b = Node(2)\n",
    "c = Node(3)\n",
    "d = Node(4)\n",
    "e = Node(5)\n",
    "\n",
    "a.nextnode = b\n",
    "b.nextnode = c\n",
    "c.nextnode = d\n",
    "d.nextnode = e\n",
    "\n",
    "# This would return the node d with a value of 4, because its the 2nd to last node.\n",
    "target_node = nth_to_last_node(2, a) "
   ]
  },
  {
   "cell_type": "code",
   "execution_count": 105,
   "id": "a1439087-03d2-4b7c-aeee-490d4905c482",
   "metadata": {
    "execution": {
     "iopub.execute_input": "2023-08-19T19:09:44.660489Z",
     "iopub.status.busy": "2023-08-19T19:09:44.660489Z",
     "iopub.status.idle": "2023-08-19T19:09:44.699465Z",
     "shell.execute_reply": "2023-08-19T19:09:44.698754Z",
     "shell.execute_reply.started": "2023-08-19T19:09:44.660489Z"
    }
   },
   "outputs": [
    {
     "ename": "NameError",
     "evalue": "name 'target_node' is not defined",
     "output_type": "error",
     "traceback": [
      "\u001b[1;31m---------------------------------------------------------------------------\u001b[0m",
      "\u001b[1;31mNameError\u001b[0m                                 Traceback (most recent call last)",
      "Cell \u001b[1;32mIn[105], line 1\u001b[0m\n\u001b[1;32m----> 1\u001b[0m \u001b[43mtarget_node\u001b[49m\u001b[38;5;241m.\u001b[39mvalue\n",
      "\u001b[1;31mNameError\u001b[0m: name 'target_node' is not defined"
     ]
    }
   ],
   "source": [
    "target_node.value"
   ]
  },
  {
   "cell_type": "markdown",
   "id": "ab58499e-09d2-4ea4-9754-a9c49531224a",
   "metadata": {},
   "source": [
    "**Solution**\n",
    "\n",
    "One approach to this problem is this:\n",
    "\n",
    "Imagine you have a bunch of nodes and a \"block\" which is n-nodes wide. We could walk this \"block\" all the way down the list, and once the front of the block reached the end, then the other end of the block would be a the Nth node!  \n",
    "\n",
    "So to implement this \"block\" we would just have two pointers a left and right pair of pointers. Let's mark out the steps we will need to take:\n",
    "\n",
    "* Walk one pointer **n** nodes from the head, this will be the right_point\n",
    "* Put the other pointer at the head, this will be the left_point\n",
    "* Walk/traverse the block (both pointers) towards the tail, one node at a time, keeping a distance **n** between them.\n",
    "* Once the right_point has hit the tail, we know that the left point is at the target.\n",
    "\n",
    "Let's see the code for this!"
   ]
  },
  {
   "cell_type": "code",
   "execution_count": 106,
   "id": "bfd5cdf6-cd92-497b-b03f-1352e7f3b0db",
   "metadata": {
    "execution": {
     "iopub.execute_input": "2023-08-19T19:11:16.193656Z",
     "iopub.status.busy": "2023-08-19T19:11:16.193656Z",
     "iopub.status.idle": "2023-08-19T19:11:16.204358Z",
     "shell.execute_reply": "2023-08-19T19:11:16.202339Z",
     "shell.execute_reply.started": "2023-08-19T19:11:16.193656Z"
    }
   },
   "outputs": [],
   "source": [
    "def nth_to_last_node(n, head):\n",
    "\n",
    "    left_pointer  = head\n",
    "    right_pointer = head\n",
    "\n",
    "    # Set right pointer at n nodes away from head\n",
    "    for i in range(n-1):\n",
    "        \n",
    "        # Check for edge case of not having enough nodes!\n",
    "        if not right_pointer.nextnode:\n",
    "            raise LookupError('Error: n is larger than the linked list.')\n",
    "\n",
    "        # Otherwise, we can set the block\n",
    "        right_pointer = right_pointer.nextnode\n",
    "\n",
    "    # Move the block down the linked list\n",
    "    while right_pointer.nextnode:\n",
    "        left_pointer  = left_pointer.nextnode\n",
    "        right_pointer = right_pointer.nextnode\n",
    "\n",
    "    # Now return left pointer, its at the nth to last element!\n",
    "    return left_pointer"
   ]
  },
  {
   "cell_type": "code",
   "execution_count": null,
   "id": "868d550d-6288-4dfe-ae2a-0a308477f7ba",
   "metadata": {},
   "outputs": [],
   "source": [
    "a = Node(1)\n",
    "b = Node(2)\n",
    "c = Node(3)\n",
    "d = Node(4)\n",
    "e = Node(5)\n",
    "\n",
    "a.nextnode = b\n",
    "b.nextnode = c\n",
    "c.nextnode = d\n",
    "d.nextnode = e"
   ]
  },
  {
   "cell_type": "code",
   "execution_count": 110,
   "id": "7d563a19-8b7a-468c-ac17-d3d360dbf519",
   "metadata": {
    "execution": {
     "iopub.execute_input": "2023-08-19T19:14:36.367511Z",
     "iopub.status.busy": "2023-08-19T19:14:36.366056Z",
     "iopub.status.idle": "2023-08-19T19:14:36.379575Z",
     "shell.execute_reply": "2023-08-19T19:14:36.378581Z",
     "shell.execute_reply.started": "2023-08-19T19:14:36.367511Z"
    }
   },
   "outputs": [
    {
     "name": "stdout",
     "output_type": "stream",
     "text": [
      "4\n"
     ]
    }
   ],
   "source": [
    "print(nth_to_last_node(2, a).value)"
   ]
  },
  {
   "cell_type": "code",
   "execution_count": 111,
   "id": "23e7edfa-2531-407d-8e74-db6745c4ef85",
   "metadata": {
    "execution": {
     "iopub.execute_input": "2023-08-19T19:15:15.670741Z",
     "iopub.status.busy": "2023-08-19T19:15:15.669703Z",
     "iopub.status.idle": "2023-08-19T19:15:15.677224Z",
     "shell.execute_reply": "2023-08-19T19:15:15.676590Z",
     "shell.execute_reply.started": "2023-08-19T19:15:15.670741Z"
    }
   },
   "outputs": [
    {
     "name": "stdout",
     "output_type": "stream",
     "text": [
      "3\n"
     ]
    }
   ],
   "source": [
    "print(nth_to_last_node(3, a).value)"
   ]
  },
  {
   "cell_type": "code",
   "execution_count": 112,
   "id": "8a73c9de-b0ea-41bd-8e51-3ac75ddb4d5d",
   "metadata": {
    "execution": {
     "iopub.execute_input": "2023-08-19T19:24:25.049825Z",
     "iopub.status.busy": "2023-08-19T19:24:25.049328Z",
     "iopub.status.idle": "2023-08-19T19:24:25.064562Z",
     "shell.execute_reply": "2023-08-19T19:24:25.063568Z",
     "shell.execute_reply.started": "2023-08-19T19:24:25.049825Z"
    }
   },
   "outputs": [
    {
     "name": "stdout",
     "output_type": "stream",
     "text": [
      "5\n"
     ]
    }
   ],
   "source": [
    "print(nth_to_last_node(1, a).value)"
   ]
  },
  {
   "cell_type": "code",
   "execution_count": 113,
   "id": "980089e0-706e-4ea0-98cc-67d31ebf516a",
   "metadata": {
    "execution": {
     "iopub.execute_input": "2023-08-19T19:24:41.024867Z",
     "iopub.status.busy": "2023-08-19T19:24:41.024867Z",
     "iopub.status.idle": "2023-08-19T19:24:41.031893Z",
     "shell.execute_reply": "2023-08-19T19:24:41.030899Z",
     "shell.execute_reply.started": "2023-08-19T19:24:41.024867Z"
    }
   },
   "outputs": [
    {
     "name": "stdout",
     "output_type": "stream",
     "text": [
      "1\n"
     ]
    }
   ],
   "source": [
    "print(nth_to_last_node(5, a).value)"
   ]
  },
  {
   "cell_type": "markdown",
   "id": "7764d9d8",
   "metadata": {},
   "source": [
    "---"
   ]
  },
  {
   "cell_type": "markdown",
   "id": "59c3eb96-5228-41c8-a81d-093b80b5914b",
   "metadata": {},
   "source": [
    "---"
   ]
  }
 ],
 "metadata": {
  "kernelspec": {
   "display_name": "Python 3 (ipykernel)",
   "language": "python",
   "name": "python3"
  },
  "language_info": {
   "codemirror_mode": {
    "name": "ipython",
    "version": 3
   },
   "file_extension": ".py",
   "mimetype": "text/x-python",
   "name": "python",
   "nbconvert_exporter": "python",
   "pygments_lexer": "ipython3",
   "version": "3.9.1"
  },
  "toc": {
   "base_numbering": 1,
   "nav_menu": {},
   "number_sections": true,
   "sideBar": true,
   "skip_h1_title": false,
   "title_cell": "Table of Contents",
   "title_sidebar": "Contents",
   "toc_cell": true,
   "toc_position": {
    "height": "calc(100% - 180px)",
    "left": "10px",
    "top": "150px",
    "width": "317.375px"
   },
   "toc_section_display": true,
   "toc_window_display": true
  },
  "varInspector": {
   "cols": {
    "lenName": 16,
    "lenType": 16,
    "lenVar": 40
   },
   "kernels_config": {
    "python": {
     "delete_cmd_postfix": "",
     "delete_cmd_prefix": "del ",
     "library": "var_list.py",
     "varRefreshCmd": "print(var_dic_list())"
    },
    "r": {
     "delete_cmd_postfix": ") ",
     "delete_cmd_prefix": "rm(",
     "library": "var_list.r",
     "varRefreshCmd": "cat(var_dic_list()) "
    }
   },
   "types_to_exclude": [
    "module",
    "function",
    "builtin_function_or_method",
    "instance",
    "_Feature"
   ],
   "window_display": false
  }
 },
 "nbformat": 4,
 "nbformat_minor": 5
}
