{
 "cells": [
  {
   "cell_type": "markdown",
   "id": "2593928e",
   "metadata": {
    "toc": true
   },
   "source": [
    "<h1>Table of Contents<span class=\"tocSkip\"></span></h1>\n",
    "<div class=\"toc\"><ul class=\"toc-item\"><li><span><a href=\"#Algorithm-Analysis\" data-toc-modified-id=\"Algorithm-Analysis-1\"><span class=\"toc-item-num\">1&nbsp;&nbsp;</span>Algorithm Analysis</a></span><ul class=\"toc-item\"><li><span><a href=\"#Introduction-to-Algorithm-Analysis-and-Big-O\" data-toc-modified-id=\"Introduction-to-Algorithm-Analysis-and-Big-O-1.1\"><span class=\"toc-item-num\">1.1&nbsp;&nbsp;</span>Introduction to Algorithm Analysis and Big O</a></span><ul class=\"toc-item\"><li><span><a href=\"#Why-analyze-algorithms?\" data-toc-modified-id=\"Why-analyze-algorithms?-1.1.1\"><span class=\"toc-item-num\">1.1.1&nbsp;&nbsp;</span>Why analyze algorithms?</a></span></li></ul></li><li><span><a href=\"#Big-O-Notation\" data-toc-modified-id=\"Big-O-Notation-1.2\"><span class=\"toc-item-num\">1.2&nbsp;&nbsp;</span>Big O Notation</a></span><ul class=\"toc-item\"><li><span><a href=\"#Runtimes-of-Common-Big-O-Functions\" data-toc-modified-id=\"Runtimes-of-Common-Big-O-Functions-1.2.1\"><span class=\"toc-item-num\">1.2.1&nbsp;&nbsp;</span>Runtimes of Common Big-O Functions</a></span></li></ul></li><li><span><a href=\"#Big-O-Examples\" data-toc-modified-id=\"Big-O-Examples-1.3\"><span class=\"toc-item-num\">1.3&nbsp;&nbsp;</span>Big O Examples</a></span><ul class=\"toc-item\"><li><span><a href=\"#O(1)-Constant\" data-toc-modified-id=\"O(1)-Constant-1.3.1\"><span class=\"toc-item-num\">1.3.1&nbsp;&nbsp;</span>O(1) Constant</a></span></li><li><span><a href=\"#O(n)-Linear\" data-toc-modified-id=\"O(n)-Linear-1.3.2\"><span class=\"toc-item-num\">1.3.2&nbsp;&nbsp;</span>O(n) Linear</a></span></li><li><span><a href=\"#O(n^2)-Quadratic\" data-toc-modified-id=\"O(n^2)-Quadratic-1.3.3\"><span class=\"toc-item-num\">1.3.3&nbsp;&nbsp;</span>O(n^2) Quadratic</a></span></li><li><span><a href=\"#Calculating-Scale-of-Big-O\" data-toc-modified-id=\"Calculating-Scale-of-Big-O-1.3.4\"><span class=\"toc-item-num\">1.3.4&nbsp;&nbsp;</span>Calculating Scale of Big-O</a></span></li><li><span><a href=\"#Worst-Case-vs-Best-Case\" data-toc-modified-id=\"Worst-Case-vs-Best-Case-1.3.5\"><span class=\"toc-item-num\">1.3.5&nbsp;&nbsp;</span>Worst Case vs Best Case</a></span></li></ul></li><li><span><a href=\"#Space-Complexity\" data-toc-modified-id=\"Space-Complexity-1.4\"><span class=\"toc-item-num\">1.4&nbsp;&nbsp;</span>Space Complexity</a></span><ul class=\"toc-item\"><li><span><a href=\"#Homework-Assignment\" data-toc-modified-id=\"Homework-Assignment-1.4.1\"><span class=\"toc-item-num\">1.4.1&nbsp;&nbsp;</span>Homework Assignment</a></span></li></ul></li><li><span><a href=\"#Summary\" data-toc-modified-id=\"Summary-1.5\"><span class=\"toc-item-num\">1.5&nbsp;&nbsp;</span>Summary</a></span></li><li><span><a href=\"#Big-O-for-Python-Data-Structures\" data-toc-modified-id=\"Big-O-for-Python-Data-Structures-1.6\"><span class=\"toc-item-num\">1.6&nbsp;&nbsp;</span>Big O for Python Data Structures</a></span><ul class=\"toc-item\"><li><span><a href=\"#Lists\" data-toc-modified-id=\"Lists-1.6.1\"><span class=\"toc-item-num\">1.6.1&nbsp;&nbsp;</span>Lists</a></span><ul class=\"toc-item\"><li><span><a href=\"#Table-of-Big-O-for-common-list-operations\" data-toc-modified-id=\"Table-of-Big-O-for-common-list-operations-1.6.1.1\"><span class=\"toc-item-num\">1.6.1.1&nbsp;&nbsp;</span>Table of Big-O for common list operations</a></span></li></ul></li><li><span><a href=\"#Dictionaries\" data-toc-modified-id=\"Dictionaries-1.6.2\"><span class=\"toc-item-num\">1.6.2&nbsp;&nbsp;</span>Dictionaries</a></span></li></ul></li><li><span><a href=\"#Conclusion\" data-toc-modified-id=\"Conclusion-1.7\"><span class=\"toc-item-num\">1.7&nbsp;&nbsp;</span>Conclusion</a></span></li><li><span><a href=\"#Examples\" data-toc-modified-id=\"Examples-1.8\"><span class=\"toc-item-num\">1.8&nbsp;&nbsp;</span>Examples</a></span></li></ul></li><li><span><a href=\"#Array\" data-toc-modified-id=\"Array-2\"><span class=\"toc-item-num\">2&nbsp;&nbsp;</span>Array</a></span><ul class=\"toc-item\"><li><span><a href=\"#Introduction-to-Array-Based-Sequences\" data-toc-modified-id=\"Introduction-to-Array-Based-Sequences-2.1\"><span class=\"toc-item-num\">2.1&nbsp;&nbsp;</span>Introduction to Array Based Sequences</a></span></li><li><span><a href=\"#creating-an-array-of-different-data-types\" data-toc-modified-id=\"creating-an-array-of-different-data-types-2.2\"><span class=\"toc-item-num\">2.2&nbsp;&nbsp;</span>creating an array of different data types</a></span></li><li><span><a href=\"#Adding-elements-in-array\" data-toc-modified-id=\"Adding-elements-in-array-2.3\"><span class=\"toc-item-num\">2.3&nbsp;&nbsp;</span>Adding elements in array</a></span></li><li><span><a href=\"#Removing-Elements-from-array\" data-toc-modified-id=\"Removing-Elements-from-array-2.4\"><span class=\"toc-item-num\">2.4&nbsp;&nbsp;</span>Removing Elements from array</a></span></li><li><span><a href=\"#Slicing-of-a-Array\" data-toc-modified-id=\"Slicing-of-a-Array-2.5\"><span class=\"toc-item-num\">2.5&nbsp;&nbsp;</span>Slicing of a Array</a></span></li><li><span><a href=\"#Searching-element-in-a-Array\" data-toc-modified-id=\"Searching-element-in-a-Array-2.6\"><span class=\"toc-item-num\">2.6&nbsp;&nbsp;</span>Searching element in a Array</a></span></li><li><span><a href=\"#Updating-Elements-in-a-Array\" data-toc-modified-id=\"Updating-Elements-in-a-Array-2.7\"><span class=\"toc-item-num\">2.7&nbsp;&nbsp;</span>Updating Elements in a Array</a></span></li></ul></li><li><span><a href=\"#Object-Oriented-Programming-(OOP)\" data-toc-modified-id=\"Object-Oriented-Programming-(OOP)-3\"><span class=\"toc-item-num\">3&nbsp;&nbsp;</span>Object-Oriented Programming (OOP)</a></span><ul class=\"toc-item\"><li><span><a href=\"#Class\" data-toc-modified-id=\"Class-3.1\"><span class=\"toc-item-num\">3.1&nbsp;&nbsp;</span>Class</a></span></li><li><span><a href=\"#Objects\" data-toc-modified-id=\"Objects-3.2\"><span class=\"toc-item-num\">3.2&nbsp;&nbsp;</span>Objects</a></span></li><li><span><a href=\"#Attributes\" data-toc-modified-id=\"Attributes-3.3\"><span class=\"toc-item-num\">3.3&nbsp;&nbsp;</span>Attributes</a></span></li><li><span><a href=\"#Writing-method-in-class\" data-toc-modified-id=\"Writing-method-in-class-3.4\"><span class=\"toc-item-num\">3.4&nbsp;&nbsp;</span>Writing method in class</a></span><ul class=\"toc-item\"><li><span><a href=\"#The-self-\" data-toc-modified-id=\"The-self--3.4.1\"><span class=\"toc-item-num\">3.4.1&nbsp;&nbsp;</span>The <code>self </code></a></span></li><li><span><a href=\"#The-__init__()-method\" data-toc-modified-id=\"The-__init__()-method-3.4.2\"><span class=\"toc-item-num\">3.4.2&nbsp;&nbsp;</span>The <code>__init__()</code> method</a></span></li></ul></li><li><span><a href=\"#Class-vs-instance-attributes\" data-toc-modified-id=\"Class-vs-instance-attributes-3.5\"><span class=\"toc-item-num\">3.5&nbsp;&nbsp;</span>Class vs instance attributes</a></span></li><li><span><a href=\"#Class-vs-Static-methos\" data-toc-modified-id=\"Class-vs-Static-methos-3.6\"><span class=\"toc-item-num\">3.6&nbsp;&nbsp;</span>Class vs Static methos</a></span><ul class=\"toc-item\"><li><span><a href=\"#Class-method\" data-toc-modified-id=\"Class-method-3.6.1\"><span class=\"toc-item-num\">3.6.1&nbsp;&nbsp;</span><strong>Class method</strong></a></span></li><li><span><a href=\"#Static-method\" data-toc-modified-id=\"Static-method-3.6.2\"><span class=\"toc-item-num\">3.6.2&nbsp;&nbsp;</span><strong>Static method</strong></a></span></li></ul></li><li><span><a href=\"#Inheritance\" data-toc-modified-id=\"Inheritance-3.7\"><span class=\"toc-item-num\">3.7&nbsp;&nbsp;</span>Inheritance</a></span></li><li><span><a href=\"#Getters-and-Setters\" data-toc-modified-id=\"Getters-and-Setters-3.8\"><span class=\"toc-item-num\">3.8&nbsp;&nbsp;</span>Getters and Setters</a></span></li><li><span><a href=\"#Encapsulation\" data-toc-modified-id=\"Encapsulation-3.9\"><span class=\"toc-item-num\">3.9&nbsp;&nbsp;</span>Encapsulation</a></span></li><li><span><a href=\"#Data-Abstraction\" data-toc-modified-id=\"Data-Abstraction-3.10\"><span class=\"toc-item-num\">3.10&nbsp;&nbsp;</span>Data Abstraction</a></span></li><li><span><a href=\"#Polymorphism\" data-toc-modified-id=\"Polymorphism-3.11\"><span class=\"toc-item-num\">3.11&nbsp;&nbsp;</span>Polymorphism</a></span></li></ul></li></ul></div>"
   ]
  },
  {
   "cell_type": "markdown",
   "id": "be89dd4d",
   "metadata": {},
   "source": [
    "---"
   ]
  },
  {
   "cell_type": "markdown",
   "id": "3c54e780",
   "metadata": {},
   "source": [
    "# Algorithm Analysis"
   ]
  },
  {
   "cell_type": "markdown",
   "id": "188b5c8a",
   "metadata": {},
   "source": [
    "## Introduction to Algorithm Analysis and Big O\n",
    "\n",
    "In this lecture we will discuss how to analyze Algorithms and why it is important to do so!\n",
    "\n",
    "### Why analyze algorithms?\n",
    "\n",
    "Before we begin, let's clarify what an algorthim is. In this course, an **algorithm** is simply a procedure or formula for solving a problem. Some problems are famous enough that the algorithms have names, as well as some procdures being common enough that the algorithm associated with it also has a name. So now we have a good question we need to answer:\n",
    "\n",
    "** *How do analyze algorithms and how can we compare algorithms against each other?* **\n",
    "\n",
    "Imagine if you and a friend both came up with functions to sum the numbers from 0 to N. How would you compare the functions and algorithms within the functions? Let's say you both cam up with these two seperate functions:"
   ]
  },
  {
   "cell_type": "code",
   "execution_count": 1,
   "id": "d79ad126",
   "metadata": {
    "ExecuteTime": {
     "end_time": "2023-04-29T22:10:47.806135Z",
     "start_time": "2023-04-29T22:10:47.791372Z"
    }
   },
   "outputs": [],
   "source": [
    "# First function (Note the use of xrange since this is in Python 2)\n",
    "def sum1(n):\n",
    "    '''\n",
    "    Take an input of n and return the sum of the numbers from 0 to n\n",
    "    '''\n",
    "    final_sum = 0\n",
    "    for x in range(n+1): \n",
    "        final_sum += x\n",
    "    \n",
    "    return final_sum"
   ]
  },
  {
   "cell_type": "code",
   "execution_count": 2,
   "id": "46bbce3d",
   "metadata": {
    "ExecuteTime": {
     "end_time": "2023-04-29T22:10:47.821171Z",
     "start_time": "2023-04-29T22:10:47.808129Z"
    }
   },
   "outputs": [
    {
     "data": {
      "text/plain": [
       "55"
      ]
     },
     "execution_count": 2,
     "metadata": {},
     "output_type": "execute_result"
    }
   ],
   "source": [
    "sum1(10)"
   ]
  },
  {
   "cell_type": "code",
   "execution_count": 3,
   "id": "50b32f63",
   "metadata": {
    "ExecuteTime": {
     "end_time": "2023-04-29T22:10:47.837042Z",
     "start_time": "2023-04-29T22:10:47.824076Z"
    }
   },
   "outputs": [],
   "source": [
    "def sum2(n):\n",
    "    \"\"\"\n",
    "    Take an input of n and return the sum of the numbers from 0 to n\n",
    "    \"\"\"\n",
    "    return (n*(n+1))/2"
   ]
  },
  {
   "cell_type": "code",
   "execution_count": 4,
   "id": "3985b5d3",
   "metadata": {
    "ExecuteTime": {
     "end_time": "2023-04-29T22:10:47.852706Z",
     "start_time": "2023-04-29T22:10:47.838742Z"
    }
   },
   "outputs": [
    {
     "data": {
      "text/plain": [
       "55.0"
      ]
     },
     "execution_count": 4,
     "metadata": {},
     "output_type": "execute_result"
    }
   ],
   "source": [
    "sum2(10)"
   ]
  },
  {
   "cell_type": "markdown",
   "id": "060a77bf",
   "metadata": {
    "ExecuteTime": {
     "end_time": "2023-04-29T06:46:49.303735Z",
     "start_time": "2023-04-29T06:46:49.289030Z"
    }
   },
   "source": [
    "You'll notice both functions have the same result, but completely different algorithms. You'll note that the first function iteratively adds the numbers, while the second function makes use of:\n",
    "$$ \\sum_{i=0}^{n} {i} = \\frac{n(n+1)}{2} $$\n",
    "\n",
    "So how can we objectively compare the algorithms? We could compare the amount of space they take in memory or we could also compare how much time it takes each function to run. We can use the built in **%timeit** magic function in jupyter to compare the time of the functions. The [**%timeit**](https://ipython.org/ipython-doc/3/interactive/magics.html#magic-timeit) magic in Jupyter Notebooks will repeat the loop iteration a certain number of times and take the best result. Check out the link for the documentation. \n",
    "\n",
    "Let's go ahead and compare the time it took to run the functions:"
   ]
  },
  {
   "cell_type": "code",
   "execution_count": 5,
   "id": "b8007684",
   "metadata": {
    "ExecuteTime": {
     "end_time": "2023-04-29T22:10:49.844940Z",
     "start_time": "2023-04-29T22:10:47.854688Z"
    }
   },
   "outputs": [
    {
     "name": "stdout",
     "output_type": "stream",
     "text": [
      "2.44 µs ± 224 ns per loop (mean ± std. dev. of 7 runs, 100,000 loops each)\n"
     ]
    }
   ],
   "source": [
    "%timeit sum1(100)"
   ]
  },
  {
   "cell_type": "code",
   "execution_count": 6,
   "id": "5f8d5f3d",
   "metadata": {
    "ExecuteTime": {
     "end_time": "2023-04-29T22:10:56.661989Z",
     "start_time": "2023-04-29T22:10:49.846934Z"
    }
   },
   "outputs": [
    {
     "name": "stdout",
     "output_type": "stream",
     "text": [
      "85.5 ns ± 17.9 ns per loop (mean ± std. dev. of 7 runs, 10,000,000 loops each)\n"
     ]
    }
   ],
   "source": [
    "%timeit sum2(100)"
   ]
  },
  {
   "cell_type": "markdown",
   "id": "d9db5bd4",
   "metadata": {},
   "source": [
    "We can see that the second function is much more efficient! Running at a much faster rate than the first. However, we can not use \"time to run\" as an objective measurement, because that will depend on the speed of the computer itself and hardware capabilities. So we will need to use another method, **Big-O**!"
   ]
  },
  {
   "cell_type": "markdown",
   "id": "101a6ee2",
   "metadata": {},
   "source": [
    "## Big O Notation\n",
    "In this lecture we will go over how the syntax of Big-O Notation works and how we can describe algorithms using Big-O Notation!\n",
    "\n",
    "We previously discussed the functions below:"
   ]
  },
  {
   "cell_type": "code",
   "execution_count": 7,
   "id": "c9ed87e9",
   "metadata": {
    "ExecuteTime": {
     "end_time": "2023-04-29T22:10:56.677935Z",
     "start_time": "2023-04-29T22:10:56.663912Z"
    }
   },
   "outputs": [],
   "source": [
    "# First function (Note the use of xrange since this is in Python 2)\n",
    "def sum1(n):\n",
    "    '''\n",
    "    Take an input of n and return the sum of the numbers from 0 to n\n",
    "    '''\n",
    "    final_sum = 0\n",
    "    for x in range(n+1): \n",
    "        final_sum += x\n",
    "    \n",
    "    return final_sum"
   ]
  },
  {
   "cell_type": "code",
   "execution_count": 8,
   "id": "75d56997",
   "metadata": {
    "ExecuteTime": {
     "end_time": "2023-04-29T22:10:56.693951Z",
     "start_time": "2023-04-29T22:10:56.680854Z"
    }
   },
   "outputs": [],
   "source": [
    "def sum2(n):\n",
    "    \"\"\"\n",
    "    Take an input of n and return the sum of the numbers from 0 to n\n",
    "    \"\"\"\n",
    "    return (n*(n+1))/2"
   ]
  },
  {
   "cell_type": "markdown",
   "id": "1e26d359",
   "metadata": {},
   "source": [
    "Now we want to develop a notation to objectively compare the efficiency of these two algorithms. A good place to start would be to compare the number of assignments each algorithm makes.\n",
    "\n",
    "The original **sum1** function will create an assignment **n+1** times, we can see this from the range based function. This means it will assign the final_sum variable n+1 times. We can then say that for a problem of n size (in this case just a number n) this function will take 1+n steps.\n",
    "\n",
    "This **n** notation allows us to compare solutions and algorithms relative to the size of the problem, since sum1(10) and sum1(100000) would take very different times to run but be using the same algorithm. We can also note that as n grows very large, the **+1** won't have much effect. So let's begin discussing how to build a syntax for this notation.\n",
    "________\n",
    "\n",
    "Now we will discuss how we can formalize this notation and idea.\n",
    "\n",
    "Big-O notation describes *how quickly runtime will grow relative to the input as the input get arbitrarily large*.\n",
    "\n",
    "Let's examine some of these points more closely:\n",
    "\n",
    "* Remember, we want to compare how quickly runtime will grows, not compare exact runtimes, since those can vary depending on hardware.\n",
    "\n",
    "* Since we want to compare for a variety of input sizes, we are only concerned with runtime grow *relative* to the input. This is why we use **n** for notation.\n",
    "\n",
    "* As n gets arbitrarily large we only worry about terms that will grow the fastest as n gets large, to this point, Big-O analysis is also known as **asymptotic analysis**\n",
    "\n",
    "\n",
    "As for syntax sum1() can be said to be **O(n)** since its runtime grows linearly with the input size. In the next lecture we will go over more specific examples of various O() types and examples. To conclude this lecture we will show the potential for vast difference in runtimes of Big-O functions.\n",
    "\n",
    "### Runtimes of Common Big-O Functions\n",
    "\n",
    "Here is a table of common Big-O functions:"
   ]
  },
  {
   "cell_type": "markdown",
   "id": "5b82254e",
   "metadata": {},
   "source": [
    "<table>\n",
    "<tr>\n",
    "    <th><strong>Big-O</strong></th>\n",
    "    <th><strong>Name</strong></th>\n",
    "</tr>\n",
    "<tr>\n",
    "    <td>1</td>\n",
    "    <td>Constant</td>\n",
    "</tr>\n",
    "<tr>\n",
    "    <td>log(n)</td>\n",
    "    <td>Logarithmic</td>\n",
    "</tr>\n",
    "    <tr><td>n</td>\n",
    "    <td>Linear</td>\n",
    "</tr>\n",
    "    <tr><td>nlog(n)</td>\n",
    "    <td>Log Linear</td>\n",
    "</tr>\n",
    "    <tr><td>n^2</td>\n",
    "    <td>Quadratic</td>\n",
    "</tr>\n",
    "    <tr><td>n^3</td>\n",
    "    <td>Cubic</td>\n",
    "</tr>\n",
    "    <tr><td>2^n</td>\n",
    "    <td>Exponential</td>\n",
    "</tr>\n",
    "</table>"
   ]
  },
  {
   "cell_type": "markdown",
   "id": "5fe5d2ae",
   "metadata": {
    "ExecuteTime": {
     "end_time": "2023-04-29T06:49:49.595342Z",
     "start_time": "2023-04-29T06:49:49.580639Z"
    }
   },
   "source": [
    "Now let's plot the runtime versus the Big-O to compare the runtimes. We'll use a simple [matplotlib](http://matplotlib.org/) for the plot below. (Don't be concerned with how to use matplotlib, that is irrelevant for this part)."
   ]
  },
  {
   "cell_type": "code",
   "execution_count": 9,
   "id": "d002b906",
   "metadata": {
    "ExecuteTime": {
     "end_time": "2023-04-29T22:10:57.894937Z",
     "start_time": "2023-04-29T22:10:56.698691Z"
    }
   },
   "outputs": [
    {
     "data": {
      "text/plain": [
       "Text(0.5, 0, 'n')"
      ]
     },
     "execution_count": 9,
     "metadata": {},
     "output_type": "execute_result"
    },
    {
     "data": {
      "image/png": "[encoded data removed]",
      "text/plain": [
       "<Figure size 1200x1000 with 1 Axes>"
      ]
     },
     "metadata": {},
     "output_type": "display_data"
    }
   ],
   "source": [
    "from math import log\n",
    "import numpy as np\n",
    "import matplotlib.pyplot as plt\n",
    "%matplotlib inline\n",
    "plt.style.use('bmh')\n",
    "\n",
    "# Set up runtime comparisons\n",
    "n = np.linspace(1,10,1000)\n",
    "labels = ['Constant','Logarithmic','Linear','Log Linear','Quadratic','Cubic','Exponential']\n",
    "big_o = [np.ones(n.shape),np.log(n),n,n*np.log(n),n**2,n**3,2**n]\n",
    "\n",
    "# Plot setup\n",
    "plt.figure(figsize=(12,10))\n",
    "plt.ylim(0,50)\n",
    "\n",
    "for i in range(len(big_o)):\n",
    "    plt.plot(n,big_o[i],label = labels[i])\n",
    "\n",
    "\n",
    "plt.legend(loc=0)\n",
    "plt.ylabel('Relative Runtime')\n",
    "plt.xlabel('n')"
   ]
  },
  {
   "cell_type": "markdown",
   "id": "eca3e319",
   "metadata": {},
   "source": [
    "Note how much of a difference a Big-O efficiency can make for the same n value against the projected runtime! Clearly we want to choose algorithms that stay away from any exponential, quadratic, or cubic behavior!\n",
    "\n",
    "In the next lecture we will learn how to properly denote Big-O and look at examples of various problems and calculate the Big-O of them!"
   ]
  },
  {
   "cell_type": "markdown",
   "id": "bd33cef0",
   "metadata": {},
   "source": [
    "## Big O Examples\n",
    "\n",
    "In the first part of the Big-O example section we will go through various iterations of the various Big-O functions. Make sure to complete the reading assignment!\n",
    "\n",
    "Let's begin with some simple examples and explore what their Big-O is.\n",
    "\n",
    "### O(1) Constant"
   ]
  },
  {
   "cell_type": "code",
   "execution_count": 10,
   "id": "9e532534",
   "metadata": {
    "ExecuteTime": {
     "end_time": "2023-04-29T22:10:57.910984Z",
     "start_time": "2023-04-29T22:10:57.897933Z"
    }
   },
   "outputs": [
    {
     "name": "stdout",
     "output_type": "stream",
     "text": [
      "1\n"
     ]
    }
   ],
   "source": [
    "def func_constant(values):\n",
    "    '''\n",
    "    Prints first item in a list of values.\n",
    "    '''\n",
    "    print(values[0])\n",
    "    \n",
    "func_constant([1,2,3])"
   ]
  },
  {
   "cell_type": "markdown",
   "id": "964af3ac",
   "metadata": {},
   "source": [
    "Note how this function is constant because regardless of the list size, the function will only ever take a constant step size, in this case 1, printing the first value from a list. so we can see here that an input list of 100 values will print just 1 item, a list of 10,000 values will print just 1 item, and a list of **n** values will print just 1 item!"
   ]
  },
  {
   "cell_type": "markdown",
   "id": "c1540884",
   "metadata": {},
   "source": [
    "### O(n) Linear"
   ]
  },
  {
   "cell_type": "code",
   "execution_count": 11,
   "id": "0919535d",
   "metadata": {
    "ExecuteTime": {
     "end_time": "2023-04-29T22:10:57.926967Z",
     "start_time": "2023-04-29T22:10:57.912976Z"
    }
   },
   "outputs": [
    {
     "name": "stdout",
     "output_type": "stream",
     "text": [
      "1\n",
      "2\n",
      "3\n"
     ]
    }
   ],
   "source": [
    "def func_lin(lst):\n",
    "    '''\n",
    "    Takes in list and prints out all values\n",
    "    '''\n",
    "    for val in lst:\n",
    "        print(val)\n",
    "        \n",
    "func_lin([1,2,3])"
   ]
  },
  {
   "cell_type": "markdown",
   "id": "e11f05d1",
   "metadata": {},
   "source": [
    "This function runs in O(n) (linear time). This means that the number of operations taking place scales linearly with n, so we can see here that an input list of 100 values will print 100 times, a list of 10,000 values will print 10,000 times, and a list of **n** values will print **n** times."
   ]
  },
  {
   "cell_type": "markdown",
   "id": "ab5d1c8d",
   "metadata": {},
   "source": [
    "### O(n^2) Quadratic"
   ]
  },
  {
   "cell_type": "code",
   "execution_count": 12,
   "id": "30260a47",
   "metadata": {
    "ExecuteTime": {
     "end_time": "2023-04-29T22:10:57.942535Z",
     "start_time": "2023-04-29T22:10:57.932554Z"
    }
   },
   "outputs": [
    {
     "name": "stdout",
     "output_type": "stream",
     "text": [
      "0 0\n",
      "0 1\n",
      "0 2\n",
      "0 3\n",
      "1 0\n",
      "1 1\n",
      "1 2\n",
      "1 3\n",
      "2 0\n",
      "2 1\n",
      "2 2\n",
      "2 3\n",
      "3 0\n",
      "3 1\n",
      "3 2\n",
      "3 3\n"
     ]
    }
   ],
   "source": [
    "def func_quad(lst):\n",
    "    '''\n",
    "    Prints pairs for every item in list.\n",
    "    '''\n",
    "    for item_1 in lst:\n",
    "        for item_2 in lst:\n",
    "            print(item_1,item_2)\n",
    "            \n",
    "lst = [0, 1, 2, 3]\n",
    "\n",
    "func_quad(lst)"
   ]
  },
  {
   "cell_type": "markdown",
   "id": "e316fee1",
   "metadata": {},
   "source": [
    "Note how we now have two loops, one nested inside another. This means that for a list of n items, we will have to perform n operations for *every item in the list!* This means in total, we will perform n times n assignments, or n^2. So a list of 10 items will have 10^2, or 100 operations. You can see how dangerous this can get for very large inputs! This is why Big-O is so important to be aware of!"
   ]
  },
  {
   "cell_type": "markdown",
   "id": "04fa546b",
   "metadata": {},
   "source": [
    "______\n",
    "### Calculating Scale of Big-O\n",
    "\n",
    "In this section we will discuss how insignificant terms drop out of Big-O notation.\n",
    "\n",
    "When it comes to Big O notation we only care about the most significant terms, remember as the input grows larger only the fastest growing terms will matter. If you've taken a calculus class before, this will reminf you of taking limits towards infinity. Let's see an example of how to drop constants:"
   ]
  },
  {
   "cell_type": "code",
   "execution_count": 13,
   "id": "5fec42aa",
   "metadata": {
    "ExecuteTime": {
     "end_time": "2023-04-29T22:10:57.957982Z",
     "start_time": "2023-04-29T22:10:57.944971Z"
    }
   },
   "outputs": [],
   "source": [
    "def print_once(lst):\n",
    "    '''\n",
    "    Prints all items once\n",
    "    '''\n",
    "    for val in lst:\n",
    "        print(val)"
   ]
  },
  {
   "cell_type": "code",
   "execution_count": 14,
   "id": "b5210980",
   "metadata": {
    "ExecuteTime": {
     "end_time": "2023-04-29T22:10:57.973133Z",
     "start_time": "2023-04-29T22:10:57.959227Z"
    }
   },
   "outputs": [
    {
     "name": "stdout",
     "output_type": "stream",
     "text": [
      "0\n",
      "1\n",
      "2\n",
      "3\n"
     ]
    }
   ],
   "source": [
    "print_once(lst)"
   ]
  },
  {
   "cell_type": "markdown",
   "id": "4600bcdd",
   "metadata": {},
   "source": [
    "The print_once() function is O(n) since it will scale linearly with the input. What about the next example?"
   ]
  },
  {
   "cell_type": "code",
   "execution_count": 15,
   "id": "6a4ee9cc",
   "metadata": {
    "ExecuteTime": {
     "end_time": "2023-04-29T22:10:57.988903Z",
     "start_time": "2023-04-29T22:10:57.975485Z"
    }
   },
   "outputs": [],
   "source": [
    "def print_3(lst):\n",
    "    '''\n",
    "    Prints all items three times\n",
    "    '''\n",
    "    for val in lst:\n",
    "        print(val)\n",
    "        \n",
    "    for val in lst:\n",
    "        print (val)\n",
    "        \n",
    "    for val in lst:\n",
    "        print (val)"
   ]
  },
  {
   "cell_type": "code",
   "execution_count": 16,
   "id": "6d2a62ea",
   "metadata": {
    "ExecuteTime": {
     "end_time": "2023-04-29T22:10:58.004052Z",
     "start_time": "2023-04-29T22:10:57.990104Z"
    }
   },
   "outputs": [
    {
     "name": "stdout",
     "output_type": "stream",
     "text": [
      "0\n",
      "1\n",
      "2\n",
      "3\n",
      "0\n",
      "1\n",
      "2\n",
      "3\n",
      "0\n",
      "1\n",
      "2\n",
      "3\n"
     ]
    }
   ],
   "source": [
    "print_3(lst)"
   ]
  },
  {
   "cell_type": "markdown",
   "id": "51d13f8a",
   "metadata": {},
   "source": [
    "We can see that the first function will print O(n) items and the second will print O(3n) items. However for n going to inifinity the constant can be dropped, since it will not have a large effect, so both functions are O(n).\n",
    "\n",
    "Let's see a more complex example of this:"
   ]
  },
  {
   "cell_type": "code",
   "execution_count": 17,
   "id": "bbb7622a",
   "metadata": {
    "ExecuteTime": {
     "end_time": "2023-04-29T22:10:58.019719Z",
     "start_time": "2023-04-29T22:10:58.007525Z"
    }
   },
   "outputs": [],
   "source": [
    "def comp(lst):\n",
    "    '''\n",
    "    This function prints the first item O(1)\n",
    "    Then is prints the first 1/2 of the list O(n/2)\n",
    "    Then prints a string 10 times O(10)\n",
    "    '''\n",
    "    print(lst[0])\n",
    "    \n",
    "    midpoint = len(lst) // 2\n",
    "    \n",
    "    for val in lst[:midpoint]:\n",
    "        print(val)\n",
    "        \n",
    "    for x in range(10):\n",
    "        print('number')"
   ]
  },
  {
   "cell_type": "code",
   "execution_count": 18,
   "id": "47cd615f",
   "metadata": {
    "ExecuteTime": {
     "end_time": "2023-04-29T22:10:58.035221Z",
     "start_time": "2023-04-29T22:10:58.024172Z"
    }
   },
   "outputs": [
    {
     "name": "stdout",
     "output_type": "stream",
     "text": [
      "1\n",
      "1\n",
      "2\n",
      "3\n",
      "4\n",
      "5\n",
      "number\n",
      "number\n",
      "number\n",
      "number\n",
      "number\n",
      "number\n",
      "number\n",
      "number\n",
      "number\n",
      "number\n"
     ]
    }
   ],
   "source": [
    "lst = [1,2,3,4,5,6,7,8,9,10]\n",
    "\n",
    "comp(lst)"
   ]
  },
  {
   "cell_type": "markdown",
   "id": "f39ecf03",
   "metadata": {},
   "source": [
    "So let's break down the operations here. We can combine each operation to get the total Big-O of the function:\n",
    "\n",
    "$$O(1 + n/2 + 10)$$\n",
    "\n",
    "We can see that as n grows larger the 1 and 10 terms become insignificant and the 1/2 term multiplied against n will also not have much of an effect as n goes towards infinity. This means the function is simply O(n)!"
   ]
  },
  {
   "cell_type": "markdown",
   "id": "a0c61b1b",
   "metadata": {},
   "source": [
    "### Worst Case vs Best Case\n",
    "\n",
    "Many times we are only concerned with the worst possible case of an algorithm, but in an interview setting its important to keep in mind that worst case and best case scenarios may be completely different Big-O times. For example, consider the following function:"
   ]
  },
  {
   "cell_type": "code",
   "execution_count": 19,
   "id": "61cd5171",
   "metadata": {
    "ExecuteTime": {
     "end_time": "2023-04-29T22:10:58.050817Z",
     "start_time": "2023-04-29T22:10:58.036721Z"
    }
   },
   "outputs": [],
   "source": [
    "def matcher(lst,match):\n",
    "    '''\n",
    "    Given a list lst, return a boolean indicating if match item is in the list\n",
    "    '''\n",
    "    for item in lst:\n",
    "        if item == match:\n",
    "            return True\n",
    "    return False"
   ]
  },
  {
   "cell_type": "code",
   "execution_count": 20,
   "id": "943aa6e2",
   "metadata": {
    "ExecuteTime": {
     "end_time": "2023-04-29T22:10:58.066096Z",
     "start_time": "2023-04-29T22:10:58.054135Z"
    }
   },
   "outputs": [
    {
     "data": {
      "text/plain": [
       "[1, 2, 3, 4, 5, 6, 7, 8, 9, 10]"
      ]
     },
     "execution_count": 20,
     "metadata": {},
     "output_type": "execute_result"
    }
   ],
   "source": [
    "lst"
   ]
  },
  {
   "cell_type": "code",
   "execution_count": 21,
   "id": "7a091fd7",
   "metadata": {
    "ExecuteTime": {
     "end_time": "2023-04-29T22:10:58.081814Z",
     "start_time": "2023-04-29T22:10:58.068815Z"
    }
   },
   "outputs": [
    {
     "data": {
      "text/plain": [
       "True"
      ]
     },
     "execution_count": 21,
     "metadata": {},
     "output_type": "execute_result"
    }
   ],
   "source": [
    "matcher(lst,1)"
   ]
  },
  {
   "cell_type": "code",
   "execution_count": 22,
   "id": "86e0156c",
   "metadata": {
    "ExecuteTime": {
     "end_time": "2023-04-29T22:10:58.097150Z",
     "start_time": "2023-04-29T22:10:58.083923Z"
    }
   },
   "outputs": [
    {
     "data": {
      "text/plain": [
       "False"
      ]
     },
     "execution_count": 22,
     "metadata": {},
     "output_type": "execute_result"
    }
   ],
   "source": [
    "matcher(lst,11)"
   ]
  },
  {
   "cell_type": "markdown",
   "id": "942837ea",
   "metadata": {},
   "source": [
    "Note that in the first scenario, the best case was actually O(1), since the match was found at the first element. In the case where there is no match, every element must be checked, this results in a worst case time of O(n). Later on we will also discuss average case time.\n",
    "\n",
    "Finally let's introduce the concept of space complexity.\n",
    "\n",
    "## Space Complexity\n",
    "\n",
    "Many times we are also concerned with how much memory/space an algorithm uses. The notation of space complexity is the same, but instead of checking the time of operations, we check the size of the allocation of memory.\n",
    "\n",
    "Let's see a few examples:"
   ]
  },
  {
   "cell_type": "code",
   "execution_count": 23,
   "id": "d93cb174",
   "metadata": {
    "ExecuteTime": {
     "end_time": "2023-04-29T22:10:58.112512Z",
     "start_time": "2023-04-29T22:10:58.101549Z"
    }
   },
   "outputs": [],
   "source": [
    "def printer(n=10):\n",
    "    '''\n",
    "    Prints \"hello world!\" n times\n",
    "    '''\n",
    "    for x in range(n):\n",
    "        print('Hello World!')"
   ]
  },
  {
   "cell_type": "code",
   "execution_count": 24,
   "id": "79141d4b",
   "metadata": {
    "ExecuteTime": {
     "end_time": "2023-04-29T22:10:58.128454Z",
     "start_time": "2023-04-29T22:10:58.114501Z"
    }
   },
   "outputs": [
    {
     "name": "stdout",
     "output_type": "stream",
     "text": [
      "Hello World!\n",
      "Hello World!\n",
      "Hello World!\n",
      "Hello World!\n",
      "Hello World!\n",
      "Hello World!\n",
      "Hello World!\n",
      "Hello World!\n",
      "Hello World!\n",
      "Hello World!\n"
     ]
    }
   ],
   "source": [
    "printer()"
   ]
  },
  {
   "cell_type": "markdown",
   "id": "47a1e04e",
   "metadata": {},
   "source": [
    "Note how we only assign the 'hello world!' variable once, not every time we print. So the algorithm has O(1) **space** complexity and an O(n) **time** complexity. \n",
    "\n",
    "Let's see an example of O(n) **space** complexity:"
   ]
  },
  {
   "cell_type": "code",
   "execution_count": 25,
   "id": "05fd7260",
   "metadata": {
    "ExecuteTime": {
     "end_time": "2023-04-29T22:10:58.144502Z",
     "start_time": "2023-04-29T22:10:58.131444Z"
    }
   },
   "outputs": [],
   "source": [
    "def create_list(n):\n",
    "    new_list = []\n",
    "    \n",
    "    for num in range(n):\n",
    "        new_list.append('new')\n",
    "    \n",
    "    return new_list"
   ]
  },
  {
   "cell_type": "code",
   "execution_count": 26,
   "id": "ff7f051e",
   "metadata": {
    "ExecuteTime": {
     "end_time": "2023-04-29T22:10:58.159981Z",
     "start_time": "2023-04-29T22:10:58.147019Z"
    }
   },
   "outputs": [
    {
     "name": "stdout",
     "output_type": "stream",
     "text": [
      "['new', 'new', 'new', 'new', 'new']\n"
     ]
    }
   ],
   "source": [
    "print(create_list(5))"
   ]
  },
  {
   "cell_type": "markdown",
   "id": "9f858d52",
   "metadata": {},
   "source": [
    "Note how the size of the new_list object scales with the input **n**, this shows that it is an O(n) algorithm with regards to **space** complexity.\n",
    "_____\n",
    "\n",
    "Thats it for this lecture, before continuing on, make sure to complete the homework assignment below:"
   ]
  },
  {
   "cell_type": "markdown",
   "id": "d54dcb81",
   "metadata": {},
   "source": [
    "### Homework Assignment\n",
    "\n",
    "Your homework assignment after this lecture is to read the fantastic explanations of Big-O at these two sources:\n",
    "\n",
    "* [Big-O Notation Explained](http://stackoverflow.com/questions/487258/plain-english-explanation-of-big-o/487278#487278)\n",
    "\n",
    "* [Big-O Examples Explained](http://stackoverflow.com/questions/2307283/what-does-olog-n-mean-exactly)\n",
    "\n",
    "* [Big-O Reference Cheat Sheet](https://www.bigocheatsheet.com/)"
   ]
  },
  {
   "cell_type": "markdown",
   "id": "14434045",
   "metadata": {},
   "source": [
    "## Summary \n",
    "\n",
    "It shows how an algorithm scales based on input size.\n",
    "\n",
    "**O(n^2^)**: known as **Quadratic complexity**\n",
    "\n",
    "-   1 item: 1 operations\n",
    "-   10 items: 100 operations\n",
    "-   100 items: 10,000 operations\n",
    "\n",
    "Notice that the number of items increases by a factor of 10, but the time increases by a factor of 10^2^. Basically, n=10 and so O(n^2^) gives us the scaling factor n^2^ which is 10^2^.\n",
    "\n",
    "**O(n)**: known as **Linear complexity**\n",
    "\n",
    "-   1 item: 1 operation\n",
    "-   10 items: 10 operations\n",
    "-   100 items: 100 operations\n",
    "\n",
    "This time the number of items increases by a factor of 10, and so does the time. n=10 and so O(n)'s scaling factor is 10.\n",
    "\n",
    "**O(1)**: known as **Constant complexity**\n",
    "\n",
    "-   1 item: 1 operations\n",
    "-   10 items: 1 operations\n",
    "-   100 items: 1 operations\n",
    "\n",
    "The number of items is still increasing by a factor of 10, but the scaling factor of O(1) is always 1.\n",
    "\n",
    "**O(log n)**: known as **Logarithmic complexity**\n",
    "\n",
    "-   1 item: 1 operations\n",
    "-   10 items: 2 operations\n",
    "-   100 items: 3 operations\n",
    "-   1000 items: 4 operations\n",
    "-   10,000 items: 5 operations\n",
    "\n",
    "The number of computations is only increased by a log of the input value. So in this case, assuming each computation takes 1 second, the log of the input `n` is the time required, hence `log n`.\n",
    "\n",
    "That's the gist of it. They reduce the maths down so it might not be exactly n^2^ or whatever they say it is, but that'll be the dominating factor in the scaling."
   ]
  },
  {
   "cell_type": "markdown",
   "id": "6c062bb2",
   "metadata": {},
   "source": [
    "## Big O for Python Data Structures\n",
    "In this lecture we will go over the Big O of built-in data structures in Python: Lists and Dictionaries."
   ]
  },
  {
   "cell_type": "markdown",
   "id": "59cf47c3",
   "metadata": {},
   "source": [
    "### Lists\n",
    "\n",
    "In Python lists act as dynamic arrays and support a number of common operations through methods called on them. The two most common operations performed on a list are indexing and assigning to an index position. These operations are both designed to be run in constant time, O(1).\n",
    "\n",
    "Let's imagine you wanted to test different methods to construct a list that is [0,1,2...10000]. Let go ahead and compare various methods, such as appending to the end of a list, concatenating a list, or using tools such as casting and list comprehension.\n",
    "\n",
    "For example:"
   ]
  },
  {
   "cell_type": "code",
   "execution_count": 27,
   "id": "364772ee",
   "metadata": {
    "ExecuteTime": {
     "end_time": "2023-04-29T22:10:58.175949Z",
     "start_time": "2023-04-29T22:10:58.168950Z"
    }
   },
   "outputs": [],
   "source": [
    "def method1():\n",
    "    l = []\n",
    "    for n in range(10000):\n",
    "        l = l + [n]\n",
    "\n",
    "def method2():\n",
    "    l = []\n",
    "    for n in range(10000):\n",
    "        l.append(n)\n",
    "\n",
    "def method3():\n",
    "    l = [n for n in range(10000)]\n",
    "\n",
    "def method4():\n",
    "    l = list(range(10000))"
   ]
  },
  {
   "cell_type": "markdown",
   "id": "ecafd170",
   "metadata": {
    "ExecuteTime": {
     "end_time": "2023-04-29T07:07:14.136648Z",
     "start_time": "2023-04-29T07:07:14.118424Z"
    }
   },
   "source": [
    "Let's now test these methods using the timeit magic function:"
   ]
  },
  {
   "cell_type": "code",
   "execution_count": 28,
   "id": "740399a5",
   "metadata": {
    "ExecuteTime": {
     "end_time": "2023-04-29T22:11:14.482241Z",
     "start_time": "2023-04-29T22:10:58.179297Z"
    }
   },
   "outputs": [
    {
     "name": "stdout",
     "output_type": "stream",
     "text": [
      "153 ms ± 30.6 ms per loop (mean ± std. dev. of 7 runs, 1 loop each)\n",
      "530 µs ± 36.2 µs per loop (mean ± std. dev. of 7 runs, 1,000 loops each)\n",
      "266 µs ± 57.3 µs per loop (mean ± std. dev. of 7 runs, 1,000 loops each)\n",
      "101 µs ± 10.2 µs per loop (mean ± std. dev. of 7 runs, 10,000 loops each)\n"
     ]
    }
   ],
   "source": [
    "%timeit method1()\n",
    "%timeit method2()\n",
    "%timeit method3()\n",
    "%timeit method4()"
   ]
  },
  {
   "cell_type": "markdown",
   "id": "41a718d7",
   "metadata": {},
   "source": [
    "We can clearly see that the most effective method is the built-in range() function in Python!\n",
    "\n",
    "It is important to keep these factors in mind when writing efficient code. More importantly begin thinking about how we are able to index with O(1). We will discuss this in more detail when we cover arrays general. For now, take a look at the table below for an overview of Big-O efficiencies."
   ]
  },
  {
   "cell_type": "markdown",
   "id": "84799325",
   "metadata": {},
   "source": [
    "#### Table of Big-O for common list operations\n",
    "\n",
    "** Please note, in order to see this table, you may need to download this .ipynb file and view it locally, sometimes GitHub or nbveiwer have trouble showing the HTML for it... **"
   ]
  },
  {
   "cell_type": "markdown",
   "id": "56a5acc7",
   "metadata": {},
   "source": [
    "| Operation        | Big-O Efficiency |\n",
    "|------------------|-----------------|\n",
    "| index []         | O(1)            |\n",
    "| index assignment | O(1)            |\n",
    "| append           | O(1)            |\n",
    "| pop()            | O(1)            |\n",
    "| pop(i)           | O(n)            |\n",
    "| insert(i, item)  | O(n)            |\n",
    "| del operator     | O(n)            |\n",
    "| iteration        | O(n)            |\n",
    "| contains (in)    | O(n)            |\n",
    "| get slice [x:y]  | O(k)            |\n",
    "| del slice        | O(n)            |\n",
    "| set slice        | O(n+k)          |\n",
    "| reverse          | O(n)            |\n",
    "| concatenate      | O(k)            |\n",
    "| sort             | O(n log n)      |\n",
    "| multiply         | O(nk)           |"
   ]
  },
  {
   "cell_type": "markdown",
   "id": "3f5e55ca",
   "metadata": {},
   "source": [
    "| Data Structures    | Space Complexity | Access   | Search   | Insertion | Deletion |\n",
    "|--------------------|------------------|----------|----------|-----------|----------|\n",
    "| Array              | O(n)             | O(1)     | O(n)     | O(n)      | O(n)     |\n",
    "| Stack              | O(n)             | O(n)     | O(n)     | O(1)      | O(1)     |\n",
    "| Queue              | O(n)             | O(n)     | O(n)     | O(1)      | O(1)     |\n",
    "| Singly Linked List | O(n)             | O(n)     | O(n)     | O(1)      | O(1)     |\n",
    "| Doubly Linked List | O(n)             | O(n)     | O(n)     | O(1)      | O(1)     |\n",
    "| Hash Table         | O(n)             | N/A      | O(1)     | O(1)      | O(1)     |\n",
    "| Binary Search Tree | O(n)             | O(log n) | O(log n) | O(log n)  | O(log n) |"
   ]
  },
  {
   "cell_type": "markdown",
   "id": "07165f5e",
   "metadata": {},
   "source": [
    "### Dictionaries\n",
    "\n",
    "Dictionaries in Python are an implementation of a hash table. They operate with keys and values, for example:"
   ]
  },
  {
   "cell_type": "code",
   "execution_count": 29,
   "id": "72c2020e",
   "metadata": {
    "ExecuteTime": {
     "end_time": "2023-04-29T22:11:14.498433Z",
     "start_time": "2023-04-29T22:11:14.484247Z"
    }
   },
   "outputs": [],
   "source": [
    "d = {'k1':1,'k2':2}"
   ]
  },
  {
   "cell_type": "code",
   "execution_count": 30,
   "id": "829f0f27",
   "metadata": {
    "ExecuteTime": {
     "end_time": "2023-04-29T22:11:14.513626Z",
     "start_time": "2023-04-29T22:11:14.500695Z"
    }
   },
   "outputs": [
    {
     "data": {
      "text/plain": [
       "1"
      ]
     },
     "execution_count": 30,
     "metadata": {},
     "output_type": "execute_result"
    }
   ],
   "source": [
    "d['k1']"
   ]
  },
  {
   "cell_type": "markdown",
   "id": "2eebfdec",
   "metadata": {},
   "source": [
    "Something that is pretty amazing is that getting and setting items in a dictionary are O(1)! Hash tables are designed with efficiency in mind, and we will explore them in much more detail later on in the course as one of the most important data structures to undestand. In the meantime, refer to the table below for Big-O efficiencies of common dictionary operations:"
   ]
  },
  {
   "cell_type": "markdown",
   "id": "c6b607c0",
   "metadata": {},
   "source": [
    "\n",
    "<table border=\"1\">\n",
    "<thead valign=\"bottom\">\n",
    "<tr class=\"row-odd\"><th class=\"head\">Operation</th>\n",
    "<th class=\"head\">Big-O Efficiency</th>\n",
    "</tr>\n",
    "</thead>\n",
    "<tbody valign=\"top\">\n",
    "<tr class=\"row-even\"><td>copy</td>\n",
    "<td>O(n)</td>\n",
    "</tr>\n",
    "<tr class=\"row-odd\"><td>get item</td>\n",
    "<td>O(1)</td>\n",
    "</tr>\n",
    "<tr class=\"row-even\"><td>set item</td>\n",
    "<td>O(1)</td>\n",
    "</tr>\n",
    "<tr class=\"row-odd\"><td>delete item</td>\n",
    "<td>O(1)</td>\n",
    "</tr>\n",
    "<tr class=\"row-even\"><td>contains (in)</td>\n",
    "<td>O(1)</td>\n",
    "</tr>\n",
    "<tr class=\"row-odd\"><td>iteration</td>\n",
    "<td>O(n)</td>\n",
    "</tr>\n",
    "</tbody>\n",
    "</table>"
   ]
  },
  {
   "cell_type": "markdown",
   "id": "91777991",
   "metadata": {},
   "source": [
    "## Conclusion\n",
    "\n",
    "By the end of this section you should have an understanding of how Big-O is used in Algorithm analysis and be able to work out the Big-O of an algorithm you've developed. Get ready, there's a quiz up next!"
   ]
  },
  {
   "cell_type": "markdown",
   "id": "9ab47c4b",
   "metadata": {},
   "source": [
    "## Examples"
   ]
  },
  {
   "cell_type": "code",
   "execution_count": null,
   "id": "54aea0ff",
   "metadata": {},
   "outputs": [],
   "source": []
  },
  {
   "cell_type": "code",
   "execution_count": null,
   "id": "5feb9d2a",
   "metadata": {},
   "outputs": [],
   "source": []
  },
  {
   "cell_type": "code",
   "execution_count": null,
   "id": "a8960ed6",
   "metadata": {},
   "outputs": [],
   "source": []
  },
  {
   "cell_type": "code",
   "execution_count": null,
   "id": "89c1e06f",
   "metadata": {},
   "outputs": [],
   "source": []
  },
  {
   "cell_type": "code",
   "execution_count": null,
   "id": "9560ba25",
   "metadata": {},
   "outputs": [],
   "source": []
  },
  {
   "cell_type": "code",
   "execution_count": null,
   "id": "af12223c",
   "metadata": {},
   "outputs": [],
   "source": []
  },
  {
   "cell_type": "code",
   "execution_count": null,
   "id": "a886078c",
   "metadata": {},
   "outputs": [],
   "source": []
  },
  {
   "cell_type": "markdown",
   "id": "627393a0",
   "metadata": {},
   "source": [
    "# Array "
   ]
  },
  {
   "cell_type": "markdown",
   "id": "ca1e2ac3",
   "metadata": {
    "ExecuteTime": {
     "end_time": "2023-04-29T08:50:49.765212Z",
     "start_time": "2023-04-29T08:50:49.754922Z"
    }
   },
   "source": [
    "## Introduction to Array Based Sequences\n",
    "\n",
    "In this lecture, we will get a brief overview of the \"sequence\" type object classes available in Python. These are mainly the **list**,**tuple**, and **string** objects. The main commonaility between these object types is the ability to index to access individual elements in the sequence. For example:"
   ]
  },
  {
   "cell_type": "code",
   "execution_count": 31,
   "id": "88ed4b5d",
   "metadata": {
    "ExecuteTime": {
     "end_time": "2023-04-29T22:11:14.529337Z",
     "start_time": "2023-04-29T22:11:14.516424Z"
    }
   },
   "outputs": [
    {
     "data": {
      "text/plain": [
       "1"
      ]
     },
     "execution_count": 31,
     "metadata": {},
     "output_type": "execute_result"
    }
   ],
   "source": [
    "l = [1,2,3]\n",
    "l[0]"
   ]
  },
  {
   "cell_type": "code",
   "execution_count": 32,
   "id": "9550ffad",
   "metadata": {
    "ExecuteTime": {
     "end_time": "2023-04-29T22:11:14.544712Z",
     "start_time": "2023-04-29T22:11:14.531407Z"
    }
   },
   "outputs": [
    {
     "data": {
      "text/plain": [
       "1"
      ]
     },
     "execution_count": 32,
     "metadata": {},
     "output_type": "execute_result"
    }
   ],
   "source": [
    "t = (1,2,3)\n",
    "t[0]"
   ]
  },
  {
   "cell_type": "code",
   "execution_count": 33,
   "id": "58fe9bc3",
   "metadata": {
    "ExecuteTime": {
     "end_time": "2023-04-29T22:11:14.559828Z",
     "start_time": "2023-04-29T22:11:14.546871Z"
    }
   },
   "outputs": [
    {
     "data": {
      "text/plain": [
       "'1'"
      ]
     },
     "execution_count": 33,
     "metadata": {},
     "output_type": "execute_result"
    }
   ],
   "source": [
    "s = '123'\n",
    "s[0]"
   ]
  },
  {
   "cell_type": "markdown",
   "id": "bdbbd304",
   "metadata": {},
   "source": [
    "An array is a collection of items stored at contiguous memory locations. The idea is to store multiple items of the same type together. This makes it easier to calculate the position of each element by simply adding an offset to a base value, i.e., the memory location of the first element of the array (generally denoted by the name of the array).\n",
    "\n",
    "or simplicity, we can think of an array a fleet of stairs where on each step is placed a value (let’s say one of your friends). Here, you can identify the location of any of your friends by simply knowing the count of the step they are on. Array can be handled in Python by a module named array. They can be useful when we have to manipulate only a specific data type values. A user can treat lists as arrays. However, user cannot constraint the type of elements stored in a list. If you create arrays using the array module, all elements of the array must be of the same type.\n",
    "![title](https://media.geeksforgeeks.org/wp-content/uploads/CommonArticleDesign1-min.png)\n",
    "\n",
    "Array in Python can be created by importing array module. array(data_type, value_list) is used to create an array with data type and value list specified in its arguments."
   ]
  },
  {
   "cell_type": "code",
   "execution_count": 34,
   "id": "96d72207",
   "metadata": {
    "ExecuteTime": {
     "end_time": "2023-04-29T22:11:14.575405Z",
     "start_time": "2023-04-29T22:11:14.561915Z"
    }
   },
   "outputs": [
    {
     "name": "stdout",
     "output_type": "stream",
     "text": [
      "The new created array is :  1 2 3 \n",
      "The new created array is :  2.5 3.2 3.3 "
     ]
    }
   ],
   "source": [
    "# Python program to demonstrate\n",
    "# Creation of Array\n",
    "\n",
    "# importing \"array\" for array creations\n",
    "import array as arr\n",
    "\n",
    "# creating an array with integer type\n",
    "a = arr.array('i', [1, 2, 3])\n",
    "\n",
    "# printing original array\n",
    "print(\"The new created array is : \", end=\" \")\n",
    "for i in range(0, 3):\n",
    "    print(a[i], end=\" \")\n",
    "print()\n",
    "\n",
    "# creating an array with float type\n",
    "b = arr.array('d', [2.5, 3.2, 3.3])\n",
    "\n",
    "# printing original array\n",
    "print(\"The new created array is : \", end=\" \")\n",
    "for i in range(0, 3):\n",
    "    print(b[i], end=\" \")"
   ]
  },
  {
   "cell_type": "markdown",
   "id": "2ccf3e12",
   "metadata": {},
   "source": [
    "## creating an array of different data types\n",
    "\n",
    "**Some of the data types are mentioned below which will help in creating an array of different data types**\n",
    "![title](https://media.geeksforgeeks.org/wp-content/uploads/CommonArticleDesign2-min.png)"
   ]
  },
  {
   "cell_type": "markdown",
   "id": "a75c73ce",
   "metadata": {},
   "source": [
    "## Adding elements in array\n",
    "Elements can be added to the Array by using built-in **insert()** function. Insert is used to insert one or more data elements into an array. Based on the requirement, a new element can be added at the beginning, end, or any given index of **array. append()** is also used to add the value mentioned in its arguments at the end of the array."
   ]
  },
  {
   "cell_type": "code",
   "execution_count": 35,
   "id": "38941621",
   "metadata": {
    "ExecuteTime": {
     "end_time": "2023-04-29T22:11:14.591316Z",
     "start_time": "2023-04-29T22:11:14.577191Z"
    }
   },
   "outputs": [
    {
     "name": "stdout",
     "output_type": "stream",
     "text": [
      "Array before insertion :  1 2 3 \n",
      "Array after insertion :  1 4 2 3 \n",
      "Array before insertion :  2.5 3.2 3.3 \n",
      "Array after insertion :  2.5 3.2 3.3 4.4 \n"
     ]
    }
   ],
   "source": [
    "# Python program to demonstrate\n",
    "# Adding Elements to a Array\n",
    "\n",
    "# importing \"array\" for array creations\n",
    "import array as arr\n",
    "\n",
    "# array with int type\n",
    "a = arr.array('i', [1, 2, 3])\n",
    "\n",
    "print(\"Array before insertion : \", end=\" \")\n",
    "for i in range(0, 3):\n",
    "    print(a[i], end=\" \")\n",
    "print()\n",
    "\n",
    "# inserting array using\n",
    "# insert() function\n",
    "a.insert(1, 4)\n",
    "\n",
    "print(\"Array after insertion : \", end=\" \")\n",
    "for i in (a):\n",
    "    print(i, end=\" \")\n",
    "print()\n",
    "\n",
    "# array with float type\n",
    "b = arr.array('d', [2.5, 3.2, 3.3])\n",
    "\n",
    "print(\"Array before insertion : \", end=\" \")\n",
    "for i in range(0, 3):\n",
    "    print(b[i], end=\" \")\n",
    "print()\n",
    "\n",
    "# adding an element using append()\n",
    "b.append(4.4)\n",
    "\n",
    "print(\"Array after insertion : \", end=\" \")\n",
    "for i in (b):\n",
    "    print(i, end=\" \")\n",
    "print()"
   ]
  },
  {
   "cell_type": "markdown",
   "id": "5a597ca3",
   "metadata": {},
   "source": [
    "## Removing Elements from array\n",
    "elements can be removed from the array by using built-in **remove()** function but an **Error arises if element doesn’t exist in the set**. **Remove() method only removes one element at a time,** to **remove range of elements, iterator is used.pop()** function can also be used to **remove and return an element from the array**, but by default it removes only the last element of the array, to remove element from a specific position of the array, index of the element is passed as an argument to the pop() method.\n",
    "\n",
    "**Note– Remove method in List will only remove the first occurrence of the searched element.**"
   ]
  },
  {
   "cell_type": "code",
   "execution_count": 36,
   "id": "666dcac2",
   "metadata": {
    "ExecuteTime": {
     "end_time": "2023-04-29T22:11:14.606943Z",
     "start_time": "2023-04-29T22:11:14.592710Z"
    }
   },
   "outputs": [
    {
     "name": "stdout",
     "output_type": "stream",
     "text": [
      "The new created array is : 1 2 3 1 5 \r\n",
      "The popped element is : 3\n",
      "The array after popping is : 1 2 1 5 \r\n",
      "The array after removing is : 2 1 5 "
     ]
    }
   ],
   "source": [
    "# Python program to demonstrate\n",
    "# Removal of elements in a Array\n",
    "\n",
    "# importing \"array\" for array operations\n",
    "import array\n",
    "\n",
    "# initializing array with array values\n",
    "# initializes array with signed integers\n",
    "arr = array.array('i', [1, 2, 3, 1, 5])\n",
    "\n",
    "# printing original array\n",
    "print(\"The new created array is : \", end=\"\")\n",
    "for i in range(0, 5):\n",
    "    print(arr[i], end=\" \")\n",
    "\n",
    "print(\"\\r\")\n",
    "\n",
    "# using pop() to remove element at 2nd position\n",
    "print(\"The popped element is : \", end=\"\")\n",
    "print(arr.pop(2))\n",
    "\n",
    "# printing array after popping\n",
    "print(\"The array after popping is : \", end=\"\")\n",
    "for i in range(0, 4):\n",
    "    print(arr[i], end=\" \")\n",
    "\n",
    "print(\"\\r\")\n",
    "\n",
    "# using remove() to remove 1st occurrence of 1\n",
    "arr.remove(1)\n",
    "\n",
    "# printing array after removing\n",
    "print(\"The array after removing is : \", end=\"\")\n",
    "for i in range(0, 3):\n",
    "    print(arr[i], end=\" \")"
   ]
  },
  {
   "cell_type": "markdown",
   "id": "f709d5ab",
   "metadata": {},
   "source": [
    "## Slicing of a Array\n",
    "we use Slice operation. Slice operation is performed on array with the use of colon(:). To print elements from beginning to a range use [:Index], to print elements from end use [:-Index], to print elements from specific Index till the end use [Index:], to print elements within a range, use [Start Index:End Index] and to print whole List with the use of slicing operation, use [:]. Further, to print whole array in reverse order, use [::-1].\n",
    "\n",
    "![title](https://media.geeksforgeeks.org/wp-content/uploads/CommonArticleDesign3-min.png)"
   ]
  },
  {
   "cell_type": "code",
   "execution_count": 37,
   "id": "b4fe1aad",
   "metadata": {
    "ExecuteTime": {
     "end_time": "2023-04-29T22:11:14.622583Z",
     "start_time": "2023-04-29T22:11:14.609454Z"
    }
   },
   "outputs": [
    {
     "name": "stdout",
     "output_type": "stream",
     "text": [
      "Intial Array: \n",
      "1 2 3 4 5 6 7 8 9 10 \n",
      "Slicing elements in a range 3-8: \n",
      "array('i', [4, 5, 6, 7, 8])\n",
      "\n",
      "Elements sliced from 5th element till the end: \n",
      "array('i', [6, 7, 8, 9, 10])\n",
      "\n",
      "Printing all elements using slice operation: \n",
      "array('i', [1, 2, 3, 4, 5, 6, 7, 8, 9, 10])\n"
     ]
    }
   ],
   "source": [
    "# Python program to demonstrate\n",
    "# silicing of elements in a Array\n",
    "\n",
    "# importing array module\n",
    "import array as arr\n",
    "\n",
    "# creating a list\n",
    "l = [1, 2, 3, 4, 5, 6, 7, 8, 9, 10]\n",
    "\n",
    "a = arr.array('i', l)\n",
    "print(\"Intial Array: \")\n",
    "for i in (a):\n",
    "    print(i, end=\" \")\n",
    "\n",
    "# Print elements of a range\n",
    "# using Slice operation\n",
    "Sliced_array = a[3:8]\n",
    "print(\"\\nSlicing elements in a range 3-8: \")\n",
    "print(Sliced_array)\n",
    "\n",
    "# Print elements from a\n",
    "# pre-defined point to end\n",
    "Sliced_array = a[5:]\n",
    "print(\"\\nElements sliced from 5th \" \"element till the end: \")\n",
    "print(Sliced_array)\n",
    "\n",
    "# Printing elements from\n",
    "# beginning till end\n",
    "Sliced_array = a[:]\n",
    "print(\"\\nPrinting all elements using slice operation: \")\n",
    "print(Sliced_array)"
   ]
  },
  {
   "cell_type": "markdown",
   "id": "630bbbed",
   "metadata": {},
   "source": [
    "## Searching element in a Array\n",
    "In order to search an element in the array we use a python in-built **index()** method. This function returns the index of the first occurrence of value mentioned in arguments."
   ]
  },
  {
   "cell_type": "code",
   "execution_count": 38,
   "id": "81da0bfb",
   "metadata": {
    "ExecuteTime": {
     "end_time": "2023-04-29T22:11:14.637300Z",
     "start_time": "2023-04-29T22:11:14.626267Z"
    }
   },
   "outputs": [
    {
     "name": "stdout",
     "output_type": "stream",
     "text": [
      "The new created array is : 1 2 3 1 2 5 \r\n",
      "The index of 1st occurrence of 2 is : 1\n",
      "The index of 1st occurrence of 1 is : 0\n"
     ]
    }
   ],
   "source": [
    "# Python code to demonstrate\n",
    "# searching an element in array\n",
    "\n",
    "# importing array module\n",
    "import array\n",
    "\n",
    "# initializing array with array values\n",
    "# initializes array with signed integers\n",
    "arr = array.array('i', [1, 2, 3, 1, 2, 5])\n",
    "\n",
    "# printing original array\n",
    "print(\"The new created array is : \", end=\"\")\n",
    "for i in range(0, 6):\n",
    "    print(arr[i], end=\" \")\n",
    "\n",
    "print(\"\\r\")\n",
    "\n",
    "# using index() to print index of 1st occurrenece of 2\n",
    "print(\"The index of 1st occurrence of 2 is : \", end=\"\")\n",
    "print(arr.index(2))\n",
    "\n",
    "# using index() to print index of 1st occurrenece of 1\n",
    "print(\"The index of 1st occurrence of 1 is : \", end=\"\")\n",
    "print(arr.index(1))"
   ]
  },
  {
   "cell_type": "markdown",
   "id": "d98227c5",
   "metadata": {},
   "source": [
    "## Updating Elements in a Array\n",
    "In order to update an element in the array we simply reassign a new value to the desired index we want to update."
   ]
  },
  {
   "cell_type": "code",
   "execution_count": 39,
   "id": "3177d6e0",
   "metadata": {
    "ExecuteTime": {
     "end_time": "2023-04-29T22:11:14.652637Z",
     "start_time": "2023-04-29T22:11:14.639681Z"
    }
   },
   "outputs": [
    {
     "name": "stdout",
     "output_type": "stream",
     "text": [
      "Array before updation : 1 2 3 1 2 5 \r\n",
      "Array after updation : 1 2 6 1 2 5 \n",
      "Array after updation : 1 2 6 1 8 5 "
     ]
    }
   ],
   "source": [
    "# Python code to demonstrate\n",
    "# how to update an element in array\n",
    "\n",
    "# importing array module\n",
    "import array\n",
    "\n",
    "# initializing array with array values\n",
    "# initializes array with signed integers\n",
    "arr = array.array('i', [1, 2, 3, 1, 2, 5])\n",
    "\n",
    "# printing original array\n",
    "print(\"Array before updation : \", end=\"\")\n",
    "for i in range(0, 6):\n",
    "    print(arr[i], end=\" \")\n",
    "\n",
    "print(\"\\r\")\n",
    "\n",
    "# updating a element in a array\n",
    "arr[2] = 6\n",
    "print(\"Array after updation : \", end=\"\")\n",
    "for i in range(0, 6):\n",
    "    print(arr[i], end=\" \")\n",
    "print()\n",
    "\n",
    "# updating a element in a array\n",
    "arr[4] = 8\n",
    "print(\"Array after updation : \", end=\"\")\n",
    "for i in range(0, 6):\n",
    "    print(arr[i], end=\" \")"
   ]
  },
  {
   "cell_type": "markdown",
   "id": "94dbf142",
   "metadata": {},
   "source": [
    "# Object-Oriented Programming (OOP)"
   ]
  },
  {
   "cell_type": "markdown",
   "id": "60537c50",
   "metadata": {},
   "source": [
    "- Object-Oriented Programming is a fundamental programming paradigm based on the concepts of objects and classes that can perform certain operations through their methods.\n",
    "- It aims to implement real-world entities like inheritance, polymorphisms, encapsulation, etc. in the programming. \n",
    "- The main concept of OOPs is to bind the data and the functions that work on that together as a single unit so that no other part of the code can access this data.\n",
    "- [Python Programming And Numerical Methods: A Guide For Engineers And Scientists](https://pythonnumericalmethods.berkeley.edu/notebooks/Index.html)"
   ]
  },
  {
   "cell_type": "markdown",
   "id": "159faaf0",
   "metadata": {},
   "source": [
    "**Main Concepts of Object-Oriented Programming (OOPs)**\n",
    "\n",
    "- Class\n",
    "- Objects\n",
    "- Polymorphism\n",
    "- Encapsulation\n",
    "- Inheritance\n",
    "- Data Abstraction"
   ]
  },
  {
   "cell_type": "code",
   "execution_count": null,
   "id": "b95636f0",
   "metadata": {},
   "outputs": [],
   "source": []
  },
  {
   "cell_type": "markdown",
   "id": "114d8b58",
   "metadata": {},
   "source": [
    "## Class"
   ]
  },
  {
   "cell_type": "markdown",
   "id": "366a4f90",
   "metadata": {},
   "source": [
    "- Classes are a way of combining information and behavior. \n",
    "- A class is more or less a blueprint of an object. \n",
    "- A class defines all the attributes and methods a certain object can attain. \n",
    "\n",
    "For example, **a class for a `Item` could contain *attributes* such as `name`, `price`, `quantity` etc.** and also contain methods which could perform any desired operations on these attributes."
   ]
  },
  {
   "cell_type": "code",
   "execution_count": 40,
   "id": "9cfdd704",
   "metadata": {
    "ExecuteTime": {
     "end_time": "2023-04-29T22:11:14.668454Z",
     "start_time": "2023-04-29T22:11:14.655278Z"
    }
   },
   "outputs": [],
   "source": [
    "item1=\"Phone\"\n",
    "item1_price=100\n",
    "item1_quantity=5\n",
    "item1_price_total=item1_price * item1_quantity\n"
   ]
  },
  {
   "cell_type": "code",
   "execution_count": 41,
   "id": "2852662d",
   "metadata": {
    "ExecuteTime": {
     "end_time": "2023-04-29T22:11:14.683546Z",
     "start_time": "2023-04-29T22:11:14.672770Z"
    }
   },
   "outputs": [
    {
     "name": "stdout",
     "output_type": "stream",
     "text": [
      "500\n"
     ]
    }
   ],
   "source": [
    "print(item1_price_total)"
   ]
  },
  {
   "cell_type": "code",
   "execution_count": 42,
   "id": "99f88b69",
   "metadata": {
    "ExecuteTime": {
     "end_time": "2023-04-29T22:11:14.699328Z",
     "start_time": "2023-04-29T22:11:14.686162Z"
    }
   },
   "outputs": [
    {
     "name": "stdout",
     "output_type": "stream",
     "text": [
      "<class 'str'>\n",
      "<class 'int'>\n",
      "<class 'int'>\n",
      "<class 'int'>\n"
     ]
    }
   ],
   "source": [
    "print(type(item1))\n",
    "print(type(item1_price))\n",
    "print(type(item1_quantity))\n",
    "print(type(item1_price_total))"
   ]
  },
  {
   "cell_type": "markdown",
   "id": "6cda214c",
   "metadata": {},
   "source": [
    "Above example can be defines as Item class as:"
   ]
  },
  {
   "cell_type": "code",
   "execution_count": 43,
   "id": "4177e3c2",
   "metadata": {
    "ExecuteTime": {
     "end_time": "2023-04-29T22:11:14.715156Z",
     "start_time": "2023-04-29T22:11:14.701121Z"
    }
   },
   "outputs": [],
   "source": [
    " class Item:\n",
    "        pass\n",
    "    "
   ]
  },
  {
   "cell_type": "code",
   "execution_count": 44,
   "id": "712532cb",
   "metadata": {
    "ExecuteTime": {
     "end_time": "2023-04-29T22:11:14.731168Z",
     "start_time": "2023-04-29T22:11:14.717081Z"
    },
    "run_control": {
     "marked": false
    }
   },
   "outputs": [],
   "source": [
    "item1 = Item()\n",
    "\n",
    "item1.name = \"Phone\"\n",
    "item1.price = 100\n",
    "item1.quantity = 5\n",
    "\n",
    "\n",
    "item2 = Item()\n",
    "\n",
    "item2.name = \"Laptop\"\n",
    "item2.price = 1000\n",
    "item2.quantity = 1"
   ]
  },
  {
   "cell_type": "code",
   "execution_count": 45,
   "id": "848f5bd7",
   "metadata": {
    "ExecuteTime": {
     "end_time": "2023-04-29T22:11:14.746805Z",
     "start_time": "2023-04-29T22:11:14.734310Z"
    },
    "run_control": {
     "marked": false
    }
   },
   "outputs": [
    {
     "name": "stdout",
     "output_type": "stream",
     "text": [
      "<class '__main__.Item'>\n",
      "<class 'str'>\n",
      "<class 'int'>\n",
      "<class 'int'>\n",
      "<class '__main__.Item'>\n",
      "<class 'str'>\n",
      "<class 'int'>\n",
      "<class 'int'>\n"
     ]
    }
   ],
   "source": [
    "print(type(item1))\n",
    "print(type(item1.name))\n",
    "print(type(item1.price))\n",
    "print(type(item1.quantity))\n",
    "\n",
    "print(type(item2))\n",
    "print(type(item2.name))\n",
    "print(type(item2.price))\n",
    "print(type(item2.quantity))"
   ]
  },
  {
   "cell_type": "markdown",
   "id": "2e65fa15",
   "metadata": {},
   "source": [
    "## Objects\n",
    "\n",
    "- An object is basically a constituent or member of a class\n",
    "\n",
    "- An object is an instance of the defined class with actual values. \n",
    "- We can have many instances of different values associated with the class, and each of these instances will be independent with each other\n",
    "\n",
    "For example, in above \n",
    "\n",
    "- **a class for a `Item` we can create objects like `item1`, `item2` etc.** \n",
    "\n",
    "- Each object is an instance of the Item class and has a different set of attributes.\n",
    "\n",
    "- In `item1` we can set values for `phone` and item2 for `laptop`."
   ]
  },
  {
   "cell_type": "markdown",
   "id": "b4483b6b",
   "metadata": {},
   "source": [
    "## Attributes\n",
    "\n",
    "- Attributes are elements that provide extra information about classes or objects. \n",
    "\n",
    "- In above example, Item: class; item1, item2: Objets; name, price, quantity: Attributes\n",
    "\n"
   ]
  },
  {
   "cell_type": "markdown",
   "id": "8de62b04",
   "metadata": {},
   "source": [
    "In bellow picture,\n",
    "\n",
    "- Here in this image, we can see there is a rectangle name “Pokemon”. This is basically the name of our class.\n",
    "- Pikachu is an object of Pokemon class.\n",
    "- all those attributes are providing additional information about the Pikachu object like colour, health type, etc."
   ]
  },
  {
   "attachments": {
    "image.png": {
     "image/png": "[encoded data removed]"
    }
   },
   "cell_type": "markdown",
   "id": "7b7e8b63",
   "metadata": {},
   "source": [
    "\n",
    "![image.png](attachment:image.png)"
   ]
  },
  {
   "cell_type": "markdown",
   "id": "22bb3e25",
   "metadata": {
    "ExecuteTime": {
     "end_time": "2023-04-29T20:22:06.102614Z",
     "start_time": "2023-04-29T20:22:06.083172Z"
    }
   },
   "source": [
    "## Writing method in class"
   ]
  },
  {
   "cell_type": "markdown",
   "id": "78fe8994",
   "metadata": {},
   "source": [
    "Methos is same as defining function, but here we call it as method not function."
   ]
  },
  {
   "cell_type": "markdown",
   "id": "c6e0dbbf",
   "metadata": {},
   "source": [
    "### The `self `\n",
    "\n",
    "\n"
   ]
  },
  {
   "cell_type": "markdown",
   "id": "728209af",
   "metadata": {},
   "source": [
    "Lets see below example"
   ]
  },
  {
   "cell_type": "code",
   "execution_count": 46,
   "id": "6e868978",
   "metadata": {
    "ExecuteTime": {
     "end_time": "2023-04-29T22:11:14.762388Z",
     "start_time": "2023-04-29T22:11:14.749880Z"
    }
   },
   "outputs": [],
   "source": [
    "class Item:\n",
    "    def calculate_total_price():\n",
    "        return \"Hellow\"\n",
    "#         pass"
   ]
  },
  {
   "cell_type": "code",
   "execution_count": 47,
   "id": "62f3edd2",
   "metadata": {
    "ExecuteTime": {
     "end_time": "2023-04-29T22:11:14.964678Z",
     "start_time": "2023-04-29T22:11:14.765378Z"
    }
   },
   "outputs": [
    {
     "ename": "TypeError",
     "evalue": "calculate_total_price() takes 0 positional arguments but 1 was given",
     "output_type": "error",
     "traceback": [
      "\u001b[1;31m---------------------------------------------------------------------------\u001b[0m",
      "\u001b[1;31mTypeError\u001b[0m                                 Traceback (most recent call last)",
      "Cell \u001b[1;32mIn[47], line 7\u001b[0m\n\u001b[0;32m      4\u001b[0m item1\u001b[38;5;241m.\u001b[39mprice \u001b[38;5;241m=\u001b[39m \u001b[38;5;241m100\u001b[39m\n\u001b[0;32m      5\u001b[0m item1\u001b[38;5;241m.\u001b[39mquantity \u001b[38;5;241m=\u001b[39m \u001b[38;5;241m5\u001b[39m\n\u001b[1;32m----> 7\u001b[0m \u001b[38;5;28mprint\u001b[39m(\u001b[43mitem1\u001b[49m\u001b[38;5;241;43m.\u001b[39;49m\u001b[43mcalculate_total_price\u001b[49m\u001b[43m(\u001b[49m\u001b[43m)\u001b[49m)\n",
      "\u001b[1;31mTypeError\u001b[0m: calculate_total_price() takes 0 positional arguments but 1 was given"
     ]
    }
   ],
   "source": [
    "\n",
    "item1 = Item()\n",
    "\n",
    "item1.name = \"Phone\"\n",
    "item1.price = 100\n",
    "item1.quantity = 5\n",
    "\n",
    "print(item1.calculate_total_price())"
   ]
  },
  {
   "cell_type": "markdown",
   "id": "412b1f29",
   "metadata": {},
   "source": [
    "- **In above error `calculate_total_price() takes 0 positional arguments but 1 was given`, becouse `item1.calculate_total_price()` take `item1` as an argument.**\n",
    "- **We always have to recieve at least one parameter**\n",
    "- **So it is commen approach to give `self` as an argument.**"
   ]
  },
  {
   "cell_type": "code",
   "execution_count": 48,
   "id": "b2c0a0f2",
   "metadata": {
    "ExecuteTime": {
     "end_time": "2023-04-29T22:11:31.875512Z",
     "start_time": "2023-04-29T22:11:31.869892Z"
    }
   },
   "outputs": [],
   "source": [
    "class Item:\n",
    "    def calculate_total_price(self):\n",
    "        return \"Hi, Here we will calculate total price\"\n",
    "#         pass"
   ]
  },
  {
   "cell_type": "code",
   "execution_count": 49,
   "id": "5d580172",
   "metadata": {
    "ExecuteTime": {
     "end_time": "2023-04-29T22:11:32.233499Z",
     "start_time": "2023-04-29T22:11:32.223528Z"
    }
   },
   "outputs": [
    {
     "name": "stdout",
     "output_type": "stream",
     "text": [
      "Hi, Here we will calculate total price\n"
     ]
    }
   ],
   "source": [
    "\n",
    "item1 = Item()\n",
    "\n",
    "item1.name = \"Phone\"\n",
    "item1.price = 100\n",
    "item1.quantity = 5\n",
    "\n",
    "print(item1.calculate_total_price())"
   ]
  },
  {
   "cell_type": "markdown",
   "id": "f66b39be",
   "metadata": {},
   "source": [
    "In bellow example we are calculating total,"
   ]
  },
  {
   "cell_type": "code",
   "execution_count": 50,
   "id": "1c9157d7",
   "metadata": {
    "ExecuteTime": {
     "end_time": "2023-04-29T22:11:32.530098Z",
     "start_time": "2023-04-29T22:11:32.516385Z"
    }
   },
   "outputs": [],
   "source": [
    "# How to create a class:\n",
    "class Item:\n",
    "    def calculate_total_price(self, x, y):\n",
    "        return x * y\n"
   ]
  },
  {
   "cell_type": "code",
   "execution_count": 51,
   "id": "575cb8e7",
   "metadata": {
    "ExecuteTime": {
     "end_time": "2023-04-29T22:11:33.243403Z",
     "start_time": "2023-04-29T22:11:33.223490Z"
    }
   },
   "outputs": [
    {
     "name": "stdout",
     "output_type": "stream",
     "text": [
      "500\n"
     ]
    }
   ],
   "source": [
    "# How to create an instance of a class\n",
    "item1 = Item()\n",
    "\n",
    "# Assign attributes:\n",
    "item1.name = \"Phone\"\n",
    "item1.price = 100\n",
    "item1.quantity = 5\n",
    "\n",
    "# Calling methods from instances of a class:\n",
    "print(item1.calculate_total_price(item1.price, item1.quantity))"
   ]
  },
  {
   "cell_type": "code",
   "execution_count": 52,
   "id": "d1099ab4",
   "metadata": {
    "ExecuteTime": {
     "end_time": "2023-04-29T22:11:33.630911Z",
     "start_time": "2023-04-29T22:11:33.620042Z"
    }
   },
   "outputs": [
    {
     "name": "stdout",
     "output_type": "stream",
     "text": [
      "3000\n"
     ]
    }
   ],
   "source": [
    "# How to create an instance of a class (We could create as much as instances we'd like to)\n",
    "item2 = Item()\n",
    "\n",
    "# Assign attributes\n",
    "item2.name = \"Laptop\"\n",
    "item2.price = 1000\n",
    "item2.quantity = 3\n",
    "\n",
    "# Calling methods from instances of a class: \n",
    "\n",
    "print(item2.calculate_total_price(item2.price, item2.quantity))"
   ]
  },
  {
   "cell_type": "markdown",
   "id": "d31502d7",
   "metadata": {},
   "source": [
    "### The `__init__()` method \n",
    "\n",
    "- One of the first things you do with a class is to define the `__init__()` method. \n",
    "- **The `__init__()` method sets the values for any parameters that need to be defined when an object is first created.**\n",
    "- It is run as soon as an object of a class is instantiated. \n",
    "- The method is useful to do any initialization you want to do with your object. "
   ]
  },
  {
   "cell_type": "code",
   "execution_count": 53,
   "id": "f0d8694c",
   "metadata": {
    "ExecuteTime": {
     "end_time": "2023-04-29T22:11:34.126761Z",
     "start_time": "2023-04-29T22:11:34.109259Z"
    }
   },
   "outputs": [],
   "source": [
    "class Item:\n",
    "    def __init__(self):\n",
    "        print('I am created')\n",
    "        \n",
    "    def calculate_total_price(self, x, y):\n",
    "        return x * y"
   ]
  },
  {
   "cell_type": "code",
   "execution_count": 54,
   "id": "5307dc05",
   "metadata": {
    "ExecuteTime": {
     "end_time": "2023-04-29T22:11:34.545544Z",
     "start_time": "2023-04-29T22:11:34.532468Z"
    }
   },
   "outputs": [
    {
     "name": "stdout",
     "output_type": "stream",
     "text": [
      "I am created\n",
      "I am created\n"
     ]
    }
   ],
   "source": [
    "item1 = Item()\n",
    "item1.name = \"Phone\"\n",
    "item1.price = 100\n",
    "item1.quantity = 5\n",
    "\n",
    "item2 = Item()\n",
    "item2.name = \"Laptop\"\n",
    "item2.price = 1000\n",
    "item2.quantity = 3"
   ]
  },
  {
   "cell_type": "markdown",
   "id": "d27ded9c",
   "metadata": {},
   "source": [
    "- Here as we created first instance `__init__()` get executed.\n",
    "- Hence whenever we create an instance it call init automatically."
   ]
  },
  {
   "cell_type": "code",
   "execution_count": 55,
   "id": "866fb103",
   "metadata": {
    "ExecuteTime": {
     "end_time": "2023-04-29T22:11:34.889746Z",
     "start_time": "2023-04-29T22:11:34.870932Z"
    }
   },
   "outputs": [],
   "source": [
    "class Item:\n",
    "    def __init__(self, name):\n",
    "        print(f\"An instance created: {name}\")\n",
    "\n",
    "\n",
    "    def calculate_total_price(self, x, y):\n",
    "        return x * y"
   ]
  },
  {
   "cell_type": "code",
   "execution_count": 56,
   "id": "e24eb1d1",
   "metadata": {
    "ExecuteTime": {
     "end_time": "2023-04-29T22:11:35.291692Z",
     "start_time": "2023-04-29T22:11:35.266513Z"
    }
   },
   "outputs": [
    {
     "name": "stdout",
     "output_type": "stream",
     "text": [
      "An instance created: Phone\n",
      "An instance created: Laptop\n"
     ]
    }
   ],
   "source": [
    "item1 = Item('Phone')\n",
    "item1.name = \"Phone\"\n",
    "item1.price = 100\n",
    "item1.quantity = 5\n",
    "\n",
    "item2 = Item('Laptop')\n",
    "item2.name = \"Laptop\"\n",
    "item2.price = 1000\n",
    "item2.quantity = 3"
   ]
  },
  {
   "cell_type": "markdown",
   "id": "18e9d873",
   "metadata": {},
   "source": [
    "Now we can pass other parameter too"
   ]
  },
  {
   "cell_type": "code",
   "execution_count": 57,
   "id": "1cf7077f",
   "metadata": {
    "ExecuteTime": {
     "end_time": "2023-04-29T22:11:35.587637Z",
     "start_time": "2023-04-29T22:11:35.575342Z"
    }
   },
   "outputs": [],
   "source": [
    "class Item:\n",
    "    def __init__(self, name):\n",
    "#         print(f\"An instance created: {name}\")\n",
    "        self.name=name\n",
    "\n",
    "\n",
    "    def calculate_total_price(self, x, y):\n",
    "        return x * y"
   ]
  },
  {
   "cell_type": "markdown",
   "id": "f25784d8",
   "metadata": {},
   "source": [
    "now we dont need to assign name sparately. becouse we have now dynamic attribute assignment."
   ]
  },
  {
   "cell_type": "code",
   "execution_count": 58,
   "id": "2de9053e",
   "metadata": {
    "ExecuteTime": {
     "end_time": "2023-04-29T22:11:35.943824Z",
     "start_time": "2023-04-29T22:11:35.937784Z"
    }
   },
   "outputs": [
    {
     "name": "stdout",
     "output_type": "stream",
     "text": [
      "Phone\n",
      "Laptop\n"
     ]
    }
   ],
   "source": [
    "item1 = Item('Phone')\n",
    "item1.price = 100\n",
    "item1.quantity = 5\n",
    "\n",
    "item2 = Item('Laptop')\n",
    "item2.price = 1000\n",
    "item2.quantity = 3\n",
    "\n",
    "print(item1.name)\n",
    "print(item2.name)"
   ]
  },
  {
   "cell_type": "markdown",
   "id": "10e2b681",
   "metadata": {},
   "source": [
    "Hence we are able to assign attributes dynamically.\n",
    "\n",
    "We can also assign price and quantity."
   ]
  },
  {
   "cell_type": "code",
   "execution_count": 59,
   "id": "aa41e52c",
   "metadata": {
    "ExecuteTime": {
     "end_time": "2023-04-29T22:11:36.345746Z",
     "start_time": "2023-04-29T22:11:36.337774Z"
    }
   },
   "outputs": [],
   "source": [
    "class Item:\n",
    "    def __init__(self, name, price, quantity):\n",
    "        self.name=name\n",
    "        self.price=price\n",
    "        self.quantity=quantity\n",
    "    \n",
    "\n",
    "    def calculate_total_price(self, x, y):\n",
    "        return x * y"
   ]
  },
  {
   "cell_type": "code",
   "execution_count": 60,
   "id": "974f2fc7",
   "metadata": {
    "ExecuteTime": {
     "end_time": "2023-04-29T22:11:36.745390Z",
     "start_time": "2023-04-29T22:11:36.735364Z"
    }
   },
   "outputs": [
    {
     "name": "stdout",
     "output_type": "stream",
     "text": [
      "Phone\n",
      "Laptop\n",
      "100\n",
      "1000\n",
      "5\n",
      "3\n"
     ]
    }
   ],
   "source": [
    "item1 = Item('Phone',100,5)\n",
    "item2 = Item('Laptop',1000,3)\n",
    "\n",
    "print(item1.name)\n",
    "print(item2.name)\n",
    "\n",
    "print(item1.price)\n",
    "print(item2.price)\n",
    "\n",
    "print(item1.quantity)\n",
    "print(item2.quantity)\n"
   ]
  },
  {
   "cell_type": "markdown",
   "id": "97b1f058",
   "metadata": {},
   "source": [
    "If we dont know mondatory parameter, we can give some default value.\n"
   ]
  },
  {
   "cell_type": "code",
   "execution_count": 61,
   "id": "cb86e4a0",
   "metadata": {
    "ExecuteTime": {
     "end_time": "2023-04-29T22:11:37.087208Z",
     "start_time": "2023-04-29T22:11:37.077398Z"
    }
   },
   "outputs": [],
   "source": [
    "class Item:\n",
    "    def __init__(self, name, price, quantity=0):\n",
    "        self.name=name\n",
    "        self.price=price\n",
    "        self.quantity=quantity\n",
    "    \n",
    "\n",
    "    def calculate_total_price(self, x, y):\n",
    "        return x * y"
   ]
  },
  {
   "cell_type": "code",
   "execution_count": 62,
   "id": "ceb47e11",
   "metadata": {
    "ExecuteTime": {
     "end_time": "2023-04-29T22:11:37.381797Z",
     "start_time": "2023-04-29T22:11:37.370674Z"
    }
   },
   "outputs": [
    {
     "name": "stdout",
     "output_type": "stream",
     "text": [
      "Phone\n",
      "Laptop\n",
      "100\n",
      "1000\n",
      "0\n",
      "0\n"
     ]
    }
   ],
   "source": [
    "item1 = Item('Phone',100)\n",
    "item2 = Item('Laptop',1000)\n",
    "\n",
    "print(item1.name)\n",
    "print(item2.name)\n",
    "\n",
    "print(item1.price)\n",
    "print(item2.price)\n",
    "\n",
    "print(item1.quantity)\n",
    "print(item2.quantity)"
   ]
  },
  {
   "cell_type": "markdown",
   "id": "3d1a8e8f",
   "metadata": {},
   "source": [
    "*as we are assigning attributes in assignment still we can give some extra instance*\n",
    "\n",
    "for example in above example if we want to pass if laptop have num pad or not"
   ]
  },
  {
   "cell_type": "code",
   "execution_count": 63,
   "id": "30a1cdcc",
   "metadata": {
    "ExecuteTime": {
     "end_time": "2023-04-29T22:11:38.315372Z",
     "start_time": "2023-04-29T22:11:38.296098Z"
    }
   },
   "outputs": [],
   "source": [
    "item1 = Item('Phone',100)\n",
    "item2 = Item('Laptop',1000)\n",
    "\n",
    "item2.has_numpad= False"
   ]
  },
  {
   "cell_type": "markdown",
   "id": "1276fef8",
   "metadata": {},
   "source": [
    "- In above example still we are passing argument to calculate  price\n",
    "\n",
    "- we are already passing object (self) as an argument so we cam directly return as;"
   ]
  },
  {
   "cell_type": "code",
   "execution_count": 64,
   "id": "67642cc8",
   "metadata": {
    "ExecuteTime": {
     "end_time": "2023-04-29T22:11:38.749194Z",
     "start_time": "2023-04-29T22:11:38.738118Z"
    }
   },
   "outputs": [],
   "source": [
    "class Item:\n",
    "    def __init__(self, name, price, quantity=0):\n",
    "        self.name=name\n",
    "        self.price=price\n",
    "        self.quantity=quantity\n",
    "    \n",
    "\n",
    "    def calculate_total_price(self):\n",
    "        return self.price * self.quantity"
   ]
  },
  {
   "cell_type": "code",
   "execution_count": 65,
   "id": "9b0d9e90",
   "metadata": {
    "ExecuteTime": {
     "end_time": "2023-04-29T22:11:39.139258Z",
     "start_time": "2023-04-29T22:11:39.127535Z"
    }
   },
   "outputs": [
    {
     "name": "stdout",
     "output_type": "stream",
     "text": [
      "100\n",
      "3000\n"
     ]
    }
   ],
   "source": [
    "item1 = Item(\"Phone\", 100, 1)\n",
    "item2 = Item(\"Laptop\", 1000, 3)\n",
    "\n",
    "print(item1.calculate_total_price())\n",
    "print(item2.calculate_total_price())"
   ]
  },
  {
   "cell_type": "markdown",
   "id": "47127393",
   "metadata": {},
   "source": [
    "If we pass something other than integer"
   ]
  },
  {
   "cell_type": "code",
   "execution_count": 66,
   "id": "ae4e7db7",
   "metadata": {
    "ExecuteTime": {
     "end_time": "2023-04-29T22:11:39.542045Z",
     "start_time": "2023-04-29T22:11:39.530337Z"
    }
   },
   "outputs": [
    {
     "name": "stdout",
     "output_type": "stream",
     "text": [
      "100\n",
      "100010001000\n"
     ]
    }
   ],
   "source": [
    "item1 = Item(\"Phone\", \"100\", 1)\n",
    "item2 = Item(\"Laptop\", \"1000\", 3)\n",
    "\n",
    "print(item1.calculate_total_price())\n",
    "print(item2.calculate_total_price())"
   ]
  },
  {
   "cell_type": "markdown",
   "id": "27fe4e78",
   "metadata": {},
   "source": [
    "Means we need to define inmput data type also."
   ]
  },
  {
   "cell_type": "code",
   "execution_count": 67,
   "id": "ac69ef0f",
   "metadata": {
    "ExecuteTime": {
     "end_time": "2023-04-29T22:11:39.931090Z",
     "start_time": "2023-04-29T22:11:39.923746Z"
    }
   },
   "outputs": [],
   "source": [
    "class Item:\n",
    "    def __init__(self, name: str, price: float, quantity=0):\n",
    "        self.name=name\n",
    "        self.price=price\n",
    "        self.quantity=quantity\n",
    "    \n",
    "\n",
    "    def calculate_total_price(self):\n",
    "        return self.price * self.quantity"
   ]
  },
  {
   "cell_type": "code",
   "execution_count": 68,
   "id": "2ebeb0c6",
   "metadata": {
    "ExecuteTime": {
     "end_time": "2023-04-29T22:11:40.289095Z",
     "start_time": "2023-04-29T22:11:40.277961Z"
    }
   },
   "outputs": [
    {
     "name": "stdout",
     "output_type": "stream",
     "text": [
      "<class 'int'>\n"
     ]
    }
   ],
   "source": [
    "item1 = Item(1, \"100\", 1)\n",
    "print(type(item1.name))"
   ]
  },
  {
   "cell_type": "code",
   "execution_count": 69,
   "id": "a9393100",
   "metadata": {
    "ExecuteTime": {
     "end_time": "2023-04-29T22:11:40.520985Z",
     "start_time": "2023-04-29T22:11:40.509017Z"
    }
   },
   "outputs": [
    {
     "name": "stdout",
     "output_type": "stream",
     "text": [
      "100\n",
      "3000\n"
     ]
    }
   ],
   "source": [
    "item1 = Item(\"Phone\", 100, 1)\n",
    "item2 = Item(\"Laptop\", 1000, 3)\n",
    "\n",
    "print(item1.calculate_total_price())\n",
    "print(item2.calculate_total_price())"
   ]
  },
  {
   "cell_type": "markdown",
   "id": "df63726d",
   "metadata": {},
   "source": [
    "to valiadte we can add assert statment."
   ]
  },
  {
   "cell_type": "code",
   "execution_count": 70,
   "id": "3e72ae44",
   "metadata": {
    "ExecuteTime": {
     "end_time": "2023-04-29T22:11:40.784134Z",
     "start_time": "2023-04-29T22:11:40.772111Z"
    }
   },
   "outputs": [],
   "source": [
    "class Item:\n",
    "    def __init__(self, name: str, price: float, quantity=0):\n",
    "        \n",
    "        assert price >= 0\n",
    "        assert quantity >= 0\n",
    "        \n",
    "        self.name=name\n",
    "        self.price=price\n",
    "        self.quantity=quantity\n",
    "    \n",
    "\n",
    "    def calculate_total_price(self):\n",
    "        return self.price * self.quantity"
   ]
  },
  {
   "cell_type": "code",
   "execution_count": 71,
   "id": "56ea4436",
   "metadata": {
    "ExecuteTime": {
     "end_time": "2023-04-29T22:11:41.156056Z",
     "start_time": "2023-04-29T22:11:41.128441Z"
    }
   },
   "outputs": [
    {
     "ename": "AssertionError",
     "evalue": "",
     "output_type": "error",
     "traceback": [
      "\u001b[1;31m---------------------------------------------------------------------------\u001b[0m",
      "\u001b[1;31mAssertionError\u001b[0m                            Traceback (most recent call last)",
      "Cell \u001b[1;32mIn[71], line 1\u001b[0m\n\u001b[1;32m----> 1\u001b[0m item1 \u001b[38;5;241m=\u001b[39m \u001b[43mItem\u001b[49m\u001b[43m(\u001b[49m\u001b[38;5;124;43m\"\u001b[39;49m\u001b[38;5;124;43mPhone\u001b[39;49m\u001b[38;5;124;43m\"\u001b[39;49m\u001b[43m,\u001b[49m\u001b[43m \u001b[49m\u001b[38;5;241;43m100\u001b[39;49m\u001b[43m,\u001b[49m\u001b[43m \u001b[49m\u001b[38;5;241;43m-\u001b[39;49m\u001b[38;5;241;43m1\u001b[39;49m\u001b[43m)\u001b[49m\n\u001b[0;32m      2\u001b[0m item2 \u001b[38;5;241m=\u001b[39m Item(\u001b[38;5;124m\"\u001b[39m\u001b[38;5;124mLaptop\u001b[39m\u001b[38;5;124m\"\u001b[39m, \u001b[38;5;241m1000\u001b[39m, \u001b[38;5;241m-\u001b[39m\u001b[38;5;241m3\u001b[39m)\n",
      "Cell \u001b[1;32mIn[70], line 5\u001b[0m, in \u001b[0;36mItem.__init__\u001b[1;34m(self, name, price, quantity)\u001b[0m\n\u001b[0;32m      2\u001b[0m \u001b[38;5;28;01mdef\u001b[39;00m \u001b[38;5;21m__init__\u001b[39m(\u001b[38;5;28mself\u001b[39m, name: \u001b[38;5;28mstr\u001b[39m, price: \u001b[38;5;28mfloat\u001b[39m, quantity\u001b[38;5;241m=\u001b[39m\u001b[38;5;241m0\u001b[39m):\n\u001b[0;32m      4\u001b[0m     \u001b[38;5;28;01massert\u001b[39;00m price \u001b[38;5;241m>\u001b[39m\u001b[38;5;241m=\u001b[39m \u001b[38;5;241m0\u001b[39m\n\u001b[1;32m----> 5\u001b[0m     \u001b[38;5;28;01massert\u001b[39;00m quantity \u001b[38;5;241m>\u001b[39m\u001b[38;5;241m=\u001b[39m \u001b[38;5;241m0\u001b[39m\n\u001b[0;32m      7\u001b[0m     \u001b[38;5;28mself\u001b[39m\u001b[38;5;241m.\u001b[39mname\u001b[38;5;241m=\u001b[39mname\n\u001b[0;32m      8\u001b[0m     \u001b[38;5;28mself\u001b[39m\u001b[38;5;241m.\u001b[39mprice\u001b[38;5;241m=\u001b[39mprice\n",
      "\u001b[1;31mAssertionError\u001b[0m: "
     ]
    }
   ],
   "source": [
    "item1 = Item(\"Phone\", 100, -1)\n",
    "item2 = Item(\"Laptop\", 1000, -3)"
   ]
  },
  {
   "cell_type": "markdown",
   "id": "c64e96d0",
   "metadata": {},
   "source": [
    "by using -ve value we are getting assertion error. \n",
    "\n",
    "So we can add a formatted string as a error message as:"
   ]
  },
  {
   "cell_type": "markdown",
   "id": "e4f03638",
   "metadata": {},
   "source": [
    "**Final Code**"
   ]
  },
  {
   "cell_type": "code",
   "execution_count": 72,
   "id": "11cb44ea",
   "metadata": {
    "ExecuteTime": {
     "end_time": "2023-04-29T22:11:44.505088Z",
     "start_time": "2023-04-29T22:11:44.485441Z"
    }
   },
   "outputs": [],
   "source": [
    "class Item:\n",
    "    def __init__(self, name: str, price: float, quantity=0):\n",
    "        # Run validations to the received arguments\n",
    "        assert price >= 0, f\"Price {price} is not greater than or equal to zero!\"\n",
    "        assert quantity >= 0, f\"Quantity {quantity} is not greater or equal to zero!\"\n",
    "\n",
    "        # Assign to self object\n",
    "        self.name = name\n",
    "        self.price = price\n",
    "        self.quantity = quantity\n",
    "\n",
    "    def calculate_total_price(self):\n",
    "        return self.price * self.quantity"
   ]
  },
  {
   "cell_type": "code",
   "execution_count": 73,
   "id": "105fb353",
   "metadata": {
    "ExecuteTime": {
     "end_time": "2023-04-29T22:11:44.880291Z",
     "start_time": "2023-04-29T22:11:44.841450Z"
    }
   },
   "outputs": [
    {
     "ename": "AssertionError",
     "evalue": "Quantity -1 is not greater or equal to zero!",
     "output_type": "error",
     "traceback": [
      "\u001b[1;31m---------------------------------------------------------------------------\u001b[0m",
      "\u001b[1;31mAssertionError\u001b[0m                            Traceback (most recent call last)",
      "Cell \u001b[1;32mIn[73], line 1\u001b[0m\n\u001b[1;32m----> 1\u001b[0m item1 \u001b[38;5;241m=\u001b[39m \u001b[43mItem\u001b[49m\u001b[43m(\u001b[49m\u001b[38;5;124;43m\"\u001b[39;49m\u001b[38;5;124;43mPhone\u001b[39;49m\u001b[38;5;124;43m\"\u001b[39;49m\u001b[43m,\u001b[49m\u001b[43m \u001b[49m\u001b[38;5;241;43m100\u001b[39;49m\u001b[43m,\u001b[49m\u001b[43m \u001b[49m\u001b[38;5;241;43m-\u001b[39;49m\u001b[38;5;241;43m1\u001b[39;49m\u001b[43m)\u001b[49m\n\u001b[0;32m      2\u001b[0m item2 \u001b[38;5;241m=\u001b[39m Item(\u001b[38;5;124m\"\u001b[39m\u001b[38;5;124mLaptop\u001b[39m\u001b[38;5;124m\"\u001b[39m, \u001b[38;5;241m1000\u001b[39m, \u001b[38;5;241m-\u001b[39m\u001b[38;5;241m3\u001b[39m)\n",
      "Cell \u001b[1;32mIn[72], line 5\u001b[0m, in \u001b[0;36mItem.__init__\u001b[1;34m(self, name, price, quantity)\u001b[0m\n\u001b[0;32m      2\u001b[0m \u001b[38;5;28;01mdef\u001b[39;00m \u001b[38;5;21m__init__\u001b[39m(\u001b[38;5;28mself\u001b[39m, name: \u001b[38;5;28mstr\u001b[39m, price: \u001b[38;5;28mfloat\u001b[39m, quantity\u001b[38;5;241m=\u001b[39m\u001b[38;5;241m0\u001b[39m):\n\u001b[0;32m      3\u001b[0m     \u001b[38;5;66;03m# Run validations to the received arguments\u001b[39;00m\n\u001b[0;32m      4\u001b[0m     \u001b[38;5;28;01massert\u001b[39;00m price \u001b[38;5;241m>\u001b[39m\u001b[38;5;241m=\u001b[39m \u001b[38;5;241m0\u001b[39m, \u001b[38;5;124mf\u001b[39m\u001b[38;5;124m\"\u001b[39m\u001b[38;5;124mPrice \u001b[39m\u001b[38;5;132;01m{\u001b[39;00mprice\u001b[38;5;132;01m}\u001b[39;00m\u001b[38;5;124m is not greater than or equal to zero!\u001b[39m\u001b[38;5;124m\"\u001b[39m\n\u001b[1;32m----> 5\u001b[0m     \u001b[38;5;28;01massert\u001b[39;00m quantity \u001b[38;5;241m>\u001b[39m\u001b[38;5;241m=\u001b[39m \u001b[38;5;241m0\u001b[39m, \u001b[38;5;124mf\u001b[39m\u001b[38;5;124m\"\u001b[39m\u001b[38;5;124mQuantity \u001b[39m\u001b[38;5;132;01m{\u001b[39;00mquantity\u001b[38;5;132;01m}\u001b[39;00m\u001b[38;5;124m is not greater or equal to zero!\u001b[39m\u001b[38;5;124m\"\u001b[39m\n\u001b[0;32m      7\u001b[0m     \u001b[38;5;66;03m# Assign to self object\u001b[39;00m\n\u001b[0;32m      8\u001b[0m     \u001b[38;5;28mself\u001b[39m\u001b[38;5;241m.\u001b[39mname \u001b[38;5;241m=\u001b[39m name\n",
      "\u001b[1;31mAssertionError\u001b[0m: Quantity -1 is not greater or equal to zero!"
     ]
    }
   ],
   "source": [
    "item1 = Item(\"Phone\", 100, -1)\n",
    "item2 = Item(\"Laptop\", 1000, -3)"
   ]
  },
  {
   "cell_type": "code",
   "execution_count": 74,
   "id": "6e946b98",
   "metadata": {
    "ExecuteTime": {
     "end_time": "2023-04-29T22:11:44.911439Z",
     "start_time": "2023-04-29T22:11:44.898406Z"
    }
   },
   "outputs": [
    {
     "name": "stdout",
     "output_type": "stream",
     "text": [
      "100\n",
      "3000\n"
     ]
    }
   ],
   "source": [
    "item1 = Item(\"Phone\", 100, 1)\n",
    "item2 = Item(\"Laptop\", 1000, 3)\n",
    "\n",
    "print(item1.calculate_total_price())\n",
    "print(item2.calculate_total_price())"
   ]
  },
  {
   "cell_type": "markdown",
   "id": "97c8775d",
   "metadata": {},
   "source": [
    "Till now we learnt about **instance attribute.**\n",
    "\n",
    "Now we will learn **class attribute**"
   ]
  },
  {
   "cell_type": "markdown",
   "id": "039c1f23",
   "metadata": {},
   "source": [
    "## Class vs instance attributes\n",
    "\n",
    "- The attributes we presented above are actually **called instance** attributes, which means that they are only belong to a specific instance; when you use them, you need to use the self.\n",
    "- attribute within the class. There are another type of attributes called class attributes, which will be shared with all the instances created from this class. Let us see an example how to define and use a **class attribute**."
   ]
  },
  {
   "cell_type": "code",
   "execution_count": 80,
   "id": "dd4baa1b",
   "metadata": {
    "ExecuteTime": {
     "end_time": "2023-04-30T07:08:27.850375Z",
     "start_time": "2023-04-30T07:08:27.831061Z"
    }
   },
   "outputs": [],
   "source": [
    "class Item:\n",
    "    pay_rate=0.8 #The pay rate after 20% discount\n",
    "    \n",
    "    def __init__(self, name: str, price: float, quantity=0):\n",
    "        # Run validations to the received arguments\n",
    "        assert price >= 0, f\"Price {price} is not greater than or equal to zero!\"\n",
    "        assert quantity >= 0, f\"Quantity {quantity} is not greater or equal to zero!\"\n",
    "\n",
    "        # Assign to self object\n",
    "        self.name = name\n",
    "        self.price = price\n",
    "        self.quantity = quantity\n",
    "\n",
    "    def calculate_total_price(self):\n",
    "        return self.price * self.quantity"
   ]
  },
  {
   "cell_type": "markdown",
   "id": "5ae334a9",
   "metadata": {},
   "source": [
    "Here pay rate ia a class attribute"
   ]
  },
  {
   "cell_type": "code",
   "execution_count": 81,
   "id": "b53d28fd",
   "metadata": {
    "ExecuteTime": {
     "end_time": "2023-04-30T07:08:28.748714Z",
     "start_time": "2023-04-30T07:08:28.743614Z"
    }
   },
   "outputs": [
    {
     "name": "stdout",
     "output_type": "stream",
     "text": [
      "0.8\n",
      "0.8\n",
      "0.8\n"
     ]
    }
   ],
   "source": [
    "item1 = Item(\"Phone\", 100, 1)\n",
    "item2 = Item(\"Laptop\", 1000, 3)\n",
    "\n",
    "print(Item.pay_rate)\n",
    "\n",
    "print(item1.pay_rate)\n",
    "print(item2.pay_rate)"
   ]
  },
  {
   "cell_type": "markdown",
   "id": "5a286348",
   "metadata": {},
   "source": [
    "Here we can access `pay_rate` from class and instance both level."
   ]
  },
  {
   "cell_type": "markdown",
   "id": "666867ea",
   "metadata": {},
   "source": [
    "All the attributes for class level"
   ]
  },
  {
   "cell_type": "code",
   "execution_count": 84,
   "id": "297911f4",
   "metadata": {
    "ExecuteTime": {
     "end_time": "2023-04-30T07:18:19.470655Z",
     "start_time": "2023-04-30T07:18:19.450178Z"
    }
   },
   "outputs": [
    {
     "name": "stdout",
     "output_type": "stream",
     "text": [
      "{'__module__': '__main__', 'pay_rate': 0.8, '__init__': <function Item.__init__ at 0x000002206203CC10>, 'calculate_total_price': <function Item.calculate_total_price at 0x000002206203CF70>, '__dict__': <attribute '__dict__' of 'Item' objects>, '__weakref__': <attribute '__weakref__' of 'Item' objects>, '__doc__': None}\n"
     ]
    }
   ],
   "source": [
    "print(Item.__dict__)\n"
   ]
  },
  {
   "cell_type": "markdown",
   "id": "c77a054f",
   "metadata": {},
   "source": [
    "All the attributes for instance level"
   ]
  },
  {
   "cell_type": "code",
   "execution_count": 83,
   "id": "000d5b56",
   "metadata": {
    "ExecuteTime": {
     "end_time": "2023-04-30T07:18:18.121588Z",
     "start_time": "2023-04-30T07:18:18.100823Z"
    }
   },
   "outputs": [
    {
     "name": "stdout",
     "output_type": "stream",
     "text": [
      "{'name': 'Phone', 'price': 100, 'quantity': 1}\n"
     ]
    }
   ],
   "source": [
    "print(item1.__dict__)"
   ]
  },
  {
   "cell_type": "markdown",
   "id": "a7caa127",
   "metadata": {},
   "source": [
    "Method to apply discount;"
   ]
  },
  {
   "cell_type": "code",
   "execution_count": 100,
   "id": "e9364213",
   "metadata": {
    "ExecuteTime": {
     "end_time": "2023-04-30T07:40:05.656221Z",
     "start_time": "2023-04-30T07:40:05.636524Z"
    }
   },
   "outputs": [],
   "source": [
    "class Item:\n",
    "    pay_rate=0.8 #The pay rate after 20% discount\n",
    "    \n",
    "    def __init__(self, name: str, price: float, quantity=0):\n",
    "        # Run validations to the received arguments\n",
    "        assert price >= 0, f\"Price {price} is not greater than or equal to zero!\"\n",
    "        assert quantity >= 0, f\"Quantity {quantity} is not greater or equal to zero!\"\n",
    "\n",
    "        # Assign to self object\n",
    "        self.name = name\n",
    "        self.price = price\n",
    "        self.quantity = quantity\n",
    "\n",
    "    def calculate_total_price(self):\n",
    "        return self.price * self.quantity\n",
    "    \n",
    "    def apply_discount(self):\n",
    "        self.price=self.price * Item.pay_rate"
   ]
  },
  {
   "cell_type": "code",
   "execution_count": 101,
   "id": "ccf2842c",
   "metadata": {
    "ExecuteTime": {
     "end_time": "2023-04-30T07:40:06.026128Z",
     "start_time": "2023-04-30T07:40:06.012098Z"
    }
   },
   "outputs": [
    {
     "name": "stdout",
     "output_type": "stream",
     "text": [
      "100\n",
      "80.0\n"
     ]
    }
   ],
   "source": [
    "item1 = Item(\"Phone\", 100, 2)\n",
    "item2 = Item(\"Laptop\", 1000, 3)\n",
    "\n",
    "print(item1.price)\n",
    "\n",
    "item1.apply_discount()\n",
    "print(item1.price)     #price after discount"
   ]
  },
  {
   "cell_type": "markdown",
   "id": "a8ff7812",
   "metadata": {},
   "source": [
    "If we want to apply different pay_rate"
   ]
  },
  {
   "cell_type": "code",
   "execution_count": 102,
   "id": "66c1e3f7",
   "metadata": {
    "ExecuteTime": {
     "end_time": "2023-04-30T07:40:09.684201Z",
     "start_time": "2023-04-30T07:40:09.662433Z"
    },
    "run_control": {
     "marked": true
    }
   },
   "outputs": [
    {
     "name": "stdout",
     "output_type": "stream",
     "text": [
      "1000\n",
      "800.0\n"
     ]
    }
   ],
   "source": [
    "item2 = Item(\"Laptop\", 1000, 5)\n",
    "item2.pay_rate=0.7\n",
    "\n",
    "print(item2.price)\n",
    "\n",
    "item2.apply_discount()\n",
    "print(item2.price)    #price after discount"
   ]
  },
  {
   "cell_type": "markdown",
   "id": "82064e43",
   "metadata": {},
   "source": [
    "- Here the price 20% off, not 30%, becouse we difined `apply_discount` at class level `self.price=self.price * Item.pay_rate` \n",
    "\n",
    "- Now we need change it to instance level ie write `self` in place of `Item`"
   ]
  },
  {
   "cell_type": "code",
   "execution_count": 103,
   "id": "759b0736",
   "metadata": {
    "ExecuteTime": {
     "end_time": "2023-04-30T07:40:13.589475Z",
     "start_time": "2023-04-30T07:40:13.573925Z"
    }
   },
   "outputs": [],
   "source": [
    "class Item:\n",
    "    pay_rate=0.8 #The pay rate after 20% discount\n",
    "    \n",
    "    def __init__(self, name: str, price: float, quantity=0):\n",
    "        # Run validations to the received arguments\n",
    "        assert price >= 0, f\"Price {price} is not greater than or equal to zero!\"\n",
    "        assert quantity >= 0, f\"Quantity {quantity} is not greater or equal to zero!\"\n",
    "\n",
    "        # Assign to self object\n",
    "        self.name = name\n",
    "        self.price = price\n",
    "        self.quantity = quantity\n",
    "\n",
    "    def calculate_total_price(self):\n",
    "        return self.price * self.quantity\n",
    "    \n",
    "    def apply_discount(self):\n",
    "        self.price=self.price * self.pay_rate"
   ]
  },
  {
   "cell_type": "code",
   "execution_count": 105,
   "id": "355af027",
   "metadata": {
    "ExecuteTime": {
     "end_time": "2023-04-30T07:40:47.426183Z",
     "start_time": "2023-04-30T07:40:47.409114Z"
    }
   },
   "outputs": [
    {
     "name": "stdout",
     "output_type": "stream",
     "text": [
      "1000\n",
      "700.0\n"
     ]
    }
   ],
   "source": [
    "item2 = Item(\"Laptop\", 1000, 3)\n",
    "item2.pay_rate=0.7\n",
    "\n",
    "print(item2.price)\n",
    "\n",
    "item2.apply_discount()\n",
    "print(item2.price)    #price after discount"
   ]
  },
  {
   "cell_type": "markdown",
   "id": "0bba015d",
   "metadata": {},
   "source": [
    "Now it is working as expected. For item2 discount in 30% as we defined it.\n",
    "\n",
    "and for item1 it will take defult value 20% discount."
   ]
  },
  {
   "cell_type": "code",
   "execution_count": 107,
   "id": "70dd27e2",
   "metadata": {
    "ExecuteTime": {
     "end_time": "2023-04-30T07:42:32.378202Z",
     "start_time": "2023-04-30T07:42:32.358016Z"
    }
   },
   "outputs": [
    {
     "name": "stdout",
     "output_type": "stream",
     "text": [
      "100\n",
      "80.0\n"
     ]
    }
   ],
   "source": [
    "item1 = Item(\"Phone\", 100, 2)\n",
    "\n",
    "\n",
    "print(item1.price)\n",
    "\n",
    "item1.apply_discount()\n",
    "print(item1.price)     #price after discount"
   ]
  },
  {
   "cell_type": "markdown",
   "id": "892eb5f4",
   "metadata": {},
   "source": [
    "Currntly we dont have way to know all defined object or instances. \n",
    "\n",
    "So, now we going to define as `all` atributes. Each time we will be craeting a instances, We add in this list.\n",
    "\n"
   ]
  },
  {
   "cell_type": "code",
   "execution_count": 109,
   "id": "b7af2b86",
   "metadata": {
    "ExecuteTime": {
     "end_time": "2023-04-30T07:51:30.467225Z",
     "start_time": "2023-04-30T07:51:30.452232Z"
    }
   },
   "outputs": [],
   "source": [
    "class Item:\n",
    "    pay_rate=0.8 #The pay rate after 20% discount\n",
    "    all=[]\n",
    "    \n",
    "    def __init__(self, name: str, price: float, quantity=0):\n",
    "        # Run validations to the received arguments\n",
    "        assert price >= 0, f\"Price {price} is not greater than or equal to zero!\"\n",
    "        assert quantity >= 0, f\"Quantity {quantity} is not greater or equal to zero!\"\n",
    "\n",
    "        # Assign to self object\n",
    "        self.name = name\n",
    "        self.price = price\n",
    "        self.quantity = quantity\n",
    "        \n",
    "         # Actions to execute\n",
    "        Item.all.append(self)       \n",
    "\n",
    "    def calculate_total_price(self):\n",
    "        return self.price * self.quantity\n",
    "    \n",
    "    def apply_discount(self):\n",
    "        self.price=self.price * self.pay_rate"
   ]
  },
  {
   "cell_type": "code",
   "execution_count": 110,
   "id": "b3abb18c",
   "metadata": {
    "ExecuteTime": {
     "end_time": "2023-04-30T07:51:34.481157Z",
     "start_time": "2023-04-30T07:51:34.462019Z"
    }
   },
   "outputs": [],
   "source": [
    "item1 = Item(\"Phone\", 100, 1)\n",
    "item2 = Item(\"Laptop\", 1000, 3)\n",
    "item3 = Item(\"Cable\", 10, 5)\n",
    "item4 = Item(\"Mouse\", 50, 5)\n",
    "item5 = Item(\"Keyboard\", 75, 5)"
   ]
  },
  {
   "cell_type": "code",
   "execution_count": 111,
   "id": "96275d00",
   "metadata": {
    "ExecuteTime": {
     "end_time": "2023-04-30T07:51:35.082686Z",
     "start_time": "2023-04-30T07:51:35.067510Z"
    }
   },
   "outputs": [
    {
     "name": "stdout",
     "output_type": "stream",
     "text": [
      "[<__main__.Item object at 0x00000220626E8670>, <__main__.Item object at 0x00000220626E8910>, <__main__.Item object at 0x00000220626E8310>, <__main__.Item object at 0x00000220623A85B0>, <__main__.Item object at 0x00000220623A8A00>]\n"
     ]
    }
   ],
   "source": [
    "print(Item.all)"
   ]
  },
  {
   "cell_type": "markdown",
   "id": "3fa145b0",
   "metadata": {},
   "source": [
    "Here we got, five elements\n",
    "\n",
    "we can print name of all as,"
   ]
  },
  {
   "cell_type": "code",
   "execution_count": 114,
   "id": "1efc7b7d",
   "metadata": {
    "ExecuteTime": {
     "end_time": "2023-04-30T07:54:46.814280Z",
     "start_time": "2023-04-30T07:54:46.801316Z"
    }
   },
   "outputs": [
    {
     "name": "stdout",
     "output_type": "stream",
     "text": [
      "Phone\n",
      "Laptop\n",
      "Cable\n",
      "Mouse\n",
      "Keyboard\n"
     ]
    }
   ],
   "source": [
    "for instance in Item.all:\n",
    "    print(instance.name)"
   ]
  },
  {
   "cell_type": "markdown",
   "id": "e230c89e",
   "metadata": {},
   "source": [
    "When we are using `Item.all`, output is not friendly.\n",
    "\n",
    "we can avoid that by using magic method `__repr__`\n",
    "\n",
    "[Python Magic Methods | Differences between __str__ to __repr__](https://www.youtube.com/watch?v=FIaPZXaePhw)"
   ]
  },
  {
   "cell_type": "code",
   "execution_count": 115,
   "id": "9a37c9aa",
   "metadata": {
    "ExecuteTime": {
     "end_time": "2023-04-30T07:59:55.706018Z",
     "start_time": "2023-04-30T07:59:55.694059Z"
    }
   },
   "outputs": [],
   "source": [
    "class Item:\n",
    "    pay_rate=0.8 #The pay rate after 20% discount\n",
    "    all=[]\n",
    "    \n",
    "    def __init__(self, name: str, price: float, quantity=0):\n",
    "        # Run validations to the received arguments\n",
    "        assert price >= 0, f\"Price {price} is not greater than or equal to zero!\"\n",
    "        assert quantity >= 0, f\"Quantity {quantity} is not greater or equal to zero!\"\n",
    "\n",
    "        # Assign to self object\n",
    "        self.name = name\n",
    "        self.price = price\n",
    "        self.quantity = quantity\n",
    "        \n",
    "         # Actions to execute\n",
    "        Item.all.append(self)       \n",
    "\n",
    "    def calculate_total_price(self):\n",
    "        return self.price * self.quantity\n",
    "    \n",
    "    def apply_discount(self):\n",
    "        self.price=self.price * self.pay_rate\n",
    "        \n",
    "    def __repr__(self):\n",
    "        return \"Item\"\n",
    "    "
   ]
  },
  {
   "cell_type": "code",
   "execution_count": 116,
   "id": "49ee53ff",
   "metadata": {
    "ExecuteTime": {
     "end_time": "2023-04-30T08:00:25.571149Z",
     "start_time": "2023-04-30T08:00:25.552059Z"
    }
   },
   "outputs": [],
   "source": [
    "item1 = Item(\"Phone\", 100, 1)\n",
    "item2 = Item(\"Laptop\", 1000, 3)\n",
    "item3 = Item(\"Cable\", 10, 5)\n",
    "item4 = Item(\"Mouse\", 50, 5)\n",
    "item5 = Item(\"Keyboard\", 75, 5)"
   ]
  },
  {
   "cell_type": "code",
   "execution_count": 117,
   "id": "3f2a6c04",
   "metadata": {
    "ExecuteTime": {
     "end_time": "2023-04-30T08:00:46.309401Z",
     "start_time": "2023-04-30T08:00:46.290702Z"
    }
   },
   "outputs": [
    {
     "name": "stdout",
     "output_type": "stream",
     "text": [
      "[Item, Item, Item, Item, Item]\n"
     ]
    }
   ],
   "source": [
    "print(Item.all)"
   ]
  },
  {
   "cell_type": "markdown",
   "id": "f7c0b2a6",
   "metadata": {},
   "source": [
    "To return more detail we can write it as;"
   ]
  },
  {
   "cell_type": "code",
   "execution_count": 130,
   "id": "6204ff85",
   "metadata": {
    "ExecuteTime": {
     "end_time": "2023-04-30T08:07:14.046519Z",
     "start_time": "2023-04-30T08:07:14.040523Z"
    }
   },
   "outputs": [],
   "source": [
    "class Item:\n",
    "    pay_rate=0.8 #The pay rate after 20% discount\n",
    "    all=[]\n",
    "    \n",
    "    def __init__(self, name: str, price: float, quantity=0):\n",
    "        # Run validations to the received arguments\n",
    "        assert price >= 0, f\"Price {price} is not greater than or equal to zero!\"\n",
    "        assert quantity >= 0, f\"Quantity {quantity} is not greater or equal to zero!\"\n",
    "\n",
    "        # Assign to self object\n",
    "        self.name = name\n",
    "        self.price = price\n",
    "        self.quantity = quantity\n",
    "        \n",
    "         # Actions to execute\n",
    "        Item.all.append(self)       \n",
    "\n",
    "    def calculate_total_price(self):\n",
    "        return self.price * self.quantity\n",
    "    \n",
    "    def apply_discount(self):\n",
    "        self.price=self.price * self.pay_rate\n",
    "        \n",
    "    def __repr__(self):\n",
    "        return f\"Item('{self.name}',{self.price},{self.quantity})\""
   ]
  },
  {
   "cell_type": "code",
   "execution_count": 167,
   "id": "5c68f534",
   "metadata": {
    "ExecuteTime": {
     "end_time": "2023-04-30T09:59:22.775361Z",
     "start_time": "2023-04-30T09:59:22.758246Z"
    }
   },
   "outputs": [],
   "source": [
    "item1 = Item(\"Phone\", 100, 1)\n",
    "item2 = Item(\"Laptop\", 1000, 3)\n",
    "item3 = Item(\"Cable\", 10, 5)\n",
    "item4 = Item(\"Mouse\", 50, 5)\n",
    "item5 = Item(\"Keyboard\", 75, 5)"
   ]
  },
  {
   "cell_type": "code",
   "execution_count": 132,
   "id": "30b1f9cb",
   "metadata": {
    "ExecuteTime": {
     "end_time": "2023-04-30T08:07:15.924336Z",
     "start_time": "2023-04-30T08:07:15.909288Z"
    }
   },
   "outputs": [
    {
     "name": "stdout",
     "output_type": "stream",
     "text": [
      "[Item('Phone',100,1), Item('Laptop',1000,3), Item('Cable',10,5), Item('Mouse',50,5), Item('Keyboard',75,5)]\n"
     ]
    }
   ],
   "source": [
    "print(Item.all)"
   ]
  },
  {
   "cell_type": "markdown",
   "id": "37b90270",
   "metadata": {},
   "source": [
    "**Final Code**"
   ]
  },
  {
   "cell_type": "code",
   "execution_count": 122,
   "id": "cfa19eeb",
   "metadata": {
    "ExecuteTime": {
     "end_time": "2023-04-30T08:05:17.478654Z",
     "start_time": "2023-04-30T08:05:17.462720Z"
    }
   },
   "outputs": [
    {
     "name": "stdout",
     "output_type": "stream",
     "text": [
      "[Item('Phone', 100, 1), Item('Laptop', 1000, 3), Item('Cable', 10, 5), Item('Mouse', 50, 5), Item('Keyboard', 75, 5)]\n"
     ]
    }
   ],
   "source": [
    "class Item:\n",
    "    pay_rate = 0.8 # The pay rate after 20% discount\n",
    "    all = []\n",
    "    def __init__(self, name: str, price: float, quantity=0):\n",
    "        # Run validations to the received arguments\n",
    "        assert price >= 0, f\"Price {price} is not greater than or equal to zero!\"\n",
    "        assert quantity >= 0, f\"Quantity {quantity} is not greater or equal to zero!\"\n",
    "\n",
    "        # Assign to self object\n",
    "        self.name = name\n",
    "        self.price = price\n",
    "        self.quantity = quantity\n",
    "\n",
    "        # Actions to execute\n",
    "        Item.all.append(self)\n",
    "\n",
    "    def calculate_total_price(self):\n",
    "        return self.price * self.quantity\n",
    "\n",
    "    def apply_discount(self):\n",
    "        self.price = self.price * self.pay_rate\n",
    "\n",
    "    def __repr__(self):\n",
    "        return f\"Item('{self.name}', {self.price}, {self.quantity})\"\n",
    "\n",
    "item1 = Item(\"Phone\", 100, 1)\n",
    "item2 = Item(\"Laptop\", 1000, 3)\n",
    "item3 = Item(\"Cable\", 10, 5)\n",
    "item4 = Item(\"Mouse\", 50, 5)\n",
    "item5 = Item(\"Keyboard\", 75, 5)\n",
    "\n",
    "print(Item.all)"
   ]
  },
  {
   "cell_type": "markdown",
   "id": "5407bf25",
   "metadata": {},
   "source": [
    "## Class vs Static methos"
   ]
  },
  {
   "cell_type": "markdown",
   "id": "2ea6a311",
   "metadata": {},
   "source": [
    "```\n",
    "# When to use class methods and when to use static methods ?\n",
    "\n",
    "class Item:\n",
    "    @staticmethod\n",
    "    def is_integer():\n",
    "        '''\n",
    "        This should do something that has a relationship\n",
    "        with the class, but not something that must be unique\n",
    "        per instance!\n",
    "        '''\n",
    "    @classmethod\n",
    "    def instantiate_from_something(cls):\n",
    "        '''\n",
    "        This should also do something that has a relationship\n",
    "        with the class, but usually, those are used to\n",
    "        manipulate different structures of data to instantiate\n",
    "        objects, like we have done with CSV.\n",
    "        '''\n",
    "\n",
    "# THE ONLY DIFFERENCE BETWEEN THOSE:\n",
    "# Static methods are not passing the object reference as the first argument in the background!\n",
    "\n",
    "\n",
    "# NOTE: However, those could be also called from instances.\n",
    "\n",
    "item1 = Item()\n",
    "item1.is_integer()\n",
    "item1.instantiate_from_something()\n",
    "\n",
    "```"
   ]
  },
  {
   "cell_type": "markdown",
   "id": "78030ee5",
   "metadata": {},
   "source": [
    "Now we are going to use csv file `item.csv`, which represent the same data as above.\n",
    "\n",
    "name|price|quantity|\n",
    "-----|-------|------|\n",
    "\"Phone\"|100|1\n",
    "\"Laptop\"|1000|3\n",
    "\"Cable\"|10|5\n",
    "\"Mouse\"|50|5\n",
    "\"Keyboard\"|75|5\n",
    "\n"
   ]
  },
  {
   "cell_type": "markdown",
   "id": "aa4716c0",
   "metadata": {},
   "source": [
    "### **Class method**"
   ]
  },
  {
   "cell_type": "markdown",
   "id": "a86feddf",
   "metadata": {},
   "source": [
    "we cannot `instantiate_from_csv` as a method as in this method instance is as an argument will go`self` i.e. one instance argumrnt is by default, but we need to instantiate from csv.\n",
    " \n",
    "- So we will use `class method` for this\n",
    "\n",
    "- It can be accessed from class level only.\n",
    "\n",
    "- For this we use decorator `@classmethod`\n",
    "\n",
    "- class method class is passed as an first argument"
   ]
  },
  {
   "cell_type": "code",
   "execution_count": 144,
   "id": "5fe6258c",
   "metadata": {
    "ExecuteTime": {
     "end_time": "2023-04-30T09:09:45.682890Z",
     "start_time": "2023-04-30T09:09:45.653970Z"
    }
   },
   "outputs": [],
   "source": [
    "import csv\n",
    "\n",
    "class Item:\n",
    "    pay_rate = 0.8 # The pay rate after 20% discount\n",
    "    all = []\n",
    "    def __init__(self, name: str, price: float, quantity=0):\n",
    "        # Run validations to the received arguments\n",
    "        assert price >= 0, f\"Price {price} is not greater than or equal to zero!\"\n",
    "        assert quantity >= 0, f\"Quantity {quantity} is not greater or equal to zero!\"\n",
    "\n",
    "        # Assign to self object\n",
    "        self.name = name\n",
    "        self.price = price\n",
    "        self.quantity = quantity\n",
    "\n",
    "        # Actions to execute\n",
    "        Item.all.append(self)\n",
    "\n",
    "    def calculate_total_price(self):\n",
    "        return self.price * self.quantity\n",
    "\n",
    "    def apply_discount(self):\n",
    "        self.price = self.price * self.pay_rate\n",
    "        \n",
    "\n",
    "    @classmethod\n",
    "    def instantiate_from_csv(cls):\n",
    "        with open('items.csv','r') as f:\n",
    "            reader=csv.DictReader(f)\n",
    "            items=list(reader)\n",
    "            \n",
    "        for items in items:\n",
    "            print(items)\n",
    "        \n",
    "\n",
    "    def __repr__(self):\n",
    "        return f\"Item('{self.name}', {self.price}, {self.quantity})\"\n",
    "\n",
    "  "
   ]
  },
  {
   "cell_type": "code",
   "execution_count": 145,
   "id": "5eb988ab",
   "metadata": {
    "ExecuteTime": {
     "end_time": "2023-04-30T09:09:46.088000Z",
     "start_time": "2023-04-30T09:09:46.077614Z"
    }
   },
   "outputs": [
    {
     "name": "stdout",
     "output_type": "stream",
     "text": [
      "{'name': 'Phone', 'price': '100', 'quantity': '1'}\n",
      "{'name': 'Laptop', 'price': '1000', 'quantity': '3'}\n",
      "{'name': 'Cable', 'price': '10', 'quantity': '5'}\n",
      "{'name': 'Mouse', 'price': '50', 'quantity': '5'}\n",
      "{'name': 'Keyboard', 'price': '75', 'quantity': '5'}\n"
     ]
    }
   ],
   "source": [
    "Item.instantiate_from_csv()"
   ]
  },
  {
   "cell_type": "markdown",
   "id": "1e13d0ae",
   "metadata": {},
   "source": [
    "We can instanciate it from dictionary as,"
   ]
  },
  {
   "cell_type": "code",
   "execution_count": 154,
   "id": "82525b05",
   "metadata": {
    "ExecuteTime": {
     "end_time": "2023-04-30T09:15:44.533198Z",
     "start_time": "2023-04-30T09:15:44.506770Z"
    }
   },
   "outputs": [],
   "source": [
    "import csv\n",
    "\n",
    "class Item:\n",
    "    pay_rate = 0.8 # The pay rate after 20% discount\n",
    "    all = []\n",
    "    def __init__(self, name: str, price: float, quantity=0):\n",
    "        # Run validations to the received arguments\n",
    "        assert price >= 0, f\"Price {price} is not greater than or equal to zero!\"\n",
    "        assert quantity >= 0, f\"Quantity {quantity} is not greater or equal to zero!\"\n",
    "\n",
    "        # Assign to self object\n",
    "        self.name = name\n",
    "        self.price = price\n",
    "        self.quantity = quantity\n",
    "\n",
    "        # Actions to execute\n",
    "        Item.all.append(self)\n",
    "\n",
    "    def calculate_total_price(self):\n",
    "        return self.price * self.quantity\n",
    "\n",
    "    def apply_discount(self):\n",
    "        self.price = self.price * self.pay_rate\n",
    "        \n",
    "\n",
    "    @classmethod\n",
    "    def instantiate_from_csv(cls):\n",
    "        with open('items.csv','r') as f:\n",
    "            reader=csv.DictReader(f)\n",
    "            items=list(reader)\n",
    "            \n",
    "        for item in items:\n",
    "#             print(items)\n",
    "            Item(\n",
    "                name=item.get('name'),\n",
    "                price=float(item.get('price')),\n",
    "                quantity=int(item.get('quantity'))\n",
    "            )\n",
    "        \n",
    "\n",
    "    def __repr__(self):\n",
    "        return f\"Item('{self.name}', {self.price}, {self.quantity})\"\n",
    "\n",
    "  "
   ]
  },
  {
   "cell_type": "code",
   "execution_count": 155,
   "id": "18daf605",
   "metadata": {
    "ExecuteTime": {
     "end_time": "2023-04-30T09:15:45.474809Z",
     "start_time": "2023-04-30T09:15:45.466605Z"
    }
   },
   "outputs": [
    {
     "name": "stdout",
     "output_type": "stream",
     "text": [
      "[Item('Phone', 100.0, 1), Item('Laptop', 1000.0, 3), Item('Cable', 10.0, 5), Item('Mouse', 50.0, 5), Item('Keyboard', 75.0, 5)]\n"
     ]
    }
   ],
   "source": [
    "Item.instantiate_from_csv()\n",
    "\n",
    "print(Item.all)"
   ]
  },
  {
   "cell_type": "markdown",
   "id": "f27c600c",
   "metadata": {},
   "source": [
    "### **Static method**"
   ]
  },
  {
   "cell_type": "markdown",
   "id": "40e29ce3",
   "metadata": {},
   "source": [
    "Class method send class as 1st argumenr \n",
    "\n",
    "where static method send instance as 1st argument."
   ]
  },
  {
   "cell_type": "code",
   "execution_count": 166,
   "id": "69b0e949",
   "metadata": {
    "ExecuteTime": {
     "end_time": "2023-04-30T09:59:15.942165Z",
     "start_time": "2023-04-30T09:59:15.925995Z"
    }
   },
   "outputs": [],
   "source": [
    "import csv\n",
    "\n",
    "class Item:\n",
    "    pay_rate = 0.8 # The pay rate after 20% discount\n",
    "    all = []\n",
    "    def __init__(self, name: str, price: float, quantity=0):\n",
    "        # Run validations to the received arguments\n",
    "        assert price >= 0, f\"Price {price} is not greater than or equal to zero!\"\n",
    "        assert quantity >= 0, f\"Quantity {quantity} is not greater or equal to zero!\"\n",
    "\n",
    "        # Assign to self object\n",
    "        self.name = name\n",
    "        self.price = price\n",
    "        self.quantity = quantity\n",
    "\n",
    "        # Actions to execute\n",
    "        Item.all.append(self)\n",
    "\n",
    "    def calculate_total_price(self):\n",
    "        return self.price * self.quantity\n",
    "\n",
    "    def apply_discount(self):\n",
    "        self.price = self.price * self.pay_rate\n",
    "        \n",
    "\n",
    "    @classmethod\n",
    "    def instantiate_from_csv(cls):\n",
    "        with open('items.csv','r') as f:\n",
    "            reader=csv.DictReader(f)\n",
    "            items=list(reader)\n",
    "            \n",
    "        for item in items:\n",
    "#             print(items)\n",
    "            Item(\n",
    "                name=item.get('name'),\n",
    "                price=float(item.get('price')),\n",
    "                quantity=int(item.get('quantity'))\n",
    "            )\n",
    "        \n",
    "    @staticmethod\n",
    "    def is_integer(num):\n",
    "        # We will count out the floats that are point zero\n",
    "        # For i.e: 5.0, 10.0\n",
    "        if isinstance(num, float):\n",
    "            # Count out the floats that are point zero\n",
    "            return num.is_integer()\n",
    "        elif isinstance(num, int):\n",
    "            return True\n",
    "        else:\n",
    "            return false\n",
    "        \n",
    "    def __repr__(self):\n",
    "        return f\"Item('{self.name}', {self.price}, {self.quantity})\"\n"
   ]
  },
  {
   "cell_type": "code",
   "execution_count": 170,
   "id": "93462257",
   "metadata": {
    "ExecuteTime": {
     "end_time": "2023-04-30T09:59:52.850257Z",
     "start_time": "2023-04-30T09:59:52.831763Z"
    }
   },
   "outputs": [
    {
     "name": "stdout",
     "output_type": "stream",
     "text": [
      "False\n"
     ]
    }
   ],
   "source": [
    "print(Item.is_integer(7.5))"
   ]
  },
  {
   "cell_type": "code",
   "execution_count": 169,
   "id": "bdf0545e",
   "metadata": {
    "ExecuteTime": {
     "end_time": "2023-04-30T09:59:50.361459Z",
     "start_time": "2023-04-30T09:59:50.352274Z"
    }
   },
   "outputs": [
    {
     "name": "stdout",
     "output_type": "stream",
     "text": [
      "True\n"
     ]
    }
   ],
   "source": [
    "print(Item.is_integer(7.0))"
   ]
  },
  {
   "cell_type": "markdown",
   "id": "bb3d53d9",
   "metadata": {},
   "source": [
    "We can call it from an instance also:"
   ]
  },
  {
   "cell_type": "code",
   "execution_count": 171,
   "id": "9d4f38ea",
   "metadata": {
    "ExecuteTime": {
     "end_time": "2023-04-30T10:00:39.935961Z",
     "start_time": "2023-04-30T10:00:39.926161Z"
    }
   },
   "outputs": [],
   "source": [
    "item1 = Item(\"Phone\", 100, 1)"
   ]
  },
  {
   "cell_type": "code",
   "execution_count": 172,
   "id": "049db3b5",
   "metadata": {
    "ExecuteTime": {
     "end_time": "2023-04-30T10:00:40.320570Z",
     "start_time": "2023-04-30T10:00:40.309610Z"
    }
   },
   "outputs": [
    {
     "data": {
      "text/plain": [
       "True"
      ]
     },
     "execution_count": 172,
     "metadata": {},
     "output_type": "execute_result"
    }
   ],
   "source": [
    "item1.is_integer(5)"
   ]
  },
  {
   "cell_type": "markdown",
   "id": "01e339a1",
   "metadata": {},
   "source": [
    "**Final code**"
   ]
  },
  {
   "cell_type": "code",
   "execution_count": 133,
   "id": "74fa03ba",
   "metadata": {
    "ExecuteTime": {
     "end_time": "2023-04-30T08:52:24.118301Z",
     "start_time": "2023-04-30T08:52:24.109263Z"
    }
   },
   "outputs": [],
   "source": [
    "\n",
    "# When to use class methods and when to use static methods ?\n",
    "\n",
    "class Item:\n",
    "    @staticmethod\n",
    "    def is_integer():\n",
    "        '''\n",
    "        This should do something that has a relationship\n",
    "        with the class, but not something that must be unique\n",
    "        per instance!\n",
    "        '''\n",
    "    @classmethod\n",
    "    def instantiate_from_something(cls):\n",
    "        '''\n",
    "        This should also do something that has a relationship\n",
    "        with the class, but usually, those are used to\n",
    "        manipulate different structures of data to instantiate\n",
    "        objects, like we have done with CSV.\n",
    "        '''\n",
    "\n",
    "# THE ONLY DIFFERENCE BETWEEN THOSE:\n",
    "# Static methods are not passing the object reference as the first argument in the background!\n",
    "\n",
    "\n",
    "# NOTE: However, those could be also called from instances.\n",
    "\n",
    "item1 = Item()\n",
    "item1.is_integer()\n",
    "item1.instantiate_from_something()"
   ]
  },
  {
   "cell_type": "code",
   "execution_count": 175,
   "id": "2f4af2a6",
   "metadata": {
    "ExecuteTime": {
     "end_time": "2023-04-30T10:17:35.230639Z",
     "start_time": "2023-04-30T10:17:35.210788Z"
    }
   },
   "outputs": [],
   "source": [
    "import csv\n",
    "\n",
    "\n",
    "class Item:\n",
    "    pay_rate = 0.8 # The pay rate after 20% discount\n",
    "    all = []\n",
    "    def __init__(self, name: str, price: float, quantity=0):\n",
    "        # Run validations to the received arguments\n",
    "        assert price >= 0, f\"Price {price} is not greater than or equal to zero!\"\n",
    "        assert quantity >= 0, f\"Quantity {quantity} is not greater or equal to zero!\"\n",
    "\n",
    "        # Assign to self object\n",
    "        self.name = name\n",
    "        self.price = price\n",
    "        self.quantity = quantity\n",
    "\n",
    "        # Actions to execute\n",
    "        Item.all.append(self)\n",
    "\n",
    "    def calculate_total_price(self):\n",
    "        return self.price * self.quantity\n",
    "\n",
    "    def apply_discount(self):\n",
    "        self.price = self.price * self.pay_rate\n",
    "\n",
    "    @classmethod\n",
    "    def instantiate_from_csv(cls):\n",
    "        with open('items.csv', 'r') as f:\n",
    "            reader = csv.DictReader(f)\n",
    "            items = list(reader)\n",
    "\n",
    "        for item in items:\n",
    "            Item(\n",
    "                name=item.get('name'),\n",
    "                price=float(item.get('price')),\n",
    "                quantity=int(item.get('quantity')),\n",
    "            )\n",
    "\n",
    "    @staticmethod\n",
    "    def is_integer(num):\n",
    "        # We will count out the floats that are point zero\n",
    "        # For i.e: 5.0, 10.0\n",
    "        if isinstance(num, float):\n",
    "            print(num)\n",
    "            # Count out the floats that are point zero\n",
    "            print(num.is_integer())\n",
    "            return num.is_integer()\n",
    "        elif isinstance(num, int):\n",
    "            return True\n",
    "        else:\n",
    "            return False\n",
    "\n",
    "    def __repr__(self):\n",
    "        return f\"Item('{self.name}', {self.price}, {self.quantity})\""
   ]
  },
  {
   "cell_type": "code",
   "execution_count": 176,
   "id": "93210527",
   "metadata": {
    "ExecuteTime": {
     "end_time": "2023-04-30T10:17:36.003782Z",
     "start_time": "2023-04-30T10:17:35.981472Z"
    }
   },
   "outputs": [
    {
     "name": "stdout",
     "output_type": "stream",
     "text": [
      "7.0\n",
      "True\n",
      "True\n"
     ]
    }
   ],
   "source": [
    "print(Item.is_integer(7.0))"
   ]
  },
  {
   "cell_type": "markdown",
   "id": "adc449a9",
   "metadata": {},
   "source": [
    "## Inheritance"
   ]
  },
  {
   "cell_type": "markdown",
   "id": "cfc9a44e",
   "metadata": {},
   "source": [
    "- Inheritance allows us to define a class that inherits all the methods and attributes from another class.\n",
    "- Convention denotes the new class as child class, and the one that it inherits from is called parent class or superclass. \n",
    "-  Inheritance builds a relationship between the child class and parent class, usually in a way that the parent class is a general type while the child class is a specific type."
   ]
  },
  {
   "cell_type": "code",
   "execution_count": 180,
   "id": "c89a8587",
   "metadata": {
    "ExecuteTime": {
     "end_time": "2023-04-30T10:27:17.232528Z",
     "start_time": "2023-04-30T10:27:17.215830Z"
    },
    "code_folding": [
     3
    ]
   },
   "outputs": [],
   "source": [
    "import csv\n",
    "\n",
    "\n",
    "class Item:\n",
    "    pay_rate = 0.8 # The pay rate after 20% discount\n",
    "    all = []\n",
    "    def __init__(self, name: str, price: float, quantity=0):\n",
    "        # Run validations to the received arguments\n",
    "        assert price >= 0, f\"Price {price} is not greater than or equal to zero!\"\n",
    "        assert quantity >= 0, f\"Quantity {quantity} is not greater or equal to zero!\"\n",
    "\n",
    "        # Assign to self object\n",
    "        self.name = name\n",
    "        self.price = price\n",
    "        self.quantity = quantity\n",
    "\n",
    "        # Actions to execute\n",
    "        Item.all.append(self)\n",
    "\n",
    "    def calculate_total_price(self):\n",
    "        return self.price * self.quantity\n",
    "\n",
    "    def apply_discount(self):\n",
    "        self.price = self.price * self.pay_rate\n",
    "\n",
    "    @classmethod\n",
    "    def instantiate_from_csv(cls):\n",
    "        with open('items.csv', 'r') as f:\n",
    "            reader = csv.DictReader(f)\n",
    "            items = list(reader)\n",
    "\n",
    "        for item in items:\n",
    "            Item(\n",
    "                name=item.get('name'),\n",
    "                price=float(item.get('price')),\n",
    "                quantity=int(item.get('quantity')),\n",
    "            )\n",
    "\n",
    "    @staticmethod\n",
    "    def is_integer(num):\n",
    "        # We will count out the floats that are point zero\n",
    "        # For i.e: 5.0, 10.0\n",
    "        if isinstance(num, float):\n",
    "            print(num)\n",
    "            # Count out the floats that are point zero\n",
    "            print(num.is_integer())\n",
    "            return num.is_integer()\n",
    "        elif isinstance(num, int):\n",
    "            return True\n",
    "        else:\n",
    "            return False\n",
    "\n",
    "    def __repr__(self):\n",
    "        return f\"Item('{self.name}', {self.price}, {self.quantity})\"\n",
    "    \n",
    "    \n",
    "class Phone(Item):\n",
    "    pass\n",
    "    "
   ]
  },
  {
   "cell_type": "code",
   "execution_count": 181,
   "id": "23064f2e",
   "metadata": {
    "ExecuteTime": {
     "end_time": "2023-04-30T10:33:10.555773Z",
     "start_time": "2023-04-30T10:33:10.549605Z"
    }
   },
   "outputs": [],
   "source": [
    "phone1=Item(\"jscPhonev10\", 500, 5)\n",
    "phone1.brocken_phones=1\n",
    "phone2=Item(\"jscPhonev20\", 700, 5)\n",
    "phone2.brocken_phones=1"
   ]
  },
  {
   "cell_type": "code",
   "execution_count": 182,
   "id": "1541a52f",
   "metadata": {
    "ExecuteTime": {
     "end_time": "2023-04-30T10:33:34.230003Z",
     "start_time": "2023-04-30T10:33:34.216031Z"
    }
   },
   "outputs": [],
   "source": [
    "phone1=Phone(\"jscPhonev10\", 500, 5)\n",
    "phone1.brocken_phones=1\n",
    "phone2=Phone(\"jscPhonev20\", 700, 5)\n",
    "phone2.brocken_phones=1"
   ]
  },
  {
   "cell_type": "markdown",
   "id": "c5f7ae13",
   "metadata": {},
   "source": [
    "Here all the methods and attributes of `Item` (parent class) are inherate by `Phone` (child class)\n",
    "\n"
   ]
  },
  {
   "cell_type": "code",
   "execution_count": 188,
   "id": "f8cc619e",
   "metadata": {
    "ExecuteTime": {
     "end_time": "2023-04-30T10:48:50.014177Z",
     "start_time": "2023-04-30T10:48:49.988388Z"
    },
    "code_folding": [
     3
    ]
   },
   "outputs": [],
   "source": [
    "import csv\n",
    "\n",
    "\n",
    "class Item:\n",
    "    pay_rate = 0.8 # The pay rate after 20% discount\n",
    "    all = []\n",
    "    def __init__(self, name: str, price: float, quantity=0):\n",
    "        # Run validations to the received arguments\n",
    "        assert price >= 0, f\"Price {price} is not greater than or equal to zero!\"\n",
    "        assert quantity >= 0, f\"Quantity {quantity} is not greater or equal to zero!\"\n",
    "\n",
    "        # Assign to self object\n",
    "        self.name = name\n",
    "        self.price = price\n",
    "        self.quantity = quantity\n",
    "\n",
    "        # Actions to execute\n",
    "        Item.all.append(self)\n",
    "\n",
    "    def calculate_total_price(self):\n",
    "        return self.price * self.quantity\n",
    "\n",
    "    def apply_discount(self):\n",
    "        self.price = self.price * self.pay_rate\n",
    "\n",
    "    @classmethod\n",
    "    def instantiate_from_csv(cls):\n",
    "        with open('items.csv', 'r') as f:\n",
    "            reader = csv.DictReader(f)\n",
    "            items = list(reader)\n",
    "\n",
    "        for item in items:\n",
    "            Item(\n",
    "                name=item.get('name'),\n",
    "                price=float(item.get('price')),\n",
    "                quantity=int(item.get('quantity')),\n",
    "            )\n",
    "\n",
    "    @staticmethod\n",
    "    def is_integer(num):\n",
    "        # We will count out the floats that are point zero\n",
    "        # For i.e: 5.0, 10.0\n",
    "        if isinstance(num, float):\n",
    "            print(num)\n",
    "            # Count out the floats that are point zero\n",
    "            print(num.is_integer())\n",
    "            return num.is_integer()\n",
    "        elif isinstance(num, int):\n",
    "            return True\n",
    "        else:\n",
    "            return False\n",
    "\n",
    "    def __repr__(self):\n",
    "        return f\"Item('{self.name}', {self.price}, {self.quantity})\"\n",
    "    \n",
    "    \n",
    "class Phone(Item):\n",
    "    def __init__(self, name: str, price: float, quantity=0,broken_phones=0):\n",
    "        # Run validations to the received arguments\n",
    "        assert price >= 0, f\"Price {price} is not greater than or equal to zero!\"\n",
    "        assert quantity >= 0, f\"Quantity {quantity} is not greater or equal to zero!\"\n",
    "        assert broken_phones >= 0, f\"Broken Phones {broken_phones} is not greater or equal to zero!\"\n",
    "        # Assign to self object\n",
    "        self.name = name\n",
    "        self.price = price\n",
    "        self.quantity = quantity\n",
    "        self.broken_phones=broken_phones\n",
    "\n",
    "        # Actions to execute\n",
    "        Phone.all.append(self)\n"
   ]
  },
  {
   "cell_type": "code",
   "execution_count": 189,
   "id": "6dce17d9",
   "metadata": {
    "ExecuteTime": {
     "end_time": "2023-04-30T10:48:50.680757Z",
     "start_time": "2023-04-30T10:48:50.668885Z"
    }
   },
   "outputs": [
    {
     "name": "stdout",
     "output_type": "stream",
     "text": [
      "2500\n",
      "3500\n"
     ]
    }
   ],
   "source": [
    "phone1=Phone(\"jscPhonev10\", 500, 5,1)\n",
    "print(phone1.calculate_total_price())\n",
    "\n",
    "phone2=Phone(\"jscPhonev20\", 700, 5,1)\n",
    "print(phone2.calculate_total_price())"
   ]
  },
  {
   "cell_type": "markdown",
   "id": "11c6df33",
   "metadata": {},
   "source": [
    "To avoid copy pasting and duplication of code, we will use super"
   ]
  },
  {
   "cell_type": "code",
   "execution_count": 195,
   "id": "e32b8542",
   "metadata": {
    "ExecuteTime": {
     "end_time": "2023-04-30T10:56:28.988025Z",
     "start_time": "2023-04-30T10:56:28.972342Z"
    },
    "code_folding": [
     3
    ]
   },
   "outputs": [],
   "source": [
    "import csv\n",
    "\n",
    "\n",
    "class Item:\n",
    "    pay_rate = 0.8 # The pay rate after 20% discount\n",
    "    all = []\n",
    "    def __init__(self, name: str, price: float, quantity=0):\n",
    "        # Run validations to the received arguments\n",
    "        assert price >= 0, f\"Price {price} is not greater than or equal to zero!\"\n",
    "        assert quantity >= 0, f\"Quantity {quantity} is not greater or equal to zero!\"\n",
    "\n",
    "        # Assign to self object\n",
    "        self.name = name\n",
    "        self.price = price\n",
    "        self.quantity = quantity\n",
    "\n",
    "        # Actions to execute\n",
    "        Item.all.append(self)\n",
    "\n",
    "    def calculate_total_price(self):\n",
    "        return self.price * self.quantity\n",
    "\n",
    "    def apply_discount(self):\n",
    "        self.price = self.price * self.pay_rate\n",
    "\n",
    "    @classmethod\n",
    "    def instantiate_from_csv(cls):\n",
    "        with open('items.csv', 'r') as f:\n",
    "            reader = csv.DictReader(f)\n",
    "            items = list(reader)\n",
    "\n",
    "        for item in items:\n",
    "            Item(\n",
    "                name=item.get('name'),\n",
    "                price=float(item.get('price')),\n",
    "                quantity=int(item.get('quantity')),\n",
    "            )\n",
    "\n",
    "    @staticmethod\n",
    "    def is_integer(num):\n",
    "        # We will count out the floats that are point zero\n",
    "        # For i.e: 5.0, 10.0\n",
    "        if isinstance(num, float):\n",
    "            print(num)\n",
    "            # Count out the floats that are point zero\n",
    "            print(num.is_integer())\n",
    "            return num.is_integer()\n",
    "        elif isinstance(num, int):\n",
    "            return True\n",
    "        else:\n",
    "            return False\n",
    "\n",
    "    def __repr__(self):\n",
    "        return f\"Item('{self.name}', {self.price}, {self.quantity})\"\n",
    "    \n",
    "    \n",
    "class Phone(Item):\n",
    "    def __init__(self, name: str, price: float, quantity=0,broken_phones=0):\n",
    "        # Call to super function to have access to all attributes / methods\n",
    "        super().__init__( \n",
    "            name, price, quantity\n",
    "        )\n",
    "\n",
    "        assert broken_phones >= 0, f\"Broken Phones {broken_phones} is not greater or equal to zero!\"\n",
    "        # Assign to self object\n",
    "        self.broken_phones=broken_phones\n",
    "\n",
    "        # Actions to execute\n",
    "        Phone.all.append(self)\n"
   ]
  },
  {
   "cell_type": "code",
   "execution_count": 196,
   "id": "2ca02e18",
   "metadata": {
    "ExecuteTime": {
     "end_time": "2023-04-30T10:56:29.677140Z",
     "start_time": "2023-04-30T10:56:29.665912Z"
    }
   },
   "outputs": [
    {
     "name": "stdout",
     "output_type": "stream",
     "text": [
      "2500\n"
     ]
    }
   ],
   "source": [
    "phone1=Phone(\"jscPhonev10\", 500, 5, 1)\n",
    "print(phone1.calculate_total_price())"
   ]
  },
  {
   "cell_type": "code",
   "execution_count": 197,
   "id": "0d36053b",
   "metadata": {
    "ExecuteTime": {
     "end_time": "2023-04-30T10:56:30.093661Z",
     "start_time": "2023-04-30T10:56:30.084537Z"
    }
   },
   "outputs": [
    {
     "name": "stdout",
     "output_type": "stream",
     "text": [
      "[Item('jscPhonev10', 500, 5), Item('jscPhonev10', 500, 5)]\n",
      "[Item('jscPhonev10', 500, 5), Item('jscPhonev10', 500, 5)]\n"
     ]
    }
   ],
   "source": [
    "print(Item.all)\n",
    "print(Phone.all)"
   ]
  },
  {
   "cell_type": "markdown",
   "id": "39b97a86",
   "metadata": {},
   "source": [
    "Here we are not seeing the `Phone` class name, as we hardcoded `Item` in __repr__ method\n"
   ]
  },
  {
   "cell_type": "code",
   "execution_count": 198,
   "id": "48ef9d3d",
   "metadata": {
    "ExecuteTime": {
     "end_time": "2023-04-30T11:02:00.219140Z",
     "start_time": "2023-04-30T11:02:00.189039Z"
    },
    "code_folding": [
     6,
     19,
     22,
     26,
     39
    ],
    "run_control": {
     "marked": false
    }
   },
   "outputs": [],
   "source": [
    "import csv\n",
    "\n",
    "\n",
    "class Item:\n",
    "    pay_rate = 0.8 # The pay rate after 20% discount\n",
    "    all = []\n",
    "    def __init__(self, name: str, price: float, quantity=0):\n",
    "        # Run validations to the received arguments\n",
    "        assert price >= 0, f\"Price {price} is not greater than or equal to zero!\"\n",
    "        assert quantity >= 0, f\"Quantity {quantity} is not greater or equal to zero!\"\n",
    "\n",
    "        # Assign to self object\n",
    "        self.name = name\n",
    "        self.price = price\n",
    "        self.quantity = quantity\n",
    "\n",
    "        # Actions to execute\n",
    "        Item.all.append(self)\n",
    "\n",
    "    def calculate_total_price(self):\n",
    "        return self.price * self.quantity\n",
    "\n",
    "    def apply_discount(self):\n",
    "        self.price = self.price * self.pay_rate\n",
    "\n",
    "    @classmethod\n",
    "    def instantiate_from_csv(cls):\n",
    "        with open('items.csv', 'r') as f:\n",
    "            reader = csv.DictReader(f)\n",
    "            items = list(reader)\n",
    "\n",
    "        for item in items:\n",
    "            Item(\n",
    "                name=item.get('name'),\n",
    "                price=float(item.get('price')),\n",
    "                quantity=int(item.get('quantity')),\n",
    "            )\n",
    "\n",
    "    @staticmethod\n",
    "    def is_integer(num):\n",
    "        # We will count out the floats that are point zero\n",
    "        # For i.e: 5.0, 10.0\n",
    "        if isinstance(num, float):\n",
    "            print(num)\n",
    "            # Count out the floats that are point zero\n",
    "            print(num.is_integer())\n",
    "            return num.is_integer()\n",
    "        elif isinstance(num, int):\n",
    "            return True\n",
    "        else:\n",
    "            return False\n",
    "\n",
    "    def __repr__(self):\n",
    "        return f\"{self.__class__.__name__}('{self.name}', {self.price}, {self.quantity})\"\n",
    "    \n",
    "    \n",
    "class Phone(Item):\n",
    "    def __init__(self, name: str, price: float, quantity=0,broken_phones=0):\n",
    "        # Call to super function to have access to all attributes / methods\n",
    "        super().__init__( \n",
    "            name, price, quantity\n",
    "        )\n",
    "\n",
    "        assert broken_phones >= 0, f\"Broken Phones {broken_phones} is not greater or equal to zero!\"\n",
    "        # Assign to self object\n",
    "        self.broken_phones=broken_phones\n",
    "\n",
    "        # Actions to execute\n",
    "        Phone.all.append(self)\n"
   ]
  },
  {
   "cell_type": "code",
   "execution_count": 199,
   "id": "a3fba410",
   "metadata": {
    "ExecuteTime": {
     "end_time": "2023-04-30T11:02:28.392344Z",
     "start_time": "2023-04-30T11:02:28.382988Z"
    }
   },
   "outputs": [
    {
     "name": "stdout",
     "output_type": "stream",
     "text": [
      "2500\n"
     ]
    }
   ],
   "source": [
    "phone1=Phone(\"jscPhonev10\", 500, 5, 1)\n",
    "print(phone1.calculate_total_price())"
   ]
  },
  {
   "cell_type": "code",
   "execution_count": 200,
   "id": "03c3bf49",
   "metadata": {
    "ExecuteTime": {
     "end_time": "2023-04-30T11:02:29.271322Z",
     "start_time": "2023-04-30T11:02:29.256790Z"
    }
   },
   "outputs": [
    {
     "name": "stdout",
     "output_type": "stream",
     "text": [
      "[Phone('jscPhonev10', 500, 5), Phone('jscPhonev10', 500, 5)]\n",
      "[Phone('jscPhonev10', 500, 5), Phone('jscPhonev10', 500, 5)]\n"
     ]
    }
   ],
   "source": [
    "print(Item.all)\n",
    "print(Phone.all)"
   ]
  },
  {
   "cell_type": "markdown",
   "id": "f8e85caa",
   "metadata": {},
   "source": [
    "as we use super it take class method also from parent, so we can remove `.all` from child class."
   ]
  },
  {
   "cell_type": "markdown",
   "id": "aa392c6e",
   "metadata": {},
   "source": [
    "**Final Code**"
   ]
  },
  {
   "cell_type": "code",
   "execution_count": 204,
   "id": "439cdeda",
   "metadata": {
    "ExecuteTime": {
     "end_time": "2023-04-30T11:07:16.242281Z",
     "start_time": "2023-04-30T11:07:16.225950Z"
    },
    "code_folding": []
   },
   "outputs": [],
   "source": [
    "import csv\n",
    "\n",
    "\n",
    "class Item:\n",
    "    pay_rate = 0.8 # The pay rate after 20% discount\n",
    "    all = []\n",
    "    def __init__(self, name: str, price: float, quantity=0):\n",
    "        # Run validations to the received arguments\n",
    "        assert price >= 0, f\"Price {price} is not greater than or equal to zero!\"\n",
    "        assert quantity >= 0, f\"Quantity {quantity} is not greater or equal to zero!\"\n",
    "\n",
    "        # Assign to self object\n",
    "        self.name = name\n",
    "        self.price = price\n",
    "        self.quantity = quantity\n",
    "\n",
    "        # Actions to execute\n",
    "        Item.all.append(self)\n",
    "\n",
    "    def calculate_total_price(self):\n",
    "        return self.price * self.quantity\n",
    "\n",
    "    def apply_discount(self):\n",
    "        self.price = self.price * self.pay_rate\n",
    "\n",
    "    @classmethod\n",
    "    def instantiate_from_csv(cls):\n",
    "        with open('items.csv', 'r') as f:\n",
    "            reader = csv.DictReader(f)\n",
    "            items = list(reader)\n",
    "\n",
    "        for item in items:\n",
    "            Item(\n",
    "                name=item.get('name'),\n",
    "                price=float(item.get('price')),\n",
    "                quantity=int(item.get('quantity')),\n",
    "            )\n",
    "\n",
    "    @staticmethod\n",
    "    def is_integer(num):\n",
    "        # We will count out the floats that are point zero\n",
    "        # For i.e: 5.0, 10.0\n",
    "        if isinstance(num, float):\n",
    "            # Count out the floats that are point zero\n",
    "            return num.is_integer()\n",
    "        elif isinstance(num, int):\n",
    "            return True\n",
    "        else:\n",
    "            return False\n",
    "\n",
    "    def __repr__(self):\n",
    "        return f\"{self.__class__.__name__}('{self.name}', {self.price}, {self.quantity})\"\n",
    "\n",
    "\n",
    "class Phone(Item):\n",
    "    def __init__(self, name: str, price: float, quantity=0, broken_phones=0):\n",
    "        # Call to super function to have access to all attributes / methods\n",
    "        super().__init__(\n",
    "            name, price, quantity\n",
    "        )\n",
    "\n",
    "        # Run validations to the received arguments\n",
    "        assert broken_phones >= 0, f\"Broken Phones {broken_phones} is not greater or equal to zero!\"\n",
    "\n",
    "        # Assign to self object\n",
    "        self.broken_phones = broken_phones\n"
   ]
  },
  {
   "cell_type": "code",
   "execution_count": 205,
   "id": "7ed858ad",
   "metadata": {
    "ExecuteTime": {
     "end_time": "2023-04-30T11:07:18.496374Z",
     "start_time": "2023-04-30T11:07:18.478921Z"
    }
   },
   "outputs": [
    {
     "name": "stdout",
     "output_type": "stream",
     "text": [
      "[Phone('jscPhonev10', 500, 5)]\n",
      "[Phone('jscPhonev10', 500, 5)]\n"
     ]
    }
   ],
   "source": [
    "phone1 = Phone(\"jscPhonev10\", 500, 5, 1)\n",
    "\n",
    "print(Item.all)\n",
    "print(Phone.all)"
   ]
  },
  {
   "cell_type": "markdown",
   "id": "8afe03f4",
   "metadata": {},
   "source": [
    "## Getters and Setters"
   ]
  },
  {
   "cell_type": "markdown",
   "id": "f25867cd",
   "metadata": {},
   "source": [
    "Basically, the main purpose of using getters and setters in object-oriented programs is to ensure data encapsulation.\n",
    "Private variables in python are not actually hidden fields like in other object oriented languages. Getters and Setters in python are often used when:\n",
    "\n",
    "- We use getters & setters to add validation logic around getting and setting a value.\n",
    "- To avoid direct access of a class field i.e. private variables cannot be accessed directly or modified by external user."
   ]
  },
  {
   "cell_type": "code",
   "execution_count": 212,
   "id": "04ccaaf3",
   "metadata": {
    "ExecuteTime": {
     "end_time": "2023-04-30T17:05:31.603186Z",
     "start_time": "2023-04-30T17:05:31.584562Z"
    },
    "code_folding": [
     0,
     3
    ],
    "run_control": {
     "marked": true
    }
   },
   "outputs": [],
   "source": [
    "class Item:\n",
    "    pay_rate = 0.8 # The pay rate after 20% discount\n",
    "    all = []\n",
    "    def __init__(self, name: str, price: float, quantity=0):\n",
    "        # Run validations to the received arguments\n",
    "        assert price >= 0, f\"Price {price} is not greater than or equal to zero!\"\n",
    "        assert quantity >= 0, f\"Quantity {quantity} is not greater or equal to zero!\"\n",
    "\n",
    "        # Assign to self object\n",
    "        self.name = name\n",
    "        self.price = price\n",
    "        self.quantity = quantity\n",
    "\n",
    "        # Actions to execute\n",
    "        Item.all.append(self)\n",
    "\n",
    "    def calculate_total_price(self):\n",
    "        return self.price * self.quantity\n",
    "\n",
    "    def apply_discount(self):\n",
    "        self.price = self.price * self.pay_rate\n",
    "\n",
    "    @classmethod\n",
    "    def instantiate_from_csv(cls):\n",
    "        with open('items.csv', 'r') as f:\n",
    "            reader = csv.DictReader(f)\n",
    "            items = list(reader)\n",
    "\n",
    "        for item in items:\n",
    "            Item(\n",
    "                name=item.get('name'),\n",
    "                price=float(item.get('price')),\n",
    "                quantity=int(item.get('quantity')),\n",
    "            )\n",
    "\n",
    "    @staticmethod\n",
    "    def is_integer(num):\n",
    "        # We will count out the floats that are point zero\n",
    "        # For i.e: 5.0, 10.0\n",
    "        if isinstance(num, float):\n",
    "            # Count out the floats that are point zero\n",
    "            return num.is_integer()\n",
    "        elif isinstance(num, int):\n",
    "            return True\n",
    "        else:\n",
    "            return False\n",
    "\n",
    "    def __repr__(self):\n",
    "        return f\"{self.__class__.__name__}('{self.name}', {self.price}, {self.quantity})\""
   ]
  },
  {
   "cell_type": "code",
   "execution_count": 213,
   "id": "e4a2dc1a",
   "metadata": {
    "ExecuteTime": {
     "end_time": "2023-04-30T17:05:32.473771Z",
     "start_time": "2023-04-30T17:05:32.460557Z"
    },
    "code_folding": [
     1
    ]
   },
   "outputs": [],
   "source": [
    "import csv\n",
    "class Phone(Item):\n",
    "    def __init__(self, name: str, price: float, quantity=0, broken_phones=0):\n",
    "        # Call to super function to have access to all attributes / methods\n",
    "        super().__init__(\n",
    "            name, price, quantity\n",
    "        )\n",
    "\n",
    "        # Run validations to the received arguments\n",
    "        assert broken_phones >= 0, f\"Broken Phones {broken_phones} is not greater or equal to zero!\"\n",
    "\n",
    "        # Assign to self object\n",
    "        self.broken_phones = broken_phones\n"
   ]
  },
  {
   "cell_type": "markdown",
   "id": "49710af5",
   "metadata": {},
   "source": [
    "To create read only attributes, we use decorator `@property`"
   ]
  },
  {
   "cell_type": "code",
   "execution_count": 222,
   "id": "c5415555",
   "metadata": {
    "ExecuteTime": {
     "end_time": "2023-04-30T17:31:45.116935Z",
     "start_time": "2023-04-30T17:31:45.085884Z"
    },
    "code_folding": [
     19,
     23,
     36
    ],
    "run_control": {
     "marked": false
    }
   },
   "outputs": [],
   "source": [
    "class Item:\n",
    "    pay_rate = 0.8 # The pay rate after 20% discount\n",
    "    all = []\n",
    "    def __init__(self, name: str, price: float, quantity=0):\n",
    "        # Run validations to the received arguments\n",
    "        assert price >= 0, f\"Price {price} is not greater than or equal to zero!\"\n",
    "        assert quantity >= 0, f\"Quantity {quantity} is not greater or equal to zero!\"\n",
    "\n",
    "        # Assign to self object\n",
    "        self.name = name\n",
    "        self.price = price\n",
    "        self.quantity = quantity\n",
    "\n",
    "        # Actions to execute\n",
    "        Item.all.append(self)\n",
    "\n",
    "    def calculate_total_price(self):\n",
    "        return self.price * self.quantity\n",
    "\n",
    "    def apply_discount(self):\n",
    "        self.price = self.price * self.pay_rate\n",
    "\n",
    "    @classmethod\n",
    "    def instantiate_from_csv(cls):\n",
    "        with open('items.csv', 'r') as f:\n",
    "            reader = csv.DictReader(f)\n",
    "            items = list(reader)\n",
    "\n",
    "        for item in items:\n",
    "            Item(\n",
    "                name=item.get('name'),\n",
    "                price=float(item.get('price')),\n",
    "                quantity=int(item.get('quantity')),\n",
    "            )\n",
    "\n",
    "    @staticmethod\n",
    "    def is_integer(num):\n",
    "        # We will count out the floats that are point zero\n",
    "        # For i.e: 5.0, 10.0\n",
    "        if isinstance(num, float):\n",
    "            # Count out the floats that are point zero\n",
    "            return num.is_integer()\n",
    "        elif isinstance(num, int):\n",
    "            return True\n",
    "        else:\n",
    "            return False\n",
    "\n",
    "    def __repr__(self):\n",
    "        return f\"{self.__class__.__name__}('{self.name}', {self.price}, {self.quantity})\"\n",
    "    \n",
    "    @property\n",
    "    def read_only_name(self):\n",
    "        return \"AAA\""
   ]
  },
  {
   "cell_type": "code",
   "execution_count": 223,
   "id": "dcb6f681",
   "metadata": {
    "ExecuteTime": {
     "end_time": "2023-04-30T17:31:45.911219Z",
     "start_time": "2023-04-30T17:31:45.899590Z"
    }
   },
   "outputs": [
    {
     "name": "stdout",
     "output_type": "stream",
     "text": [
      "Other guy\n",
      "AAA\n"
     ]
    }
   ],
   "source": [
    "item1 =Item(\"My Item\", 750)\n",
    "\n",
    "item1.name = \"Other guy\"\n",
    "\n",
    "print(item1.name)\n",
    "print(item1.read_only_name)\n"
   ]
  },
  {
   "cell_type": "markdown",
   "id": "9bd5212c",
   "metadata": {},
   "source": [
    "If we try to set new value `read_only_name` it will not work, as it is read only attribute."
   ]
  },
  {
   "cell_type": "code",
   "execution_count": 224,
   "id": "e606a84e",
   "metadata": {
    "ExecuteTime": {
     "end_time": "2023-04-30T17:31:47.914992Z",
     "start_time": "2023-04-30T17:31:47.896113Z"
    }
   },
   "outputs": [
    {
     "ename": "AttributeError",
     "evalue": "can't set attribute",
     "output_type": "error",
     "traceback": [
      "\u001b[1;31m---------------------------------------------------------------------------\u001b[0m",
      "\u001b[1;31mAttributeError\u001b[0m                            Traceback (most recent call last)",
      "Cell \u001b[1;32mIn[224], line 1\u001b[0m\n\u001b[1;32m----> 1\u001b[0m \u001b[43mitem1\u001b[49m\u001b[38;5;241;43m.\u001b[39;49m\u001b[43mread_only_name\u001b[49m\u001b[38;5;241m=\u001b[39m\u001b[38;5;124m\"\u001b[39m\u001b[38;5;124mBBB\u001b[39m\u001b[38;5;124m\"\u001b[39m\n",
      "\u001b[1;31mAttributeError\u001b[0m: can't set attribute"
     ]
    }
   ],
   "source": [
    "item1.read_only_name=\"BBB\""
   ]
  },
  {
   "cell_type": "markdown",
   "id": "436b6e0c",
   "metadata": {},
   "source": [
    "So like this we create read only attribute in python.\n",
    "\n",
    "\n",
    "To create `name` as read only atribute:"
   ]
  },
  {
   "cell_type": "code",
   "execution_count": null,
   "id": "15f931dd",
   "metadata": {},
   "outputs": [],
   "source": []
  },
  {
   "cell_type": "code",
   "execution_count": 243,
   "id": "4a78c69a",
   "metadata": {
    "ExecuteTime": {
     "end_time": "2023-04-30T17:46:54.416003Z",
     "start_time": "2023-04-30T17:46:54.399987Z"
    },
    "code_folding": [
     25,
     29,
     42
    ],
    "run_control": {
     "marked": false
    }
   },
   "outputs": [],
   "source": [
    "class Item:\n",
    "    pay_rate = 0.8 # The pay rate after 20% discount\n",
    "    all = []\n",
    "    def __init__(self, name: str, price: float, quantity=0):\n",
    "        # Run validations to the received arguments\n",
    "        assert price >= 0, f\"Price {price} is not greater than or equal to zero!\"\n",
    "        assert quantity >= 0, f\"Quantity {quantity} is not greater or equal to zero!\"\n",
    "\n",
    "        # Assign to self object\n",
    "        self._name = name\n",
    "        self.price = price\n",
    "        self.quantity = quantity\n",
    "\n",
    "        # Actions to execute\n",
    "        Item.all.append(self)\n",
    "\n",
    "    @property\n",
    "    # Property Decorator = Read-Only Attribute\n",
    "    def name(self):\n",
    "        return self._name\n",
    "    \n",
    "    \n",
    "    def calculate_total_price(self):\n",
    "        return self.price * self.quantity\n",
    "\n",
    "    def apply_discount(self):\n",
    "        self.price = self.price * self.pay_rate\n",
    "\n",
    "    @classmethod\n",
    "    def instantiate_from_csv(cls):\n",
    "        with open('items.csv', 'r') as f:\n",
    "            reader = csv.DictReader(f)\n",
    "            items = list(reader)\n",
    "\n",
    "        for item in items:\n",
    "            Item(\n",
    "                name=item.get('name'),\n",
    "                price=float(item.get('price')),\n",
    "                quantity=int(item.get('quantity')),\n",
    "            )\n",
    "\n",
    "    @staticmethod\n",
    "    def is_integer(num):\n",
    "        # We will count out the floats that are point zero\n",
    "        # For i.e: 5.0, 10.0\n",
    "        if isinstance(num, float):\n",
    "            # Count out the floats that are point zero\n",
    "            return num.is_integer()\n",
    "        elif isinstance(num, int):\n",
    "            return True\n",
    "        else:\n",
    "            return False\n",
    "\n",
    "    def __repr__(self):\n",
    "        return f\"{self.__class__.__name__}('{self.name}', {self.price}, {self.quantity})\"\n",
    "    "
   ]
  },
  {
   "cell_type": "code",
   "execution_count": 244,
   "id": "d6b3c470",
   "metadata": {
    "ExecuteTime": {
     "end_time": "2023-04-30T17:46:55.194700Z",
     "start_time": "2023-04-30T17:46:55.184002Z"
    }
   },
   "outputs": [
    {
     "name": "stdout",
     "output_type": "stream",
     "text": [
      "My Item\n"
     ]
    }
   ],
   "source": [
    "item1 =Item(\"My Item\", 750)\n",
    "print(item1.name)\n"
   ]
  },
  {
   "cell_type": "code",
   "execution_count": 227,
   "id": "125ac0fd",
   "metadata": {
    "ExecuteTime": {
     "end_time": "2023-04-30T17:37:51.580791Z",
     "start_time": "2023-04-30T17:37:51.553911Z"
    }
   },
   "outputs": [
    {
     "ename": "AttributeError",
     "evalue": "can't set attribute",
     "output_type": "error",
     "traceback": [
      "\u001b[1;31m---------------------------------------------------------------------------\u001b[0m",
      "\u001b[1;31mAttributeError\u001b[0m                            Traceback (most recent call last)",
      "Cell \u001b[1;32mIn[227], line 1\u001b[0m\n\u001b[1;32m----> 1\u001b[0m \u001b[43mitem1\u001b[49m\u001b[38;5;241;43m.\u001b[39;49m\u001b[43mname\u001b[49m \u001b[38;5;241m=\u001b[39m \u001b[38;5;124m\"\u001b[39m\u001b[38;5;124mOther guy\u001b[39m\u001b[38;5;124m\"\u001b[39m\n",
      "\u001b[1;31mAttributeError\u001b[0m: can't set attribute"
     ]
    }
   ],
   "source": [
    "item1.name = \"Other guy\""
   ]
  },
  {
   "cell_type": "markdown",
   "id": "c2c3c143",
   "metadata": {},
   "source": [
    "Now we cant set attribute as it is read only now.\n",
    "\n",
    "But still we can change it from instance level."
   ]
  },
  {
   "cell_type": "code",
   "execution_count": 246,
   "id": "a398a883",
   "metadata": {
    "ExecuteTime": {
     "end_time": "2023-04-30T17:47:07.983588Z",
     "start_time": "2023-04-30T17:47:07.975004Z"
    }
   },
   "outputs": [
    {
     "name": "stdout",
     "output_type": "stream",
     "text": [
      "My Item\n"
     ]
    }
   ],
   "source": [
    "# item1._name = \"Other guy\"\n",
    "print(item1._name)\n"
   ]
  },
  {
   "cell_type": "code",
   "execution_count": 247,
   "id": "4a713a59",
   "metadata": {
    "ExecuteTime": {
     "end_time": "2023-04-30T17:47:38.232877Z",
     "start_time": "2023-04-30T17:47:38.210415Z"
    }
   },
   "outputs": [
    {
     "name": "stdout",
     "output_type": "stream",
     "text": [
      "Other guy\n",
      "Other guy\n"
     ]
    }
   ],
   "source": [
    "item1._name = \"Other guy\"\n",
    "print(item1._name)\n",
    "print(item1.name)"
   ]
  },
  {
   "cell_type": "code",
   "execution_count": null,
   "id": "d25a10f2",
   "metadata": {},
   "outputs": [],
   "source": []
  },
  {
   "cell_type": "markdown",
   "id": "b0cc222f",
   "metadata": {},
   "source": [
    "To prevent complete aacess, we can avoiod this by adding `__`in name, (private keyword)"
   ]
  },
  {
   "cell_type": "code",
   "execution_count": null,
   "id": "79036e2c",
   "metadata": {},
   "outputs": [],
   "source": []
  },
  {
   "cell_type": "code",
   "execution_count": 249,
   "id": "ad4c2de6",
   "metadata": {
    "ExecuteTime": {
     "end_time": "2023-04-30T17:48:26.364301Z",
     "start_time": "2023-04-30T17:48:26.345304Z"
    },
    "code_folding": [
     25,
     29,
     42
    ],
    "run_control": {
     "marked": false
    }
   },
   "outputs": [],
   "source": [
    "class Item:\n",
    "    pay_rate = 0.8 # The pay rate after 20% discount\n",
    "    all = []\n",
    "    def __init__(self, name: str, price: float, quantity=0):\n",
    "        # Run validations to the received arguments\n",
    "        assert price >= 0, f\"Price {price} is not greater than or equal to zero!\"\n",
    "        assert quantity >= 0, f\"Quantity {quantity} is not greater or equal to zero!\"\n",
    "\n",
    "        # Assign to self object\n",
    "        self.__name = name\n",
    "        self.price = price\n",
    "        self.quantity = quantity\n",
    "\n",
    "        # Actions to execute\n",
    "        Item.all.append(self)\n",
    "\n",
    "    @property\n",
    "    # Property Decorator = Read-Only Attribute\n",
    "    def name(self):\n",
    "        return self.__name\n",
    "    \n",
    "    \n",
    "    def calculate_total_price(self):\n",
    "        return self.price * self.quantity\n",
    "\n",
    "    def apply_discount(self):\n",
    "        self.price = self.price * self.pay_rate\n",
    "\n",
    "    @classmethod\n",
    "    def instantiate_from_csv(cls):\n",
    "        with open('items.csv', 'r') as f:\n",
    "            reader = csv.DictReader(f)\n",
    "            items = list(reader)\n",
    "\n",
    "        for item in items:\n",
    "            Item(\n",
    "                name=item.get('name'),\n",
    "                price=float(item.get('price')),\n",
    "                quantity=int(item.get('quantity')),\n",
    "            )\n",
    "\n",
    "    @staticmethod\n",
    "    def is_integer(num):\n",
    "        # We will count out the floats that are point zero\n",
    "        # For i.e: 5.0, 10.0\n",
    "        if isinstance(num, float):\n",
    "            # Count out the floats that are point zero\n",
    "            return num.is_integer()\n",
    "        elif isinstance(num, int):\n",
    "            return True\n",
    "        else:\n",
    "            return False\n",
    "\n",
    "    def __repr__(self):\n",
    "        return f\"{self.__class__.__name__}('{self.name}', {self.price}, {self.quantity})\"\n",
    "    "
   ]
  },
  {
   "cell_type": "code",
   "execution_count": 250,
   "id": "1ad6aa41",
   "metadata": {
    "ExecuteTime": {
     "end_time": "2023-04-30T17:48:27.242301Z",
     "start_time": "2023-04-30T17:48:27.232250Z"
    }
   },
   "outputs": [
    {
     "name": "stdout",
     "output_type": "stream",
     "text": [
      "My Item\n"
     ]
    }
   ],
   "source": [
    "item1 =Item(\"My Item\", 750)\n",
    "print(item1.name)\n"
   ]
  },
  {
   "cell_type": "code",
   "execution_count": 254,
   "id": "e40b7f94",
   "metadata": {
    "ExecuteTime": {
     "end_time": "2023-04-30T17:54:01.322491Z",
     "start_time": "2023-04-30T17:54:01.296847Z"
    }
   },
   "outputs": [
    {
     "ename": "AttributeError",
     "evalue": "can't set attribute",
     "output_type": "error",
     "traceback": [
      "\u001b[1;31m---------------------------------------------------------------------------\u001b[0m",
      "\u001b[1;31mAttributeError\u001b[0m                            Traceback (most recent call last)",
      "Cell \u001b[1;32mIn[254], line 1\u001b[0m\n\u001b[1;32m----> 1\u001b[0m \u001b[43mitem1\u001b[49m\u001b[38;5;241;43m.\u001b[39;49m\u001b[43mname\u001b[49m \u001b[38;5;241m=\u001b[39m \u001b[38;5;124m\"\u001b[39m\u001b[38;5;124mOther item\u001b[39m\u001b[38;5;124m\"\u001b[39m\n",
      "\u001b[1;31mAttributeError\u001b[0m: can't set attribute"
     ]
    }
   ],
   "source": [
    "item1.name = \"Other item\""
   ]
  },
  {
   "cell_type": "code",
   "execution_count": 251,
   "id": "bb419099",
   "metadata": {
    "ExecuteTime": {
     "end_time": "2023-04-30T17:48:28.125399Z",
     "start_time": "2023-04-30T17:48:28.101819Z"
    }
   },
   "outputs": [
    {
     "ename": "AttributeError",
     "evalue": "'Item' object has no attribute '__name'",
     "output_type": "error",
     "traceback": [
      "\u001b[1;31m---------------------------------------------------------------------------\u001b[0m",
      "\u001b[1;31mAttributeError\u001b[0m                            Traceback (most recent call last)",
      "Cell \u001b[1;32mIn[251], line 2\u001b[0m\n\u001b[0;32m      1\u001b[0m \u001b[38;5;66;03m# item1.__name = \"Other guy\"\u001b[39;00m\n\u001b[1;32m----> 2\u001b[0m \u001b[38;5;28mprint\u001b[39m(\u001b[43mitem1\u001b[49m\u001b[38;5;241;43m.\u001b[39;49m\u001b[43m__name\u001b[49m)\n",
      "\u001b[1;31mAttributeError\u001b[0m: 'Item' object has no attribute '__name'"
     ]
    }
   ],
   "source": [
    "# item1.__name = \"Other guy\"\n",
    "print(item1.__name)\n"
   ]
  },
  {
   "cell_type": "code",
   "execution_count": 252,
   "id": "e3c171c4",
   "metadata": {
    "ExecuteTime": {
     "end_time": "2023-04-30T17:48:31.376441Z",
     "start_time": "2023-04-30T17:48:31.360514Z"
    }
   },
   "outputs": [
    {
     "name": "stdout",
     "output_type": "stream",
     "text": [
      "My Item\n"
     ]
    }
   ],
   "source": [
    "item1.__name = \"Other guy\"\n",
    "# print(item1._name)\n",
    "print(item1.name)"
   ]
  },
  {
   "cell_type": "markdown",
   "id": "72e3b604",
   "metadata": {},
   "source": [
    "Now we cant set new value to name attribute.\n",
    "\n",
    "To set new value to `name` attribute, that achivable by setter method with help of decorator `@name.setter`"
   ]
  },
  {
   "cell_type": "code",
   "execution_count": null,
   "id": "0787bd94",
   "metadata": {},
   "outputs": [],
   "source": []
  },
  {
   "cell_type": "code",
   "execution_count": 258,
   "id": "82fc7320",
   "metadata": {
    "ExecuteTime": {
     "end_time": "2023-04-30T18:00:29.882824Z",
     "start_time": "2023-04-30T18:00:29.864113Z"
    },
    "code_folding": [
     25,
     29,
     42
    ],
    "run_control": {
     "marked": false
    }
   },
   "outputs": [],
   "source": [
    "class Item:\n",
    "    pay_rate = 0.8 # The pay rate after 20% discount\n",
    "    all = []\n",
    "    def __init__(self, name: str, price: float, quantity=0):\n",
    "        # Run validations to the received arguments\n",
    "        assert price >= 0, f\"Price {price} is not greater than or equal to zero!\"\n",
    "        assert quantity >= 0, f\"Quantity {quantity} is not greater or equal to zero!\"\n",
    "\n",
    "        # Assign to self object\n",
    "        self.__name = name\n",
    "        self.price = price\n",
    "        self.quantity = quantity\n",
    "\n",
    "        # Actions to execute\n",
    "        Item.all.append(self)\n",
    "\n",
    "    @property\n",
    "    # Property Decorator = Read-Only Attribute\n",
    "    def name(self):\n",
    "        return self.__name\n",
    "    \n",
    "    @name.setter\n",
    "    def name(self, value):\n",
    "        self.__name = value\n",
    "    \n",
    "    \n",
    "    def calculate_total_price(self):\n",
    "        return self.price * self.quantity\n",
    "\n",
    "    def apply_discount(self):\n",
    "        self.price = self.price * self.pay_rate\n",
    "\n",
    "    @classmethod\n",
    "    def instantiate_from_csv(cls):\n",
    "        with open('items.csv', 'r') as f:\n",
    "            reader = csv.DictReader(f)\n",
    "            items = list(reader)\n",
    "\n",
    "        for item in items:\n",
    "            Item(\n",
    "                name=item.get('name'),\n",
    "                price=float(item.get('price')),\n",
    "                quantity=int(item.get('quantity')),\n",
    "            )\n",
    "\n",
    "    @staticmethod\n",
    "    def is_integer(num):\n",
    "        # We will count out the floats that are point zero\n",
    "        # For i.e: 5.0, 10.0\n",
    "        if isinstance(num, float):\n",
    "            # Count out the floats that are point zero\n",
    "            return num.is_integer()\n",
    "        elif isinstance(num, int):\n",
    "            return True\n",
    "        else:\n",
    "            return False\n",
    "\n",
    "    def __repr__(self):\n",
    "        return f\"{self.__class__.__name__}('{self.name}', {self.price}, {self.quantity})\"\n",
    "    "
   ]
  },
  {
   "cell_type": "code",
   "execution_count": 262,
   "id": "42b13bbd",
   "metadata": {
    "ExecuteTime": {
     "end_time": "2023-04-30T18:10:59.851849Z",
     "start_time": "2023-04-30T18:10:59.838592Z"
    }
   },
   "outputs": [
    {
     "name": "stdout",
     "output_type": "stream",
     "text": [
      "You are trying to get name\n",
      "My Item\n"
     ]
    }
   ],
   "source": [
    "item1 =Item(\"My Item\", 750)\n",
    "print(item1.name)"
   ]
  },
  {
   "cell_type": "code",
   "execution_count": 264,
   "id": "290fdd88",
   "metadata": {
    "ExecuteTime": {
     "end_time": "2023-04-30T18:11:24.475660Z",
     "start_time": "2023-04-30T18:11:24.460631Z"
    }
   },
   "outputs": [
    {
     "name": "stdout",
     "output_type": "stream",
     "text": [
      "You are trying to set name\n"
     ]
    }
   ],
   "source": [
    "item1.name = \"Other item\""
   ]
  },
  {
   "cell_type": "code",
   "execution_count": 265,
   "id": "a4484b2a",
   "metadata": {
    "ExecuteTime": {
     "end_time": "2023-04-30T18:11:35.532873Z",
     "start_time": "2023-04-30T18:11:35.518001Z"
    }
   },
   "outputs": [
    {
     "name": "stdout",
     "output_type": "stream",
     "text": [
      "You are trying to get name\n",
      "Other item\n"
     ]
    }
   ],
   "source": [
    "print(item1.name)"
   ]
  },
  {
   "cell_type": "markdown",
   "id": "2b4e2909",
   "metadata": {
    "ExecuteTime": {
     "end_time": "2023-04-30T18:00:16.596319Z",
     "start_time": "2023-04-30T18:00:16.579296Z"
    }
   },
   "source": [
    "So now we can set the new name value."
   ]
  },
  {
   "cell_type": "markdown",
   "id": "2dac3dd2",
   "metadata": {},
   "source": [
    "To clear understanding how it work and which line execute, lets print a random,"
   ]
  },
  {
   "cell_type": "code",
   "execution_count": 261,
   "id": "6931b616",
   "metadata": {
    "ExecuteTime": {
     "end_time": "2023-04-30T18:10:23.686044Z",
     "start_time": "2023-04-30T18:10:23.656584Z"
    },
    "code_folding": [
     3,
     26,
     29,
     33,
     34,
     46,
     57
    ],
    "run_control": {
     "marked": false
    }
   },
   "outputs": [],
   "source": [
    "class Item:\n",
    "    pay_rate = 0.8 # The pay rate after 20% discount\n",
    "    all = []\n",
    "    def __init__(self, name: str, price: float, quantity=0):\n",
    "        # Run validations to the received arguments\n",
    "        assert price >= 0, f\"Price {price} is not greater than or equal to zero!\"\n",
    "        assert quantity >= 0, f\"Quantity {quantity} is not greater or equal to zero!\"\n",
    "\n",
    "        # Assign to self object\n",
    "        self.__name = name\n",
    "        self.price = price\n",
    "        self.quantity = quantity\n",
    "\n",
    "        # Actions to execute\n",
    "        Item.all.append(self)\n",
    "\n",
    "    @property\n",
    "    # Property Decorator = Read-Only Attribute\n",
    "    def name(self):\n",
    "        print(\"You are trying to get name\")\n",
    "        return self.__name\n",
    "    \n",
    "    @name.setter\n",
    "    def name(self, value):\n",
    "        print(\"You are trying to set name\")\n",
    "        self.__name = value\n",
    "    \n",
    "    \n",
    "    def calculate_total_price(self):\n",
    "        return self.price * self.quantity\n",
    "\n",
    "    def apply_discount(self):\n",
    "        self.price = self.price * self.pay_rate\n",
    "\n",
    "    @classmethod\n",
    "    def instantiate_from_csv(cls):\n",
    "        with open('items.csv', 'r') as f:\n",
    "            reader = csv.DictReader(f)\n",
    "            items = list(reader)\n",
    "\n",
    "        for item in items:\n",
    "            Item(\n",
    "                name=item.get('name'),\n",
    "                price=float(item.get('price')),\n",
    "                quantity=int(item.get('quantity')),\n",
    "            )\n",
    "\n",
    "    @staticmethod\n",
    "    def is_integer(num):\n",
    "        # We will count out the floats that are point zero\n",
    "        # For i.e: 5.0, 10.0\n",
    "        if isinstance(num, float):\n",
    "            # Count out the floats that are point zero\n",
    "            return num.is_integer()\n",
    "        elif isinstance(num, int):\n",
    "            return True\n",
    "        else:\n",
    "            return False\n",
    "\n",
    "    def __repr__(self):\n",
    "        return f\"{self.__class__.__name__}('{self.name}', {self.price}, {self.quantity})\"\n",
    "    "
   ]
  },
  {
   "cell_type": "code",
   "execution_count": 266,
   "id": "890fb853",
   "metadata": {
    "ExecuteTime": {
     "end_time": "2023-04-30T18:13:33.127887Z",
     "start_time": "2023-04-30T18:13:33.116878Z"
    }
   },
   "outputs": [
    {
     "name": "stdout",
     "output_type": "stream",
     "text": [
      "You are trying to get name\n",
      "My Item\n"
     ]
    }
   ],
   "source": [
    "item1 =Item(\"My Item\", 750)\n",
    "print(item1.name)"
   ]
  },
  {
   "cell_type": "code",
   "execution_count": 267,
   "id": "1434a62d",
   "metadata": {
    "ExecuteTime": {
     "end_time": "2023-04-30T18:13:43.184080Z",
     "start_time": "2023-04-30T18:13:43.170310Z"
    }
   },
   "outputs": [
    {
     "name": "stdout",
     "output_type": "stream",
     "text": [
      "You are trying to set name\n"
     ]
    }
   ],
   "source": [
    "item1.name = \"Other item\""
   ]
  },
  {
   "cell_type": "code",
   "execution_count": 268,
   "id": "4e9dfcd7",
   "metadata": {
    "ExecuteTime": {
     "end_time": "2023-04-30T18:13:52.941360Z",
     "start_time": "2023-04-30T18:13:52.928329Z"
    }
   },
   "outputs": [
    {
     "name": "stdout",
     "output_type": "stream",
     "text": [
      "You are trying to get name\n",
      "Other item\n"
     ]
    }
   ],
   "source": [
    "print(item1.name)"
   ]
  },
  {
   "cell_type": "markdown",
   "id": "b5aca885",
   "metadata": {},
   "source": [
    "In setter method we can control what we want to set in value. for example we can limit number of character."
   ]
  },
  {
   "cell_type": "code",
   "execution_count": 269,
   "id": "50862fff",
   "metadata": {
    "ExecuteTime": {
     "end_time": "2023-04-30T18:15:54.587426Z",
     "start_time": "2023-04-30T18:15:54.557420Z"
    },
    "code_folding": [
     6,
     21,
     28,
     31,
     34,
     38,
     51,
     62
    ],
    "run_control": {
     "marked": false
    }
   },
   "outputs": [],
   "source": [
    "import csv\n",
    "\n",
    "\n",
    "class Item:\n",
    "    pay_rate = 0.8 # The pay rate after 20% discount\n",
    "    all = []\n",
    "    def __init__(self, name: str, price: float, quantity=0):\n",
    "        # Run validations to the received arguments\n",
    "        assert price >= 0, f\"Price {price} is not greater than or equal to zero!\"\n",
    "        assert quantity >= 0, f\"Quantity {quantity} is not greater or equal to zero!\"\n",
    "\n",
    "        # Assign to self object\n",
    "        self.__name = name\n",
    "        self.price = price\n",
    "        self.quantity = quantity\n",
    "\n",
    "        # Actions to execute\n",
    "        Item.all.append(self)\n",
    "\n",
    "    @property\n",
    "    # Property Decorator = Read-Only Attribute\n",
    "    def name(self):\n",
    "        return self.__name\n",
    "\n",
    "    @name.setter\n",
    "    def name(self, value):\n",
    "        if len(value) > 10:\n",
    "            raise Exception(\"The name is too long!\")\n",
    "        else:\n",
    "            self.__name = value\n",
    "\n",
    "    def calculate_total_price(self):\n",
    "        return self.price * self.quantity\n",
    "\n",
    "    def apply_discount(self):\n",
    "        self.price = self.price * self.pay_rate\n",
    "\n",
    "    @classmethod\n",
    "    def instantiate_from_csv(cls):\n",
    "        with open('items.csv', 'r') as f:\n",
    "            reader = csv.DictReader(f)\n",
    "            items = list(reader)\n",
    "\n",
    "        for item in items:\n",
    "            Item(\n",
    "                name=item.get('name'),\n",
    "                price=float(item.get('price')),\n",
    "                quantity=int(item.get('quantity')),\n",
    "            )\n",
    "\n",
    "    @staticmethod\n",
    "    def is_integer(num):\n",
    "        # We will count out the floats that are point zero\n",
    "        # For i.e: 5.0, 10.0\n",
    "        if isinstance(num, float):\n",
    "            # Count out the floats that are point zero\n",
    "            return num.is_integer()\n",
    "        elif isinstance(num, int):\n",
    "            return True\n",
    "        else:\n",
    "            return False\n",
    "\n",
    "    def __repr__(self):\n",
    "        return f\"{self.__class__.__name__}('{self.name}', {self.price}, {self.quantity})\""
   ]
  },
  {
   "cell_type": "code",
   "execution_count": 270,
   "id": "b45388dc",
   "metadata": {
    "ExecuteTime": {
     "end_time": "2023-04-30T18:16:15.901381Z",
     "start_time": "2023-04-30T18:16:15.881573Z"
    }
   },
   "outputs": [
    {
     "name": "stdout",
     "output_type": "stream",
     "text": [
      "My Item\n"
     ]
    }
   ],
   "source": [
    "item1 =Item(\"My Item\", 750)\n",
    "print(item1.name)"
   ]
  },
  {
   "cell_type": "code",
   "execution_count": 272,
   "id": "74e68fa6",
   "metadata": {
    "ExecuteTime": {
     "end_time": "2023-04-30T18:16:50.673680Z",
     "start_time": "2023-04-30T18:16:50.615724Z"
    }
   },
   "outputs": [
    {
     "ename": "Exception",
     "evalue": "The name is too long!",
     "output_type": "error",
     "traceback": [
      "\u001b[1;31m---------------------------------------------------------------------------\u001b[0m",
      "\u001b[1;31mException\u001b[0m                                 Traceback (most recent call last)",
      "Cell \u001b[1;32mIn[272], line 1\u001b[0m\n\u001b[1;32m----> 1\u001b[0m \u001b[43mitem1\u001b[49m\u001b[38;5;241;43m.\u001b[39;49m\u001b[43mname\u001b[49m \u001b[38;5;241m=\u001b[39m \u001b[38;5;124m\"\u001b[39m\u001b[38;5;124mOther item set\u001b[39m\u001b[38;5;124m\"\u001b[39m\n",
      "Cell \u001b[1;32mIn[269], line 28\u001b[0m, in \u001b[0;36mItem.name\u001b[1;34m(self, value)\u001b[0m\n\u001b[0;32m     25\u001b[0m \u001b[38;5;129m@name\u001b[39m\u001b[38;5;241m.\u001b[39msetter\n\u001b[0;32m     26\u001b[0m \u001b[38;5;28;01mdef\u001b[39;00m \u001b[38;5;21mname\u001b[39m(\u001b[38;5;28mself\u001b[39m, value):\n\u001b[0;32m     27\u001b[0m     \u001b[38;5;28;01mif\u001b[39;00m \u001b[38;5;28mlen\u001b[39m(value) \u001b[38;5;241m>\u001b[39m \u001b[38;5;241m10\u001b[39m:\n\u001b[1;32m---> 28\u001b[0m         \u001b[38;5;28;01mraise\u001b[39;00m \u001b[38;5;167;01mException\u001b[39;00m(\u001b[38;5;124m\"\u001b[39m\u001b[38;5;124mThe name is too long!\u001b[39m\u001b[38;5;124m\"\u001b[39m)\n\u001b[0;32m     29\u001b[0m     \u001b[38;5;28;01melse\u001b[39;00m:\n\u001b[0;32m     30\u001b[0m         \u001b[38;5;28mself\u001b[39m\u001b[38;5;241m.\u001b[39m__name \u001b[38;5;241m=\u001b[39m value\n",
      "\u001b[1;31mException\u001b[0m: The name is too long!"
     ]
    }
   ],
   "source": [
    "item1.name = \"Other item set\""
   ]
  },
  {
   "cell_type": "code",
   "execution_count": 274,
   "id": "33b96b42",
   "metadata": {
    "ExecuteTime": {
     "end_time": "2023-04-30T18:17:17.889060Z",
     "start_time": "2023-04-30T18:17:17.876141Z"
    }
   },
   "outputs": [
    {
     "name": "stdout",
     "output_type": "stream",
     "text": [
      "Other item\n"
     ]
    }
   ],
   "source": [
    "item1.name = \"Other item\"\n",
    "print(item1.name)"
   ]
  },
  {
   "cell_type": "code",
   "execution_count": 214,
   "id": "9cc942e7",
   "metadata": {
    "ExecuteTime": {
     "end_time": "2023-04-30T17:22:56.546926Z",
     "start_time": "2023-04-30T17:22:56.538755Z"
    }
   },
   "outputs": [],
   "source": [
    "# from item import Item\n",
    "\n",
    "# item1 = Item(\"MyItem\", 750)\n",
    "\n",
    "# # Setting an Attribute\n",
    "# item1.name = \"OtherItem\"\n",
    "\n",
    "# # Getting an Attribute\n",
    "# print(item1.name)"
   ]
  },
  {
   "cell_type": "code",
   "execution_count": 215,
   "id": "374bda0f",
   "metadata": {
    "ExecuteTime": {
     "end_time": "2023-04-30T17:22:57.327917Z",
     "start_time": "2023-04-30T17:22:57.318793Z"
    }
   },
   "outputs": [],
   "source": [
    "# from item import Item\n",
    "\n",
    "\n",
    "# class Phone(Item):\n",
    "#     def __init__(self, name: str, price: float, quantity=0, broken_phones=0):\n",
    "#         # Call to super function to have access to all attributes / methods\n",
    "#         super().__init__(\n",
    "#             name, price, quantity\n",
    "#         )\n",
    "\n",
    "#         # Run validations to the received arguments\n",
    "#         assert broken_phones >= 0, f\"Broken Phones {broken_phones} is not greater or equal to zero!\"\n",
    "\n",
    "#         # Assign to self object\n",
    "#         self.broken_phones = broken_phones"
   ]
  },
  {
   "cell_type": "markdown",
   "id": "a98e4f82",
   "metadata": {},
   "source": [
    "## Encapsulation"
   ]
  },
  {
   "cell_type": "markdown",
   "id": "76df6c9f",
   "metadata": {},
   "source": [
    "Encapsulation is the process of preventing clients from accessing certain properties, which can only be accessed through specific methods.\n",
    "\n",
    "- Encapsulation is one of the fundamental concepts in OOP.\n",
    "- It describes the idea of restricting access to methods and attributes in a class.\n",
    "- This will hide the complex details from the users, and prevent data being modified by accident.\n",
    "- In Python, this is achieved by using private methods or attributes using underscore as prefix, i.e. single “_” or double “__”. "
   ]
  },
  {
   "cell_type": "markdown",
   "id": "0f67fa2d",
   "metadata": {},
   "source": [
    "- the name attribute could not be st to a new value , before it goes  through some conditions that we set here, like the length of the character being less than 10 character.\n",
    "\n",
    "- So restricting the ability to override the values for your object within your saddles, is exactly what the encapsulation principle is about. \n",
    "\n",
    "\n",
    "- Now to even give you a better example of encapsulation principle, then we are going to apply similar  things to an additional attribute, which is going to be the `price` attribute. \n",
    "\n"
   ]
  },
  {
   "cell_type": "code",
   "execution_count": 275,
   "id": "21f66a53",
   "metadata": {
    "ExecuteTime": {
     "end_time": "2023-04-30T18:49:09.696410Z",
     "start_time": "2023-04-30T18:49:09.677842Z"
    }
   },
   "outputs": [
    {
     "name": "stdout",
     "output_type": "stream",
     "text": [
      "My Item\n"
     ]
    }
   ],
   "source": [
    "item1 =Item(\"My Item\", 750)\n",
    "print(item1.name)"
   ]
  },
  {
   "cell_type": "code",
   "execution_count": 277,
   "id": "77a19560",
   "metadata": {
    "ExecuteTime": {
     "end_time": "2023-04-30T18:49:47.903279Z",
     "start_time": "2023-04-30T18:49:47.894304Z"
    }
   },
   "outputs": [],
   "source": [
    "item1price = -900"
   ]
  },
  {
   "cell_type": "code",
   "execution_count": 281,
   "id": "f4478cf8",
   "metadata": {
    "ExecuteTime": {
     "end_time": "2023-04-30T18:58:45.039043Z",
     "start_time": "2023-04-30T18:58:45.020022Z"
    }
   },
   "outputs": [],
   "source": [
    "item1.price = 900"
   ]
  },
  {
   "cell_type": "markdown",
   "id": "d6c8b631",
   "metadata": {},
   "source": [
    "- I have the ability  to directly set these objects into whatever number,  -900 will work here.  \n",
    "\n",
    "- So that's probably something that we look to change. And the way that we can change that is by  implementing some methods that will restrict the access to this price attribute. "
   ]
  },
  {
   "cell_type": "code",
   "execution_count": null,
   "id": "60651e9d",
   "metadata": {},
   "outputs": [],
   "source": []
  },
  {
   "cell_type": "code",
   "execution_count": 282,
   "id": "b4f3cb73",
   "metadata": {
    "ExecuteTime": {
     "end_time": "2023-04-30T18:58:48.988027Z",
     "start_time": "2023-04-30T18:58:48.966734Z"
    },
    "code_folding": [
     62
    ],
    "run_control": {
     "marked": false
    }
   },
   "outputs": [],
   "source": [
    "import csv\n",
    "\n",
    "\n",
    "class Item:\n",
    "    pay_rate = 0.8 # The pay rate after 20% discount\n",
    "    all = []\n",
    "    def __init__(self, name: str, price: float, quantity=0):\n",
    "        # Run validations to the received arguments\n",
    "        assert price >= 0, f\"Price {price} is not greater than or equal to zero!\"\n",
    "        assert quantity >= 0, f\"Quantity {quantity} is not greater or equal to zero!\"\n",
    "\n",
    "        # Assign to self object\n",
    "        self.__name = name\n",
    "        self.__price = price\n",
    "        self.quantity = quantity\n",
    "\n",
    "        # Actions to execute\n",
    "        Item.all.append(self)\n",
    "\n",
    "    @property\n",
    "    def price(self):\n",
    "        return self.__price\n",
    "        \n",
    "    @property\n",
    "    # Property Decorator = Read-Only Attribute\n",
    "    def name(self):\n",
    "        return self.__name\n",
    "\n",
    "    @name.setter\n",
    "    def name(self, value):\n",
    "        if len(value) > 10:\n",
    "            raise Exception(\"The name is too long!\")\n",
    "        else:\n",
    "            self.__name = value\n",
    "\n",
    "    def calculate_total_price(self):\n",
    "        return self.__price * self.quantity\n",
    "\n",
    "    def apply_discount(self):\n",
    "        self.__price = self.__price * self.pay_rate\n",
    "\n",
    "    @classmethod\n",
    "    def instantiate_from_csv(cls):\n",
    "        with open('items.csv', 'r') as f:\n",
    "            reader = csv.DictReader(f)\n",
    "            items = list(reader)\n",
    "\n",
    "        for item in items:\n",
    "            Item(\n",
    "                name=item.get('name'),\n",
    "                price=float(item.get('price')),\n",
    "                quantity=int(item.get('quantity')),\n",
    "            )\n",
    "\n",
    "    @staticmethod\n",
    "    def is_integer(num):\n",
    "        # We will count out the floats that are point zero\n",
    "        # For i.e: 5.0, 10.0\n",
    "        if isinstance(num, float):\n",
    "            # Count out the floats that are point zero\n",
    "            return num.is_integer()\n",
    "        elif isinstance(num, int):\n",
    "            return True\n",
    "        else:\n",
    "            return False\n",
    "\n",
    "    def __repr__(self):\n",
    "        return f\"{self.__class__.__name__}('{self.name}', {self.price}, {self.quantity})\""
   ]
  },
  {
   "cell_type": "code",
   "execution_count": 283,
   "id": "4c62a694",
   "metadata": {
    "ExecuteTime": {
     "end_time": "2023-04-30T18:58:49.967743Z",
     "start_time": "2023-04-30T18:58:49.942259Z"
    }
   },
   "outputs": [
    {
     "ename": "AttributeError",
     "evalue": "can't set attribute",
     "output_type": "error",
     "traceback": [
      "\u001b[1;31m---------------------------------------------------------------------------\u001b[0m",
      "\u001b[1;31mAttributeError\u001b[0m                            Traceback (most recent call last)",
      "Cell \u001b[1;32mIn[283], line 3\u001b[0m\n\u001b[0;32m      1\u001b[0m item1 \u001b[38;5;241m=\u001b[39mItem(\u001b[38;5;124m\"\u001b[39m\u001b[38;5;124mMy Item\u001b[39m\u001b[38;5;124m\"\u001b[39m, \u001b[38;5;241m750\u001b[39m)\n\u001b[1;32m----> 3\u001b[0m \u001b[43mitem1\u001b[49m\u001b[38;5;241;43m.\u001b[39;49m\u001b[43mprice\u001b[49m \u001b[38;5;241m=\u001b[39m \u001b[38;5;241m900\u001b[39m\n\u001b[0;32m      4\u001b[0m \u001b[38;5;28mprint\u001b[39m(item1\u001b[38;5;241m.\u001b[39mname)\n",
      "\u001b[1;31mAttributeError\u001b[0m: can't set attribute"
     ]
    }
   ],
   "source": [
    "item1 =Item(\"My Item\", 750)\n",
    "\n",
    "item1.price = 900"
   ]
  },
  {
   "cell_type": "code",
   "execution_count": null,
   "id": "0a93437b",
   "metadata": {},
   "outputs": [],
   "source": []
  },
  {
   "cell_type": "code",
   "execution_count": 297,
   "id": "8c3c74e0",
   "metadata": {
    "ExecuteTime": {
     "end_time": "2023-04-30T19:41:08.553248Z",
     "start_time": "2023-04-30T19:41:08.530222Z"
    },
    "code_folding": [
     62
    ],
    "run_control": {
     "marked": false
    }
   },
   "outputs": [],
   "source": [
    "import csv\n",
    "\n",
    "\n",
    "class Item:\n",
    "    pay_rate = 0.8 # The pay rate after 20% discount\n",
    "    all = []\n",
    "    def __init__(self, name: str, price: float, quantity=0):\n",
    "        # Run validations to the received arguments\n",
    "        assert price >= 0, f\"Price {price} is not greater than or equal to zero!\"\n",
    "        assert quantity >= 0, f\"Quantity {quantity} is not greater or equal to zero!\"\n",
    "\n",
    "        # Assign to self object\n",
    "        self.__name = name\n",
    "        self.__price = price\n",
    "        self.quantity = quantity\n",
    "\n",
    "        # Actions to execute\n",
    "        Item.all.append(self)\n",
    "\n",
    "    @property\n",
    "    def price(self):\n",
    "        return self.__price\n",
    "    \n",
    "    def apply_discount(self):\n",
    "        self.__price = self.__price * self.pay_rate    \n",
    "    \n",
    "    def apply_increment(self, increment_value):\n",
    "        self.__price = self.__price + self.__price * increment_value\n",
    "        \n",
    "             \n",
    "    @property\n",
    "    # Property Decorator = Read-Only Attribute\n",
    "    def name(self):\n",
    "        return self.__name\n",
    "          \n",
    "    @name.setter\n",
    "    def name(self, value):\n",
    "        if len(value) > 10:\n",
    "            raise Exception(\"The name is too long!\")\n",
    "        else:\n",
    "            self.__name = value\n",
    "            \n",
    "    def calculate_total_price(self):\n",
    "        return self.__price * self.quantity\n",
    "\n",
    "    @classmethod\n",
    "    def instantiate_from_csv(cls):\n",
    "        with open('items.csv', 'r') as f:\n",
    "            reader = csv.DictReader(f)\n",
    "            items = list(reader)\n",
    "\n",
    "        for item in items:\n",
    "            Item(\n",
    "                name=item.get('name'),\n",
    "                price=float(item.get('price')),\n",
    "                quantity=int(item.get('quantity')),\n",
    "            )\n",
    "\n",
    "    @staticmethod\n",
    "    def is_integer(num):\n",
    "        # We will count out the floats that are point zero\n",
    "        # For i.e: 5.0, 10.0\n",
    "        if isinstance(num, float):\n",
    "            # Count out the floats that are point zero\n",
    "            return num.is_integer()\n",
    "        elif isinstance(num, int):\n",
    "            return True\n",
    "        else:\n",
    "            return False\n",
    "\n",
    "    def __repr__(self):\n",
    "        return f\"{self.__class__.__name__}('{self.name}', {self.price}, {self.quantity})\""
   ]
  },
  {
   "cell_type": "code",
   "execution_count": 293,
   "id": "ad332c39",
   "metadata": {
    "ExecuteTime": {
     "end_time": "2023-04-30T19:09:38.304007Z",
     "start_time": "2023-04-30T19:09:38.296965Z"
    }
   },
   "outputs": [
    {
     "name": "stdout",
     "output_type": "stream",
     "text": [
      "900.0\n"
     ]
    }
   ],
   "source": [
    "item1 =Item(\"My Item\", 750)\n",
    "\n",
    "item1.apply_increment(0.2)\n",
    "\n",
    "print(item1.price)"
   ]
  },
  {
   "cell_type": "markdown",
   "id": "d9d72b79",
   "metadata": {},
   "source": [
    "incremented to 900 as expected. \n",
    "\n",
    "- So that is exactly  encapsulation in action, because you go ahead and you don't allow the access directly to the price  attribute.Besides you modify this attribute by using methods like apply increments, or  apply discount. \n",
    "\n",
    "Now the same will happen if I was to now go ahead and use `item1.apply_discount()`  and you can actually modify this method in the way that you'd like to. But this currently  refers to a class attribute that we use here. "
   ]
  },
  {
   "cell_type": "code",
   "execution_count": 294,
   "id": "1b545b48",
   "metadata": {
    "ExecuteTime": {
     "end_time": "2023-04-30T19:09:39.833974Z",
     "start_time": "2023-04-30T19:09:39.820945Z"
    }
   },
   "outputs": [
    {
     "name": "stdout",
     "output_type": "stream",
     "text": [
      "720.0\n"
     ]
    }
   ],
   "source": [
    "item1.apply_discount() # 20% discount\n",
    "print(item1.price)"
   ]
  },
  {
   "cell_type": "markdown",
   "id": "035009b1",
   "metadata": {},
   "source": [
    "**Final code**"
   ]
  },
  {
   "cell_type": "code",
   "execution_count": 295,
   "id": "a606a629",
   "metadata": {
    "ExecuteTime": {
     "end_time": "2023-04-30T19:11:00.018311Z",
     "start_time": "2023-04-30T19:10:59.988258Z"
    },
    "code_folding": [
     3
    ]
   },
   "outputs": [],
   "source": [
    "import csv\n",
    "\n",
    "\n",
    "class Item:\n",
    "    pay_rate = 0.8 # The pay rate after 20% discount\n",
    "    all = []\n",
    "    def __init__(self, name: str, price: float, quantity=0):\n",
    "        # Run validations to the received arguments\n",
    "        assert price >= 0, f\"Price {price} is not greater than or equal to zero!\"\n",
    "        assert quantity >= 0, f\"Quantity {quantity} is not greater or equal to zero!\"\n",
    "\n",
    "        # Assign to self object\n",
    "        self.__name = name\n",
    "        self.__price = price\n",
    "        self.quantity = quantity\n",
    "\n",
    "        # Actions to execute\n",
    "        Item.all.append(self)\n",
    "\n",
    "    @property\n",
    "    def price(self):\n",
    "        return self.__price\n",
    "\n",
    "    def apply_discount(self):\n",
    "        self.__price = self.__price * self.pay_rate\n",
    "\n",
    "    def apply_increment(self, increment_value):\n",
    "        self.__price = self.__price + self.__price * increment_value\n",
    "\n",
    "    @property\n",
    "    def name(self):\n",
    "        # Property Decorator = Read-Only Attribute\n",
    "        return self.__name\n",
    "\n",
    "    @name.setter\n",
    "    def name(self, value):\n",
    "        if len(value) > 10:\n",
    "            raise Exception(\"The name is too long!\")\n",
    "        else:\n",
    "            self.__name = value\n",
    "\n",
    "    def calculate_total_price(self):\n",
    "        return self.__price * self.quantity\n",
    "\n",
    "    @classmethod\n",
    "    def instantiate_from_csv(cls):\n",
    "        with open('items.csv', 'r') as f:\n",
    "            reader = csv.DictReader(f)\n",
    "            items = list(reader)\n",
    "\n",
    "        for item in items:\n",
    "            Item(\n",
    "                name=item.get('name'),\n",
    "                price=float(item.get('price')),\n",
    "                quantity=int(item.get('quantity')),\n",
    "            )\n",
    "\n",
    "    @staticmethod\n",
    "    def is_integer(num):\n",
    "        # We will count out the floats that are point zero\n",
    "        # For i.e: 5.0, 10.0\n",
    "        if isinstance(num, float):\n",
    "            # Count out the floats that are point zero\n",
    "            return num.is_integer()\n",
    "        elif isinstance(num, int):\n",
    "            return True\n",
    "        else:\n",
    "            return False\n",
    "\n",
    "    def __repr__(self):\n",
    "        return f\"{self.__class__.__name__}('{self.name}', {self.__price}, {self.quantity})\""
   ]
  },
  {
   "cell_type": "markdown",
   "id": "12e7983f",
   "metadata": {},
   "source": [
    "## Data Abstraction"
   ]
  },
  {
   "cell_type": "markdown",
   "id": "9f9659c3",
   "metadata": {},
   "source": [
    "- It hides the unnecessary code details from the user. \n",
    "- Also,  when we do not want to give out sensitive parts of our code implementation and this is where data abstraction came.\n",
    "- Data Abstraction in Python can be achieved through creating abstract classes."
   ]
  },
  {
   "cell_type": "markdown",
   "id": "67dcdaef",
   "metadata": {},
   "source": [
    "- Now abstraction is the concept of object oriented programming that only shows the necessary attributes and hides the unnecessary  information. \n",
    "\n",
    "- Now the main purpose of abstraction is basically hiding unnecessary details from  the users."
   ]
  },
  {
   "cell_type": "markdown",
   "id": "eca97e6e",
   "metadata": {},
   "source": [
    "- abstraction principle says to you that you should  hide unnecessary information from the instances.  \n",
    "- So that is why by converting those methods into being private methods, then we actually apply abstraction principles. And that is achievable in Python in a way, by adding double underscore `__`. \n",
    "```python\n",
    "def __connect(self):\n",
    "    pass\n",
    "def __prepare_body(self):\n",
    "    return f\"\"\"\n",
    "    hellow someone\n",
    "    this is mail body\n",
    "    \"\"\"\n",
    "def __send(self):\n",
    "    pass\n",
    "def send_email(self):\n",
    "    self.__connect('')\n",
    "    self.__prepare_body()\n",
    "    self.__send()    \n",
    "    ```\n",
    "\n",
    "- in other programming languages, this is achievable by having access modifiers for your methods, like private or public. And I'm talking about  programming languages like Java, C sharp, etc.  \n",
    "\n",
    "- So if we were to convert those methods to private methods, by only adding level underscore, then those only cool to be cold from the class  level, meaning inside the class."
   ]
  },
  {
   "cell_type": "markdown",
   "id": "6e73851e",
   "metadata": {},
   "source": [
    "## Polymorphism"
   ]
  },
  {
   "cell_type": "markdown",
   "id": "f111153a",
   "metadata": {},
   "source": [
    "- Polymorphism is another fundamental concept in OOP, which means multiple forms. \n",
    "- Polymorphism allows us to use a single interface with different underlying forms such as data types or classes. \n",
    "- For example, we can have commonly named methods across classes or child classes. "
   ]
  },
  {
   "cell_type": "markdown",
   "id": "0f8c310c",
   "metadata": {},
   "source": [
    "We can see where in Python the polymorphism is perfectly applied. \n",
    "\n",
    "- So  a great example of where polymorphism is applied, is in the lane built in function. \n",
    "\n",
    "- Because the `len`  building function in Python knows how to handle different kinds of objects that it receives  as an argument, and it returns you a result accordingly. \n",
    "\n",
    "- So as you can see in here, if we  were to use the `len` built in function in a string, then we will have received the total amount of characters. \n",
    "\n",
    "- But if we will do this in a list,then we will not receive the length of characters  of this entire expression in here. "
   ]
  },
  {
   "cell_type": "code",
   "execution_count": 296,
   "id": "86104fdf",
   "metadata": {
    "ExecuteTime": {
     "end_time": "2023-04-30T19:35:01.966470Z",
     "start_time": "2023-04-30T19:35:01.943477Z"
    }
   },
   "outputs": [
    {
     "name": "stdout",
     "output_type": "stream",
     "text": [
      "3\n",
      "2\n"
     ]
    }
   ],
   "source": [
    "name = \"Jim\" # str\n",
    "print(len(name))\n",
    "\n",
    "some_list = [\"some\",\"name\"] # list\n",
    "print(len(some_list))\n",
    "# That's polymorphism in action, a single function does now\n",
    "# how to handle different kinds of objects as expected!"
   ]
  },
  {
   "cell_type": "markdown",
   "id": "d2c1fd82",
   "metadata": {},
   "source": [
    "So as the definition of polymorphism says, it is just a single entity that does know how to handle different kinds of objects, as  expected. "
   ]
  },
  {
   "cell_type": "markdown",
   "id": "f7ff27ee",
   "metadata": {},
   "source": [
    "let's also understand where it is implemented on our project here. \n",
    "\n",
    "- Now we can see that I tried to call the apply discount method that is never implemented inside the `Phone` class.\n",
    "- The fact that I can use it from the item class, it is because we inherit from this class. And that is the basically reason. \n",
    "\n"
   ]
  },
  {
   "cell_type": "code",
   "execution_count": 304,
   "id": "a768197e",
   "metadata": {
    "ExecuteTime": {
     "end_time": "2023-04-30T19:46:39.074238Z",
     "start_time": "2023-04-30T19:46:39.043628Z"
    },
    "code_folding": [
     3,
     62
    ],
    "run_control": {
     "marked": false
    }
   },
   "outputs": [],
   "source": [
    "import csv\n",
    "class Item:\n",
    "    pay_rate = 0.8 # The pay rate after 20% discount\n",
    "    all = []\n",
    "    def __init__(self, name: str, price: float, quantity=0):\n",
    "        # Run validations to the received arguments\n",
    "        assert price >= 0, f\"Price {price} is not greater than or equal to zero!\"\n",
    "        assert quantity >= 0, f\"Quantity {quantity} is not greater or equal to zero!\"\n",
    "\n",
    "        # Assign to self object\n",
    "        self.__name = name\n",
    "        self.__price = price\n",
    "        self.quantity = quantity\n",
    "\n",
    "        # Actions to execute\n",
    "        Item.all.append(self)\n",
    "\n",
    "    @property\n",
    "    def price(self):\n",
    "        return self.__price\n",
    "    \n",
    "    def apply_discount(self):\n",
    "        self.__price = self.__price * self.pay_rate    \n",
    "    \n",
    "    def apply_increment(self, increment_value):\n",
    "        self.__price = self.__price + self.__price * increment_value\n",
    "        \n",
    "             \n",
    "    @property\n",
    "    # Property Decorator = Read-Only Attribute\n",
    "    def name(self):\n",
    "        return self.__name\n",
    "          \n",
    "    @name.setter\n",
    "    def name(self, value):\n",
    "        if len(value) > 10:\n",
    "            raise Exception(\"The name is too long!\")\n",
    "        else:\n",
    "            self.__name = value\n",
    "            \n",
    "    def calculate_total_price(self):\n",
    "        return self.__price * self.quantity\n",
    "\n",
    "    @classmethod\n",
    "    def instantiate_from_csv(cls):\n",
    "        with open('items.csv', 'r') as f:\n",
    "            reader = csv.DictReader(f)\n",
    "            items = list(reader)\n",
    "\n",
    "        for item in items:\n",
    "            Item(\n",
    "                name=item.get('name'),\n",
    "                price=float(item.get('price')),\n",
    "                quantity=int(item.get('quantity')),\n",
    "            )\n",
    "\n",
    "    @staticmethod\n",
    "    def is_integer(num):\n",
    "        # We will count out the floats that are point zero\n",
    "        # For i.e: 5.0, 10.0\n",
    "        if isinstance(num, float):\n",
    "            # Count out the floats that are point zero\n",
    "            return num.is_integer()\n",
    "        elif isinstance(num, int):\n",
    "            return True\n",
    "        else:\n",
    "            return False\n",
    "\n",
    "    def __repr__(self):\n",
    "        return f\"{self.__class__.__name__}('{self.name}', {self.price}, {self.quantity})\""
   ]
  },
  {
   "cell_type": "code",
   "execution_count": 305,
   "id": "c921ef76",
   "metadata": {
    "ExecuteTime": {
     "end_time": "2023-04-30T19:46:40.418341Z",
     "start_time": "2023-04-30T19:46:40.400979Z"
    },
    "code_folding": [
     0
    ]
   },
   "outputs": [],
   "source": [
    "class Phone(Item):\n",
    "    def __init__(self, name: str, price: float, quantity=0, broken_phones=0):\n",
    "        # Call to super function to have access to all attributes / methods\n",
    "        super().__init__(\n",
    "            name, price, quantity\n",
    "        )\n",
    "\n",
    "        # Run validations to the received arguments\n",
    "        assert broken_phones >= 0, f\"Broken Phones {broken_phones} is not greater or equal to zero!\"\n",
    "\n",
    "        # Assign to self object\n",
    "        self.broken_phones = broken_phones"
   ]
  },
  {
   "cell_type": "code",
   "execution_count": 306,
   "id": "6d29262f",
   "metadata": {
    "ExecuteTime": {
     "end_time": "2023-04-30T19:46:41.582641Z",
     "start_time": "2023-04-30T19:46:41.569056Z"
    }
   },
   "outputs": [
    {
     "name": "stdout",
     "output_type": "stream",
     "text": [
      "800.0\n"
     ]
    }
   ],
   "source": [
    "item1 = Phone(\"jscPhone\", 1000, 3)\n",
    "item1.apply_discount()\n",
    "print(item1.price)"
   ]
  },
  {
   "cell_type": "markdown",
   "id": "acccd004",
   "metadata": {},
   "source": [
    "We can see that that is going to work because the `apply_discount` is a method that I can use from the inherited item class. Now  that's exactly what polymorphism is also inaction."
   ]
  },
  {
   "cell_type": "markdown",
   "id": "1cb0da67",
   "metadata": {},
   "source": [
    "- Because polymorphism again, refers to one single entity that you can use for multiple objects. \n",
    "\n",
    "- Now, if I was one day to go ahead and create more kinds of items, meaning more classes that will represent different kinds of items, and from them to call the apply discount method, that's also going to work because the apply discount is a method that is going to be accessible from all the kinds of objects so that's  exactly why you might have heard about the terms of inheritance and polymorphism together combined.  \n",
    "\n",
    "- Now to show you that, then let's try to create one more class that is going to be identical to the  phone class, right, I'm going to create a keyboard "
   ]
  },
  {
   "cell_type": "code",
   "execution_count": 309,
   "id": "16e60a91",
   "metadata": {
    "ExecuteTime": {
     "end_time": "2023-04-30T19:53:41.507480Z",
     "start_time": "2023-04-30T19:53:41.486030Z"
    }
   },
   "outputs": [],
   "source": [
    "class Keyboard(Item):\n",
    "    def __init__(self, name: str, price: float, quantity=0):\n",
    "        # Call to super function to have access to all attributes / methods\n",
    "        super().__init__(\n",
    "            name, price, quantity\n",
    "        )"
   ]
  },
  {
   "cell_type": "code",
   "execution_count": 310,
   "id": "5c3e5805",
   "metadata": {
    "ExecuteTime": {
     "end_time": "2023-04-30T19:53:42.320357Z",
     "start_time": "2023-04-30T19:53:42.312302Z"
    }
   },
   "outputs": [
    {
     "name": "stdout",
     "output_type": "stream",
     "text": [
      "800.0\n"
     ]
    }
   ],
   "source": [
    "item1 = Keyboard(\"jscKeyboard\", 1000, 3)\n",
    "\n",
    "item1.apply_discount()\n",
    "\n",
    "print(item1.price)"
   ]
  },
  {
   "cell_type": "markdown",
   "id": "a314121e",
   "metadata": {},
   "source": [
    "- you can have the control of how many amount of discount you want to apply inside your classes now, because if we were to go to keyboard and use a class attributes, exactly like we used in the item class, which  was pay rate, then we're going to have full control for all the discounts that are going  to apply to the keyboard. \n",
    "\n",
    "- And to show you that I am going to attempt the typing in pay rate.  And you can see that I even have auto completion because overriding in the child class that is  legal, alright, so I can just say pay rate is equal to 0.7. And that will be it."
   ]
  },
  {
   "cell_type": "code",
   "execution_count": 312,
   "id": "e0dae1f0",
   "metadata": {
    "ExecuteTime": {
     "end_time": "2023-04-30T19:56:40.273999Z",
     "start_time": "2023-04-30T19:56:40.256699Z"
    }
   },
   "outputs": [],
   "source": [
    "class Keyboard(Item):\n",
    "    pay_rate = 0.7\n",
    "    def __init__(self, name: str, price: float, quantity=0):\n",
    "        # Call to super function to have access to all attributes / methods\n",
    "        super().__init__(\n",
    "            name, price, quantity\n",
    "        )"
   ]
  },
  {
   "cell_type": "code",
   "execution_count": 313,
   "id": "792aa501",
   "metadata": {
    "ExecuteTime": {
     "end_time": "2023-04-30T19:56:52.078064Z",
     "start_time": "2023-04-30T19:56:52.060095Z"
    }
   },
   "outputs": [
    {
     "name": "stdout",
     "output_type": "stream",
     "text": [
      "700.0\n"
     ]
    }
   ],
   "source": [
    "item1 = Keyboard(\"jscKeyboard\", 1000, 3)\n",
    "\n",
    "item1.apply_discount()\n",
    "\n",
    "print(item1.price)"
   ]
  },
  {
   "cell_type": "markdown",
   "id": "459ded7f",
   "metadata": {},
   "source": [
    "Results are just as expected."
   ]
  },
  {
   "cell_type": "code",
   "execution_count": 314,
   "id": "5cd6712f",
   "metadata": {
    "ExecuteTime": {
     "end_time": "2023-04-30T19:58:33.315933Z",
     "start_time": "2023-04-30T19:58:33.293290Z"
    }
   },
   "outputs": [],
   "source": [
    "class Phone(Item):\n",
    "    pay_rate = 0.5\n",
    "    def __init__(self, name: str, price: float, quantity=0, broken_phones=0):\n",
    "        # Call to super function to have access to all attributes / methods\n",
    "        super().__init__(\n",
    "            name, price, quantity\n",
    "        )\n",
    "\n",
    "        # Run validations to the received arguments\n",
    "        assert broken_phones >= 0, f\"Broken Phones {broken_phones} is not greater or equal to zero!\"\n",
    "\n",
    "        # Assign to self object\n",
    "        self.broken_phones = broken_phones"
   ]
  },
  {
   "cell_type": "code",
   "execution_count": 315,
   "id": "37bf928f",
   "metadata": {
    "ExecuteTime": {
     "end_time": "2023-04-30T19:58:34.110374Z",
     "start_time": "2023-04-30T19:58:34.099881Z"
    }
   },
   "outputs": [
    {
     "name": "stdout",
     "output_type": "stream",
     "text": [
      "500.0\n"
     ]
    }
   ],
   "source": [
    "item1 = Phone(\"jscPhone\", 1000, 3)\n",
    "item1.apply_discount()\n",
    "print(item1.price)"
   ]
  },
  {
   "cell_type": "code",
   "execution_count": null,
   "id": "6e3b0d2e",
   "metadata": {},
   "outputs": [],
   "source": []
  }
 ],
 "metadata": {
  "kernelspec": {
   "display_name": "Python 3 (ipykernel)",
   "language": "python",
   "name": "python3"
  },
  "language_info": {
   "codemirror_mode": {
    "name": "ipython",
    "version": 3
   },
   "file_extension": ".py",
   "mimetype": "text/x-python",
   "name": "python",
   "nbconvert_exporter": "python",
   "pygments_lexer": "ipython3",
   "version": "3.9.1"
  },
  "toc": {
   "base_numbering": 1,
   "nav_menu": {},
   "number_sections": true,
   "sideBar": true,
   "skip_h1_title": false,
   "title_cell": "Table of Contents",
   "title_sidebar": "Contents",
   "toc_cell": true,
   "toc_position": {
    "height": "calc(100% - 180px)",
    "left": "10px",
    "top": "150px",
    "width": "374.388px"
   },
   "toc_section_display": true,
   "toc_window_display": false
  },
  "varInspector": {
   "cols": {
    "lenName": 16,
    "lenType": 16,
    "lenVar": 40
   },
   "kernels_config": {
    "python": {
     "delete_cmd_postfix": "",
     "delete_cmd_prefix": "del ",
     "library": "var_list.py",
     "varRefreshCmd": "print(var_dic_list())"
    },
    "r": {
     "delete_cmd_postfix": ") ",
     "delete_cmd_prefix": "rm(",
     "library": "var_list.r",
     "varRefreshCmd": "cat(var_dic_list()) "
    }
   },
   "types_to_exclude": [
    "module",
    "function",
    "builtin_function_or_method",
    "instance",
    "_Feature"
   ],
   "window_display": false
  }
 },
 "nbformat": 4,
 "nbformat_minor": 5
}
