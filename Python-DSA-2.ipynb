{
 "cells": [
  {
   "cell_type": "markdown",
   "id": "51279a73",
   "metadata": {
    "toc": true
   },
   "source": [
    "<h1>Table of Contents<span class=\"tocSkip\"></span></h1>\n",
    "<div class=\"toc\"><ul class=\"toc-item\"><li><span><a href=\"#Recursion\" data-toc-modified-id=\"Recursion-1\"><span class=\"toc-item-num\">1&nbsp;&nbsp;</span>Recursion</a></span><ul class=\"toc-item\"><li><span><a href=\"#What-is-Recursion?\" data-toc-modified-id=\"What-is-Recursion?-1.1\"><span class=\"toc-item-num\">1.1&nbsp;&nbsp;</span>What is Recursion?</a></span></li><li><span><a href=\"#Why-use-Recursion?\" data-toc-modified-id=\"Why-use-Recursion?-1.2\"><span class=\"toc-item-num\">1.2&nbsp;&nbsp;</span>Why use Recursion?</a></span></li><li><span><a href=\"#Memoization\" data-toc-modified-id=\"Memoization-1.3\"><span class=\"toc-item-num\">1.3&nbsp;&nbsp;</span>Memoization</a></span></li><li><span><a href=\"#Problems\" data-toc-modified-id=\"Problems-1.4\"><span class=\"toc-item-num\">1.4&nbsp;&nbsp;</span>Problems</a></span><ul class=\"toc-item\"><li><span><a href=\"#Reverse-a-String\" data-toc-modified-id=\"Reverse-a-String-1.4.1\"><span class=\"toc-item-num\">1.4.1&nbsp;&nbsp;</span>Reverse a String</a></span></li><li><span><a href=\"#String-Permutation\" data-toc-modified-id=\"String-Permutation-1.4.2\"><span class=\"toc-item-num\">1.4.2&nbsp;&nbsp;</span>String Permutation</a></span></li><li><span><a href=\"#Fibonnaci-Sequence-(Dynamic-Programming-Examples:-Bottom-up-vs-Top-down)\" data-toc-modified-id=\"Fibonnaci-Sequence-(Dynamic-Programming-Examples:-Bottom-up-vs-Top-down)-1.4.3\"><span class=\"toc-item-num\">1.4.3&nbsp;&nbsp;</span>Fibonnaci Sequence (Dynamic Programming Examples: Bottom-up vs Top-down)</a></span><ul class=\"toc-item\"><li><span><a href=\"#plotting-the-execution-time\" data-toc-modified-id=\"plotting-the-execution-time-1.4.3.1\"><span class=\"toc-item-num\">1.4.3.1&nbsp;&nbsp;</span>plotting the execution time</a></span></li><li><span><a href=\"#Bottom-up\" data-toc-modified-id=\"Bottom-up-1.4.3.2\"><span class=\"toc-item-num\">1.4.3.2&nbsp;&nbsp;</span><em>Bottom-up</em></a></span></li><li><span><a href=\"#Top-down\" data-toc-modified-id=\"Top-down-1.4.3.3\"><span class=\"toc-item-num\">1.4.3.3&nbsp;&nbsp;</span><em>Top-down</em></a></span></li></ul></li><li><span><a href=\"#Coin-Change-Problem\" data-toc-modified-id=\"Coin-Change-Problem-1.4.4\"><span class=\"toc-item-num\">1.4.4&nbsp;&nbsp;</span>Coin Change Problem</a></span></li></ul></li></ul></li><li><span><a href=\"#Trees\" data-toc-modified-id=\"Trees-2\"><span class=\"toc-item-num\">2&nbsp;&nbsp;</span>Trees</a></span></li><li><span><a href=\"#Searching-and-sorting\" data-toc-modified-id=\"Searching-and-sorting-3\"><span class=\"toc-item-num\">3&nbsp;&nbsp;</span>Searching and sorting</a></span></li><li><span><a href=\"#Graph-algorithms\" data-toc-modified-id=\"Graph-algorithms-4\"><span class=\"toc-item-num\">4&nbsp;&nbsp;</span>Graph algorithms</a></span></li></ul></div>"
   ]
  },
  {
   "cell_type": "markdown",
   "id": "fec99044-0f45-4f6b-bc2d-f1e288d0a9f5",
   "metadata": {},
   "source": [
    "# Recursion"
   ]
  },
  {
   "cell_type": "markdown",
   "id": "0387e773-cfa7-41e7-a952-0a863cb0216c",
   "metadata": {},
   "source": [
    "Now we can see that each of the values points to its previous value (although now that the linked list is reversed we can see the ordering has also reversed)"
   ]
  },
  {
   "cell_type": "markdown",
   "id": "b33318dc-2388-4398-a73f-3f7b36461c1d",
   "metadata": {},
   "source": [
    "## What is Recursion?\n",
    "\n",
    "There are two main instances of recursion. The first is when recursion is used as a technique in which a function makes one or more calls to itself. The second is when a data structure uses smaller instances of the exact same type of data structure when it represents itself. Both of these instances are use cases of recursion.\n",
    "\n",
    "Recursion actually occurs in the real world, such as fractal patterns seen in plants!\n",
    "\n",
    "## Why use Recursion?\n",
    "\n",
    "Recursion provides a powerful alternative for performing repetitions of tasks in which a loop is not ideal. Most modern programming languages support recursion and recursion serves as a great tool for building out particular data structures.\n",
    "\n",
    "We'll start this introduction with an example of recursion- a factorial function.\n",
    "\n",
    "_______\n",
    "**Factorial Example**\n",
    "\n",
    "In this part of the lecture we will explain recursion through an example excercise of creating the factorial function.\n",
    "The factorial function is denoted with an exclamation point and is defined as the product of the integers from 1 to *n*. Formally, we can state this as:\n",
    "\n",
    "$$ n! = n·(n-1)·(n-2)... 3·2·1 $$\n",
    "\n",
    "Note, **if n = 0, then n! = 1**. This is important to take into account, because it will serve as our *base case*. "
   ]
  },
  {
   "cell_type": "code",
   "execution_count": 1,
   "id": "2c486167",
   "metadata": {
    "execution": {
     "iopub.execute_input": "2023-08-16T16:51:09.165331Z",
     "iopub.status.busy": "2023-08-16T16:51:09.164207Z",
     "iopub.status.idle": "2023-08-16T16:51:09.183882Z",
     "shell.execute_reply": "2023-08-16T16:51:09.182887Z",
     "shell.execute_reply.started": "2023-08-16T16:51:09.164704Z"
    }
   },
   "outputs": [],
   "source": [
    "def fact(n):\n",
    "    \"\"\"\n",
    "    Returns factorial of n (n!).\n",
    "    Note use of recursion\n",
    "    \"\"\"\n",
    "    # BASE CASE!\n",
    "    if n == 0:\n",
    "        return 1\n",
    "\n",
    "    # Recursion!\n",
    "    else:\n",
    "        return n * fact(n - 1)"
   ]
  },
  {
   "cell_type": "code",
   "execution_count": 2,
   "id": "4fd4c3a8",
   "metadata": {
    "execution": {
     "iopub.execute_input": "2023-08-16T16:51:24.549409Z",
     "iopub.status.busy": "2023-08-16T16:51:24.548970Z",
     "iopub.status.idle": "2023-08-16T16:51:24.563612Z",
     "shell.execute_reply": "2023-08-16T16:51:24.561925Z",
     "shell.execute_reply.started": "2023-08-16T16:51:24.549409Z"
    }
   },
   "outputs": [
    {
     "data": {
      "text/plain": [
       "120"
      ]
     },
     "execution_count": 2,
     "metadata": {},
     "output_type": "execute_result"
    }
   ],
   "source": [
    "fact(5)"
   ]
  },
  {
   "cell_type": "markdown",
   "id": "256d4795-6401-4e2c-b6be-3f44e051a3b8",
   "metadata": {},
   "source": [
    "Note how we had an if statement to check if a base case occured. Without it this function would not have successfully completed running. We can visualize the recursion with the following figure:"
   ]
  },
  {
   "cell_type": "code",
   "execution_count": 3,
   "id": "a0b55ce0",
   "metadata": {
    "execution": {
     "iopub.execute_input": "2023-08-16T16:51:55.665404Z",
     "iopub.status.busy": "2023-08-16T16:51:55.665404Z",
     "iopub.status.idle": "2023-08-16T16:51:55.683836Z",
     "shell.execute_reply": "2023-08-16T16:51:55.683003Z",
     "shell.execute_reply.started": "2023-08-16T16:51:55.665404Z"
    }
   },
   "outputs": [
    {
     "data": {
      "text/html": [
       "<img src=\"http://faculty.cs.niu.edu/~freedman/241/241notes/recur.gif\"/>"
      ],
      "text/plain": [
       "<IPython.core.display.Image object>"
      ]
     },
     "execution_count": 3,
     "metadata": {},
     "output_type": "execute_result"
    }
   ],
   "source": [
    "from IPython.core.display import HTML\n",
    "from IPython.display import Image\n",
    "\n",
    "Image(url=\"http://faculty.cs.niu.edu/~freedman/241/241notes/recur.gif\")"
   ]
  },
  {
   "cell_type": "markdown",
   "id": "7edd0cf7-a100-4e6a-b385-47035eacabc3",
   "metadata": {},
   "source": [
    "We can follow this flow chart from the top, reaching the base case, and then working our way back up.\n"
   ]
  },
  {
   "cell_type": "markdown",
   "id": "909bab09-5185-4c7f-8a25-61a815890f08",
   "metadata": {},
   "source": [
    "**Problem 1**\n",
    "\n",
    "**Write a recursive function which takes an integer and computes the cumulative sum of 0 to that integer**\n",
    "\n",
    "**For example, if n=4 , return 4+3+2+1+0, which is 10.**\n",
    "\n",
    "This problem is very similar to the factorial problem presented during the introduction to recursion. Remember, always think of what the base case will look like. In this case, we have a base case of n =0 (Note, you could have also designed the cut off to be 1).\n",
    "\n",
    "In this case, we have:\n",
    "   n + (n-1) + (n-2) + .... + 0\n",
    "\n",
    "Fill out a sample solution:"
   ]
  },
  {
   "cell_type": "code",
   "execution_count": 4,
   "id": "c20f458d-56ba-4373-9984-a2c315eeb348",
   "metadata": {
    "execution": {
     "iopub.execute_input": "2023-08-16T16:57:29.920057Z",
     "iopub.status.busy": "2023-08-16T16:57:29.918957Z",
     "iopub.status.idle": "2023-08-16T16:57:29.941434Z",
     "shell.execute_reply": "2023-08-16T16:57:29.939813Z",
     "shell.execute_reply.started": "2023-08-16T16:57:29.920057Z"
    }
   },
   "outputs": [],
   "source": [
    "def rec_sum(n):\n",
    "    # Base Case\n",
    "    if n == 0:\n",
    "        return 0\n",
    "\n",
    "    # Recursion\n",
    "    else:\n",
    "        return n + rec_sum(n - 1)"
   ]
  },
  {
   "cell_type": "code",
   "execution_count": 5,
   "id": "bc8312d7-5372-4721-a320-e69334b32515",
   "metadata": {
    "execution": {
     "iopub.execute_input": "2023-08-16T16:57:39.074611Z",
     "iopub.status.busy": "2023-08-16T16:57:39.074611Z",
     "iopub.status.idle": "2023-08-16T16:57:39.089223Z",
     "shell.execute_reply": "2023-08-16T16:57:39.087448Z",
     "shell.execute_reply.started": "2023-08-16T16:57:39.074611Z"
    }
   },
   "outputs": [
    {
     "data": {
      "text/plain": [
       "10"
      ]
     },
     "execution_count": 5,
     "metadata": {},
     "output_type": "execute_result"
    }
   ],
   "source": [
    "rec_sum(4)"
   ]
  },
  {
   "cell_type": "code",
   "execution_count": 6,
   "id": "fce8a17b",
   "metadata": {
    "execution": {
     "iopub.execute_input": "2023-08-16T16:57:56.580840Z",
     "iopub.status.busy": "2023-08-16T16:57:56.580840Z",
     "iopub.status.idle": "2023-08-16T16:57:56.599006Z",
     "shell.execute_reply": "2023-08-16T16:57:56.597880Z",
     "shell.execute_reply.started": "2023-08-16T16:57:56.580840Z"
    }
   },
   "outputs": [
    {
     "data": {
      "text/plain": [
       "55"
      ]
     },
     "execution_count": 6,
     "metadata": {},
     "output_type": "execute_result"
    }
   ],
   "source": [
    "rec_sum(10)"
   ]
  },
  {
   "cell_type": "markdown",
   "id": "a03a224b-b280-4f01-9a70-9b5682b1d112",
   "metadata": {},
   "source": [
    "**Problem 2**\n",
    "\n",
    "**Given an integer, create a function which returns the sum of all the individual digits in that integer. For example:\n",
    "if n = 4321, return 4+3+2+1**"
   ]
  },
  {
   "cell_type": "code",
   "execution_count": 7,
   "id": "663c1c94",
   "metadata": {
    "execution": {
     "iopub.execute_input": "2023-08-16T16:57:59.740285Z",
     "iopub.status.busy": "2023-08-16T16:57:59.739444Z",
     "iopub.status.idle": "2023-08-16T16:57:59.762174Z",
     "shell.execute_reply": "2023-08-16T16:57:59.758894Z",
     "shell.execute_reply.started": "2023-08-16T16:57:59.740285Z"
    }
   },
   "outputs": [],
   "source": [
    "def sum_func(n):\n",
    "    # Base case\n",
    "    if len(str(n)) == 1:\n",
    "        return n\n",
    "\n",
    "    # Recursion\n",
    "    else:\n",
    "        return n % 10 + sum_func(n // 10)"
   ]
  },
  {
   "cell_type": "code",
   "execution_count": 8,
   "id": "298f5485",
   "metadata": {
    "execution": {
     "iopub.execute_input": "2023-08-16T16:58:18.399247Z",
     "iopub.status.busy": "2023-08-16T16:58:18.399014Z",
     "iopub.status.idle": "2023-08-16T16:58:18.419572Z",
     "shell.execute_reply": "2023-08-16T16:58:18.418082Z",
     "shell.execute_reply.started": "2023-08-16T16:58:18.399247Z"
    }
   },
   "outputs": [
    {
     "data": {
      "text/plain": [
       "10"
      ]
     },
     "execution_count": 8,
     "metadata": {},
     "output_type": "execute_result"
    }
   ],
   "source": [
    "sum_func(4321)"
   ]
  },
  {
   "cell_type": "markdown",
   "id": "226b20cb-9f8c-40d3-91ce-4c0e18331bf6",
   "metadata": {},
   "source": [
    "**Problem 3**\n",
    "\n",
    "*Note, this is a more advanced problem than the previous two! It aso has a lot of variation possibilities and we're ignoring strict requirements here.*\n",
    "\n",
    "Create a function called word_split() which takes in a string **phrase** and a set **list_of_words**. The function will then determine if it is possible to split the string in a way in which words can be made from the list of words. You can assume the phrase will only contain words found in the dictionary if it is completely splittable.\n",
    "\n",
    "For example:"
   ]
  },
  {
   "cell_type": "code",
   "execution_count": 9,
   "id": "57c1c7dc",
   "metadata": {
    "execution": {
     "iopub.execute_input": "2023-08-16T17:00:31.443291Z",
     "iopub.status.busy": "2023-08-16T17:00:31.443291Z",
     "iopub.status.idle": "2023-08-16T17:00:31.458177Z",
     "shell.execute_reply": "2023-08-16T17:00:31.456676Z",
     "shell.execute_reply.started": "2023-08-16T17:00:31.443291Z"
    }
   },
   "outputs": [],
   "source": [
    "def word_split(phrase, list_of_words, output=None):\n",
    "    \"\"\"\n",
    "    Note: This is a very \"python-y\" solution.\n",
    "    \"\"\"\n",
    "\n",
    "    # Checks to see if any output has been initiated.\n",
    "    # If you default output=[], it would be overwritten for every recursion!\n",
    "    if output is None:\n",
    "        output = []\n",
    "\n",
    "    # For every word in list\n",
    "    for word in list_of_words:\n",
    "        # If the current phrase begins with the word, we have a split point!\n",
    "        if phrase.startswith(word):\n",
    "            # Add the word to the output\n",
    "            output.append(word)\n",
    "\n",
    "            # Recursively call the split function on the remaining portion of the phrase--- phrase[len(word):]\n",
    "            # Remember to pass along the output and list of words\n",
    "            return word_split(phrase[len(word) :], list_of_words, output)\n",
    "\n",
    "    # Finally return output if no phrase.startswith(word) returns True\n",
    "    return output"
   ]
  },
  {
   "cell_type": "code",
   "execution_count": 10,
   "id": "2fcd447a",
   "metadata": {
    "execution": {
     "iopub.execute_input": "2023-08-16T17:00:49.380377Z",
     "iopub.status.busy": "2023-08-16T17:00:49.380377Z",
     "iopub.status.idle": "2023-08-16T17:00:49.387400Z",
     "shell.execute_reply": "2023-08-16T17:00:49.386904Z",
     "shell.execute_reply.started": "2023-08-16T17:00:49.380377Z"
    }
   },
   "outputs": [
    {
     "data": {
      "text/plain": [
       "['the', 'man', 'ran']"
      ]
     },
     "execution_count": 10,
     "metadata": {},
     "output_type": "execute_result"
    }
   ],
   "source": [
    "word_split(\"themanran\", [\"the\", \"ran\", \"man\"])"
   ]
  },
  {
   "cell_type": "code",
   "execution_count": 11,
   "id": "efd4a20e",
   "metadata": {
    "execution": {
     "iopub.execute_input": "2023-08-16T17:01:03.032599Z",
     "iopub.status.busy": "2023-08-16T17:01:03.032599Z",
     "iopub.status.idle": "2023-08-16T17:01:03.051319Z",
     "shell.execute_reply": "2023-08-16T17:01:03.050307Z",
     "shell.execute_reply.started": "2023-08-16T17:01:03.032599Z"
    }
   },
   "outputs": [
    {
     "data": {
      "text/plain": [
       "['i', 'love', 'dogs', 'John']"
      ]
     },
     "execution_count": 11,
     "metadata": {},
     "output_type": "execute_result"
    }
   ],
   "source": [
    "word_split(\"ilovedogsJohn\", [\"i\", \"am\", \"a\", \"dogs\", \"lover\", \"love\", \"John\"])"
   ]
  },
  {
   "cell_type": "code",
   "execution_count": null,
   "id": "a8b201de",
   "metadata": {},
   "outputs": [],
   "source": []
  },
  {
   "cell_type": "markdown",
   "id": "113393ea-62cf-4122-a1c7-2c12b51ad97b",
   "metadata": {},
   "source": [
    "## Memoization\n",
    "\n",
    "[Wikipedia article on Memoization](https://en.wikipedia.org/wiki/Memoization)\n",
    "\n",
    "Memoization effectively refers to remembering (\"memoization\" -> \"memorandum\" -> to be remembered) results of method calls based on the method inputs and then returning the remembered result rather than computing the result again. You can think of it as a cache for method results. We'll use this in some of the interview problems as improved versions of a purely recursive solution.\n",
    "\n",
    "A simple example for computing factorials using memoization in Python would be something like this:"
   ]
  },
  {
   "cell_type": "code",
   "execution_count": 12,
   "id": "f8636692-fd92-4521-8833-bedc6875cbfd",
   "metadata": {
    "execution": {
     "iopub.execute_input": "2023-08-16T17:11:08.783645Z",
     "iopub.status.busy": "2023-08-16T17:11:08.783645Z",
     "iopub.status.idle": "2023-08-16T17:11:08.805438Z",
     "shell.execute_reply": "2023-08-16T17:11:08.803985Z",
     "shell.execute_reply.started": "2023-08-16T17:11:08.783645Z"
    }
   },
   "outputs": [],
   "source": [
    "# Create cache for known results\n",
    "factorial_memo = {}\n",
    "\n",
    "\n",
    "def factorial(k):\n",
    "    if k < 2:\n",
    "        return 1\n",
    "\n",
    "    if not k in factorial_memo:\n",
    "        factorial_memo[k] = k * factorial(k - 1)\n",
    "\n",
    "    return factorial_memo[k]"
   ]
  },
  {
   "cell_type": "code",
   "execution_count": 18,
   "id": "6644142f-ac4f-4402-98dd-b96bccefdd83",
   "metadata": {
    "execution": {
     "iopub.execute_input": "2023-08-16T17:12:55.182076Z",
     "iopub.status.busy": "2023-08-16T17:12:55.182076Z",
     "iopub.status.idle": "2023-08-16T17:12:55.199508Z",
     "shell.execute_reply": "2023-08-16T17:12:55.199369Z",
     "shell.execute_reply.started": "2023-08-16T17:12:55.182076Z"
    }
   },
   "outputs": [
    {
     "data": {
      "text/plain": [
       "24"
      ]
     },
     "execution_count": 18,
     "metadata": {},
     "output_type": "execute_result"
    }
   ],
   "source": [
    "factorial(4)"
   ]
  },
  {
   "cell_type": "code",
   "execution_count": 17,
   "id": "fa803883-749e-427a-906a-0e5b0cccb739",
   "metadata": {
    "execution": {
     "iopub.execute_input": "2023-08-16T17:12:50.470361Z",
     "iopub.status.busy": "2023-08-16T17:12:50.470361Z",
     "iopub.status.idle": "2023-08-16T17:12:50.476433Z",
     "shell.execute_reply": "2023-08-16T17:12:50.476385Z",
     "shell.execute_reply.started": "2023-08-16T17:12:50.470361Z"
    }
   },
   "outputs": [
    {
     "data": {
      "text/plain": [
       "720"
      ]
     },
     "execution_count": 17,
     "metadata": {},
     "output_type": "execute_result"
    }
   ],
   "source": [
    "factorial(6)"
   ]
  },
  {
   "cell_type": "markdown",
   "id": "daae9108-5da6-4e95-9d74-6ec61dfc4579",
   "metadata": {},
   "source": [
    "Note how we are now using a dictionary to store previous results of the factorial function! We are now able to increase the efficiency of this function by remembering old results!\n",
    "\n",
    "Keep this in mind when working on the Coin Change Problem and the Fibonacci Sequence Problem."
   ]
  },
  {
   "cell_type": "markdown",
   "id": "118cdfe0-9893-4e69-9ce6-e496bbdfc3a0",
   "metadata": {},
   "source": [
    "We can also encapsulate the memoization process into a class:"
   ]
  },
  {
   "cell_type": "code",
   "execution_count": 19,
   "id": "aa8c130a-670c-40e7-b871-ae01e191747f",
   "metadata": {
    "execution": {
     "iopub.execute_input": "2023-08-16T17:15:14.044857Z",
     "iopub.status.busy": "2023-08-16T17:15:14.044857Z",
     "iopub.status.idle": "2023-08-16T17:15:14.063360Z",
     "shell.execute_reply": "2023-08-16T17:15:14.062863Z",
     "shell.execute_reply.started": "2023-08-16T17:15:14.044857Z"
    }
   },
   "outputs": [],
   "source": [
    "class Memoize:\n",
    "    def __init__(self, f):\n",
    "        self.f = f\n",
    "        self.memo = {}\n",
    "\n",
    "    def __call__(self, *args):\n",
    "        if not args in self.memo:\n",
    "            self.memo[args] = self.f(*args)\n",
    "        return self.memo[args]"
   ]
  },
  {
   "cell_type": "code",
   "execution_count": null,
   "id": "e2c7c1d2-1aa5-4fbd-8afb-874ab862e5af",
   "metadata": {},
   "outputs": [],
   "source": []
  },
  {
   "cell_type": "code",
   "execution_count": null,
   "id": "c966a6f1-8271-4944-a545-ad36e5985469",
   "metadata": {},
   "outputs": [],
   "source": [
    "def factorial(k):\n",
    "    if k < 2:\n",
    "        return 1\n",
    "\n",
    "    return k * factorial(k - 1)\n",
    "\n",
    "\n",
    "factorial = Memoize(factorial)"
   ]
  },
  {
   "cell_type": "markdown",
   "id": "d8605dfb-96ad-4091-8c24-be7a4a614cd8",
   "metadata": {},
   "source": [
    "## Problems"
   ]
  },
  {
   "cell_type": "markdown",
   "id": "26f904aa-a413-4d80-a290-6df81dadd9f6",
   "metadata": {},
   "source": [
    "### Reverse a String\n",
    "\n",
    "This interview question requires you to reverse a string using recursion. Make sure to think of the base case here.\n",
    "\n",
    "Again, make sure you use *recursion* to accomplish this. **Do not slice (e.g. string[::-1]) or use iteration, there must be a recursive call for the function.**"
   ]
  },
  {
   "cell_type": "code",
   "execution_count": 34,
   "id": "1e288297-73ea-48b4-86d1-052a0eb0bc25",
   "metadata": {
    "execution": {
     "iopub.execute_input": "2023-08-16T17:23:15.919614Z",
     "iopub.status.busy": "2023-08-16T17:23:15.919614Z",
     "iopub.status.idle": "2023-08-16T17:23:15.936809Z",
     "shell.execute_reply": "2023-08-16T17:23:15.935684Z",
     "shell.execute_reply.started": "2023-08-16T17:23:15.919614Z"
    }
   },
   "outputs": [],
   "source": [
    "def reverse(s):\n",
    "    if len(s) <= 1:\n",
    "        return s\n",
    "    else:\n",
    "        return s[len(s) - 1] + reverse(s[0 : len(s) - 1])"
   ]
  },
  {
   "cell_type": "code",
   "execution_count": 35,
   "id": "9b32d508-6377-4f06-a671-59be39b29848",
   "metadata": {
    "execution": {
     "iopub.execute_input": "2023-08-16T17:23:16.135047Z",
     "iopub.status.busy": "2023-08-16T17:23:16.135047Z",
     "iopub.status.idle": "2023-08-16T17:23:16.153911Z",
     "shell.execute_reply": "2023-08-16T17:23:16.153911Z",
     "shell.execute_reply.started": "2023-08-16T17:23:16.135047Z"
    }
   },
   "outputs": [
    {
     "data": {
      "text/plain": [
       "'wolleh'"
      ]
     },
     "execution_count": 35,
     "metadata": {},
     "output_type": "execute_result"
    }
   ],
   "source": [
    "reverse(\"hellow\")"
   ]
  },
  {
   "cell_type": "code",
   "execution_count": 36,
   "id": "21b9ed10-527f-4445-aa13-77f7540c7719",
   "metadata": {
    "execution": {
     "iopub.execute_input": "2023-08-16T17:23:16.658596Z",
     "iopub.status.busy": "2023-08-16T17:23:16.658596Z",
     "iopub.status.idle": "2023-08-16T17:23:16.666415Z",
     "shell.execute_reply": "2023-08-16T17:23:16.665919Z",
     "shell.execute_reply.started": "2023-08-16T17:23:16.658596Z"
    }
   },
   "outputs": [
    {
     "data": {
      "text/plain": [
       "'domarp ma i'"
      ]
     },
     "execution_count": 36,
     "metadata": {},
     "output_type": "execute_result"
    }
   ],
   "source": [
    "reverse(\"i am pramod\")"
   ]
  },
  {
   "cell_type": "code",
   "execution_count": 32,
   "id": "f11ceb40-28d3-4888-8b6e-c77d37f8f28e",
   "metadata": {
    "execution": {
     "iopub.execute_input": "2023-08-16T17:22:41.170111Z",
     "iopub.status.busy": "2023-08-16T17:22:41.170111Z",
     "iopub.status.idle": "2023-08-16T17:22:41.185564Z",
     "shell.execute_reply": "2023-08-16T17:22:41.184585Z",
     "shell.execute_reply.started": "2023-08-16T17:22:41.170111Z"
    }
   },
   "outputs": [],
   "source": [
    "def reverse(s):\n",
    "    # Base Case\n",
    "    if len(s) <= 1:\n",
    "        return s\n",
    "\n",
    "    # Recursion\n",
    "    return reverse(s[1:]) + s[0]"
   ]
  },
  {
   "cell_type": "code",
   "execution_count": 33,
   "id": "3198d1dd-8ac2-4fb0-90a2-b0ccf46a6533",
   "metadata": {
    "execution": {
     "iopub.execute_input": "2023-08-16T17:22:52.662266Z",
     "iopub.status.busy": "2023-08-16T17:22:52.661270Z",
     "iopub.status.idle": "2023-08-16T17:22:52.674847Z",
     "shell.execute_reply": "2023-08-16T17:22:52.674348Z",
     "shell.execute_reply.started": "2023-08-16T17:22:52.662266Z"
    }
   },
   "outputs": [
    {
     "data": {
      "text/plain": [
       "'dlrow olleh'"
      ]
     },
     "execution_count": 33,
     "metadata": {},
     "output_type": "execute_result"
    }
   ],
   "source": [
    "reverse(\"hello world\")"
   ]
  },
  {
   "cell_type": "markdown",
   "id": "a3aea768-a3e5-4baf-ae49-decb447fea18",
   "metadata": {},
   "source": [
    "---"
   ]
  },
  {
   "cell_type": "markdown",
   "id": "0c3883a9-cce6-4c26-bd8d-becd8783288b",
   "metadata": {},
   "source": [
    "### String Permutation\n",
    "\n",
    "*Problem Statement*\n",
    "\n",
    "Given a string, write a function that uses recursion to output a list of all the possible permutations of that string.\n",
    "\n",
    "For example, given s='abc' the function should return ['abc', 'acb', 'bac', 'bca', 'cab', 'cba']\n",
    "\n",
    "*Note: If a character is repeated, treat each occurence as distinct, for example an input of 'xxx' would return a list with 6 \"versions\" of 'xxx'*\n",
    "\n",
    "\n",
    "**Fill Out Your Solution Below**\n",
    "\n",
    "Let's think about what the steps we need to take here are:\n",
    "\n",
    "1. Iterate through the initial string – e.g., ‘abc’.\n",
    "\n",
    "* For each character in the initial string, set aside that character and get a list of all permutations of the string that’s left. So, for example, if the current iteration is on 'b', we’d want to find all the permutations of the string 'ac'.\n",
    "\n",
    "* Once you have the list from step 2, add each element from that list to the character from the initial string, and append the result to our list of final results. So if we’re on 'b' and we’ve gotten the list ['ac', 'ca'], we’d add 'b' to those, resulting in 'bac' and 'bca', each of which we’d add to our final results.\n",
    "\n",
    "* Return the list of final results.\n",
    "\n",
    "Let's go ahead and see this implemented:"
   ]
  },
  {
   "cell_type": "markdown",
   "id": "5f802a71-2100-4c6b-88a7-e0f084432e94",
   "metadata": {},
   "source": [
    "**Method-1:** by me (Pramod)"
   ]
  },
  {
   "cell_type": "code",
   "execution_count": 2,
   "id": "bebfe830-1a2a-4930-8ef1-8a0177386211",
   "metadata": {
    "execution": {
     "iopub.execute_input": "2023-08-19T08:15:41.693886Z",
     "iopub.status.busy": "2023-08-19T08:15:41.691904Z",
     "iopub.status.idle": "2023-08-19T08:15:41.712359Z",
     "shell.execute_reply": "2023-08-19T08:15:41.710951Z",
     "shell.execute_reply.started": "2023-08-19T08:15:41.693886Z"
    }
   },
   "outputs": [],
   "source": [
    "def permute(s):\n",
    "    if len(s) == 1:\n",
    "        return [s]\n",
    "\n",
    "    if len(s) == 2:\n",
    "        return [s, s[1] + s[0]]\n",
    "\n",
    "    else:\n",
    "        return [\n",
    "            x\n",
    "            for x in [\n",
    "                s[i] + j for i in range(len(s)) for j in permute(s[0:i] + s[i + 1 :])\n",
    "            ]\n",
    "        ]"
   ]
  },
  {
   "cell_type": "code",
   "execution_count": 3,
   "id": "05cbf9be-8880-4975-91d2-b95fef05fc5a",
   "metadata": {
    "execution": {
     "iopub.execute_input": "2023-08-19T08:15:42.177285Z",
     "iopub.status.busy": "2023-08-19T08:15:42.174473Z",
     "iopub.status.idle": "2023-08-19T08:15:42.194981Z",
     "shell.execute_reply": "2023-08-19T08:15:42.192401Z",
     "shell.execute_reply.started": "2023-08-19T08:15:42.177285Z"
    }
   },
   "outputs": [
    {
     "name": "stdout",
     "output_type": "stream",
     "text": [
      "['abc', 'acb', 'bac', 'bca', 'cab', 'cba']\n"
     ]
    }
   ],
   "source": [
    "print(permute(\"abc\"))"
   ]
  },
  {
   "cell_type": "markdown",
   "id": "24d17454-fcbd-4968-b0a4-1734935b9664",
   "metadata": {},
   "source": [
    "**Method-2** from net"
   ]
  },
  {
   "cell_type": "code",
   "execution_count": 4,
   "id": "d073c44e-7b1b-4aca-9871-41921ef19715",
   "metadata": {
    "execution": {
     "iopub.execute_input": "2023-08-19T08:15:52.337539Z",
     "iopub.status.busy": "2023-08-19T08:15:52.337539Z",
     "iopub.status.idle": "2023-08-19T08:15:52.346774Z",
     "shell.execute_reply": "2023-08-19T08:15:52.345780Z",
     "shell.execute_reply.started": "2023-08-19T08:15:52.337539Z"
    }
   },
   "outputs": [],
   "source": [
    "def permute(s):\n",
    "    out = []\n",
    "\n",
    "    # Base Case\n",
    "    if len(s) == 1:\n",
    "        out = [s]\n",
    "\n",
    "    else:\n",
    "        # For every letter in string\n",
    "        for i, let in enumerate(s):\n",
    "            # For every permutation resulting from Step 2 and 3 described above\n",
    "            for perm in permute(s[:i] + s[i + 1 :]):\n",
    "                # Add it to output\n",
    "                out += [let + perm]\n",
    "\n",
    "    return out"
   ]
  },
  {
   "cell_type": "code",
   "execution_count": 5,
   "id": "ded90edd-69aa-4a41-bbc7-3655b09a2ae3",
   "metadata": {
    "execution": {
     "iopub.execute_input": "2023-08-19T08:15:52.734051Z",
     "iopub.status.busy": "2023-08-19T08:15:52.734051Z",
     "iopub.status.idle": "2023-08-19T08:15:52.752517Z",
     "shell.execute_reply": "2023-08-19T08:15:52.751498Z",
     "shell.execute_reply.started": "2023-08-19T08:15:52.734051Z"
    }
   },
   "outputs": [
    {
     "data": {
      "text/plain": [
       "['abc', 'acb', 'bac', 'bca', 'cab', 'cba']"
      ]
     },
     "execution_count": 5,
     "metadata": {},
     "output_type": "execute_result"
    }
   ],
   "source": [
    "permute(\"abc\")"
   ]
  },
  {
   "cell_type": "code",
   "execution_count": 1,
   "id": "8113cf9d-d14a-457c-b5ac-790de98cce29",
   "metadata": {
    "execution": {
     "iopub.execute_input": "2023-08-19T15:30:08.909245Z",
     "iopub.status.busy": "2023-08-19T15:30:08.909245Z",
     "iopub.status.idle": "2023-08-19T15:30:08.922438Z",
     "shell.execute_reply": "2023-08-19T15:30:08.920763Z",
     "shell.execute_reply.started": "2023-08-19T15:30:08.909245Z"
    }
   },
   "outputs": [],
   "source": [
    "# import time\n",
    "\n",
    "\n",
    "# def calculate_time(func):\n",
    "#     def inner1(*args, **kwargs):\n",
    "#         begin = time.time()\n",
    "#         returned_value = func(*args, **kwargs)\n",
    "#         end = time.time()\n",
    "#         print(\"Total time taken in : \", func.__name__, end - begin)\n",
    "#         return returned_value\n",
    "\n",
    "#     return inner1"
   ]
  },
  {
   "cell_type": "markdown",
   "id": "99bcc546-aaa2-49d3-ae31-36c32d236c97",
   "metadata": {},
   "source": [
    "### Fibonnaci Sequence (Dynamic Programming Examples: Bottom-up vs Top-down)\n",
    "\n",
    "*Problem Statement*\n",
    "\n",
    "Implement a [Fibonnaci Sequence](https://en.wikipedia.org/wiki/Fibonacci_number) in three different ways:\n",
    "\n",
    "* Recursively\n",
    "* Dynamically (Using Memoization to store results)\n",
    "* Iteratively\n",
    "\n",
    "Remember that a fibonacci sequence: 0,1,1,2,3,5,8,13,21,... starts off with a base case checking to see if n = 0 or 1, then it returns 1. \n",
    "\n",
    "Else it returns fib(n-1)+fib(n+2)."
   ]
  },
  {
   "cell_type": "markdown",
   "id": "15177be5-cbdd-4c7c-86e4-6760b09c5ae3",
   "metadata": {},
   "source": [
    "![](https://files.realpython.com/media/Screen_Shot_2021-06-04_at_3.24.02_PM.49155bd58b7d.png)"
   ]
  },
  {
   "cell_type": "markdown",
   "id": "cdff2285-9145-4818-bd2f-593e583c6893",
   "metadata": {},
   "source": [
    "**Recursively**\n",
    "\n",
    "The recursive solution is exponential time Big-O , with O(2^n). However, its a very simple and basic implementation to consider:"
   ]
  },
  {
   "cell_type": "code",
   "execution_count": 6,
   "id": "bebd29d7-ee27-4134-ab2d-8ad1c29d00a1",
   "metadata": {
    "execution": {
     "iopub.execute_input": "2023-08-19T17:02:42.868633Z",
     "iopub.status.busy": "2023-08-19T17:02:42.867642Z",
     "iopub.status.idle": "2023-08-19T17:02:42.879333Z",
     "shell.execute_reply": "2023-08-19T17:02:42.878599Z",
     "shell.execute_reply.started": "2023-08-19T17:02:42.868633Z"
    }
   },
   "outputs": [],
   "source": [
    "def fib_rec(n):\n",
    "    # Base Case\n",
    "    if n == 0 or n == 1:\n",
    "        return n\n",
    "\n",
    "    # Recursion\n",
    "    else:\n",
    "        return fib_rec(n - 1) + fib_rec(n - 2)"
   ]
  },
  {
   "cell_type": "code",
   "execution_count": 7,
   "id": "1edb43da-1570-45e3-9751-e243994bc50c",
   "metadata": {
    "execution": {
     "iopub.execute_input": "2023-08-19T17:02:43.155507Z",
     "iopub.status.busy": "2023-08-19T17:02:43.155507Z",
     "iopub.status.idle": "2023-08-19T17:03:24.016791Z",
     "shell.execute_reply": "2023-08-19T17:03:24.015907Z",
     "shell.execute_reply.started": "2023-08-19T17:02:43.155507Z"
    }
   },
   "outputs": [
    {
     "name": "stdout",
     "output_type": "stream",
     "text": [
      "Total time taken in :40.85479283332825 \n"
     ]
    }
   ],
   "source": [
    "import time\n",
    "begin = time.time()\n",
    "fib_rec(40)\n",
    "end = time.time()\n",
    "print(f\"Total time taken in :{end - begin} \")"
   ]
  },
  {
   "cell_type": "code",
   "execution_count": 16,
   "id": "95ac2c1f-4afc-4977-bde6-0d26e272ff9b",
   "metadata": {
    "execution": {
     "iopub.execute_input": "2023-08-19T17:05:07.805587Z",
     "iopub.status.busy": "2023-08-19T17:05:07.804591Z",
     "iopub.status.idle": "2023-08-19T17:05:08.115076Z",
     "shell.execute_reply": "2023-08-19T17:05:08.114080Z",
     "shell.execute_reply.started": "2023-08-19T17:05:07.805587Z"
    }
   },
   "outputs": [
    {
     "name": "stdout",
     "output_type": "stream",
     "text": [
      "Total time taken in :0.2984952926635742 \n"
     ]
    }
   ],
   "source": [
    "import time\n",
    "begin = time.time()\n",
    "fib_rec(30)\n",
    "end = time.time()\n",
    "print(f\"Total time taken in :{end - begin} \")"
   ]
  },
  {
   "cell_type": "markdown",
   "id": "4c274d34-2a5d-4234-9de4-e2cb82b92635",
   "metadata": {},
   "source": [
    "#### plotting the execution time\n",
    "\n",
    "[Visualizing Algorithm Runtimes in Python](https://dev.to/chroline/visualizing-algorithm-runtimes-in-python-f92)"
   ]
  },
  {
   "cell_type": "code",
   "execution_count": 17,
   "id": "e396f637-3405-4e82-a5b8-e475575353ca",
   "metadata": {
    "execution": {
     "iopub.execute_input": "2023-08-19T17:05:43.176353Z",
     "iopub.status.busy": "2023-08-19T17:05:43.175348Z",
     "iopub.status.idle": "2023-08-19T17:22:54.394956Z",
     "shell.execute_reply": "2023-08-19T17:22:54.394450Z",
     "shell.execute_reply.started": "2023-08-19T17:05:43.176353Z"
    }
   },
   "outputs": [
    {
     "data": {
      "text/plain": [
       "[<matplotlib.lines.Line2D at 0x1d4356a30d0>]"
      ]
     },
     "execution_count": 17,
     "metadata": {},
     "output_type": "execute_result"
    },
    {
     "data": {
      "image/png": "[encoded data removed]",
      "text/plain": [
       "<Figure size 1000x600 with 1 Axes>"
      ]
     },
     "metadata": {},
     "output_type": "display_data"
    }
   ],
   "source": [
    "import matplotlib.pyplot as plt\n",
    "import numpy as np\n",
    "import timeit\n",
    "import math\n",
    "import random\n",
    "\n",
    "plt.rcParams['figure.figsize'] = [10, 6] # set size of plot\n",
    "    \n",
    "ns = np.linspace(1, 40, 40, dtype=int)\n",
    "ts = [timeit.timeit('fib_rec({})'.format(n), number=10,globals=globals()) for n in ns]\n",
    "plt.plot(ns, ts, 'or')"
   ]
  },
  {
   "cell_type": "code",
   "execution_count": 18,
   "id": "cbae5725-f174-4b9d-bd87-517842ab2ed4",
   "metadata": {
    "execution": {
     "iopub.execute_input": "2023-08-19T18:02:45.138333Z",
     "iopub.status.busy": "2023-08-19T18:02:45.137984Z",
     "iopub.status.idle": "2023-08-19T18:02:45.153147Z",
     "shell.execute_reply": "2023-08-19T18:02:45.151669Z",
     "shell.execute_reply.started": "2023-08-19T18:02:45.138333Z"
    }
   },
   "outputs": [],
   "source": [
    "# import matplotlib.pyplot as plt\n",
    "# import numpy as np\n",
    "# import timeit\n",
    "# import math\n",
    "# import random\n",
    "\n",
    "# plt.rcParams['figure.figsize'] = [10, 6] # set size of plot\n",
    "    \n",
    "# ns = np.linspace(1, 30, 30, dtype=int)\n",
    "# ts = [timeit.timeit('fib_rec({})'.format(n), number=10,globals=globals()) for n in ns]\n",
    "# plt.plot(ns, ts, 'or')"
   ]
  },
  {
   "cell_type": "markdown",
   "id": "c6d76fab-4940-4788-9980-67475226e3bb",
   "metadata": {},
   "source": [
    "**Dynamically**\n",
    "\n",
    "In the form it is implemented here, the cache is set beforehand and is based on the desired **n** number of the Fibonacci Sequence. Note how we check it the cache[n] != None, meaning we have a check to know wether or not to keep setting the cache (and more importantly keep cache of old results!)"
   ]
  },
  {
   "cell_type": "markdown",
   "id": "38f8be4c-9d1f-4924-9bb7-8995efe7fb4f",
   "metadata": {},
   "source": [
    "#### *Bottom-up*"
   ]
  },
  {
   "cell_type": "code",
   "execution_count": 46,
   "id": "6ae9bef0-a7ef-4ea2-b0eb-944de0016aff",
   "metadata": {
    "execution": {
     "iopub.execute_input": "2023-08-19T18:09:14.650988Z",
     "iopub.status.busy": "2023-08-19T18:09:14.649992Z",
     "iopub.status.idle": "2023-08-19T18:09:14.675234Z",
     "shell.execute_reply": "2023-08-19T18:09:14.673625Z",
     "shell.execute_reply.started": "2023-08-19T18:09:14.650988Z"
    }
   },
   "outputs": [],
   "source": [
    "def fib(n):\n",
    "    if n == 0:\n",
    "        return 0\n",
    "    if n == 1:\n",
    "        return 1\n",
    "    # table for tabulation\n",
    "    table = [None] * (n + 1)\n",
    "    table[0] = 0  # base case 1, fib(0) = 0\n",
    "    table[1] = 1  # base case 2, fib(1) = 1\n",
    "    # filling up tabulation table starting from 2 and going upto n\n",
    "    for i in range(2, n + 1):\n",
    "        # we have result of i-1 and i-2 available because these had been evaluated already\n",
    "        table[i] = table[i - 1] + table[i - 2]\n",
    "    # return the value of n in tabulation table\n",
    "    return table[n]"
   ]
  },
  {
   "cell_type": "code",
   "execution_count": 47,
   "id": "66bfc7f4-36fa-4bfc-80ef-b0c016315e58",
   "metadata": {
    "execution": {
     "iopub.execute_input": "2023-08-19T18:09:16.123955Z",
     "iopub.status.busy": "2023-08-19T18:09:16.122573Z",
     "iopub.status.idle": "2023-08-19T18:09:16.135131Z",
     "shell.execute_reply": "2023-08-19T18:09:16.134504Z",
     "shell.execute_reply.started": "2023-08-19T18:09:16.123955Z"
    }
   },
   "outputs": [
    {
     "name": "stdout",
     "output_type": "stream",
     "text": [
      "354224848179261915075\n",
      "Total time taken in :0.0004508495330810547 \n"
     ]
    }
   ],
   "source": [
    "import time\n",
    "begin = time.time()\n",
    "print(fib(100))\n",
    "end = time.time()\n",
    "print(f\"Total time taken in :{end - begin} \")"
   ]
  },
  {
   "cell_type": "code",
   "execution_count": 48,
   "id": "27a40fc9-b788-44f3-ad23-5db8ae0ba4d5",
   "metadata": {
    "execution": {
     "iopub.execute_input": "2023-08-19T18:09:17.149359Z",
     "iopub.status.busy": "2023-08-19T18:09:17.149359Z",
     "iopub.status.idle": "2023-08-19T18:09:18.102564Z",
     "shell.execute_reply": "2023-08-19T18:09:18.101571Z",
     "shell.execute_reply.started": "2023-08-19T18:09:17.149359Z"
    }
   },
   "outputs": [
    {
     "data": {
      "text/plain": [
       "[<matplotlib.lines.Line2D at 0x1d43904c670>]"
      ]
     },
     "execution_count": 48,
     "metadata": {},
     "output_type": "execute_result"
    },
    {
     "data": {
      "image/png": "[encoded data removed]",
      "text/plain": [
       "<Figure size 1000x600 with 1 Axes>"
      ]
     },
     "metadata": {},
     "output_type": "display_data"
    }
   ],
   "source": [
    "import matplotlib.pyplot as plt\n",
    "import numpy as np\n",
    "import timeit\n",
    "import math\n",
    "import random\n",
    "\n",
    "plt.rcParams['figure.figsize'] = [10, 6] # set size of plot\n",
    "    \n",
    "ns = np.linspace(1, 100, 100, dtype=int)\n",
    "ts = [timeit.timeit('fib({})'.format(n), number=1000,globals=globals()) for n in ns]\n",
    "plt.plot(ns, ts, 'or')"
   ]
  },
  {
   "cell_type": "markdown",
   "id": "185de54d-b60d-413e-bb2f-f4bd2b0252be",
   "metadata": {},
   "source": [
    "#### *Top-down*"
   ]
  },
  {
   "cell_type": "code",
   "execution_count": 49,
   "id": "d8618cdb-945a-4681-ae06-c9df9261b8e6",
   "metadata": {
    "execution": {
     "iopub.execute_input": "2023-08-19T18:09:24.402700Z",
     "iopub.status.busy": "2023-08-19T18:09:24.402187Z",
     "iopub.status.idle": "2023-08-19T18:09:24.418262Z",
     "shell.execute_reply": "2023-08-19T18:09:24.417516Z",
     "shell.execute_reply.started": "2023-08-19T18:09:24.402700Z"
    }
   },
   "outputs": [
    {
     "name": "stdout",
     "output_type": "stream",
     "text": [
      "354224848179261915075\n"
     ]
    }
   ],
   "source": [
    "memo = {}  # dictionay for Memoization\n",
    "\n",
    "\n",
    "def fib(n):\n",
    "    if n == 0:  # base case 1\n",
    "        return 0\n",
    "    if n == 1:  # base case 2\n",
    "        return 1\n",
    "    elif n in memo:  # Check if result for n has already been evaluated\n",
    "        return memo[n]  # return the result if it is available\n",
    "    else:  # otherwise recursive step\n",
    "        memo[n] = fib(n - 1) + fib(\n",
    "            n - 2\n",
    "        )  # store the result of n in memoization dictionary\n",
    "        return memo[n]  # return the value\n",
    "\n",
    "\n",
    "print(fib(100))"
   ]
  },
  {
   "cell_type": "code",
   "execution_count": 50,
   "id": "b287645e-7bd9-4c8d-8599-036b9b5628df",
   "metadata": {
    "execution": {
     "iopub.execute_input": "2023-08-19T18:09:25.211839Z",
     "iopub.status.busy": "2023-08-19T18:09:25.211839Z",
     "iopub.status.idle": "2023-08-19T18:09:25.223605Z",
     "shell.execute_reply": "2023-08-19T18:09:25.222390Z",
     "shell.execute_reply.started": "2023-08-19T18:09:25.211839Z"
    }
   },
   "outputs": [
    {
     "name": "stdout",
     "output_type": "stream",
     "text": [
      "102334155\n",
      "Total time taken in :0.0 \n"
     ]
    }
   ],
   "source": [
    "import time\n",
    "begin = time.time()\n",
    "print(fib(40))\n",
    "end = time.time()\n",
    "print(f\"Total time taken in :{end - begin} \")"
   ]
  },
  {
   "cell_type": "code",
   "execution_count": 51,
   "id": "7d3a5ea4-7f93-4833-8820-e7abaabe8c75",
   "metadata": {
    "execution": {
     "iopub.execute_input": "2023-08-19T18:09:25.881916Z",
     "iopub.status.busy": "2023-08-19T18:09:25.881916Z",
     "iopub.status.idle": "2023-08-19T18:09:25.902997Z",
     "shell.execute_reply": "2023-08-19T18:09:25.901995Z",
     "shell.execute_reply.started": "2023-08-19T18:09:25.881916Z"
    }
   },
   "outputs": [
    {
     "name": "stdout",
     "output_type": "stream",
     "text": [
      "354224848179261915075\n",
      "Total time taken in :0.0 \n"
     ]
    }
   ],
   "source": [
    "begin = time.time()\n",
    "print(fib(100))\n",
    "end = time.time()\n",
    "print(f\"Total time taken in :{end - begin} \")"
   ]
  },
  {
   "cell_type": "code",
   "execution_count": 52,
   "id": "ecfd2d71-34c4-4c11-bf29-298a6537bd84",
   "metadata": {
    "execution": {
     "iopub.execute_input": "2023-08-19T18:09:26.763982Z",
     "iopub.status.busy": "2023-08-19T18:09:26.763020Z",
     "iopub.status.idle": "2023-08-19T18:09:27.062280Z",
     "shell.execute_reply": "2023-08-19T18:09:27.060026Z",
     "shell.execute_reply.started": "2023-08-19T18:09:26.763982Z"
    }
   },
   "outputs": [
    {
     "data": {
      "text/plain": [
       "[<matplotlib.lines.Line2D at 0x1d439570340>]"
      ]
     },
     "execution_count": 52,
     "metadata": {},
     "output_type": "execute_result"
    },
    {
     "data": {
      "image/png": "[encoded data removed]",
      "text/plain": [
       "<Figure size 1000x600 with 1 Axes>"
      ]
     },
     "metadata": {},
     "output_type": "display_data"
    }
   ],
   "source": [
    "import matplotlib.pyplot as plt\n",
    "import numpy as np\n",
    "import timeit\n",
    "import math\n",
    "import random\n",
    "\n",
    "plt.rcParams['figure.figsize'] = [10, 6] # set size of plot\n",
    "    \n",
    "ns = np.linspace(1, 100, 100, dtype=int)\n",
    "ts = [timeit.timeit('fib({})'.format(n), number=1000,globals=globals()) for n in ns]\n",
    "plt.plot(ns, ts, 'or')"
   ]
  },
  {
   "cell_type": "code",
   "execution_count": 10,
   "id": "4af84d0b-b5e2-4de9-a012-b2fcb9ee9570",
   "metadata": {
    "execution": {
     "iopub.execute_input": "2023-08-19T08:19:59.623550Z",
     "iopub.status.busy": "2023-08-19T08:19:59.623550Z",
     "iopub.status.idle": "2023-08-19T08:19:59.632524Z",
     "shell.execute_reply": "2023-08-19T08:19:59.632524Z",
     "shell.execute_reply.started": "2023-08-19T08:19:59.623550Z"
    }
   },
   "outputs": [
    {
     "data": {
      "text/plain": [
       "34"
      ]
     },
     "execution_count": 10,
     "metadata": {},
     "output_type": "execute_result"
    }
   ],
   "source": [
    "fib_dyn(9)"
   ]
  },
  {
   "cell_type": "markdown",
   "id": "f53b8a1a-bf33-4124-8e94-f0b90280bf44",
   "metadata": {},
   "source": [
    "- With above graph and execution time we can see the improvement. \n",
    "- Execution time reduced drastically."
   ]
  },
  {
   "cell_type": "markdown",
   "id": "5b125200-d507-4bed-b755-7471e30eb0f7",
   "metadata": {
    "execution": {
     "iopub.execute_input": "2023-08-19T08:21:15.628880Z",
     "iopub.status.busy": "2023-08-19T08:21:15.627883Z",
     "iopub.status.idle": "2023-08-19T08:21:15.634960Z",
     "shell.execute_reply": "2023-08-19T08:21:15.633968Z",
     "shell.execute_reply.started": "2023-08-19T08:21:15.628880Z"
    }
   },
   "source": [
    "**Iteratively**\n",
    "\n",
    "In this solution we can take advantage of Python's tuple unpacking!"
   ]
  },
  {
   "cell_type": "code",
   "execution_count": 24,
   "id": "9f64e2e8-7800-427f-8817-ce35b0097f42",
   "metadata": {
    "execution": {
     "iopub.execute_input": "2023-08-19T18:06:39.019567Z",
     "iopub.status.busy": "2023-08-19T18:06:39.018569Z",
     "iopub.status.idle": "2023-08-19T18:06:39.035300Z",
     "shell.execute_reply": "2023-08-19T18:06:39.032199Z",
     "shell.execute_reply.started": "2023-08-19T18:06:39.019567Z"
    }
   },
   "outputs": [],
   "source": [
    "def fib_iter(n):\n",
    "    # Set starting point\n",
    "    a = 0\n",
    "    b = 1\n",
    "    # Follow algorithm\n",
    "    for i in range(n):\n",
    "        a, b = b, a + b\n",
    "\n",
    "    return a"
   ]
  },
  {
   "cell_type": "code",
   "execution_count": 25,
   "id": "2ccb6f61-d874-47e1-b3e6-fe70c214513b",
   "metadata": {
    "execution": {
     "iopub.execute_input": "2023-08-19T18:06:39.725799Z",
     "iopub.status.busy": "2023-08-19T18:06:39.725301Z",
     "iopub.status.idle": "2023-08-19T18:06:39.744113Z",
     "shell.execute_reply": "2023-08-19T18:06:39.743617Z",
     "shell.execute_reply.started": "2023-08-19T18:06:39.725799Z"
    }
   },
   "outputs": [
    {
     "name": "stdout",
     "output_type": "stream",
     "text": [
      "354224848179261915075\n",
      "Total time taken in :0.0 \n"
     ]
    }
   ],
   "source": [
    "\n",
    "begin = time.time()\n",
    "print(fib_iter(100))\n",
    "end = time.time()\n",
    "print(f\"Total time taken in :{end - begin} \")"
   ]
  },
  {
   "cell_type": "code",
   "execution_count": 27,
   "id": "2294c16f-7548-456c-a2d0-6a0c5d83f2f0",
   "metadata": {
    "execution": {
     "iopub.execute_input": "2023-08-19T18:07:44.780426Z",
     "iopub.status.busy": "2023-08-19T18:07:44.780286Z",
     "iopub.status.idle": "2023-08-19T18:07:45.305189Z",
     "shell.execute_reply": "2023-08-19T18:07:45.303740Z",
     "shell.execute_reply.started": "2023-08-19T18:07:44.780426Z"
    }
   },
   "outputs": [
    {
     "data": {
      "text/plain": [
       "[<matplotlib.lines.Line2D at 0x1d4381db8b0>]"
      ]
     },
     "execution_count": 27,
     "metadata": {},
     "output_type": "execute_result"
    },
    {
     "data": {
      "image/png": "[encoded data removed]",
      "text/plain": [
       "<Figure size 1000x600 with 1 Axes>"
      ]
     },
     "metadata": {},
     "output_type": "display_data"
    }
   ],
   "source": [
    "import matplotlib.pyplot as plt\n",
    "import numpy as np\n",
    "import timeit\n",
    "import math\n",
    "import random\n",
    "\n",
    "plt.rcParams['figure.figsize'] = [10, 6] # set size of plot\n",
    "    \n",
    "ns = np.linspace(1, 100, 100, dtype=int)\n",
    "ts = [timeit.timeit('fib_iter({})'.format(n), number=1000,globals=globals()) for n in ns]\n",
    "plt.plot(ns, ts, 'or')"
   ]
  },
  {
   "cell_type": "markdown",
   "id": "57eecd3e-0313-413a-8cb0-021c6c9e3c22",
   "metadata": {},
   "source": [
    "### Coin Change Problem\n",
    "\n",
    "**Note: This problem has multiple solutions and is a classic problem in showing issues with basic recursion. There are better solutions involving memoization and simple iterative solutions.If you are having trouble with this problem (or it seems to be taking a long time to run in some cases) check out the Solution Notebook and fully read the conclusion link for a detailed description of the various ways to solve this problem!**\n",
    "\n",
    "\n",
    "This problem is common enough that is actually has its own [Wikipedia Entry](https://en.wikipedia.org/wiki/Change-making_problem)! Let's check the problem statement again:\n",
    "\n",
    "This is a classic recursion problem: Given a target amount **n** and a list (array) of distinct coin values, what's the fewest coins needed to make the change amount. \n",
    "\n",
    "For example:\n",
    "\n",
    "If n = 10 and coins = [1,5,10]. Then there are 4 possible ways to make change:\n",
    "\n",
    "* 1+1+1+1+1+1+1+1+1+1\n",
    "\n",
    "* 5 + 1+1+1+1+1\n",
    "\n",
    "* 5+5\n",
    "\n",
    "* 10\n",
    "\n",
    "With 1 coin being the minimum amount.\n",
    "\n",
    "    \n",
    "**Solution**\n",
    "\n",
    "This is a classic problem to show the value of dynamic programming. We'll show a basic recursive example and show why it's actually not the best way to solve this problem.\n",
    "\n",
    "Make sure to read the comments in the code below to fully understand the basic logic!"
   ]
  },
  {
   "cell_type": "code",
   "execution_count": null,
   "id": "bc5bbc84-2452-4ac2-90d3-e73a8e180257",
   "metadata": {},
   "outputs": [],
   "source": [
    "def rec_coin(target,coins):\n",
    "    '''\n",
    "    INPUT: Target change amount and list of coin values\n",
    "    OUTPUT: Minimum coins needed to make change\n",
    "    \n",
    "    Note, this solution is not optimized.\n",
    "    '''\n",
    "    \n",
    "    # Default to target value\n",
    "    min_coins = target\n",
    "    \n",
    "    # Check to see if we have a single coin match (BASE CASE)\n",
    "    if target in coins:\n",
    "        return 1\n",
    "    \n",
    "    else:\n",
    "        \n",
    "        # for every coin value that is <= than target\n",
    "        for i in [c for c in coins if c <= target]:\n",
    "            \n",
    "            # Recursive Call (add a count coin and subtract from the target) \n",
    "            num_coins = 1 + rec_coin(target-i,coins)\n",
    "            \n",
    "            # Reset Minimum if we have a new minimum\n",
    "            if num_coins < min_coins:\n",
    "                \n",
    "                min_coins = num_coins\n",
    "                \n",
    "    return min_coins"
   ]
  },
  {
   "cell_type": "code",
   "execution_count": null,
   "id": "6e234762-56e3-45e3-bf43-ed949c050085",
   "metadata": {},
   "outputs": [],
   "source": [
    "rec_coin(63,[1,5,10,25])"
   ]
  },
  {
   "cell_type": "markdown",
   "id": "313d213b-35bb-49da-8c5a-0d8883d20710",
   "metadata": {},
   "source": [
    "The problem with this approach is that it is very inefficient! It can take many, many recursive calls to finish this problem and its also inaccurate for non standard coin values (coin values that are not 1,5,10, etc.)\n",
    "\n",
    "We can see the problem with this approach in the figure below:"
   ]
  },
  {
   "cell_type": "markdown",
   "id": "5678a976-c8e1-4562-a461-9650ec6ad3b5",
   "metadata": {},
   "source": [
    "Each node here corresponds to a call to the **rec_coin** function. The label on the node indicated the amount of change for which we are now computng the number of coins for. Note how we are recalculating values we've already solved! For instance 15 is called 3 times. It would be much better if we could keep track of function calls we've already made.\n",
    "_____\n",
    "*Dynamic Programming Solution*\n",
    "\n",
    "This is the key to reducing the work time for the function. The better solution is to remember past results, that way before computing a new minimum we can check to see if we already know a result.\n",
    "\n",
    "Let's implement this:"
   ]
  },
  {
   "cell_type": "code",
   "execution_count": null,
   "id": "ea30a13b-c622-43cd-adb5-1721d0d29deb",
   "metadata": {},
   "outputs": [],
   "source": [
    "def rec_coin_dynam(target,coins,known_results):\n",
    "    '''\n",
    "    INPUT: This funciton takes in a target amount and a list of possible coins to use.\n",
    "    It also takes a third parameter, known_results, indicating previously calculated results.\n",
    "    The known_results parameter shoud be started with [0] * (target+1)\n",
    "    \n",
    "    OUTPUT: Minimum number of coins needed to make the target.\n",
    "    '''\n",
    "    \n",
    "    # Default output to target\n",
    "    min_coins = target\n",
    "    \n",
    "    # Base Case\n",
    "    if target in coins:\n",
    "        known_results[target] = 1\n",
    "        return 1\n",
    "    \n",
    "    # Return a known result if it happens to be greater than 1\n",
    "    elif known_results[target] > 0:\n",
    "        return known_results[target]\n",
    "    \n",
    "    else:\n",
    "        # for every coin value that is <= than target\n",
    "        for i in [c for c in coins if c <= target]:\n",
    "            \n",
    "            # Recursive call, note how we include the known results!\n",
    "            num_coins = 1 + rec_coin_dynam(target-i,coins,known_results)\n",
    "            \n",
    "            # Reset Minimum if we have a new minimum\n",
    "            if num_coins < min_coins:\n",
    "                min_coins = num_coins\n",
    "                \n",
    "                # Reset the known result\n",
    "                known_results[target] = min_coins\n",
    "                \n",
    "    return min_coins"
   ]
  },
  {
   "cell_type": "code",
   "execution_count": null,
   "id": "0d16c19c-c5a8-4039-8669-f5528048ccaf",
   "metadata": {},
   "outputs": [],
   "source": [
    "target = 74\n",
    "coins = [1,5,10,25]\n",
    "known_results = [0]*(target+1)\n",
    "\n",
    "rec_coin_dynam(target,coins,known_results)"
   ]
  },
  {
   "cell_type": "markdown",
   "id": "89db55e1-c6ef-4acd-b549-386f0fe20ed0",
   "metadata": {},
   "source": [
    "---"
   ]
  },
  {
   "cell_type": "markdown",
   "id": "65cc3d76-704e-4f32-8dd7-e10ba7eb9950",
   "metadata": {},
   "source": [
    "# Trees"
   ]
  },
  {
   "cell_type": "markdown",
   "id": "510ea506-e7ff-414b-a6f2-6397ae4fb619",
   "metadata": {
    "execution": {
     "iopub.execute_input": "2023-08-19T21:27:14.936442Z",
     "iopub.status.busy": "2023-08-19T21:27:14.935454Z",
     "iopub.status.idle": "2023-08-19T21:27:14.942977Z",
     "shell.execute_reply": "2023-08-19T21:27:14.942481Z",
     "shell.execute_reply.started": "2023-08-19T21:27:14.935454Z"
    }
   },
   "source": [
    "A tree is a nonlinear hierarchical data structure that consists of nodes connected by edges.\n",
    "\n",
    "- A tree is a non-linear abstract data type with a hierarchy-based structure.\n",
    "- It consists of nodes (where the data is stored) that are connected via links.\n",
    "- The tree data structure stems from a single node called a root node and has subtrees connected to the root.\n",
    "\n",
    "\n",
    "![](https://www.tutorialspoint.com/data_structures_algorithms/images/tree_data_structure.jpg)"
   ]
  },
  {
   "cell_type": "markdown",
   "id": "51f9e9a6-e2c7-4cdb-ba10-23708f378547",
   "metadata": {},
   "source": [
    "\r\n",
    "## Important Terms\r\n",
    "Following are the important terms with respect to tree.\r\n",
    "\r\n",
    "- *Path* − Path refers to the sequence of nodes along the edges of a tree.\r\n",
    "\r\n",
    "- *Root* − The node at the top of the tree is called root. There is only one root per tree and one path from the root node to any node.\r\n",
    "\r\n",
    "- *Parent* − Any node except the root node has one edge upward to a node called parent.\r\n",
    "\r\n",
    "- *Child* − The node below a given node connected by its edge downward is called its child node.\r\n",
    "\r\n",
    "- *Leaf* − The node which does not have any child node is called the leaf node.\r\n",
    "\r\n",
    "- *Subtree* − Subtree represents the descendants of a node.\r\n",
    "\r\n",
    "- *Visiting* − Visiting refers to checking the value of a node when control is on the node.\r\n",
    "\r\n",
    "- *Traversing* − Traversing means passing through nodes in a specific order.\r\n",
    "\r\n",
    "- *Levels* − Level of a node represents the generation of a node. If the root node is at level 0, then its next child node is at level 1, its grandchild is at level 2, and so on.\r\n",
    "\r\n",
    "- *Keys* − Key represents a value of a node based on which a search operation is to be carried out for a node.rried out for a node."
   ]
  },
  {
   "cell_type": "markdown",
   "id": "9c245326-55a1-4076-9c13-ad68a9fa9a4f",
   "metadata": {
    "execution": {
     "iopub.execute_input": "2023-08-19T21:40:23.796880Z",
     "iopub.status.busy": "2023-08-19T21:40:23.796880Z",
     "iopub.status.idle": "2023-08-19T21:40:23.804112Z",
     "shell.execute_reply": "2023-08-19T21:40:23.803616Z",
     "shell.execute_reply.started": "2023-08-19T21:40:23.796880Z"
    }
   },
   "source": [
    "\n",
    "## Types of Trees\n",
    "\n",
    "[Binary Trees in Python](https://www.educative.io/answers/binary-trees-in-python)\n",
    "\n",
    "There are three types of trees −\n",
    "\n",
    "1. General Trees  (root node has minimum 0 or maximum ‘n’ subtrees)\n",
    "\n",
    "2. Binary Trees (root node can only hold up to maximum 2 subtrees)\n",
    "\n",
    "3. Binary Search Trees (left subtree < root node ≤ right subtree)\n",
    "\n",
    "![](https://media.geeksforgeeks.org/wp-content/uploads/20230111154258/typoes1-768.png)"
   ]
  },
  {
   "attachments": {},
   "cell_type": "markdown",
   "id": "cb025e21-a45a-40fa-8fef-54747c62d5eb",
   "metadata": {},
   "source": [
    "## List of Lists Representation\n",
    "\n",
    "[List of Lists Representation](https://runestone.academy/ns/books/published/pythonds/Trees/ListofListsRepresentation.html)\n"
   ]
  },
  {
   "cell_type": "markdown",
   "id": "ac0463e3-7152-4172-94e5-4672c95b5ce1",
   "metadata": {},
   "source": [
    "\n",
    "- In a list of lists tree, we will store the value of the root node as the first element of the list.\n",
    "- The second element of the list will itself be a list that represents the left subtree. \n",
    "- The third element of the list will be another list that represents the right subtree."
   ]
  },
  {
   "cell_type": "markdown",
   "id": "3a4698c3-5de9-443d-bfa8-7d35c311ea86",
   "metadata": {},
   "source": [
    "\n",
    "![](https://runestone.academy/ns/books/published/pythonds/_images/smalltree.png)\n",
    "\n",
    "```python\n",
    "myTree = ['a',   #root\n",
    "      ['b',  #left subtree\n",
    "       ['d', [], []],\n",
    "       ['e', [], []] ],\n",
    "      ['c',  #right subtree\n",
    "       ['f', [], []],\n",
    "       [] ]\n",
    "     ]\n",
    "```\n",
    "     ]"
   ]
  },
  {
   "cell_type": "code",
   "execution_count": 4,
   "id": "55295c63-fd17-4198-97f1-20aff44d8cff",
   "metadata": {
    "execution": {
     "iopub.execute_input": "2023-08-19T21:56:59.394616Z",
     "iopub.status.busy": "2023-08-19T21:56:59.394616Z",
     "iopub.status.idle": "2023-08-19T21:56:59.403881Z",
     "shell.execute_reply": "2023-08-19T21:56:59.403385Z",
     "shell.execute_reply.started": "2023-08-19T21:56:59.394616Z"
    }
   },
   "outputs": [
    {
     "name": "stdout",
     "output_type": "stream",
     "text": [
      "['a', ['b', ['d', [], []], ['e', [], []]], ['c', ['f', [], []], []]]\n",
      "left subtree =  ['b', ['d', [], []], ['e', [], []]]\n",
      "root =  a\n",
      "right subtree =  ['c', ['f', [], []], []]\n"
     ]
    }
   ],
   "source": [
    "myTree = ['a', ['b', ['d',[],[]], ['e',[],[]] ], ['c', ['f',[],[]], []] ]\n",
    "print(myTree)\n",
    "print('left subtree = ', myTree[1])\n",
    "print('root = ', myTree[0])\n",
    "print('right subtree = ', myTree[2])"
   ]
  },
  {
   "cell_type": "markdown",
   "id": "71cdb001-48a1-4c09-aad7-3a15bb2db2c7",
   "metadata": {},
   "source": [
    "**Tree Representation Implementation**"
   ]
  },
  {
   "cell_type": "code",
   "execution_count": 7,
   "id": "8ba94ce2-a29e-45b0-8574-5cfe7b9215d1",
   "metadata": {
    "execution": {
     "iopub.execute_input": "2023-08-19T22:10:11.817669Z",
     "iopub.status.busy": "2023-08-19T22:10:11.817669Z",
     "iopub.status.idle": "2023-08-19T22:10:11.832059Z",
     "shell.execute_reply": "2023-08-19T22:10:11.831079Z",
     "shell.execute_reply.started": "2023-08-19T22:10:11.817669Z"
    }
   },
   "outputs": [],
   "source": [
    "def BinaryTree(r):\n",
    "    return [r, [], []]\n",
    "\n",
    "def insertLeft(root,newBranch):\n",
    "    t = root.pop(1)\n",
    "    if len(t) > 1:\n",
    "        root.insert(1,[newBranch,t,[]])\n",
    "    else:\n",
    "        root.insert(1,[newBranch, [], []])\n",
    "    return root\n",
    "\n",
    "def insertRight(root,newBranch):\n",
    "    t = root.pop(2)\n",
    "    if len(t) > 1:\n",
    "        root.insert(2,[newBranch,[],t])\n",
    "    else:\n",
    "        root.insert(2,[newBranch,[],[]])\n",
    "    return root\n",
    "\n",
    "def getRootVal(root):\n",
    "    return root[0]\n",
    "\n",
    "def setRootVal(root,newVal):\n",
    "    root[0] = newVal\n",
    "\n",
    "def getLeftChild(root):\n",
    "    return root[1]\n",
    "\n",
    "def getRightChild(root):\n",
    "    return root[2]"
   ]
  },
  {
   "cell_type": "code",
   "execution_count": null,
   "id": "252286ce-fec1-48b9-a0f6-ec7799a72cfb",
   "metadata": {},
   "outputs": [],
   "source": []
  },
  {
   "cell_type": "code",
   "execution_count": null,
   "id": "cee24e7a-6782-49b0-82ea-55700f8abce6",
   "metadata": {},
   "outputs": [],
   "source": []
  },
  {
   "cell_type": "code",
   "execution_count": null,
   "id": "2ad2ac4a-7ea4-46a5-aaca-6bedabbae243",
   "metadata": {},
   "outputs": [],
   "source": []
  },
  {
   "cell_type": "code",
   "execution_count": null,
   "id": "5112c420-4450-4b91-aae3-49d333a9fb26",
   "metadata": {},
   "outputs": [],
   "source": []
  },
  {
   "cell_type": "code",
   "execution_count": null,
   "id": "bf9445c4-258a-424f-a2ca-2f5059830f10",
   "metadata": {},
   "outputs": [],
   "source": []
  },
  {
   "cell_type": "code",
   "execution_count": null,
   "id": "f1d5af17-1560-4193-a765-562ebfa99177",
   "metadata": {},
   "outputs": [],
   "source": []
  },
  {
   "cell_type": "markdown",
   "id": "9dcddb6f-070a-4ab7-8a08-f46985b8a1eb",
   "metadata": {},
   "source": [
    "## Nodes and References Implementation\n",
    "\n",
    "[Source](https://runestone.academy/ns/books/published/pythonds/Trees/NodesandReferences.html)\n",
    "\r\n",
    "- In this case we will define a class that has attributes for the root value, as well as the left and right subtrees. \r\n",
    "- Since this representation more closely follows the object-oriented programming paradigm, we will continue to use this representation for the remainder of this section.\r\n"
   ]
  },
  {
   "cell_type": "markdown",
   "id": "969ef77b-5bf8-488a-83cb-9515c6719c2e",
   "metadata": {},
   "source": [
    "![](https://runestone.academy/ns/books/published/pythonds/_images/treerecs.png)"
   ]
  },
  {
   "cell_type": "code",
   "execution_count": 5,
   "id": "706dd7ec-d6e8-4d95-b78b-53b060218990",
   "metadata": {
    "execution": {
     "iopub.execute_input": "2023-08-19T22:05:56.028777Z",
     "iopub.status.busy": "2023-08-19T22:05:56.027798Z",
     "iopub.status.idle": "2023-08-19T22:05:56.034907Z",
     "shell.execute_reply": "2023-08-19T22:05:56.034766Z",
     "shell.execute_reply.started": "2023-08-19T22:05:56.028777Z"
    }
   },
   "outputs": [],
   "source": [
    "class BinaryTree:\n",
    "    def __init__(self,rootObj):\n",
    "        self.key = rootObj\n",
    "        self.leftChild = None\n",
    "        self.rightChild = None\n",
    "\n",
    "    def insertLeft(self,newNode):\n",
    "        if self.leftChild == None:\n",
    "            self.leftChild = BinaryTree(newNode)\n",
    "        else:\n",
    "            t = BinaryTree(newNode)\n",
    "            t.leftChild = self.leftChild\n",
    "            self.leftChild = t\n",
    "\n",
    "    def insertRight(self,newNode):\n",
    "        if self.rightChild == None:\n",
    "            self.rightChild = BinaryTree(newNode)\n",
    "        else:\n",
    "            t = BinaryTree(newNode)\n",
    "            t.rightChild = self.rightChild\n",
    "            self.rightChild = t\n",
    "\n",
    "\n",
    "    def getRightChild(self):\n",
    "        return self.rightChild\n",
    "\n",
    "    def getLeftChild(self):\n",
    "        return self.leftChild\n",
    "\n",
    "    def setRootVal(self,obj):\n",
    "        self.key = obj\n",
    "\n",
    "    def getRootVal(self):\n",
    "        return self.key"
   ]
  },
  {
   "cell_type": "code",
   "execution_count": 6,
   "id": "d974bb22-582f-4a6c-87dc-9f81f932ab4e",
   "metadata": {
    "execution": {
     "iopub.execute_input": "2023-08-19T22:05:56.901169Z",
     "iopub.status.busy": "2023-08-19T22:05:56.901169Z",
     "iopub.status.idle": "2023-08-19T22:05:56.917172Z",
     "shell.execute_reply": "2023-08-19T22:05:56.916963Z",
     "shell.execute_reply.started": "2023-08-19T22:05:56.901169Z"
    }
   },
   "outputs": [
    {
     "name": "stdout",
     "output_type": "stream",
     "text": [
      "a\n",
      "None\n",
      "<__main__.BinaryTree object at 0x0000026B25703430>\n",
      "b\n",
      "<__main__.BinaryTree object at 0x0000026B25703550>\n",
      "c\n",
      "hello\n"
     ]
    }
   ],
   "source": [
    "r = BinaryTree('a')\n",
    "print(r.getRootVal())\n",
    "print(r.getLeftChild())\n",
    "r.insertLeft('b')\n",
    "print(r.getLeftChild())\n",
    "print(r.getLeftChild().getRootVal())\n",
    "r.insertRight('c')\n",
    "print(r.getRightChild())\n",
    "print(r.getRightChild().getRootVal())\n",
    "r.getRightChild().setRootVal('hello')\n",
    "print(r.getRightChild().getRootVal())"
   ]
  },
  {
   "cell_type": "markdown",
   "id": "6f29c7a9-1cf5-4d79-86ca-ecf2d8085556",
   "metadata": {},
   "source": [
    "## Parse Tree\n",
    "\n",
    "[Parse Tree](https://runestone.academy/ns/books/published/pythonds/Trees/ParseTree.html)\n",
    "\n",
    "Parse trees can be used to represent real-world constructions like sentences or mathematical expressions."
   ]
  },
  {
   "cell_type": "markdown",
   "id": "d70d9ca8-177c-48a4-9f3e-18a82c684beb",
   "metadata": {},
   "source": [
    "## Tree Traversals\n",
    "\n",
    "[Tree Traversals](https://runestone.academy/ns/books/published/pythonds/Trees/TreeTraversals.html)"
   ]
  },
  {
   "cell_type": "markdown",
   "id": "22e69ff8-1e5d-45aa-a678-6c68ed981b1c",
   "metadata": {},
   "source": [
    "- There are three commonly used patterns to visit all the nodes in a tree. \n",
    "- The difference between these patterns is the order in which each node is visited (a “traversal”) \n",
    "- The three traversals we will look at are called\n",
    "    - preorder\n",
    "    - inorder\n",
    "    - postorder"
   ]
  },
  {
   "cell_type": "markdown",
   "id": "b682484d-efb9-44af-a6ee-2f6a19b9b35e",
   "metadata": {},
   "source": [
    "\n",
    "**Preorder**\n",
    "- In a preorder traversal, we visit the root node first, then recursively do a preorder traversal of the left subtree, followed by a recursive preorder traversal of the right subtree.\n",
    "\n",
    "\n",
    "**Inorder**\n",
    "- In an inorder traversal, we recursively do an inorder traversal on the left subtree, visit the root node, and finally do a recursive inorder traversal of the right subtree.\n",
    "\n",
    "**Postorder** \n",
    "- In a postorder traversal, we recursively do a postorder traversal of the left subtree and the right subtree followed by a visit to the root node.\n",
    "\n"
   ]
  },
  {
   "cell_type": "markdown",
   "id": "3cc41c0f-0d76-414d-9ee0-f7b432e31edd",
   "metadata": {},
   "source": [
    "\r\n",
    " First let’s look at the preorder traversal. As an example of a tree to traverse, we will represent this book as a tree.\n",
    " -  The book is the root of the tree\n",
    " -  and each chapter is a child of the root\n",
    " -  Each section within a chapter is a child of the chapter\n",
    " -  and each subsection is a child of its section, and so on\n",
    "\n",
    "![](https://runestone.academy/ns/books/published/pythonds/_images/booktree.png)\n",
    " -  Figur5 shows a limited version of a book with only two chapters. Note that the traversal algorithm works for trees with any number of children, but we will stick with binary trees for now."
   ]
  },
  {
   "cell_type": "markdown",
   "id": "e19d4b87-b564-4e15-97a2-99f96482de27",
   "metadata": {},
   "source": [
    "Suppose that you wanted to read this book from front to back. The preorder traversal gives you exactly that ordering. Starting at the root of the tree (the Book node) we will follow the preorder traversal instructions. "
   ]
  },
  {
   "attachments": {},
   "cell_type": "markdown",
   "id": "c0f29982-90b2-4223-bdd7-713332f5d285",
   "metadata": {},
   "source": [
    "### Preorder – Recursive Implementation\n",
    "\n",
    "- Base case is simply to check if the tree exists. \r\n",
    "- If the tree parameter is None, then the function returns without taking any action"
   ]
  },
  {
   "cell_type": "code",
   "execution_count": 11,
   "id": "5c54bb92-b982-41a3-9e7f-86f13d6af167",
   "metadata": {
    "execution": {
     "iopub.execute_input": "2023-08-20T07:15:19.546351Z",
     "iopub.status.busy": "2023-08-20T07:15:19.546351Z",
     "iopub.status.idle": "2023-08-20T07:15:19.553871Z",
     "shell.execute_reply": "2023-08-20T07:15:19.553375Z",
     "shell.execute_reply.started": "2023-08-20T07:15:19.546351Z"
    }
   },
   "outputs": [],
   "source": [
    "def preorder(tree):\n",
    "    if tree:\n",
    "        print(tree.getRootVal())\n",
    "        preorder(tree.getLeftChild())\n",
    "        preorder(tree.getRightChild())"
   ]
  },
  {
   "cell_type": "markdown",
   "id": "8de633b3-7afd-4932-91dd-1c362365c015",
   "metadata": {},
   "source": [
    "- We can also implement preorder as a method of the BinaryTree class.\n",
    "- The internal method must check for the existence of the left and the right children before making the recursive call to preorder."
   ]
  },
  {
   "cell_type": "markdown",
   "id": "8f0b4b53-c089-48ec-ba43-5f8f9ba66e4a",
   "metadata": {},
   "source": [
    "### Preorder – Method Implementation"
   ]
  },
  {
   "cell_type": "code",
   "execution_count": 12,
   "id": "a140a4e4-9c78-4340-a6a8-1ebb796c8362",
   "metadata": {
    "execution": {
     "iopub.execute_input": "2023-08-20T07:17:07.294205Z",
     "iopub.status.busy": "2023-08-20T07:17:07.293207Z",
     "iopub.status.idle": "2023-08-20T07:17:07.312644Z",
     "shell.execute_reply": "2023-08-20T07:17:07.312147Z",
     "shell.execute_reply.started": "2023-08-20T07:17:07.294205Z"
    }
   },
   "outputs": [],
   "source": [
    "def preorder(self):\n",
    "    print(self.key)\n",
    "    if self.leftChild:\n",
    "        self.leftChild.preorder()\n",
    "    if self.rightChild:\n",
    "        self.rightChild.preorder()"
   ]
  },
  {
   "cell_type": "markdown",
   "id": "9f4a5fde-1a78-4126-89f2-ddaee849e502",
   "metadata": {},
   "source": [
    "- Implementing `preorder` as an external function is probably better in this case. \n",
    "- The reason is that you very rarely want to just traverse the tree.\n",
    "- In most cases you are going to want to accomplish something else while using one of the basic traversal patterns. \n",
    "- We will write the rest of the traversals as external functions.\n"
   ]
  },
  {
   "attachments": {},
   "cell_type": "markdown",
   "id": "0df822a9-2bab-4dd4-9489-28453ae2c58e",
   "metadata": {},
   "source": [
    "### Postorder\n",
    "\n",
    "- The algorithm for the postorder traversal is nearly identical to preorder except that we move the call to print to the end of the function.\r\n"
   ]
  },
  {
   "cell_type": "code",
   "execution_count": 13,
   "id": "f68e215a-549c-43ad-bebd-bbcbc2263c96",
   "metadata": {
    "execution": {
     "iopub.execute_input": "2023-08-20T07:21:16.395586Z",
     "iopub.status.busy": "2023-08-20T07:21:16.394589Z",
     "iopub.status.idle": "2023-08-20T07:21:16.403647Z",
     "shell.execute_reply": "2023-08-20T07:21:16.403647Z",
     "shell.execute_reply.started": "2023-08-20T07:21:16.395586Z"
    }
   },
   "outputs": [],
   "source": [
    "def postorder(tree):\n",
    "    if tree != None:\n",
    "        postorder(tree.getLeftChild())\n",
    "        postorder(tree.getRightChild())\n",
    "        print(tree.getRootVal())"
   ]
  },
  {
   "cell_type": "markdown",
   "id": "f34fc42f-9a08-4ae8-94e4-092de9ac660f",
   "metadata": {},
   "source": [
    "### Inorder\n",
    "\n",
    "- In the inorder traversal we visit the left subtree, followed by the root, and finally the right subtree.\r\n",
    "- Notice that in all three of the traversal functions we are simply changing the position of the print statement with respect to the two recursive function calls.\r\n"
   ]
  },
  {
   "cell_type": "code",
   "execution_count": 14,
   "id": "a667104d-9d81-4663-b9f2-fa3d40fd8bab",
   "metadata": {
    "execution": {
     "iopub.execute_input": "2023-08-20T07:23:29.391469Z",
     "iopub.status.busy": "2023-08-20T07:23:29.390473Z",
     "iopub.status.idle": "2023-08-20T07:23:29.411861Z",
     "shell.execute_reply": "2023-08-20T07:23:29.410748Z",
     "shell.execute_reply.started": "2023-08-20T07:23:29.391469Z"
    }
   },
   "outputs": [],
   "source": [
    "def inorder(tree):\n",
    "  if tree != None:\n",
    "      inorder(tree.getLeftChild())\n",
    "      print(tree.getRootVal())\n",
    "      inorder(tree.getRightChild())"
   ]
  },
  {
   "cell_type": "code",
   "execution_count": null,
   "id": "fd16a143-2ce5-4750-9e3d-e8efe67b6cdb",
   "metadata": {},
   "outputs": [],
   "source": []
  },
  {
   "cell_type": "markdown",
   "id": "a82898b7-0d79-471b-94dc-3142264bdef4",
   "metadata": {},
   "source": [
    "## Priority Queue with Binary Heap\n",
    "\n",
    "[Priority Queues with Binary Heaps](https://runestone.academy/ns/books/published/pythonds/Trees/PriorityQueueswithBinaryHeaps.html)\n",
    "\n",
    "[Binary Heap Implementation](https://runestone.academy/ns/books/published/pythonds/Trees/BinaryHeapImplementation.html)"
   ]
  },
  {
   "cell_type": "markdown",
   "id": "9386b693-af88-4679-9b21-3d6e441845fb",
   "metadata": {},
   "source": [
    "- One important variation of a queue is called a priority queue. \r\n",
    "- A priority queue acts like a queue in that you dequeue an item by removing it from the front. \r\n",
    "- However, in a priority queue the logical order of items inside a queue is determined by their priority. \r\n",
    "- The highest priority items are at the front of the queue and the lowest priority items are at the back. \r\n",
    "- When you enqueue an item on a priority queue, the new item may move all the way to the front. B\n",
    "\r\n",
    "**binary heap**\r\n",
    "\r\n",
    "- The classic way to implement a priority queue is using a data structure called a binary heap. \r\n",
    "- A binary heap will allow us both enqueue and dequeue items in O(logn).\r\n",
    "- The binary heap has two common variations: the min heap, in which the smallest key is always at the front, and the max heap, in which the largest key value is always at the front. \r\n",
    "- In this section we will implement the min heap. e min heap. "
   ]
  },
  {
   "cell_type": "markdown",
   "id": "ba54c4e3-321b-438b-a726-6f71fcc24942",
   "metadata": {},
   "source": [
    "### Binary Heap Implementation\n",
    "\n",
    "[Binary Heap Implementation](https://runestone.academy/ns/books/published/pythonds/Trees/BinaryHeapImplementation.html)\n",
    "\n",
    "![](https://runestone.academy/ns/books/published/pythonds/_images/heapOrder.png)"
   ]
  },
  {
   "cell_type": "markdown",
   "id": "658ed288-58ab-4e5a-a93c-856fa423b0d7",
   "metadata": {},
   "source": [
    "The method that we will use to store items in a heap relies on maintaining the heap order property. \n",
    "\n",
    "- The heap order property is as follows: \n",
    "\t- **In a heap, for every node $x$ with parent $p$, the key in $p$ is smaller than or equal to the key in $x$.**\n",
    "\t\n",
    "- Figure also illustrates a complete binary tree that has the heap order property."
   ]
  },
  {
   "cell_type": "markdown",
   "id": "2bbbc4ef-0a83-4619-8542-1010c3fc0b2f",
   "metadata": {},
   "source": [
    "### Binary Heap Operations\n",
    "**The basic operations we will implement for our binary heap are as follows:**\n",
    "\n",
    "* `BinaryHeap()` creates a new, empty, binary heap.\n",
    "* `insert(k)` adds a new item to the heap.\n",
    "* `findMin()` returns the item with the minimum key value, leaving item in the heap.\n",
    "* `delMin()` returns the item with the minimum key value, removing the item from the heap.\n",
    "* `isEmpty()` returns true if the heap is empty, false otherwise.\n",
    "* `size()` returns the number of items in the heap.\n",
    "* `buildHeap(list)` builds a new heap from a list of keys."
   ]
  },
  {
   "cell_type": "code",
   "execution_count": 8,
   "id": "4a1c7e5e-91a2-497c-a136-a9b9c7b188f1",
   "metadata": {
    "execution": {
     "iopub.execute_input": "2023-08-19T22:25:14.314899Z",
     "iopub.status.busy": "2023-08-19T22:25:14.313901Z",
     "iopub.status.idle": "2023-08-19T22:25:14.327488Z",
     "shell.execute_reply": "2023-08-19T22:25:14.326992Z",
     "shell.execute_reply.started": "2023-08-19T22:25:14.314899Z"
    }
   },
   "outputs": [],
   "source": [
    "class BinHeap:\n",
    "    def __init__(self):\n",
    "        self.heapList = [0]\n",
    "        self.currentSize = 0\n",
    "\n",
    "\n",
    "    def percUp(self,i):\n",
    "        \n",
    "        while i // 2 > 0:\n",
    "            \n",
    "            if self.heapList[i] < self.heapList[i // 2]:\n",
    "                \n",
    "            \n",
    "                tmp = self.heapList[i // 2]\n",
    "                self.heapList[i // 2] = self.heapList[i]\n",
    "                self.heapList[i] = tmp\n",
    "            i = i // 2\n",
    "\n",
    "    def insert(self,k):\n",
    "        \n",
    "        self.heapList.append(k)\n",
    "        self.currentSize = self.currentSize + 1\n",
    "        self.percUp(self.currentSize)\n",
    "\n",
    "    def percDown(self,i):\n",
    "        \n",
    "        while (i * 2) <= self.currentSize:\n",
    "            \n",
    "            mc = self.minChild(i)\n",
    "            if self.heapList[i] > self.heapList[mc]:\n",
    "                \n",
    "                tmp = self.heapList[i]\n",
    "                self.heapList[i] = self.heapList[mc]\n",
    "                self.heapList[mc] = tmp\n",
    "            i = mc\n",
    "\n",
    "    def minChild(self,i):\n",
    "        \n",
    "        if i * 2 + 1 > self.currentSize:\n",
    "            \n",
    "            return i * 2\n",
    "        else:\n",
    "            \n",
    "            if self.heapList[i*2] < self.heapList[i*2+1]:\n",
    "                return i * 2\n",
    "            else:\n",
    "                return i * 2 + 1\n",
    "\n",
    "    def delMin(self):\n",
    "        retval = self.heapList[1]\n",
    "        self.heapList[1] = self.heapList[self.currentSize]\n",
    "        self.currentSize = self.currentSize - 1\n",
    "        self.heapList.pop()\n",
    "        self.percDown(1)\n",
    "        return retval\n",
    "\n",
    "    def buildHeap(self,alist):\n",
    "        i = len(alist) // 2\n",
    "        self.currentSize = len(alist)\n",
    "        self.heapList = [0] + alist[:]\n",
    "        while (i > 0):\n",
    "            self.percDown(i)\n",
    "            i = i - 1"
   ]
  },
  {
   "cell_type": "markdown",
   "id": "27819b13-adab-410e-bb5d-1d147094ab27",
   "metadata": {},
   "source": [
    " Building a Heap from the List [9, 6, 5, 2, 3]\n",
    "\n",
    "![](https://runestone.academy/ns/books/published/pythonds/_images/buildheap.png)"
   ]
  },
  {
   "cell_type": "code",
   "execution_count": null,
   "id": "ef52d711-8004-4af7-a517-0c98969d8ac5",
   "metadata": {},
   "outputs": [],
   "source": []
  },
  {
   "cell_type": "markdown",
   "id": "7bb4e07a-54a0-460a-9a52-4e8520bbb860",
   "metadata": {},
   "source": [
    "## Binary Search Trees"
   ]
  },
  {
   "cell_type": "markdown",
   "id": "61908c1e-180a-47da-8fc2-2f46450de98b",
   "metadata": {},
   "source": [
    "\n",
    "### Search Tree Operations\n",
    "Before we look at the implementation, let’s review the interface provided by the map ADT. You will notice that this interface is very similar to the Python dictionary.\n",
    "\n",
    "- `Map()` Create a new, empty map.\n",
    "\n",
    "- `put(key,val)` Add a new key-value pair to the map. If the key is already in the map then replace the old value with the new value.\n",
    "\n",
    "- `get(key)` Given a key, return the value stored in the map or None otherwise.\n",
    "\n",
    "- `del` Delete the key-value pair from the map using a statement of the form del map[key].\n",
    "\n",
    "- `len()` Return the number of key-value pairs stored in the map.\n",
    "\n",
    "- `in` Return True for a statement of the form key in map, if the given key is in the map."
   ]
  },
  {
   "cell_type": "code",
   "execution_count": 9,
   "id": "b324dd19-122a-45b6-b5f1-d1e9c54d3224",
   "metadata": {
    "execution": {
     "iopub.execute_input": "2023-08-19T22:31:04.500070Z",
     "iopub.status.busy": "2023-08-19T22:31:04.499072Z",
     "iopub.status.idle": "2023-08-19T22:31:04.522204Z",
     "shell.execute_reply": "2023-08-19T22:31:04.521210Z",
     "shell.execute_reply.started": "2023-08-19T22:31:04.500070Z"
    }
   },
   "outputs": [],
   "source": [
    "class TreeNode:\n",
    "    \n",
    "    def __init__(self,key,val,left=None,right=None,parent=None):\n",
    "        self.key = key\n",
    "        self.payload = val\n",
    "        self.leftChild = left\n",
    "        self.rightChild = right\n",
    "        self.parent = parent\n",
    "\n",
    "    def hasLeftChild(self):\n",
    "        return self.leftChild\n",
    "\n",
    "    def hasRightChild(self):\n",
    "        return self.rightChild\n",
    "\n",
    "    def isLeftChild(self):\n",
    "        return self.parent and self.parent.leftChild == self\n",
    "\n",
    "    def isRightChild(self):\n",
    "        return self.parent and self.parent.rightChild == self\n",
    "\n",
    "    def isRoot(self):\n",
    "        return not self.parent\n",
    "\n",
    "    def isLeaf(self):\n",
    "        return not (self.rightChild or self.leftChild)\n",
    "\n",
    "    def hasAnyChildren(self):\n",
    "        return self.rightChild or self.leftChild\n",
    "\n",
    "    def hasBothChildren(self):\n",
    "        return self.rightChild and self.leftChild\n",
    "\n",
    "    def replaceNodeData(self,key,value,lc,rc):\n",
    "        self.key = key\n",
    "        self.payload = value\n",
    "        self.leftChild = lc\n",
    "        self.rightChild = rc\n",
    "        if self.hasLeftChild():\n",
    "            self.leftChild.parent = self\n",
    "        if self.hasRightChild():\n",
    "            self.rightChild.parent = self\n",
    "\n",
    "\n",
    "class BinarySearchTree:\n",
    "\n",
    "    def __init__(self):\n",
    "        self.root = None\n",
    "        self.size = 0\n",
    "\n",
    "    def length(self):\n",
    "        return self.size\n",
    "\n",
    "    def __len__(self):\n",
    "        return self.size\n",
    "\n",
    "    def put(self,key,val):\n",
    "        if self.root:\n",
    "            self._put(key,val,self.root)\n",
    "        else:\n",
    "            self.root = TreeNode(key,val)\n",
    "        self.size = self.size + 1\n",
    "\n",
    "    def _put(self,key,val,currentNode):\n",
    "        if key < currentNode.key:\n",
    "            if currentNode.hasLeftChild():\n",
    "                   self._put(key,val,currentNode.leftChild)\n",
    "            else:\n",
    "                   currentNode.leftChild = TreeNode(key,val,parent=currentNode)\n",
    "        else:\n",
    "            if currentNode.hasRightChild():\n",
    "                   self._put(key,val,currentNode.rightChild)\n",
    "            else:\n",
    "                   currentNode.rightChild = TreeNode(key,val,parent=currentNode)\n",
    "\n",
    "    def __setitem__(self,k,v):\n",
    "        self.put(k,v)\n",
    "\n",
    "    def get(self,key):\n",
    "        if self.root:\n",
    "            res = self._get(key,self.root)\n",
    "            if res:\n",
    "                \n",
    "                return res.payload\n",
    "            else:\n",
    "                return None\n",
    "        else:\n",
    "            return None\n",
    "\n",
    "    def _get(self,key,currentNode):\n",
    "        \n",
    "        if not currentNode:\n",
    "            return None\n",
    "        elif currentNode.key == key:\n",
    "            return currentNode\n",
    "        elif key < currentNode.key:\n",
    "            return self._get(key,currentNode.leftChild)\n",
    "        else:\n",
    "            return self._get(key,currentNode.rightChild)\n",
    "\n",
    "    def __getitem__(self,key):\n",
    "        return self.get(key)\n",
    "\n",
    "    def __contains__(self,key):\n",
    "        if self._get(key,self.root):\n",
    "            return True\n",
    "        else:\n",
    "            return False\n",
    "\n",
    "    def delete(self,key):\n",
    "        \n",
    "        if self.size > 1:\n",
    "            \n",
    "            nodeToRemove = self._get(key,self.root)\n",
    "            if nodeToRemove:\n",
    "                self.remove(nodeToRemove)\n",
    "                self.size = self.size-1\n",
    "            else:\n",
    "                raise KeyError('Error, key not in tree')\n",
    "        elif self.size == 1 and self.root.key == key:\n",
    "            self.root = None\n",
    "            self.size = self.size - 1\n",
    "        else:\n",
    "            raise KeyError('Error, key not in tree')\n",
    "\n",
    "    def __delitem__(self,key):\n",
    "        \n",
    "        self.delete(key)\n",
    "\n",
    "    def spliceOut(self):\n",
    "        if self.isLeaf():\n",
    "            if self.isLeftChild():\n",
    "                \n",
    "                self.parent.leftChild = None\n",
    "            else:\n",
    "                self.parent.rightChild = None\n",
    "        elif self.hasAnyChildren():\n",
    "            if self.hasLeftChild():\n",
    "                \n",
    "                if self.isLeftChild():\n",
    "                    \n",
    "                    self.parent.leftChild = self.leftChild\n",
    "                else:\n",
    "                    \n",
    "                    self.parent.rightChild = self.leftChild\n",
    "                    self.leftChild.parent = self.parent\n",
    "        else:\n",
    "                    \n",
    "            if self.isLeftChild():\n",
    "                        \n",
    "                self.parent.leftChild = self.rightChild\n",
    "            else:\n",
    "                self.parent.rightChild = self.rightChild\n",
    "                self.rightChild.parent = self.parent\n",
    "\n",
    "    def findSuccessor(self):\n",
    "        \n",
    "        succ = None\n",
    "        if self.hasRightChild():\n",
    "            succ = self.rightChild.findMin()\n",
    "        else:\n",
    "            if self.parent:\n",
    "                \n",
    "                if self.isLeftChild():\n",
    "                    \n",
    "                    succ = self.parent\n",
    "                else:\n",
    "                    self.parent.rightChild = None\n",
    "                    succ = self.parent.findSuccessor()\n",
    "                    self.parent.rightChild = self\n",
    "        return succ\n",
    "\n",
    "    def findMin(self):\n",
    "        \n",
    "        current = self\n",
    "        while current.hasLeftChild():\n",
    "            current = current.leftChild\n",
    "        return current\n",
    "\n",
    "    def remove(self,currentNode):\n",
    "        \n",
    "        if currentNode.isLeaf(): #leaf\n",
    "            if currentNode == currentNode.parent.leftChild:\n",
    "                currentNode.parent.leftChild = None\n",
    "            else:\n",
    "                currentNode.parent.rightChild = None\n",
    "        elif currentNode.hasBothChildren(): #interior\n",
    "            \n",
    "            succ = currentNode.findSuccessor()\n",
    "            succ.spliceOut()\n",
    "            currentNode.key = succ.key\n",
    "            currentNode.payload = succ.payload\n",
    "\n",
    "        else: # this node has one child\n",
    "            if currentNode.hasLeftChild():\n",
    "                if currentNode.isLeftChild():\n",
    "                    currentNode.leftChild.parent = currentNode.parent\n",
    "                    currentNode.parent.leftChild = currentNode.leftChild\n",
    "                elif currentNode.isRightChild():\n",
    "                    currentNode.leftChild.parent = currentNode.parent\n",
    "                    currentNode.parent.rightChild = currentNode.leftChild\n",
    "                else:\n",
    "                \n",
    "                    currentNode.replaceNodeData(currentNode.leftChild.key,\n",
    "                                    currentNode.leftChild.payload,\n",
    "                                    currentNode.leftChild.leftChild,\n",
    "                                    currentNode.leftChild.rightChild)\n",
    "            else:\n",
    "                \n",
    "                if currentNode.isLeftChild():\n",
    "                    currentNode.rightChild.parent = currentNode.parent\n",
    "                    currentNode.parent.leftChild = currentNode.rightChild\n",
    "                elif currentNode.isRightChild():\n",
    "                    currentNode.rightChild.parent = currentNode.parent\n",
    "                    currentNode.parent.rightChild = currentNode.rightChild\n",
    "                else:\n",
    "                    currentNode.replaceNodeData(currentNode.rightChild.key,\n",
    "                                    currentNode.rightChild.payload,\n",
    "                                    currentNode.rightChild.leftChild,\n",
    "                                    currentNode.rightChild.rightChild)\n",
    "\n",
    "\n"
   ]
  },
  {
   "cell_type": "code",
   "execution_count": 15,
   "id": "968cea93-2832-4049-91fb-44d2ab9582d7",
   "metadata": {
    "execution": {
     "iopub.execute_input": "2023-08-20T19:22:12.067747Z",
     "iopub.status.busy": "2023-08-20T19:22:12.065705Z",
     "iopub.status.idle": "2023-08-20T19:22:12.088271Z",
     "shell.execute_reply": "2023-08-20T19:22:12.087688Z",
     "shell.execute_reply.started": "2023-08-20T19:22:12.067747Z"
    }
   },
   "outputs": [
    {
     "name": "stdout",
     "output_type": "stream",
     "text": [
      "yellow\n",
      "at\n"
     ]
    }
   ],
   "source": [
    "\n",
    "mytree = BinarySearchTree()\n",
    "mytree[3]=\"red\"\n",
    "mytree[4]=\"blue\"\n",
    "mytree[6]=\"yellow\"\n",
    "mytree[2]=\"at\"\n",
    "\n",
    "print(mytree[6])\n",
    "print(mytree[2])"
   ]
  },
  {
   "cell_type": "markdown",
   "id": "6ac29aa2-e8e9-40d1-b934-bc471f767625",
   "metadata": {},
   "source": [
    "## Binary Search Tree Check\n",
    "\n",
    "**Problem Statement**\n",
    "\n",
    "Given a binary tree, check whether it’s a binary search tree or not.\n",
    "\n",
    "*Solution*\n",
    "\n",
    "Here is a simple solution- If a tree is a binary search tree, then traversing the tree inorder should lead to sorted order of the values in the tree. So, we can perform an inorder traversal and check whether the node values are sorted or not. "
   ]
  },
  {
   "cell_type": "code",
   "execution_count": 18,
   "id": "a887cd64-5691-431b-8268-d1a5e5504bf1",
   "metadata": {
    "execution": {
     "iopub.execute_input": "2023-08-20T19:22:53.497670Z",
     "iopub.status.busy": "2023-08-20T19:22:53.495672Z",
     "iopub.status.idle": "2023-08-20T19:22:53.503711Z",
     "shell.execute_reply": "2023-08-20T19:22:53.502719Z",
     "shell.execute_reply.started": "2023-08-20T19:22:53.497670Z"
    }
   },
   "outputs": [],
   "source": [
    "tree_vals = []\n",
    "\n",
    "def inorder(tree):\n",
    "    if tree != None:\n",
    "        inorder(tree.getLeftChild())\n",
    "        tree_vals.append(tree.getRootVal())\n",
    "        inorder(tree.getRightChild())\n",
    "        \n",
    "def sort_check(tree_vals):\n",
    "    return tree_vals == sorted(tree_vals)\n",
    "\n",
    "inorder(mytree)\n",
    "sort_check(tree_vals)"
   ]
  },
  {
   "cell_type": "markdown",
   "id": "808f3539-073a-4c33-a799-906463ea2763",
   "metadata": {},
   "source": [
    "Another classic solution is to keep track of the minimum and maximum values a node can take. And at each node we will check whether its value is between the min and max values it’s allowed to take. The root can take any value between negative infinity and positive infinity. At any node, its left child should be smaller than or equal than its own value, and similarly the right child should be larger than or equal to. So during recursion, we send the current value as the new max to our left child and send the min as it is without changing. And to the right child, we send the current value as the new min and send the max without changing."
   ]
  },
  {
   "cell_type": "code",
   "execution_count": 20,
   "id": "1789e9f0-96d3-4b39-a3ef-8ed35e82e926",
   "metadata": {
    "execution": {
     "iopub.execute_input": "2023-08-20T19:23:16.575355Z",
     "iopub.status.busy": "2023-08-20T19:23:16.575355Z",
     "iopub.status.idle": "2023-08-20T19:23:16.586509Z",
     "shell.execute_reply": "2023-08-20T19:23:16.586509Z",
     "shell.execute_reply.started": "2023-08-20T19:23:16.575355Z"
    }
   },
   "outputs": [],
   "source": [
    "class Node:\n",
    "    def __init__(self, k, val):\n",
    "        self.key = k\n",
    "        self.value = val\n",
    "        self.left = None\n",
    "        self.right = None\n",
    "\n",
    "def tree_max(node):\n",
    "    if not node:\n",
    "        return float(\"-inf\")\n",
    "    maxleft  = tree_max(node.left)\n",
    "    maxright = tree_max(node.right)\n",
    "    return max(node.key, maxleft, maxright)\n",
    "\n",
    "def tree_min(node):\n",
    "    if not node:\n",
    "        return float(\"inf\")\n",
    "    minleft  = tree_min(node.left)\n",
    "    minright = tree_min(node.right)\n",
    "    return min(node.key, minleft, minright)\n",
    "\n",
    "def verify(node):\n",
    "    if not node:\n",
    "        return True\n",
    "    if (tree_max(node.left) <= node.key <= tree_min(node.right) and\n",
    "        verify(node.left) and verify(node.right)):\n",
    "        return True\n",
    "    else:\n",
    "        return False\n",
    "\n"
   ]
  },
  {
   "cell_type": "code",
   "execution_count": 21,
   "id": "ab39b16a-4bed-46fa-8809-0655d7b74450",
   "metadata": {
    "execution": {
     "iopub.execute_input": "2023-08-20T19:23:17.184585Z",
     "iopub.status.busy": "2023-08-20T19:23:17.183587Z",
     "iopub.status.idle": "2023-08-20T19:23:17.193656Z",
     "shell.execute_reply": "2023-08-20T19:23:17.192559Z",
     "shell.execute_reply.started": "2023-08-20T19:23:17.184585Z"
    }
   },
   "outputs": [
    {
     "name": "stdout",
     "output_type": "stream",
     "text": [
      "True\n",
      "False\n"
     ]
    }
   ],
   "source": [
    "root= Node(10, \"Hello\")\n",
    "root.left = Node(5, \"Five\")\n",
    "root.right= Node(30, \"Thirty\")\n",
    "\n",
    "print(verify(root)) # prints True, since this tree is valid\n",
    "\n",
    "root = Node(10, \"Ten\")\n",
    "root.right = Node(20, \"Twenty\")\n",
    "root.left = Node(5, \"Five\")\n",
    "root.left.right = Node(15, \"Fifteen\")\n",
    "\n",
    "print(verify(root)) # prints False, since 15 is to the left of 10"
   ]
  },
  {
   "cell_type": "markdown",
   "id": "99eda151-0a03-4311-aa4b-167ea8eeeed3",
   "metadata": {},
   "source": [
    "## Tree Level Order Print - SOLUTION\n",
    "\n",
    "Given a binary tree of integers, print it in level order. The output will contain space between the numbers in the same level, and new line between different levels. For example, if the tree is: \n",
    "___\n",
    "![title](tree_print.png)\n",
    "___\n",
    "The output should be: \n",
    "\n",
    "    1 \n",
    "    2 3 \n",
    "    4 5 6"
   ]
  },
  {
   "cell_type": "markdown",
   "id": "4fff0921-c88c-4628-aff7-0171ccdd5d60",
   "metadata": {},
   "source": [
    "**Solution**\n",
    "\n",
    "It won’t be practical to solve this problem using recursion, because recursion is similar to depth first search, but what we need here is breadth first search. So we will use a queue as we did previously in breadth first search. First, we’ll push the root node into the queue. Then we start a while loop with the condition queue not being empty. Then, at each iteration we pop a node from the beginning of the queue and push its children to the end of the queue. Once we pop a node we print its value and space.\n",
    "\n",
    "To print the new line in correct place we should count the number of nodes at each level. We will have 2 counts, namely current level count and next level count. Current level count indicates how many nodes should be printed at this level before printing a new line. We decrement it every time we pop an element from the queue and print it. Once the current level count reaches zero we print a new line. Next level count contains the number of nodes in the next level, which will become the current level count after printing a new line. We count the number of nodes in the next level by counting the number of children of the nodes in the current level. Understanding the code is easier than its explanation:"
   ]
  },
  {
   "cell_type": "code",
   "execution_count": 22,
   "id": "fc3c7cc5-2d59-4516-9b35-e086c30a402c",
   "metadata": {
    "execution": {
     "iopub.execute_input": "2023-08-20T19:24:55.495786Z",
     "iopub.status.busy": "2023-08-20T19:24:55.495288Z",
     "iopub.status.idle": "2023-08-20T19:24:55.509211Z",
     "shell.execute_reply": "2023-08-20T19:24:55.509211Z",
     "shell.execute_reply.started": "2023-08-20T19:24:55.495786Z"
    }
   },
   "outputs": [],
   "source": [
    "class Node:\n",
    "    def __init__(self, val=None):\n",
    "        self.left = None\n",
    "        self.right = None\n",
    "        self.val =  val "
   ]
  },
  {
   "cell_type": "code",
   "execution_count": 23,
   "id": "cf28ea8d-2ff8-4caf-9e67-ca9af324a222",
   "metadata": {
    "execution": {
     "iopub.execute_input": "2023-08-20T19:24:55.742454Z",
     "iopub.status.busy": "2023-08-20T19:24:55.742454Z",
     "iopub.status.idle": "2023-08-20T19:24:55.756967Z",
     "shell.execute_reply": "2023-08-20T19:24:55.756470Z",
     "shell.execute_reply.started": "2023-08-20T19:24:55.742454Z"
    }
   },
   "outputs": [],
   "source": [
    "def levelOrderPrint(tree):\n",
    "    if not tree:\n",
    "        return\n",
    "    nodes=collections.deque([tree])\n",
    "    currentCount, nextCount = 1, 0\n",
    "    while len(nodes)!=0:\n",
    "        currentNode=nodes.popleft()\n",
    "        currentCount-=1\n",
    "        print(currentNode.val,)\n",
    "        if currentNode.left:\n",
    "            nodes.append(currentNode.left)\n",
    "            nextCount+=1\n",
    "        if currentNode.right:\n",
    "            nodes.append(currentNode.right)\n",
    "            nextCount+=1\n",
    "        if currentCount==0:\n",
    "            #finished printing current level\n",
    "            print('\\n',)\n",
    "            currentCount, nextCount = nextCount, currentCount"
   ]
  },
  {
   "cell_type": "markdown",
   "id": "48d87ab7-a1e9-4485-8743-4d669930b4fb",
   "metadata": {},
   "source": [
    "The time complexity of this solution is O(N), which is the number of nodes in the tree, so it’s optimal. Because we should visit each node at least once. The space complexity depends on maximum size of the queue at any point, which is the most number of nodes at one level. The worst case occurs when the tree is a complete binary tree, which means each level is completely filled with maximum number of nodes possible. In this case, the most number of nodes appear at the last level, which is (N+1)/2 where N is the total number of nodes. So the space complexity is also O(N). Which is also optimal while using a queue. "
   ]
  },
  {
   "cell_type": "markdown",
   "id": "4747fcc5-0e2d-4825-8591-71aeb2ca8065",
   "metadata": {},
   "source": [
    "## Trim a Binary Search Tree - SOLUTION\n",
    "\n",
    "**Problem Statement**\n",
    "\n",
    "Given the root of a binary search tree and 2 numbers min and max, trim the tree such that all the numbers in the new tree are between min and max (inclusive). The resulting tree should still be a valid binary search tree. So, if we get this tree as input:\n",
    "___\n",
    "\n",
    "![title](bst1.png)\n",
    "___\n",
    "and we’re given **min value as 5** and **max value as 13**, then the resulting binary search tree should be: \n",
    "___\n",
    "![title](bst_trim.png)\n",
    "___\n",
    "We should remove all the nodes whose value is not between min and max. \n",
    "\n",
    "___"
   ]
  },
  {
   "cell_type": "markdown",
   "id": "e7a30b88-dfa6-44e7-a71a-d5fd776802fa",
   "metadata": {},
   "source": [
    "**Solution**\n",
    "\n",
    "We can do this by performing a post-order traversal of the tree. We first process the left children, then right children, and finally the node itself. So we form the new tree bottom up, starting from the leaves towards the root. As a result while processing the node itself, both its left and right subtrees are valid trimmed binary search trees (may be NULL as well).\n",
    "\n",
    "At each node we’ll return a reference based on its value, which will then be assigned to its parent’s left or right child pointer, depending on whether the current node is left or right child of the parent. If current node’s value is between min and max (min<=node<=max) then there’s no action need to be taken, so we return the reference to the node itself. If current node’s value is less than min, then we return the reference to its right subtree, and discard the left subtree. Because if a node’s value is less than min, then its left children are definitely less than min since this is a binary search tree. But its right children may or may not be less than min we can’t be sure, so we return the reference to it. Since we’re performing bottom-up post-order traversal, its right subtree is already a trimmed valid binary search tree (possibly NULL), and left subtree is definitely NULL because those nodes were surely less than min and they were eliminated during the post-order traversal. Remember that in post-order traversal we first process all the children of a node, and then finally the node itself.\n",
    "\n",
    "Similar situation occurs when node’s value is greater than max, we now return the reference to its left subtree. Because if a node’s value is greater than max, then its right children are definitely greater than max. But its left children may or may not be greater than max. So we discard the right subtree and return the reference to the already valid left subtree. The code is easier to understand:"
   ]
  },
  {
   "cell_type": "code",
   "execution_count": 24,
   "id": "c1806773-5bf5-4bfb-85c1-761065bbfa37",
   "metadata": {
    "execution": {
     "iopub.execute_input": "2023-08-20T19:26:57.668115Z",
     "iopub.status.busy": "2023-08-20T19:26:57.668115Z",
     "iopub.status.idle": "2023-08-20T19:26:57.675091Z",
     "shell.execute_reply": "2023-08-20T19:26:57.674094Z",
     "shell.execute_reply.started": "2023-08-20T19:26:57.668115Z"
    }
   },
   "outputs": [],
   "source": [
    "def trimBST(tree, minVal, maxVal): \n",
    "    \n",
    "    if not tree: \n",
    "        return \n",
    "    \n",
    "    tree.left=trimBST(tree.left, minVal, maxVal) \n",
    "    tree.right=trimBST(tree.right, minVal, maxVal) \n",
    "    \n",
    "    if minVal<=tree.val<=maxVal: \n",
    "        return tree \n",
    "    \n",
    "    if tree.val<minVal: \n",
    "        return tree.right \n",
    "    \n",
    "    if tree.val>maxVal: \n",
    "        return tree.left "
   ]
  },
  {
   "cell_type": "markdown",
   "id": "6abe0f86-56f0-4205-a511-8bca32f53383",
   "metadata": {},
   "source": [
    "The complexity of this algorithm is O(N), where N is the number of nodes in the tree. Because we basically perform a post-order traversal of the tree, visiting each and every node one. This is optimal because we should visit every node at least once. This is a very elegant question that demonstrates the effectiveness of recursion in trees."
   ]
  },
  {
   "cell_type": "code",
   "execution_count": null,
   "id": "f46cc720-d114-4816-a3f0-8c20c5a9f159",
   "metadata": {},
   "outputs": [],
   "source": []
  },
  {
   "cell_type": "markdown",
   "id": "3cc47519-e2d0-4b13-9f26-255b7aefcbb4",
   "metadata": {},
   "source": [
    "# Searching and sorting"
   ]
  },
  {
   "cell_type": "code",
   "execution_count": null,
   "id": "358b6d14-dd9d-4625-9c5d-592efc37b884",
   "metadata": {},
   "outputs": [],
   "source": []
  },
  {
   "cell_type": "code",
   "execution_count": null,
   "id": "c0ba1381-d838-4830-ada8-06892c31a4d6",
   "metadata": {},
   "outputs": [],
   "source": []
  },
  {
   "cell_type": "code",
   "execution_count": null,
   "id": "b3d9c860-c71e-4662-84b6-9c3bc730f38b",
   "metadata": {},
   "outputs": [],
   "source": []
  },
  {
   "cell_type": "code",
   "execution_count": null,
   "id": "5687b076-11df-46b6-a3f0-20935564505c",
   "metadata": {},
   "outputs": [],
   "source": []
  },
  {
   "cell_type": "markdown",
   "id": "325a4e04-dd8f-4733-92cc-237cdbf7bde2",
   "metadata": {},
   "source": [
    "# Graph algorithms"
   ]
  },
  {
   "cell_type": "code",
   "execution_count": null,
   "id": "5a2ba925-ac1d-4cde-bcbb-25a1f0dcb361",
   "metadata": {},
   "outputs": [],
   "source": []
  },
  {
   "cell_type": "code",
   "execution_count": null,
   "id": "96ccd3bf-a1e9-4c5f-b381-3de7f74c8bd2",
   "metadata": {},
   "outputs": [],
   "source": []
  },
  {
   "cell_type": "code",
   "execution_count": null,
   "id": "3974d172-e2cf-4dbf-9b19-bbaede9b1c02",
   "metadata": {},
   "outputs": [],
   "source": []
  },
  {
   "cell_type": "code",
   "execution_count": null,
   "id": "bb4173a4-bd92-40c1-9d89-6026ba40b7b8",
   "metadata": {},
   "outputs": [],
   "source": []
  },
  {
   "cell_type": "markdown",
   "id": "59c3eb96-5228-41c8-a81d-093b80b5914b",
   "metadata": {},
   "source": [
    "---"
   ]
  },
  {
   "cell_type": "code",
   "execution_count": null,
   "id": "f36c4603-7996-41ec-96fc-8c341e60e435",
   "metadata": {},
   "outputs": [],
   "source": []
  }
 ],
 "metadata": {
  "kernelspec": {
   "display_name": "Python 3 (ipykernel)",
   "language": "python",
   "name": "python3"
  },
  "language_info": {
   "codemirror_mode": {
    "name": "ipython",
    "version": 3
   },
   "file_extension": ".py",
   "mimetype": "text/x-python",
   "name": "python",
   "nbconvert_exporter": "python",
   "pygments_lexer": "ipython3",
   "version": "3.9.1"
  },
  "toc": {
   "base_numbering": 1,
   "nav_menu": {},
   "number_sections": true,
   "sideBar": true,
   "skip_h1_title": false,
   "title_cell": "Table of Contents",
   "title_sidebar": "Contents",
   "toc_cell": true,
   "toc_position": {
    "height": "calc(100% - 180px)",
    "left": "10px",
    "top": "150px",
    "width": "317.375px"
   },
   "toc_section_display": true,
   "toc_window_display": true
  },
  "varInspector": {
   "cols": {
    "lenName": 16,
    "lenType": 16,
    "lenVar": 40
   },
   "kernels_config": {
    "python": {
     "delete_cmd_postfix": "",
     "delete_cmd_prefix": "del ",
     "library": "var_list.py",
     "varRefreshCmd": "print(var_dic_list())"
    },
    "r": {
     "delete_cmd_postfix": ") ",
     "delete_cmd_prefix": "rm(",
     "library": "var_list.r",
     "varRefreshCmd": "cat(var_dic_list()) "
    }
   },
   "types_to_exclude": [
    "module",
    "function",
    "builtin_function_or_method",
    "instance",
    "_Feature"
   ],
   "window_display": false
  }
 },
 "nbformat": 4,
 "nbformat_minor": 5
}
