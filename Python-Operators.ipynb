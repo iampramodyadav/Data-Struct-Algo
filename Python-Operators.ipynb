{
 "cells": [
  {
   "cell_type": "markdown",
   "id": "0465da40",
   "metadata": {},
   "source": [
    "# Python Operators"
   ]
  },
  {
   "cell_type": "markdown",
   "id": "ea6ccc37",
   "metadata": {},
   "source": [
    "Python divides the operators in the following groups:\n",
    "\n",
    "- Arithmetic operators\n",
    "- Assignment operators\n",
    "- Comparison operators\n",
    "- Logical operators\n",
    "- Identity operators\n",
    "- Membership operators\n",
    "- Bitwise operators"
   ]
  },
  {
   "cell_type": "markdown",
   "id": "060d4e3c",
   "metadata": {},
   "source": [
    "## Python Arithmetic Operators\n",
    "\n",
    "Arithmetic operators are used with numeric values to perform common mathematical operations:"
   ]
  },
  {
   "cell_type": "markdown",
   "id": "c87f289d",
   "metadata": {},
   "source": [
    "| Operator | Name           | Example |  \n",
    "|----------|----------------|---------|\n",
    "| +        | Addition       | x + y   |   \n",
    "| -        | Subtraction    | x - y   |  \n",
    "| *        | Multiplication | x * y   |  \n",
    "| /        | Division       | x / y   |   \n",
    "| %        | Modulus        | x % y   |   \n",
    "| **       | Exponentiation | x ** y  |  \n",
    "| //       | Floor division | x // y  |  "
   ]
  },
  {
   "cell_type": "markdown",
   "id": "597471c5",
   "metadata": {},
   "source": [
    "## Python Assignment Operators\n",
    "\n",
    "Assignment operators are used to assign values to variables:"
   ]
  },
  {
   "cell_type": "markdown",
   "id": "976de549",
   "metadata": {},
   "source": [
    "| Operator | Example | Same As    |\n",
    "|----------|---------|------------|\n",
    "| =        | x = 5   | x = 5      |\n",
    "| +=       | x += 3  | x = x + 3  |\n",
    "| -=       | x -= 3  | x = x - 3  |\n",
    "| *=       | x *= 3  | x = x * 3  |\n",
    "| /=       | x /= 3  | x = x / 3  |\n",
    "| %=       | x %= 3  | x = x % 3  |\n",
    "| //=      | x //= 3 | x = x // 3 |\n",
    "| **=      | x **= 3 | x = x ** 3 |\n",
    "| &=       | x &= 3  | x = x & 3  |\n",
    "| \\|=      | x \\|= 3 | x = x \\| 3 |\n",
    "| ^=       | x ^= 3  | x = x ^ 3  |\n",
    "| >>=      | x >>= 3 | x = x >> 3 |\n",
    "| <<=      | x <<= 3 | x = x << 3 |"
   ]
  },
  {
   "cell_type": "code",
   "execution_count": 27,
   "id": "f9866b92",
   "metadata": {
    "ExecuteTime": {
     "end_time": "2023-05-01T19:10:12.078238Z",
     "start_time": "2023-05-01T19:10:12.062585Z"
    }
   },
   "outputs": [
    {
     "name": "stdout",
     "output_type": "stream",
     "text": [
      "1\n"
     ]
    }
   ],
   "source": [
    "x = 5\n",
    "\n",
    "x &= 3\n",
    "\n",
    "print(x)"
   ]
  },
  {
   "cell_type": "code",
   "execution_count": 33,
   "id": "3bd4e537",
   "metadata": {
    "ExecuteTime": {
     "end_time": "2023-05-01T19:13:35.863671Z",
     "start_time": "2023-05-01T19:13:35.832676Z"
    }
   },
   "outputs": [
    {
     "data": {
      "text/plain": [
       "1"
      ]
     },
     "execution_count": 33,
     "metadata": {},
     "output_type": "execute_result"
    }
   ],
   "source": [
    "5 & 3"
   ]
  },
  {
   "cell_type": "code",
   "execution_count": 28,
   "id": "9d6ce3d9",
   "metadata": {
    "ExecuteTime": {
     "end_time": "2023-05-01T19:10:48.208469Z",
     "start_time": "2023-05-01T19:10:48.193954Z"
    }
   },
   "outputs": [
    {
     "name": "stdout",
     "output_type": "stream",
     "text": [
      "7\n"
     ]
    }
   ],
   "source": [
    "x = 5\n",
    "\n",
    "x |= 3\n",
    "\n",
    "print(x)"
   ]
  },
  {
   "cell_type": "code",
   "execution_count": 34,
   "id": "bc52a2a7",
   "metadata": {
    "ExecuteTime": {
     "end_time": "2023-05-01T19:13:50.232888Z",
     "start_time": "2023-05-01T19:13:50.209139Z"
    }
   },
   "outputs": [
    {
     "data": {
      "text/plain": [
       "7"
      ]
     },
     "execution_count": 34,
     "metadata": {},
     "output_type": "execute_result"
    }
   ],
   "source": [
    "5 | 3"
   ]
  },
  {
   "cell_type": "code",
   "execution_count": 29,
   "id": "86546548",
   "metadata": {
    "ExecuteTime": {
     "end_time": "2023-05-01T19:11:07.317008Z",
     "start_time": "2023-05-01T19:11:07.298900Z"
    }
   },
   "outputs": [
    {
     "name": "stdout",
     "output_type": "stream",
     "text": [
      "6\n"
     ]
    }
   ],
   "source": [
    "x = 5\n",
    "\n",
    "x ^= 3\n",
    "\n",
    "print(x)"
   ]
  },
  {
   "cell_type": "code",
   "execution_count": 35,
   "id": "cdc5cc5f",
   "metadata": {
    "ExecuteTime": {
     "end_time": "2023-05-01T19:14:22.611898Z",
     "start_time": "2023-05-01T19:14:22.596552Z"
    }
   },
   "outputs": [
    {
     "data": {
      "text/plain": [
       "6"
      ]
     },
     "execution_count": 35,
     "metadata": {},
     "output_type": "execute_result"
    }
   ],
   "source": [
    "5 ^ 3"
   ]
  },
  {
   "cell_type": "code",
   "execution_count": 31,
   "id": "1b7fa88f",
   "metadata": {
    "ExecuteTime": {
     "end_time": "2023-05-01T19:11:39.460675Z",
     "start_time": "2023-05-01T19:11:39.429281Z"
    }
   },
   "outputs": [
    {
     "name": "stdout",
     "output_type": "stream",
     "text": [
      "0\n"
     ]
    }
   ],
   "source": [
    "x = 5\n",
    "\n",
    "x >>= 3\n",
    "\n",
    "print(x)"
   ]
  },
  {
   "cell_type": "code",
   "execution_count": 36,
   "id": "e86fa7f2",
   "metadata": {
    "ExecuteTime": {
     "end_time": "2023-05-01T19:14:43.076035Z",
     "start_time": "2023-05-01T19:14:43.044480Z"
    }
   },
   "outputs": [
    {
     "data": {
      "text/plain": [
       "0"
      ]
     },
     "execution_count": 36,
     "metadata": {},
     "output_type": "execute_result"
    }
   ],
   "source": [
    "5 >> 3"
   ]
  },
  {
   "cell_type": "code",
   "execution_count": 32,
   "id": "01feffea",
   "metadata": {
    "ExecuteTime": {
     "end_time": "2023-05-01T19:11:50.996005Z",
     "start_time": "2023-05-01T19:11:50.968194Z"
    }
   },
   "outputs": [
    {
     "name": "stdout",
     "output_type": "stream",
     "text": [
      "40\n"
     ]
    }
   ],
   "source": [
    "x = 5\n",
    "\n",
    "x <<= 3\n",
    "\n",
    "print(x)"
   ]
  },
  {
   "cell_type": "code",
   "execution_count": 37,
   "id": "805b3690",
   "metadata": {
    "ExecuteTime": {
     "end_time": "2023-05-01T19:15:07.640758Z",
     "start_time": "2023-05-01T19:15:07.609246Z"
    }
   },
   "outputs": [
    {
     "data": {
      "text/plain": [
       "40"
      ]
     },
     "execution_count": 37,
     "metadata": {},
     "output_type": "execute_result"
    }
   ],
   "source": [
    "5 << 3"
   ]
  },
  {
   "cell_type": "markdown",
   "id": "46ef279f",
   "metadata": {},
   "source": [
    "## Python Comparison Operators"
   ]
  },
  {
   "cell_type": "markdown",
   "id": "a8261807",
   "metadata": {},
   "source": [
    "| Operator | Name                     | Example |\n",
    "|----------|--------------------------|---------|\n",
    "| ==       | Equal                    | x == y  |\n",
    "| !=       | Not equal                | x != y  |\n",
    "| >        | Greater than             | x > y   |\n",
    "| <        | Less than                | x < y   |\n",
    "| >=       | Greater than or equal to | x >= y  |\n",
    "| <=       | Less than or equal to    | x <= y  |"
   ]
  },
  {
   "cell_type": "code",
   "execution_count": 39,
   "id": "ff1c3bcf",
   "metadata": {
    "ExecuteTime": {
     "end_time": "2023-05-01T19:18:42.680748Z",
     "start_time": "2023-05-01T19:18:42.665052Z"
    }
   },
   "outputs": [
    {
     "data": {
      "text/plain": [
       "True"
      ]
     },
     "execution_count": 39,
     "metadata": {},
     "output_type": "execute_result"
    }
   ],
   "source": [
    "a = 6\n",
    "b = 8\n",
    "\n",
    "a < b"
   ]
  },
  {
   "cell_type": "markdown",
   "id": "01b3e15c",
   "metadata": {},
   "source": [
    "## Python Logical Operators"
   ]
  },
  {
   "cell_type": "markdown",
   "id": "a89e9861",
   "metadata": {},
   "source": [
    "| Operator | Description                                             | Example               |\n",
    "|----------|---------------------------------------------------------|-----------------------|\n",
    "| and      | Returns True if both statements are true                | x < 5 and  x < 10     |\n",
    "| or       | Returns True if one of the statements is true           | x < 5 or x < 4        |\n",
    "| not      | Reverse the result, returns False if the result is true | not(x < 5 and x < 10) |\n"
   ]
  },
  {
   "cell_type": "code",
   "execution_count": 44,
   "id": "30625628",
   "metadata": {
    "ExecuteTime": {
     "end_time": "2023-05-01T19:20:41.444408Z",
     "start_time": "2023-05-01T19:20:41.413564Z"
    }
   },
   "outputs": [
    {
     "data": {
      "text/plain": [
       "False"
      ]
     },
     "execution_count": 44,
     "metadata": {},
     "output_type": "execute_result"
    }
   ],
   "source": [
    "x=4\n",
    "\n",
    "x < 5 and x < 4"
   ]
  },
  {
   "cell_type": "code",
   "execution_count": 45,
   "id": "87228376",
   "metadata": {
    "ExecuteTime": {
     "end_time": "2023-05-01T19:20:42.377112Z",
     "start_time": "2023-05-01T19:20:42.345660Z"
    }
   },
   "outputs": [
    {
     "data": {
      "text/plain": [
       "True"
      ]
     },
     "execution_count": 45,
     "metadata": {},
     "output_type": "execute_result"
    }
   ],
   "source": [
    "x < 5 or x < 4"
   ]
  },
  {
   "cell_type": "code",
   "execution_count": 46,
   "id": "9700365b",
   "metadata": {
    "ExecuteTime": {
     "end_time": "2023-05-01T19:20:55.335640Z",
     "start_time": "2023-05-01T19:20:55.304070Z"
    }
   },
   "outputs": [
    {
     "data": {
      "text/plain": [
       "True"
      ]
     },
     "execution_count": 46,
     "metadata": {},
     "output_type": "execute_result"
    }
   ],
   "source": [
    "not(x < 5 and x < 4)"
   ]
  },
  {
   "cell_type": "markdown",
   "id": "e7d77b23",
   "metadata": {},
   "source": [
    "## Python Identity Operators\n",
    "\n",
    "Identity operators are used to compare the objects, not if they are equal, but if they are actually the same object, **with the same memory location**:"
   ]
  },
  {
   "cell_type": "markdown",
   "id": "23f3c8e0",
   "metadata": {},
   "source": [
    "| Operator | Description                                            | Example    |\n",
    "|----------|--------------------------------------------------------|------------|\n",
    "| is       | Returns True if both variables are the same object     | x is y     |\n",
    "| is not   | Returns True if both variables are not the same object | x is not y |"
   ]
  },
  {
   "cell_type": "code",
   "execution_count": 53,
   "id": "c4ff3022",
   "metadata": {
    "ExecuteTime": {
     "end_time": "2023-05-01T19:26:05.994072Z",
     "start_time": "2023-05-01T19:26:05.978430Z"
    }
   },
   "outputs": [
    {
     "name": "stdout",
     "output_type": "stream",
     "text": [
      "2600981752128\n",
      "2600981743680\n",
      "2600981752128\n",
      "\n",
      "False\n",
      "True\n",
      "False\n"
     ]
    }
   ],
   "source": [
    "x = [\"apple\", \"banana\"]\n",
    "y = [\"apple\", \"banana\"]\n",
    "z = x\n",
    "\n",
    "print(id(x))\n",
    "print(id(y))\n",
    "print(id(z))\n",
    "\n",
    "print()\n",
    "\n",
    "print(x is not z)\n",
    "\n",
    "# returns False because z is the same object as x\n",
    "\n",
    "print(x is not y)\n",
    "\n",
    "# returns True because x is not the same object as y, even if they have the same content\n",
    "\n",
    "print(x != y)\n",
    "# to demonstrate the difference betweeen \"is not\" and \"!=\": this comparison returns False because x is equ"
   ]
  },
  {
   "cell_type": "code",
   "execution_count": 55,
   "id": "727fda68",
   "metadata": {
    "ExecuteTime": {
     "end_time": "2023-05-01T19:26:31.446134Z",
     "start_time": "2023-05-01T19:26:31.430701Z"
    }
   },
   "outputs": [
    {
     "name": "stdout",
     "output_type": "stream",
     "text": [
      "2600981938368\n",
      "2600981939712\n",
      "2600981938368\n",
      "\n",
      "True\n",
      "False\n",
      "True\n"
     ]
    }
   ],
   "source": [
    "x = [\"apple\", \"banana\"]\n",
    "y = [\"apple\", \"banana\"]\n",
    "z = x\n",
    "\n",
    "print(id(x))\n",
    "print(id(y))\n",
    "print(id(z))\n",
    "\n",
    "print()\n",
    "\n",
    "print(x is z)\n",
    "\n",
    "# returns True because z is the same object as x\n",
    "\n",
    "print(x is y)\n",
    "\n",
    "# returns False because x is not the same object as y, even if they have the same content\n",
    "\n",
    "print(x == y)\n",
    "\n",
    "# to demonstrate the difference betweeen \"is\" and \"==\": this comparison returns True because x is equal to y"
   ]
  },
  {
   "cell_type": "code",
   "execution_count": null,
   "id": "fe168d51",
   "metadata": {},
   "outputs": [],
   "source": []
  },
  {
   "cell_type": "markdown",
   "id": "dfd879a8",
   "metadata": {},
   "source": [
    "## Python Bitwise Operators\n",
    "\n",
    "Bitwise operators are used to compare (binary) numbers:"
   ]
  },
  {
   "cell_type": "markdown",
   "id": "1b3a8229",
   "metadata": {},
   "source": [
    "| Operator | Name                 | Description                                                                                             | Example |\n",
    "|----------|----------------------|---------------------------------------------------------------------------------------------------------|---------|\n",
    "| &        | AND                  | Sets each bit to 1 if both bits are 1                                                                   | x & y   |\n",
    "| \\|       | OR                   | Sets each bit to 1 if one of two bits is 1                                                              | x \\| y  |\n",
    "| ^        | XOR                  | Sets each bit to 1 if only one of two bits is 1                                                         | x ^ y   |\n",
    "| ~        | NOT                  | Inverts all the bits                                                                                    | ~x      |\n",
    "| <<       | Zero fill left shift | Shift left by pushing zeros in from the right and let the leftmost bits fall off                        | x << 2  |\n",
    "| >>       | Signed right shift   | Shift right by pushing copies of the leftmost bit in from the left, and let the rightmost bits fall off | x >> 2  |"
   ]
  },
  {
   "cell_type": "code",
   "execution_count": 9,
   "id": "ecec8766",
   "metadata": {
    "ExecuteTime": {
     "end_time": "2023-05-01T18:51:50.161033Z",
     "start_time": "2023-05-01T18:51:50.129332Z"
    }
   },
   "outputs": [
    {
     "name": "stdout",
     "output_type": "stream",
     "text": [
      "2\n",
      "0\n",
      "1\n",
      "6\n",
      "8\n"
     ]
    }
   ],
   "source": [
    "a  = 6 \n",
    "b  = 3 \n",
    "\n",
    "\"\"\"\n",
    "The & operator compares each bit and set it to 1 if both are 1, otherwise it is set to 0:\n",
    "\n",
    "6 = 0000000000000110\n",
    "3 = 0000000000000011\n",
    "--------------------\n",
    "2 = 0000000000000010\n",
    "====================\n",
    "\n",
    "Decimal numbers and their binary values:\n",
    "0 = 0000000000000000\n",
    "1 = 0000000000000001\n",
    "2 = 0000000000000010\n",
    "3 = 0000000000000011\n",
    "4 = 0000000000000100\n",
    "5 = 0000000000000101\n",
    "6 = 0000000000000110\n",
    "7 = 0000000000000111\n",
    "\"\"\"\n",
    "\n",
    "print(a & b)\n",
    "\n",
    "print(4 & 2)\n",
    "print(5 & 3)\n",
    "print(6 & 7)\n",
    "print(9 & 8)"
   ]
  },
  {
   "cell_type": "code",
   "execution_count": 12,
   "id": "5219d8ee",
   "metadata": {
    "ExecuteTime": {
     "end_time": "2023-05-01T18:56:00.251472Z",
     "start_time": "2023-05-01T18:56:00.224144Z"
    }
   },
   "outputs": [
    {
     "name": "stdout",
     "output_type": "stream",
     "text": [
      "7\n",
      "6\n",
      "7\n",
      "7\n",
      "9\n"
     ]
    }
   ],
   "source": [
    "\n",
    "a  = 6 \n",
    "b  = 3 \n",
    "\n",
    "\n",
    "\"\"\"\n",
    "The | operator compares each bit and set it to 1 if one or both is 1, otherwise it is set to 0:\n",
    "\n",
    "6 = 0000000000000110\n",
    "3 = 0000000000000011\n",
    "--------------------\n",
    "7 = 0000000000000111\n",
    "====================\n",
    "\n",
    "Decimal numbers and their binary values:\n",
    "0 = 0000000000000000\n",
    "1 = 0000000000000001\n",
    "2 = 0000000000000010\n",
    "3 = 0000000000000011\n",
    "4 = 0000000000000100\n",
    "5 = 0000000000000101\n",
    "6 = 0000000000000110\n",
    "7 = 0000000000000111\n",
    "\"\"\"\n",
    "\n",
    "print(a | b)\n",
    "\n",
    "print(4 | 2)\n",
    "print(5 | 3)\n",
    "print(6 | 7)\n",
    "print(9 | 8)\n"
   ]
  },
  {
   "cell_type": "code",
   "execution_count": 13,
   "id": "7c167500",
   "metadata": {
    "ExecuteTime": {
     "end_time": "2023-05-01T18:56:32.609725Z",
     "start_time": "2023-05-01T18:56:32.570807Z"
    }
   },
   "outputs": [
    {
     "name": "stdout",
     "output_type": "stream",
     "text": [
      "5\n",
      "6\n",
      "6\n",
      "1\n",
      "1\n"
     ]
    }
   ],
   "source": [
    "\n",
    "a  = 6 \n",
    "b  = 3 \n",
    "\n",
    "\n",
    "\"\"\"\n",
    "The ^ operator compares each bit and set it to 1 if only one is 1, otherwise (if both are 1 or both are 0) it is set to 0:\n",
    "\n",
    "6 = 0000000000000110\n",
    "3 = 0000000000000011\n",
    "--------------------\n",
    "5 = 0000000000000101\n",
    "====================\n",
    "\n",
    "Decimal numbers and their binary values:\n",
    "0 = 0000000000000000\n",
    "1 = 0000000000000001\n",
    "2 = 0000000000000010\n",
    "3 = 0000000000000011\n",
    "4 = 0000000000000100\n",
    "5 = 0000000000000101\n",
    "6 = 0000000000000110\n",
    "7 = 0000000000000111\n",
    "\"\"\"\n",
    "print(a ^ b)\n",
    "\n",
    "print(4 ^ 2)\n",
    "print(5 ^ 3)\n",
    "print(6 ^ 7)\n",
    "print(9 ^ 8)\n"
   ]
  },
  {
   "cell_type": "code",
   "execution_count": 16,
   "id": "961dd2e6",
   "metadata": {
    "ExecuteTime": {
     "end_time": "2023-05-01T18:59:34.593512Z",
     "start_time": "2023-05-01T18:59:34.577638Z"
    }
   },
   "outputs": [
    {
     "name": "stdout",
     "output_type": "stream",
     "text": [
      "-4\n",
      "-5\n",
      "-6\n",
      "-8\n",
      "-10\n",
      "-16\n",
      "6\n",
      "8\n"
     ]
    }
   ],
   "source": [
    "\n",
    "\n",
    "\"\"\"\n",
    "The ~ operator inverts each bit (0 becomes 1 and 1 becomes 0).\n",
    "\n",
    "Inverted 3 becomes -4:\n",
    " 3 = 0000000000000011\n",
    "-4 = 1111111111111100\n",
    "\n",
    "Decimal numbers and their binary values:\n",
    " 4 = 0000000000000100\n",
    " 3 = 0000000000000011\n",
    " 2 = 0000000000000010\n",
    " 1 = 0000000000000001\n",
    " 0 = 0000000000000000\n",
    "-1 = 1111111111111111\n",
    "-2 = 1111111111111110\n",
    "-3 = 1111111111111101\n",
    "-4 = 1111111111111100\n",
    "\"\"\"\n",
    "print(~3)\n",
    "print(~4)\n",
    "\n",
    "print(~5)\n",
    "print(~7)\n",
    "print(~9)\n",
    "\n",
    "print(~15)\n",
    "print(~-7) \n",
    "print(~-9)"
   ]
  },
  {
   "cell_type": "code",
   "execution_count": 19,
   "id": "cbea7ea3",
   "metadata": {
    "ExecuteTime": {
     "end_time": "2023-05-01T19:02:24.066499Z",
     "start_time": "2023-05-01T19:02:24.034803Z"
    }
   },
   "outputs": [
    {
     "name": "stdout",
     "output_type": "stream",
     "text": [
      "12\n",
      "6\n",
      "2\n",
      "4\n"
     ]
    }
   ],
   "source": [
    "print(3 << 2)\n",
    "\n",
    "\n",
    "\n",
    "\"\"\"\n",
    "The << operator inserts the specified number of 0's (in this case 2) from the right and let the same amount of leftmost bits fall off:\n",
    "\n",
    "If you push 00 in from the left:\n",
    " 3 = 0000000000000011\n",
    "becomes\n",
    "12 = 0000000000001100\n",
    "\n",
    "Decimal numbers and their binary values:\n",
    " 0 = 0000000000000000\n",
    " 1 = 0000000000000001\n",
    " 2 = 0000000000000010\n",
    " 3 = 0000000000000011\n",
    " 4 = 0000000000000100\n",
    " 5 = 0000000000000101\n",
    " 6 = 0000000000000110\n",
    " 7 = 0000000000000111\n",
    " 8 = 0000000000001000\n",
    " 9 = 0000000000001001\n",
    "10 = 0000000000001010\n",
    "11 = 0000000000001011\n",
    "12 = 0000000000001100\n",
    "\"\"\"\n",
    "print(3 << 1)\n",
    "print(1 << 1)\n",
    "print(1 << 2)\n",
    "\n"
   ]
  },
  {
   "cell_type": "code",
   "execution_count": 38,
   "id": "66ee5a74",
   "metadata": {
    "ExecuteTime": {
     "end_time": "2023-05-01T19:16:59.886475Z",
     "start_time": "2023-05-01T19:16:59.854951Z"
    }
   },
   "outputs": [
    {
     "name": "stdout",
     "output_type": "stream",
     "text": [
      "2\n",
      "1\n",
      "3\n",
      "6\n",
      "5\n",
      "1\n",
      "0\n",
      "0\n"
     ]
    }
   ],
   "source": [
    "print(8 >> 2)\n",
    "\n",
    "\n",
    "\n",
    "\"\"\"\n",
    "The >> operator moves each bit the specified number of times to the right. Empty holes at the left are filled with 0's.\n",
    "\n",
    "If you move each bit 2 times to the right, 8 becomes 2:\n",
    " 8 = 0000000000001000\n",
    "becomes\n",
    " 2 = 0000000000000010\n",
    "\n",
    "Decimal numbers and their binary values:\n",
    " 0 = 0000000000000000\n",
    " 1 = 0000000000000001\n",
    " 2 = 0000000000000010\n",
    " 3 = 0000000000000011\n",
    " 4 = 0000000000000100\n",
    " 5 = 0000000000000101\n",
    " 6 = 0000000000000110\n",
    " 7 = 0000000000000111\n",
    " 8 = 0000000000001000\n",
    " 9 = 0000000000001001\n",
    "10 = 0000000000001010\n",
    "11 = 0000000000001011\n",
    "12 = 0000000000001100\n",
    "\"\"\"\n",
    "\n",
    "print(2 >> 1)\n",
    "print(12 >> 2)\n",
    "print(12 >> 1)\n",
    "print(10 >> 1)\n",
    "print(4 >> 2)\n",
    "print(5 >> 3)\n",
    "print(7 >> 3)"
   ]
  },
  {
   "cell_type": "code",
   "execution_count": null,
   "id": "e64e81f4",
   "metadata": {},
   "outputs": [],
   "source": []
  },
  {
   "cell_type": "markdown",
   "id": "bd4da281",
   "metadata": {},
   "source": [
    "## Operator Precedence\n",
    "\n",
    "Operator precedence describes the order in which operations are performed."
   ]
  },
  {
   "cell_type": "markdown",
   "id": "6dba6480",
   "metadata": {},
   "source": [
    "The precedence order is described in the table below, starting with the highest precedence at the top:\n",
    "\n",
    "\n",
    "| Operator                                      | Description                                           |\n",
    "|-----------------------------------------------|-------------------------------------------------------|\n",
    "| ()                                            | Parentheses                                           |\n",
    "| **                                            | Exponentiation                                        |\n",
    "| +x  -x  ~x                                    | Unary plus, unary minus, and bitwise NOT              |\n",
    "| *  /  //  %                                   | Multiplication, division, floor division, and modulus |\n",
    "| +  -                                          | Addition and subtraction                              |\n",
    "| <<  >>                                        | Bitwise left and right shifts                         |\n",
    "| &                                             | Bitwise AND                                           |\n",
    "| ^                                             | Bitwise XOR                                           |\n",
    "| \\|                                            | Bitwise OR                                            |\n",
    "| ==  !=  >  >=  <  <=  is  is not  in  not in  | Comparisons, identity, and membership operators       |\n",
    "| not                                           | Logical NOT                                           |\n",
    "| and                                           | AND                                                   |\n",
    "| or                                            | OR                                                    |"
   ]
  },
  {
   "cell_type": "markdown",
   "id": "c8338c14",
   "metadata": {},
   "source": [
    "If two operators have the same precedence, the expression is evaluated from left to right."
   ]
  },
  {
   "cell_type": "code",
   "execution_count": null,
   "id": "6cf0bf57",
   "metadata": {},
   "outputs": [],
   "source": []
  }
 ],
 "metadata": {
  "kernelspec": {
   "display_name": "Python 3 (ipykernel)",
   "language": "python",
   "name": "python3"
  },
  "language_info": {
   "codemirror_mode": {
    "name": "ipython",
    "version": 3
   },
   "file_extension": ".py",
   "mimetype": "text/x-python",
   "name": "python",
   "nbconvert_exporter": "python",
   "pygments_lexer": "ipython3",
   "version": "3.9.1"
  },
  "toc": {
   "base_numbering": 1,
   "nav_menu": {},
   "number_sections": true,
   "sideBar": true,
   "skip_h1_title": true,
   "title_cell": "Table of Contents",
   "title_sidebar": "Contents",
   "toc_cell": false,
   "toc_position": {},
   "toc_section_display": true,
   "toc_window_display": true
  },
  "varInspector": {
   "cols": {
    "lenName": 16,
    "lenType": 16,
    "lenVar": 40
   },
   "kernels_config": {
    "python": {
     "delete_cmd_postfix": "",
     "delete_cmd_prefix": "del ",
     "library": "var_list.py",
     "varRefreshCmd": "print(var_dic_list())"
    },
    "r": {
     "delete_cmd_postfix": ") ",
     "delete_cmd_prefix": "rm(",
     "library": "var_list.r",
     "varRefreshCmd": "cat(var_dic_list()) "
    }
   },
   "types_to_exclude": [
    "module",
    "function",
    "builtin_function_or_method",
    "instance",
    "_Feature"
   ],
   "window_display": false
  }
 },
 "nbformat": 4,
 "nbformat_minor": 5
}
