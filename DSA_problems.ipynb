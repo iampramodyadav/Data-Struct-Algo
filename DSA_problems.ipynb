{
 "cells": [
  {
   "cell_type": "markdown",
   "id": "3be7b825-5407-451d-8ad4-ec1abe8ddd61",
   "metadata": {},
   "source": [
    "# DSA Practice \n",
    "[source](https://neetcode.io/roadmap)"
   ]
  },
  {
   "cell_type": "markdown",
   "id": "c537affb-8b8d-47b6-91ea-00e1a9e3a1f6",
   "metadata": {},
   "source": [
    "## Arrays & Hashing"
   ]
  },
  {
   "cell_type": "markdown",
   "id": "e866310a-33bd-4e81-b0f5-880dadbe3c62",
   "metadata": {},
   "source": [
    "### Contains Duplicate\n",
    "Given an integer array nums, return true if any value appears at least twice in the array, and return false if every element is distinct.```\n",
    "Example 1:\n",
    "\n",
    "```\n",
    "Example 1:\n",
    "\n",
    "Input: nums = [1,2,3,1]\n",
    "Output: true\n",
    "Example 2:\n",
    "\n",
    "Input: nums = [1,2,3,4]\n",
    "Output: false\n",
    "Example 3:\n",
    "\n",
    "Input: nums = [1,1,1,3,3,4,3,2,4,2]\n",
    "Output: true\n",
    "\n",
    "```"
   ]
  },
  {
   "cell_type": "markdown",
   "id": "f162453f-8d02-45b5-a3ce-3b48ec8bce8f",
   "metadata": {},
   "source": [
    "**M-1** Functional code"
   ]
  },
  {
   "cell_type": "code",
   "execution_count": 22,
   "id": "42b65dda-6980-410f-ba85-5ff4fc8c6fba",
   "metadata": {
    "execution": {
     "iopub.execute_input": "2024-01-09T19:34:33.152830Z",
     "iopub.status.busy": "2024-01-09T19:34:33.151755Z",
     "iopub.status.idle": "2024-01-09T19:34:33.172873Z",
     "shell.execute_reply": "2024-01-09T19:34:33.170609Z",
     "shell.execute_reply.started": "2024-01-09T19:34:33.152830Z"
    }
   },
   "outputs": [],
   "source": [
    "def check_duplicate(list):\n",
    "    x = len(list)\n",
    "    y = len(set(list))\n",
    "    if x == y:\n",
    "        return False\n",
    "    else:\n",
    "        return True"
   ]
  },
  {
   "cell_type": "code",
   "execution_count": 23,
   "id": "d62a4131-8ad0-4b86-a4de-27565568b438",
   "metadata": {
    "execution": {
     "iopub.execute_input": "2024-01-09T19:34:33.513428Z",
     "iopub.status.busy": "2024-01-09T19:34:33.505471Z",
     "iopub.status.idle": "2024-01-09T19:34:33.522881Z",
     "shell.execute_reply": "2024-01-09T19:34:33.521325Z",
     "shell.execute_reply.started": "2024-01-09T19:34:33.513428Z"
    }
   },
   "outputs": [
    {
     "name": "stdout",
     "output_type": "stream",
     "text": [
      "True\n",
      "False\n"
     ]
    }
   ],
   "source": [
    "ll1 = [1, 2, 3, 4, 5, 2]\n",
    "print(check_duplicate(ll1))\n",
    "\n",
    "ll2 = [1, 2, 3, 4, 5, 6]\n",
    "print(check_duplicate(ll2))"
   ]
  },
  {
   "cell_type": "markdown",
   "id": "099578a2-7b6f-48da-ad9c-39cf3404cf52",
   "metadata": {},
   "source": [
    "**M-2** OOP"
   ]
  },
  {
   "cell_type": "code",
   "execution_count": 24,
   "id": "5aecd5ba-d956-4d22-b04f-a3243a84ed10",
   "metadata": {
    "execution": {
     "iopub.execute_input": "2024-01-09T19:34:33.997533Z",
     "iopub.status.busy": "2024-01-09T19:34:33.992904Z",
     "iopub.status.idle": "2024-01-09T19:34:34.014797Z",
     "shell.execute_reply": "2024-01-09T19:34:34.012470Z",
     "shell.execute_reply.started": "2024-01-09T19:34:33.997533Z"
    }
   },
   "outputs": [],
   "source": [
    "from typing import List\n",
    "\n",
    "\n",
    "class Solution:\n",
    "    def containsDuplicate(self, nums: List[int]) -> bool:\n",
    "        nums.sort()\n",
    "        n = len(nums)\n",
    "        for i in range(1, n):\n",
    "            if nums[i] == nums[i - 1]:\n",
    "                return True\n",
    "        return False"
   ]
  },
  {
   "cell_type": "code",
   "execution_count": 25,
   "id": "47d02499-96ab-4cc8-a1cd-63436596a471",
   "metadata": {
    "execution": {
     "iopub.execute_input": "2024-01-09T19:34:34.181773Z",
     "iopub.status.busy": "2024-01-09T19:34:34.180772Z",
     "iopub.status.idle": "2024-01-09T19:34:34.195905Z",
     "shell.execute_reply": "2024-01-09T19:34:34.194479Z",
     "shell.execute_reply.started": "2024-01-09T19:34:34.181273Z"
    }
   },
   "outputs": [
    {
     "data": {
      "text/plain": [
       "False"
      ]
     },
     "execution_count": 25,
     "metadata": {},
     "output_type": "execute_result"
    }
   ],
   "source": [
    "num = [1, 2, 3, 4]\n",
    "ss = Solution()\n",
    "ss.containsDuplicate(num)"
   ]
  },
  {
   "cell_type": "markdown",
   "id": "20e0042e-2705-4082-a2c3-79a373f8e977",
   "metadata": {
    "execution": {
     "iopub.execute_input": "2024-01-09T18:49:55.755606Z",
     "iopub.status.busy": "2024-01-09T18:49:55.755606Z",
     "iopub.status.idle": "2024-01-09T18:49:55.774833Z",
     "shell.execute_reply": "2024-01-09T18:49:55.772046Z",
     "shell.execute_reply.started": "2024-01-09T18:49:55.755606Z"
    }
   },
   "source": [
    "**M-3** OOP"
   ]
  },
  {
   "cell_type": "code",
   "execution_count": 26,
   "id": "7c98cd55-4141-4fa6-ae01-08dd08bf7c63",
   "metadata": {
    "execution": {
     "iopub.execute_input": "2024-01-09T19:34:34.677756Z",
     "iopub.status.busy": "2024-01-09T19:34:34.671686Z",
     "iopub.status.idle": "2024-01-09T19:34:34.695102Z",
     "shell.execute_reply": "2024-01-09T19:34:34.693859Z",
     "shell.execute_reply.started": "2024-01-09T19:34:34.677756Z"
    }
   },
   "outputs": [],
   "source": [
    "from typing import List\n",
    "\n",
    "\n",
    "class Solution:\n",
    "    def containsDuplicate(self, nums: List[int]) -> bool:\n",
    "        x = len(nums)\n",
    "        y = len(set(nums))\n",
    "        if x == y:\n",
    "            return False\n",
    "        else:\n",
    "            return True"
   ]
  },
  {
   "cell_type": "code",
   "execution_count": 27,
   "id": "997a0b79-89b1-428e-a38b-618d5ab36503",
   "metadata": {
    "execution": {
     "iopub.execute_input": "2024-01-09T19:34:34.913538Z",
     "iopub.status.busy": "2024-01-09T19:34:34.913038Z",
     "iopub.status.idle": "2024-01-09T19:34:34.931059Z",
     "shell.execute_reply": "2024-01-09T19:34:34.929382Z",
     "shell.execute_reply.started": "2024-01-09T19:34:34.913538Z"
    }
   },
   "outputs": [
    {
     "data": {
      "text/plain": [
       "True"
      ]
     },
     "execution_count": 27,
     "metadata": {},
     "output_type": "execute_result"
    }
   ],
   "source": [
    "num = [1, 2, 3, 4, 4]\n",
    "ss = Solution()\n",
    "ss.containsDuplicate(num)"
   ]
  },
  {
   "cell_type": "markdown",
   "id": "16b0b236-713d-4a43-bea3-acff2059285a",
   "metadata": {},
   "source": [
    "### Valid Anagram"
   ]
  },
  {
   "cell_type": "markdown",
   "id": "07d00bd8-3529-4f5a-9c15-26eb60c44141",
   "metadata": {},
   "source": [
    "Given two strings `s` and `t`, return `true` if `t` is an anagram of `s`, and false otherwise.\n",
    "\n",
    "An Anagram is a word or phrase formed by rearranging the letters of a different word or phrase, typically using all the original letters exactly once.\n",
    "\n",
    " \n",
    "```\n",
    "Example 1:\n",
    "\n",
    "Input: s = \"anagram\", t = \"nagaram\"\n",
    "Output: true\n",
    "Example 2:\n",
    "\n",
    "Input: s = \"rat\", t = \"car\"\n",
    "Output: false\n",
    " \n",
    "\n",
    "Constraints:\n",
    "\n",
    "1 <= s.length, t.length <= 5 * 104\n",
    "s and t consist of lowercase English letters.\n",
    "```\n",
    "\n",
    "Follow up: What if the inputs contain Unicode characters? How would you adapt your solution to such a case?"
   ]
  },
  {
   "cell_type": "markdown",
   "id": "dfabe445-acec-4396-9be0-9a2abbcc7ff6",
   "metadata": {},
   "source": [
    "**M-1** Functional"
   ]
  },
  {
   "cell_type": "code",
   "execution_count": 80,
   "id": "dd5b189b-f2a5-4366-af39-fa0e866718e1",
   "metadata": {
    "execution": {
     "iopub.execute_input": "2024-01-11T03:56:33.256749Z",
     "iopub.status.busy": "2024-01-11T03:56:33.256749Z",
     "iopub.status.idle": "2024-01-11T03:56:33.268974Z",
     "shell.execute_reply": "2024-01-11T03:56:33.267972Z",
     "shell.execute_reply.started": "2024-01-11T03:56:33.256749Z"
    }
   },
   "outputs": [],
   "source": [
    "def check_anagram(s, t):\n",
    "    if len(s) != len(t):\n",
    "        return False\n",
    "    else:\n",
    "        s = list(s)\n",
    "        t = list(t)\n",
    "        s.sort()\n",
    "        t.sort()\n",
    "    return s == t"
   ]
  },
  {
   "cell_type": "code",
   "execution_count": 81,
   "id": "6780f52c-280b-43df-bbd0-cdd3d5156202",
   "metadata": {
    "execution": {
     "iopub.execute_input": "2024-01-11T03:56:33.529615Z",
     "iopub.status.busy": "2024-01-11T03:56:33.529615Z",
     "iopub.status.idle": "2024-01-11T03:56:33.548557Z",
     "shell.execute_reply": "2024-01-11T03:56:33.548057Z",
     "shell.execute_reply.started": "2024-01-11T03:56:33.529615Z"
    }
   },
   "outputs": [
    {
     "data": {
      "text/plain": [
       "True"
      ]
     },
     "execution_count": 81,
     "metadata": {},
     "output_type": "execute_result"
    }
   ],
   "source": [
    "s = \"ytrewq\"\n",
    "t = \"qwerty\"\n",
    "check_anagram(s, t)"
   ]
  },
  {
   "cell_type": "code",
   "execution_count": 82,
   "id": "ff940b0b-6392-4f01-93aa-5470aa1554dd",
   "metadata": {
    "execution": {
     "iopub.execute_input": "2024-01-11T03:56:34.179258Z",
     "iopub.status.busy": "2024-01-11T03:56:34.179258Z",
     "iopub.status.idle": "2024-01-11T03:56:34.189098Z",
     "shell.execute_reply": "2024-01-11T03:56:34.188599Z",
     "shell.execute_reply.started": "2024-01-11T03:56:34.179258Z"
    }
   },
   "outputs": [
    {
     "data": {
      "text/plain": [
       "False"
      ]
     },
     "execution_count": 82,
     "metadata": {},
     "output_type": "execute_result"
    }
   ],
   "source": [
    "s = \"trewq\"\n",
    "t = \"qwerty\"\n",
    "check_anagram(s, t)"
   ]
  },
  {
   "cell_type": "code",
   "execution_count": 83,
   "id": "6fb3ddbd-8ed4-421a-b4f6-14e81d95bd9e",
   "metadata": {
    "execution": {
     "iopub.execute_input": "2024-01-11T03:56:34.681702Z",
     "iopub.status.busy": "2024-01-11T03:56:34.680704Z",
     "iopub.status.idle": "2024-01-11T03:56:34.702036Z",
     "shell.execute_reply": "2024-01-11T03:56:34.700460Z",
     "shell.execute_reply.started": "2024-01-11T03:56:34.681702Z"
    }
   },
   "outputs": [
    {
     "data": {
      "text/plain": [
       "False"
      ]
     },
     "execution_count": 83,
     "metadata": {},
     "output_type": "execute_result"
    }
   ],
   "source": [
    "s = \"ctrewq\"\n",
    "t = \"qwerty\"\n",
    "check_anagram(s, t)"
   ]
  },
  {
   "cell_type": "markdown",
   "id": "ace55245-965a-4ef2-8fe6-f662a5f29812",
   "metadata": {
    "execution": {
     "iopub.execute_input": "2024-01-10T03:52:14.410758Z",
     "iopub.status.busy": "2024-01-10T03:52:14.410758Z",
     "iopub.status.idle": "2024-01-10T03:52:14.424144Z",
     "shell.execute_reply": "2024-01-10T03:52:14.423391Z",
     "shell.execute_reply.started": "2024-01-10T03:52:14.410758Z"
    }
   },
   "source": [
    "**M-2** Functional"
   ]
  },
  {
   "cell_type": "code",
   "execution_count": 84,
   "id": "80ef46d7-978d-491c-ba28-5438b4de40c7",
   "metadata": {
    "execution": {
     "iopub.execute_input": "2024-01-11T03:56:36.404183Z",
     "iopub.status.busy": "2024-01-11T03:56:36.403155Z",
     "iopub.status.idle": "2024-01-11T03:56:36.414812Z",
     "shell.execute_reply": "2024-01-11T03:56:36.414812Z",
     "shell.execute_reply.started": "2024-01-11T03:56:36.404183Z"
    }
   },
   "outputs": [],
   "source": [
    "def check_anagram(s, t):\n",
    "    if len(s) != len(t):\n",
    "        return False\n",
    "    else:\n",
    "        s = \"\".join(sorted(s))\n",
    "        t = \"\".join(sorted(t))\n",
    "    return s == t"
   ]
  },
  {
   "cell_type": "code",
   "execution_count": 85,
   "id": "41cd75f3-e8b8-4b97-904f-6693a1107e44",
   "metadata": {
    "execution": {
     "iopub.execute_input": "2024-01-11T03:56:36.945515Z",
     "iopub.status.busy": "2024-01-11T03:56:36.945515Z",
     "iopub.status.idle": "2024-01-11T03:56:36.957970Z",
     "shell.execute_reply": "2024-01-11T03:56:36.956847Z",
     "shell.execute_reply.started": "2024-01-11T03:56:36.945515Z"
    }
   },
   "outputs": [
    {
     "data": {
      "text/plain": [
       "False"
      ]
     },
     "execution_count": 85,
     "metadata": {},
     "output_type": "execute_result"
    }
   ],
   "source": [
    "s = \"trewq\"\n",
    "t = \"qwerty\"\n",
    "check_anagram(s, t)"
   ]
  },
  {
   "cell_type": "code",
   "execution_count": 86,
   "id": "e2d64a5d-57ac-42b8-a2d6-545ad7e4d26e",
   "metadata": {
    "execution": {
     "iopub.execute_input": "2024-01-11T03:56:37.650065Z",
     "iopub.status.busy": "2024-01-11T03:56:37.649066Z",
     "iopub.status.idle": "2024-01-11T03:56:37.659261Z",
     "shell.execute_reply": "2024-01-11T03:56:37.656261Z",
     "shell.execute_reply.started": "2024-01-11T03:56:37.650065Z"
    }
   },
   "outputs": [
    {
     "data": {
      "text/plain": [
       "True"
      ]
     },
     "execution_count": 86,
     "metadata": {},
     "output_type": "execute_result"
    }
   ],
   "source": [
    "s = \"ytrewq\"\n",
    "t = \"qwerty\"\n",
    "check_anagram(s, t)"
   ]
  },
  {
   "cell_type": "markdown",
   "id": "83ea8b20-59ab-4015-a64c-63408d821257",
   "metadata": {},
   "source": [
    "**M-3** OOP"
   ]
  },
  {
   "cell_type": "code",
   "execution_count": 101,
   "id": "bd807c8a-2c70-4d03-8dff-3349f23a529f",
   "metadata": {
    "execution": {
     "iopub.execute_input": "2024-01-11T15:36:13.322117Z",
     "iopub.status.busy": "2024-01-11T15:36:13.322117Z",
     "iopub.status.idle": "2024-01-11T15:36:13.342823Z",
     "shell.execute_reply": "2024-01-11T15:36:13.341412Z",
     "shell.execute_reply.started": "2024-01-11T15:36:13.322117Z"
    }
   },
   "outputs": [],
   "source": [
    "class Solution(object):\n",
    "    def isAnagram(self, s, t):\n",
    "        s = s.lower()\n",
    "        t = t.lower()\n",
    "\n",
    "        if len(s) != len(t):\n",
    "            return False\n",
    "\n",
    "        char_map = [0] * 26\n",
    "        # print(char_map)\n",
    "\n",
    "        for i in range(len(s)):\n",
    "            char_map[ord(s[i]) - ord(\"a\")] += 1\n",
    "            # print(char_map)\n",
    "            char_map[ord(t[i]) - ord(\"a\")] -= 1\n",
    "            # print(char_map)\n",
    "\n",
    "        return all(count == 0 for count in char_map)"
   ]
  },
  {
   "cell_type": "code",
   "execution_count": 104,
   "id": "4a7708ee-4b55-4533-95fa-46a9f87e4543",
   "metadata": {
    "execution": {
     "iopub.execute_input": "2024-01-11T15:36:42.059855Z",
     "iopub.status.busy": "2024-01-11T15:36:42.058855Z",
     "iopub.status.idle": "2024-01-11T15:36:42.068785Z",
     "shell.execute_reply": "2024-01-11T15:36:42.067785Z",
     "shell.execute_reply.started": "2024-01-11T15:36:42.059855Z"
    }
   },
   "outputs": [
    {
     "data": {
      "text/plain": [
       "False"
      ]
     },
     "execution_count": 104,
     "metadata": {},
     "output_type": "execute_result"
    }
   ],
   "source": [
    "s = \"avb\"\n",
    "t = \"cba\"\n",
    "ss = Solution()\n",
    "ss.isAnagram(s, t)"
   ]
  },
  {
   "cell_type": "code",
   "execution_count": 103,
   "id": "5529fa98-9dc8-40f7-98fd-eda4dd58403e",
   "metadata": {
    "execution": {
     "iopub.execute_input": "2024-01-11T15:36:36.022139Z",
     "iopub.status.busy": "2024-01-11T15:36:36.020881Z",
     "iopub.status.idle": "2024-01-11T15:36:36.038276Z",
     "shell.execute_reply": "2024-01-11T15:36:36.037079Z",
     "shell.execute_reply.started": "2024-01-11T15:36:36.022139Z"
    }
   },
   "outputs": [
    {
     "data": {
      "text/plain": [
       "True"
      ]
     },
     "execution_count": 103,
     "metadata": {},
     "output_type": "execute_result"
    }
   ],
   "source": [
    "s = \"asdfg\"\n",
    "t = \"gfdsa\"\n",
    "ss = Solution()\n",
    "ss.isAnagram(s, t)"
   ]
  },
  {
   "cell_type": "code",
   "execution_count": 109,
   "id": "d65369ee-90dd-4a31-9fab-8c915413f7cd",
   "metadata": {
    "execution": {
     "iopub.execute_input": "2024-01-11T15:40:44.308548Z",
     "iopub.status.busy": "2024-01-11T15:40:44.308548Z",
     "iopub.status.idle": "2024-01-11T15:40:44.332359Z",
     "shell.execute_reply": "2024-01-11T15:40:44.331359Z",
     "shell.execute_reply.started": "2024-01-11T15:40:44.308548Z"
    }
   },
   "outputs": [],
   "source": [
    "import collections\n",
    "\n",
    "\n",
    "class Solution:\n",
    "    def isAnagram(self, s: str, t: str) -> bool:\n",
    "        count = collections.defaultdict(int)\n",
    "\n",
    "        # Count the frequency of characters in string s\n",
    "        for x in s:\n",
    "            count[x] += 1\n",
    "\n",
    "        # Decrement the frequency of characters in string t\n",
    "        for x in t:\n",
    "            count[x] -= 1\n",
    "\n",
    "        # Check if any character has non-zero frequency\n",
    "        for val in count.values():\n",
    "            if val != 0:\n",
    "                return False\n",
    "\n",
    "        return True"
   ]
  },
  {
   "cell_type": "code",
   "execution_count": 110,
   "id": "415ca3f1-8fd1-460b-80e1-d9b0d1b091ad",
   "metadata": {
    "execution": {
     "iopub.execute_input": "2024-01-11T15:40:45.391900Z",
     "iopub.status.busy": "2024-01-11T15:40:45.391900Z",
     "iopub.status.idle": "2024-01-11T15:40:45.409841Z",
     "shell.execute_reply": "2024-01-11T15:40:45.409748Z",
     "shell.execute_reply.started": "2024-01-11T15:40:45.391900Z"
    }
   },
   "outputs": [
    {
     "data": {
      "text/plain": [
       "True"
      ]
     },
     "execution_count": 110,
     "metadata": {},
     "output_type": "execute_result"
    }
   ],
   "source": [
    "s = \"asdfg\"\n",
    "t = \"gfdsa\"\n",
    "ss = Solution()\n",
    "ss.isAnagram(s, t)"
   ]
  },
  {
   "cell_type": "markdown",
   "id": "ac147f67-034c-4784-a6a2-0a736a6abef7",
   "metadata": {},
   "source": [
    "### Two sum"
   ]
  },
  {
   "cell_type": "markdown",
   "id": "f325f907-6ad0-43a4-83be-e8478fe5f380",
   "metadata": {
    "execution": {
     "iopub.execute_input": "2024-01-11T16:35:00.411547Z",
     "iopub.status.busy": "2024-01-11T16:35:00.411547Z",
     "iopub.status.idle": "2024-01-11T16:35:00.428445Z",
     "shell.execute_reply": "2024-01-11T16:35:00.427444Z",
     "shell.execute_reply.started": "2024-01-11T16:35:00.411547Z"
    }
   },
   "source": [
    "Given an array of integers `nums` and an integer `target`, return indices of the two numbers such that they add up to `target`.\n",
    "\n",
    "You may assume that each input would have exactly one solution, and you may not use the same element twice.\n",
    "\n",
    "You can return the answer in any order.\n",
    "\n",
    " \n",
    "\n",
    "Example 1:\n",
    "```\n",
    "Input: nums = [2,7,11,15], target = 9\n",
    "Output: [0,1]\n",
    "Explanation: Because nums[0] + nums[1] == 9, we return [0, 1].\n",
    "Example 2:\n",
    "\n",
    "Input: nums = [3,2,4], target = 6\n",
    "Output: [1,2]\n",
    "Example 3:\n",
    "\n",
    "Input: nums = [3,3], target = 6\n",
    "Output: [0,1]\n",
    "```\n",
    "\n",
    "Constraints:\n",
    "```\n",
    "2 <= nums.length <= 104\n",
    "-109 <= nums[i] <= 109\n",
    "-109 <= target <= 109\n",
    "Only one valid answer exists.\n",
    "```"
   ]
  },
  {
   "cell_type": "markdown",
   "id": "247681fb-a654-4d28-b312-2c60f0a32b5e",
   "metadata": {
    "execution": {
     "iopub.execute_input": "2024-01-11T17:34:38.095426Z",
     "iopub.status.busy": "2024-01-11T17:34:38.094415Z",
     "iopub.status.idle": "2024-01-11T17:34:38.116059Z",
     "shell.execute_reply": "2024-01-11T17:34:38.114663Z",
     "shell.execute_reply.started": "2024-01-11T17:34:38.095426Z"
    }
   },
   "source": [
    "**M-1**"
   ]
  },
  {
   "cell_type": "code",
   "execution_count": 54,
   "id": "6b9c4b2d-ad71-4d64-81a6-6a768bdad26a",
   "metadata": {
    "execution": {
     "iopub.execute_input": "2024-01-11T17:22:52.596758Z",
     "iopub.status.busy": "2024-01-11T17:22:52.596257Z",
     "iopub.status.idle": "2024-01-11T17:22:52.606600Z",
     "shell.execute_reply": "2024-01-11T17:22:52.604825Z",
     "shell.execute_reply.started": "2024-01-11T17:22:52.596758Z"
    }
   },
   "outputs": [],
   "source": [
    "import copy\n",
    "from typing import List\n",
    "\n",
    "\n",
    "class Solution:\n",
    "    def twoSum(self, nums: List[int], target: int) -> List[int]:\n",
    "        ii = 0\n",
    "        numss = copy.deepcopy(nums)\n",
    "        for num in numss:\n",
    "            num2 = target - num\n",
    "            nums.remove(num)\n",
    "            if num2 in nums:\n",
    "                jj = nums.index(num2)\n",
    "                return [ii, jj + ii + 1]\n",
    "                break\n",
    "            ii += 1\n",
    "        return \"No solution\""
   ]
  },
  {
   "cell_type": "code",
   "execution_count": 55,
   "id": "d0529b4d-e9c6-4b45-9b80-675c0190fb21",
   "metadata": {
    "execution": {
     "iopub.execute_input": "2024-01-11T17:22:53.087445Z",
     "iopub.status.busy": "2024-01-11T17:22:53.086325Z",
     "iopub.status.idle": "2024-01-11T17:22:53.102599Z",
     "shell.execute_reply": "2024-01-11T17:22:53.101618Z",
     "shell.execute_reply.started": "2024-01-11T17:22:53.087445Z"
    }
   },
   "outputs": [
    {
     "data": {
      "text/plain": [
       "[0, 2]"
      ]
     },
     "execution_count": 55,
     "metadata": {},
     "output_type": "execute_result"
    }
   ],
   "source": [
    "nums = [2, 1, 2, 15]\n",
    "target = 4\n",
    "ss = Solution()\n",
    "ss.twoSum(nums, target)"
   ]
  },
  {
   "cell_type": "code",
   "execution_count": 56,
   "id": "8881b866-5ce6-466c-ac29-53eaa4562f40",
   "metadata": {
    "execution": {
     "iopub.execute_input": "2024-01-11T17:22:53.498557Z",
     "iopub.status.busy": "2024-01-11T17:22:53.497477Z",
     "iopub.status.idle": "2024-01-11T17:22:53.508940Z",
     "shell.execute_reply": "2024-01-11T17:22:53.507940Z",
     "shell.execute_reply.started": "2024-01-11T17:22:53.498557Z"
    }
   },
   "outputs": [
    {
     "data": {
      "text/plain": [
       "'No solution'"
      ]
     },
     "execution_count": 56,
     "metadata": {},
     "output_type": "execute_result"
    }
   ],
   "source": [
    "nums = [2, 1, 3, 15]\n",
    "target = 19\n",
    "ss = Solution()\n",
    "ss.twoSum(nums, target)"
   ]
  },
  {
   "cell_type": "markdown",
   "id": "60c193ea-b35e-4b72-9161-992f9033e682",
   "metadata": {},
   "source": [
    "**M-2**"
   ]
  },
  {
   "cell_type": "code",
   "execution_count": 58,
   "id": "a5dac8df-824c-4ffd-ac90-aaac53ab3592",
   "metadata": {
    "execution": {
     "iopub.execute_input": "2024-01-11T17:25:29.727773Z",
     "iopub.status.busy": "2024-01-11T17:25:29.727273Z",
     "iopub.status.idle": "2024-01-11T17:25:29.737271Z",
     "shell.execute_reply": "2024-01-11T17:25:29.735771Z",
     "shell.execute_reply.started": "2024-01-11T17:25:29.727773Z"
    }
   },
   "outputs": [],
   "source": [
    "class Solution:\n",
    "    def twoSum(self, nums: List[int], target: int) -> List[int]:\n",
    "        numMap = {}\n",
    "        n = len(nums)\n",
    "\n",
    "        # Build the hash table\n",
    "        for i in range(n):\n",
    "            numMap[nums[i]] = i\n",
    "\n",
    "        # Find the complement\n",
    "        for i in range(n):\n",
    "            complement = target - nums[i]\n",
    "            if complement in numMap and numMap[complement] != i:\n",
    "                return [i, numMap[complement]]\n",
    "\n",
    "        return []  # No solution found"
   ]
  },
  {
   "cell_type": "code",
   "execution_count": 59,
   "id": "4020470e",
   "metadata": {
    "execution": {
     "iopub.execute_input": "2024-01-11T17:25:30.229198Z",
     "iopub.status.busy": "2024-01-11T17:25:30.228204Z",
     "iopub.status.idle": "2024-01-11T17:25:30.253005Z",
     "shell.execute_reply": "2024-01-11T17:25:30.250204Z",
     "shell.execute_reply.started": "2024-01-11T17:25:30.229198Z"
    }
   },
   "outputs": [
    {
     "data": {
      "text/plain": [
       "[]"
      ]
     },
     "execution_count": 59,
     "metadata": {},
     "output_type": "execute_result"
    }
   ],
   "source": [
    "nums = [2, 1, 3, 15]\n",
    "target = 19\n",
    "ss = Solution()\n",
    "ss.twoSum(nums, target)"
   ]
  },
  {
   "cell_type": "code",
   "execution_count": 60,
   "id": "76dec17e",
   "metadata": {
    "execution": {
     "iopub.execute_input": "2024-01-11T17:25:31.453644Z",
     "iopub.status.busy": "2024-01-11T17:25:31.452645Z",
     "iopub.status.idle": "2024-01-11T17:25:31.478181Z",
     "shell.execute_reply": "2024-01-11T17:25:31.474905Z",
     "shell.execute_reply.started": "2024-01-11T17:25:31.453644Z"
    }
   },
   "outputs": [
    {
     "data": {
      "text/plain": [
       "[0, 2]"
      ]
     },
     "execution_count": 60,
     "metadata": {},
     "output_type": "execute_result"
    }
   ],
   "source": [
    "nums = [2, 1, 2, 15]\n",
    "target = 4\n",
    "ss = Solution()\n",
    "ss.twoSum(nums, target)"
   ]
  },
  {
   "cell_type": "markdown",
   "id": "4426230a-ac2d-4ee6-becc-1406e92eb138",
   "metadata": {},
   "source": [
    "**M-3**"
   ]
  },
  {
   "cell_type": "code",
   "execution_count": 12,
   "id": "9a2f4634-c146-4094-aead-e52107c1f401",
   "metadata": {
    "execution": {
     "iopub.execute_input": "2024-01-11T17:34:10.173490Z",
     "iopub.status.busy": "2024-01-11T17:34:10.172991Z",
     "iopub.status.idle": "2024-01-11T17:34:10.185842Z",
     "shell.execute_reply": "2024-01-11T17:34:10.185698Z",
     "shell.execute_reply.started": "2024-01-11T17:34:10.172991Z"
    }
   },
   "outputs": [],
   "source": [
    "import copy\n",
    "from typing import List\n",
    "\n",
    "\n",
    "class Solution:\n",
    "    def twoSum2(self, nums: List[int], target: int) -> List[int]:\n",
    "        numMap = {}\n",
    "        n = len(nums)\n",
    "        # print(numMap)\n",
    "        for i in range(n):\n",
    "            complement = target - nums[i]\n",
    "            # print(numMap)\n",
    "            if complement in numMap:\n",
    "                return [numMap[complement], i]\n",
    "            numMap[nums[i]] = i\n",
    "\n",
    "        return []  # No solution found"
   ]
  },
  {
   "cell_type": "code",
   "execution_count": 13,
   "id": "aa4f077e",
   "metadata": {
    "execution": {
     "iopub.execute_input": "2024-01-11T17:34:10.456770Z",
     "iopub.status.busy": "2024-01-11T17:34:10.455568Z",
     "iopub.status.idle": "2024-01-11T17:34:10.465327Z",
     "shell.execute_reply": "2024-01-11T17:34:10.463815Z",
     "shell.execute_reply.started": "2024-01-11T17:34:10.456770Z"
    }
   },
   "outputs": [
    {
     "data": {
      "text/plain": [
       "[2, 3]"
      ]
     },
     "execution_count": 13,
     "metadata": {},
     "output_type": "execute_result"
    }
   ],
   "source": [
    "nums = [2, 1, 2, 15]\n",
    "target = 17\n",
    "ss = Solution()\n",
    "ss.twoSum2(nums, target)"
   ]
  },
  {
   "cell_type": "code",
   "execution_count": 14,
   "id": "579a6469",
   "metadata": {
    "execution": {
     "iopub.execute_input": "2024-01-11T17:34:14.301631Z",
     "iopub.status.busy": "2024-01-11T17:34:14.300671Z",
     "iopub.status.idle": "2024-01-11T17:34:14.323092Z",
     "shell.execute_reply": "2024-01-11T17:34:14.321288Z",
     "shell.execute_reply.started": "2024-01-11T17:34:14.301631Z"
    }
   },
   "outputs": [
    {
     "data": {
      "text/plain": [
       "[]"
      ]
     },
     "execution_count": 14,
     "metadata": {},
     "output_type": "execute_result"
    }
   ],
   "source": [
    "nums = [2, 1, 3, 15]\n",
    "target = 19\n",
    "ss = Solution()\n",
    "ss.twoSum2(nums, target)"
   ]
  },
  {
   "cell_type": "code",
   "execution_count": null,
   "id": "31cf3166-a8c5-414e-b3d4-ba95d6860e4f",
   "metadata": {},
   "outputs": [],
   "source": []
  },
  {
   "cell_type": "markdown",
   "id": "a28403e4-f054-46b4-bbea-2245c73c6da6",
   "metadata": {},
   "source": [
    "### Group Anagrams"
   ]
  },
  {
   "cell_type": "markdown",
   "id": "61f6eb48-df82-4b1b-8746-905000007be0",
   "metadata": {},
   "source": [
    "Given an array of strings strs, group the anagrams together. You can return the answer in any order.\n",
    "\n",
    "An **Anagram** is a word or phrase formed by rearranging the letters of a different word or phrase, typically using all the original letters exactly once.\n",
    "\n",
    " \n",
    "\n",
    "Example 1:\n",
    "```\n",
    "Input: strs = [\"eat\",\"tea\",\"tan\",\"ate\",\"nat\",\"bat\"]\n",
    "Output: [[\"bat\"],[\"nat\",\"tan\"],[\"ate\",\"eat\",\"tea\"]]\n",
    "```\n",
    "\n",
    "Example 2:\n",
    "```\n",
    "Input: strs = [\"\"]\n",
    "Output: [[\"\"]]\n",
    "```\n",
    "Example 3:\n",
    "```\n",
    "Input: strs = [\"a\"]\n",
    "Output: [[\"a\"]]\n",
    "```\n",
    "\n",
    "Constraints:\n",
    "```\n",
    "1 <= strs.length <= 104\n",
    "0 <= strs[i].length <= 100\n",
    "```\n",
    "`strs[i]` consists of lowercase English letters."
   ]
  },
  {
   "cell_type": "markdown",
   "id": "cc6d7a93-b66d-4a87-a56d-f35ee759eec4",
   "metadata": {},
   "source": [
    "**M-1**"
   ]
  },
  {
   "cell_type": "code",
   "execution_count": 21,
   "id": "9015a34d-5f01-467e-bc45-e2bb9a12dfcb",
   "metadata": {
    "execution": {
     "iopub.execute_input": "2024-01-11T18:29:33.820151Z",
     "iopub.status.busy": "2024-01-11T18:29:33.819652Z",
     "iopub.status.idle": "2024-01-11T18:29:33.831647Z",
     "shell.execute_reply": "2024-01-11T18:29:33.830431Z",
     "shell.execute_reply.started": "2024-01-11T18:29:33.820151Z"
    }
   },
   "outputs": [],
   "source": [
    "import collections\n",
    "from typing import List\n",
    "\n",
    "\n",
    "class Solution:\n",
    "    def groupAnagrams(self, strs: List[str]) -> List[List[str]]:\n",
    "        diction = {}\n",
    "        for ele in strs:\n",
    "            ke = \"\".join(sorted(ele))\n",
    "            if ke in diction:\n",
    "                diction[ke].append(ele)\n",
    "            else:\n",
    "                diction[ke] = [ele]\n",
    "        lis = []\n",
    "        for key in diction:\n",
    "            lis.append(diction[key])\n",
    "        return lis"
   ]
  },
  {
   "cell_type": "code",
   "execution_count": 22,
   "id": "e8aa386c-5319-44bc-abbe-d649a8e74857",
   "metadata": {
    "execution": {
     "iopub.execute_input": "2024-01-11T18:29:34.286892Z",
     "iopub.status.busy": "2024-01-11T18:29:34.286892Z",
     "iopub.status.idle": "2024-01-11T18:29:34.293840Z",
     "shell.execute_reply": "2024-01-11T18:29:34.293340Z",
     "shell.execute_reply.started": "2024-01-11T18:29:34.286892Z"
    }
   },
   "outputs": [
    {
     "data": {
      "text/plain": [
       "[['eat', 'tea', 'ate'], ['tan', 'nat'], ['bat']]"
      ]
     },
     "execution_count": 22,
     "metadata": {},
     "output_type": "execute_result"
    }
   ],
   "source": [
    "strs = [\"eat\", \"tea\", \"tan\", \"ate\", \"nat\", \"bat\"]\n",
    "ss = Solution()\n",
    "ss.groupAnagrams(strs)"
   ]
  },
  {
   "cell_type": "code",
   "execution_count": 23,
   "id": "292d0d48-c203-4152-8b6f-0581a4b7b563",
   "metadata": {
    "execution": {
     "iopub.execute_input": "2024-01-11T18:29:34.708072Z",
     "iopub.status.busy": "2024-01-11T18:29:34.707391Z",
     "iopub.status.idle": "2024-01-11T18:29:34.721719Z",
     "shell.execute_reply": "2024-01-11T18:29:34.721532Z",
     "shell.execute_reply.started": "2024-01-11T18:29:34.708072Z"
    }
   },
   "outputs": [
    {
     "data": {
      "text/plain": [
       "[]"
      ]
     },
     "execution_count": 23,
     "metadata": {},
     "output_type": "execute_result"
    }
   ],
   "source": [
    "strs = []\n",
    "ss = Solution()\n",
    "ss.groupAnagrams(strs)"
   ]
  },
  {
   "cell_type": "code",
   "execution_count": 24,
   "id": "492e98e8-80dc-47bd-bfd2-cb71be4559a5",
   "metadata": {
    "execution": {
     "iopub.execute_input": "2024-01-11T18:29:35.275245Z",
     "iopub.status.busy": "2024-01-11T18:29:35.275245Z",
     "iopub.status.idle": "2024-01-11T18:29:35.283374Z",
     "shell.execute_reply": "2024-01-11T18:29:35.283374Z",
     "shell.execute_reply.started": "2024-01-11T18:29:35.275245Z"
    }
   },
   "outputs": [
    {
     "data": {
      "text/plain": [
       "[['c']]"
      ]
     },
     "execution_count": 24,
     "metadata": {},
     "output_type": "execute_result"
    }
   ],
   "source": [
    "strs = [\"c\"]\n",
    "ss = Solution()\n",
    "ss.groupAnagrams(strs)"
   ]
  },
  {
   "cell_type": "markdown",
   "id": "c5bf7f42-2b74-4fa9-a72d-870f70ea297c",
   "metadata": {},
   "source": [
    "**M-2**"
   ]
  },
  {
   "cell_type": "code",
   "execution_count": 4,
   "id": "2a2c83ee-c673-4d62-93bd-bc9b7c5d7c8a",
   "metadata": {
    "execution": {
     "iopub.execute_input": "2024-01-11T18:31:36.874987Z",
     "iopub.status.busy": "2024-01-11T18:31:36.873616Z",
     "iopub.status.idle": "2024-01-11T18:31:36.887001Z",
     "shell.execute_reply": "2024-01-11T18:31:36.886069Z",
     "shell.execute_reply.started": "2024-01-11T18:31:36.874623Z"
    }
   },
   "outputs": [],
   "source": [
    "import collections\n",
    "\n",
    "\n",
    "class Solution:\n",
    "    def groupAnagrams(self, strs):\n",
    "        anagram_map = collections.defaultdict(list)\n",
    "\n",
    "        for word in strs:\n",
    "            sorted_word = \"\".join(sorted(word))\n",
    "            anagram_map[sorted_word].append(word)\n",
    "\n",
    "        return list(anagram_map.values())"
   ]
  },
  {
   "cell_type": "code",
   "execution_count": 5,
   "id": "58a3e2bb-61d1-47cd-8930-c48cc597b49c",
   "metadata": {
    "execution": {
     "iopub.execute_input": "2024-01-11T18:31:37.383351Z",
     "iopub.status.busy": "2024-01-11T18:31:37.383351Z",
     "iopub.status.idle": "2024-01-11T18:31:37.400503Z",
     "shell.execute_reply": "2024-01-11T18:31:37.400001Z",
     "shell.execute_reply.started": "2024-01-11T18:31:37.383351Z"
    }
   },
   "outputs": [
    {
     "data": {
      "text/plain": [
       "[['eat', 'tea', 'ate'], ['tan', 'nat'], ['bat']]"
      ]
     },
     "execution_count": 5,
     "metadata": {},
     "output_type": "execute_result"
    }
   ],
   "source": [
    "strs = [\"eat\", \"tea\", \"tan\", \"ate\", \"nat\", \"bat\"]\n",
    "ss = Solution()\n",
    "ss.groupAnagrams(strs)"
   ]
  },
  {
   "cell_type": "markdown",
   "id": "5683e7bf-8728-4901-995c-0c0ff38d3597",
   "metadata": {},
   "source": [
    "### Top K Frequent Elements"
   ]
  },
  {
   "cell_type": "markdown",
   "id": "83536a1f-3a58-4b06-94e4-3e59a3dc099e",
   "metadata": {},
   "source": [
    "Given an integer array nums and an integer k, return the k most frequent elements. You may return the answer in any order.\n",
    "\n",
    "Example 1:\n",
    "```\n",
    "Input: nums = [1,1,1,2,2,3], k = 2\n",
    "Output: [1,2]\n",
    "```\n",
    "Example 2:\n",
    "```\n",
    "Input: nums = [1], k = 1\n",
    "Output: [1]\n",
    "```\n",
    "\n",
    "Constraints:\n",
    "```\n",
    "1 <= nums.length <= 105\n",
    "-104 <= nums[i] <= 104\n",
    "```\n",
    "`k` is in the range `[1, the number of unique elements in the array]`.\n",
    "It is guaranteed that the answer is unique.\n",
    " \n",
    "\n",
    "Follow up: Your algorithm's time complexity must be better than `O(n log n)`, where n is the array's size."
   ]
  },
  {
   "cell_type": "markdown",
   "id": "9282499d-4ffe-42ec-bd04-969f6f068762",
   "metadata": {},
   "source": [
    "**M-1**"
   ]
  },
  {
   "cell_type": "code",
   "execution_count": 55,
   "id": "7ca6b1a3-6fb0-4e09-85bb-b935af7781fc",
   "metadata": {
    "execution": {
     "iopub.execute_input": "2024-01-11T19:38:32.251510Z",
     "iopub.status.busy": "2024-01-11T19:38:32.250509Z",
     "iopub.status.idle": "2024-01-11T19:38:32.259908Z",
     "shell.execute_reply": "2024-01-11T19:38:32.258786Z",
     "shell.execute_reply.started": "2024-01-11T19:38:32.251510Z"
    }
   },
   "outputs": [],
   "source": [
    "from typing import List\n",
    "\n",
    "\n",
    "class Solution:\n",
    "    def topKFrequent(self, nums: List[int], k: int) -> list[int]:\n",
    "        uniq_num = list(set(nums))\n",
    "\n",
    "        num_list = []\n",
    "        for num in uniq_num:\n",
    "            freq = nums.count(num)\n",
    "            num_list.append((freq, num))\n",
    "\n",
    "        num_list.sort(reverse=True)\n",
    "\n",
    "        return [num_list[i][1] for i in range(k)]"
   ]
  },
  {
   "cell_type": "code",
   "execution_count": 56,
   "id": "28361f11-192a-488a-b0eb-197e9f56f75e",
   "metadata": {
    "execution": {
     "iopub.execute_input": "2024-01-11T19:38:32.675001Z",
     "iopub.status.busy": "2024-01-11T19:38:32.674004Z",
     "iopub.status.idle": "2024-01-11T19:38:32.698920Z",
     "shell.execute_reply": "2024-01-11T19:38:32.694913Z",
     "shell.execute_reply.started": "2024-01-11T19:38:32.675001Z"
    }
   },
   "outputs": [
    {
     "data": {
      "text/plain": [
       "[2, 1, 5]"
      ]
     },
     "execution_count": 56,
     "metadata": {},
     "output_type": "execute_result"
    }
   ],
   "source": [
    "nums = [1, 1, 1, 2, 2, 2, 2, 5, 5]\n",
    "ss = Solution()\n",
    "dd = ss.topKFrequent(nums, 3)\n",
    "dd"
   ]
  },
  {
   "cell_type": "markdown",
   "id": "cec39f16-3e21-4d11-a5c0-4a25d50081a7",
   "metadata": {},
   "source": [
    "**M-2**"
   ]
  },
  {
   "cell_type": "code",
   "execution_count": 78,
   "id": "6947a05b",
   "metadata": {
    "execution": {
     "iopub.execute_input": "2024-01-11T19:47:59.193184Z",
     "iopub.status.busy": "2024-01-11T19:47:59.193184Z",
     "iopub.status.idle": "2024-01-11T19:47:59.210126Z",
     "shell.execute_reply": "2024-01-11T19:47:59.209128Z",
     "shell.execute_reply.started": "2024-01-11T19:47:59.193184Z"
    }
   },
   "outputs": [],
   "source": [
    "from typing import List\n",
    "\n",
    "\n",
    "class Solution:\n",
    "    def topKFrequent(self, nums: List[int], k: int) -> List[int]:\n",
    "        orb = {}\n",
    "\n",
    "        for i in nums:\n",
    "            if i in orb:\n",
    "                orb[i] += 1\n",
    "            else:\n",
    "                orb[i] = 1\n",
    "\n",
    "        sorted_orb = sorted(orb, key=orb.get, reverse=True)\n",
    "\n",
    "        return sorted_orb[:k]"
   ]
  },
  {
   "cell_type": "code",
   "execution_count": 79,
   "id": "be02386a",
   "metadata": {
    "execution": {
     "iopub.execute_input": "2024-01-11T19:47:59.494301Z",
     "iopub.status.busy": "2024-01-11T19:47:59.494099Z",
     "iopub.status.idle": "2024-01-11T19:47:59.515253Z",
     "shell.execute_reply": "2024-01-11T19:47:59.513815Z",
     "shell.execute_reply.started": "2024-01-11T19:47:59.494301Z"
    }
   },
   "outputs": [
    {
     "data": {
      "text/plain": [
       "[2, 1, 5]"
      ]
     },
     "execution_count": 79,
     "metadata": {},
     "output_type": "execute_result"
    }
   ],
   "source": [
    "nums = [1, 1, 1, 2, 2, 2, 2, 5, 5]\n",
    "ss = Solution()\n",
    "dd = ss.topKFrequent(nums, 3)\n",
    "dd"
   ]
  },
  {
   "cell_type": "markdown",
   "id": "07a90336-43eb-4b77-a80d-372abb20f86f",
   "metadata": {},
   "source": [
    "**M-3** Heap"
   ]
  },
  {
   "cell_type": "code",
   "execution_count": 90,
   "id": "107b4dbd-d4ca-4916-9acf-3d738e085290",
   "metadata": {
    "execution": {
     "iopub.execute_input": "2024-01-11T19:58:57.464348Z",
     "iopub.status.busy": "2024-01-11T19:58:57.461848Z",
     "iopub.status.idle": "2024-01-11T19:58:57.514372Z",
     "shell.execute_reply": "2024-01-11T19:58:57.512159Z",
     "shell.execute_reply.started": "2024-01-11T19:58:57.464348Z"
    }
   },
   "outputs": [],
   "source": [
    "import heapq\n",
    "\n",
    "\n",
    "class Solution:\n",
    "    def topKFrequent(self, nums: List[int], k: int) -> List[int]:\n",
    "        # Step 1: Count the frequency of each element using a hash map\n",
    "        freq = {}\n",
    "        for num in nums:\n",
    "            freq[num] = freq.get(num, 0) + 1\n",
    "\n",
    "        # Step 2: Use a min-heap to store the top k frequent elements\n",
    "        heap = []\n",
    "        for num, count in freq.items():\n",
    "            if len(heap) < k:\n",
    "                heapq.heappush(heap, (count, num))\n",
    "            elif count > heap[0][0]:\n",
    "                heapq.heappop(heap)\n",
    "                heapq.heappush(heap, (count, num))\n",
    "\n",
    "        # Step 3: Return the elements in the heap\n",
    "        return [num for count, num in heap]"
   ]
  },
  {
   "cell_type": "code",
   "execution_count": 91,
   "id": "7c18258d",
   "metadata": {
    "execution": {
     "iopub.execute_input": "2024-01-11T19:58:57.964717Z",
     "iopub.status.busy": "2024-01-11T19:58:57.964717Z",
     "iopub.status.idle": "2024-01-11T19:58:57.989907Z",
     "shell.execute_reply": "2024-01-11T19:58:57.985825Z",
     "shell.execute_reply.started": "2024-01-11T19:58:57.964717Z"
    }
   },
   "outputs": [
    {
     "data": {
      "text/plain": [
       "[5, 2, 1]"
      ]
     },
     "execution_count": 91,
     "metadata": {},
     "output_type": "execute_result"
    }
   ],
   "source": [
    "nums = [1, 1, 1, 2, 2, 2, 2, 5, 5]\n",
    "ss = Solution()\n",
    "dd = ss.topKFrequent(nums, 3)\n",
    "dd"
   ]
  },
  {
   "cell_type": "markdown",
   "id": "daf3a0e9-a865-4f8d-8238-4f0a98800e4c",
   "metadata": {},
   "source": [
    "### Product of Array Except Self"
   ]
  },
  {
   "cell_type": "markdown",
   "id": "b10a8e7c-3d48-48e9-899d-967b666ad828",
   "metadata": {},
   "source": [
    "Given an integer array nums, return an array answer such that `answer[i]` is equal to the product of all the elements of nums except `nums[i]`.\n",
    "\n",
    "The product of any prefix or suffix of nums is guaranteed to fit in a 32-bit integer.\n",
    "\n",
    "You must write an algorithm that runs in `O(n)` time and without using the division operation.\n",
    "\n",
    " \n",
    "\n",
    "Example 1:\n",
    "```\n",
    "Input: nums = [1,2,3,4]\n",
    "Output: [24,12,8,6]\n",
    "```\n",
    "Example 2:\n",
    "```\n",
    "Input: nums = [-1,1,0,-3,3]\n",
    "Output: [0,0,9,0,0]\n",
    "```\n",
    "\n",
    "Constraints:\n",
    "```\n",
    "2 <= nums.length <= 105\n",
    "-30 <= nums[i] <= 30\n",
    "```\n",
    "The product of any prefix or suffix of nums is guaranteed to fit in a 32-bit integer.\n",
    " \n",
    "\n",
    "Follow up: Can you solve the problem in `O(1)` extra space complexity? (The output array does not count as extra space for space complexity analysis.)"
   ]
  },
  {
   "cell_type": "markdown",
   "id": "7234ebc0-1f6c-4d0c-a8ee-12e2e9c7d981",
   "metadata": {},
   "source": [
    "**M-1**"
   ]
  },
  {
   "cell_type": "code",
   "execution_count": 80,
   "id": "55515935-56d1-408a-866c-a98d84de3215",
   "metadata": {
    "execution": {
     "iopub.execute_input": "2024-01-11T21:36:15.485168Z",
     "iopub.status.busy": "2024-01-11T21:36:15.483167Z",
     "iopub.status.idle": "2024-01-11T21:36:15.493472Z",
     "shell.execute_reply": "2024-01-11T21:36:15.492169Z",
     "shell.execute_reply.started": "2024-01-11T21:36:15.485168Z"
    }
   },
   "outputs": [],
   "source": [
    "# import copy\n",
    "from typing import List\n",
    "\n",
    "\n",
    "class Solution:\n",
    "    def productExceptSelf(self, nums: List[int]) -> List[int]:\n",
    "        out = []\n",
    "        le = len(nums)\n",
    "        # num2 = copy.deepcopy(nums)\n",
    "        for i in range(le):\n",
    "            mul = 1\n",
    "            for j in range(le):\n",
    "                if j != i:\n",
    "                    mul = mul * nums[j]\n",
    "                pass\n",
    "\n",
    "            out.append(mul)\n",
    "\n",
    "        return out"
   ]
  },
  {
   "cell_type": "code",
   "execution_count": 81,
   "id": "4f080fe5-2a83-495b-860e-063f68af4868",
   "metadata": {
    "execution": {
     "iopub.execute_input": "2024-01-11T21:36:15.940524Z",
     "iopub.status.busy": "2024-01-11T21:36:15.940524Z",
     "iopub.status.idle": "2024-01-11T21:36:15.945578Z",
     "shell.execute_reply": "2024-01-11T21:36:15.945578Z",
     "shell.execute_reply.started": "2024-01-11T21:36:15.940524Z"
    }
   },
   "outputs": [
    {
     "data": {
      "text/plain": [
       "[24, 12, 8, 6]"
      ]
     },
     "execution_count": 81,
     "metadata": {},
     "output_type": "execute_result"
    }
   ],
   "source": [
    "nums = [1, 2, 3, 4]\n",
    "ss = Solution()\n",
    "ss.productExceptSelf(nums)"
   ]
  },
  {
   "cell_type": "code",
   "execution_count": 82,
   "id": "3a874b60-75d9-493e-9706-a748b8b340cf",
   "metadata": {
    "execution": {
     "iopub.execute_input": "2024-01-11T21:36:16.601209Z",
     "iopub.status.busy": "2024-01-11T21:36:16.601209Z",
     "iopub.status.idle": "2024-01-11T21:36:16.606345Z",
     "shell.execute_reply": "2024-01-11T21:36:16.606211Z",
     "shell.execute_reply.started": "2024-01-11T21:36:16.601209Z"
    }
   },
   "outputs": [
    {
     "data": {
      "text/plain": [
       "[1536, 768, 512, 384, -384, -384, 384]"
      ]
     },
     "execution_count": 82,
     "metadata": {},
     "output_type": "execute_result"
    }
   ],
   "source": [
    "nums = [1, 2, 3, 4, -4, -4, 4]\n",
    "ss = Solution()\n",
    "ss.productExceptSelf(nums)"
   ]
  },
  {
   "cell_type": "markdown",
   "id": "d897bcc4-5764-40bb-a5ee-b526f8f69f1c",
   "metadata": {},
   "source": [
    "**M-2**"
   ]
  },
  {
   "cell_type": "code",
   "execution_count": 32,
   "id": "18c6f106-a7e9-4e4e-bb85-7604e41ba204",
   "metadata": {
    "execution": {
     "iopub.execute_input": "2024-01-12T18:55:15.408487Z",
     "iopub.status.busy": "2024-01-12T18:55:15.407900Z",
     "iopub.status.idle": "2024-01-12T18:55:15.431215Z",
     "shell.execute_reply": "2024-01-12T18:55:15.429569Z",
     "shell.execute_reply.started": "2024-01-12T18:55:15.408487Z"
    }
   },
   "outputs": [],
   "source": [
    "import copy\n",
    "from functools import reduce\n",
    "from typing import List\n",
    "\n",
    "\n",
    "class Solution:\n",
    "    def productExceptSelf(self, nums: List[int]) -> List[int]:\n",
    "        out = []\n",
    "        for ele in nums:\n",
    "            num2 = copy.deepcopy(nums)\n",
    "            num2.remove(ele)\n",
    "            mul = lambda a, b: a * b\n",
    "            mult = reduce(mul, num2)\n",
    "            out.append(mult)\n",
    "        return out"
   ]
  },
  {
   "cell_type": "code",
   "execution_count": 33,
   "id": "5288f650",
   "metadata": {
    "execution": {
     "iopub.execute_input": "2024-01-12T18:55:16.145715Z",
     "iopub.status.busy": "2024-01-12T18:55:16.144715Z",
     "iopub.status.idle": "2024-01-12T18:55:16.154604Z",
     "shell.execute_reply": "2024-01-12T18:55:16.153613Z",
     "shell.execute_reply.started": "2024-01-12T18:55:16.145715Z"
    }
   },
   "outputs": [
    {
     "data": {
      "text/plain": [
       "[24, 12, 8, 6]"
      ]
     },
     "execution_count": 33,
     "metadata": {},
     "output_type": "execute_result"
    }
   ],
   "source": [
    "nums = [1, 2, 3, 4]\n",
    "ss = Solution()\n",
    "ss.productExceptSelf(nums)"
   ]
  },
  {
   "cell_type": "code",
   "execution_count": 34,
   "id": "a9c42da0-bedf-44b3-b39a-a65cb6804597",
   "metadata": {
    "execution": {
     "iopub.execute_input": "2024-01-12T18:55:24.057046Z",
     "iopub.status.busy": "2024-01-12T18:55:24.056047Z",
     "iopub.status.idle": "2024-01-12T18:55:24.073134Z",
     "shell.execute_reply": "2024-01-12T18:55:24.071095Z",
     "shell.execute_reply.started": "2024-01-12T18:55:24.057046Z"
    }
   },
   "outputs": [
    {
     "data": {
      "text/plain": [
       "[1536, 768, 512, 384, -384, -384, 384]"
      ]
     },
     "execution_count": 34,
     "metadata": {},
     "output_type": "execute_result"
    }
   ],
   "source": [
    "nums = [1, 2, 3, 4, -4, -4, 4]\n",
    "ss = Solution()\n",
    "ss.productExceptSelf(nums)"
   ]
  },
  {
   "cell_type": "markdown",
   "id": "efef0fb5-e952-4557-a7ce-39f85508034a",
   "metadata": {},
   "source": [
    "**M-3**"
   ]
  },
  {
   "cell_type": "code",
   "execution_count": 41,
   "id": "0581bcf0-46a1-4b30-8d76-0bae833bc916",
   "metadata": {
    "execution": {
     "iopub.execute_input": "2024-01-12T18:57:08.726093Z",
     "iopub.status.busy": "2024-01-12T18:57:08.722428Z",
     "iopub.status.idle": "2024-01-12T18:57:08.737935Z",
     "shell.execute_reply": "2024-01-12T18:57:08.733674Z",
     "shell.execute_reply.started": "2024-01-12T18:57:08.725593Z"
    }
   },
   "outputs": [],
   "source": [
    "class Solution:\n",
    "    def productExceptSelf(self, nums: List[int]) -> List[int]:\n",
    "        length = len(nums)\n",
    "        sol = [1] * length\n",
    "        pre = 1\n",
    "        post = 1\n",
    "        for i in range(length):\n",
    "            sol[i] *= pre\n",
    "            pre = pre * nums[i]\n",
    "            sol[length - i - 1] *= post\n",
    "            post = post * nums[length - i - 1]\n",
    "        return sol"
   ]
  },
  {
   "cell_type": "code",
   "execution_count": null,
   "id": "5adbf14f-7165-41ab-a33f-92da9e8323f8",
   "metadata": {},
   "outputs": [],
   "source": []
  },
  {
   "cell_type": "code",
   "execution_count": 42,
   "id": "c4f69083-b9e3-43d6-9571-08c1ece98eea",
   "metadata": {
    "execution": {
     "iopub.execute_input": "2024-01-12T18:57:09.695970Z",
     "iopub.status.busy": "2024-01-12T18:57:09.693969Z",
     "iopub.status.idle": "2024-01-12T18:57:09.713585Z",
     "shell.execute_reply": "2024-01-12T18:57:09.712085Z",
     "shell.execute_reply.started": "2024-01-12T18:57:09.695970Z"
    }
   },
   "outputs": [
    {
     "data": {
      "text/plain": [
       "[1536, 768, 512, 384, -384, -384, 384]"
      ]
     },
     "execution_count": 42,
     "metadata": {},
     "output_type": "execute_result"
    }
   ],
   "source": [
    "nums = [1, 2, 3, 4, -4, -4, 4]\n",
    "ss = Solution()\n",
    "ss.productExceptSelf(nums)"
   ]
  },
  {
   "cell_type": "code",
   "execution_count": 43,
   "id": "ca7ef182",
   "metadata": {
    "execution": {
     "iopub.execute_input": "2024-01-12T18:57:10.302484Z",
     "iopub.status.busy": "2024-01-12T18:57:10.300975Z",
     "iopub.status.idle": "2024-01-12T18:57:10.332950Z",
     "shell.execute_reply": "2024-01-12T18:57:10.330692Z",
     "shell.execute_reply.started": "2024-01-12T18:57:10.302484Z"
    }
   },
   "outputs": [
    {
     "data": {
      "text/plain": [
       "[24, 12, 8, 6]"
      ]
     },
     "execution_count": 43,
     "metadata": {},
     "output_type": "execute_result"
    }
   ],
   "source": [
    "nums = [1, 2, 3, 4]\n",
    "ss = Solution()\n",
    "ss.productExceptSelf(nums)"
   ]
  },
  {
   "cell_type": "code",
   "execution_count": 44,
   "id": "70e0f11c",
   "metadata": {
    "execution": {
     "iopub.execute_input": "2024-01-12T18:57:11.654804Z",
     "iopub.status.busy": "2024-01-12T18:57:11.653804Z",
     "iopub.status.idle": "2024-01-12T18:57:11.675772Z",
     "shell.execute_reply": "2024-01-12T18:57:11.672140Z",
     "shell.execute_reply.started": "2024-01-12T18:57:11.654804Z"
    }
   },
   "outputs": [],
   "source": [
    "from typing import List\n",
    "\n",
    "\n",
    "class Solution:\n",
    "    def productExceptSelf(self, nums: List[int]) -> List[int]:\n",
    "        length = len(nums)\n",
    "        solu = [1] * length\n",
    "        pre = 1\n",
    "        post = 1\n",
    "\n",
    "        for i in range(length):\n",
    "            solu[i] = solu[i] * pre\n",
    "            pre = pre * nums[i]\n",
    "\n",
    "            solu[-1 - i] = post * solu[-1 - i]\n",
    "            post = post * nums[-1 - i]\n",
    "\n",
    "        return solu"
   ]
  },
  {
   "cell_type": "code",
   "execution_count": 45,
   "id": "d197df63",
   "metadata": {
    "execution": {
     "iopub.execute_input": "2024-01-12T18:57:12.005725Z",
     "iopub.status.busy": "2024-01-12T18:57:12.004711Z",
     "iopub.status.idle": "2024-01-12T18:57:12.024832Z",
     "shell.execute_reply": "2024-01-12T18:57:12.023145Z",
     "shell.execute_reply.started": "2024-01-12T18:57:12.004711Z"
    }
   },
   "outputs": [
    {
     "data": {
      "text/plain": [
       "[24, 12, 8, 6]"
      ]
     },
     "execution_count": 45,
     "metadata": {},
     "output_type": "execute_result"
    }
   ],
   "source": [
    "nums = [1, 2, 3, 4]\n",
    "ss = Solution()\n",
    "ss.productExceptSelf(nums)"
   ]
  },
  {
   "cell_type": "code",
   "execution_count": 46,
   "id": "a6b733b4-1d10-4a34-be83-2990ac7726a8",
   "metadata": {
    "execution": {
     "iopub.execute_input": "2024-01-12T18:57:12.578796Z",
     "iopub.status.busy": "2024-01-12T18:57:12.577797Z",
     "iopub.status.idle": "2024-01-12T18:57:12.603742Z",
     "shell.execute_reply": "2024-01-12T18:57:12.597216Z",
     "shell.execute_reply.started": "2024-01-12T18:57:12.578796Z"
    }
   },
   "outputs": [
    {
     "data": {
      "text/plain": [
       "[0, 0, 0, 0, 0, 0]"
      ]
     },
     "execution_count": 46,
     "metadata": {},
     "output_type": "execute_result"
    }
   ],
   "source": [
    "nums = [1, 2, 3, 4, 0, 0]\n",
    "ss = Solution()\n",
    "ss.productExceptSelf(nums)"
   ]
  },
  {
   "cell_type": "markdown",
   "id": "96d75440-0f5d-454f-9d48-20506ad7104d",
   "metadata": {},
   "source": [
    "### Valid Sudoku"
   ]
  },
  {
   "cell_type": "markdown",
   "id": "c6a6b262-c22b-4bf9-acaa-4c0178b9dcac",
   "metadata": {},
   "source": [
    "Determine if a `9 x 9` Sudoku board is valid. Only the filled cells need to be validated according to the following rules:\n",
    "\n",
    "Each row must contain the digits `1-9` without repetition.\n",
    "Each column must contain the digits `1-9` without repetition.\n",
    "Each of the nine `3 x 3` sub-boxes of the grid must contain the digits `1-9` without repetition.\n",
    "Note:\n",
    "\n",
    "A Sudoku board (partially filled) could be valid but is not necessarily solvable.\n",
    "Only the filled cells need to be validated according to the mentioned rules.\n",
    " \n",
    "\n",
    "Example 1:\n",
    "\n",
    "```\n",
    "Input: board = \n",
    "[[\"5\",\"3\",\".\",\".\",\"7\",\".\",\".\",\".\",\".\"]\n",
    ",[\"6\",\".\",\".\",\"1\",\"9\",\"5\",\".\",\".\",\".\"]\n",
    ",[\".\",\"9\",\"8\",\".\",\".\",\".\",\".\",\"6\",\".\"]\n",
    ",[\"8\",\".\",\".\",\".\",\"6\",\".\",\".\",\".\",\"3\"]\n",
    ",[\"4\",\".\",\".\",\"8\",\".\",\"3\",\".\",\".\",\"1\"]\n",
    ",[\"7\",\".\",\".\",\".\",\"2\",\".\",\".\",\".\",\"6\"]\n",
    ",[\".\",\"6\",\".\",\".\",\".\",\".\",\"2\",\"8\",\".\"]\n",
    ",[\".\",\".\",\".\",\"4\",\"1\",\"9\",\".\",\".\",\"5\"]\n",
    ",[\".\",\".\",\".\",\".\",\"8\",\".\",\".\",\"7\",\"9\"]]\n",
    "Output: true\n",
    "```\n",
    "![](https://upload.wikimedia.org/wikipedia/commons/thumb/f/ff/Sudoku-by-L2G-20050714.svg/250px-Sudoku-by-L2G-20050714.svg.png)\n",
    "\n",
    "Example 2:\n",
    "```\n",
    "Input: board = \n",
    "[[\"8\",\"3\",\".\",\".\",\"7\",\".\",\".\",\".\",\".\"]\n",
    ",[\"6\",\".\",\".\",\"1\",\"9\",\"5\",\".\",\".\",\".\"]\n",
    ",[\".\",\"9\",\"8\",\".\",\".\",\".\",\".\",\"6\",\".\"]\n",
    ",[\"8\",\".\",\".\",\".\",\"6\",\".\",\".\",\".\",\"3\"]\n",
    ",[\"4\",\".\",\".\",\"8\",\".\",\"3\",\".\",\".\",\"1\"]\n",
    ",[\"7\",\".\",\".\",\".\",\"2\",\".\",\".\",\".\",\"6\"]\n",
    ",[\".\",\"6\",\".\",\".\",\".\",\".\",\"2\",\"8\",\".\"]\n",
    ",[\".\",\".\",\".\",\"4\",\"1\",\"9\",\".\",\".\",\"5\"]\n",
    ",[\".\",\".\",\".\",\".\",\"8\",\".\",\".\",\"7\",\"9\"]]\n",
    "Output: false\n",
    "```\n",
    "Explanation: Same as Example 1, except with the 5 in the top left corner being modified to 8. Since there are two 8's in the top left 3x3 sub-box, it is invalid.\n",
    " \n",
    "\n",
    "Constraints:\n",
    "```\n",
    "board.length == 9\n",
    "board[i].length == 9\n",
    "board[i][j] is a digit 1-9 or '.'.\n",
    "```"
   ]
  },
  {
   "cell_type": "markdown",
   "id": "50e2bb1d-1ad0-4d76-933e-f1df63b0e689",
   "metadata": {},
   "source": [
    "**M-1**"
   ]
  },
  {
   "cell_type": "code",
   "execution_count": 21,
   "id": "614de0f9-5eb3-4731-aba5-868ddc8cc0e3",
   "metadata": {
    "execution": {
     "iopub.execute_input": "2024-01-13T06:55:21.187172Z",
     "iopub.status.busy": "2024-01-13T06:55:21.187172Z",
     "iopub.status.idle": "2024-01-13T06:55:21.210697Z",
     "shell.execute_reply": "2024-01-13T06:55:21.209222Z",
     "shell.execute_reply.started": "2024-01-13T06:55:21.187172Z"
    }
   },
   "outputs": [],
   "source": [
    "import collections\n",
    "from typing import List\n",
    "\n",
    "\n",
    "class Solution:\n",
    "    def isValidSudoku(self, board: List[List[str]]) -> bool:\n",
    "        l = collections.defaultdict(list)\n",
    "        c = collections.defaultdict(list)\n",
    "        bo = collections.defaultdict(list)\n",
    "        b = {}\n",
    "        b[1] = board[0][0:3] + board[1][0:3] + board[2][0:3]\n",
    "        b[2] = board[0][3:6] + board[1][3:6] + board[2][3:6]\n",
    "        b[3] = board[0][6:9] + board[1][6:9] + board[2][6:9]\n",
    "\n",
    "        b[4] = board[0 + 3][0:3] + board[1 + 3][0:3] + board[2 + 3][0:3]\n",
    "        b[5] = board[0 + 3][3:6] + board[1 + 3][3:6] + board[2 + 3][3:6]\n",
    "        b[6] = board[0 + 3][6:9] + board[1 + 3][6:9] + board[2 + 3][6:9]\n",
    "\n",
    "        b[7] = board[0 + 3 + 3][0:3] + board[1 + 3 + 3][0:3] + board[2 + 3 + 3][0:3]\n",
    "        b[8] = board[0 + 3 + 3][3:6] + board[1 + 3 + 3][3:6] + board[2 + 3 + 3][3:6]\n",
    "        b[9] = board[0 + 3 + 3][6:9] + board[1 + 3 + 3][6:9] + board[2 + 3 + 3][6:9]\n",
    "\n",
    "        for ii in range(1, 10):\n",
    "            # l[ii] = board[ii - 1]\n",
    "\n",
    "            for jj in range(1, 10):\n",
    "                ele = board[jj - 1][ii - 1]\n",
    "                if ele != \".\":\n",
    "                    c[ii].append(int(ele))\n",
    "\n",
    "                ele = board[ii - 1][jj - 1]\n",
    "                if ele != \".\":\n",
    "                    l[ii].append(int(ele))\n",
    "\n",
    "                ele = b[ii][jj - 1]\n",
    "                if ele != \".\":\n",
    "                    bo[ii].append(int(ele))\n",
    "\n",
    "        for ii in range(1, 10):\n",
    "            if len(c[ii]) != len(set(c[ii])):\n",
    "                return False\n",
    "            if len(l[ii]) != len(set(l[ii])):\n",
    "                return False\n",
    "            if len(bo[ii]) != len(set(bo[ii])):\n",
    "                return False\n",
    "\n",
    "        return True"
   ]
  },
  {
   "cell_type": "code",
   "execution_count": 22,
   "id": "92b8cfd9-a522-410d-b15d-35436ffe3d53",
   "metadata": {
    "execution": {
     "iopub.execute_input": "2024-01-13T06:55:21.731637Z",
     "iopub.status.busy": "2024-01-13T06:55:21.731371Z",
     "iopub.status.idle": "2024-01-13T06:55:21.755398Z",
     "shell.execute_reply": "2024-01-13T06:55:21.753883Z",
     "shell.execute_reply.started": "2024-01-13T06:55:21.731637Z"
    }
   },
   "outputs": [
    {
     "data": {
      "text/plain": [
       "True"
      ]
     },
     "execution_count": 22,
     "metadata": {},
     "output_type": "execute_result"
    }
   ],
   "source": [
    "board = [\n",
    "    [\"5\", \"3\", \".\", \".\", \"7\", \".\", \".\", \".\", \".\"],\n",
    "    [\"6\", \".\", \".\", \"1\", \"9\", \"5\", \".\", \".\", \".\"],\n",
    "    [\".\", \"9\", \"8\", \".\", \".\", \".\", \".\", \"6\", \".\"],\n",
    "    [\"8\", \".\", \".\", \".\", \"6\", \".\", \".\", \".\", \"3\"],\n",
    "    [\"4\", \".\", \".\", \"8\", \".\", \"3\", \".\", \".\", \"1\"],\n",
    "    [\"7\", \".\", \".\", \".\", \"2\", \".\", \".\", \".\", \"6\"],\n",
    "    [\".\", \"6\", \".\", \".\", \".\", \".\", \"2\", \"8\", \".\"],\n",
    "    [\".\", \".\", \".\", \"4\", \"1\", \"9\", \".\", \".\", \"5\"],\n",
    "    [\".\", \".\", \".\", \".\", \"8\", \".\", \".\", \"7\", \"9\"],\n",
    "]\n",
    "\n",
    "ss = Solution()\n",
    "\n",
    "ss.isValidSudoku(board)"
   ]
  },
  {
   "cell_type": "code",
   "execution_count": 23,
   "id": "7618382f",
   "metadata": {
    "execution": {
     "iopub.execute_input": "2024-01-13T06:55:23.117404Z",
     "iopub.status.busy": "2024-01-13T06:55:23.115356Z",
     "iopub.status.idle": "2024-01-13T06:55:23.154546Z",
     "shell.execute_reply": "2024-01-13T06:55:23.151798Z",
     "shell.execute_reply.started": "2024-01-13T06:55:23.117404Z"
    }
   },
   "outputs": [
    {
     "data": {
      "text/plain": [
       "False"
      ]
     },
     "execution_count": 23,
     "metadata": {},
     "output_type": "execute_result"
    }
   ],
   "source": [
    "board = [\n",
    "    [\"8\", \"3\", \".\", \".\", \"7\", \".\", \".\", \".\", \".\"],\n",
    "    [\"6\", \".\", \".\", \"1\", \"9\", \"5\", \".\", \".\", \".\"],\n",
    "    [\".\", \"9\", \"8\", \".\", \".\", \".\", \".\", \"6\", \".\"],\n",
    "    [\"8\", \".\", \".\", \".\", \"6\", \".\", \".\", \".\", \"3\"],\n",
    "    [\"4\", \".\", \".\", \"8\", \".\", \"3\", \".\", \".\", \"1\"],\n",
    "    [\"7\", \".\", \".\", \".\", \"2\", \".\", \".\", \".\", \"6\"],\n",
    "    [\".\", \"6\", \".\", \".\", \".\", \".\", \"2\", \"8\", \".\"],\n",
    "    [\".\", \".\", \".\", \"4\", \"1\", \"9\", \".\", \".\", \"5\"],\n",
    "    [\".\", \".\", \".\", \".\", \"8\", \".\", \".\", \"7\", \"9\"],\n",
    "]\n",
    "\n",
    "ss = Solution()\n",
    "\n",
    "ss.isValidSudoku(board)"
   ]
  },
  {
   "cell_type": "code",
   "execution_count": 24,
   "id": "a620db1b-f1c1-4a8c-bad4-a3093550357f",
   "metadata": {
    "execution": {
     "iopub.execute_input": "2024-01-13T06:55:24.133212Z",
     "iopub.status.busy": "2024-01-13T06:55:24.132212Z",
     "iopub.status.idle": "2024-01-13T06:55:24.153358Z",
     "shell.execute_reply": "2024-01-13T06:55:24.150751Z",
     "shell.execute_reply.started": "2024-01-13T06:55:24.133212Z"
    }
   },
   "outputs": [
    {
     "data": {
      "text/plain": [
       "True"
      ]
     },
     "execution_count": 24,
     "metadata": {},
     "output_type": "execute_result"
    }
   ],
   "source": [
    "1 == 1 and 2 == 2 and 5 == 5"
   ]
  },
  {
   "cell_type": "code",
   "execution_count": 5,
   "id": "936d2329",
   "metadata": {
    "execution": {
     "iopub.execute_input": "2024-01-13T06:46:44.034859Z",
     "iopub.status.busy": "2024-01-13T06:46:44.033859Z",
     "iopub.status.idle": "2024-01-13T06:46:44.071312Z",
     "shell.execute_reply": "2024-01-13T06:46:44.069314Z",
     "shell.execute_reply.started": "2024-01-13T06:46:44.034859Z"
    }
   },
   "outputs": [
    {
     "data": {
      "text/plain": [
       "False"
      ]
     },
     "execution_count": 5,
     "metadata": {},
     "output_type": "execute_result"
    }
   ],
   "source": [
    "board = [\n",
    "    [\"5\", \"3\", \".\", \".\", \"7\", \".\", \".\", \".\", \".\"],\n",
    "    [\"6\", \".\", \".\", \"1\", \"9\", \"5\", \".\", \".\", \".\"],\n",
    "    [\".\", \"9\", \"8\", \".\", \".\", \".\", \".\", \"6\", \".\"],\n",
    "    [\"8\", \".\", \".\", \".\", \"6\", \".\", \".\", \".\", \"3\"],\n",
    "    [\"4\", \".\", \".\", \"8\", \".\", \"3\", \".\", \".\", \"1\"],\n",
    "    [\"7\", \".\", \".\", \".\", \"2\", \".\", \".\", \".\", \"6\"],\n",
    "    [\".\", \"6\", \".\", \".\", \".\", \".\", \"2\", \"8\", \".\"],\n",
    "    [\".\", \".\", \".\", \"4\", \"1\", \"9\", \".\", \".\", \"5\"],\n",
    "    [\".\", \".\", \".\", \".\", \"8\", \".\", \"5\", \"7\", \"9\"],\n",
    "]\n",
    "\n",
    "ss = Solution()\n",
    "\n",
    "ss.isValidSudoku(board)"
   ]
  },
  {
   "cell_type": "markdown",
   "id": "f69168ac-f9d3-4620-8fbc-2463ae4f2772",
   "metadata": {},
   "source": [
    "**M-2**"
   ]
  },
  {
   "cell_type": "code",
   "execution_count": 32,
   "id": "cd309533-d21f-4faa-a7ab-4c5ed4ebb545",
   "metadata": {
    "execution": {
     "iopub.execute_input": "2024-01-13T06:58:11.352624Z",
     "iopub.status.busy": "2024-01-13T06:58:11.352125Z",
     "iopub.status.idle": "2024-01-13T06:58:11.371288Z",
     "shell.execute_reply": "2024-01-13T06:58:11.370788Z",
     "shell.execute_reply.started": "2024-01-13T06:58:11.352624Z"
    }
   },
   "outputs": [],
   "source": [
    "class Solution(object):\n",
    "    def isValidSudoku(self, board):\n",
    "        res = []\n",
    "        for i in range(9):\n",
    "            for j in range(9):\n",
    "                element = board[i][j]\n",
    "                if element != \".\":\n",
    "                    res += [(i, element), (element, j), (i // 3, j // 3, element)]\n",
    "        return len(res) == len(set(res))"
   ]
  },
  {
   "cell_type": "code",
   "execution_count": 33,
   "id": "fde3204c",
   "metadata": {
    "execution": {
     "iopub.execute_input": "2024-01-13T06:58:11.949005Z",
     "iopub.status.busy": "2024-01-13T06:58:11.947929Z",
     "iopub.status.idle": "2024-01-13T06:58:11.980694Z",
     "shell.execute_reply": "2024-01-13T06:58:11.979195Z",
     "shell.execute_reply.started": "2024-01-13T06:58:11.949005Z"
    }
   },
   "outputs": [
    {
     "data": {
      "text/plain": [
       "False"
      ]
     },
     "execution_count": 33,
     "metadata": {},
     "output_type": "execute_result"
    }
   ],
   "source": [
    "board = [\n",
    "    [\"5\", \"3\", \".\", \".\", \"7\", \".\", \".\", \".\", \".\"],\n",
    "    [\"6\", \".\", \".\", \"1\", \"9\", \"5\", \".\", \".\", \".\"],\n",
    "    [\".\", \"9\", \"8\", \".\", \".\", \".\", \".\", \"6\", \".\"],\n",
    "    [\"8\", \".\", \".\", \".\", \"6\", \".\", \".\", \".\", \"3\"],\n",
    "    [\"4\", \".\", \".\", \"8\", \".\", \"3\", \".\", \".\", \"1\"],\n",
    "    [\"7\", \".\", \".\", \".\", \"2\", \".\", \".\", \".\", \"6\"],\n",
    "    [\".\", \"6\", \".\", \".\", \".\", \".\", \"2\", \"8\", \".\"],\n",
    "    [\".\", \".\", \".\", \"4\", \"1\", \"9\", \".\", \".\", \"5\"],\n",
    "    [\".\", \".\", \".\", \".\", \"8\", \".\", \"5\", \"7\", \"9\"],\n",
    "]\n",
    "\n",
    "ss = Solution()\n",
    "\n",
    "ss.isValidSudoku(board)"
   ]
  },
  {
   "cell_type": "markdown",
   "id": "af15473f-0b9b-46ac-a3d0-4a7d5e7aadb1",
   "metadata": {},
   "source": [
    "**M-3**"
   ]
  },
  {
   "cell_type": "code",
   "execution_count": 42,
   "id": "030356f5-1bf2-4f13-9214-1c23bbf1d3d3",
   "metadata": {
    "execution": {
     "iopub.execute_input": "2024-01-13T07:11:33.845842Z",
     "iopub.status.busy": "2024-01-13T07:11:33.835734Z",
     "iopub.status.idle": "2024-01-13T07:11:33.886607Z",
     "shell.execute_reply": "2024-01-13T07:11:33.879093Z",
     "shell.execute_reply.started": "2024-01-13T07:11:33.841888Z"
    }
   },
   "outputs": [],
   "source": [
    "from typing import List\n",
    "\n",
    "\n",
    "class Solution:\n",
    "    def isValidSudoku(self, board: List[List[str]]) -> bool:\n",
    "        boardMap = collections.defaultdict(list)\n",
    "        for x in range(9):\n",
    "            for y in range(9):\n",
    "                char = board[x][y]\n",
    "                if char != \".\":\n",
    "                    if char in boardMap:\n",
    "                        for pos in boardMap[char]:\n",
    "                            if (\n",
    "                                (pos[0] == x)\n",
    "                                or (pos[1] == y)\n",
    "                                or (pos[0] // 3 == x // 3 and pos[1] // 3 == y // 3)\n",
    "                            ):\n",
    "                                return False\n",
    "                    boardMap[char].append((x, y))\n",
    "\n",
    "        return True"
   ]
  },
  {
   "cell_type": "code",
   "execution_count": 43,
   "id": "42a9c464",
   "metadata": {
    "execution": {
     "iopub.execute_input": "2024-01-13T07:11:34.714941Z",
     "iopub.status.busy": "2024-01-13T07:11:34.712506Z",
     "iopub.status.idle": "2024-01-13T07:11:34.736100Z",
     "shell.execute_reply": "2024-01-13T07:11:34.734711Z",
     "shell.execute_reply.started": "2024-01-13T07:11:34.714941Z"
    }
   },
   "outputs": [
    {
     "data": {
      "text/plain": [
       "True"
      ]
     },
     "execution_count": 43,
     "metadata": {},
     "output_type": "execute_result"
    }
   ],
   "source": [
    "board = [\n",
    "    [\"5\", \"3\", \".\", \".\", \"7\", \".\", \".\", \".\", \".\"],\n",
    "    [\"6\", \".\", \".\", \"1\", \"9\", \"5\", \".\", \".\", \".\"],\n",
    "    [\".\", \"9\", \"8\", \".\", \".\", \".\", \".\", \"6\", \".\"],\n",
    "    [\"8\", \".\", \".\", \".\", \"6\", \".\", \".\", \".\", \"3\"],\n",
    "    [\"4\", \".\", \".\", \"8\", \".\", \"3\", \".\", \".\", \"1\"],\n",
    "    [\"7\", \".\", \".\", \".\", \"2\", \".\", \".\", \".\", \"6\"],\n",
    "    [\".\", \"6\", \".\", \".\", \".\", \".\", \"2\", \"8\", \".\"],\n",
    "    [\".\", \".\", \".\", \"4\", \"1\", \"9\", \".\", \".\", \"5\"],\n",
    "    [\".\", \".\", \".\", \".\", \"8\", \".\", \".\", \"7\", \"9\"],\n",
    "]\n",
    "\n",
    "ss = Solution()\n",
    "\n",
    "ss.isValidSudoku(board)"
   ]
  },
  {
   "cell_type": "markdown",
   "id": "fcab1ef6-aeb2-4e2a-837e-1cea9d61b677",
   "metadata": {},
   "source": [
    "### Encode and Decode Strings"
   ]
  },
  {
   "cell_type": "markdown",
   "id": "68c67d9c-741e-4cb8-b36e-79fdf14b0a68",
   "metadata": {},
   "source": [
    "Problem: Design an algorithm to encode a `list` of strings to a `string`. The encoded string is then sent over the network and is decoded back to the original list of strings. Please implement encode and decode\n",
    "\n",
    "Example(s):\n",
    "\n",
    "Example1\n",
    "```\n",
    "Input: [“lint”,“code”,“love”,“you”]\n",
    "Output: [“lint”,“code”,“love”,“you”] \n",
    "```\n",
    "Explanation: One possible encode method is: “lint:;code:;love:;you”\n",
    "\n",
    "Example2\n",
    "```\n",
    "Input: [“we”, “say”, “:”, “yes”] \n",
    "Output: [“we”, “say”, “:”, “yes”] \n",
    "```\n",
    "Explanation: One possible encode method is: “we:;say:;:::;yes”"
   ]
  },
  {
   "cell_type": "code",
   "execution_count": 243,
   "id": "a8682326-6e22-411d-8c26-a2370ec4fd0c",
   "metadata": {
    "execution": {
     "iopub.execute_input": "2024-01-13T13:47:48.909889Z",
     "iopub.status.busy": "2024-01-13T13:47:48.908938Z",
     "iopub.status.idle": "2024-01-13T13:47:48.935019Z",
     "shell.execute_reply": "2024-01-13T13:47:48.933019Z",
     "shell.execute_reply.started": "2024-01-13T13:47:48.909889Z"
    }
   },
   "outputs": [],
   "source": [
    "class Solution:\n",
    "    def encode(self, strs):\n",
    "        res = \"\"\n",
    "        for s in strs:\n",
    "            encoded = str(len(s)) + \"/\" + s\n",
    "            res += encoded\n",
    "        return res\n",
    "\n",
    "    def decode(self, strs):\n",
    "        res = []\n",
    "        i = 0\n",
    "        while i < len(strs):\n",
    "            j = i\n",
    "            while j < len(strs) and strs[j] != \"/\":\n",
    "                j = j + 1\n",
    "\n",
    "            size = int(strs[i:j])\n",
    "            word = strs[j + 1 : j + 1 + size]\n",
    "\n",
    "            i = j + 1 + size\n",
    "\n",
    "            res.append(word)\n",
    "\n",
    "        return res"
   ]
  },
  {
   "cell_type": "code",
   "execution_count": 246,
   "id": "c9888c0a-d77b-418e-86f7-dc254895559f",
   "metadata": {
    "execution": {
     "iopub.execute_input": "2024-01-13T13:48:04.689381Z",
     "iopub.status.busy": "2024-01-13T13:48:04.688881Z",
     "iopub.status.idle": "2024-01-13T13:48:04.705705Z",
     "shell.execute_reply": "2024-01-13T13:48:04.704297Z",
     "shell.execute_reply.started": "2024-01-13T13:48:04.689381Z"
    }
   },
   "outputs": [
    {
     "name": "stdout",
     "output_type": "stream",
     "text": [
      "4/lint4/code4/love3/you\n",
      "['lint', 'code', 'love', 'you']\n"
     ]
    }
   ],
   "source": [
    "ss = Solution()\n",
    "chars = [\"lint\", \"code\", \"love\", \"you\"]\n",
    "strings = ss.encode(chars)\n",
    "print(strings)\n",
    "print(ss.decode(strings))"
   ]
  },
  {
   "cell_type": "markdown",
   "id": "302e92ee-f7b0-4936-a9b7-9dbfb31ac2e8",
   "metadata": {},
   "source": [
    "### Longest Consecutive Sequence"
   ]
  },
  {
   "cell_type": "markdown",
   "id": "3bf60562-a0a4-4b76-9584-89f76701088e",
   "metadata": {},
   "source": [
    "Given an unsorted array of integers `nums`, return the length of the longest consecutive elements sequence.\n",
    "\n",
    "You must write an algorithm that runs in O(n) time.\n",
    "\n",
    " \n",
    "\n",
    "Example 1:\n",
    "```\n",
    "Input: nums = [100,4,200,1,3,2]\n",
    "Output: 4\n",
    "Explanation: The longest consecutive elements sequence is [1, 2, 3, 4]. Therefore its length is 4.\n",
    "```\n",
    "Example 2:\n",
    "```\n",
    "Input: nums = [0,3,7,2,5,8,4,6,0,1]\n",
    "Output: 9\n",
    "```\n",
    "\n",
    "Constraints:\n",
    "```\n",
    "0 <= nums.length <= 105\n",
    "-109 <= nums[i] <= 109\n",
    "```"
   ]
  },
  {
   "cell_type": "markdown",
   "id": "74cb7268-2869-4811-937a-16137698f9c1",
   "metadata": {},
   "source": [
    "**M-1**"
   ]
  },
  {
   "cell_type": "code",
   "execution_count": 168,
   "id": "1691be5e-5b1e-4e70-ab63-ec1aae3bb25d",
   "metadata": {
    "execution": {
     "iopub.execute_input": "2024-01-13T12:50:42.370312Z",
     "iopub.status.busy": "2024-01-13T12:50:42.369306Z",
     "iopub.status.idle": "2024-01-13T12:50:42.386163Z",
     "shell.execute_reply": "2024-01-13T12:50:42.384499Z",
     "shell.execute_reply.started": "2024-01-13T12:50:42.370312Z"
    }
   },
   "outputs": [],
   "source": [
    "class Solution:\n",
    "    def longestConsecutive(self, nums: List[int]) -> bool:\n",
    "        list_consi = list(set(nums))\n",
    "        list_consi.sort()\n",
    "        dict_consi = collections.defaultdict(int)\n",
    "        li = 1\n",
    "        len_list = len(list_consi)\n",
    "\n",
    "        if len_list == 1:\n",
    "            range_list = 1\n",
    "            dict_consi[li] = dict_consi[li] + 1\n",
    "\n",
    "        else:\n",
    "            range_list = len_list - 1\n",
    "            for i in range(range_list):\n",
    "                if dict_consi[li] == 0:\n",
    "                    dict_consi[li] = dict_consi[li] + 1\n",
    "\n",
    "                if list_consi[i + 1] - list_consi[i] == 1:\n",
    "                    dict_consi[li] = dict_consi[li] + 1\n",
    "\n",
    "                else:\n",
    "                    li += 1\n",
    "        if len(list(dict_consi.values())) == 0:\n",
    "            return 0\n",
    "        return max(dict_consi.values())"
   ]
  },
  {
   "cell_type": "code",
   "execution_count": 169,
   "id": "40d6dffd-784c-4519-ad01-0e3fb219c549",
   "metadata": {
    "execution": {
     "iopub.execute_input": "2024-01-13T12:50:42.610730Z",
     "iopub.status.busy": "2024-01-13T12:50:42.610730Z",
     "iopub.status.idle": "2024-01-13T12:50:42.618185Z",
     "shell.execute_reply": "2024-01-13T12:50:42.618185Z",
     "shell.execute_reply.started": "2024-01-13T12:50:42.610730Z"
    }
   },
   "outputs": [
    {
     "data": {
      "text/plain": [
       "1"
      ]
     },
     "execution_count": 169,
     "metadata": {},
     "output_type": "execute_result"
    }
   ],
   "source": [
    "nums = [1, 1]\n",
    "ss = Solution()\n",
    "ss.longestConsecutive(nums)"
   ]
  },
  {
   "cell_type": "code",
   "execution_count": 170,
   "id": "fe96c818",
   "metadata": {
    "execution": {
     "iopub.execute_input": "2024-01-13T12:50:43.236936Z",
     "iopub.status.busy": "2024-01-13T12:50:43.235936Z",
     "iopub.status.idle": "2024-01-13T12:50:43.255346Z",
     "shell.execute_reply": "2024-01-13T12:50:43.254156Z",
     "shell.execute_reply.started": "2024-01-13T12:50:43.236936Z"
    }
   },
   "outputs": [
    {
     "data": {
      "text/plain": [
       "0"
      ]
     },
     "execution_count": 170,
     "metadata": {},
     "output_type": "execute_result"
    }
   ],
   "source": [
    "nums = []\n",
    "ss = Solution()\n",
    "ss.longestConsecutive(nums)"
   ]
  },
  {
   "cell_type": "code",
   "execution_count": 171,
   "id": "f09c858a-d96b-45a5-879c-e6fb88c9ca32",
   "metadata": {
    "execution": {
     "iopub.execute_input": "2024-01-13T12:50:52.559408Z",
     "iopub.status.busy": "2024-01-13T12:50:52.558371Z",
     "iopub.status.idle": "2024-01-13T12:50:52.568650Z",
     "shell.execute_reply": "2024-01-13T12:50:52.568650Z",
     "shell.execute_reply.started": "2024-01-13T12:50:52.559408Z"
    }
   },
   "outputs": [
    {
     "data": {
      "text/plain": [
       "2"
      ]
     },
     "execution_count": 171,
     "metadata": {},
     "output_type": "execute_result"
    }
   ],
   "source": [
    "nums = [1, 3, 4, 2001, 203]\n",
    "ss = Solution()\n",
    "ss.longestConsecutive(nums)"
   ]
  },
  {
   "cell_type": "markdown",
   "id": "373586fc-264f-4766-8362-51275327f3e8",
   "metadata": {},
   "source": [
    "**M-2**"
   ]
  },
  {
   "cell_type": "code",
   "execution_count": 178,
   "id": "d71240f6-f6b4-4b9c-90c8-ffd47637c7b4",
   "metadata": {
    "execution": {
     "iopub.execute_input": "2024-01-13T12:54:11.093696Z",
     "iopub.status.busy": "2024-01-13T12:54:11.093696Z",
     "iopub.status.idle": "2024-01-13T12:54:11.106274Z",
     "shell.execute_reply": "2024-01-13T12:54:11.104559Z",
     "shell.execute_reply.started": "2024-01-13T12:54:11.093696Z"
    }
   },
   "outputs": [],
   "source": [
    "class Solution:\n",
    "    def longestConsecutive(self, nums: List[int]) -> int:\n",
    "        longest = 0\n",
    "        num_set = set(nums)\n",
    "\n",
    "        for n in num_set:\n",
    "            if (n - 1) not in num_set:\n",
    "                length = 1\n",
    "                while (n + length) in num_set:\n",
    "                    length += 1\n",
    "                longest = max(longest, length)\n",
    "\n",
    "        return longest"
   ]
  },
  {
   "cell_type": "code",
   "execution_count": 179,
   "id": "de7e72d6",
   "metadata": {
    "execution": {
     "iopub.execute_input": "2024-01-13T12:54:11.393066Z",
     "iopub.status.busy": "2024-01-13T12:54:11.392068Z",
     "iopub.status.idle": "2024-01-13T12:54:11.397066Z",
     "shell.execute_reply": "2024-01-13T12:54:11.397066Z",
     "shell.execute_reply.started": "2024-01-13T12:54:11.393066Z"
    }
   },
   "outputs": [
    {
     "data": {
      "text/plain": [
       "0"
      ]
     },
     "execution_count": 179,
     "metadata": {},
     "output_type": "execute_result"
    }
   ],
   "source": [
    "nums = []\n",
    "ss = Solution()\n",
    "ss.longestConsecutive(nums)"
   ]
  },
  {
   "cell_type": "code",
   "execution_count": 180,
   "id": "a139cadc",
   "metadata": {
    "execution": {
     "iopub.execute_input": "2024-01-13T12:54:11.899823Z",
     "iopub.status.busy": "2024-01-13T12:54:11.899823Z",
     "iopub.status.idle": "2024-01-13T12:54:11.911977Z",
     "shell.execute_reply": "2024-01-13T12:54:11.911977Z",
     "shell.execute_reply.started": "2024-01-13T12:54:11.899823Z"
    }
   },
   "outputs": [
    {
     "data": {
      "text/plain": [
       "2"
      ]
     },
     "execution_count": 180,
     "metadata": {},
     "output_type": "execute_result"
    }
   ],
   "source": [
    "nums = [1, 3, 4, 2001, 203]\n",
    "ss = Solution()\n",
    "ss.longestConsecutive(nums)"
   ]
  },
  {
   "cell_type": "markdown",
   "id": "b9b8d14a-65cb-446d-a150-aa9d3d91fbf0",
   "metadata": {},
   "source": [
    "**M-3**"
   ]
  },
  {
   "cell_type": "code",
   "execution_count": 181,
   "id": "a38a0a9d-9d22-4a65-b56e-6f4c3eee9a39",
   "metadata": {
    "execution": {
     "iopub.execute_input": "2024-01-13T12:56:25.407018Z",
     "iopub.status.busy": "2024-01-13T12:56:25.406395Z",
     "iopub.status.idle": "2024-01-13T12:56:25.429501Z",
     "shell.execute_reply": "2024-01-13T12:56:25.427999Z",
     "shell.execute_reply.started": "2024-01-13T12:56:25.407018Z"
    }
   },
   "outputs": [],
   "source": [
    "def longestConsecutive(nums):\n",
    "    nums = set(nums)\n",
    "    res = 0\n",
    "    for num in nums:\n",
    "        if num - 1 not in nums:\n",
    "            nextNum = num + 1\n",
    "            while nextNum in nums:\n",
    "                nextNum += 1\n",
    "            res = max(res, nextNum - num)\n",
    "    return res"
   ]
  },
  {
   "cell_type": "code",
   "execution_count": 182,
   "id": "69a52793",
   "metadata": {
    "execution": {
     "iopub.execute_input": "2024-01-13T12:56:30.417402Z",
     "iopub.status.busy": "2024-01-13T12:56:30.417402Z",
     "iopub.status.idle": "2024-01-13T12:56:30.430406Z",
     "shell.execute_reply": "2024-01-13T12:56:30.429799Z",
     "shell.execute_reply.started": "2024-01-13T12:56:30.417402Z"
    }
   },
   "outputs": [
    {
     "data": {
      "text/plain": [
       "2"
      ]
     },
     "execution_count": 182,
     "metadata": {},
     "output_type": "execute_result"
    }
   ],
   "source": [
    "nums = [1, 3, 4, 2001, 203]\n",
    "ss = Solution()\n",
    "ss.longestConsecutive(nums)"
   ]
  },
  {
   "cell_type": "markdown",
   "id": "4817bf24-8d44-4702-928e-23449d71694c",
   "metadata": {},
   "source": [
    "## Stack"
   ]
  },
  {
   "cell_type": "markdown",
   "id": "17ffbe52-e2d6-4389-80bc-4fdb583f9dd9",
   "metadata": {},
   "source": [
    "### Valid Parentheses"
   ]
  },
  {
   "cell_type": "markdown",
   "id": "4baf35d7-4832-43e4-9e5f-3d6b8c70162c",
   "metadata": {},
   "source": [
    "Given a string s containing just the characters `'('`, `')'`, `'{'`, `'}'`, `'['` and `']'`, determine if the input string is valid.\n",
    "\n",
    "An input string is valid if:\n",
    "\n",
    "- Open brackets must be closed by the same type of brackets.\n",
    "- Open brackets must be closed in the correct order.\n",
    "- Every close bracket has a corresponding open bracket of the same type.\n",
    " \n",
    "\n",
    "Example 1:\n",
    "```\n",
    "Input: s = \"()\"\n",
    "Output: true\n",
    "```\n",
    "Example 2:\n",
    "```\n",
    "Input: s = \"()[]{}\"\n",
    "Output: true\n",
    "```\n",
    "Example 3:\n",
    "```\n",
    "Input: s = \"(]\"\n",
    "Output: false\n",
    "```\n",
    "\n",
    "Constraints:\n",
    "```\n",
    "1 <= s.length <= 104\n",
    "s consists of parentheses only '()[]{}'.\n",
    "```"
   ]
  },
  {
   "cell_type": "markdown",
   "id": "ec498305-7f1e-4c1d-8de3-30b410f3e24e",
   "metadata": {},
   "source": [
    "**M-1**"
   ]
  },
  {
   "cell_type": "code",
   "execution_count": 1,
   "id": "9b981be4-c14d-4ada-bdff-83269fe10794",
   "metadata": {
    "execution": {
     "iopub.execute_input": "2024-01-13T14:49:08.306700Z",
     "iopub.status.busy": "2024-01-13T14:49:08.306700Z",
     "iopub.status.idle": "2024-01-13T14:49:08.321761Z",
     "shell.execute_reply": "2024-01-13T14:49:08.321257Z",
     "shell.execute_reply.started": "2024-01-13T14:49:08.306700Z"
    }
   },
   "outputs": [],
   "source": [
    "class Solution:\n",
    "    def isValid(self, s: str) -> bool:\n",
    "        open_par = [\"(\", \"{\", \"[\"]\n",
    "        close_par = [\")\", \"}\", \"]\"]\n",
    "        stack = []\n",
    "        for cha in s:\n",
    "            # print(sol)\n",
    "            if cha in open_par:\n",
    "                stack.append(cha)\n",
    "            if cha in close_par:\n",
    "                if len(stack) == 0:\n",
    "                    return False\n",
    "                if close_par.index(cha) != open_par.index(stack[-1]):\n",
    "                    return False\n",
    "\n",
    "                stack.pop()\n",
    "\n",
    "        return len(stack) == 0"
   ]
  },
  {
   "cell_type": "code",
   "execution_count": 2,
   "id": "56362225-7a2d-4f77-9e83-083fa881931f",
   "metadata": {
    "execution": {
     "iopub.execute_input": "2024-01-13T14:49:09.089605Z",
     "iopub.status.busy": "2024-01-13T14:49:09.087266Z",
     "iopub.status.idle": "2024-01-13T14:49:09.100243Z",
     "shell.execute_reply": "2024-01-13T14:49:09.100243Z",
     "shell.execute_reply.started": "2024-01-13T14:49:09.089605Z"
    }
   },
   "outputs": [
    {
     "data": {
      "text/plain": [
       "True"
      ]
     },
     "execution_count": 2,
     "metadata": {},
     "output_type": "execute_result"
    }
   ],
   "source": [
    "s = \"()[]{}{}{}\"\n",
    "ss = Solution()\n",
    "ss.isValid(s)"
   ]
  },
  {
   "cell_type": "code",
   "execution_count": 3,
   "id": "47867ae2-0138-45bf-867b-fb88f27ac356",
   "metadata": {
    "execution": {
     "iopub.execute_input": "2024-01-13T14:49:09.580972Z",
     "iopub.status.busy": "2024-01-13T14:49:09.580472Z",
     "iopub.status.idle": "2024-01-13T14:49:09.597948Z",
     "shell.execute_reply": "2024-01-13T14:49:09.596424Z",
     "shell.execute_reply.started": "2024-01-13T14:49:09.580972Z"
    }
   },
   "outputs": [
    {
     "data": {
      "text/plain": [
       "False"
      ]
     },
     "execution_count": 3,
     "metadata": {},
     "output_type": "execute_result"
    }
   ],
   "source": [
    "s = \"(])\"\n",
    "ss = Solution()\n",
    "ss.isValid(s)"
   ]
  },
  {
   "cell_type": "markdown",
   "id": "a9dca23e-8b15-49fe-94c3-d0cca39c124e",
   "metadata": {},
   "source": [
    "**M-2**"
   ]
  },
  {
   "cell_type": "code",
   "execution_count": 8,
   "id": "e298132f-fb92-454f-a559-1fc74c9833ee",
   "metadata": {
    "execution": {
     "iopub.execute_input": "2024-01-13T14:51:30.501981Z",
     "iopub.status.busy": "2024-01-13T14:51:30.501481Z",
     "iopub.status.idle": "2024-01-13T14:51:30.520806Z",
     "shell.execute_reply": "2024-01-13T14:51:30.519651Z",
     "shell.execute_reply.started": "2024-01-13T14:51:30.501981Z"
    }
   },
   "outputs": [],
   "source": [
    "class Solution:\n",
    "    def isValid(self, s):\n",
    "        d = {\"(\": \")\", \"{\": \"}\", \"[\": \"]\"}\n",
    "        stack = []\n",
    "        for i in s:\n",
    "            if i in d:  # 1\n",
    "                stack.append(i)\n",
    "            elif len(stack) == 0 or d[stack.pop()] != i:  # 2\n",
    "                return False\n",
    "        return len(stack) == 0  # 3"
   ]
  },
  {
   "cell_type": "code",
   "execution_count": 9,
   "id": "6cec6160",
   "metadata": {
    "execution": {
     "iopub.execute_input": "2024-01-13T14:51:30.803636Z",
     "iopub.status.busy": "2024-01-13T14:51:30.802635Z",
     "iopub.status.idle": "2024-01-13T14:51:30.813975Z",
     "shell.execute_reply": "2024-01-13T14:51:30.813975Z",
     "shell.execute_reply.started": "2024-01-13T14:51:30.803636Z"
    }
   },
   "outputs": [
    {
     "data": {
      "text/plain": [
       "False"
      ]
     },
     "execution_count": 9,
     "metadata": {},
     "output_type": "execute_result"
    }
   ],
   "source": [
    "s = \"(])\"\n",
    "ss = Solution()\n",
    "ss.isValid(s)"
   ]
  },
  {
   "cell_type": "markdown",
   "id": "13fa1cc4-5b6b-44a5-9e55-010d936a417b",
   "metadata": {},
   "source": [
    "### Min Stack"
   ]
  },
  {
   "cell_type": "markdown",
   "id": "149e01d3-78d0-4376-9b83-338810378c05",
   "metadata": {},
   "source": [
    "Design a stack that supports push, pop, top, and retrieving the minimum element in constant time.\n",
    "\n",
    "Implement the MinStack class:\n",
    "\n",
    "- MinStack() initializes the stack object.\n",
    "- void push(int val) pushes the element val onto the stack.\n",
    "- void pop() removes the element on the top of the stack.\n",
    "- int top() gets the top element of the stack.\n",
    "- int getMin() retrieves the minimum element in the stack.\n",
    "- You must implement a solution with O(1) time complexity for each function.\n",
    "\n",
    " \n",
    "\n",
    "Example 1:\n",
    "\n",
    "Input\n",
    "```\n",
    "[\"MinStack\",\"push\",\"push\",\"push\",\"getMin\",\"pop\",\"top\",\"getMin\"]\n",
    "[[],[-2],[0],[-3],[],[],[],[]]\n",
    "```\n",
    "Output\n",
    "```\n",
    "[null,null,null,null,-3,null,0,-2]\n",
    "```\n",
    "Explanation\n",
    "```\n",
    "MinStack minStack = new MinStack();\n",
    "minStack.push(-2);\n",
    "minStack.push(0);\n",
    "minStack.push(-3);\n",
    "minStack.getMin(); // return -3\n",
    "minStack.pop();\n",
    "minStack.top();    // return 0\n",
    "minStack.getMin(); // return -2\n",
    "```\n",
    "\n",
    "Constraints:\n",
    "```\n",
    "-231 <= val <= 231 - 1\n",
    "```\n",
    "Methods pop, top and getMin operations will always be called on non-empty stacks.\n",
    "At most 3 * 104 calls will be made to push, pop, top, and getMin."
   ]
  },
  {
   "cell_type": "code",
   "execution_count": 67,
   "id": "bf52e842-5cef-4c56-90a9-6bddf6f07746",
   "metadata": {
    "execution": {
     "iopub.execute_input": "2024-01-13T16:10:14.636284Z",
     "iopub.status.busy": "2024-01-13T16:10:14.635297Z",
     "iopub.status.idle": "2024-01-13T16:10:14.646910Z",
     "shell.execute_reply": "2024-01-13T16:10:14.646409Z",
     "shell.execute_reply.started": "2024-01-13T16:10:14.636284Z"
    }
   },
   "outputs": [],
   "source": [
    "class MinStack:\n",
    "    def __init__(self):\n",
    "        self.stack = []\n",
    "        self.minStack = []\n",
    "\n",
    "    def push(self, val: int) -> None:\n",
    "        self.stack.append(val)\n",
    "        if self.minStack:\n",
    "            val = min(self.minStack[-1], val)\n",
    "        self.minStack.append(val)\n",
    "\n",
    "    def pop(self) -> None:\n",
    "        self.stack.pop()\n",
    "        self.minStack.pop()\n",
    "\n",
    "    def top(self) -> int:\n",
    "        return self.stack[-1]\n",
    "\n",
    "    def getMin(self) -> int:\n",
    "        return self.minStack[-1]"
   ]
  },
  {
   "cell_type": "code",
   "execution_count": 68,
   "id": "9ada29dc-db92-4355-a51c-6cfe5a503d67",
   "metadata": {
    "execution": {
     "iopub.execute_input": "2024-01-13T16:10:14.928055Z",
     "iopub.status.busy": "2024-01-13T16:10:14.926972Z",
     "iopub.status.idle": "2024-01-13T16:10:14.943868Z",
     "shell.execute_reply": "2024-01-13T16:10:14.943127Z",
     "shell.execute_reply.started": "2024-01-13T16:10:14.928055Z"
    }
   },
   "outputs": [],
   "source": [
    "minStack = MinStack()\n",
    "minStack.push(-2)\n",
    "minStack.push(0)\n",
    "minStack.push(-3)"
   ]
  },
  {
   "cell_type": "code",
   "execution_count": 61,
   "id": "f4917042-8e62-48c2-856b-3796e6970194",
   "metadata": {
    "execution": {
     "iopub.execute_input": "2024-01-13T16:08:53.990840Z",
     "iopub.status.busy": "2024-01-13T16:08:53.989702Z",
     "iopub.status.idle": "2024-01-13T16:08:54.007181Z",
     "shell.execute_reply": "2024-01-13T16:08:54.005574Z",
     "shell.execute_reply.started": "2024-01-13T16:08:53.990840Z"
    }
   },
   "outputs": [
    {
     "data": {
      "text/plain": [
       "-3"
      ]
     },
     "execution_count": 61,
     "metadata": {},
     "output_type": "execute_result"
    }
   ],
   "source": [
    "minStack.getMin()"
   ]
  },
  {
   "cell_type": "code",
   "execution_count": 62,
   "id": "6d8d0a3a-5ed4-4239-9e34-8b75652c61d6",
   "metadata": {
    "execution": {
     "iopub.execute_input": "2024-01-13T16:08:54.954581Z",
     "iopub.status.busy": "2024-01-13T16:08:54.953583Z",
     "iopub.status.idle": "2024-01-13T16:08:54.972782Z",
     "shell.execute_reply": "2024-01-13T16:08:54.971894Z",
     "shell.execute_reply.started": "2024-01-13T16:08:54.954581Z"
    }
   },
   "outputs": [],
   "source": [
    "minStack.pop()"
   ]
  },
  {
   "cell_type": "code",
   "execution_count": 63,
   "id": "fd8776cd-adff-4385-a469-38125ac85e8c",
   "metadata": {
    "execution": {
     "iopub.execute_input": "2024-01-13T16:08:55.468977Z",
     "iopub.status.busy": "2024-01-13T16:08:55.468977Z",
     "iopub.status.idle": "2024-01-13T16:08:55.485486Z",
     "shell.execute_reply": "2024-01-13T16:08:55.485373Z",
     "shell.execute_reply.started": "2024-01-13T16:08:55.468977Z"
    }
   },
   "outputs": [
    {
     "data": {
      "text/plain": [
       "0"
      ]
     },
     "execution_count": 63,
     "metadata": {},
     "output_type": "execute_result"
    }
   ],
   "source": [
    "minStack.top()"
   ]
  },
  {
   "cell_type": "code",
   "execution_count": 64,
   "id": "01a7bd86-3e20-4085-affc-8952f3b30c3a",
   "metadata": {
    "execution": {
     "iopub.execute_input": "2024-01-13T16:08:55.923987Z",
     "iopub.status.busy": "2024-01-13T16:08:55.922986Z",
     "iopub.status.idle": "2024-01-13T16:08:55.935484Z",
     "shell.execute_reply": "2024-01-13T16:08:55.935484Z",
     "shell.execute_reply.started": "2024-01-13T16:08:55.923987Z"
    }
   },
   "outputs": [
    {
     "data": {
      "text/plain": [
       "-2"
      ]
     },
     "execution_count": 64,
     "metadata": {},
     "output_type": "execute_result"
    }
   ],
   "source": [
    "minStack.getMin()"
   ]
  },
  {
   "cell_type": "code",
   "execution_count": 65,
   "id": "088e8f79-ddaf-4d09-8010-30c7044e0a95",
   "metadata": {
    "execution": {
     "iopub.execute_input": "2024-01-13T16:08:56.393313Z",
     "iopub.status.busy": "2024-01-13T16:08:56.393313Z",
     "iopub.status.idle": "2024-01-13T16:08:56.403910Z",
     "shell.execute_reply": "2024-01-13T16:08:56.402909Z",
     "shell.execute_reply.started": "2024-01-13T16:08:56.393313Z"
    }
   },
   "outputs": [
    {
     "data": {
      "text/plain": [
       "[-2, -2, -2]"
      ]
     },
     "execution_count": 65,
     "metadata": {},
     "output_type": "execute_result"
    }
   ],
   "source": [
    "(minStack.push(5))"
   ]
  },
  {
   "cell_type": "code",
   "execution_count": null,
   "id": "75f12638-f17d-4c5a-91ca-a0f53e817990",
   "metadata": {},
   "outputs": [],
   "source": []
  },
  {
   "cell_type": "markdown",
   "id": "091c6a89-890d-4efa-b691-7a6751d7b376",
   "metadata": {},
   "source": [
    "### Evaluate Reverse Polish Notation"
   ]
  },
  {
   "cell_type": "markdown",
   "id": "a72865e6-4cab-410d-ac97-720dddc06322",
   "metadata": {},
   "source": [
    "You are given an array of strings tokens that represents an arithmetic expression in a Reverse Polish Notation.\n",
    "\n",
    "Evaluate the expression. Return an integer that represents the value of the expression.\n",
    "\n",
    "Note that:\n",
    "\n",
    "- The valid operators are '+', '-', '*', and '/'.\n",
    "- Each operand may be an integer or another expression.\n",
    "- The division between two integers always truncates toward zero.\n",
    "- There will not be any division by zero.\n",
    "- The input represents a valid arithmetic expression in a reverse polish notation.\n",
    "- The answer and all the intermediate calculations can be represented in a 32-bit integer.\n",
    " \n",
    "\n",
    "Example 1:\n",
    "```\n",
    "Input: tokens = [\"2\",\"1\",\"+\",\"3\",\"*\"]\n",
    "Output: 9\n",
    "Explanation: ((2 + 1) * 3) = 9\n",
    "```\n",
    "Example 2:\n",
    "```\n",
    "Input: tokens = [\"4\",\"13\",\"5\",\"/\",\"+\"]\n",
    "Output: 6\n",
    "Explanation: (4 + (13 / 5)) = 6\n",
    "```\n",
    "Example 3:\n",
    "```\n",
    "Input: tokens = [\"10\",\"6\",\"9\",\"3\",\"+\",\"-11\",\"*\",\"/\",\"*\",\"17\",\"+\",\"5\",\"+\"]\n",
    "Output: 22\n",
    "```\n",
    "```\n",
    "Explanation: ((10 * (6 / ((9 + 3) * -11))) + 17) + 5\n",
    "= ((10 * (6 / (12 * -11))) + 17) + 5\n",
    "= ((10 * (6 / -132)) + 17) + 5\n",
    "= ((10 * 0) + 17) + 5\n",
    "= (0 + 17) + 5\n",
    "= 17 + 5\n",
    "= 22\n",
    " ```\n",
    "\n",
    "Constraints:\n",
    "```\n",
    "1 <= tokens.length <= 104\n",
    "```\n",
    "tokens[i] is either an operator: \"+\", \"-\", \"*\", or \"/\", or an integer in the range [-200, 200]."
   ]
  },
  {
   "cell_type": "markdown",
   "id": "a5869875-29d7-4a59-8f2e-0b9d42411062",
   "metadata": {},
   "source": [
    "**M-1**"
   ]
  },
  {
   "cell_type": "code",
   "execution_count": 43,
   "id": "f298502f-9f10-42f6-b90d-f54867fba543",
   "metadata": {
    "execution": {
     "iopub.execute_input": "2024-01-13T18:28:44.185002Z",
     "iopub.status.busy": "2024-01-13T18:28:44.183921Z",
     "iopub.status.idle": "2024-01-13T18:28:44.206880Z",
     "shell.execute_reply": "2024-01-13T18:28:44.205527Z",
     "shell.execute_reply.started": "2024-01-13T18:28:44.185002Z"
    }
   },
   "outputs": [],
   "source": [
    "from typing import List\n",
    "\n",
    "\n",
    "class Solution:\n",
    "    def evalRPN(self, tokens: List[str]) -> int:\n",
    "        oper = {\"/\": 1, \"*\": 2, \"+\": 3, \"-\": 4}\n",
    "        l = len(tokens)\n",
    "\n",
    "        while l >= 3:\n",
    "            for i in range(l):\n",
    "                if tokens[i] in oper:\n",
    "                    if oper[tokens[i]] == 1:\n",
    "                        valu = int(tokens[i - 2]) / int(tokens[i - 1])\n",
    "                    if oper[tokens[i]] == 2:\n",
    "                        valu = int(tokens[i - 2]) * int(tokens[i - 1])\n",
    "                    if oper[tokens[i]] == 3:\n",
    "                        valu = int(tokens[i - 2]) + int(tokens[i - 1])\n",
    "                    if oper[tokens[i]] == 4:\n",
    "                        valu = int(tokens[i - 2]) - int(tokens[i - 1])\n",
    "\n",
    "                    tokens.pop(i - 2)\n",
    "                    tokens.pop(i - 2)\n",
    "                    tokens.pop(i - 2)\n",
    "\n",
    "                    tokens.insert(i - 2, valu)\n",
    "                    l = len(tokens)\n",
    "                    break\n",
    "        return int(tokens[0])"
   ]
  },
  {
   "cell_type": "code",
   "execution_count": 44,
   "id": "83b438a4-c59d-486c-8d96-2731e73d7a62",
   "metadata": {
    "execution": {
     "iopub.execute_input": "2024-01-13T18:28:45.727595Z",
     "iopub.status.busy": "2024-01-13T18:28:45.726564Z",
     "iopub.status.idle": "2024-01-13T18:28:45.741769Z",
     "shell.execute_reply": "2024-01-13T18:28:45.741269Z",
     "shell.execute_reply.started": "2024-01-13T18:28:45.727595Z"
    }
   },
   "outputs": [
    {
     "data": {
      "text/plain": [
       "3"
      ]
     },
     "execution_count": 44,
     "metadata": {},
     "output_type": "execute_result"
    }
   ],
   "source": [
    "tokens = [\"2\", \"1\", \"+\"]\n",
    "ss = Solution()\n",
    "ss.evalRPN(tokens)"
   ]
  },
  {
   "cell_type": "code",
   "execution_count": 45,
   "id": "8bfdeec6-0f37-4c87-8137-7c98ce49ae8d",
   "metadata": {
    "execution": {
     "iopub.execute_input": "2024-01-13T18:28:46.619253Z",
     "iopub.status.busy": "2024-01-13T18:28:46.617701Z",
     "iopub.status.idle": "2024-01-13T18:28:46.641446Z",
     "shell.execute_reply": "2024-01-13T18:28:46.640528Z",
     "shell.execute_reply.started": "2024-01-13T18:28:46.619253Z"
    }
   },
   "outputs": [
    {
     "data": {
      "text/plain": [
       "2"
      ]
     },
     "execution_count": 45,
     "metadata": {},
     "output_type": "execute_result"
    }
   ],
   "source": [
    "tokens = [\"2\"]\n",
    "ss = Solution()\n",
    "ss.evalRPN(tokens)"
   ]
  },
  {
   "cell_type": "code",
   "execution_count": 46,
   "id": "ad33857b",
   "metadata": {
    "execution": {
     "iopub.execute_input": "2024-01-13T18:28:47.712953Z",
     "iopub.status.busy": "2024-01-13T18:28:47.712953Z",
     "iopub.status.idle": "2024-01-13T18:28:47.731810Z",
     "shell.execute_reply": "2024-01-13T18:28:47.731081Z",
     "shell.execute_reply.started": "2024-01-13T18:28:47.712953Z"
    }
   },
   "outputs": [
    {
     "data": {
      "text/plain": [
       "22"
      ]
     },
     "execution_count": 46,
     "metadata": {},
     "output_type": "execute_result"
    }
   ],
   "source": [
    "tokens = [\"10\", \"6\", \"9\", \"3\", \"+\", \"-11\", \"*\", \"/\", \"*\", \"17\", \"+\", \"5\", \"+\"]\n",
    "ss = Solution()\n",
    "ss.evalRPN(tokens)"
   ]
  },
  {
   "cell_type": "markdown",
   "id": "6cb465c5-52ae-4b6f-82d3-81e51b8a5d6b",
   "metadata": {},
   "source": [
    "**M-2**"
   ]
  },
  {
   "cell_type": "code",
   "execution_count": 50,
   "id": "d4847bdd-a994-4406-8d2b-85d685dbd230",
   "metadata": {
    "execution": {
     "iopub.execute_input": "2024-01-13T18:29:32.608335Z",
     "iopub.status.busy": "2024-01-13T18:29:32.608335Z",
     "iopub.status.idle": "2024-01-13T18:29:32.613405Z",
     "shell.execute_reply": "2024-01-13T18:29:32.613405Z",
     "shell.execute_reply.started": "2024-01-13T18:29:32.608335Z"
    }
   },
   "outputs": [],
   "source": [
    "class Solution:\n",
    "    def evalRPN(\n",
    "        self, tokens: list[str]\n",
    "    ) -> int:  #  Ex:  tokens = [\"4\",\"13\",\"5\",\"/\",\"+\"]\n",
    "        stack = []\n",
    "        #      t     operation    stack\n",
    "        for t in tokens:  #    –––––   –––––––––    –––––––––\n",
    "            if t not in \"/+-*\":  #      4                    [4]\n",
    "                stack.append(int(t))  #     13                    [4,13]\n",
    "                #      5                    [4,13,5]\n",
    "            else:  #      /     13 / 5 = 2     [4,2]\n",
    "                num = stack.pop()  #      +      4 + 2 = 6     [6]\n",
    "                if t == \"+\":\n",
    "                    stack[-1] += num\n",
    "                elif t == \"-\":\n",
    "                    stack[-1] -= num\n",
    "                elif t == \"*\":\n",
    "                    stack[-1] *= num\n",
    "                else:\n",
    "                    stack[-1] = int(stack[-1] / num)\n",
    "\n",
    "        return stack[0]"
   ]
  },
  {
   "cell_type": "code",
   "execution_count": 51,
   "id": "3d3a4273",
   "metadata": {
    "execution": {
     "iopub.execute_input": "2024-01-13T18:29:33.062942Z",
     "iopub.status.busy": "2024-01-13T18:29:33.062942Z",
     "iopub.status.idle": "2024-01-13T18:29:33.080847Z",
     "shell.execute_reply": "2024-01-13T18:29:33.079501Z",
     "shell.execute_reply.started": "2024-01-13T18:29:33.062942Z"
    }
   },
   "outputs": [
    {
     "data": {
      "text/plain": [
       "2"
      ]
     },
     "execution_count": 51,
     "metadata": {},
     "output_type": "execute_result"
    }
   ],
   "source": [
    "tokens = [\"2\"]\n",
    "ss = Solution()\n",
    "ss.evalRPN(tokens)"
   ]
  },
  {
   "cell_type": "code",
   "execution_count": 52,
   "id": "4107d5a7",
   "metadata": {
    "execution": {
     "iopub.execute_input": "2024-01-13T18:29:33.613707Z",
     "iopub.status.busy": "2024-01-13T18:29:33.612707Z",
     "iopub.status.idle": "2024-01-13T18:29:33.624414Z",
     "shell.execute_reply": "2024-01-13T18:29:33.623103Z",
     "shell.execute_reply.started": "2024-01-13T18:29:33.613707Z"
    }
   },
   "outputs": [
    {
     "data": {
      "text/plain": [
       "3"
      ]
     },
     "execution_count": 52,
     "metadata": {},
     "output_type": "execute_result"
    }
   ],
   "source": [
    "tokens = [\"2\", \"1\", \"+\"]\n",
    "ss = Solution()\n",
    "ss.evalRPN(tokens)"
   ]
  },
  {
   "cell_type": "code",
   "execution_count": 53,
   "id": "03148dd5-a334-45b2-8c9b-b48259958311",
   "metadata": {
    "execution": {
     "iopub.execute_input": "2024-01-13T18:29:34.178126Z",
     "iopub.status.busy": "2024-01-13T18:29:34.178126Z",
     "iopub.status.idle": "2024-01-13T18:29:34.185848Z",
     "shell.execute_reply": "2024-01-13T18:29:34.184635Z",
     "shell.execute_reply.started": "2024-01-13T18:29:34.178126Z"
    }
   },
   "outputs": [
    {
     "data": {
      "text/plain": [
       "22"
      ]
     },
     "execution_count": 53,
     "metadata": {},
     "output_type": "execute_result"
    }
   ],
   "source": [
    "tokens = [\"10\", \"6\", \"9\", \"3\", \"+\", \"-11\", \"*\", \"/\", \"*\", \"17\", \"+\", \"5\", \"+\"]\n",
    "ss = Solution()\n",
    "ss.evalRPN(tokens)"
   ]
  },
  {
   "cell_type": "markdown",
   "id": "1951174b-8851-4c46-9651-5112647888fc",
   "metadata": {},
   "source": [
    "### Generate Parentheses"
   ]
  },
  {
   "cell_type": "markdown",
   "id": "99993c9c-db48-4061-b616-805e929bce52",
   "metadata": {},
   "source": [
    "Given `n` pairs of parentheses, write a function to generate all combinations of well-formed parentheses.\n",
    "\n",
    " \n",
    "\n",
    "Example 1:\n",
    "```\n",
    "Input: n = 3\n",
    "Output: [\"((()))\",\"(()())\",\"(())()\",\"()(())\",\"()()()\"]\n",
    "```\n",
    "Example 2:\n",
    "```\n",
    "Input: n = 1\n",
    "Output: [\"()\"]\n",
    "```\n",
    "\n",
    "Constraints:\n",
    "```\n",
    "1 <= n <= 8\n",
    "```"
   ]
  },
  {
   "cell_type": "markdown",
   "id": "8a60ae8c-abbe-49e8-b4fc-a9ad16e3b3ce",
   "metadata": {},
   "source": [
    "**M-1**"
   ]
  },
  {
   "cell_type": "code",
   "execution_count": 74,
   "id": "7a528b85-b18f-42a5-a4ff-c02aa5729cd1",
   "metadata": {
    "execution": {
     "iopub.execute_input": "2024-01-13T22:20:22.131775Z",
     "iopub.status.busy": "2024-01-13T22:20:22.131275Z",
     "iopub.status.idle": "2024-01-13T22:20:22.140507Z",
     "shell.execute_reply": "2024-01-13T22:20:22.140507Z",
     "shell.execute_reply.started": "2024-01-13T22:20:22.131775Z"
    }
   },
   "outputs": [],
   "source": [
    "class Solution:\n",
    "    def generateParenthesis(self, n: int) -> List[str]:\n",
    "        def paranth(left, right, add):\n",
    "            if len(add) == n * 2:\n",
    "                solu.append(add)\n",
    "                return solu\n",
    "\n",
    "            if left < n:\n",
    "                paranth(left + 1, right, add + \"(\")\n",
    "\n",
    "            if right < left:\n",
    "                paranth(left, right + 1, add + \")\")\n",
    "\n",
    "        solu = []\n",
    "        paranth(0, 0, \"\")\n",
    "        return solu"
   ]
  },
  {
   "cell_type": "code",
   "execution_count": 75,
   "id": "96e56855-0dda-4c5c-93ca-bf55cf50425c",
   "metadata": {
    "execution": {
     "iopub.execute_input": "2024-01-13T22:20:23.046235Z",
     "iopub.status.busy": "2024-01-13T22:20:23.044650Z",
     "iopub.status.idle": "2024-01-13T22:20:23.056150Z",
     "shell.execute_reply": "2024-01-13T22:20:23.055588Z",
     "shell.execute_reply.started": "2024-01-13T22:20:23.046235Z"
    }
   },
   "outputs": [
    {
     "data": {
      "text/plain": [
       "['(())', '()()']"
      ]
     },
     "execution_count": 75,
     "metadata": {},
     "output_type": "execute_result"
    }
   ],
   "source": [
    "ss = Solution()\n",
    "ss.generateParenthesis(2)"
   ]
  },
  {
   "cell_type": "code",
   "execution_count": 76,
   "id": "296e6ace",
   "metadata": {
    "execution": {
     "iopub.execute_input": "2024-01-13T22:20:38.765843Z",
     "iopub.status.busy": "2024-01-13T22:20:38.765843Z",
     "iopub.status.idle": "2024-01-13T22:20:38.785220Z",
     "shell.execute_reply": "2024-01-13T22:20:38.784719Z",
     "shell.execute_reply.started": "2024-01-13T22:20:38.765843Z"
    }
   },
   "outputs": [
    {
     "data": {
      "text/plain": [
       "['((()))', '(()())', '(())()', '()(())', '()()()']"
      ]
     },
     "execution_count": 76,
     "metadata": {},
     "output_type": "execute_result"
    }
   ],
   "source": [
    "ss = Solution()\n",
    "ss.generateParenthesis(3)"
   ]
  },
  {
   "cell_type": "code",
   "execution_count": 77,
   "id": "ee669e53",
   "metadata": {
    "execution": {
     "iopub.execute_input": "2024-01-13T22:21:01.305544Z",
     "iopub.status.busy": "2024-01-13T22:21:01.304551Z",
     "iopub.status.idle": "2024-01-13T22:21:01.327886Z",
     "shell.execute_reply": "2024-01-13T22:21:01.327345Z",
     "shell.execute_reply.started": "2024-01-13T22:21:01.305544Z"
    }
   },
   "outputs": [
    {
     "data": {
      "text/plain": [
       "['(((())))',\n",
       " '((()()))',\n",
       " '((())())',\n",
       " '((()))()',\n",
       " '(()(()))',\n",
       " '(()()())',\n",
       " '(()())()',\n",
       " '(())(())',\n",
       " '(())()()',\n",
       " '()((()))',\n",
       " '()(()())',\n",
       " '()(())()',\n",
       " '()()(())',\n",
       " '()()()()']"
      ]
     },
     "execution_count": 77,
     "metadata": {},
     "output_type": "execute_result"
    }
   ],
   "source": [
    "ss = Solution()\n",
    "ss.generateParenthesis(4)"
   ]
  },
  {
   "cell_type": "markdown",
   "id": "11e48c80-a730-4c47-befc-d995e80e0947",
   "metadata": {},
   "source": [
    "**M-2**"
   ]
  },
  {
   "cell_type": "code",
   "execution_count": 78,
   "id": "5082e90f-9099-456e-8ca4-f120b5699abc",
   "metadata": {
    "execution": {
     "iopub.execute_input": "2024-01-13T22:26:23.999912Z",
     "iopub.status.busy": "2024-01-13T22:26:23.999912Z",
     "iopub.status.idle": "2024-01-13T22:26:24.019813Z",
     "shell.execute_reply": "2024-01-13T22:26:24.018887Z",
     "shell.execute_reply.started": "2024-01-13T22:26:23.999912Z"
    }
   },
   "outputs": [],
   "source": [
    "class Solution:\n",
    "    def generateParenthesis(self, n: int) -> List[str]:\n",
    "        # Helper function to generate valid combinations of parentheses using recursion.\n",
    "        def solve(open, close, op, ans):\n",
    "            # Base case: If both open and close are zero, a valid combination is formed, so add it to 'ans'.\n",
    "            if open == 0 and close == 0:\n",
    "                ans.append(op)\n",
    "            # Recursive case: If there are remaining open parentheses, try adding one.\n",
    "            if open != 0:\n",
    "                solve(open - 1, close, op + \"(\", ans)\n",
    "            # Recursive case: If there are remaining close parentheses and more open than close, add one close parenthesis.\n",
    "            if close > open:\n",
    "                solve(open, close - 1, op + \")\", ans)\n",
    "\n",
    "        ans = []  # List to store valid combinations of parentheses.\n",
    "        op = \"\"  # Current partial combination.\n",
    "\n",
    "        # Initial call to the 'solve' function with 'n' open and close parentheses and empty 'op'.\n",
    "        solve(n, n, op, ans)\n",
    "        return ans  # Return the list of valid combinations."
   ]
  },
  {
   "cell_type": "code",
   "execution_count": 80,
   "id": "3bc1471d",
   "metadata": {
    "execution": {
     "iopub.execute_input": "2024-01-13T22:26:31.148003Z",
     "iopub.status.busy": "2024-01-13T22:26:31.147282Z",
     "iopub.status.idle": "2024-01-13T22:26:31.157896Z",
     "shell.execute_reply": "2024-01-13T22:26:31.157396Z",
     "shell.execute_reply.started": "2024-01-13T22:26:31.148003Z"
    }
   },
   "outputs": [
    {
     "data": {
      "text/plain": [
       "['()']"
      ]
     },
     "execution_count": 80,
     "metadata": {},
     "output_type": "execute_result"
    }
   ],
   "source": [
    "ss = Solution()\n",
    "ss.generateParenthesis(1)"
   ]
  },
  {
   "cell_type": "code",
   "execution_count": 81,
   "id": "6aff7202",
   "metadata": {
    "execution": {
     "iopub.execute_input": "2024-01-13T22:26:42.267319Z",
     "iopub.status.busy": "2024-01-13T22:26:42.267319Z",
     "iopub.status.idle": "2024-01-13T22:26:42.274454Z",
     "shell.execute_reply": "2024-01-13T22:26:42.273455Z",
     "shell.execute_reply.started": "2024-01-13T22:26:42.267319Z"
    }
   },
   "outputs": [
    {
     "data": {
      "text/plain": [
       "['((()))', '(()())', '(())()', '()(())', '()()()']"
      ]
     },
     "execution_count": 81,
     "metadata": {},
     "output_type": "execute_result"
    }
   ],
   "source": [
    "ss = Solution()\n",
    "ss.generateParenthesis(3)"
   ]
  },
  {
   "cell_type": "markdown",
   "id": "8e022681-b58c-42b4-a53a-a094464d5190",
   "metadata": {},
   "source": [
    "### Daily Temperatures"
   ]
  },
  {
   "cell_type": "markdown",
   "id": "1db7dc3a-e8c6-4ad1-950f-ce87cb3afe89",
   "metadata": {},
   "source": [
    "Given an array of integers `temperatures` represents the daily temperatures, return an array `answer` such that `answer[i]` is the number of days you have to wait after the `ith` day to get a warmer temperature. If there is no future day for which this is possible, keep `answer[i] == 0` instead.\n",
    "\n",
    " \n",
    "\n",
    "Example 1:\n",
    "```\n",
    "Input: temperatures = [73,74,75,71,69,72,76,73]\n",
    "Output: [1,1,4,2,1,1,0,0]\n",
    "```\n",
    "Example 2:\n",
    "```\n",
    "Input: temperatures = [30,40,50,60]\n",
    "Output: [1,1,1,0]\n",
    "```\n",
    "Example 3:\n",
    "```\n",
    "Input: temperatures = [30,60,90]\n",
    "Output: [1,1,0]\n",
    " ```\n",
    "\n",
    "Constraints:\n",
    "```\n",
    "1 <= temperatures.length <= 105\n",
    "30 <= temperatures[i] <= 100\n",
    "```"
   ]
  },
  {
   "cell_type": "markdown",
   "id": "8631ce58-3fb8-4b64-aa9b-25468fa9e568",
   "metadata": {},
   "source": [
    "**M-1**"
   ]
  },
  {
   "cell_type": "code",
   "execution_count": 111,
   "id": "31ca05ce-aed7-420b-83ea-dc710704fac4",
   "metadata": {
    "execution": {
     "iopub.execute_input": "2024-01-13T23:24:57.528960Z",
     "iopub.status.busy": "2024-01-13T23:24:57.527384Z",
     "iopub.status.idle": "2024-01-13T23:24:57.545865Z",
     "shell.execute_reply": "2024-01-13T23:24:57.544866Z",
     "shell.execute_reply.started": "2024-01-13T23:24:57.528960Z"
    }
   },
   "outputs": [],
   "source": [
    "class Solution:\n",
    "    def dailyTemperatures(self, temperatures: List[int]) -> List[int]:\n",
    "        l = len(temperatures)\n",
    "        result = []\n",
    "        # result.append(1)\n",
    "        for i in range(l):\n",
    "            lower = temperatures[i]\n",
    "            next_temp = temperatures[i + 1 :]\n",
    "            l_next = len(next_temp)\n",
    "            for j in range(l_next):\n",
    "                if temperatures[i] < next_temp[j]:\n",
    "                    result.append(j + 1)\n",
    "                    break\n",
    "                if j == l_next - 1:\n",
    "                    result.append(0)\n",
    "        result.append(0)\n",
    "        return result"
   ]
  },
  {
   "cell_type": "code",
   "execution_count": 112,
   "id": "ce55eb00-59ea-4e60-ae70-1bd6ec1aa6d1",
   "metadata": {
    "execution": {
     "iopub.execute_input": "2024-01-13T23:24:58.156612Z",
     "iopub.status.busy": "2024-01-13T23:24:58.155625Z",
     "iopub.status.idle": "2024-01-13T23:24:58.167620Z",
     "shell.execute_reply": "2024-01-13T23:24:58.167121Z",
     "shell.execute_reply.started": "2024-01-13T23:24:58.156612Z"
    }
   },
   "outputs": [
    {
     "data": {
      "text/plain": [
       "[1, 1, 4, 2, 1, 1, 0, 0]"
      ]
     },
     "execution_count": 112,
     "metadata": {},
     "output_type": "execute_result"
    }
   ],
   "source": [
    "temperatures = [73, 74, 75, 71, 69, 72, 76, 73]\n",
    "ss = Solution()\n",
    "ss.dailyTemperatures(temperatures)"
   ]
  },
  {
   "cell_type": "code",
   "execution_count": 113,
   "id": "bf34364e-5a7f-4a88-b4a6-8dd6fb69b9a9",
   "metadata": {
    "execution": {
     "iopub.execute_input": "2024-01-13T23:24:58.684015Z",
     "iopub.status.busy": "2024-01-13T23:24:58.684015Z",
     "iopub.status.idle": "2024-01-13T23:24:58.697614Z",
     "shell.execute_reply": "2024-01-13T23:24:58.695863Z",
     "shell.execute_reply.started": "2024-01-13T23:24:58.684015Z"
    }
   },
   "outputs": [
    {
     "data": {
      "text/plain": [
       "[1, 1, 0]"
      ]
     },
     "execution_count": 113,
     "metadata": {},
     "output_type": "execute_result"
    }
   ],
   "source": [
    "temperatures = [30, 60, 90]\n",
    "ss = Solution()\n",
    "ss.dailyTemperatures(temperatures)"
   ]
  },
  {
   "cell_type": "markdown",
   "id": "24104384-3eb2-4f79-aa52-23ff7981425b",
   "metadata": {},
   "source": [
    "**M-1**"
   ]
  },
  {
   "cell_type": "code",
   "execution_count": 123,
   "id": "9fb0042b",
   "metadata": {
    "execution": {
     "iopub.execute_input": "2024-01-14T06:43:10.417462Z",
     "iopub.status.busy": "2024-01-14T06:43:10.416996Z",
     "iopub.status.idle": "2024-01-14T06:43:10.439482Z",
     "shell.execute_reply": "2024-01-14T06:43:10.437977Z",
     "shell.execute_reply.started": "2024-01-14T06:43:10.417462Z"
    }
   },
   "outputs": [],
   "source": [
    "class Solution:\n",
    "    def dailyTemperatures(self, temperatures: List[int]) -> List[int]:\n",
    "        n = len(temperatures)\n",
    "        ans = [0] * n\n",
    "        stack = []\n",
    "        for i in range(n - 1, -1, -1):\n",
    "            while stack and ans[i] == 0:\n",
    "                if temperatures[stack[-1]] <= temperatures[i]:\n",
    "                    stack.pop()\n",
    "                else:\n",
    "                    ans[i] = stack[-1] - i\n",
    "\n",
    "            stack.append(i)\n",
    "\n",
    "        return ans"
   ]
  },
  {
   "cell_type": "code",
   "execution_count": 124,
   "id": "d9fddee8",
   "metadata": {
    "execution": {
     "iopub.execute_input": "2024-01-14T06:43:10.963810Z",
     "iopub.status.busy": "2024-01-14T06:43:10.962942Z",
     "iopub.status.idle": "2024-01-14T06:43:10.984374Z",
     "shell.execute_reply": "2024-01-14T06:43:10.982580Z",
     "shell.execute_reply.started": "2024-01-14T06:43:10.963810Z"
    }
   },
   "outputs": [
    {
     "data": {
      "text/plain": [
       "[1, 1, 4, 2, 1, 1, 0, 0]"
      ]
     },
     "execution_count": 124,
     "metadata": {},
     "output_type": "execute_result"
    }
   ],
   "source": [
    "temperatures = [73, 74, 75, 71, 69, 72, 76, 73]\n",
    "ss = Solution()\n",
    "ss.dailyTemperatures(temperatures)"
   ]
  },
  {
   "cell_type": "code",
   "execution_count": 119,
   "id": "a5af1d8a",
   "metadata": {
    "execution": {
     "iopub.execute_input": "2024-01-13T23:50:35.984916Z",
     "iopub.status.busy": "2024-01-13T23:50:35.984916Z",
     "iopub.status.idle": "2024-01-13T23:50:36.005568Z",
     "shell.execute_reply": "2024-01-13T23:50:36.004580Z",
     "shell.execute_reply.started": "2024-01-13T23:50:35.984916Z"
    }
   },
   "outputs": [
    {
     "data": {
      "text/plain": [
       "[1, 1, 0]"
      ]
     },
     "execution_count": 119,
     "metadata": {},
     "output_type": "execute_result"
    }
   ],
   "source": [
    "temperatures = [30, 60, 90]\n",
    "ss = Solution()\n",
    "ss.dailyTemperatures(temperatures)"
   ]
  },
  {
   "cell_type": "markdown",
   "id": "c12dae1c-729b-4be8-99a8-92d5a1878fbc",
   "metadata": {},
   "source": [
    "### Car Fleet"
   ]
  },
  {
   "cell_type": "markdown",
   "id": "48bb5c0a-b2e4-41a2-ac05-70f2dea24559",
   "metadata": {
    "execution": {
     "iopub.execute_input": "2024-01-13T23:54:41.744923Z",
     "iopub.status.busy": "2024-01-13T23:54:41.744923Z",
     "iopub.status.idle": "2024-01-13T23:54:41.768264Z",
     "shell.execute_reply": "2024-01-13T23:54:41.767765Z",
     "shell.execute_reply.started": "2024-01-13T23:54:41.744923Z"
    }
   },
   "source": [
    "There are `n` cars going to the same destination along a one-lane road. The destination is `target` miles away.\n",
    "\n",
    "You are given two integer array position and speed, both of length n, where `position[i]` is the position of the `ith` car and `speed[i]` is the speed of the `ith` car (in miles per hour).\n",
    "\n",
    "A car can never pass another car ahead of it, but it can catch up to it and drive bumper to bumper at the same speed. The faster car will slow down to match the slower car's speed. The distance between these two cars is ignored (i.e., they are assumed to have the same position).\n",
    "\n",
    "A car fleet is some non-empty set of cars driving at the same position and same speed. Note that a single car is also a car fleet.\n",
    "\n",
    "If a car catches up to a car fleet right at the destination point, it will still be considered as one car fleet.\n",
    "\n",
    "Return the number of car fleets that will arrive at the destination.\n",
    "\n",
    " \n",
    "\n",
    "Example 1:\n",
    "```\n",
    "\n",
    "Input: target = 12, position = [10,8,0,5,3], speed = [2,4,1,1,3]\n",
    "Output: 3\n",
    "```\n",
    "Explanation:\n",
    "The cars starting at 10 (speed 2) and 8 (speed 4) become a fleet, meeting each other at 12.\n",
    "The car starting at 0 does not catch up to any other car, so it is a fleet by itself.\n",
    "The cars starting at 5 (speed 1) and 3 (speed 3) become a fleet, meeting each other at 6. The fleet moves at speed 1 until it reaches target.\n",
    "Note that no other cars meet these fleets before the destination, so the answer is 3.\n",
    "Example 2:\n",
    "```\n",
    "\n",
    "Input: target = 10, position = [3], speed = [3]\n",
    "Output: 1\n",
    "Explanation: There is only one car, hence there is only one fleet.\n",
    "```\n",
    "Example 3:\n",
    "\n",
    "```\n",
    "Input: target = 100, position = [0,2,4], speed = [4,2,1]\n",
    "Output: 1\n",
    "```\n",
    "Explanation:\n",
    "The cars starting at 0 (speed 4) and 2 (speed 2) become a fleet, meeting each other at 4. The fleet moves at speed 2.\n",
    "Then, the fleet (speed 2) and the car starting at 4 (speed 1) become one fleet, meeting each other at 6. The fleet moves at speed 1 until it reaches target.\n",
    " \n",
    "\n",
    "Constraints:\n",
    "\n",
    "```\n",
    "n == position.length == speed.length\n",
    "1 <= n <= 105\n",
    "0 < target <= 106\n",
    "0 <= position[i] < target\n",
    "All the values of position are unique.\n",
    "0 < speed[i] <= 106\n",
    "```"
   ]
  },
  {
   "cell_type": "markdown",
   "id": "8df08fa3-8bf4-4b6b-8ead-f0421a9bbb13",
   "metadata": {},
   "source": [
    "**M-1**"
   ]
  },
  {
   "cell_type": "code",
   "execution_count": 24,
   "id": "0ecf2a1a-c76c-49c3-ba8a-4d90b114dd48",
   "metadata": {
    "execution": {
     "iopub.execute_input": "2024-01-14T18:22:14.047148Z",
     "iopub.status.busy": "2024-01-14T18:22:14.047148Z",
     "iopub.status.idle": "2024-01-14T18:22:14.059246Z",
     "shell.execute_reply": "2024-01-14T18:22:14.058745Z",
     "shell.execute_reply.started": "2024-01-14T18:22:14.047148Z"
    }
   },
   "outputs": [],
   "source": [
    "import collections\n",
    "from typing import List\n",
    "class Solution:\n",
    "    def carFleet(self, target: int, position: List[int], speed: List[int]) -> int:\n",
    "        pos_speed = zip(position,speed)\n",
    "        pos_speed=sorted(pos_speed, reverse=True)\n",
    "        time_criti = float('-inf')\n",
    "        fleet = 0\n",
    "        for dist, speed in pos_speed:\n",
    "            time_to_reach = (target-dist)/speed\n",
    "\n",
    "            if time_criti < time_to_reach:\n",
    "                time_criti = time_to_reach\n",
    "                fleet +=1\n",
    "\n",
    "        return fleet"
   ]
  },
  {
   "cell_type": "code",
   "execution_count": 25,
   "id": "7aad2897-c18c-409b-9e64-f255b3fb7f53",
   "metadata": {
    "execution": {
     "iopub.execute_input": "2024-01-14T18:22:14.313781Z",
     "iopub.status.busy": "2024-01-14T18:22:14.313781Z",
     "iopub.status.idle": "2024-01-14T18:22:14.325463Z",
     "shell.execute_reply": "2024-01-14T18:22:14.324963Z",
     "shell.execute_reply.started": "2024-01-14T18:22:14.313781Z"
    }
   },
   "outputs": [
    {
     "data": {
      "text/plain": [
       "3"
      ]
     },
     "execution_count": 25,
     "metadata": {},
     "output_type": "execute_result"
    }
   ],
   "source": [
    "target = 12\n",
    "position = [10,8,0,5,3]\n",
    "speed = [2,4,1,1,3]\n",
    "\n",
    "ss=Solution()\n",
    "ss.carFleet(target, position, speed)"
   ]
  },
  {
   "cell_type": "code",
   "execution_count": 21,
   "id": "ba12a3c0-3ff0-4211-97ae-7438494b40cc",
   "metadata": {
    "execution": {
     "iopub.execute_input": "2024-01-14T18:16:34.220114Z",
     "iopub.status.busy": "2024-01-14T18:16:34.219115Z",
     "iopub.status.idle": "2024-01-14T18:16:34.231200Z",
     "shell.execute_reply": "2024-01-14T18:16:34.231200Z",
     "shell.execute_reply.started": "2024-01-14T18:16:34.220114Z"
    }
   },
   "outputs": [
    {
     "name": "stdout",
     "output_type": "stream",
     "text": [
      "-inf\n"
     ]
    },
    {
     "data": {
      "text/plain": [
       "[(10, 2), (8, 4), (5, 1), (3, 3), (0, 1)]"
      ]
     },
     "execution_count": 21,
     "metadata": {},
     "output_type": "execute_result"
    }
   ],
   "source": [
    "target = 12\n",
    "position = [10,8,0,5,3]\n",
    "speed = [2,4,1,1,3]\n",
    "\n",
    "ss=Solution()\n",
    "ss.carFleet(target, position, speed)"
   ]
  },
  {
   "cell_type": "markdown",
   "id": "3beafaa5-748c-453b-8c58-b55ab94dd93c",
   "metadata": {},
   "source": [
    "**M-2**"
   ]
  },
  {
   "cell_type": "code",
   "execution_count": 26,
   "id": "2c22c7f5-4b7d-477a-9ebc-cde9d1fa4a0d",
   "metadata": {
    "execution": {
     "iopub.execute_input": "2024-01-14T18:28:06.063325Z",
     "iopub.status.busy": "2024-01-14T18:28:06.062329Z",
     "iopub.status.idle": "2024-01-14T18:28:06.088971Z",
     "shell.execute_reply": "2024-01-14T18:28:06.088043Z",
     "shell.execute_reply.started": "2024-01-14T18:28:06.063325Z"
    }
   },
   "outputs": [],
   "source": [
    "class Solution:\n",
    "    def carFleet(self, target: int, position: List[int], speed: List[int]) -> int:\n",
    "        \"\"\"\n",
    "        sort the start position.\n",
    "        the car behind can only catch up no exceed.\n",
    "        so if the car start late and speed is faster, it will catch up the car ahead of itself and they become a fleet.\n",
    "        there is a target(or desitination),so use arrive time to measure. \n",
    "        \n",
    "        start late but arrive ealier means the car is behind and will catch up before arriving the destination.\n",
    "        \n",
    "        position  10  8  5  3  0\n",
    "        distance  2   4  7  9  12\n",
    "        speed.    2   4  1  3  1\n",
    "        time.     1   1  7  3  12\n",
    "                      ^     ^\n",
    "                      |     |\n",
    "                     catch  catch up the previous car before target, join the fleet\n",
    "\t\tstack = [1] , [1],[1,7],[1,7][1,7,12] \t\t\t \n",
    "                                \n",
    "        \"\"\"\n",
    "        stack = []\n",
    "        for pos, v in sorted(zip(position, speed),reverse = True):\n",
    "\n",
    "            dist = target - pos\n",
    "            time = dist / v \n",
    "            \n",
    "            if not stack:\n",
    "                stack.append(time)\n",
    "            elif time > stack[-1]:\n",
    "                stack.append(time)\n",
    "\n",
    "        return len(stack)"
   ]
  },
  {
   "cell_type": "code",
   "execution_count": 27,
   "id": "e5e04677-e2a6-41d4-8909-2fba42ebf2eb",
   "metadata": {
    "execution": {
     "iopub.execute_input": "2024-01-14T18:28:13.192142Z",
     "iopub.status.busy": "2024-01-14T18:28:13.191137Z",
     "iopub.status.idle": "2024-01-14T18:28:13.212287Z",
     "shell.execute_reply": "2024-01-14T18:28:13.211281Z",
     "shell.execute_reply.started": "2024-01-14T18:28:13.192142Z"
    }
   },
   "outputs": [
    {
     "data": {
      "text/plain": [
       "3"
      ]
     },
     "execution_count": 27,
     "metadata": {},
     "output_type": "execute_result"
    }
   ],
   "source": [
    "target = 12\n",
    "position = [10,8,0,5,3]\n",
    "speed = [2,4,1,1,3]\n",
    "\n",
    "ss=Solution()\n",
    "ss.carFleet(target, position, speed)"
   ]
  },
  {
   "cell_type": "markdown",
   "id": "8ebb49af-615a-45ec-88dd-d6361de4f658",
   "metadata": {},
   "source": [
    "**M-3**"
   ]
  },
  {
   "cell_type": "code",
   "execution_count": 28,
   "id": "72b02a1e-668d-4602-85df-bb996b7fbf42",
   "metadata": {
    "execution": {
     "iopub.execute_input": "2024-01-14T18:28:39.923986Z",
     "iopub.status.busy": "2024-01-14T18:28:39.923986Z",
     "iopub.status.idle": "2024-01-14T18:28:39.936116Z",
     "shell.execute_reply": "2024-01-14T18:28:39.935116Z",
     "shell.execute_reply.started": "2024-01-14T18:28:39.923986Z"
    }
   },
   "outputs": [],
   "source": [
    "class Solution:\n",
    "    def carFleet(self, target: int, position: List[int], speed: List[int]) -> int:\n",
    "        cars = list()\n",
    "        stack = list()\n",
    "        for index in range(len(position)):\n",
    "            cars.append([position[index], speed[index]])\n",
    "        \n",
    "        cars = sorted(cars, key=lambda x: x[0], reverse=True)\n",
    "        print(cars)\n",
    "        \n",
    "        for car_position, car_speed in cars:\n",
    "            stack.append((target-car_position)/car_speed)\n",
    "            if len(stack) >= 2 and stack[-1] <= stack[-2]:\n",
    "                stack.pop()\n",
    "        return len(stack)"
   ]
  },
  {
   "cell_type": "code",
   "execution_count": 29,
   "id": "05aebbf2-2e35-455c-a18b-e768341b57dd",
   "metadata": {
    "execution": {
     "iopub.execute_input": "2024-01-14T18:28:40.290590Z",
     "iopub.status.busy": "2024-01-14T18:28:40.290590Z",
     "iopub.status.idle": "2024-01-14T18:28:40.309288Z",
     "shell.execute_reply": "2024-01-14T18:28:40.307869Z",
     "shell.execute_reply.started": "2024-01-14T18:28:40.290590Z"
    }
   },
   "outputs": [
    {
     "name": "stdout",
     "output_type": "stream",
     "text": [
      "[[10, 2], [8, 4], [5, 1], [3, 3], [0, 1]]\n"
     ]
    },
    {
     "data": {
      "text/plain": [
       "3"
      ]
     },
     "execution_count": 29,
     "metadata": {},
     "output_type": "execute_result"
    }
   ],
   "source": [
    "target = 12\n",
    "position = [10,8,0,5,3]\n",
    "speed = [2,4,1,1,3]\n",
    "\n",
    "ss=Solution()\n",
    "ss.carFleet(target, position, speed)"
   ]
  },
  {
   "cell_type": "markdown",
   "id": "eddcfe01-8d16-4d4b-b83e-a9cca4658fa6",
   "metadata": {},
   "source": [
    "### Largest Rectangle in Histogram"
   ]
  },
  {
   "cell_type": "markdown",
   "id": "acee7553-8850-42c5-9f84-310684242a3f",
   "metadata": {},
   "source": [
    "Given an array of integers `heights` representing the histogram's bar height where the width of each bar is `1`, return the area of the largest rectangle in the histogram.\n",
    "\n",
    " \n",
    "\n",
    "Example 1:\n",
    "![](https://assets.leetcode.com/uploads/2021/01/04/histogram.jpg)\n",
    "```\n",
    "Input: heights = [2,1,5,6,2,3]\n",
    "Output: 10\n",
    "```\n",
    "Explanation: The above is a histogram where width of each bar is 1.\n",
    "The largest rectangle is shown in the red area, which has an area = 10 units.\n",
    "\n",
    "Example 2:\n",
    "\n",
    "![](https://assets.leetcode.com/uploads/2021/01/04/histogram-1.jpg)\n",
    "```\n",
    "Input: heights = [2,4]\n",
    "Output: 4\n",
    "```\n",
    " \n",
    "\n",
    "Constraints:\n",
    "\n",
    "```\n",
    "1 <= heights.length <= 105\n",
    "0 <= heights[i] <= 104\n",
    "```"
   ]
  },
  {
   "cell_type": "markdown",
   "id": "80a68b92-76bd-4857-b7d8-8fb6aeca3efb",
   "metadata": {},
   "source": [
    "**M-1**"
   ]
  },
  {
   "cell_type": "code",
   "execution_count": 11,
   "id": "bd15e50f-4ef1-4950-abb4-e3d9c12fdf4e",
   "metadata": {
    "execution": {
     "iopub.execute_input": "2024-01-14T19:33:04.593931Z",
     "iopub.status.busy": "2024-01-14T19:33:04.592931Z",
     "iopub.status.idle": "2024-01-14T19:33:04.618867Z",
     "shell.execute_reply": "2024-01-14T19:33:04.615204Z",
     "shell.execute_reply.started": "2024-01-14T19:33:04.593931Z"
    }
   },
   "outputs": [],
   "source": [
    "from typing import List\n",
    "import collections\n",
    "class Solution:\n",
    "    def largestRectangleArea(self, heights: List[int]) -> int:\n",
    "        len_height = len(heights)\n",
    "        area = 0\n",
    "        for i in range(len_height):\n",
    "            area = max(area, heights[i])\n",
    "            min_h = heights[i]\n",
    "            base = 1\n",
    "            for j in range(i+1, len_height):\n",
    "                base +=1\n",
    "                min_h = min(min_h, heights[j])\n",
    "                area = max(area, min_h*base)\n",
    "        return area"
   ]
  },
  {
   "cell_type": "code",
   "execution_count": 12,
   "id": "e90379da-1938-421a-b85d-ecad659e24fe",
   "metadata": {
    "execution": {
     "iopub.execute_input": "2024-01-14T19:33:05.426211Z",
     "iopub.status.busy": "2024-01-14T19:33:05.425071Z",
     "iopub.status.idle": "2024-01-14T19:33:05.440977Z",
     "shell.execute_reply": "2024-01-14T19:33:05.438978Z",
     "shell.execute_reply.started": "2024-01-14T19:33:05.426133Z"
    }
   },
   "outputs": [
    {
     "data": {
      "text/plain": [
       "10"
      ]
     },
     "execution_count": 12,
     "metadata": {},
     "output_type": "execute_result"
    }
   ],
   "source": [
    "heights = [2,1,5,6,2,3]\n",
    "\n",
    "ss = Solution()\n",
    "ss.largestRectangleArea(heights)"
   ]
  },
  {
   "cell_type": "code",
   "execution_count": 13,
   "id": "29dee1a9",
   "metadata": {
    "execution": {
     "iopub.execute_input": "2024-01-14T19:33:06.181548Z",
     "iopub.status.busy": "2024-01-14T19:33:06.180853Z",
     "iopub.status.idle": "2024-01-14T19:33:06.201980Z",
     "shell.execute_reply": "2024-01-14T19:33:06.199789Z",
     "shell.execute_reply.started": "2024-01-14T19:33:06.181548Z"
    }
   },
   "outputs": [
    {
     "data": {
      "text/plain": [
       "4"
      ]
     },
     "execution_count": 13,
     "metadata": {},
     "output_type": "execute_result"
    }
   ],
   "source": [
    "heights = [2,4]\n",
    "\n",
    "ss = Solution()\n",
    "ss.largestRectangleArea(heights)"
   ]
  },
  {
   "cell_type": "markdown",
   "id": "c2c3b814-1ca4-461e-b660-0d1d1fd9006d",
   "metadata": {},
   "source": [
    "**M-2**"
   ]
  },
  {
   "cell_type": "code",
   "execution_count": 23,
   "id": "bf61f536",
   "metadata": {
    "execution": {
     "iopub.execute_input": "2024-01-14T19:42:48.946071Z",
     "iopub.status.busy": "2024-01-14T19:42:48.946071Z",
     "iopub.status.idle": "2024-01-14T19:42:48.962914Z",
     "shell.execute_reply": "2024-01-14T19:42:48.960802Z",
     "shell.execute_reply.started": "2024-01-14T19:42:48.946071Z"
    }
   },
   "outputs": [],
   "source": [
    "from typing import List\n",
    "import collections\n",
    "class Solution:\n",
    "    def largestRectangleArea(self, heights: List[int]) -> int:\n",
    "        len_height = len(heights)\n",
    "        area = 0\n",
    "        min_h = float(\"-inf\")\n",
    "        for i in range(len_height):\n",
    "            if heights[i]>min_h:\n",
    "                area = max(area, heights[i])\n",
    "                min_h = heights[i]\n",
    "                base = 1\n",
    "                for j in range(i+1, len_height):\n",
    "                    base +=1\n",
    "                    min_h = min(min_h, heights[j])\n",
    "                    area = max(area, min_h*base)\n",
    "        return area"
   ]
  },
  {
   "cell_type": "code",
   "execution_count": 24,
   "id": "25bb991f",
   "metadata": {
    "execution": {
     "iopub.execute_input": "2024-01-14T19:42:50.071836Z",
     "iopub.status.busy": "2024-01-14T19:42:50.070587Z",
     "iopub.status.idle": "2024-01-14T19:42:50.097255Z",
     "shell.execute_reply": "2024-01-14T19:42:50.095742Z",
     "shell.execute_reply.started": "2024-01-14T19:42:50.071836Z"
    }
   },
   "outputs": [
    {
     "data": {
      "text/plain": [
       "4"
      ]
     },
     "execution_count": 24,
     "metadata": {},
     "output_type": "execute_result"
    }
   ],
   "source": [
    "heights = [2,4]\n",
    "\n",
    "ss = Solution()\n",
    "ss.largestRectangleArea(heights)"
   ]
  },
  {
   "cell_type": "code",
   "execution_count": 25,
   "id": "40622083",
   "metadata": {
    "execution": {
     "iopub.execute_input": "2024-01-14T19:42:50.671543Z",
     "iopub.status.busy": "2024-01-14T19:42:50.669571Z",
     "iopub.status.idle": "2024-01-14T19:42:50.689825Z",
     "shell.execute_reply": "2024-01-14T19:42:50.687798Z",
     "shell.execute_reply.started": "2024-01-14T19:42:50.671543Z"
    }
   },
   "outputs": [
    {
     "data": {
      "text/plain": [
       "10"
      ]
     },
     "execution_count": 25,
     "metadata": {},
     "output_type": "execute_result"
    }
   ],
   "source": [
    "heights = [2,1,5,6,2,3]\n",
    "\n",
    "ss = Solution()\n",
    "ss.largestRectangleArea(heights)"
   ]
  },
  {
   "cell_type": "markdown",
   "id": "3765a2d6-315f-4d20-b296-b30b2be6dc85",
   "metadata": {
    "execution": {
     "iopub.execute_input": "2024-01-14T20:09:27.780538Z",
     "iopub.status.busy": "2024-01-14T20:09:27.779052Z",
     "iopub.status.idle": "2024-01-14T20:09:27.978875Z",
     "shell.execute_reply": "2024-01-14T20:09:27.971987Z",
     "shell.execute_reply.started": "2024-01-14T20:09:27.780538Z"
    }
   },
   "source": [
    "**M-3**"
   ]
  },
  {
   "cell_type": "code",
   "execution_count": 26,
   "id": "018f35a7-9eb3-44f5-bcfc-de649143d29d",
   "metadata": {
    "execution": {
     "iopub.execute_input": "2024-01-14T19:55:40.583284Z",
     "iopub.status.busy": "2024-01-14T19:55:40.578836Z",
     "iopub.status.idle": "2024-01-14T19:55:40.629439Z",
     "shell.execute_reply": "2024-01-14T19:55:40.623795Z",
     "shell.execute_reply.started": "2024-01-14T19:55:40.583102Z"
    }
   },
   "outputs": [],
   "source": [
    "class Solution:\n",
    "    def largestRectangleArea(self, heights: List[int]) -> int:\n",
    "        maxArea = 0\n",
    "        stack = []\n",
    "\n",
    "        for index , height in enumerate(heights):\n",
    "            start = index\n",
    "            \n",
    "            while start and stack[-1][1] > height:\n",
    "                i , h = stack.pop()\n",
    "                maxArea = max(maxArea , (index-i)*h)\n",
    "                start = i\n",
    "            stack.append((start , height))\n",
    "\n",
    "        for index , height in stack:\n",
    "            maxArea = max(maxArea , (len(heights)-index)*height)\n",
    "\n",
    "        return maxArea "
   ]
  },
  {
   "cell_type": "code",
   "execution_count": 27,
   "id": "4448334e",
   "metadata": {
    "execution": {
     "iopub.execute_input": "2024-01-14T19:55:41.683521Z",
     "iopub.status.busy": "2024-01-14T19:55:41.680288Z",
     "iopub.status.idle": "2024-01-14T19:55:41.735628Z",
     "shell.execute_reply": "2024-01-14T19:55:41.725327Z",
     "shell.execute_reply.started": "2024-01-14T19:55:41.682972Z"
    }
   },
   "outputs": [
    {
     "data": {
      "text/plain": [
       "10"
      ]
     },
     "execution_count": 27,
     "metadata": {},
     "output_type": "execute_result"
    }
   ],
   "source": [
    "heights = [2,1,5,6,2,3]\n",
    "\n",
    "ss = Solution()\n",
    "ss.largestRectangleArea(heights)"
   ]
  },
  {
   "cell_type": "code",
   "execution_count": 28,
   "id": "0d02ddce",
   "metadata": {
    "execution": {
     "iopub.execute_input": "2024-01-14T19:55:42.720557Z",
     "iopub.status.busy": "2024-01-14T19:55:42.717503Z",
     "iopub.status.idle": "2024-01-14T19:55:42.761308Z",
     "shell.execute_reply": "2024-01-14T19:55:42.755000Z",
     "shell.execute_reply.started": "2024-01-14T19:55:42.720060Z"
    }
   },
   "outputs": [
    {
     "data": {
      "text/plain": [
       "4"
      ]
     },
     "execution_count": 28,
     "metadata": {},
     "output_type": "execute_result"
    }
   ],
   "source": [
    "heights = [2,4]\n",
    "\n",
    "ss = Solution()\n",
    "ss.largestRectangleArea(heights)"
   ]
  },
  {
   "cell_type": "markdown",
   "id": "d3e12ab5-a129-4708-b6b7-d6a78b0e11cf",
   "metadata": {},
   "source": [
    "**M-4**"
   ]
  },
  {
   "cell_type": "code",
   "execution_count": 67,
   "id": "9a2f8c0c-7437-4739-b05c-170549c2cb29",
   "metadata": {
    "execution": {
     "iopub.execute_input": "2024-01-14T20:06:19.702268Z",
     "iopub.status.busy": "2024-01-14T20:06:19.701264Z",
     "iopub.status.idle": "2024-01-14T20:06:19.714468Z",
     "shell.execute_reply": "2024-01-14T20:06:19.712380Z",
     "shell.execute_reply.started": "2024-01-14T20:06:19.702268Z"
    }
   },
   "outputs": [],
   "source": [
    "class Solution:\n",
    "    def largestRectangleArea(self, bars: List[int]) -> int:\n",
    "    \tst = []\n",
    "    \tres = 0        \n",
    "\n",
    "    \tfor bar in bars + [-1]: # add -1 to have an additional iteration\n",
    "    \t\tstep = 0\n",
    "    \t\twhile st and st[-1][1] >= bar:\n",
    "    \t\t\tw, h = st.pop()\n",
    "    \t\t\tstep += w\n",
    "    \t\t\tres = max(res, step * h)\n",
    "    \n",
    "    \t\tst.append((step + 1, bar))\n",
    "    \n",
    "    \treturn res"
   ]
  },
  {
   "cell_type": "code",
   "execution_count": 68,
   "id": "bed7f618",
   "metadata": {
    "execution": {
     "iopub.execute_input": "2024-01-14T20:06:20.115551Z",
     "iopub.status.busy": "2024-01-14T20:06:20.114548Z",
     "iopub.status.idle": "2024-01-14T20:06:20.133362Z",
     "shell.execute_reply": "2024-01-14T20:06:20.131241Z",
     "shell.execute_reply.started": "2024-01-14T20:06:20.115551Z"
    }
   },
   "outputs": [
    {
     "data": {
      "text/plain": [
       "4"
      ]
     },
     "execution_count": 68,
     "metadata": {},
     "output_type": "execute_result"
    }
   ],
   "source": [
    "heights = [2,4]\n",
    "\n",
    "ss = Solution()\n",
    "ss.largestRectangleArea(heights)"
   ]
  },
  {
   "cell_type": "code",
   "execution_count": 66,
   "id": "a7b38a66",
   "metadata": {
    "execution": {
     "iopub.execute_input": "2024-01-14T20:06:13.712323Z",
     "iopub.status.busy": "2024-01-14T20:06:13.712323Z",
     "iopub.status.idle": "2024-01-14T20:06:13.734162Z",
     "shell.execute_reply": "2024-01-14T20:06:13.731148Z",
     "shell.execute_reply.started": "2024-01-14T20:06:13.712323Z"
    }
   },
   "outputs": [
    {
     "data": {
      "text/plain": [
       "10"
      ]
     },
     "execution_count": 66,
     "metadata": {},
     "output_type": "execute_result"
    }
   ],
   "source": [
    "heights = [2,1,5,6,2,3]\n",
    "\n",
    "ss = Solution()\n",
    "ss.largestRectangleArea(heights)"
   ]
  },
  {
   "cell_type": "markdown",
   "id": "fbcf3d98-4380-4f3e-9354-160ea33d118c",
   "metadata": {},
   "source": [
    "## Two Pointers"
   ]
  },
  {
   "cell_type": "markdown",
   "id": "a00ee2b7-d745-459e-98ca-b77bfd49bd2b",
   "metadata": {},
   "source": [
    "### Valid Palindrome"
   ]
  },
  {
   "cell_type": "markdown",
   "id": "8e6b2d54-0c6b-44ea-b59b-6cbf57dda74c",
   "metadata": {},
   "source": [
    "A phrase is a palindrome if, after converting all uppercase letters into lowercase letters and removing all non-alphanumeric characters, it reads the same forward and backward. Alphanumeric characters include letters and numbers.\n",
    "\n",
    "Given a string `s`, return `true` if it is a palindrome, or `false` otherwise.\n",
    "\n",
    " \n",
    "\n",
    "Example 1:\n",
    "```\n",
    "\n",
    "Input: s = \"A man, a plan, a canal: Panama\"\n",
    "Output: true\n",
    "Explanation: \"amanaplanacanalpanama\" is a palindrome.\n",
    "```\n",
    "Example 2:\n",
    "\n",
    "```\n",
    "Input: s = \"race a car\"\n",
    "Output: false\n",
    "Explanation: \"raceacar\" is not a palindrome.\n",
    "```\n",
    "Example 3:\n",
    "\n",
    "```\n",
    "Input: s = \" \"\n",
    "Output: true\n",
    "```\n",
    "Explanation: s is an empty string \"\" after removing non-alphanumeric characters.\n",
    "Since an empty string reads the same forward and backward, it is a palindrome.\n",
    " \n",
    "\n",
    "Constraints:\n",
    "\n",
    "```\n",
    "1 <= s.length <= 2 * 105\n",
    "s consists only of printable ASCII characters.\n",
    "```"
   ]
  },
  {
   "cell_type": "code",
   "execution_count": null,
   "id": "903be4e9-77e7-4919-af02-cb4ff51f4256",
   "metadata": {},
   "outputs": [],
   "source": []
  },
  {
   "cell_type": "code",
   "execution_count": null,
   "id": "ae2b10f0-2253-4332-9587-aed98b75a3de",
   "metadata": {},
   "outputs": [],
   "source": []
  },
  {
   "cell_type": "code",
   "execution_count": null,
   "id": "276e6462-89c0-4f47-9ff0-91ec706935d1",
   "metadata": {},
   "outputs": [],
   "source": []
  },
  {
   "cell_type": "code",
   "execution_count": null,
   "id": "69e48a22-1b77-4b43-b342-759fd35ed8bd",
   "metadata": {},
   "outputs": [],
   "source": []
  }
 ],
 "metadata": {
  "kernelspec": {
   "display_name": "Python 3 (ipykernel)",
   "language": "python",
   "name": "python3"
  },
  "language_info": {
   "codemirror_mode": {
    "name": "ipython",
    "version": 3
   },
   "file_extension": ".py",
   "mimetype": "text/x-python",
   "name": "python",
   "nbconvert_exporter": "python",
   "pygments_lexer": "ipython3",
   "version": "3.9.1"
  }
 },
 "nbformat": 4,
 "nbformat_minor": 5
}
