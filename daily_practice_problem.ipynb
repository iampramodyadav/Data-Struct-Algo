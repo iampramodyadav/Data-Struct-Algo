{
  "nbformat": 4,
  "nbformat_minor": 0,
  "metadata": {
    "colab": {
      "name": "daily_practice_problem.ipynb",
      "provenance": [],
      "collapsed_sections": [],
      "toc_visible": true,
      "include_colab_link": true
    },
    "kernelspec": {
      "display_name": "Python 3",
      "language": "python",
      "name": "python3"
    },
    "language_info": {
      "codemirror_mode": {
        "name": "ipython",
        "version": 3
      },
      "file_extension": ".py",
      "mimetype": "text/x-python",
      "name": "python",
      "nbconvert_exporter": "python",
      "pygments_lexer": "ipython3",
      "version": "3.8.5"
    },
    "toc": {
      "base_numbering": 1,
      "nav_menu": {},
      "number_sections": true,
      "sideBar": true,
      "skip_h1_title": false,
      "title_cell": "Table of Contents",
      "title_sidebar": "Contents",
      "toc_cell": true,
      "toc_position": {
        "height": "519px",
        "left": "1017px",
        "top": "110px",
        "width": "212px"
      },
      "toc_section_display": true,
      "toc_window_display": true
    },
    "varInspector": {
      "cols": {
        "lenName": 16,
        "lenType": 16,
        "lenVar": 40
      },
      "kernels_config": {
        "python": {
          "delete_cmd_postfix": "",
          "delete_cmd_prefix": "del ",
          "library": "var_list.py",
          "varRefreshCmd": "print(var_dic_list())"
        },
        "r": {
          "delete_cmd_postfix": ") ",
          "delete_cmd_prefix": "rm(",
          "library": "var_list.r",
          "varRefreshCmd": "cat(var_dic_list()) "
        }
      },
      "oldHeight": 122,
      "position": {
        "height": "40px",
        "left": "1096px",
        "right": "20px",
        "top": "120px",
        "width": "250px"
      },
      "types_to_exclude": [
        "module",
        "function",
        "builtin_function_or_method",
        "instance",
        "_Feature"
      ],
      "varInspector_section_display": "none",
      "window_display": false
    }
  },
  "cells": [
    {
      "cell_type": "markdown",
      "metadata": {
        "id": "view-in-github",
        "colab_type": "text"
      },
      "source": [
        "<a href=\"https://colab.research.google.com/github/iampramodyadav/Data-Struct-Algo/blob/main/daily_practice_problem.ipynb\" target=\"_parent\"><img src=\"https://colab.research.google.com/assets/colab-badge.svg\" alt=\"Open In Colab\"/></a>"
      ]
    },
    {
      "cell_type": "markdown",
      "metadata": {
        "toc": true,
        "id": "hsHl9qOuqIyC"
      },
      "source": [
        "<h1>Table of Contents<span class=\"tocSkip\"></span></h1>\n",
        "<div class=\"toc\"><ul class=\"toc-item\"><li><span><a href=\"#Practice-Questions\" data-toc-modified-id=\"Practice-Questions-1\"><span class=\"toc-item-num\">1&nbsp;&nbsp;</span>Practice Questions</a></span></li><li><span><a href=\"#Function\" data-toc-modified-id=\"Function-2\"><span class=\"toc-item-num\">2&nbsp;&nbsp;</span>Function</a></span><ul class=\"toc-item\"><li><span><a href=\"#Multiplication-Table\" data-toc-modified-id=\"Multiplication-Table-2.1\"><span class=\"toc-item-num\">2.1&nbsp;&nbsp;</span>Multiplication Table</a></span></li><li><span><a href=\"#Twin-Prime\" data-toc-modified-id=\"Twin-Prime-2.2\"><span class=\"toc-item-num\">2.2&nbsp;&nbsp;</span>Twin Prime</a></span><ul class=\"toc-item\"><li><span><a href=\"#Algorithm-1\" data-toc-modified-id=\"Algorithm-1-2.2.1\"><span class=\"toc-item-num\">2.2.1&nbsp;&nbsp;</span>Algorithm-1</a></span></li><li><span><a href=\"#Algorithm-2\" data-toc-modified-id=\"Algorithm-2-2.2.2\"><span class=\"toc-item-num\">2.2.2&nbsp;&nbsp;</span>Algorithm-2</a></span></li></ul></li><li><span><a href=\"#Prime-factorisation\" data-toc-modified-id=\"Prime-factorisation-2.3\"><span class=\"toc-item-num\">2.3&nbsp;&nbsp;</span>Prime factorisation</a></span><ul class=\"toc-item\"><li><span><a href=\"#Algorithm-1\" data-toc-modified-id=\"Algorithm-1-2.3.1\"><span class=\"toc-item-num\">2.3.1&nbsp;&nbsp;</span>Algorithm-1</a></span></li><li><span><a href=\"#Algorithm-2-More-efficient\" data-toc-modified-id=\"Algorithm-2-More-efficient-2.3.2\"><span class=\"toc-item-num\">2.3.2&nbsp;&nbsp;</span>Algorithm-2 More efficient</a></span></li></ul></li><li><span><a href=\"#permutation-and-combination\" data-toc-modified-id=\"permutation-and-combination-2.4\"><span class=\"toc-item-num\">2.4&nbsp;&nbsp;</span>permutation and combination</a></span></li><li><span><a href=\"#Decimal-to-binary\" data-toc-modified-id=\"Decimal-to-binary-2.5\"><span class=\"toc-item-num\">2.5&nbsp;&nbsp;</span>Decimal to binary</a></span><ul class=\"toc-item\"><li><span><a href=\"#Algorithm-1\" data-toc-modified-id=\"Algorithm-1-2.5.1\"><span class=\"toc-item-num\">2.5.1&nbsp;&nbsp;</span>Algorithm-1</a></span></li><li><span><a href=\"#Algorithm-2-(recursive-function)\" data-toc-modified-id=\"Algorithm-2-(recursive-function)-2.5.2\"><span class=\"toc-item-num\">2.5.2&nbsp;&nbsp;</span>Algorithm-2 (recursive function)</a></span></li><li><span><a href=\"#Algorithm-3\" data-toc-modified-id=\"Algorithm-3-2.5.3\"><span class=\"toc-item-num\">2.5.3&nbsp;&nbsp;</span>Algorithm-3</a></span></li></ul></li><li><span><a href=\"#Armstrong-number\" data-toc-modified-id=\"Armstrong-number-2.6\"><span class=\"toc-item-num\">2.6&nbsp;&nbsp;</span>Armstrong number</a></span><ul class=\"toc-item\"><li><span><a href=\"#Algorithm-1\" data-toc-modified-id=\"Algorithm-1-2.6.1\"><span class=\"toc-item-num\">2.6.1&nbsp;&nbsp;</span>Algorithm-1</a></span></li><li><span><a href=\"#Algorithm-2\" data-toc-modified-id=\"Algorithm-2-2.6.2\"><span class=\"toc-item-num\">2.6.2&nbsp;&nbsp;</span>Algorithm-2</a></span></li></ul></li><li><span><a href=\"#Product-of-digit\" data-toc-modified-id=\"Product-of-digit-2.7\"><span class=\"toc-item-num\">2.7&nbsp;&nbsp;</span>Product of digit</a></span><ul class=\"toc-item\"><li><span><a href=\"#Algorithm-1\" data-toc-modified-id=\"Algorithm-1-2.7.1\"><span class=\"toc-item-num\">2.7.1&nbsp;&nbsp;</span>Algorithm-1</a></span></li><li><span><a href=\"#Algorithm-2\" data-toc-modified-id=\"Algorithm-2-2.7.2\"><span class=\"toc-item-num\">2.7.2&nbsp;&nbsp;</span>Algorithm-2</a></span></li></ul></li><li><span><a href=\"#Multiplicative-digital-root\" data-toc-modified-id=\"Multiplicative-digital-root-2.8\"><span class=\"toc-item-num\">2.8&nbsp;&nbsp;</span>Multiplicative digital root</a></span><ul class=\"toc-item\"><li><span><a href=\"#Algorithm-1-(Recursive-function)\" data-toc-modified-id=\"Algorithm-1-(Recursive-function)-2.8.1\"><span class=\"toc-item-num\">2.8.1&nbsp;&nbsp;</span>Algorithm-1 (Recursive function)</a></span></li><li><span><a href=\"#Algorithm-2\" data-toc-modified-id=\"Algorithm-2-2.8.2\"><span class=\"toc-item-num\">2.8.2&nbsp;&nbsp;</span>Algorithm-2</a></span></li><li><span><a href=\"#Algorithm-2-(version-2)\" data-toc-modified-id=\"Algorithm-2-(version-2)-2.8.3\"><span class=\"toc-item-num\">2.8.3&nbsp;&nbsp;</span>Algorithm-2 (version-2)</a></span></li></ul></li><li><span><a href=\"#HCF-of-two-number\" data-toc-modified-id=\"HCF-of-two-number-2.9\"><span class=\"toc-item-num\">2.9&nbsp;&nbsp;</span>HCF of two number</a></span></li><li><span><a href=\"#Sum-of-proper-devisor\" data-toc-modified-id=\"Sum-of-proper-devisor-2.10\"><span class=\"toc-item-num\">2.10&nbsp;&nbsp;</span>Sum of proper devisor</a></span><ul class=\"toc-item\"><li><span><a href=\"#Algorithm-1\" data-toc-modified-id=\"Algorithm-1-2.10.1\"><span class=\"toc-item-num\">2.10.1&nbsp;&nbsp;</span>Algorithm-1</a></span></li><li><span><a href=\"#Algorithm-2\" data-toc-modified-id=\"Algorithm-2-2.10.2\"><span class=\"toc-item-num\">2.10.2&nbsp;&nbsp;</span>Algorithm-2</a></span></li></ul></li><li><span><a href=\"#perfect-number\" data-toc-modified-id=\"perfect-number-2.11\"><span class=\"toc-item-num\">2.11&nbsp;&nbsp;</span>perfect number</a></span><ul class=\"toc-item\"><li><span><a href=\"#Algorithm-1\" data-toc-modified-id=\"Algorithm-1-2.11.1\"><span class=\"toc-item-num\">2.11.1&nbsp;&nbsp;</span>Algorithm-1</a></span></li><li><span><a href=\"#Algorithm-2\" data-toc-modified-id=\"Algorithm-2-2.11.2\"><span class=\"toc-item-num\">2.11.2&nbsp;&nbsp;</span>Algorithm-2</a></span></li></ul></li><li><span><a href=\"#amicable-numbers\" data-toc-modified-id=\"amicable-numbers-2.12\"><span class=\"toc-item-num\">2.12&nbsp;&nbsp;</span>amicable numbers</a></span><ul class=\"toc-item\"><li><span><a href=\"#Algorithm-1\" data-toc-modified-id=\"Algorithm-1-2.12.1\"><span class=\"toc-item-num\">2.12.1&nbsp;&nbsp;</span>Algorithm-1</a></span></li><li><span><a href=\"#Algorithm-2\" data-toc-modified-id=\"Algorithm-2-2.12.2\"><span class=\"toc-item-num\">2.12.2&nbsp;&nbsp;</span>Algorithm-2</a></span></li><li><span><a href=\"#Algorithm-2.2\" data-toc-modified-id=\"Algorithm-2.2-2.12.3\"><span class=\"toc-item-num\">2.12.3&nbsp;&nbsp;</span>Algorithm-2.2</a></span></li></ul></li><li><span><a href=\"#odd-number-by-filter()\" data-toc-modified-id=\"odd-number-by-filter()-2.13\"><span class=\"toc-item-num\">2.13&nbsp;&nbsp;</span>odd number by filter()</a></span><ul class=\"toc-item\"><li><span><a href=\"#Agorithm-1\" data-toc-modified-id=\"Agorithm-1-2.13.1\"><span class=\"toc-item-num\">2.13.1&nbsp;&nbsp;</span>Agorithm-1</a></span></li><li><span><a href=\"#Algorithm-2\" data-toc-modified-id=\"Algorithm-2-2.13.2\"><span class=\"toc-item-num\">2.13.2&nbsp;&nbsp;</span>Algorithm-2</a></span></li></ul></li><li><span><a href=\"#map()\" data-toc-modified-id=\"map()-2.14\"><span class=\"toc-item-num\">2.14&nbsp;&nbsp;</span>map()</a></span></li><li><span><a href=\"#map()-and-filter()\" data-toc-modified-id=\"map()-and-filter()-2.15\"><span class=\"toc-item-num\">2.15&nbsp;&nbsp;</span>map() and filter()</a></span></li></ul></li></ul></div>"
      ]
    },
    {
      "cell_type": "markdown",
      "metadata": {
        "id": "6Rfp_RC7HxlG"
      },
      "source": [
        "# Practice Questions"
      ]
    },
    {
      "cell_type": "markdown",
      "metadata": {
        "id": "uWTpd0pRHUdy"
      },
      "source": [
        "# Function"
      ]
    },
    {
      "cell_type": "markdown",
      "metadata": {
        "id": "HXcjRUN-h7uZ"
      },
      "source": [
        "## Multiplication Table\n",
        "- Write a function that inputs a number and prints the multiplication table of \n",
        "that number.\n"
      ]
    },
    {
      "cell_type": "code",
      "metadata": {
        "ExecuteTime": {
          "end_time": "2021-05-20T11:16:07.725525Z",
          "start_time": "2021-05-20T11:16:07.705538Z"
        },
        "id": "g4h-1gz4IBnf"
      },
      "source": [
        "def table(a):\n",
        "    '''\n",
        "  this function ptint table\n",
        "  '''\n",
        "    print(\"Table of {} is\\n\".format(a))\n",
        "    for i in range(1, 11):\n",
        "        print(\n",
        "            i,\n",
        "            \"* \",\n",
        "            a,\n",
        "            \"=\",\n",
        "            i * a,\n",
        "        )"
      ],
      "execution_count": 4,
      "outputs": []
    },
    {
      "cell_type": "code",
      "metadata": {
        "colab": {
          "base_uri": "https://localhost:8080/"
        },
        "id": "O4SmxxFTkYoa",
        "outputId": "8c2da31d-338c-4d26-bf34-4ce045e65ce2"
      },
      "source": [
        "table(10)"
      ],
      "execution_count": 5,
      "outputs": [
        {
          "output_type": "stream",
          "text": [
            "Table of 10 is\n",
            "\n",
            "1 *  10 = 10\n",
            "2 *  10 = 20\n",
            "3 *  10 = 30\n",
            "4 *  10 = 40\n",
            "5 *  10 = 50\n",
            "6 *  10 = 60\n",
            "7 *  10 = 70\n",
            "8 *  10 = 80\n",
            "9 *  10 = 90\n",
            "10 *  10 = 100\n"
          ],
          "name": "stdout"
        }
      ]
    },
    {
      "cell_type": "code",
      "metadata": {
        "colab": {
          "base_uri": "https://localhost:8080/"
        },
        "id": "zzmF0sOYrKfN",
        "outputId": "bd139725-3205-4cd1-afb9-e32f4b745231"
      },
      "source": [
        "print(table.__doc__)"
      ],
      "execution_count": null,
      "outputs": [
        {
          "output_type": "stream",
          "text": [
            "\n",
            "  this function ptint table\n",
            "  \n"
          ],
          "name": "stdout"
        }
      ]
    },
    {
      "cell_type": "markdown",
      "metadata": {
        "id": "5U5CjC6YgnwZ"
      },
      "source": [
        "## Twin Prime\n",
        "- Write a program to print twin primes less than 1000. If two consecutive odd numbers are both prime then they are known as twin primes. [twin prime](https://en.wikipedia.org/wiki/Twin_prime)"
      ]
    },
    {
      "cell_type": "markdown",
      "metadata": {
        "id": "rPsh3bTfDmGC"
      },
      "source": [
        "### Algorithm-1\n",
        "\n",
        "\n",
        "---\n",
        "\n"
      ]
    },
    {
      "cell_type": "code",
      "metadata": {
        "id": "b4pmhyprg3xp"
      },
      "source": [
        "def isPrime(a):\n",
        "    '''\n",
        "  this function check for prime number and return true\n",
        "\n",
        "  '''\n",
        "    for i in range(2, int(a**0.5) + 1):\n",
        "        if a % i == 0:\n",
        "            return False\n",
        "    return True\n",
        "\n",
        "\n",
        "def TwinPrime(x):\n",
        "    '''\n",
        "  this function give twin prime numbers bellow entred number\n",
        "  '''\n",
        "    temp = 0\n",
        "    for i in range(3, x, 2):\n",
        "        if isPrime(i) and isPrime(i + 2):\n",
        "            print(\"({},{})\".format(i, i + 2))\n",
        "            temp += 1\n",
        "    print(\"no of twin prime is {}\".format(temp))"
      ],
      "execution_count": 6,
      "outputs": []
    },
    {
      "cell_type": "code",
      "metadata": {
        "colab": {
          "base_uri": "https://localhost:8080/"
        },
        "id": "YG9i-3ej5ImD",
        "outputId": "8b653f4e-ab78-4318-c908-52c93b4d3d5c"
      },
      "source": [
        "print(isPrime.__doc__)"
      ],
      "execution_count": 7,
      "outputs": [
        {
          "output_type": "stream",
          "text": [
            "\n",
            "  this function check for prime number and return true\n",
            "\n",
            "  \n"
          ],
          "name": "stdout"
        }
      ]
    },
    {
      "cell_type": "code",
      "metadata": {
        "colab": {
          "base_uri": "https://localhost:8080/"
        },
        "id": "UqF0Uaba5IeU",
        "outputId": "7e89adb8-a3e9-4f4e-b3bd-eaa6d84b1219"
      },
      "source": [
        "print(TwinPrime.__doc__)"
      ],
      "execution_count": 8,
      "outputs": [
        {
          "output_type": "stream",
          "text": [
            "\n",
            "  this function give twin prime numbers bellow entred number\n",
            "  \n"
          ],
          "name": "stdout"
        }
      ]
    },
    {
      "cell_type": "code",
      "metadata": {
        "colab": {
          "base_uri": "https://localhost:8080/"
        },
        "id": "pyytAobwscLl",
        "outputId": "20172d55-d073-4229-8b34-100ebde4fefe"
      },
      "source": [
        "TwinPrime(1000)"
      ],
      "execution_count": 9,
      "outputs": [
        {
          "output_type": "stream",
          "text": [
            "(3,5)\n",
            "(5,7)\n",
            "(11,13)\n",
            "(17,19)\n",
            "(29,31)\n",
            "(41,43)\n",
            "(59,61)\n",
            "(71,73)\n",
            "(101,103)\n",
            "(107,109)\n",
            "(137,139)\n",
            "(149,151)\n",
            "(179,181)\n",
            "(191,193)\n",
            "(197,199)\n",
            "(227,229)\n",
            "(239,241)\n",
            "(269,271)\n",
            "(281,283)\n",
            "(311,313)\n",
            "(347,349)\n",
            "(419,421)\n",
            "(431,433)\n",
            "(461,463)\n",
            "(521,523)\n",
            "(569,571)\n",
            "(599,601)\n",
            "(617,619)\n",
            "(641,643)\n",
            "(659,661)\n",
            "(809,811)\n",
            "(821,823)\n",
            "(827,829)\n",
            "(857,859)\n",
            "(881,883)\n",
            "no of twin prime is 35\n"
          ],
          "name": "stdout"
        }
      ]
    },
    {
      "cell_type": "markdown",
      "metadata": {
        "id": "0vangbdlDs4q"
      },
      "source": [
        "### Algorithm-2\n",
        "\n",
        "---\n",
        "\n"
      ]
    },
    {
      "cell_type": "code",
      "metadata": {
        "ExecuteTime": {
          "end_time": "2021-05-20T11:05:28.101947Z",
          "start_time": "2021-05-20T11:05:28.081001Z"
        },
        "id": "3VEwn88F6YnY"
      },
      "source": [
        "def listPrime(a):\n",
        "    \"\"\"\n",
        "  this function return list of prime number bellow enterd number\n",
        "  \"\"\"\n",
        "    lst = []\n",
        "    for i in range(2, a + 1):\n",
        "        for j in range(2, int(i**0.5) + 1):\n",
        "            if i % j == 0:\n",
        "                break\n",
        "        else:\n",
        "            lst.append(i)\n",
        "    return (lst)\n",
        "\n",
        "\n",
        "def twinPrime2(x):\n",
        "    \"\"\"\n",
        "  this function print twin prime from list of prime\n",
        "  \"\"\"\n",
        "    temp = 0\n",
        "    prime = listPrime(x)\n",
        "    for i in range(len(prime) - 1):\n",
        "        if prime[i + 1] - prime[i] == 2:\n",
        "            print(\"({},{})\".format(prime[i], prime[i + 1]))\n",
        "            temp += 1\n",
        "    print(\"Number of twin prime bellow {}, is {}\".format(x, temp))"
      ],
      "execution_count": 10,
      "outputs": []
    },
    {
      "cell_type": "code",
      "metadata": {
        "ExecuteTime": {
          "end_time": "2021-05-20T11:05:32.144847Z",
          "start_time": "2021-05-20T11:05:32.137866Z"
        },
        "colab": {
          "base_uri": "https://localhost:8080/"
        },
        "id": "nz6tyzfx8O--",
        "outputId": "349671da-64b8-4771-bad6-8eb485e81321"
      },
      "source": [
        "print(listPrime.__doc__)"
      ],
      "execution_count": 11,
      "outputs": [
        {
          "output_type": "stream",
          "text": [
            "\n",
            "  this function return list of prime number bellow enterd number\n",
            "  \n"
          ],
          "name": "stdout"
        }
      ]
    },
    {
      "cell_type": "code",
      "metadata": {
        "ExecuteTime": {
          "end_time": "2021-05-20T11:05:35.163419Z",
          "start_time": "2021-05-20T11:05:35.151416Z"
        },
        "colab": {
          "base_uri": "https://localhost:8080/"
        },
        "id": "VXnnEomcC5Kk",
        "outputId": "1a55c449-dfdf-4142-fc97-df6ed8c9cc5d"
      },
      "source": [
        "print(twinPrime2.__doc__)"
      ],
      "execution_count": 12,
      "outputs": [
        {
          "output_type": "stream",
          "text": [
            "\n",
            "  this function print twin prime from list of prime\n",
            "  \n"
          ],
          "name": "stdout"
        }
      ]
    },
    {
      "cell_type": "code",
      "metadata": {
        "colab": {
          "base_uri": "https://localhost:8080/"
        },
        "id": "ZGAwXSND_Fe0",
        "outputId": "78403fc8-98aa-4fff-83e2-11da99b85bd7"
      },
      "source": [
        "twinPrime2(1000)"
      ],
      "execution_count": 13,
      "outputs": [
        {
          "output_type": "stream",
          "text": [
            "(3,5)\n",
            "(5,7)\n",
            "(11,13)\n",
            "(17,19)\n",
            "(29,31)\n",
            "(41,43)\n",
            "(59,61)\n",
            "(71,73)\n",
            "(101,103)\n",
            "(107,109)\n",
            "(137,139)\n",
            "(149,151)\n",
            "(179,181)\n",
            "(191,193)\n",
            "(197,199)\n",
            "(227,229)\n",
            "(239,241)\n",
            "(269,271)\n",
            "(281,283)\n",
            "(311,313)\n",
            "(347,349)\n",
            "(419,421)\n",
            "(431,433)\n",
            "(461,463)\n",
            "(521,523)\n",
            "(569,571)\n",
            "(599,601)\n",
            "(617,619)\n",
            "(641,643)\n",
            "(659,661)\n",
            "(809,811)\n",
            "(821,823)\n",
            "(827,829)\n",
            "(857,859)\n",
            "(881,883)\n",
            "Number of twin prime bellow 1000, is 35\n"
          ],
          "name": "stdout"
        }
      ]
    },
    {
      "cell_type": "markdown",
      "metadata": {
        "id": "RzgU923UZ6Yo"
      },
      "source": [
        "## Prime factorization\n",
        "Write a program to find out the prime factors of a number. Example: prime factors of 56 -2, 2, 2, 7\n"
      ]
    },
    {
      "cell_type": "markdown",
      "metadata": {
        "id": "kBSbt6Hw43zT"
      },
      "source": [
        "### Algorithm-1\n",
        "\n",
        "---\n",
        "\n"
      ]
    },
    {
      "cell_type": "code",
      "metadata": {
        "colab": {
          "base_uri": "https://localhost:8080/"
        },
        "id": "K7Gv1rVeZ6AT",
        "outputId": "56ceb98c-9b7a-490d-8c07-749cdd5e1f70"
      },
      "source": [
        "def primeFact(n):\n",
        "    '''\n",
        "  this function print list of prime factors for entered numbers\n",
        "  '''\n",
        "    if n == 1:\n",
        "        print('no prime factor for 1')\n",
        "        return\n",
        "    lst = []\n",
        "\n",
        "    for i in range(2, n):\n",
        "        while n % i == 0:\n",
        "            lst.append(i)\n",
        "            n = n // i\n",
        "\n",
        "    print('prime factor of are: {}'.format(lst))\n",
        "\n",
        "\n",
        "primeFact(44289)"
      ],
      "execution_count": 14,
      "outputs": [
        {
          "output_type": "stream",
          "text": [
            "prime factor of are: [3, 3, 7, 19, 37]\n"
          ],
          "name": "stdout"
        }
      ]
    },
    {
      "cell_type": "markdown",
      "metadata": {
        "id": "A4Z_1znl5APk"
      },
      "source": [
        "### Algorithm-2 More efficient"
      ]
    },
    {
      "cell_type": "code",
      "metadata": {
        "colab": {
          "base_uri": "https://localhost:8080/"
        },
        "id": "xkRnXHUvtBD1",
        "outputId": "a1abb627-a6ff-4023-994d-77a39256297f"
      },
      "source": [
        "import math\n",
        "\n",
        "\n",
        "def factors(num):\n",
        "    \"\"\"takes a number and prints prime factors of that number\"\"\"\n",
        "\n",
        "    if num == 1:\n",
        "        print(\"no prime factors for 1\")\n",
        "        return\n",
        "\n",
        "    factor = []\n",
        "    for i in range(2, int(math.sqrt(num)) + 1):  #we reduce the number of loop\n",
        "        while num % i == 0:\n",
        "            factor.append(i)\n",
        "            num = num // i\n",
        "\n",
        "    if num != 1:  #if there are any foctor >sqrt(num) then it will currecnlt in num\n",
        "        factor.append(num)\n",
        "    print(\"factors are: {}\".format(factor))\n",
        "\n",
        "\n",
        "factors(44289)"
      ],
      "execution_count": 15,
      "outputs": [
        {
          "output_type": "stream",
          "text": [
            "factors are: [3, 3, 7, 19, 37]\n"
          ],
          "name": "stdout"
        }
      ]
    },
    {
      "cell_type": "code",
      "metadata": {
        "colab": {
          "base_uri": "https://localhost:8080/"
        },
        "id": "cCpXs83cZ56l",
        "outputId": "b0ee3e5d-a233-448d-ffb4-860c5f8c4e9f"
      },
      "source": [
        "factors(9905973)"
      ],
      "execution_count": 16,
      "outputs": [
        {
          "output_type": "stream",
          "text": [
            "factors are: [3, 7, 11, 19, 37, 61]\n"
          ],
          "name": "stdout"
        }
      ]
    },
    {
      "cell_type": "code",
      "metadata": {
        "colab": {
          "base_uri": "https://localhost:8080/"
        },
        "id": "ciIfc3Mt4NPE",
        "outputId": "d689ddb3-8383-48b6-e63a-217aafede94a"
      },
      "source": [
        "primeFact(9905973)"
      ],
      "execution_count": 17,
      "outputs": [
        {
          "output_type": "stream",
          "text": [
            "prime factor of are: [3, 7, 11, 19, 37, 61]\n"
          ],
          "name": "stdout"
        }
      ]
    },
    {
      "cell_type": "code",
      "metadata": {
        "colab": {
          "base_uri": "https://localhost:8080/"
        },
        "id": "GrELeIY8Z5wS",
        "outputId": "c3de9103-cb61-492b-ddcd-ff3b89c792e3"
      },
      "source": [
        "primeFact(1263761079)"
      ],
      "execution_count": 18,
      "outputs": [
        {
          "output_type": "stream",
          "text": [
            "prime factor of are: [3, 7, 17, 19, 211, 883]\n"
          ],
          "name": "stdout"
        }
      ]
    },
    {
      "cell_type": "markdown",
      "metadata": {
        "id": "E_y7CTBK5P-8"
      },
      "source": [
        "it took 103 sec for abov number"
      ]
    },
    {
      "cell_type": "code",
      "metadata": {
        "colab": {
          "base_uri": "https://localhost:8080/"
        },
        "id": "bffp6jUq2E6u",
        "outputId": "b8d8a7cf-3a6d-4b50-9c99-7486c2e64cec"
      },
      "source": [
        "factors(1263761079)"
      ],
      "execution_count": 19,
      "outputs": [
        {
          "output_type": "stream",
          "text": [
            "factors are: [3, 7, 17, 19, 211, 883]\n"
          ],
          "name": "stdout"
        }
      ]
    },
    {
      "cell_type": "markdown",
      "metadata": {
        "id": "V5tb7lP85YW8"
      },
      "source": [
        "it took 1.4 sec, so factor(n) is more efficient."
      ]
    },
    {
      "cell_type": "markdown",
      "metadata": {
        "id": "pFjmz7O-5s3L"
      },
      "source": [
        "## permutation and combination\n",
        "Write a program to implement these formula of permutations and combinations.\n",
        "Number of permutations of n objects taken r at a time: p(n, r) = n! / (n-r)!. Number of combinations of n objects taken r at a time is: c(n, r) = n! / (r!*(n-r)!) = p(n,r) / r!"
      ]
    },
    {
      "cell_type": "code",
      "metadata": {
        "colab": {
          "base_uri": "https://localhost:8080/"
        },
        "id": "TOofGFFP7PUH",
        "outputId": "ad40908e-ff91-4b33-ed7d-8a247de02d4c"
      },
      "source": [
        "def fact(n):\n",
        "    '''\n",
        "  return factorial of entered number\n",
        "  '''\n",
        "    n = int(n)\n",
        "    factorial = 1\n",
        "    for i in range(1, n + 1):\n",
        "        factorial *= i\n",
        "    return factorial\n",
        "\n",
        "\n",
        "def p(n, r):\n",
        "    '''\n",
        "  return permutation of entered number\n",
        "  '''\n",
        "    if n < r:\n",
        "        print(\"inavlid entry\")\n",
        "    perm = fact(n) / fact(n - r)\n",
        "    return perm\n",
        "\n",
        "\n",
        "def c(n, r):\n",
        "    '''\n",
        "  return combination of entered number\n",
        "  '''\n",
        "    if n < r:\n",
        "        print('invalid')\n",
        "\n",
        "    combi = p(n, r) / fact(r)\n",
        "    return combi\n",
        "\n",
        "\n",
        "n = int(input('enter the value of n :')\n",
        "        )  #In python 3, the input() function returns a string.\n",
        "r = int(input('entet the value of r :'))\n",
        "print('permutation of entered numbers is {}, and combination is {}'.format(\n",
        "    p(n, r), c(n, r)))"
      ],
      "execution_count": 20,
      "outputs": [
        {
          "output_type": "stream",
          "text": [
            "enter the value of n :5\n",
            "entet the value of r :3\n",
            "permutation of entered numbers is 60.0, and combination is 10.0\n"
          ],
          "name": "stdout"
        }
      ]
    },
    {
      "cell_type": "code",
      "metadata": {
        "colab": {
          "base_uri": "https://localhost:8080/"
        },
        "id": "T8Eu-3RI8MPc",
        "outputId": "5efc0086-f8ff-4253-cf5e-d23d26d4cca0"
      },
      "source": [
        "fact(5)"
      ],
      "execution_count": 21,
      "outputs": [
        {
          "output_type": "execute_result",
          "data": {
            "text/plain": [
              "120"
            ]
          },
          "metadata": {
            "tags": []
          },
          "execution_count": 21
        }
      ]
    },
    {
      "cell_type": "code",
      "metadata": {
        "colab": {
          "base_uri": "https://localhost:8080/"
        },
        "id": "vwmWh0wo8-k_",
        "outputId": "08b76d3a-c744-4d86-c54b-0aad83158c29"
      },
      "source": [
        "p(5,3)"
      ],
      "execution_count": 22,
      "outputs": [
        {
          "output_type": "execute_result",
          "data": {
            "text/plain": [
              "60.0"
            ]
          },
          "metadata": {
            "tags": []
          },
          "execution_count": 22
        }
      ]
    },
    {
      "cell_type": "code",
      "metadata": {
        "colab": {
          "base_uri": "https://localhost:8080/"
        },
        "id": "FyzNvnfa9ikL",
        "outputId": "62d2ce8e-083c-4a53-cf3e-500c17b5269d"
      },
      "source": [
        "c(5,3)"
      ],
      "execution_count": 23,
      "outputs": [
        {
          "output_type": "execute_result",
          "data": {
            "text/plain": [
              "10.0"
            ]
          },
          "metadata": {
            "tags": []
          },
          "execution_count": 23
        }
      ]
    },
    {
      "cell_type": "markdown",
      "metadata": {
        "id": "Tm25PGvnoBx3"
      },
      "source": [
        "## Decimal to binary\n",
        "Write a function that converts a decimal number to binary number\n"
      ]
    },
    {
      "cell_type": "markdown",
      "metadata": {
        "id": "FB-g5W-5Xhf0"
      },
      "source": [
        "### Algorithm-1"
      ]
    },
    {
      "cell_type": "code",
      "metadata": {
        "id": "idwbRHANoJFm"
      },
      "source": [
        "def Decimal2Binary(num):\n",
        "    \"\"\"take a decimal number and return it's binary representaion\"\"\"\n",
        "    lst = []\n",
        "    while num > 0:\n",
        "        i = num % 2\n",
        "        lst.insert(0, i)  #or lst.append(i) then lst.reverse()\n",
        "        num = num // 2\n",
        "    for i in lst:\n",
        "        print(i, end='')"
      ],
      "execution_count": 24,
      "outputs": []
    },
    {
      "cell_type": "code",
      "metadata": {
        "colab": {
          "base_uri": "https://localhost:8080/"
        },
        "id": "YKEskHg1LwCn",
        "outputId": "c256c0b4-45ab-487e-86fe-4ebebd375a05"
      },
      "source": [
        "l=Decimal2Binary(10)"
      ],
      "execution_count": 25,
      "outputs": [
        {
          "output_type": "stream",
          "text": [
            "1010"
          ],
          "name": "stdout"
        }
      ]
    },
    {
      "cell_type": "markdown",
      "metadata": {
        "id": "EQrlGaEJXmXa"
      },
      "source": [
        "### Algorithm-2 (recursive function)"
      ]
    },
    {
      "cell_type": "code",
      "metadata": {
        "id": "80LOOPt1RrSp"
      },
      "source": [
        "def rDecimal2Binary(num):\n",
        "  \"\"\"take a decimal number and return it's binary representaion\"\"\"\n",
        "  \n",
        "  if num>1:\n",
        "    rDecimal2Binary(num//2)\n",
        "  i=num%2\n",
        "  print(i,end='')"
      ],
      "execution_count": 26,
      "outputs": []
    },
    {
      "cell_type": "code",
      "metadata": {
        "colab": {
          "base_uri": "https://localhost:8080/"
        },
        "id": "mh7xCXSAH-4k",
        "outputId": "c89111aa-efb4-4349-d82d-4e785411ab61"
      },
      "source": [
        "rDecimal2Binary(10)"
      ],
      "execution_count": 27,
      "outputs": [
        {
          "output_type": "stream",
          "text": [
            "1010"
          ],
          "name": "stdout"
        }
      ]
    },
    {
      "cell_type": "markdown",
      "metadata": {
        "id": "Hq02EyjvXq5S"
      },
      "source": [
        "### Algorithm-3"
      ]
    },
    {
      "cell_type": "code",
      "metadata": {
        "colab": {
          "base_uri": "https://localhost:8080/"
        },
        "id": "TuSAEui3JILN",
        "outputId": "e0501e4f-cfe9-4fb2-c35a-e7ed0349d0ad"
      },
      "source": [
        "def binary(num):\n",
        "    \"\"\"take a decimal number and return it's binary representaion\"\"\"\n",
        "    temp = []\n",
        "    while num > 0:\n",
        "        temp.append(num & 1)  #bitwise operator &\n",
        "        num = num >> 1  #bitwise operator >>\n",
        "\n",
        "    temp = temp[::-1]  #reversing the list\n",
        "    temp = map(str, temp)\n",
        "    return int(\"\".join(temp))  #join and print\n",
        "\n",
        "\n",
        "binary(10)"
      ],
      "execution_count": 28,
      "outputs": [
        {
          "output_type": "execute_result",
          "data": {
            "text/plain": [
              "1010"
            ]
          },
          "metadata": {
            "tags": []
          },
          "execution_count": 28
        }
      ]
    },
    {
      "cell_type": "code",
      "metadata": {
        "colab": {
          "base_uri": "https://localhost:8080/"
        },
        "id": "aCXk9Y5cJiL5",
        "outputId": "7abb7c71-58c5-4ef5-de57-69c456428321"
      },
      "source": [
        "24 & 1"
      ],
      "execution_count": 29,
      "outputs": [
        {
          "output_type": "execute_result",
          "data": {
            "text/plain": [
              "0"
            ]
          },
          "metadata": {
            "tags": []
          },
          "execution_count": 29
        }
      ]
    },
    {
      "cell_type": "code",
      "metadata": {
        "colab": {
          "base_uri": "https://localhost:8080/"
        },
        "id": "PqYsIYMuKq4Y",
        "outputId": "15ac084b-78e6-40ec-de1c-34afd9bd9ac6"
      },
      "source": [
        "24>>1"
      ],
      "execution_count": 30,
      "outputs": [
        {
          "output_type": "execute_result",
          "data": {
            "text/plain": [
              "12"
            ]
          },
          "metadata": {
            "tags": []
          },
          "execution_count": 30
        }
      ]
    },
    {
      "cell_type": "markdown",
      "metadata": {
        "id": "oU-bD5eMKp1p"
      },
      "source": [
        ""
      ]
    },
    {
      "cell_type": "markdown",
      "metadata": {
        "id": "UdfViUkvoH0W"
      },
      "source": [
        "## Armstrong number\n",
        " Write a function **cubesum()** that accepts an integer and returns the sum of the cubes of individual digits of that number. Use this function to make functions **PrintArmstrong()** and **isArmstrong()** to print Armstrong numbers and to find whether is an Armstrong number"
      ]
    },
    {
      "cell_type": "markdown",
      "metadata": {
        "id": "d6MPg9HxG3Rb"
      },
      "source": [
        "### Algorithm-1\n",
        "\n",
        "---\n",
        "\n"
      ]
    },
    {
      "cell_type": "code",
      "metadata": {
        "id": "91FC4zCCoJnn"
      },
      "source": [
        "def cubesum(n):\n",
        "    '''this return sum of cube of its digit'''\n",
        "    l = str(n)\n",
        "    s = 0\n",
        "    for i in l:\n",
        "        s = s + int(i)**3\n",
        "    return s\n",
        "\n",
        "\n",
        "def isArmstrong(a):\n",
        "    '''check for armstrong number '''\n",
        "    if a == cubesum(a):\n",
        "        return True\n",
        "    else:\n",
        "        return False\n",
        "\n",
        "\n",
        "def PrintArmstrong(num):\n",
        "    '''print armstrong number '''\n",
        "    if isArmstrong(num):\n",
        "        print(\"{} is an armstrong number\".format(num))\n",
        "    else:\n",
        "        print(\"{} is NOT an armstrong number\".format(num))"
      ],
      "execution_count": 31,
      "outputs": []
    },
    {
      "cell_type": "code",
      "metadata": {
        "colab": {
          "base_uri": "https://localhost:8080/"
        },
        "id": "HEE5ObwKCmgs",
        "outputId": "0607d305-ef97-44ed-db13-10b8bbc89163"
      },
      "source": [
        "cubesum(153)"
      ],
      "execution_count": 32,
      "outputs": [
        {
          "output_type": "execute_result",
          "data": {
            "text/plain": [
              "153"
            ]
          },
          "metadata": {
            "tags": []
          },
          "execution_count": 32
        }
      ]
    },
    {
      "cell_type": "code",
      "metadata": {
        "colab": {
          "base_uri": "https://localhost:8080/"
        },
        "id": "tuefXwUMDVW7",
        "outputId": "07bb9417-6190-4318-e4fe-72281044191e"
      },
      "source": [
        "isArmstrong(153)"
      ],
      "execution_count": 33,
      "outputs": [
        {
          "output_type": "execute_result",
          "data": {
            "text/plain": [
              "True"
            ]
          },
          "metadata": {
            "tags": []
          },
          "execution_count": 33
        }
      ]
    },
    {
      "cell_type": "code",
      "metadata": {
        "colab": {
          "base_uri": "https://localhost:8080/"
        },
        "id": "xyXn7NrLDaDg",
        "outputId": "8883924b-ec6c-4d0f-ed0f-1194b5cc8c4b"
      },
      "source": [
        "PrintArmstrong(153)"
      ],
      "execution_count": 34,
      "outputs": [
        {
          "output_type": "stream",
          "text": [
            "153 is an armstrong number\n"
          ],
          "name": "stdout"
        }
      ]
    },
    {
      "cell_type": "markdown",
      "metadata": {
        "id": "OUiTy7SqG_bi"
      },
      "source": [
        "### Algorithm-2\n",
        "\n",
        "---\n",
        "\n"
      ]
    },
    {
      "cell_type": "code",
      "metadata": {
        "id": "T5VA-gfUEIPz"
      },
      "source": [
        "def cubesum1(n):\n",
        "    '''this return sum of cube of its digit'''\n",
        "    s = 0\n",
        "    while n > 0:\n",
        "        i = n % 10\n",
        "        s = s + i**3\n",
        "        n = n // 10\n",
        "    return s\n",
        "\n",
        "\n",
        "def isArmstrong1(a):\n",
        "    '''check for armstrong number '''\n",
        "    if a == cubesum1(a):\n",
        "        return True\n",
        "    else:\n",
        "        return False\n",
        "\n",
        "\n",
        "def PrintArmstrong1(num):\n",
        "    '''print armstrong number '''\n",
        "    if isArmstrong1(num):\n",
        "        print(\"{} is an armstrong number\".format(num))\n",
        "    else:\n",
        "        print(\"{} is NOT an armstrong number\".format(num))"
      ],
      "execution_count": 35,
      "outputs": []
    },
    {
      "cell_type": "code",
      "metadata": {
        "colab": {
          "base_uri": "https://localhost:8080/"
        },
        "id": "1oWESaH5FnF4",
        "outputId": "e78ffc63-2b33-44ce-f09b-67b9baf93c43"
      },
      "source": [
        "PrintArmstrong1(153)"
      ],
      "execution_count": 36,
      "outputs": [
        {
          "output_type": "stream",
          "text": [
            "153 is an armstrong number\n"
          ],
          "name": "stdout"
        }
      ]
    },
    {
      "cell_type": "code",
      "metadata": {
        "colab": {
          "base_uri": "https://localhost:8080/"
        },
        "id": "nKN6SuWpGCup",
        "outputId": "b55ebfd3-9c5d-4f77-d422-3f6b1113358d"
      },
      "source": [
        "PrintArmstrong1(370)"
      ],
      "execution_count": 37,
      "outputs": [
        {
          "output_type": "stream",
          "text": [
            "370 is an armstrong number\n"
          ],
          "name": "stdout"
        }
      ]
    },
    {
      "cell_type": "code",
      "metadata": {
        "colab": {
          "base_uri": "https://localhost:8080/"
        },
        "id": "JoXT2WnFGCiK",
        "outputId": "7ed2c03c-ff14-458c-d635-524e7dcad4c1"
      },
      "source": [
        "PrintArmstrong1(407)"
      ],
      "execution_count": 38,
      "outputs": [
        {
          "output_type": "stream",
          "text": [
            "407 is an armstrong number\n"
          ],
          "name": "stdout"
        }
      ]
    },
    {
      "cell_type": "markdown",
      "metadata": {
        "id": "_u1uXrTnbW0R"
      },
      "source": [
        "## Product of digit\n",
        "Write a function prodDigits() that inputs a number and returns the product of digits of that number."
      ]
    },
    {
      "cell_type": "markdown",
      "metadata": {
        "id": "zkCp57N8kyLu"
      },
      "source": [
        "### Algorithm-1"
      ]
    },
    {
      "cell_type": "code",
      "metadata": {
        "id": "MqjMAMA0bWZK"
      },
      "source": [
        "def prodDigit(n):\n",
        "    '''this return product of its digit'''\n",
        "    s = 1\n",
        "    while n > 0:\n",
        "        i = n % 10\n",
        "        s = s * i\n",
        "        n = n // 10\n",
        "    return s"
      ],
      "execution_count": 39,
      "outputs": []
    },
    {
      "cell_type": "code",
      "metadata": {
        "colab": {
          "base_uri": "https://localhost:8080/"
        },
        "id": "stuMxksCde6s",
        "outputId": "b986f474-de2b-4459-b296-e91e314a3e2f"
      },
      "source": [
        "prodDigit(1234546855)"
      ],
      "execution_count": 40,
      "outputs": [
        {
          "output_type": "execute_result",
          "data": {
            "text/plain": [
              "576000"
            ]
          },
          "metadata": {
            "tags": []
          },
          "execution_count": 40
        }
      ]
    },
    {
      "cell_type": "code",
      "metadata": {
        "colab": {
          "base_uri": "https://localhost:8080/"
        },
        "id": "ISApAe2emGF5",
        "outputId": "46caf389-b1a2-4623-a943-0fcea443590c"
      },
      "source": [
        "2%10"
      ],
      "execution_count": 41,
      "outputs": [
        {
          "output_type": "execute_result",
          "data": {
            "text/plain": [
              "2"
            ]
          },
          "metadata": {
            "tags": []
          },
          "execution_count": 41
        }
      ]
    },
    {
      "cell_type": "markdown",
      "metadata": {
        "id": "PkHeH_w6k3d3"
      },
      "source": [
        "### Algorithm-2"
      ]
    },
    {
      "cell_type": "code",
      "metadata": {
        "id": "jmZtQEPedzNh"
      },
      "source": [
        "def prodDigit_v2(n):\n",
        "    '''this return product of its digit'''\n",
        "    l = str(n)\n",
        "    s = 1\n",
        "    for i in l:\n",
        "        s = s * int(i)\n",
        "    return s"
      ],
      "execution_count": 42,
      "outputs": []
    },
    {
      "cell_type": "code",
      "metadata": {
        "colab": {
          "base_uri": "https://localhost:8080/"
        },
        "id": "L9bEoizMeGLm",
        "outputId": "6fc5cd45-83ed-4223-ba46-30426f505598"
      },
      "source": [
        "prodDigit_v2(1234546855)"
      ],
      "execution_count": 43,
      "outputs": [
        {
          "output_type": "execute_result",
          "data": {
            "text/plain": [
              "576000"
            ]
          },
          "metadata": {
            "tags": []
          },
          "execution_count": 43
        }
      ]
    },
    {
      "cell_type": "markdown",
      "metadata": {
        "id": "uuWatvz2bo8R"
      },
      "source": [
        "## Multiplicative digital root\n",
        "If all digits of a number n are multiplied by each other repeating with the product, the one digit number obtained at last is called the multiplicative digital root of n. The number of times digits need to be multiplied to reach one digit is called the multiplicative persistance of n.\n",
        "Example:\n",
        "```\n",
        "86 -> 48 -> 32 -> 6 (MDR 6, MPersistence 3)\n",
        "341 -> 12->2 (MDR 2, MPersistence 2)\n",
        "```\n",
        "Using the function prodDigits() of previous exercise write functions MDR() and MPersistence() that input a number and return its multiplicative digital root and multiplicative persistence respectively"
      ]
    },
    {
      "cell_type": "markdown",
      "metadata": {
        "id": "XUW-zZIPiX2P"
      },
      "source": [
        "### Algorithm-1 (Recursive function)"
      ]
    },
    {
      "cell_type": "code",
      "metadata": {
        "id": "w7YBAodkchtT"
      },
      "source": [
        "def MDR(num):\n",
        "    \"\"\"returns MDR for the input number\"\"\"\n",
        "    if num < 10:\n",
        "        return num\n",
        "    else:\n",
        "        num = prodDigit(num)\n",
        "        return MDR(num)\n",
        "\n",
        "\n",
        "def MPersistance(num):\n",
        "    i = 0\n",
        "    while num > 9:\n",
        "        num = prodDigit(num)\n",
        "        i += 1\n",
        "    return i"
      ],
      "execution_count": 44,
      "outputs": []
    },
    {
      "cell_type": "code",
      "metadata": {
        "colab": {
          "base_uri": "https://localhost:8080/"
        },
        "id": "z_E0E0s4fPb9",
        "outputId": "dc1585f9-eba7-48f4-85c7-0bc81b2bf0f5"
      },
      "source": [
        "MDR(341)"
      ],
      "execution_count": 45,
      "outputs": [
        {
          "output_type": "execute_result",
          "data": {
            "text/plain": [
              "2"
            ]
          },
          "metadata": {
            "tags": []
          },
          "execution_count": 45
        }
      ]
    },
    {
      "cell_type": "code",
      "metadata": {
        "colab": {
          "base_uri": "https://localhost:8080/"
        },
        "id": "-nzQJsAbhX7d",
        "outputId": "d41a88ff-84bf-411f-cfe0-a0f4b86e2c1b"
      },
      "source": [
        "MPersistance(341)"
      ],
      "execution_count": 46,
      "outputs": [
        {
          "output_type": "execute_result",
          "data": {
            "text/plain": [
              "2"
            ]
          },
          "metadata": {
            "tags": []
          },
          "execution_count": 46
        }
      ]
    },
    {
      "cell_type": "markdown",
      "metadata": {
        "id": "s5JHJE7fipOm"
      },
      "source": [
        "### Algorithm-2 "
      ]
    },
    {
      "cell_type": "code",
      "metadata": {
        "id": "RI6KChkEhmUi"
      },
      "source": [
        "def MDR1(num):\n",
        "    \"\"\"returns MDR for the input number\"\"\"\n",
        "    while num > 9:\n",
        "        num = prodDigit(num)\n",
        "    return num\n",
        "\n",
        "\n",
        "def MPersistance1(num):\n",
        "    \"\"\"returns multiplicative persistance for the input number\"\"\"\n",
        "    i = 0\n",
        "    while num > 9:\n",
        "        num = prodDigit(num)\n",
        "        i += 1\n",
        "    return i"
      ],
      "execution_count": 49,
      "outputs": []
    },
    {
      "cell_type": "code",
      "metadata": {
        "colab": {
          "base_uri": "https://localhost:8080/"
        },
        "id": "jrxuo1gviCoa",
        "outputId": "da59c41b-ec00-4553-85e1-d2f26d65af5c"
      },
      "source": [
        "MDR1(341)"
      ],
      "execution_count": 47,
      "outputs": [
        {
          "output_type": "execute_result",
          "data": {
            "text/plain": [
              "2"
            ]
          },
          "metadata": {
            "tags": []
          },
          "execution_count": 47
        }
      ]
    },
    {
      "cell_type": "code",
      "metadata": {
        "colab": {
          "base_uri": "https://localhost:8080/"
        },
        "id": "THGabaPciClu",
        "outputId": "231fbf30-457c-496a-c2aa-380324b3edaf"
      },
      "source": [
        "MPersistance1(86)"
      ],
      "execution_count": null,
      "outputs": [
        {
          "output_type": "execute_result",
          "data": {
            "text/plain": [
              "3"
            ]
          },
          "metadata": {
            "tags": []
          },
          "execution_count": 51
        }
      ]
    },
    {
      "cell_type": "markdown",
      "metadata": {
        "id": "DVBsnm1hlR6F"
      },
      "source": [
        "### Algorithm-2 (version-2)\n",
        "(more efficient as looping decreased)"
      ]
    },
    {
      "cell_type": "code",
      "metadata": {
        "id": "9kbTV0RGi7_u"
      },
      "source": [
        "def MDR3(num):\n",
        "    \"\"\"returns MDR for the input number\"\"\"\n",
        "    num = prodDigit(num)\n",
        "    while num > 9:\n",
        "        num = prodDigit(num)\n",
        "    return num\n",
        "\n",
        "\n",
        "def MPersistance3(num):\n",
        "    \"\"\"returns multiplicative persistance for the input number\"\"\"\n",
        "    i = 0\n",
        "    while num > 9:\n",
        "        num = prodDigit(num)\n",
        "        i += 1\n",
        "    return i"
      ],
      "execution_count": 48,
      "outputs": []
    },
    {
      "cell_type": "code",
      "metadata": {
        "colab": {
          "base_uri": "https://localhost:8080/"
        },
        "id": "btpHcg-Ulpfa",
        "outputId": "6c114d2d-b226-40ec-9dbc-4a8c11183d67"
      },
      "source": [
        "MDR(341)"
      ],
      "execution_count": null,
      "outputs": [
        {
          "output_type": "execute_result",
          "data": {
            "text/plain": [
              "2"
            ]
          },
          "metadata": {
            "tags": []
          },
          "execution_count": 53
        }
      ]
    },
    {
      "cell_type": "markdown",
      "metadata": {
        "id": "wNqNSE_4dWRb"
      },
      "source": [
        "## HCF of two number\n",
        "*  Write recursive function for HCF \n",
        "\n"
      ]
    },
    {
      "cell_type": "code",
      "metadata": {
        "ExecuteTime": {
          "end_time": "2021-05-20T12:01:35.569695Z",
          "start_time": "2021-05-20T12:01:35.552714Z"
        },
        "id": "VQO_iSBcZXGs"
      },
      "source": [
        "def rHCF(a, b):\n",
        "    \"\"\"\n",
        "  this function print HCF via recursion method\n",
        "  \"\"\"\n",
        "    s = a if a < b else b\n",
        "    l = b if a < b else a\n",
        "    if l % s == 0:\n",
        "        return (s)\n",
        "    else:\n",
        "        a = l % s\n",
        "        b = s\n",
        "        return (rHCF(a, b))"
      ],
      "execution_count": 50,
      "outputs": []
    },
    {
      "cell_type": "code",
      "metadata": {
        "ExecuteTime": {
          "end_time": "2021-05-20T12:01:38.099507Z",
          "start_time": "2021-05-20T12:01:38.079572Z"
        },
        "colab": {
          "base_uri": "https://localhost:8080/"
        },
        "id": "LWDSOdItfIzF",
        "outputId": "797fe529-df16-4e81-a3c0-9abd475d973f"
      },
      "source": [
        "rHCF(121,33)"
      ],
      "execution_count": 51,
      "outputs": [
        {
          "output_type": "execute_result",
          "data": {
            "text/plain": [
              "11"
            ]
          },
          "metadata": {
            "tags": []
          },
          "execution_count": 51
        }
      ]
    },
    {
      "cell_type": "code",
      "metadata": {
        "ExecuteTime": {
          "end_time": "2021-05-20T12:01:41.743784Z",
          "start_time": "2021-05-20T12:01:41.736837Z"
        },
        "colab": {
          "base_uri": "https://localhost:8080/"
        },
        "id": "BPNOtsZWfhud",
        "outputId": "ef790d5c-c577-424d-a5eb-76e7f7422167"
      },
      "source": [
        "a=25;b=1215\n",
        "print(\"the HCF of\", a, \"and\", b ,\"is\", rHCF(a,b))"
      ],
      "execution_count": 52,
      "outputs": [
        {
          "output_type": "stream",
          "text": [
            "the HCF of 25 and 1215 is 5\n"
          ],
          "name": "stdout"
        }
      ]
    },
    {
      "cell_type": "code",
      "metadata": {
        "ExecuteTime": {
          "end_time": "2021-05-20T12:01:44.556742Z",
          "start_time": "2021-05-20T12:01:44.543754Z"
        },
        "colab": {
          "base_uri": "https://localhost:8080/"
        },
        "id": "doUztQCIfo9D",
        "outputId": "6763af1e-6cbe-423c-ddc4-799094b46515"
      },
      "source": [
        "print(rHCF.__doc__)"
      ],
      "execution_count": 53,
      "outputs": [
        {
          "output_type": "stream",
          "text": [
            "\n",
            "  this function print HCF via recursion method\n",
            "  \n"
          ],
          "name": "stdout"
        }
      ]
    },
    {
      "cell_type": "markdown",
      "metadata": {
        "id": "gz8BWZDe2gVj"
      },
      "source": [
        "## Sum of proper devisor\n",
        "Write a function sumPdivisors() that finds the sum of proper divisors of a number. Proper\n",
        "divisors of a number are those numbers by which the number is divisible, except the\n",
        "number itself. For example proper divisors of 36 are 1, 2, 3, 4, 6, 9, 18"
      ]
    },
    {
      "cell_type": "markdown",
      "metadata": {
        "id": "kPK-Pgqo3b7K"
      },
      "source": [
        "### Algorithm-1"
      ]
    },
    {
      "cell_type": "code",
      "metadata": {
        "id": "CJ26vGhA21Td"
      },
      "source": [
        "from functools import reduce\n",
        "\n",
        "\n",
        "def sum1(a, b):\n",
        "    return (a + b)\n",
        "\n",
        "\n",
        "def sumPdivisor(n):\n",
        "    \"\"\"returns sum of proper divisors of a number\"\"\"\n",
        "    lst = []\n",
        "    for i in range(1, n):\n",
        "        if n % (i) == 0:\n",
        "            lst.append(i)\n",
        "    print(\"proper divisors of {} is: {} \\ntheir sum are\".format(n, lst),\n",
        "          end=': ')\n",
        "    s = reduce(sum1, lst)\n",
        "    return s"
      ],
      "execution_count": 54,
      "outputs": []
    },
    {
      "cell_type": "code",
      "metadata": {
        "colab": {
          "base_uri": "https://localhost:8080/"
        },
        "id": "Q95vNZ-MTD5b",
        "outputId": "ad908b6f-9bf6-4293-9263-1a20326b9774"
      },
      "source": [
        "sumPdivisor(36)"
      ],
      "execution_count": 55,
      "outputs": [
        {
          "output_type": "stream",
          "text": [
            "proper divisors of 36 is: [1, 2, 3, 4, 6, 9, 12, 18] \n",
            "their sum are: "
          ],
          "name": "stdout"
        },
        {
          "output_type": "execute_result",
          "data": {
            "text/plain": [
              "55"
            ]
          },
          "metadata": {
            "tags": []
          },
          "execution_count": 55
        }
      ]
    },
    {
      "cell_type": "code",
      "metadata": {
        "colab": {
          "base_uri": "https://localhost:8080/"
        },
        "id": "Co6wHiyMXVep",
        "outputId": "2c613935-89e6-4400-cddf-73e65fe6791f"
      },
      "source": [
        "sumPdivisor(28)"
      ],
      "execution_count": 56,
      "outputs": [
        {
          "output_type": "stream",
          "text": [
            "proper divisors of 28 is: [1, 2, 4, 7, 14] \n",
            "their sum are: "
          ],
          "name": "stdout"
        },
        {
          "output_type": "execute_result",
          "data": {
            "text/plain": [
              "28"
            ]
          },
          "metadata": {
            "tags": []
          },
          "execution_count": 56
        }
      ]
    },
    {
      "cell_type": "code",
      "metadata": {
        "colab": {
          "base_uri": "https://localhost:8080/"
        },
        "id": "cjgax1z8TeOI",
        "outputId": "b8f03a28-b404-4071-9cbc-f7096a49b2b8"
      },
      "source": [
        "sum1(5,6)"
      ],
      "execution_count": 57,
      "outputs": [
        {
          "output_type": "execute_result",
          "data": {
            "text/plain": [
              "11"
            ]
          },
          "metadata": {
            "tags": []
          },
          "execution_count": 57
        }
      ]
    },
    {
      "cell_type": "markdown",
      "metadata": {
        "id": "fdUGgvUf3g2Q"
      },
      "source": [
        "### Algorithm-2"
      ]
    },
    {
      "cell_type": "code",
      "metadata": {
        "id": "G_ZRJ70Jam-w"
      },
      "source": [
        "from functools import reduce\n",
        "\n",
        "\n",
        "def sum1(a, b):\n",
        "    return (a + b)\n",
        "\n",
        "\n",
        "def sumPdivisor1(n):\n",
        "    \"\"\"returns sum of proper divisors of a number\"\"\"\n",
        "    lst = []\n",
        "    for i in range(1, int(n**0.5) + 1):\n",
        "        if n % (i) == 0:\n",
        "            lst.append(i)\n",
        "            d = n // i\n",
        "            if d != i and d != n:\n",
        "                lst.append(d)\n",
        "    lst.sort()\n",
        "    print(\"proper divisors of {} is: {} \\ntheir sum are\".format(n, lst),\n",
        "          end=': ')\n",
        "    return sum(lst)"
      ],
      "execution_count": 59,
      "outputs": []
    },
    {
      "cell_type": "code",
      "metadata": {
        "colab": {
          "base_uri": "https://localhost:8080/"
        },
        "id": "nXAzi7kEgo9C",
        "outputId": "cfe779a9-c6c4-4c93-888a-bec2d7b104fd"
      },
      "source": [
        "sumPdivisor1(36)"
      ],
      "execution_count": 60,
      "outputs": [
        {
          "output_type": "stream",
          "text": [
            "proper divisors of 36 is: [1, 2, 3, 4, 6, 9, 12, 18] \n",
            "their sum are: "
          ],
          "name": "stdout"
        },
        {
          "output_type": "execute_result",
          "data": {
            "text/plain": [
              "55"
            ]
          },
          "metadata": {
            "tags": []
          },
          "execution_count": 60
        }
      ]
    },
    {
      "cell_type": "markdown",
      "metadata": {
        "id": "7LWSDhLhanzF"
      },
      "source": [
        "## perfect number\n",
        "* A number is called perfect if the sum of proper divisors of that number is equal to the number. For example 28 is perfect number, since 1+2+4+7+14=28. Write a program to\n",
        "print all the perfect numbers in a given range"
      ]
    },
    {
      "cell_type": "markdown",
      "metadata": {
        "id": "hhWfBxOH5QDl"
      },
      "source": [
        "### Algorithm-1"
      ]
    },
    {
      "cell_type": "code",
      "metadata": {
        "id": "2IbcAGJ5a-Ab"
      },
      "source": [
        "from functools import reduce\n",
        "\n",
        "\n",
        "def sum1(a, b):\n",
        "    return (a + b)\n",
        "\n",
        "\n",
        "def sumPdivisor(n):\n",
        "    \"\"\"returns sum of proper divisors of a number\"\"\"\n",
        "    lst = []\n",
        "    for i in range(1, n):\n",
        "        if n % (i) == 0:\n",
        "            lst.append(i)\n",
        "    s = reduce(sum1, lst)\n",
        "    return s\n",
        "\n",
        "\n",
        "def findPerfectNum(a, b):\n",
        "    \"\"\"given a range prints all the perfect\n",
        "    numbers which lie in the range\"\"\"\n",
        "    plst = []\n",
        "    for i in range(a + 1, b):\n",
        "        if sumPdivisor(i) == i:\n",
        "            plst.append(i)\n",
        "    return plst"
      ],
      "execution_count": 61,
      "outputs": []
    },
    {
      "cell_type": "code",
      "metadata": {
        "colab": {
          "base_uri": "https://localhost:8080/"
        },
        "id": "SbgyyBQwZCJY",
        "outputId": "b8d346e4-af3c-4296-b473-fc49526db39b"
      },
      "source": [
        "findPerfectNum(1,10000)"
      ],
      "execution_count": 62,
      "outputs": [
        {
          "output_type": "execute_result",
          "data": {
            "text/plain": [
              "[6, 28, 496, 8128]"
            ]
          },
          "metadata": {
            "tags": []
          },
          "execution_count": 62
        }
      ]
    },
    {
      "cell_type": "code",
      "metadata": {
        "colab": {
          "base_uri": "https://localhost:8080/"
        },
        "id": "IqdKwGJ24_7q",
        "outputId": "87d86dfd-0d78-4b0d-a0e3-268e469172dc"
      },
      "source": [
        "%%timeit\n",
        "findPerfectNum(1,10000)"
      ],
      "execution_count": 63,
      "outputs": [
        {
          "output_type": "stream",
          "text": [
            "1 loop, best of 5: 3.44 s per loop\n"
          ],
          "name": "stdout"
        }
      ]
    },
    {
      "cell_type": "markdown",
      "metadata": {
        "id": "xnu16dwU5Vcz"
      },
      "source": [
        "### Algorithm-2"
      ]
    },
    {
      "cell_type": "code",
      "metadata": {
        "id": "4lJwfU3C3022"
      },
      "source": [
        "def sumPdivisor1(n):\n",
        "    \"\"\"returns sum of proper divisors of a number\"\"\"\n",
        "    lst = []\n",
        "    for i in range(1, int(n**0.5) + 1):\n",
        "        if n % (i) == 0:\n",
        "            lst.append(i)\n",
        "            d = n // i\n",
        "            if d != i and d != n:\n",
        "                lst.append(d)\n",
        "    #lst.sort()\n",
        "    #print(\"proper divisors of {} is: {} \\ntheir sum are\".format(n,lst),end=': ')\n",
        "    return sum(lst)\n",
        "\n",
        "\n",
        "def findPerfectNum1(a, b):\n",
        "    \"\"\"given a range prints all the perfect\n",
        "    numbers which lie in the range\"\"\"\n",
        "    plst = []\n",
        "    for i in range(a + 1, b):\n",
        "        if sumPdivisor1(i) == i:\n",
        "            plst.append(i)\n",
        "    return plst"
      ],
      "execution_count": 64,
      "outputs": []
    },
    {
      "cell_type": "code",
      "metadata": {
        "colab": {
          "base_uri": "https://localhost:8080/"
        },
        "id": "4Ztn2dtj5E3H",
        "outputId": "9fa75fb9-2995-4ead-b303-14860b5697b6"
      },
      "source": [
        "findPerfectNum1(1,10000)"
      ],
      "execution_count": 65,
      "outputs": [
        {
          "output_type": "execute_result",
          "data": {
            "text/plain": [
              "[6, 28, 496, 8128]"
            ]
          },
          "metadata": {
            "tags": []
          },
          "execution_count": 65
        }
      ]
    },
    {
      "cell_type": "code",
      "metadata": {
        "colab": {
          "base_uri": "https://localhost:8080/"
        },
        "id": "BspMPKO23_i1",
        "outputId": "d069add7-c80a-4113-a1ff-3292e0fb7595"
      },
      "source": [
        "%%timeit\n",
        "findPerfectNum1(1,10000)"
      ],
      "execution_count": 66,
      "outputs": [
        {
          "output_type": "stream",
          "text": [
            "10 loops, best of 5: 56.4 ms per loop\n"
          ],
          "name": "stdout"
        }
      ]
    },
    {
      "cell_type": "markdown",
      "metadata": {
        "id": "_PK4dZG5a-jL"
      },
      "source": [
        "## amicable numbers\n",
        "* Two different numbers are called amicable numbers if the sum of the proper divisors of each is equal to the other number. For example 220 and 284 are amicable numbers.\n",
        "```\n",
        "sum of proper divisors of  220 = 1+2+4+5+10+11+20+22+44+55+110 = 284\n",
        "Sum of proper divisors of 284 = 1+2+4+71+142 = 220\n",
        "```\n",
        "\n",
        "Write a function to print pairs of amicable numbers in a range"
      ]
    },
    {
      "cell_type": "markdown",
      "metadata": {
        "id": "TouD9DuxDOQo"
      },
      "source": [
        "### Algorithm-1"
      ]
    },
    {
      "cell_type": "code",
      "metadata": {
        "id": "rI01kgKsbhFk"
      },
      "source": [
        "def sumPdivisorE(n):\n",
        "    lst = []\n",
        "    for i in range(1, int(n**0.5) + 1):\n",
        "        if n % (i) == 0:\n",
        "            lst.append(i)\n",
        "            d = n // i\n",
        "            if d != i and d != n:\n",
        "                lst.append(d)\n",
        "    return sum(lst)\n",
        "\n",
        "\n",
        "def printAmicableNum(a, b):\n",
        "    \"\"\"prints the pairs of amicable numbers in a range\"\"\"\n",
        "    for i in range(a, b):\n",
        "        for j in range(b, i, -1):\n",
        "            if sumPdivisor1(i) == j and sumPdivisor1(j) == i:\n",
        "                print(i, j)"
      ],
      "execution_count": 67,
      "outputs": []
    },
    {
      "cell_type": "code",
      "metadata": {
        "colab": {
          "base_uri": "https://localhost:8080/"
        },
        "id": "anbKR6Sv9dP1",
        "outputId": "5b6667b1-cc9a-4746-d4d2-894b298da0cf"
      },
      "source": [
        "printAmicableNum(1,10000)"
      ],
      "execution_count": 68,
      "outputs": [
        {
          "output_type": "stream",
          "text": [
            "220 284\n",
            "1184 1210\n",
            "2620 2924\n",
            "5020 5564\n",
            "6232 6368\n"
          ],
          "name": "stdout"
        }
      ]
    },
    {
      "cell_type": "markdown",
      "metadata": {
        "id": "IgS-AkceDS57"
      },
      "source": [
        "### Algorithm-2"
      ]
    },
    {
      "cell_type": "code",
      "metadata": {
        "id": "BMUpuSHBAh6p"
      },
      "source": [
        "def sumPdivisorE(n):\n",
        "    lst = []\n",
        "    for i in range(1, int(n**0.5) + 1):\n",
        "        if n % (i) == 0:\n",
        "            lst.append(i)\n",
        "            d = n // i\n",
        "            if d != i and d != n:\n",
        "                lst.append(d)\n",
        "    return sum(lst)\n",
        "\n",
        "\n",
        "def printAmicableNumE(a, b):\n",
        "    \"\"\"prints the pairs of amicable numbers in a range\"\"\"\n",
        "    for i in range(a, b + 1):\n",
        "        temp = sumPdivisorE(i)\n",
        "        if i != temp and sumPdivisor1(temp) == i:\n",
        "            print(i, temp)"
      ],
      "execution_count": 69,
      "outputs": []
    },
    {
      "cell_type": "code",
      "metadata": {
        "colab": {
          "base_uri": "https://localhost:8080/"
        },
        "id": "gOkCu0vBBh5A",
        "outputId": "1894fda0-a066-4e3b-b034-5b9a653e07ef"
      },
      "source": [
        "printAmicableNumE(1,10000)"
      ],
      "execution_count": 70,
      "outputs": [
        {
          "output_type": "stream",
          "text": [
            "220 284\n",
            "284 220\n",
            "1184 1210\n",
            "1210 1184\n",
            "2620 2924\n",
            "2924 2620\n",
            "5020 5564\n",
            "5564 5020\n",
            "6232 6368\n",
            "6368 6232\n"
          ],
          "name": "stdout"
        }
      ]
    },
    {
      "cell_type": "markdown",
      "metadata": {
        "id": "AV8olSyDDXOs"
      },
      "source": [
        "### Algorithm-2.2"
      ]
    },
    {
      "cell_type": "code",
      "metadata": {
        "colab": {
          "base_uri": "https://localhost:8080/"
        },
        "id": "wS2l9AOECLRr",
        "outputId": "2821bc5e-e813-4b14-fc20-c7f8476720ec"
      },
      "source": [
        "def amicables(low, high):\n",
        "    \"\"\"prints the pairs of amicable numbers in a range\"\"\"\n",
        "    s = set()\n",
        "    for i in range(low, high + 1):\n",
        "        temp = sumPdivisorE(i)\n",
        "        if temp != i and sumPdivisorE(temp) == i:\n",
        "            s.add((min(i, temp), max(i, temp)))\n",
        "    for i in list(s):\n",
        "        print(\"{} is an amicable pair\".format(i))\n",
        "\n",
        "\n",
        "amicables(10, 10000)"
      ],
      "execution_count": 71,
      "outputs": [
        {
          "output_type": "stream",
          "text": [
            "(1184, 1210) is an amicable pair\n",
            "(220, 284) is an amicable pair\n",
            "(5020, 5564) is an amicable pair\n",
            "(6232, 6368) is an amicable pair\n",
            "(2620, 2924) is an amicable pair\n"
          ],
          "name": "stdout"
        }
      ]
    },
    {
      "cell_type": "markdown",
      "metadata": {
        "id": "5lDZp-Kobiba"
      },
      "source": [
        "## odd number by filter()\n",
        "* Write a program which can filter odd numbers in a list by using filter function"
      ]
    },
    {
      "cell_type": "markdown",
      "metadata": {
        "id": "eIwxQHjIJNji"
      },
      "source": [
        "### Agorithm-1"
      ]
    },
    {
      "cell_type": "code",
      "metadata": {
        "colab": {
          "base_uri": "https://localhost:8080/"
        },
        "id": "e4JqmgJHHfvk",
        "outputId": "f7834439-6dfa-4177-b4fc-484629fc532d"
      },
      "source": [
        "def oddout(num):\n",
        "    if num % 2 == 1:\n",
        "        return num\n",
        "\n",
        "lst = [2, 6, 9, 7, 3, 5, 1, 6, 8]\n",
        "\n",
        "lst2 = list(filter(oddout, lst))\n",
        "\n",
        "lst2"
      ],
      "execution_count": 92,
      "outputs": [
        {
          "output_type": "execute_result",
          "data": {
            "text/plain": [
              "[9, 7, 3, 5, 1]"
            ]
          },
          "metadata": {
            "tags": []
          },
          "execution_count": 92
        }
      ]
    },
    {
      "cell_type": "markdown",
      "metadata": {
        "id": "GRjP6lqaJRcR"
      },
      "source": [
        "### Algorithm-2"
      ]
    },
    {
      "cell_type": "code",
      "metadata": {
        "colab": {
          "base_uri": "https://localhost:8080/"
        },
        "id": "Gd6sDPgDbtxv",
        "outputId": "3122089f-46fd-42b4-8ea2-94793574bb56"
      },
      "source": [
        "lst = [2, 2, 5, 8, 9, 7, 5, 6, 3]\n",
        "\n",
        "lst2 = list(filter(lambda x: x % 2, lst))\n",
        "\n",
        "lst2"
      ],
      "execution_count": 93,
      "outputs": [
        {
          "output_type": "execute_result",
          "data": {
            "text/plain": [
              "[5, 9, 7, 5, 3]"
            ]
          },
          "metadata": {
            "tags": []
          },
          "execution_count": 93
        }
      ]
    },
    {
      "cell_type": "markdown",
      "metadata": {
        "id": "vZb37gk1bs7T"
      },
      "source": [
        "## map()\n",
        "\n",
        "* Write a program which can map() to make a list whose elements are cube of elements in\n",
        "a given list"
      ]
    },
    {
      "cell_type": "code",
      "metadata": {
        "ExecuteTime": {
          "end_time": "2021-05-20T11:59:26.244901Z",
          "start_time": "2021-05-20T11:59:26.234924Z"
        },
        "colab": {
          "base_uri": "https://localhost:8080/"
        },
        "id": "RGC3hm_Pb8N8",
        "outputId": "8b1987c3-4b75-4304-f615-e42c4fc5aa8a"
      },
      "source": [
        "lst = [2, 3, 7, 9, 2]\n",
        "\n",
        "lst2 = list(map(lambda x: x**3, lst))\n",
        "\n",
        "lst2"
      ],
      "execution_count": 91,
      "outputs": [
        {
          "output_type": "execute_result",
          "data": {
            "text/plain": [
              "[8, 27, 343, 729, 8]"
            ]
          },
          "metadata": {
            "tags": []
          },
          "execution_count": 91
        }
      ]
    },
    {
      "cell_type": "markdown",
      "metadata": {
        "id": "beWM2o6Wb8mf",
        "solution": "hidden",
        "solution_first": true
      },
      "source": [
        "## map() and filter()\n",
        "\n",
        "Write a program which can map() and filter() to make a list whose elements are cube of\n",
        "even number in a given list"
      ]
    },
    {
      "cell_type": "code",
      "metadata": {
        "ExecuteTime": {
          "end_time": "2021-05-20T11:18:37.555235Z",
          "start_time": "2021-05-20T11:18:37.539285Z"
        },
        "id": "yJYsRBuBcbuJ"
      },
      "source": [
        "lst = [2, 8, 4, 3, 4, 12, 13, 14]\n",
        "def oddCubes(l):\n",
        "  ls = map(lambda x: x**3, filter(lambda x: x % 2, l))\n",
        "  return list(ls)"
      ],
      "execution_count": 103,
      "outputs": []
    },
    {
      "cell_type": "code",
      "metadata": {
        "colab": {
          "base_uri": "https://localhost:8080/"
        },
        "id": "SHx8v0BtqIy2",
        "outputId": "b11bb9b9-97fe-479b-ac3e-e58282e12f07"
      },
      "source": [
        "oddCubes(lst)"
      ],
      "execution_count": 104,
      "outputs": [
        {
          "output_type": "execute_result",
          "data": {
            "text/plain": [
              "[27, 2197]"
            ]
          },
          "metadata": {
            "tags": []
          },
          "execution_count": 104
        }
      ]
    },
    {
      "cell_type": "code",
      "metadata": {
        "id": "rOxb6S0n4t7a"
      },
      "source": [
        ""
      ],
      "execution_count": null,
      "outputs": []
    },
    {
      "cell_type": "code",
      "metadata": {
        "ExecuteTime": {
          "end_time": "2021-05-20T11:18:37.555235Z",
          "start_time": "2021-05-20T11:18:37.539285Z"
        },
        "colab": {
          "base_uri": "https://localhost:8080/"
        },
        "id": "ma0oYsnD4uT-",
        "outputId": "edc181b9-e3bb-4fcc-e271-8a4d990b40d9"
      },
      "source": [
        "lst = [2, 8, 4, 3, 4, 12, 13, 14]\n",
        "lst3 = map(lambda x: x**3, filter(lambda x: x % 2, lst))\n",
        "list(lst3)"
      ],
      "execution_count": 86,
      "outputs": [
        {
          "output_type": "execute_result",
          "data": {
            "text/plain": [
              "[27, 2197]"
            ]
          },
          "metadata": {
            "tags": []
          },
          "execution_count": 86
        }
      ]
    }
  ]
}