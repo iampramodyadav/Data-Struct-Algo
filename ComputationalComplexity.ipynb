{
  "nbformat": 4,
  "nbformat_minor": 0,
  "metadata": {
    "colab": {
      "name": "ComputationalComplexity.ipynb",
      "provenance": [],
      "include_colab_link": true
    },
    "kernelspec": {
      "display_name": "Python 3",
      "language": "python",
      "name": "python3"
    }
  },
  "cells": [
    {
      "cell_type": "markdown",
      "metadata": {
        "id": "view-in-github",
        "colab_type": "text"
      },
      "source": [
        "<a href=\"https://colab.research.google.com/github/iampramodyadav/Data-Struct-Algo/blob/main/ComputationalComplexity.ipynb\" target=\"_parent\"><img src=\"https://colab.research.google.com/assets/colab-badge.svg\" alt=\"Open In Colab\"/></a>"
      ]
    },
    {
      "cell_type": "code",
      "metadata": {
        "id": "bZw5VY9fXvdu",
        "colab": {
          "base_uri": "https://localhost:8080/"
        },
        "outputId": "69dabaf2-adff-450e-d2d8-de64483e888d"
      },
      "source": [
        "import numpy as np\n",
        "import random\n",
        "\n",
        "l = list(range(100))\n",
        "random.shuffle(l)\n",
        "\n",
        "l"
      ],
      "execution_count": 6,
      "outputs": [
        {
          "output_type": "execute_result",
          "data": {
            "text/plain": [
              "[85,\n",
              " 20,\n",
              " 32,\n",
              " 88,\n",
              " 97,\n",
              " 89,\n",
              " 92,\n",
              " 12,\n",
              " 82,\n",
              " 18,\n",
              " 94,\n",
              " 67,\n",
              " 83,\n",
              " 99,\n",
              " 4,\n",
              " 72,\n",
              " 57,\n",
              " 59,\n",
              " 27,\n",
              " 15,\n",
              " 39,\n",
              " 30,\n",
              " 7,\n",
              " 75,\n",
              " 73,\n",
              " 33,\n",
              " 14,\n",
              " 98,\n",
              " 29,\n",
              " 93,\n",
              " 40,\n",
              " 25,\n",
              " 16,\n",
              " 44,\n",
              " 17,\n",
              " 90,\n",
              " 74,\n",
              " 50,\n",
              " 31,\n",
              " 58,\n",
              " 1,\n",
              " 71,\n",
              " 23,\n",
              " 11,\n",
              " 70,\n",
              " 86,\n",
              " 54,\n",
              " 26,\n",
              " 76,\n",
              " 91,\n",
              " 24,\n",
              " 68,\n",
              " 22,\n",
              " 2,\n",
              " 95,\n",
              " 52,\n",
              " 13,\n",
              " 55,\n",
              " 60,\n",
              " 96,\n",
              " 49,\n",
              " 35,\n",
              " 66,\n",
              " 47,\n",
              " 41,\n",
              " 45,\n",
              " 63,\n",
              " 65,\n",
              " 19,\n",
              " 6,\n",
              " 3,\n",
              " 21,\n",
              " 69,\n",
              " 53,\n",
              " 0,\n",
              " 87,\n",
              " 48,\n",
              " 43,\n",
              " 56,\n",
              " 28,\n",
              " 37,\n",
              " 8,\n",
              " 34,\n",
              " 84,\n",
              " 51,\n",
              " 9,\n",
              " 62,\n",
              " 80,\n",
              " 77,\n",
              " 64,\n",
              " 79,\n",
              " 42,\n",
              " 10,\n",
              " 38,\n",
              " 5,\n",
              " 36,\n",
              " 61,\n",
              " 46,\n",
              " 78,\n",
              " 81]"
            ]
          },
          "metadata": {
            "tags": []
          },
          "execution_count": 6
        }
      ]
    },
    {
      "cell_type": "code",
      "metadata": {
        "id": "QBhWRfIaXvd3",
        "colab": {
          "base_uri": "https://localhost:8080/"
        },
        "outputId": "fd7b9424-4925-49d7-e9ca-a8bf20af9263"
      },
      "source": [
        "# search for an elemnt q in the list: O(n) where n is the length of the list\n",
        "q = 31\n",
        "isFound=False;\n",
        "for ele in l:\n",
        "    if ele==31:\n",
        "        print(\"Found\")\n",
        "        isFound=True\n",
        "        break;\n",
        "if isFound == False:\n",
        "    print(\"Not Found\")\n",
        "    \n",
        "    \n"
      ],
      "execution_count": 7,
      "outputs": [
        {
          "output_type": "stream",
          "text": [
            "Found\n"
          ],
          "name": "stdout"
        }
      ]
    },
    {
      "cell_type": "code",
      "metadata": {
        "id": "JvSHC5wDXvd8",
        "colab": {
          "base_uri": "https://localhost:8080/"
        },
        "outputId": "818de3a0-b4aa-4cc2-b878-436cd7f9273f"
      },
      "source": [
        "#What if the list is sorted? Can we search faster?\n",
        "# Show O(log n)\n",
        "\n",
        "import math\n",
        "\n",
        "#Source: http://www.geeksforgeeks.org/binary-search/ \n",
        "#Returns index of x in arr if present, else -1\n",
        "def binarySearch (arr, l, r, x):\n",
        " \n",
        "    # Check base case\n",
        "    if r >= l:\n",
        " \n",
        "        mid = l + math.floor((r - l)/2)\n",
        " \n",
        "        # If element is present at the middle itself\n",
        "        if arr[mid] == x:\n",
        "            return mid\n",
        "         \n",
        "        # If element is smaller than mid, then it can only\n",
        "        # be present in left subarray\n",
        "        elif arr[mid] > x:\n",
        "            return binarySearch(arr, l, mid-1, x)\n",
        " \n",
        "        # Else the element can only be present in right subarray\n",
        "        else:\n",
        "            return binarySearch(arr, mid+1, r, x)\n",
        " \n",
        "    else:\n",
        "        # Element is not present in the array\n",
        "        return -1\n",
        "\n",
        "\n",
        "l.sort();\n",
        "arr = l;\n",
        "q =31;\n",
        "binarySearch(arr,0,len(arr)-1,q)\n",
        "\n"
      ],
      "execution_count": 8,
      "outputs": [
        {
          "output_type": "execute_result",
          "data": {
            "text/plain": [
              "31"
            ]
          },
          "metadata": {
            "tags": []
          },
          "execution_count": 8
        }
      ]
    },
    {
      "cell_type": "code",
      "metadata": {
        "id": "N43KYlGTXveA",
        "colab": {
          "base_uri": "https://localhost:8080/"
        },
        "outputId": "e5b8ad7e-6ff0-4098-e7cf-0063388cb899"
      },
      "source": [
        "# Find elements common in two lists:\n",
        "l1 = list(range(100))\n",
        "random.shuffle(l1)\n",
        "\n",
        "\n",
        "l2 = list(range(50))\n",
        "random.shuffle(l2)\n",
        "\n",
        "# find common elements : O(n*m)\n",
        "cnt=0;\n",
        "for i in l1:\n",
        "    for j in l2:\n",
        "        if i==j:\n",
        "            print(i)\n",
        "            cnt += 1;\n",
        "print(\"Number of common elements:\", cnt)                      "
      ],
      "execution_count": 9,
      "outputs": [
        {
          "output_type": "stream",
          "text": [
            "2\n",
            "41\n",
            "34\n",
            "7\n",
            "22\n",
            "3\n",
            "24\n",
            "31\n",
            "25\n",
            "15\n",
            "44\n",
            "21\n",
            "26\n",
            "27\n",
            "39\n",
            "43\n",
            "47\n",
            "40\n",
            "29\n",
            "11\n",
            "49\n",
            "1\n",
            "42\n",
            "46\n",
            "23\n",
            "0\n",
            "30\n",
            "5\n",
            "17\n",
            "48\n",
            "9\n",
            "12\n",
            "45\n",
            "36\n",
            "28\n",
            "35\n",
            "10\n",
            "32\n",
            "6\n",
            "13\n",
            "37\n",
            "14\n",
            "4\n",
            "8\n",
            "33\n",
            "16\n",
            "18\n",
            "20\n",
            "19\n",
            "38\n",
            "Number of common elements: 50\n"
          ],
          "name": "stdout"
        }
      ]
    },
    {
      "cell_type": "code",
      "metadata": {
        "id": "kIQGrDDlXveD",
        "colab": {
          "base_uri": "https://localhost:8080/"
        },
        "outputId": "ce104d44-7554-4554-ce95-2109feacd492"
      },
      "source": [
        "# Find elements common in two lists:\n",
        "l1 = list(range(100))\n",
        "random.shuffle(l1)\n",
        "\n",
        "\n",
        "l2 = list(range(50))\n",
        "random.shuffle(l2)\n",
        "\n",
        "# find common elemnts in lists in O(n) time and O(m) space if m<n\n",
        "\n",
        "## add all elements in the smallest list into a hashtable/Dict: O(m) space\n",
        "smallList = {}\n",
        "for ele in l2:\n",
        "    smallList[ele] = 1; # any value is OK. Key is important\n",
        "    \n",
        "# Now find common element \n",
        "cnt=0;\n",
        "for i in l1:\n",
        "    if smallList.get(i) != None: # search happens in constant time.\n",
        "        print(i);\n",
        "        cnt += 1;\n",
        "print(\"Number of common elements:\", cnt)                      "
      ],
      "execution_count": null,
      "outputs": [
        {
          "output_type": "stream",
          "text": [
            "10\n",
            "45\n",
            "47\n",
            "37\n",
            "0\n",
            "35\n",
            "19\n",
            "30\n",
            "11\n",
            "21\n",
            "6\n",
            "12\n",
            "22\n",
            "3\n",
            "1\n",
            "15\n",
            "18\n",
            "2\n",
            "23\n",
            "14\n",
            "49\n",
            "32\n",
            "34\n",
            "8\n",
            "9\n",
            "4\n",
            "27\n",
            "28\n",
            "46\n",
            "40\n",
            "38\n",
            "20\n",
            "41\n",
            "48\n",
            "31\n",
            "39\n",
            "33\n",
            "26\n",
            "13\n",
            "25\n",
            "36\n",
            "7\n",
            "24\n",
            "42\n",
            "17\n",
            "44\n",
            "29\n",
            "5\n",
            "43\n",
            "16\n",
            "Number of common elements: 50\n"
          ],
          "name": "stdout"
        }
      ]
    }
  ]
}